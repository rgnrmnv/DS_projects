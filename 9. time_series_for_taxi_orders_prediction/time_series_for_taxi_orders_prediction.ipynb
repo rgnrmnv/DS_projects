{
 "cells": [
  {
   "cell_type": "markdown",
   "metadata": {
    "toc": true
   },
   "source": [
    "<h1>Содержание<span class=\"tocSkip\"></span></h1>\n",
    "<div class=\"toc\"><ul class=\"toc-item\"><li><span><a href=\"#Импорт-библиотек,-загрузка-и-исследование-данных\" data-toc-modified-id=\"Импорт-библиотек,-загрузка-и-исследование-данных-1\"><span class=\"toc-item-num\">1&nbsp;&nbsp;</span>Импорт библиотек, загрузка и исследование данных</a></span></li><li><span><a href=\"#Анализ\" data-toc-modified-id=\"Анализ-2\"><span class=\"toc-item-num\">2&nbsp;&nbsp;</span>Анализ</a></span><ul class=\"toc-item\"><li><span><a href=\"#Ресемплирование\" data-toc-modified-id=\"Ресемплирование-2.1\"><span class=\"toc-item-num\">2.1&nbsp;&nbsp;</span>Ресемплирование</a></span></li></ul></li><li><span><a href=\"#Обучение\" data-toc-modified-id=\"Обучение-3\"><span class=\"toc-item-num\">3&nbsp;&nbsp;</span>Обучение</a></span><ul class=\"toc-item\"><li><span><a href=\"#Модель-Линейной-регрессии\" data-toc-modified-id=\"Модель-Линейной-регрессии-3.1\"><span class=\"toc-item-num\">3.1&nbsp;&nbsp;</span>Модель Линейной регрессии</a></span></li><li><span><a href=\"#Модель-Случайный-лес\" data-toc-modified-id=\"Модель-Случайный-лес-3.2\"><span class=\"toc-item-num\">3.2&nbsp;&nbsp;</span>Модель Случайный лес</a></span></li><li><span><a href=\"#CatBoostRegressor\" data-toc-modified-id=\"CatBoostRegressor-3.3\"><span class=\"toc-item-num\">3.3&nbsp;&nbsp;</span>CatBoostRegressor</a></span></li></ul></li><li><span><a href=\"#Тестирование\" data-toc-modified-id=\"Тестирование-4\"><span class=\"toc-item-num\">4&nbsp;&nbsp;</span>Тестирование</a></span></li><li><span><a href=\"#Общий-вывод-по-проекту\" data-toc-modified-id=\"Общий-вывод-по-проекту-5\"><span class=\"toc-item-num\">5&nbsp;&nbsp;</span>Общий вывод по проекту</a></span></li></ul></div>"
   ]
  },
  {
   "cell_type": "markdown",
   "metadata": {},
   "source": [
    "#  Проект. Прогнозирование заказов такси"
   ]
  },
  {
   "cell_type": "markdown",
   "metadata": {},
   "source": [
    "**Описание исследования**\n",
    "\n",
    "Компания «Чётенькое такси» собрала исторические данные о заказах такси в аэропортах. Чтобы привлекать больше водителей в период пиковой нагрузки, нужно спрогнозировать количество заказов такси на следующий час. Построить модель для такого предсказания.\n",
    "\n",
    "**Цель исследования**\n",
    "\n",
    "Разработать модель, которая будет прогнозировать количество заказов такси на следующий час.\n",
    "\n",
    "**Исходные данные. Описание данных**\n",
    "\n",
    "Данные находятся в файле: \n",
    "\n",
    "`/datasets/taxi.csv`\n",
    "\n",
    "\n",
    "Признаки:\n",
    "\n",
    "- datetime — дата и время с шагом в 10 минут\n",
    "\n",
    "- num_orders — количество заказов\n",
    "\n",
    "**Условия задачи:** \n",
    "\n",
    "- Для оценки качества моделей применять метрику RMSE.\n",
    "\n",
    "- Значение метрики RMSE на тестовой выборке должно быть не больше 48."
   ]
  },
  {
   "cell_type": "markdown",
   "metadata": {},
   "source": [
    "## Импорт библиотек, загрузка и исследование данных"
   ]
  },
  {
   "cell_type": "code",
   "execution_count": null,
   "metadata": {},
   "outputs": [],
   "source": [
    "!pip install --upgrade -q scikit-learn\n",
    "!pip install -q catboost==1.2.7\n",
    "\n",
    "#ИЛИ\n",
    "# !pip install -r requirements.txt\n",
    "# при необходимости можно запустить данную команду, для установки версий библиотек,\n",
    "#которые использовались при использовании данного проекта\n",
    "# и с которыми не возникали конфликты"
   ]
  },
  {
   "cell_type": "code",
   "execution_count": 2,
   "metadata": {},
   "outputs": [],
   "source": [
    "#импорт библиотек\n",
    "\n",
    "\n",
    "import pandas as pd\n",
    "import numpy as np\n",
    "import seaborn as sns\n",
    "import matplotlib.pyplot as plt\n",
    "\n",
    "from sklearn.ensemble import RandomForestRegressor\n",
    "from sklearn.linear_model import LinearRegression\n",
    "from sklearn.metrics import mean_squared_error\n",
    "from sklearn.model_selection import (RandomizedSearchCV,\n",
    "                                     train_test_split,\n",
    "                                     cross_val_score,\n",
    "                                     TimeSeriesSplit\n",
    "                                    )\n",
    "from statsmodels.tsa.seasonal import seasonal_decompose\n",
    "from catboost import CatBoostRegressor\n",
    "from sklearn.pipeline import Pipeline\n",
    "from time import time\n",
    "\n",
    "import warnings\n",
    "warnings.filterwarnings('ignore')\n",
    "\n",
    "#Импорт констант\n",
    "test_size = 0.1 \n",
    "random_state = 42"
   ]
  },
  {
   "cell_type": "code",
   "execution_count": null,
   "metadata": {},
   "outputs": [
    {
     "data": {
      "text/html": [
       "<div>\n",
       "<style scoped>\n",
       "    .dataframe tbody tr th:only-of-type {\n",
       "        vertical-align: middle;\n",
       "    }\n",
       "\n",
       "    .dataframe tbody tr th {\n",
       "        vertical-align: top;\n",
       "    }\n",
       "\n",
       "    .dataframe thead th {\n",
       "        text-align: right;\n",
       "    }\n",
       "</style>\n",
       "<table border=\"1\" class=\"dataframe\">\n",
       "  <thead>\n",
       "    <tr style=\"text-align: right;\">\n",
       "      <th></th>\n",
       "      <th>num_orders</th>\n",
       "    </tr>\n",
       "    <tr>\n",
       "      <th>datetime</th>\n",
       "      <th></th>\n",
       "    </tr>\n",
       "  </thead>\n",
       "  <tbody>\n",
       "    <tr>\n",
       "      <th>2018-03-01 00:00:00</th>\n",
       "      <td>9</td>\n",
       "    </tr>\n",
       "    <tr>\n",
       "      <th>2018-03-01 00:10:00</th>\n",
       "      <td>14</td>\n",
       "    </tr>\n",
       "    <tr>\n",
       "      <th>2018-03-01 00:20:00</th>\n",
       "      <td>28</td>\n",
       "    </tr>\n",
       "    <tr>\n",
       "      <th>2018-03-01 00:30:00</th>\n",
       "      <td>20</td>\n",
       "    </tr>\n",
       "    <tr>\n",
       "      <th>2018-03-01 00:40:00</th>\n",
       "      <td>32</td>\n",
       "    </tr>\n",
       "  </tbody>\n",
       "</table>\n",
       "</div>"
      ],
      "text/plain": [
       "                     num_orders\n",
       "datetime                       \n",
       "2018-03-01 00:00:00           9\n",
       "2018-03-01 00:10:00          14\n",
       "2018-03-01 00:20:00          28\n",
       "2018-03-01 00:30:00          20\n",
       "2018-03-01 00:40:00          32"
      ]
     },
     "execution_count": 3,
     "metadata": {},
     "output_type": "execute_result"
    }
   ],
   "source": [
    "try:\n",
    "    df = pd.read_csv('/datasets/taxi.csv', index_col=[0], parse_dates=[0])\n",
    "except:\n",
    "    df = pd.read_csv('https://code.s3.yandex.net/datasets/taxi.csv', index_col=[0], parse_dates=[0])\n",
    "\n",
    "df.head()\n"
   ]
  },
  {
   "cell_type": "code",
   "execution_count": 4,
   "metadata": {},
   "outputs": [
    {
     "name": "stdout",
     "output_type": "stream",
     "text": [
      "<class 'pandas.core.frame.DataFrame'>\n",
      "DatetimeIndex: 26496 entries, 2018-03-01 00:00:00 to 2018-08-31 23:50:00\n",
      "Data columns (total 1 columns):\n",
      " #   Column      Non-Null Count  Dtype\n",
      "---  ------      --------------  -----\n",
      " 0   num_orders  26496 non-null  int64\n",
      "dtypes: int64(1)\n",
      "memory usage: 414.0 KB\n"
     ]
    }
   ],
   "source": [
    "df.info()"
   ]
  },
  {
   "cell_type": "code",
   "execution_count": 5,
   "metadata": {},
   "outputs": [
    {
     "name": "stdout",
     "output_type": "stream",
     "text": [
      "Число дублей в датафрейме taxi: 26415\n"
     ]
    }
   ],
   "source": [
    "print('Число дублей в датафрейме taxi:', df.duplicated().sum())"
   ]
  },
  {
   "cell_type": "code",
   "execution_count": 6,
   "metadata": {},
   "outputs": [
    {
     "data": {
      "text/html": [
       "<div>\n",
       "<style scoped>\n",
       "    .dataframe tbody tr th:only-of-type {\n",
       "        vertical-align: middle;\n",
       "    }\n",
       "\n",
       "    .dataframe tbody tr th {\n",
       "        vertical-align: top;\n",
       "    }\n",
       "\n",
       "    .dataframe thead th {\n",
       "        text-align: right;\n",
       "    }\n",
       "</style>\n",
       "<table border=\"1\" class=\"dataframe\">\n",
       "  <thead>\n",
       "    <tr style=\"text-align: right;\">\n",
       "      <th></th>\n",
       "      <th>num_orders</th>\n",
       "    </tr>\n",
       "  </thead>\n",
       "  <tbody>\n",
       "    <tr>\n",
       "      <th>count</th>\n",
       "      <td>26496.000000</td>\n",
       "    </tr>\n",
       "    <tr>\n",
       "      <th>mean</th>\n",
       "      <td>14.070463</td>\n",
       "    </tr>\n",
       "    <tr>\n",
       "      <th>std</th>\n",
       "      <td>9.211330</td>\n",
       "    </tr>\n",
       "    <tr>\n",
       "      <th>min</th>\n",
       "      <td>0.000000</td>\n",
       "    </tr>\n",
       "    <tr>\n",
       "      <th>25%</th>\n",
       "      <td>8.000000</td>\n",
       "    </tr>\n",
       "    <tr>\n",
       "      <th>50%</th>\n",
       "      <td>13.000000</td>\n",
       "    </tr>\n",
       "    <tr>\n",
       "      <th>75%</th>\n",
       "      <td>19.000000</td>\n",
       "    </tr>\n",
       "    <tr>\n",
       "      <th>max</th>\n",
       "      <td>119.000000</td>\n",
       "    </tr>\n",
       "  </tbody>\n",
       "</table>\n",
       "</div>"
      ],
      "text/plain": [
       "         num_orders\n",
       "count  26496.000000\n",
       "mean      14.070463\n",
       "std        9.211330\n",
       "min        0.000000\n",
       "25%        8.000000\n",
       "50%       13.000000\n",
       "75%       19.000000\n",
       "max      119.000000"
      ]
     },
     "execution_count": 6,
     "metadata": {},
     "output_type": "execute_result"
    }
   ],
   "source": [
    "df.describe()"
   ]
  },
  {
   "cell_type": "markdown",
   "metadata": {},
   "source": [
    "При загрузке данных сделаны следующие выводы:\n",
    "\n",
    "-  датасет содержит 26496 записей\n",
    "\n",
    "-  наименования столбцов соответствуют змеиному регистру, переименовывать не потребуется\n",
    "\n",
    "- пропуски отствтуют\n",
    "\n",
    "- явные дубликаты отсутствуют\n",
    "\n",
    "- описательная статистика продемонстировала, что количество заказов в какой-то из дней могло быть 0 (на самом деле сложно представить,но посмотрим далее, является ли это аномалией)\n"
   ]
  },
  {
   "cell_type": "markdown",
   "metadata": {},
   "source": [
    "## Анализ"
   ]
  },
  {
   "cell_type": "markdown",
   "metadata": {},
   "source": [
    "### Ресемплирование"
   ]
  },
  {
   "cell_type": "markdown",
   "metadata": {},
   "source": [
    "Так как по запросу заказчика необходимо спрогнозировать количество заказов в следующий час, а в датасете шаг 10 минут, то необходимо провести ресэмплирование, но предварительно проверим на монотонность:"
   ]
  },
  {
   "cell_type": "code",
   "execution_count": 7,
   "metadata": {},
   "outputs": [
    {
     "data": {
      "text/plain": [
       "True"
      ]
     },
     "execution_count": 7,
     "metadata": {},
     "output_type": "execute_result"
    }
   ],
   "source": [
    "df.index.is_monotonic_increasing"
   ]
  },
  {
   "cell_type": "code",
   "execution_count": 8,
   "metadata": {},
   "outputs": [
    {
     "name": "stdout",
     "output_type": "stream",
     "text": [
      "<class 'pandas.core.frame.DataFrame'>\n",
      "DatetimeIndex: 4416 entries, 2018-03-01 00:00:00 to 2018-08-31 23:00:00\n",
      "Freq: H\n",
      "Data columns (total 1 columns):\n",
      " #   Column      Non-Null Count  Dtype\n",
      "---  ------      --------------  -----\n",
      " 0   num_orders  4416 non-null   int64\n",
      "dtypes: int64(1)\n",
      "memory usage: 69.0 KB\n"
     ]
    }
   ],
   "source": [
    "df = df.resample('1H').sum()\n",
    "df.info()"
   ]
  },
  {
   "cell_type": "markdown",
   "metadata": {},
   "source": [
    "В результате ресемплирования количество записей уменьшилось, так как шаг увеличился."
   ]
  },
  {
   "cell_type": "code",
   "execution_count": 9,
   "metadata": {},
   "outputs": [
    {
     "data": {
      "image/png": "[encoded data removed]",
      "text/plain": [
       "<Figure size 1080x720 with 1 Axes>"
      ]
     },
     "metadata": {
      "needs_background": "light"
     },
     "output_type": "display_data"
    }
   ],
   "source": [
    "df['num_orders'].plot(figsize=(15,10))\n",
    "plt.ylabel('Количество заказов')\n",
    "plt.tight_layout()"
   ]
  },
  {
   "cell_type": "markdown",
   "metadata": {},
   "source": [
    "Так как имеется сильное колебание значений, чтобы сгладить временный ряд, применим скользящее среднее. Его суть заключается в поиске значений, которые меньше всего подвержены колебаниям, то есть средних арифметических.\n",
    "В каждой точке вычисляется среднее значение ряда и тем самым сглаживается.\n",
    "\n",
    "Построим скользящее среднее с количеством окон 168"
   ]
  },
  {
   "cell_type": "code",
   "execution_count": 10,
   "metadata": {},
   "outputs": [
    {
     "data": {
      "image/png": "[encoded data removed]",
      "text/plain": [
       "<Figure size 1080x720 with 1 Axes>"
      ]
     },
     "metadata": {
      "needs_background": "light"
     },
     "output_type": "display_data"
    }
   ],
   "source": [
    "# Строим график количества заказов и скользящего среднего\n",
    "fig, ax = plt.subplots(figsize=(15, 10))\n",
    "\n",
    "df['num_orders'].plot(ax=ax, label='Количество заказов')\n",
    "df['num_orders'].rolling(168).mean().plot(ax=ax, label='Скользящее среднее')\n",
    "\n",
    "plt.xlabel('Дата')\n",
    "plt.ylabel('Количество заказов')\n",
    "plt.title('График количества заказов и скользящего среднего')\n",
    "plt.legend()\n",
    "plt.tight_layout()\n",
    "plt.show()"
   ]
  },
  {
   "cell_type": "markdown",
   "metadata": {},
   "source": [
    "Такой график говорит о колебаниях данных, а благодаря скользящему среднему мы можем уже увидеть предварительно тренд. Проведем исследование сезонности, трендов."
   ]
  },
  {
   "cell_type": "code",
   "execution_count": 11,
   "metadata": {},
   "outputs": [],
   "source": [
    "decomposed = seasonal_decompose(df)"
   ]
  },
  {
   "cell_type": "code",
   "execution_count": 12,
   "metadata": {},
   "outputs": [
    {
     "data": {
      "image/png": "[encoded data removed]",
      "text/plain": [
       "<Figure size 1080x720 with 1 Axes>"
      ]
     },
     "metadata": {
      "needs_background": "light"
     },
     "output_type": "display_data"
    }
   ],
   "source": [
    "plt.figure(figsize=(15, 10))\n",
    "plt.subplot(311)\n",
    "decomposed.trend.plot(color='brown', ax=plt.gca())  \n",
    "plt.xlabel('Дата')\n",
    "plt.ylabel('Количество заказов')\n",
    "plt.title('Изучение тренда для графика')\n",
    "plt.legend()\n",
    "plt.tight_layout()\n",
    "plt.show()"
   ]
  },
  {
   "cell_type": "markdown",
   "metadata": {},
   "source": [
    "Можем наблюдать восходящий тренд к летним месяцам. Это связано с тем, что многие жители городов и туристы выходят в отпуск и ездят в  аэропорты и из них.\n",
    "\n",
    "Тренд мы можем рассмотреть в разрезе одного года, если у нас будут получены данные о нескольких годах, то закономерный рост заказов будет говорить о сезонности.\n"
   ]
  },
  {
   "cell_type": "code",
   "execution_count": 13,
   "metadata": {},
   "outputs": [
    {
     "data": {
      "image/png": "[encoded data removed]",
      "text/plain": [
       "<Figure size 1080x720 with 1 Axes>"
      ]
     },
     "metadata": {
      "needs_background": "light"
     },
     "output_type": "display_data"
    }
   ],
   "source": [
    "plt.figure(figsize=(15, 10))\n",
    "decomposed.seasonal.plot(color='cadetblue', ax=plt.gca())  \n",
    "plt.xlabel('Дата')\n",
    "plt.ylabel('Количество заказов')\n",
    "plt.title('График изучения сезонности заказов в такси')\n",
    "plt.legend()\n",
    "plt.tight_layout()\n",
    "plt.show()"
   ]
  },
  {
   "cell_type": "markdown",
   "metadata": {},
   "source": [
    "График выглядит неинформативным из-за масштаба, потому считаю необходимым рассмотреть данный график в разрезе каких-либо периодов. Например, в течение месяца или дня."
   ]
  },
  {
   "cell_type": "code",
   "execution_count": 14,
   "metadata": {},
   "outputs": [
    {
     "data": {
      "image/png": "[encoded data removed]",
      "text/plain": [
       "<Figure size 1080x720 with 1 Axes>"
      ]
     },
     "metadata": {
      "needs_background": "light"
     },
     "output_type": "display_data"
    }
   ],
   "source": [
    "plt.figure(figsize=(15, 10))\n",
    "plt.subplot(311)\n",
    "decomposed.resid.plot(color='pink', ax=plt.gca())  \n",
    "plt.xlabel('Дата')\n",
    "plt.ylabel('Количество заказов')\n",
    "plt.title('Шумы')\n",
    "plt.legend()\n",
    "plt.tight_layout()\n",
    "plt.show()"
   ]
  },
  {
   "cell_type": "code",
   "execution_count": 15,
   "metadata": {},
   "outputs": [
    {
     "data": {
      "image/png": "[encoded data removed]",
      "text/plain": [
       "<Figure size 1080x720 with 1 Axes>"
      ]
     },
     "metadata": {
      "needs_background": "light"
     },
     "output_type": "display_data"
    }
   ],
   "source": [
    "#изучим тренд в течение месяца\n",
    "\n",
    "plt.figure(figsize=(15, 10))\n",
    "\n",
    "plt.subplot(311)\n",
    "decomposed.trend['2018-04-13':'2018-05-13'].plot(ax=plt.gca(), color ='black')\n",
    "plt.title('Тренд в течение месяца') # за месяц\n",
    "plt.xlabel('Дата')\n",
    "plt.ylabel('Количество заказов')\n",
    "plt.tight_layout()"
   ]
  },
  {
   "cell_type": "code",
   "execution_count": 16,
   "metadata": {},
   "outputs": [
    {
     "data": {
      "image/png": "[encoded data removed]",
      "text/plain": [
       "<Figure size 1080x720 with 1 Axes>"
      ]
     },
     "metadata": {
      "needs_background": "light"
     },
     "output_type": "display_data"
    }
   ],
   "source": [
    "plt.figure(figsize=(15, 10))\n",
    "plt.subplot(312)\n",
    "\n",
    "decomposed.seasonal['2018-08-14':'2018-08-15'].plot(ax=plt.gca(), color= 'green')\n",
    "plt.title('Сезонность в течение дня') # в течение дня\n",
    "plt.xlabel('Дата')\n",
    "plt.ylabel('Количество заказов')\n",
    "plt.tight_layout()"
   ]
  },
  {
   "cell_type": "markdown",
   "metadata": {},
   "source": [
    "На графике сезонности можно увидеть, как падает количество заказов в утренние часы (06:00), и как растет количество заказов  в вечерние часы (с 18:00)."
   ]
  },
  {
   "cell_type": "markdown",
   "metadata": {},
   "source": [
    "Для дальнейшего исследования необходимо перевести временный ряд в стационарный."
   ]
  },
  {
   "cell_type": "markdown",
   "metadata": {},
   "source": [
    "## Обучение"
   ]
  },
  {
   "cell_type": "code",
   "execution_count": 17,
   "metadata": {},
   "outputs": [],
   "source": [
    "def make_features(df, max_lag, rolling_mean_size):\n",
    "   \n",
    "    data_copy = df.copy(deep=True)\n",
    "    data_copy['month'] = data_copy.index.month\n",
    "    data_copy['day'] = data_copy.index.day\n",
    "    data_copy['dayofweek'] = data_copy.index.dayofweek\n",
    "    data_copy['hour'] = data_copy.index.hour\n",
    "\n",
    "    for lag in range(1, max_lag + 1):\n",
    "        data_copy['lag_{}'.format(lag)] = data_copy['num_orders'].shift(lag)\n",
    "\n",
    "    data_copy['rolling_mean'] = data_copy['num_orders'].shift().rolling(rolling_mean_size).mean()\n",
    "    data_copy.dropna(inplace=True)\n",
    "\n",
    "    return data_copy"
   ]
  },
  {
   "cell_type": "code",
   "execution_count": 18,
   "metadata": {},
   "outputs": [],
   "source": [
    "df_feat = make_features(df, 24, 168) #для улучшения качества модели будем выбирать лаг 24, а rolling_mean 168\n",
    "#что соответствует 24 часам и 168 ч. в неделю"
   ]
  },
  {
   "cell_type": "markdown",
   "metadata": {},
   "source": [
    "Проведем обучение с помощью модели Линейной регрессии, случайного леса и градиентного бустинга с использованием библиотеки CatBoost"
   ]
  },
  {
   "cell_type": "code",
   "execution_count": 19,
   "metadata": {},
   "outputs": [
    {
     "data": {
      "text/plain": [
       "(4248, 30)"
      ]
     },
     "execution_count": 19,
     "metadata": {},
     "output_type": "execute_result"
    }
   ],
   "source": [
    "df_feat.shape"
   ]
  },
  {
   "cell_type": "code",
   "execution_count": 20,
   "metadata": {},
   "outputs": [
    {
     "data": {
      "text/html": [
       "<div>\n",
       "<style scoped>\n",
       "    .dataframe tbody tr th:only-of-type {\n",
       "        vertical-align: middle;\n",
       "    }\n",
       "\n",
       "    .dataframe tbody tr th {\n",
       "        vertical-align: top;\n",
       "    }\n",
       "\n",
       "    .dataframe thead th {\n",
       "        text-align: right;\n",
       "    }\n",
       "</style>\n",
       "<table border=\"1\" class=\"dataframe\">\n",
       "  <thead>\n",
       "    <tr style=\"text-align: right;\">\n",
       "      <th></th>\n",
       "      <th>num_orders</th>\n",
       "      <th>month</th>\n",
       "      <th>day</th>\n",
       "      <th>dayofweek</th>\n",
       "      <th>hour</th>\n",
       "      <th>lag_1</th>\n",
       "      <th>lag_2</th>\n",
       "      <th>lag_3</th>\n",
       "      <th>lag_4</th>\n",
       "      <th>lag_5</th>\n",
       "      <th>...</th>\n",
       "      <th>lag_16</th>\n",
       "      <th>lag_17</th>\n",
       "      <th>lag_18</th>\n",
       "      <th>lag_19</th>\n",
       "      <th>lag_20</th>\n",
       "      <th>lag_21</th>\n",
       "      <th>lag_22</th>\n",
       "      <th>lag_23</th>\n",
       "      <th>lag_24</th>\n",
       "      <th>rolling_mean</th>\n",
       "    </tr>\n",
       "    <tr>\n",
       "      <th>datetime</th>\n",
       "      <th></th>\n",
       "      <th></th>\n",
       "      <th></th>\n",
       "      <th></th>\n",
       "      <th></th>\n",
       "      <th></th>\n",
       "      <th></th>\n",
       "      <th></th>\n",
       "      <th></th>\n",
       "      <th></th>\n",
       "      <th></th>\n",
       "      <th></th>\n",
       "      <th></th>\n",
       "      <th></th>\n",
       "      <th></th>\n",
       "      <th></th>\n",
       "      <th></th>\n",
       "      <th></th>\n",
       "      <th></th>\n",
       "      <th></th>\n",
       "      <th></th>\n",
       "    </tr>\n",
       "  </thead>\n",
       "  <tbody>\n",
       "    <tr>\n",
       "      <th>2018-08-31 19:00:00</th>\n",
       "      <td>136</td>\n",
       "      <td>8</td>\n",
       "      <td>31</td>\n",
       "      <td>4</td>\n",
       "      <td>19</td>\n",
       "      <td>207.0</td>\n",
       "      <td>217.0</td>\n",
       "      <td>197.0</td>\n",
       "      <td>116.0</td>\n",
       "      <td>133.0</td>\n",
       "      <td>...</td>\n",
       "      <td>99.0</td>\n",
       "      <td>230.0</td>\n",
       "      <td>194.0</td>\n",
       "      <td>276.0</td>\n",
       "      <td>246.0</td>\n",
       "      <td>158.0</td>\n",
       "      <td>198.0</td>\n",
       "      <td>142.0</td>\n",
       "      <td>72.0</td>\n",
       "      <td>154.297619</td>\n",
       "    </tr>\n",
       "    <tr>\n",
       "      <th>2018-08-31 20:00:00</th>\n",
       "      <td>154</td>\n",
       "      <td>8</td>\n",
       "      <td>31</td>\n",
       "      <td>4</td>\n",
       "      <td>20</td>\n",
       "      <td>136.0</td>\n",
       "      <td>207.0</td>\n",
       "      <td>217.0</td>\n",
       "      <td>197.0</td>\n",
       "      <td>116.0</td>\n",
       "      <td>...</td>\n",
       "      <td>268.0</td>\n",
       "      <td>99.0</td>\n",
       "      <td>230.0</td>\n",
       "      <td>194.0</td>\n",
       "      <td>276.0</td>\n",
       "      <td>246.0</td>\n",
       "      <td>158.0</td>\n",
       "      <td>198.0</td>\n",
       "      <td>142.0</td>\n",
       "      <td>154.434524</td>\n",
       "    </tr>\n",
       "    <tr>\n",
       "      <th>2018-08-31 21:00:00</th>\n",
       "      <td>159</td>\n",
       "      <td>8</td>\n",
       "      <td>31</td>\n",
       "      <td>4</td>\n",
       "      <td>21</td>\n",
       "      <td>154.0</td>\n",
       "      <td>136.0</td>\n",
       "      <td>207.0</td>\n",
       "      <td>217.0</td>\n",
       "      <td>197.0</td>\n",
       "      <td>...</td>\n",
       "      <td>78.0</td>\n",
       "      <td>268.0</td>\n",
       "      <td>99.0</td>\n",
       "      <td>230.0</td>\n",
       "      <td>194.0</td>\n",
       "      <td>276.0</td>\n",
       "      <td>246.0</td>\n",
       "      <td>158.0</td>\n",
       "      <td>198.0</td>\n",
       "      <td>154.285714</td>\n",
       "    </tr>\n",
       "    <tr>\n",
       "      <th>2018-08-31 22:00:00</th>\n",
       "      <td>223</td>\n",
       "      <td>8</td>\n",
       "      <td>31</td>\n",
       "      <td>4</td>\n",
       "      <td>22</td>\n",
       "      <td>159.0</td>\n",
       "      <td>154.0</td>\n",
       "      <td>136.0</td>\n",
       "      <td>207.0</td>\n",
       "      <td>217.0</td>\n",
       "      <td>...</td>\n",
       "      <td>35.0</td>\n",
       "      <td>78.0</td>\n",
       "      <td>268.0</td>\n",
       "      <td>99.0</td>\n",
       "      <td>230.0</td>\n",
       "      <td>194.0</td>\n",
       "      <td>276.0</td>\n",
       "      <td>246.0</td>\n",
       "      <td>158.0</td>\n",
       "      <td>154.244048</td>\n",
       "    </tr>\n",
       "    <tr>\n",
       "      <th>2018-08-31 23:00:00</th>\n",
       "      <td>205</td>\n",
       "      <td>8</td>\n",
       "      <td>31</td>\n",
       "      <td>4</td>\n",
       "      <td>23</td>\n",
       "      <td>223.0</td>\n",
       "      <td>159.0</td>\n",
       "      <td>154.0</td>\n",
       "      <td>136.0</td>\n",
       "      <td>207.0</td>\n",
       "      <td>...</td>\n",
       "      <td>46.0</td>\n",
       "      <td>35.0</td>\n",
       "      <td>78.0</td>\n",
       "      <td>268.0</td>\n",
       "      <td>99.0</td>\n",
       "      <td>230.0</td>\n",
       "      <td>194.0</td>\n",
       "      <td>276.0</td>\n",
       "      <td>246.0</td>\n",
       "      <td>154.130952</td>\n",
       "    </tr>\n",
       "  </tbody>\n",
       "</table>\n",
       "<p>5 rows × 30 columns</p>\n",
       "</div>"
      ],
      "text/plain": [
       "                     num_orders  month  day  dayofweek  hour  lag_1  lag_2  \\\n",
       "datetime                                                                     \n",
       "2018-08-31 19:00:00         136      8   31          4    19  207.0  217.0   \n",
       "2018-08-31 20:00:00         154      8   31          4    20  136.0  207.0   \n",
       "2018-08-31 21:00:00         159      8   31          4    21  154.0  136.0   \n",
       "2018-08-31 22:00:00         223      8   31          4    22  159.0  154.0   \n",
       "2018-08-31 23:00:00         205      8   31          4    23  223.0  159.0   \n",
       "\n",
       "                     lag_3  lag_4  lag_5  ...  lag_16  lag_17  lag_18  lag_19  \\\n",
       "datetime                                  ...                                   \n",
       "2018-08-31 19:00:00  197.0  116.0  133.0  ...    99.0   230.0   194.0   276.0   \n",
       "2018-08-31 20:00:00  217.0  197.0  116.0  ...   268.0    99.0   230.0   194.0   \n",
       "2018-08-31 21:00:00  207.0  217.0  197.0  ...    78.0   268.0    99.0   230.0   \n",
       "2018-08-31 22:00:00  136.0  207.0  217.0  ...    35.0    78.0   268.0    99.0   \n",
       "2018-08-31 23:00:00  154.0  136.0  207.0  ...    46.0    35.0    78.0   268.0   \n",
       "\n",
       "                     lag_20  lag_21  lag_22  lag_23  lag_24  rolling_mean  \n",
       "datetime                                                                   \n",
       "2018-08-31 19:00:00   246.0   158.0   198.0   142.0    72.0    154.297619  \n",
       "2018-08-31 20:00:00   276.0   246.0   158.0   198.0   142.0    154.434524  \n",
       "2018-08-31 21:00:00   194.0   276.0   246.0   158.0   198.0    154.285714  \n",
       "2018-08-31 22:00:00   230.0   194.0   276.0   246.0   158.0    154.244048  \n",
       "2018-08-31 23:00:00    99.0   230.0   194.0   276.0   246.0    154.130952  \n",
       "\n",
       "[5 rows x 30 columns]"
      ]
     },
     "execution_count": 20,
     "metadata": {},
     "output_type": "execute_result"
    }
   ],
   "source": [
    "df_feat.tail()"
   ]
  },
  {
   "cell_type": "code",
   "execution_count": 21,
   "metadata": {},
   "outputs": [
    {
     "data": {
      "text/plain": [
       "(4248, 29)"
      ]
     },
     "execution_count": 21,
     "metadata": {},
     "output_type": "execute_result"
    }
   ],
   "source": [
    "#Проведем разделение на тестовую и тренировочную выборки\n",
    "\n",
    "# Выделение целевого признака и разделение выборки:\n",
    "X = df_feat.drop('num_orders', axis=1)\n",
    "y = df_feat['num_orders']\n",
    "\n",
    "# Разбиваем выборку на тренировочную и тестовую\n",
    "X_train, X_test, y_train, y_test = train_test_split(\n",
    "    X,\n",
    "    y,\n",
    "    shuffle=False,\n",
    "    test_size=test_size,\n",
    "    random_state=random_state)\n",
    "\n",
    "X.shape #всё ли в порядке в процессе разделения"
   ]
  },
  {
   "cell_type": "markdown",
   "metadata": {},
   "source": [
    "### Модель Линейной регрессии"
   ]
  },
  {
   "cell_type": "code",
   "execution_count": 22,
   "metadata": {},
   "outputs": [
    {
     "name": "stdout",
     "output_type": "stream",
     "text": [
      "RMSE на кросс-валидации: 26.67743174546244\n",
      "CPU times: user 893 ms, sys: 1.04 s, total: 1.94 s\n",
      "Wall time: 3.81 s\n"
     ]
    }
   ],
   "source": [
    "%%time\n",
    "start_l = time()\n",
    "\n",
    "lr = LinearRegression()\n",
    "lr.fit(X_train, y_train)\n",
    "cv = TimeSeriesSplit(n_splits=10) #Разделили временный ряд на 10 подмножеств\n",
    "\n",
    "scores = cross_val_score(\n",
    "    lr,\n",
    "    X_train,\n",
    "    y_train,\n",
    "    cv=cv,\n",
    "    n_jobs=-1,\n",
    "    scoring='neg_root_mean_squared_error'\n",
    ")\n",
    "\n",
    "rmse_lr = (-1) * (sum(scores) / len(scores))\n",
    "print(f'RMSE на кросс-валидации: {rmse_lr}')\n",
    "\n",
    "end_l = time()\n",
    "time_linear_ed = (end_l-start_l)/60\n"
   ]
  },
  {
   "cell_type": "markdown",
   "metadata": {},
   "source": [
    "### Модель Случайный лес"
   ]
  },
  {
   "cell_type": "code",
   "execution_count": 23,
   "metadata": {},
   "outputs": [
    {
     "name": "stdout",
     "output_type": "stream",
     "text": [
      "Лучшая модель: \n",
      " Pipeline(steps=[('models',\n",
      "                 RandomForestRegressor(max_depth=6, min_samples_leaf=15,\n",
      "                                       n_estimators=85, random_state=42))])\n",
      "RMSE на кросс-валидации 25.728388655705878\n",
      "CPU times: user 1min 52s, sys: 409 ms, total: 1min 53s\n",
      "Wall time: 11min 24s\n"
     ]
    }
   ],
   "source": [
    "%%time\n",
    "start_t = time()\n",
    "\n",
    "pipe_rf = Pipeline([\n",
    "    ('models', RandomForestRegressor(random_state=random_state))\n",
    "])\n",
    "\n",
    "tree_par = {\n",
    "    'models': [RandomForestRegressor(random_state=random_state)],\n",
    "    'models__n_estimators': range(50, 100, 5),\n",
    "    'models__max_depth': range(3, 8),\n",
    "    'models__min_samples_leaf': range(5, 50, 5),\n",
    "}\n",
    "\n",
    "tree = RandomizedSearchCV(\n",
    "    pipe_rf,\n",
    "    tree_par,\n",
    "    scoring='neg_root_mean_squared_error',\n",
    "    n_jobs=-1,\n",
    "    n_iter=10,\n",
    "    cv=cv,\n",
    "    verbose=0,\n",
    "    random_state=random_state,\n",
    ")\n",
    "\n",
    "tree.fit(X_train, y_train)\n",
    "\n",
    "# выведите лучшие гиперпараметры\n",
    "print('Лучшая модель: \\n', tree.best_estimator_)\n",
    "# выведите лучшую метрику качества\n",
    "print('RMSE на кросс-валидации', (-1) * tree.best_score_)\n",
    "\n",
    "end_t=time()\n",
    "\n",
    "time_random_ed = (end_t - start_t)/60"
   ]
  },
  {
   "cell_type": "markdown",
   "metadata": {},
   "source": [
    "### CatBoostRegressor"
   ]
  },
  {
   "cell_type": "code",
   "execution_count": 24,
   "metadata": {},
   "outputs": [
    {
     "data": {
      "text/plain": [
       "<catboost.core.CatBoostRegressor at 0x7f52f620d4c0>"
      ]
     },
     "execution_count": 24,
     "metadata": {},
     "output_type": "execute_result"
    }
   ],
   "source": [
    "\n",
    "catboost_reg = CatBoostRegressor(random_state=random_state,cat_features = None, verbose=False)\n",
    "catboost_reg.fit(X_train, y_train)\n",
    " "
   ]
  },
  {
   "cell_type": "code",
   "execution_count": 25,
   "metadata": {},
   "outputs": [
    {
     "name": "stdout",
     "output_type": "stream",
     "text": [
      "RMSE на кросс-валидации : 23.40364507879556\n",
      "CPU times: user 1min 9s, sys: 1.72 s, total: 1min 11s\n",
      "Wall time: 9min 16s\n"
     ]
    }
   ],
   "source": [
    "%%time\n",
    "start_cb_ed = time()\n",
    "\n",
    "cb_scores = cross_val_score(\n",
    "    catboost_reg,\n",
    "    X_train,\n",
    "    y_train,\n",
    "    cv=cv,\n",
    "    n_jobs=-1,\n",
    "    scoring='neg_root_mean_squared_error'\n",
    ")\n",
    "\n",
    "cv_catboost = sum(cb_scores) / len(cb_scores)\n",
    "print('RMSE на кросс-валидации :', (-1) * cv_catboost)\n",
    "\n",
    "end_cb_ed = time()\n",
    "\n",
    "time_cb_ed = (end_cb_ed  - start_cb_ed)/60    "
   ]
  },
  {
   "cell_type": "code",
   "execution_count": 26,
   "metadata": {},
   "outputs": [
    {
     "data": {
      "text/html": [
       "<div>\n",
       "<style scoped>\n",
       "    .dataframe tbody tr th:only-of-type {\n",
       "        vertical-align: middle;\n",
       "    }\n",
       "\n",
       "    .dataframe tbody tr th {\n",
       "        vertical-align: top;\n",
       "    }\n",
       "\n",
       "    .dataframe thead th {\n",
       "        text-align: right;\n",
       "    }\n",
       "</style>\n",
       "<table border=\"1\" class=\"dataframe\">\n",
       "  <thead>\n",
       "    <tr style=\"text-align: right;\">\n",
       "      <th></th>\n",
       "      <th>Модель</th>\n",
       "      <th>Время предсказания</th>\n",
       "      <th>RMSE на кросс-валидации</th>\n",
       "    </tr>\n",
       "  </thead>\n",
       "  <tbody>\n",
       "    <tr>\n",
       "      <th>0</th>\n",
       "      <td>LinearRegression</td>\n",
       "      <td>0.063416</td>\n",
       "      <td>26.67</td>\n",
       "    </tr>\n",
       "    <tr>\n",
       "      <th>1</th>\n",
       "      <td>CatBoostRegressor</td>\n",
       "      <td>9.278287</td>\n",
       "      <td>23.40</td>\n",
       "    </tr>\n",
       "    <tr>\n",
       "      <th>2</th>\n",
       "      <td>RandomForestRegressor</td>\n",
       "      <td>11.404806</td>\n",
       "      <td>25.73</td>\n",
       "    </tr>\n",
       "  </tbody>\n",
       "</table>\n",
       "</div>"
      ],
      "text/plain": [
       "                  Модель  Время предсказания  RMSE на кросс-валидации\n",
       "0       LinearRegression            0.063416                    26.67\n",
       "1      CatBoostRegressor            9.278287                    23.40\n",
       "2  RandomForestRegressor           11.404806                    25.73"
      ]
     },
     "execution_count": 26,
     "metadata": {},
     "output_type": "execute_result"
    }
   ],
   "source": [
    "#Создадим объединенную таблицу, куда внесём данные по исследуемым моделям:\n",
    "time_to_choose = {\n",
    "    'Модель': ['LinearRegression', 'CatBoostRegressor', 'RandomForestRegressor'],\n",
    "    'Время предсказания': [time_linear_ed, time_cb_ed, time_random_ed],\n",
    "    'RMSE на кросс-валидации': [26.67, 23.40, 25.73]\n",
    "}\n",
    "\n",
    "top_list = pd.DataFrame(time_to_choose)\n",
    "top_list"
   ]
  },
  {
   "cell_type": "markdown",
   "metadata": {},
   "source": [
    "**Вывод по обучению моделей:**\n",
    "\n",
    "1) Модель линейной регрессии хоть и обучает быстро, но её значение метрики самое высокое.\n",
    "\n",
    "2) Поэтому, если рассматривать модели, прошедшие порог метрики, то из них лучше всего выбрать модель CatBoostRegressor, так как она быстро предсказывает и ошибается на меньшее число заказов, но нужно проверить, как она справится на тестовой выборке:\n",
    "\n"
   ]
  },
  {
   "cell_type": "markdown",
   "metadata": {},
   "source": [
    "## Тестирование"
   ]
  },
  {
   "cell_type": "code",
   "execution_count": 27,
   "metadata": {
    "scrolled": true
   },
   "outputs": [
    {
     "name": "stdout",
     "output_type": "stream",
     "text": [
      "RMSE на тестовой выборке: 40.42601210438084\n",
      "CPU times: user 2.66 ms, sys: 4.01 ms, total: 6.67 ms\n",
      "Wall time: 6.86 ms\n"
     ]
    }
   ],
   "source": [
    "%%time\n",
    "start_cb=time()\n",
    "# Применим выбранную модель к тестовой выборке:\n",
    "y_pred_cat = catboost_reg.predict(X_test)\n",
    "mse = mean_squared_error(y_test, y_pred_cat)\n",
    "rmse = mse ** 0.5  # Расчет метрик\n",
    "print('RMSE на тестовой выборке:', rmse)\n",
    "end_cb= time()\n",
    "\n",
    "time_cb=(end_cb  - start_cb)/60 "
   ]
  },
  {
   "cell_type": "markdown",
   "metadata": {},
   "source": [
    "Таким образом, можно сделать вывод, что выбор модели CatBoostRegressor является верным, так как модель не только показала хорошее значение метрики RMSE (40,42), но и очень быстро сделала предсказание, что удовлетворит требованиям заказчика.\n",
    "\n",
    "\n",
    "\n"
   ]
  },
  {
   "cell_type": "markdown",
   "metadata": {},
   "source": [
    "## Общий вывод по проекту\n",
    "\n",
    "При загрузке данных сделаны следующие выводы:\n",
    "\n",
    "- датасет содержит 26496 записей\n",
    "\n",
    "- наименования столбцов соответствуют змеиному регистру, переименовывать не потребуется\n",
    "\n",
    "- пропуски отсутствуют\n",
    "\n",
    "- явные дубликаты отсутствуют\n",
    "\n",
    "- описательная статистика продемонстрировала, что количество заказов в какой-то из дней могло быть 0 (на самом деле сложно представить, но посмотрим далее, является ли это аномалией)\n",
    "\n",
    "Так как по запросу заказчика необходимо спрогнозировать количество заказов в следующий час, а в датасете шаг 10 минут, то необходимо было провести ресемплирование, но предварительно проверили на монотонность.\n",
    "Провели семплирование на 1 час, \n",
    "Так как имеется сильное колебание значений, чтобы сгладить временный ряд, применим скользящее среднее. Его суть заключается в поиске значений, которые меньше всего подвержены колебаниям, то есть средних арифметических. В каждой точке вычисляется среднее значение ряда и тем самым сглаживается.\n",
    "\n",
    "Построили скользящее среднее с количеством окон 168\n",
    "В графике наблюдались колебаниях данных, а благодаря скользящему среднему мы увидели предварительно тренд. Провелиисследование сезонности, трендов.\n",
    "Можем наблюдать восходящий тренд к летним месяцам. Это связано с тем, что многие жители городов и туристы выходят в отпуск и ездят в аэропорты и из них.\n",
    "\n",
    "На графике сезонности увидели, как падает количество заказов в утренние часы (06:00), и как растет количество заказов в вечерние часы (с 18:00).\n",
    "\n",
    "Для дальнейшего исследования необходимо было перевести временный ряд в стационарный.\n",
    "Провели обучение с помощью модели Линейной регрессии, случайного леса и градиентного бустинга с использованием библиотеки CatBoostRegressor\n",
    "\n",
    "**Вывод по обучению моделей:**\n",
    "\n",
    "1) Модель линейной регрессии хоть и обучает быстро, но её значение метрики RMSE не удовлетворяет требованиям заказчика.\n",
    "\n",
    "2) Поэтому, если рассматривать модели, прошедшие порог метрики, то из них лучше всего выбрать модель CatBoostRegressor, так как она быстро предсказывает и ошибается на меньшее число заказов, но нужно проверить, как она справится на тестовой выборке:\n",
    "\n",
    "Таким образом, можно сделать вывод, что выбор модели CatBoostRegressor является верным, так как модель не только показала хорошее значение метрики RMSE (40,42), но и очень быстро сделала предсказание, что удовлетворит требованиям заказчика."
   ]
  }
 ],
 "metadata": {
  "ExecuteTimeLog": [
   {
    "duration": 43,
    "start_time": "2024-12-22T00:28:43.066Z"
   },
   {
    "duration": 1373,
    "start_time": "2024-12-22T00:28:46.585Z"
   },
   {
    "duration": 354,
    "start_time": "2024-12-22T00:28:48.936Z"
   },
   {
    "duration": 9846,
    "start_time": "2024-12-22T00:29:09.600Z"
   },
   {
    "duration": 37,
    "start_time": "2024-12-22T00:29:25.560Z"
   },
   {
    "duration": 47,
    "start_time": "2024-12-22T00:29:33.608Z"
   },
   {
    "duration": 51,
    "start_time": "2024-12-22T00:30:02.928Z"
   },
   {
    "duration": 44,
    "start_time": "2024-12-22T00:30:10.672Z"
   },
   {
    "duration": 11,
    "start_time": "2024-12-22T00:30:11.064Z"
   },
   {
    "duration": 10,
    "start_time": "2024-12-22T00:37:39.942Z"
   },
   {
    "duration": 11,
    "start_time": "2024-12-22T00:42:15.060Z"
   },
   {
    "duration": 11,
    "start_time": "2024-12-22T00:42:28.020Z"
   },
   {
    "duration": 3,
    "start_time": "2024-12-22T00:50:10.596Z"
   },
   {
    "duration": 3,
    "start_time": "2024-12-22T00:51:25.386Z"
   },
   {
    "duration": 21,
    "start_time": "2024-12-22T00:51:33.305Z"
   },
   {
    "duration": 44,
    "start_time": "2024-12-22T01:05:16.041Z"
   },
   {
    "duration": 10,
    "start_time": "2024-12-22T01:05:17.574Z"
   },
   {
    "duration": 11,
    "start_time": "2024-12-22T01:05:19.298Z"
   },
   {
    "duration": 10,
    "start_time": "2024-12-22T01:05:22.185Z"
   },
   {
    "duration": 1126,
    "start_time": "2024-12-22T01:07:58.088Z"
   },
   {
    "duration": 8,
    "start_time": "2024-12-22T01:08:14.681Z"
   },
   {
    "duration": 4,
    "start_time": "2024-12-22T01:08:18.144Z"
   },
   {
    "duration": 11,
    "start_time": "2024-12-22T01:08:19.796Z"
   },
   {
    "duration": 5725,
    "start_time": "2024-12-22T01:08:33.086Z"
   },
   {
    "duration": 1629,
    "start_time": "2024-12-22T01:08:38.813Z"
   },
   {
    "duration": 51,
    "start_time": "2024-12-22T01:08:40.443Z"
   },
   {
    "duration": 10,
    "start_time": "2024-12-22T01:08:40.495Z"
   },
   {
    "duration": 11,
    "start_time": "2024-12-22T01:08:40.506Z"
   },
   {
    "duration": 10,
    "start_time": "2024-12-22T01:08:40.518Z"
   },
   {
    "duration": 7,
    "start_time": "2024-12-22T01:08:40.530Z"
   },
   {
    "duration": 7,
    "start_time": "2024-12-22T01:08:40.539Z"
   },
   {
    "duration": 119,
    "start_time": "2024-12-22T01:08:40.548Z"
   },
   {
    "duration": 10,
    "start_time": "2024-12-22T01:09:07.872Z"
   },
   {
    "duration": 13,
    "start_time": "2024-12-22T01:10:56.623Z"
   },
   {
    "duration": 5671,
    "start_time": "2024-12-22T01:11:10.470Z"
   },
   {
    "duration": 1283,
    "start_time": "2024-12-22T01:11:16.143Z"
   },
   {
    "duration": 49,
    "start_time": "2024-12-22T01:11:17.427Z"
   },
   {
    "duration": 10,
    "start_time": "2024-12-22T01:11:17.479Z"
   },
   {
    "duration": 12,
    "start_time": "2024-12-22T01:11:17.491Z"
   },
   {
    "duration": 10,
    "start_time": "2024-12-22T01:11:17.505Z"
   },
   {
    "duration": 20,
    "start_time": "2024-12-22T01:11:17.516Z"
   },
   {
    "duration": 15,
    "start_time": "2024-12-22T01:11:17.537Z"
   },
   {
    "duration": 3,
    "start_time": "2024-12-22T01:11:17.554Z"
   },
   {
    "duration": 7,
    "start_time": "2024-12-22T01:11:17.559Z"
   },
   {
    "duration": 11,
    "start_time": "2024-12-22T01:19:56.623Z"
   },
   {
    "duration": 198,
    "start_time": "2024-12-22T01:22:30.081Z"
   },
   {
    "duration": 257,
    "start_time": "2024-12-22T01:26:50.912Z"
   },
   {
    "duration": 207,
    "start_time": "2024-12-22T01:30:14.069Z"
   },
   {
    "duration": 5568,
    "start_time": "2024-12-22T01:30:20.212Z"
   },
   {
    "duration": 1243,
    "start_time": "2024-12-22T01:30:25.783Z"
   },
   {
    "duration": 49,
    "start_time": "2024-12-22T01:30:27.027Z"
   },
   {
    "duration": 11,
    "start_time": "2024-12-22T01:30:27.078Z"
   },
   {
    "duration": 12,
    "start_time": "2024-12-22T01:30:27.090Z"
   },
   {
    "duration": 11,
    "start_time": "2024-12-22T01:30:27.103Z"
   },
   {
    "duration": 8,
    "start_time": "2024-12-22T01:30:27.115Z"
   },
   {
    "duration": 22,
    "start_time": "2024-12-22T01:30:27.125Z"
   },
   {
    "duration": 3,
    "start_time": "2024-12-22T01:30:27.148Z"
   },
   {
    "duration": 12,
    "start_time": "2024-12-22T01:30:27.153Z"
   },
   {
    "duration": 215,
    "start_time": "2024-12-22T01:30:27.166Z"
   },
   {
    "duration": 250,
    "start_time": "2024-12-22T01:31:39.770Z"
   },
   {
    "duration": 191,
    "start_time": "2024-12-22T01:31:46.773Z"
   },
   {
    "duration": 5834,
    "start_time": "2024-12-22T01:31:55.494Z"
   },
   {
    "duration": 1307,
    "start_time": "2024-12-22T01:32:01.330Z"
   },
   {
    "duration": 51,
    "start_time": "2024-12-22T01:32:02.639Z"
   },
   {
    "duration": 10,
    "start_time": "2024-12-22T01:32:02.691Z"
   },
   {
    "duration": 41,
    "start_time": "2024-12-22T01:32:02.703Z"
   },
   {
    "duration": 17,
    "start_time": "2024-12-22T01:32:02.747Z"
   },
   {
    "duration": 8,
    "start_time": "2024-12-22T01:32:02.765Z"
   },
   {
    "duration": 10,
    "start_time": "2024-12-22T01:32:02.775Z"
   },
   {
    "duration": 33,
    "start_time": "2024-12-22T01:32:02.786Z"
   },
   {
    "duration": 61,
    "start_time": "2024-12-22T01:32:02.820Z"
   },
   {
    "duration": 215,
    "start_time": "2024-12-22T01:32:02.883Z"
   },
   {
    "duration": 324,
    "start_time": "2024-12-22T01:33:12.450Z"
   },
   {
    "duration": 408,
    "start_time": "2024-12-22T01:33:41.494Z"
   },
   {
    "duration": 187,
    "start_time": "2024-12-22T01:43:47.839Z"
   },
   {
    "duration": 65,
    "start_time": "2024-12-22T01:43:55.749Z"
   },
   {
    "duration": 132,
    "start_time": "2024-12-22T01:44:06.843Z"
   },
   {
    "duration": 110,
    "start_time": "2024-12-22T01:44:26.862Z"
   },
   {
    "duration": 115,
    "start_time": "2024-12-22T01:49:40.856Z"
   },
   {
    "duration": 165,
    "start_time": "2024-12-22T01:49:55.978Z"
   },
   {
    "duration": 63,
    "start_time": "2024-12-22T01:50:23.328Z"
   },
   {
    "duration": 161,
    "start_time": "2024-12-22T01:50:35.096Z"
   },
   {
    "duration": 456,
    "start_time": "2024-12-22T01:55:22.895Z"
   },
   {
    "duration": 564,
    "start_time": "2024-12-22T01:56:15.656Z"
   },
   {
    "duration": 10,
    "start_time": "2024-12-22T02:02:36.269Z"
   },
   {
    "duration": 480,
    "start_time": "2024-12-22T02:03:26.272Z"
   },
   {
    "duration": 1386,
    "start_time": "2024-12-22T02:04:06.868Z"
   },
   {
    "duration": 1346,
    "start_time": "2024-12-22T02:04:20.744Z"
   },
   {
    "duration": 406,
    "start_time": "2024-12-22T02:04:28.649Z"
   },
   {
    "duration": 1549,
    "start_time": "2024-12-22T02:06:28.143Z"
   },
   {
    "duration": 5838,
    "start_time": "2024-12-22T02:06:38.984Z"
   },
   {
    "duration": 1293,
    "start_time": "2024-12-22T02:06:44.825Z"
   },
   {
    "duration": 56,
    "start_time": "2024-12-22T02:06:46.119Z"
   },
   {
    "duration": 12,
    "start_time": "2024-12-22T02:06:46.177Z"
   },
   {
    "duration": 10,
    "start_time": "2024-12-22T02:06:46.191Z"
   },
   {
    "duration": 12,
    "start_time": "2024-12-22T02:06:46.203Z"
   },
   {
    "duration": 31,
    "start_time": "2024-12-22T02:06:46.216Z"
   },
   {
    "duration": 9,
    "start_time": "2024-12-22T02:06:46.249Z"
   },
   {
    "duration": 4,
    "start_time": "2024-12-22T02:06:46.260Z"
   },
   {
    "duration": 13,
    "start_time": "2024-12-22T02:06:46.266Z"
   },
   {
    "duration": 474,
    "start_time": "2024-12-22T02:06:46.280Z"
   },
   {
    "duration": 550,
    "start_time": "2024-12-22T02:06:46.756Z"
   },
   {
    "duration": 6,
    "start_time": "2024-12-22T02:06:47.307Z"
   },
   {
    "duration": 129,
    "start_time": "2024-12-22T02:06:47.315Z"
   },
   {
    "duration": 9,
    "start_time": "2024-12-22T02:07:21.283Z"
   },
   {
    "duration": 6,
    "start_time": "2024-12-22T02:08:52.917Z"
   },
   {
    "duration": 368,
    "start_time": "2024-12-22T02:11:32.835Z"
   },
   {
    "duration": 165,
    "start_time": "2024-12-22T02:17:48.347Z"
   },
   {
    "duration": 181,
    "start_time": "2024-12-22T02:18:11.523Z"
   },
   {
    "duration": 183,
    "start_time": "2024-12-22T02:20:09.211Z"
   },
   {
    "duration": 394,
    "start_time": "2024-12-22T02:20:43.185Z"
   },
   {
    "duration": 399,
    "start_time": "2024-12-22T02:22:34.967Z"
   },
   {
    "duration": 388,
    "start_time": "2024-12-22T02:22:47.569Z"
   },
   {
    "duration": 357,
    "start_time": "2024-12-22T02:37:28.053Z"
   },
   {
    "duration": 379,
    "start_time": "2024-12-22T02:38:01.093Z"
   },
   {
    "duration": 4,
    "start_time": "2024-12-22T02:40:43.320Z"
   },
   {
    "duration": 414,
    "start_time": "2024-12-22T02:40:50.554Z"
   },
   {
    "duration": 465,
    "start_time": "2024-12-22T02:42:50.543Z"
   },
   {
    "duration": 445,
    "start_time": "2024-12-22T02:43:12.020Z"
   },
   {
    "duration": 342,
    "start_time": "2024-12-22T02:43:56.613Z"
   },
   {
    "duration": 355,
    "start_time": "2024-12-22T02:45:39.379Z"
   },
   {
    "duration": 4,
    "start_time": "2024-12-22T02:47:34.091Z"
   },
   {
    "duration": 3,
    "start_time": "2024-12-22T02:51:08.076Z"
   },
   {
    "duration": 335,
    "start_time": "2024-12-22T02:57:11.661Z"
   },
   {
    "duration": 78,
    "start_time": "2024-12-22T02:59:02.646Z"
   },
   {
    "duration": 428,
    "start_time": "2024-12-22T02:59:12.916Z"
   },
   {
    "duration": 398,
    "start_time": "2024-12-22T03:00:08.297Z"
   },
   {
    "duration": 419,
    "start_time": "2024-12-22T03:01:13.566Z"
   },
   {
    "duration": 441,
    "start_time": "2024-12-22T03:01:40.465Z"
   },
   {
    "duration": 480,
    "start_time": "2024-12-22T03:02:22.846Z"
   },
   {
    "duration": 766,
    "start_time": "2024-12-22T03:02:45.637Z"
   },
   {
    "duration": 457,
    "start_time": "2024-12-22T03:03:12.626Z"
   },
   {
    "duration": 75,
    "start_time": "2024-12-22T03:06:35.076Z"
   },
   {
    "duration": 3,
    "start_time": "2024-12-22T03:07:20.489Z"
   },
   {
    "duration": 494,
    "start_time": "2024-12-22T03:09:30.542Z"
   },
   {
    "duration": 4,
    "start_time": "2024-12-22T03:16:03.155Z"
   },
   {
    "duration": 9,
    "start_time": "2024-12-22T03:16:39.451Z"
   },
   {
    "duration": 4,
    "start_time": "2024-12-22T03:20:48.225Z"
   },
   {
    "duration": 27,
    "start_time": "2024-12-22T03:21:14.787Z"
   },
   {
    "duration": 8,
    "start_time": "2024-12-22T03:28:39.843Z"
   },
   {
    "duration": 3,
    "start_time": "2024-12-22T03:29:12.105Z"
   },
   {
    "duration": 75,
    "start_time": "2024-12-22T03:29:24.302Z"
   },
   {
    "duration": 122,
    "start_time": "2024-12-22T03:30:05.310Z"
   },
   {
    "duration": 169,
    "start_time": "2024-12-22T03:30:17.101Z"
   },
   {
    "duration": 243,
    "start_time": "2024-12-22T03:30:38.639Z"
   },
   {
    "duration": 58,
    "start_time": "2024-12-22T03:30:52.609Z"
   },
   {
    "duration": 479,
    "start_time": "2024-12-22T03:31:00.934Z"
   },
   {
    "duration": 489,
    "start_time": "2024-12-22T03:31:33.835Z"
   },
   {
    "duration": 379,
    "start_time": "2024-12-22T03:31:46.929Z"
   },
   {
    "duration": 16520,
    "start_time": "2024-12-22T17:21:57.983Z"
   },
   {
    "duration": 1637,
    "start_time": "2024-12-22T17:22:14.506Z"
   },
   {
    "duration": 168,
    "start_time": "2024-12-22T17:22:16.145Z"
   },
   {
    "duration": 12,
    "start_time": "2024-12-22T17:22:16.315Z"
   },
   {
    "duration": 18,
    "start_time": "2024-12-22T17:22:16.328Z"
   },
   {
    "duration": 11,
    "start_time": "2024-12-22T17:22:16.348Z"
   },
   {
    "duration": 8,
    "start_time": "2024-12-22T17:22:16.360Z"
   },
   {
    "duration": 11,
    "start_time": "2024-12-22T17:22:16.369Z"
   },
   {
    "duration": 5,
    "start_time": "2024-12-22T17:22:16.386Z"
   },
   {
    "duration": 22,
    "start_time": "2024-12-22T17:22:16.396Z"
   },
   {
    "duration": 539,
    "start_time": "2024-12-22T17:22:16.420Z"
   },
   {
    "duration": 604,
    "start_time": "2024-12-22T17:22:16.960Z"
   },
   {
    "duration": 7,
    "start_time": "2024-12-22T17:22:17.565Z"
   },
   {
    "duration": 417,
    "start_time": "2024-12-22T17:22:17.573Z"
   },
   {
    "duration": 457,
    "start_time": "2024-12-22T17:22:17.992Z"
   },
   {
    "duration": 528,
    "start_time": "2024-12-22T17:22:18.451Z"
   },
   {
    "duration": 276,
    "start_time": "2024-12-22T17:22:18.980Z"
   },
   {
    "duration": 4,
    "start_time": "2024-12-22T17:22:19.257Z"
   },
   {
    "duration": 675,
    "start_time": "2024-12-22T17:22:19.262Z"
   },
   {
    "duration": 277,
    "start_time": "2024-12-22T17:23:19.630Z"
   },
   {
    "duration": 259,
    "start_time": "2024-12-22T17:23:22.054Z"
   },
   {
    "duration": 311,
    "start_time": "2024-12-22T17:27:40.616Z"
   },
   {
    "duration": 413,
    "start_time": "2024-12-22T17:29:39.333Z"
   },
   {
    "duration": 260,
    "start_time": "2024-12-22T17:32:30.436Z"
   },
   {
    "duration": 133,
    "start_time": "2024-12-22T17:32:53.604Z"
   },
   {
    "duration": 6313,
    "start_time": "2024-12-22T17:33:00.353Z"
   },
   {
    "duration": 1401,
    "start_time": "2024-12-22T17:33:06.669Z"
   },
   {
    "duration": 58,
    "start_time": "2024-12-22T17:33:08.071Z"
   },
   {
    "duration": 11,
    "start_time": "2024-12-22T17:33:08.131Z"
   },
   {
    "duration": 11,
    "start_time": "2024-12-22T17:33:08.144Z"
   },
   {
    "duration": 11,
    "start_time": "2024-12-22T17:33:08.156Z"
   },
   {
    "duration": 30,
    "start_time": "2024-12-22T17:33:08.169Z"
   },
   {
    "duration": 12,
    "start_time": "2024-12-22T17:33:08.201Z"
   },
   {
    "duration": 3,
    "start_time": "2024-12-22T17:33:08.215Z"
   },
   {
    "duration": 13,
    "start_time": "2024-12-22T17:33:08.220Z"
   },
   {
    "duration": 566,
    "start_time": "2024-12-22T17:33:08.234Z"
   },
   {
    "duration": 645,
    "start_time": "2024-12-22T17:33:08.802Z"
   },
   {
    "duration": 9,
    "start_time": "2024-12-22T17:33:09.450Z"
   },
   {
    "duration": 434,
    "start_time": "2024-12-22T17:33:09.461Z"
   },
   {
    "duration": 461,
    "start_time": "2024-12-22T17:33:09.900Z"
   },
   {
    "duration": 429,
    "start_time": "2024-12-22T17:33:10.363Z"
   },
   {
    "duration": 278,
    "start_time": "2024-12-22T17:33:10.794Z"
   },
   {
    "duration": 0,
    "start_time": "2024-12-22T17:33:11.085Z"
   },
   {
    "duration": 0,
    "start_time": "2024-12-22T17:33:11.089Z"
   },
   {
    "duration": 0,
    "start_time": "2024-12-22T17:33:11.091Z"
   },
   {
    "duration": 0,
    "start_time": "2024-12-22T17:33:11.093Z"
   },
   {
    "duration": 365,
    "start_time": "2024-12-22T17:35:04.241Z"
   },
   {
    "duration": 126,
    "start_time": "2024-12-22T17:35:14.425Z"
   },
   {
    "duration": 356,
    "start_time": "2024-12-22T17:35:37.788Z"
   },
   {
    "duration": 482,
    "start_time": "2024-12-22T17:36:02.619Z"
   },
   {
    "duration": 306,
    "start_time": "2024-12-22T17:37:02.745Z"
   },
   {
    "duration": 357,
    "start_time": "2024-12-22T17:37:19.955Z"
   },
   {
    "duration": 280,
    "start_time": "2024-12-22T17:38:04.786Z"
   },
   {
    "duration": 350,
    "start_time": "2024-12-22T17:38:56.639Z"
   },
   {
    "duration": 293,
    "start_time": "2024-12-22T17:39:11.177Z"
   },
   {
    "duration": 544,
    "start_time": "2024-12-22T17:43:25.939Z"
   },
   {
    "duration": 5,
    "start_time": "2024-12-22T17:43:36.790Z"
   },
   {
    "duration": 565,
    "start_time": "2024-12-22T17:43:37.487Z"
   },
   {
    "duration": 7,
    "start_time": "2024-12-22T17:45:02.295Z"
   },
   {
    "duration": 20,
    "start_time": "2024-12-22T17:45:23.862Z"
   },
   {
    "duration": 701,
    "start_time": "2024-12-22T17:50:59.440Z"
   },
   {
    "duration": 11,
    "start_time": "2024-12-22T17:52:36.294Z"
   },
   {
    "duration": 18,
    "start_time": "2024-12-22T17:52:40.137Z"
   },
   {
    "duration": 20,
    "start_time": "2024-12-22T17:52:40.748Z"
   },
   {
    "duration": 6840,
    "start_time": "2024-12-22T17:53:03.785Z"
   },
   {
    "duration": 1328,
    "start_time": "2024-12-22T17:53:10.628Z"
   },
   {
    "duration": 58,
    "start_time": "2024-12-22T17:53:11.959Z"
   },
   {
    "duration": 12,
    "start_time": "2024-12-22T17:53:12.019Z"
   },
   {
    "duration": 10,
    "start_time": "2024-12-22T17:53:12.032Z"
   },
   {
    "duration": 10,
    "start_time": "2024-12-22T17:53:12.044Z"
   },
   {
    "duration": 36,
    "start_time": "2024-12-22T17:53:12.055Z"
   },
   {
    "duration": 16,
    "start_time": "2024-12-22T17:53:12.093Z"
   },
   {
    "duration": 5,
    "start_time": "2024-12-22T17:53:12.111Z"
   },
   {
    "duration": 15,
    "start_time": "2024-12-22T17:53:12.117Z"
   },
   {
    "duration": 589,
    "start_time": "2024-12-22T17:53:12.134Z"
   },
   {
    "duration": 596,
    "start_time": "2024-12-22T17:53:12.725Z"
   },
   {
    "duration": 9,
    "start_time": "2024-12-22T17:53:13.324Z"
   },
   {
    "duration": 371,
    "start_time": "2024-12-22T17:53:13.334Z"
   },
   {
    "duration": 429,
    "start_time": "2024-12-22T17:53:13.707Z"
   },
   {
    "duration": 386,
    "start_time": "2024-12-22T17:53:14.137Z"
   },
   {
    "duration": 352,
    "start_time": "2024-12-22T17:53:14.524Z"
   },
   {
    "duration": 280,
    "start_time": "2024-12-22T17:53:14.878Z"
   },
   {
    "duration": 3,
    "start_time": "2024-12-22T17:53:15.160Z"
   },
   {
    "duration": 572,
    "start_time": "2024-12-22T17:53:15.165Z"
   },
   {
    "duration": 4,
    "start_time": "2024-12-22T17:53:15.739Z"
   },
   {
    "duration": 23,
    "start_time": "2024-12-22T17:53:15.744Z"
   },
   {
    "duration": 107,
    "start_time": "2024-12-22T17:53:15.768Z"
   },
   {
    "duration": 7,
    "start_time": "2024-12-22T17:54:55.700Z"
   },
   {
    "duration": 149,
    "start_time": "2024-12-22T17:54:56.963Z"
   },
   {
    "duration": 20,
    "start_time": "2024-12-22T17:55:08.233Z"
   },
   {
    "duration": 6560,
    "start_time": "2024-12-22T17:55:14.079Z"
   },
   {
    "duration": 1295,
    "start_time": "2024-12-22T17:55:20.642Z"
   },
   {
    "duration": 57,
    "start_time": "2024-12-22T17:55:21.939Z"
   },
   {
    "duration": 13,
    "start_time": "2024-12-22T17:55:21.998Z"
   },
   {
    "duration": 12,
    "start_time": "2024-12-22T17:55:22.014Z"
   },
   {
    "duration": 13,
    "start_time": "2024-12-22T17:55:22.028Z"
   },
   {
    "duration": 9,
    "start_time": "2024-12-22T17:55:22.042Z"
   },
   {
    "duration": 11,
    "start_time": "2024-12-22T17:55:22.087Z"
   },
   {
    "duration": 7,
    "start_time": "2024-12-22T17:55:22.100Z"
   },
   {
    "duration": 14,
    "start_time": "2024-12-22T17:55:22.108Z"
   },
   {
    "duration": 556,
    "start_time": "2024-12-22T17:55:22.123Z"
   },
   {
    "duration": 659,
    "start_time": "2024-12-22T17:55:22.680Z"
   },
   {
    "duration": 6,
    "start_time": "2024-12-22T17:55:23.341Z"
   },
   {
    "duration": 418,
    "start_time": "2024-12-22T17:55:23.350Z"
   },
   {
    "duration": 491,
    "start_time": "2024-12-22T17:55:23.770Z"
   },
   {
    "duration": 421,
    "start_time": "2024-12-22T17:55:24.262Z"
   },
   {
    "duration": 379,
    "start_time": "2024-12-22T17:55:24.686Z"
   },
   {
    "duration": 300,
    "start_time": "2024-12-22T17:55:25.066Z"
   },
   {
    "duration": 3,
    "start_time": "2024-12-22T17:55:25.367Z"
   },
   {
    "duration": 581,
    "start_time": "2024-12-22T17:55:25.372Z"
   },
   {
    "duration": 3,
    "start_time": "2024-12-22T17:55:25.955Z"
   },
   {
    "duration": 169,
    "start_time": "2024-12-22T17:55:25.959Z"
   },
   {
    "duration": 0,
    "start_time": "2024-12-22T17:55:26.130Z"
   },
   {
    "duration": 6,
    "start_time": "2024-12-22T17:55:55.285Z"
   },
   {
    "duration": 29,
    "start_time": "2024-12-22T17:55:55.840Z"
   },
   {
    "duration": 5,
    "start_time": "2024-12-22T17:56:13.611Z"
   },
   {
    "duration": 18,
    "start_time": "2024-12-22T17:56:14.217Z"
   },
   {
    "duration": 21,
    "start_time": "2024-12-22T17:56:14.867Z"
   },
   {
    "duration": 6096,
    "start_time": "2024-12-22T17:56:22.640Z"
   },
   {
    "duration": 1364,
    "start_time": "2024-12-22T17:56:28.739Z"
   },
   {
    "duration": 52,
    "start_time": "2024-12-22T17:56:30.105Z"
   },
   {
    "duration": 11,
    "start_time": "2024-12-22T17:56:30.158Z"
   },
   {
    "duration": 59,
    "start_time": "2024-12-22T17:56:30.171Z"
   },
   {
    "duration": 32,
    "start_time": "2024-12-22T17:56:30.232Z"
   },
   {
    "duration": 37,
    "start_time": "2024-12-22T17:56:30.265Z"
   },
   {
    "duration": 19,
    "start_time": "2024-12-22T17:56:30.304Z"
   },
   {
    "duration": 8,
    "start_time": "2024-12-22T17:56:30.324Z"
   },
   {
    "duration": 14,
    "start_time": "2024-12-22T17:56:30.334Z"
   },
   {
    "duration": 529,
    "start_time": "2024-12-22T17:56:30.350Z"
   },
   {
    "duration": 656,
    "start_time": "2024-12-22T17:56:30.881Z"
   },
   {
    "duration": 7,
    "start_time": "2024-12-22T17:56:31.539Z"
   },
   {
    "duration": 383,
    "start_time": "2024-12-22T17:56:31.549Z"
   },
   {
    "duration": 416,
    "start_time": "2024-12-22T17:56:31.934Z"
   },
   {
    "duration": 378,
    "start_time": "2024-12-22T17:56:32.351Z"
   },
   {
    "duration": 363,
    "start_time": "2024-12-22T17:56:32.730Z"
   },
   {
    "duration": 320,
    "start_time": "2024-12-22T17:56:33.095Z"
   },
   {
    "duration": 5,
    "start_time": "2024-12-22T17:56:33.417Z"
   },
   {
    "duration": 613,
    "start_time": "2024-12-22T17:56:33.423Z"
   },
   {
    "duration": 6,
    "start_time": "2024-12-22T17:56:34.038Z"
   },
   {
    "duration": 23,
    "start_time": "2024-12-22T17:56:34.045Z"
   },
   {
    "duration": 119,
    "start_time": "2024-12-22T17:56:34.069Z"
   },
   {
    "duration": 23,
    "start_time": "2024-12-22T17:56:57.658Z"
   },
   {
    "duration": 44,
    "start_time": "2024-12-22T17:57:11.477Z"
   },
   {
    "duration": 4,
    "start_time": "2024-12-22T17:59:17.250Z"
   },
   {
    "duration": 4,
    "start_time": "2024-12-22T17:59:55.673Z"
   },
   {
    "duration": 23,
    "start_time": "2024-12-22T17:59:58.361Z"
   },
   {
    "duration": 123,
    "start_time": "2024-12-22T18:00:00.216Z"
   },
   {
    "duration": 8,
    "start_time": "2024-12-22T18:00:44.416Z"
   },
   {
    "duration": 6410,
    "start_time": "2024-12-22T18:01:01.187Z"
   },
   {
    "duration": 1393,
    "start_time": "2024-12-22T18:01:07.600Z"
   },
   {
    "duration": 52,
    "start_time": "2024-12-22T18:01:08.995Z"
   },
   {
    "duration": 11,
    "start_time": "2024-12-22T18:01:09.049Z"
   },
   {
    "duration": 13,
    "start_time": "2024-12-22T18:01:09.062Z"
   },
   {
    "duration": 22,
    "start_time": "2024-12-22T18:01:09.076Z"
   },
   {
    "duration": 14,
    "start_time": "2024-12-22T18:01:09.102Z"
   },
   {
    "duration": 12,
    "start_time": "2024-12-22T18:01:09.118Z"
   },
   {
    "duration": 4,
    "start_time": "2024-12-22T18:01:09.131Z"
   },
   {
    "duration": 13,
    "start_time": "2024-12-22T18:01:09.137Z"
   },
   {
    "duration": 567,
    "start_time": "2024-12-22T18:01:09.152Z"
   },
   {
    "duration": 599,
    "start_time": "2024-12-22T18:01:09.721Z"
   },
   {
    "duration": 7,
    "start_time": "2024-12-22T18:01:10.321Z"
   },
   {
    "duration": 403,
    "start_time": "2024-12-22T18:01:10.329Z"
   },
   {
    "duration": 422,
    "start_time": "2024-12-22T18:01:10.734Z"
   },
   {
    "duration": 404,
    "start_time": "2024-12-22T18:01:11.157Z"
   },
   {
    "duration": 352,
    "start_time": "2024-12-22T18:01:11.563Z"
   },
   {
    "duration": 309,
    "start_time": "2024-12-22T18:01:11.917Z"
   },
   {
    "duration": 3,
    "start_time": "2024-12-22T18:01:12.228Z"
   },
   {
    "duration": 554,
    "start_time": "2024-12-22T18:01:12.232Z"
   },
   {
    "duration": 5,
    "start_time": "2024-12-22T18:01:12.789Z"
   },
   {
    "duration": 38,
    "start_time": "2024-12-22T18:01:12.797Z"
   },
   {
    "duration": 140,
    "start_time": "2024-12-22T18:01:12.836Z"
   },
   {
    "duration": 0,
    "start_time": "2024-12-22T18:01:12.977Z"
   },
   {
    "duration": 12,
    "start_time": "2024-12-22T18:02:09.874Z"
   },
   {
    "duration": 11,
    "start_time": "2024-12-22T18:02:10.301Z"
   },
   {
    "duration": 4,
    "start_time": "2024-12-22T18:02:46.459Z"
   },
   {
    "duration": 12,
    "start_time": "2024-12-22T18:02:47.771Z"
   },
   {
    "duration": 9,
    "start_time": "2024-12-22T18:02:48.371Z"
   },
   {
    "duration": 4,
    "start_time": "2024-12-22T18:03:39.039Z"
   },
   {
    "duration": 13,
    "start_time": "2024-12-22T18:03:39.841Z"
   },
   {
    "duration": 6,
    "start_time": "2024-12-22T18:03:51.185Z"
   },
   {
    "duration": 13,
    "start_time": "2024-12-22T18:03:51.780Z"
   },
   {
    "duration": 4,
    "start_time": "2024-12-22T18:04:02.532Z"
   },
   {
    "duration": 12,
    "start_time": "2024-12-22T18:04:03.019Z"
   },
   {
    "duration": 23,
    "start_time": "2024-12-22T18:04:04.031Z"
   },
   {
    "duration": 23,
    "start_time": "2024-12-22T18:04:13.568Z"
   },
   {
    "duration": 103,
    "start_time": "2024-12-22T18:04:24.094Z"
   },
   {
    "duration": 9,
    "start_time": "2024-12-22T18:07:25.554Z"
   },
   {
    "duration": 10,
    "start_time": "2024-12-22T18:11:18.109Z"
   },
   {
    "duration": 3,
    "start_time": "2024-12-22T18:11:51.279Z"
   },
   {
    "duration": 16,
    "start_time": "2024-12-22T18:11:52.387Z"
   },
   {
    "duration": 70,
    "start_time": "2024-12-22T18:15:00.001Z"
   },
   {
    "duration": 4,
    "start_time": "2024-12-22T18:15:09.223Z"
   },
   {
    "duration": 48,
    "start_time": "2024-12-22T18:15:15.276Z"
   },
   {
    "duration": 3,
    "start_time": "2024-12-22T18:15:25.566Z"
   },
   {
    "duration": 10,
    "start_time": "2024-12-22T18:15:26.519Z"
   },
   {
    "duration": 4,
    "start_time": "2024-12-22T18:15:59.143Z"
   },
   {
    "duration": 2,
    "start_time": "2024-12-22T18:16:06.616Z"
   },
   {
    "duration": 2,
    "start_time": "2024-12-22T18:16:07.022Z"
   },
   {
    "duration": 153,
    "start_time": "2024-12-22T18:17:26.581Z"
   },
   {
    "duration": 6,
    "start_time": "2024-12-22T18:18:04.591Z"
   },
   {
    "duration": 3,
    "start_time": "2024-12-22T18:18:11.293Z"
   },
   {
    "duration": 5,
    "start_time": "2024-12-22T18:18:11.701Z"
   },
   {
    "duration": 69,
    "start_time": "2024-12-22T18:18:43.901Z"
   },
   {
    "duration": 3,
    "start_time": "2024-12-22T18:18:47.644Z"
   },
   {
    "duration": 69,
    "start_time": "2024-12-22T18:18:48.076Z"
   },
   {
    "duration": 3,
    "start_time": "2024-12-22T18:22:15.212Z"
   },
   {
    "duration": 3,
    "start_time": "2024-12-22T18:22:16.771Z"
   },
   {
    "duration": 80,
    "start_time": "2024-12-22T18:22:20.554Z"
   },
   {
    "duration": 38,
    "start_time": "2024-12-22T18:28:07.665Z"
   },
   {
    "duration": 77,
    "start_time": "2024-12-22T18:28:51.080Z"
   },
   {
    "duration": 10,
    "start_time": "2024-12-22T18:29:05.850Z"
   },
   {
    "duration": 3,
    "start_time": "2024-12-22T18:29:09.985Z"
   },
   {
    "duration": 3,
    "start_time": "2024-12-22T18:29:11.216Z"
   },
   {
    "duration": 4,
    "start_time": "2024-12-22T18:29:11.994Z"
   },
   {
    "duration": 72,
    "start_time": "2024-12-22T18:29:12.707Z"
   },
   {
    "duration": 111,
    "start_time": "2024-12-22T18:29:46.218Z"
   },
   {
    "duration": 3,
    "start_time": "2024-12-22T18:29:51.513Z"
   },
   {
    "duration": 74,
    "start_time": "2024-12-22T18:29:52.005Z"
   },
   {
    "duration": 85,
    "start_time": "2024-12-22T18:30:02.123Z"
   },
   {
    "duration": 54,
    "start_time": "2024-12-22T18:30:02.885Z"
   },
   {
    "duration": 9,
    "start_time": "2024-12-22T18:32:17.631Z"
   },
   {
    "duration": 3,
    "start_time": "2024-12-22T18:32:19.647Z"
   },
   {
    "duration": 75,
    "start_time": "2024-12-22T18:32:20.455Z"
   },
   {
    "duration": 2,
    "start_time": "2024-12-22T18:34:31.042Z"
   },
   {
    "duration": 84,
    "start_time": "2024-12-22T18:34:31.605Z"
   },
   {
    "duration": 6414,
    "start_time": "2024-12-22T18:34:39.254Z"
   },
   {
    "duration": 1443,
    "start_time": "2024-12-22T18:34:45.671Z"
   },
   {
    "duration": 49,
    "start_time": "2024-12-22T18:34:47.116Z"
   },
   {
    "duration": 10,
    "start_time": "2024-12-22T18:34:47.167Z"
   },
   {
    "duration": 13,
    "start_time": "2024-12-22T18:34:47.179Z"
   },
   {
    "duration": 18,
    "start_time": "2024-12-22T18:34:47.194Z"
   },
   {
    "duration": 14,
    "start_time": "2024-12-22T18:34:47.213Z"
   },
   {
    "duration": 16,
    "start_time": "2024-12-22T18:34:47.229Z"
   },
   {
    "duration": 8,
    "start_time": "2024-12-22T18:34:47.247Z"
   },
   {
    "duration": 17,
    "start_time": "2024-12-22T18:34:47.286Z"
   },
   {
    "duration": 518,
    "start_time": "2024-12-22T18:34:47.304Z"
   },
   {
    "duration": 564,
    "start_time": "2024-12-22T18:34:47.823Z"
   },
   {
    "duration": 10,
    "start_time": "2024-12-22T18:34:48.390Z"
   },
   {
    "duration": 466,
    "start_time": "2024-12-22T18:34:48.402Z"
   },
   {
    "duration": 439,
    "start_time": "2024-12-22T18:34:48.869Z"
   },
   {
    "duration": 401,
    "start_time": "2024-12-22T18:34:49.310Z"
   },
   {
    "duration": 363,
    "start_time": "2024-12-22T18:34:49.713Z"
   },
   {
    "duration": 288,
    "start_time": "2024-12-22T18:34:50.078Z"
   },
   {
    "duration": 4,
    "start_time": "2024-12-22T18:34:50.368Z"
   },
   {
    "duration": 565,
    "start_time": "2024-12-22T18:34:50.386Z"
   },
   {
    "duration": 4,
    "start_time": "2024-12-22T18:34:50.952Z"
   },
   {
    "duration": 42,
    "start_time": "2024-12-22T18:34:50.957Z"
   },
   {
    "duration": 24,
    "start_time": "2024-12-22T18:34:51.001Z"
   },
   {
    "duration": 8,
    "start_time": "2024-12-22T18:34:51.027Z"
   },
   {
    "duration": 11,
    "start_time": "2024-12-22T18:34:51.037Z"
   },
   {
    "duration": 321,
    "start_time": "2024-12-22T18:34:51.049Z"
   },
   {
    "duration": 3,
    "start_time": "2024-12-22T18:34:51.371Z"
   },
   {
    "duration": 2,
    "start_time": "2024-12-22T18:34:51.377Z"
   },
   {
    "duration": 2,
    "start_time": "2024-12-22T18:34:51.381Z"
   },
   {
    "duration": 141,
    "start_time": "2024-12-22T18:34:51.385Z"
   },
   {
    "duration": 35,
    "start_time": "2024-12-22T18:34:51.528Z"
   },
   {
    "duration": 0,
    "start_time": "2024-12-22T18:34:51.565Z"
   },
   {
    "duration": 3,
    "start_time": "2024-12-22T18:38:02.312Z"
   },
   {
    "duration": 4,
    "start_time": "2024-12-22T18:38:24.506Z"
   },
   {
    "duration": 4,
    "start_time": "2024-12-22T18:38:49.591Z"
   },
   {
    "duration": 68,
    "start_time": "2024-12-22T18:38:52.456Z"
   },
   {
    "duration": 15,
    "start_time": "2024-12-22T18:39:43.910Z"
   },
   {
    "duration": 9,
    "start_time": "2024-12-22T18:40:16.073Z"
   },
   {
    "duration": 6368,
    "start_time": "2024-12-22T18:40:24.677Z"
   },
   {
    "duration": 1339,
    "start_time": "2024-12-22T18:40:31.047Z"
   },
   {
    "duration": 51,
    "start_time": "2024-12-22T18:40:32.389Z"
   },
   {
    "duration": 10,
    "start_time": "2024-12-22T18:40:32.442Z"
   },
   {
    "duration": 12,
    "start_time": "2024-12-22T18:40:32.454Z"
   },
   {
    "duration": 11,
    "start_time": "2024-12-22T18:40:32.467Z"
   },
   {
    "duration": 16,
    "start_time": "2024-12-22T18:40:32.487Z"
   },
   {
    "duration": 12,
    "start_time": "2024-12-22T18:40:32.506Z"
   },
   {
    "duration": 4,
    "start_time": "2024-12-22T18:40:32.519Z"
   },
   {
    "duration": 14,
    "start_time": "2024-12-22T18:40:32.525Z"
   },
   {
    "duration": 565,
    "start_time": "2024-12-22T18:40:32.541Z"
   },
   {
    "duration": 554,
    "start_time": "2024-12-22T18:40:33.107Z"
   },
   {
    "duration": 7,
    "start_time": "2024-12-22T18:40:33.662Z"
   },
   {
    "duration": 435,
    "start_time": "2024-12-22T18:40:33.671Z"
   },
   {
    "duration": 452,
    "start_time": "2024-12-22T18:40:34.108Z"
   },
   {
    "duration": 444,
    "start_time": "2024-12-22T18:40:34.562Z"
   },
   {
    "duration": 376,
    "start_time": "2024-12-22T18:40:35.010Z"
   },
   {
    "duration": 325,
    "start_time": "2024-12-22T18:40:35.389Z"
   },
   {
    "duration": 3,
    "start_time": "2024-12-22T18:40:35.715Z"
   },
   {
    "duration": 611,
    "start_time": "2024-12-22T18:40:35.720Z"
   },
   {
    "duration": 3,
    "start_time": "2024-12-22T18:40:36.333Z"
   },
   {
    "duration": 91,
    "start_time": "2024-12-22T18:40:36.338Z"
   },
   {
    "duration": 22,
    "start_time": "2024-12-22T18:40:36.430Z"
   },
   {
    "duration": 8,
    "start_time": "2024-12-22T18:40:36.453Z"
   },
   {
    "duration": 39,
    "start_time": "2024-12-22T18:40:36.463Z"
   },
   {
    "duration": 270,
    "start_time": "2024-12-22T18:40:36.505Z"
   },
   {
    "duration": 0,
    "start_time": "2024-12-22T18:40:36.777Z"
   },
   {
    "duration": 0,
    "start_time": "2024-12-22T18:40:36.778Z"
   },
   {
    "duration": 0,
    "start_time": "2024-12-22T18:40:36.779Z"
   },
   {
    "duration": 0,
    "start_time": "2024-12-22T18:40:36.780Z"
   },
   {
    "duration": 0,
    "start_time": "2024-12-22T18:40:36.781Z"
   },
   {
    "duration": 0,
    "start_time": "2024-12-22T18:40:36.782Z"
   },
   {
    "duration": 1071,
    "start_time": "2024-12-22T18:43:13.004Z"
   },
   {
    "duration": 6151,
    "start_time": "2024-12-22T18:43:29.870Z"
   },
   {
    "duration": 1362,
    "start_time": "2024-12-22T18:43:36.024Z"
   },
   {
    "duration": 51,
    "start_time": "2024-12-22T18:43:37.389Z"
   },
   {
    "duration": 12,
    "start_time": "2024-12-22T18:43:37.443Z"
   },
   {
    "duration": 12,
    "start_time": "2024-12-22T18:43:37.457Z"
   },
   {
    "duration": 18,
    "start_time": "2024-12-22T18:43:37.470Z"
   },
   {
    "duration": 1241,
    "start_time": "2024-12-22T18:43:37.489Z"
   },
   {
    "duration": 0,
    "start_time": "2024-12-22T18:43:38.732Z"
   },
   {
    "duration": 0,
    "start_time": "2024-12-22T18:43:38.734Z"
   },
   {
    "duration": 0,
    "start_time": "2024-12-22T18:43:38.736Z"
   },
   {
    "duration": 0,
    "start_time": "2024-12-22T18:43:38.737Z"
   },
   {
    "duration": 0,
    "start_time": "2024-12-22T18:43:38.737Z"
   },
   {
    "duration": 0,
    "start_time": "2024-12-22T18:43:38.738Z"
   },
   {
    "duration": 0,
    "start_time": "2024-12-22T18:43:38.739Z"
   },
   {
    "duration": 0,
    "start_time": "2024-12-22T18:43:38.740Z"
   },
   {
    "duration": 0,
    "start_time": "2024-12-22T18:43:38.741Z"
   },
   {
    "duration": 0,
    "start_time": "2024-12-22T18:43:38.742Z"
   },
   {
    "duration": 0,
    "start_time": "2024-12-22T18:43:38.743Z"
   },
   {
    "duration": 0,
    "start_time": "2024-12-22T18:43:38.744Z"
   },
   {
    "duration": 0,
    "start_time": "2024-12-22T18:43:38.745Z"
   },
   {
    "duration": 0,
    "start_time": "2024-12-22T18:43:38.746Z"
   },
   {
    "duration": 0,
    "start_time": "2024-12-22T18:43:38.747Z"
   },
   {
    "duration": 0,
    "start_time": "2024-12-22T18:43:38.747Z"
   },
   {
    "duration": 0,
    "start_time": "2024-12-22T18:43:38.748Z"
   },
   {
    "duration": 0,
    "start_time": "2024-12-22T18:43:38.749Z"
   },
   {
    "duration": 0,
    "start_time": "2024-12-22T18:43:38.750Z"
   },
   {
    "duration": 0,
    "start_time": "2024-12-22T18:43:38.751Z"
   },
   {
    "duration": 0,
    "start_time": "2024-12-22T18:43:38.752Z"
   },
   {
    "duration": 0,
    "start_time": "2024-12-22T18:43:38.753Z"
   },
   {
    "duration": 0,
    "start_time": "2024-12-22T18:43:38.754Z"
   },
   {
    "duration": 0,
    "start_time": "2024-12-22T18:43:38.755Z"
   },
   {
    "duration": 0,
    "start_time": "2024-12-22T18:43:38.756Z"
   },
   {
    "duration": 1247,
    "start_time": "2024-12-22T18:44:18.614Z"
   },
   {
    "duration": 6549,
    "start_time": "2024-12-22T18:45:37.560Z"
   },
   {
    "duration": 1338,
    "start_time": "2024-12-22T18:45:44.112Z"
   },
   {
    "duration": 52,
    "start_time": "2024-12-22T18:45:45.452Z"
   },
   {
    "duration": 12,
    "start_time": "2024-12-22T18:45:45.507Z"
   },
   {
    "duration": 12,
    "start_time": "2024-12-22T18:45:45.521Z"
   },
   {
    "duration": 14,
    "start_time": "2024-12-22T18:45:45.534Z"
   },
   {
    "duration": 51,
    "start_time": "2024-12-22T18:45:45.550Z"
   },
   {
    "duration": 7,
    "start_time": "2024-12-22T18:45:45.607Z"
   },
   {
    "duration": 153,
    "start_time": "2024-12-22T18:45:45.615Z"
   },
   {
    "duration": 0,
    "start_time": "2024-12-22T18:45:45.770Z"
   },
   {
    "duration": 0,
    "start_time": "2024-12-22T18:45:45.771Z"
   },
   {
    "duration": 0,
    "start_time": "2024-12-22T18:45:45.772Z"
   },
   {
    "duration": 0,
    "start_time": "2024-12-22T18:45:45.773Z"
   },
   {
    "duration": 0,
    "start_time": "2024-12-22T18:45:45.774Z"
   },
   {
    "duration": 0,
    "start_time": "2024-12-22T18:45:45.775Z"
   },
   {
    "duration": 0,
    "start_time": "2024-12-22T18:45:45.787Z"
   },
   {
    "duration": 0,
    "start_time": "2024-12-22T18:45:45.788Z"
   },
   {
    "duration": 0,
    "start_time": "2024-12-22T18:45:45.789Z"
   },
   {
    "duration": 0,
    "start_time": "2024-12-22T18:45:45.791Z"
   },
   {
    "duration": 0,
    "start_time": "2024-12-22T18:45:45.792Z"
   },
   {
    "duration": 0,
    "start_time": "2024-12-22T18:45:45.793Z"
   },
   {
    "duration": 0,
    "start_time": "2024-12-22T18:45:45.795Z"
   },
   {
    "duration": 0,
    "start_time": "2024-12-22T18:45:45.796Z"
   },
   {
    "duration": 0,
    "start_time": "2024-12-22T18:45:45.797Z"
   },
   {
    "duration": 0,
    "start_time": "2024-12-22T18:45:45.798Z"
   },
   {
    "duration": 0,
    "start_time": "2024-12-22T18:45:45.800Z"
   },
   {
    "duration": 0,
    "start_time": "2024-12-22T18:45:45.802Z"
   },
   {
    "duration": 0,
    "start_time": "2024-12-22T18:45:45.804Z"
   },
   {
    "duration": 1,
    "start_time": "2024-12-22T18:45:45.805Z"
   },
   {
    "duration": 0,
    "start_time": "2024-12-22T18:45:45.807Z"
   },
   {
    "duration": 0,
    "start_time": "2024-12-22T18:45:45.809Z"
   },
   {
    "duration": 49,
    "start_time": "2024-12-22T18:50:08.208Z"
   },
   {
    "duration": 10,
    "start_time": "2024-12-22T18:50:10.862Z"
   },
   {
    "duration": 6336,
    "start_time": "2024-12-22T18:50:19.493Z"
   },
   {
    "duration": 1396,
    "start_time": "2024-12-22T18:50:25.831Z"
   },
   {
    "duration": 60,
    "start_time": "2024-12-22T18:50:27.228Z"
   },
   {
    "duration": 14,
    "start_time": "2024-12-22T18:50:27.290Z"
   },
   {
    "duration": 12,
    "start_time": "2024-12-22T18:50:27.308Z"
   },
   {
    "duration": 10,
    "start_time": "2024-12-22T18:50:27.321Z"
   },
   {
    "duration": 7,
    "start_time": "2024-12-22T18:50:27.332Z"
   },
   {
    "duration": 3,
    "start_time": "2024-12-22T18:50:27.340Z"
   },
   {
    "duration": 8,
    "start_time": "2024-12-22T18:50:27.345Z"
   },
   {
    "duration": 591,
    "start_time": "2024-12-22T18:50:27.355Z"
   },
   {
    "duration": 520,
    "start_time": "2024-12-22T18:50:27.948Z"
   },
   {
    "duration": 19,
    "start_time": "2024-12-22T18:50:28.470Z"
   },
   {
    "duration": 409,
    "start_time": "2024-12-22T18:50:28.491Z"
   },
   {
    "duration": 469,
    "start_time": "2024-12-22T18:50:28.904Z"
   },
   {
    "duration": 458,
    "start_time": "2024-12-22T18:50:29.375Z"
   },
   {
    "duration": 345,
    "start_time": "2024-12-22T18:50:29.835Z"
   },
   {
    "duration": 388,
    "start_time": "2024-12-22T18:50:30.185Z"
   },
   {
    "duration": 3,
    "start_time": "2024-12-22T18:50:30.574Z"
   },
   {
    "duration": 563,
    "start_time": "2024-12-22T18:50:30.586Z"
   },
   {
    "duration": 4,
    "start_time": "2024-12-22T18:50:31.151Z"
   },
   {
    "duration": 31,
    "start_time": "2024-12-22T18:50:31.156Z"
   },
   {
    "duration": 31,
    "start_time": "2024-12-22T18:50:31.189Z"
   },
   {
    "duration": 7,
    "start_time": "2024-12-22T18:50:31.222Z"
   },
   {
    "duration": 4,
    "start_time": "2024-12-22T18:50:31.230Z"
   },
   {
    "duration": 261,
    "start_time": "2024-12-22T18:50:31.235Z"
   },
   {
    "duration": 0,
    "start_time": "2024-12-22T18:50:31.498Z"
   },
   {
    "duration": 0,
    "start_time": "2024-12-22T18:50:31.500Z"
   },
   {
    "duration": 0,
    "start_time": "2024-12-22T18:50:31.502Z"
   },
   {
    "duration": 0,
    "start_time": "2024-12-22T18:50:31.504Z"
   },
   {
    "duration": 0,
    "start_time": "2024-12-22T18:50:31.505Z"
   },
   {
    "duration": 0,
    "start_time": "2024-12-22T18:50:31.506Z"
   },
   {
    "duration": 4,
    "start_time": "2024-12-22T18:51:01.124Z"
   },
   {
    "duration": 9,
    "start_time": "2024-12-22T18:51:02.262Z"
   },
   {
    "duration": 522,
    "start_time": "2024-12-22T18:51:07.104Z"
   },
   {
    "duration": 6809,
    "start_time": "2024-12-22T18:51:19.154Z"
   },
   {
    "duration": 1606,
    "start_time": "2024-12-22T18:51:25.965Z"
   },
   {
    "duration": 65,
    "start_time": "2024-12-22T18:51:27.572Z"
   },
   {
    "duration": 9,
    "start_time": "2024-12-22T18:51:27.639Z"
   },
   {
    "duration": 12,
    "start_time": "2024-12-22T18:51:27.650Z"
   },
   {
    "duration": 16,
    "start_time": "2024-12-22T18:51:27.664Z"
   },
   {
    "duration": 3,
    "start_time": "2024-12-22T18:51:27.681Z"
   },
   {
    "duration": 11,
    "start_time": "2024-12-22T18:51:27.686Z"
   },
   {
    "duration": 571,
    "start_time": "2024-12-22T18:51:27.699Z"
   },
   {
    "duration": 548,
    "start_time": "2024-12-22T18:51:28.273Z"
   },
   {
    "duration": 5,
    "start_time": "2024-12-22T18:51:28.823Z"
   },
   {
    "duration": 385,
    "start_time": "2024-12-22T18:51:28.830Z"
   },
   {
    "duration": 436,
    "start_time": "2024-12-22T18:51:29.217Z"
   },
   {
    "duration": 358,
    "start_time": "2024-12-22T18:51:29.655Z"
   },
   {
    "duration": 375,
    "start_time": "2024-12-22T18:51:30.014Z"
   },
   {
    "duration": 395,
    "start_time": "2024-12-22T18:51:30.391Z"
   },
   {
    "duration": 5,
    "start_time": "2024-12-22T18:51:30.789Z"
   },
   {
    "duration": 570,
    "start_time": "2024-12-22T18:51:30.796Z"
   },
   {
    "duration": 4,
    "start_time": "2024-12-22T18:51:31.368Z"
   },
   {
    "duration": 43,
    "start_time": "2024-12-22T18:51:31.373Z"
   },
   {
    "duration": 23,
    "start_time": "2024-12-22T18:51:31.417Z"
   },
   {
    "duration": 7,
    "start_time": "2024-12-22T18:51:31.442Z"
   },
   {
    "duration": 3,
    "start_time": "2024-12-22T18:51:31.451Z"
   },
   {
    "duration": 252,
    "start_time": "2024-12-22T18:51:31.456Z"
   },
   {
    "duration": 0,
    "start_time": "2024-12-22T18:51:31.711Z"
   },
   {
    "duration": 0,
    "start_time": "2024-12-22T18:51:31.712Z"
   },
   {
    "duration": 0,
    "start_time": "2024-12-22T18:51:31.713Z"
   },
   {
    "duration": 0,
    "start_time": "2024-12-22T18:51:31.715Z"
   },
   {
    "duration": 0,
    "start_time": "2024-12-22T18:51:31.716Z"
   },
   {
    "duration": 0,
    "start_time": "2024-12-22T18:51:31.717Z"
   },
   {
    "duration": 590,
    "start_time": "2024-12-22T18:52:13.615Z"
   },
   {
    "duration": 211,
    "start_time": "2024-12-22T18:53:36.814Z"
   },
   {
    "duration": 404,
    "start_time": "2024-12-22T18:53:51.059Z"
   },
   {
    "duration": 678,
    "start_time": "2024-12-22T18:53:59.168Z"
   },
   {
    "duration": 664,
    "start_time": "2024-12-22T18:54:08.886Z"
   },
   {
    "duration": 668,
    "start_time": "2024-12-22T18:54:17.518Z"
   },
   {
    "duration": 477,
    "start_time": "2024-12-22T18:54:37.400Z"
   },
   {
    "duration": 504,
    "start_time": "2024-12-22T18:54:41.175Z"
   },
   {
    "duration": 369,
    "start_time": "2024-12-22T18:54:42.712Z"
   },
   {
    "duration": 3,
    "start_time": "2024-12-22T18:56:10.144Z"
   },
   {
    "duration": 14,
    "start_time": "2024-12-22T18:56:11.533Z"
   },
   {
    "duration": 7,
    "start_time": "2024-12-22T18:56:29.101Z"
   },
   {
    "duration": 16,
    "start_time": "2024-12-22T18:56:29.735Z"
   },
   {
    "duration": 21,
    "start_time": "2024-12-22T18:56:31.564Z"
   },
   {
    "duration": 15,
    "start_time": "2024-12-22T18:57:00.797Z"
   },
   {
    "duration": 9,
    "start_time": "2024-12-22T18:57:06.114Z"
   },
   {
    "duration": 5,
    "start_time": "2024-12-22T18:57:14.995Z"
   },
   {
    "duration": 4,
    "start_time": "2024-12-22T18:57:29.484Z"
   },
   {
    "duration": 4,
    "start_time": "2024-12-22T18:57:34.430Z"
   },
   {
    "duration": 4,
    "start_time": "2024-12-22T18:57:40.434Z"
   },
   {
    "duration": 4,
    "start_time": "2024-12-22T19:00:59.932Z"
   },
   {
    "duration": 40,
    "start_time": "2024-12-22T19:01:00.547Z"
   },
   {
    "duration": 4,
    "start_time": "2024-12-22T19:01:01.241Z"
   },
   {
    "duration": 3,
    "start_time": "2024-12-22T19:01:05.868Z"
   },
   {
    "duration": 7,
    "start_time": "2024-12-22T19:01:07.021Z"
   },
   {
    "duration": 17,
    "start_time": "2024-12-22T19:01:46.570Z"
   },
   {
    "duration": 4,
    "start_time": "2024-12-22T19:01:49.402Z"
   },
   {
    "duration": 10,
    "start_time": "2024-12-22T19:01:50.097Z"
   },
   {
    "duration": 16,
    "start_time": "2024-12-22T19:02:30.394Z"
   },
   {
    "duration": 4,
    "start_time": "2024-12-22T19:02:31.922Z"
   },
   {
    "duration": 28,
    "start_time": "2024-12-22T19:02:50.607Z"
   },
   {
    "duration": 49,
    "start_time": "2024-12-22T19:03:08.450Z"
   },
   {
    "duration": 4,
    "start_time": "2024-12-22T19:04:49.837Z"
   },
   {
    "duration": 5,
    "start_time": "2024-12-22T19:04:59.716Z"
   },
   {
    "duration": 38,
    "start_time": "2024-12-22T19:05:00.559Z"
   },
   {
    "duration": 4,
    "start_time": "2024-12-22T19:05:03.817Z"
   },
   {
    "duration": 23,
    "start_time": "2024-12-22T19:05:05.621Z"
   },
   {
    "duration": 5,
    "start_time": "2024-12-22T19:05:57.897Z"
   },
   {
    "duration": 17,
    "start_time": "2024-12-22T19:06:09.995Z"
   },
   {
    "duration": 4,
    "start_time": "2024-12-22T19:06:11.850Z"
   },
   {
    "duration": 21,
    "start_time": "2024-12-22T19:06:14.681Z"
   },
   {
    "duration": 12619,
    "start_time": "2024-12-22T19:06:20.986Z"
   },
   {
    "duration": 2604,
    "start_time": "2024-12-22T19:06:33.607Z"
   },
   {
    "duration": 103,
    "start_time": "2024-12-22T19:06:36.213Z"
   },
   {
    "duration": 10,
    "start_time": "2024-12-22T19:06:36.318Z"
   },
   {
    "duration": 49,
    "start_time": "2024-12-22T19:06:36.387Z"
   },
   {
    "duration": 72,
    "start_time": "2024-12-22T19:06:36.438Z"
   },
   {
    "duration": 7,
    "start_time": "2024-12-22T19:06:36.511Z"
   },
   {
    "duration": 72,
    "start_time": "2024-12-22T19:06:36.519Z"
   },
   {
    "duration": 926,
    "start_time": "2024-12-22T19:06:36.592Z"
   },
   {
    "duration": 908,
    "start_time": "2024-12-22T19:06:37.519Z"
   },
   {
    "duration": 62,
    "start_time": "2024-12-22T19:06:38.428Z"
   },
   {
    "duration": 615,
    "start_time": "2024-12-22T19:06:38.492Z"
   },
   {
    "duration": 904,
    "start_time": "2024-12-22T19:06:39.109Z"
   },
   {
    "duration": 603,
    "start_time": "2024-12-22T19:06:40.016Z"
   },
   {
    "duration": 585,
    "start_time": "2024-12-22T19:06:40.621Z"
   },
   {
    "duration": 605,
    "start_time": "2024-12-22T19:06:41.207Z"
   },
   {
    "duration": 4,
    "start_time": "2024-12-22T19:06:41.814Z"
   },
   {
    "duration": 869,
    "start_time": "2024-12-22T19:06:41.819Z"
   },
   {
    "duration": 4,
    "start_time": "2024-12-22T19:06:42.690Z"
   },
   {
    "duration": 19,
    "start_time": "2024-12-22T19:06:42.696Z"
   },
   {
    "duration": 3,
    "start_time": "2024-12-22T19:06:42.716Z"
   },
   {
    "duration": 82,
    "start_time": "2024-12-22T19:06:42.721Z"
   },
   {
    "duration": 284,
    "start_time": "2024-12-22T19:06:42.804Z"
   },
   {
    "duration": 0,
    "start_time": "2024-12-22T19:06:43.090Z"
   },
   {
    "duration": 0,
    "start_time": "2024-12-22T19:06:43.091Z"
   },
   {
    "duration": 0,
    "start_time": "2024-12-22T19:06:43.092Z"
   },
   {
    "duration": 0,
    "start_time": "2024-12-22T19:06:43.094Z"
   },
   {
    "duration": 0,
    "start_time": "2024-12-22T19:06:43.095Z"
   },
   {
    "duration": 0,
    "start_time": "2024-12-22T19:06:43.096Z"
   },
   {
    "duration": 0,
    "start_time": "2024-12-22T19:06:43.097Z"
   },
   {
    "duration": 0,
    "start_time": "2024-12-22T19:06:43.099Z"
   },
   {
    "duration": 0,
    "start_time": "2024-12-22T19:06:43.100Z"
   },
   {
    "duration": 12317,
    "start_time": "2024-12-22T19:07:46.786Z"
   },
   {
    "duration": 2589,
    "start_time": "2024-12-22T19:07:59.106Z"
   },
   {
    "duration": 104,
    "start_time": "2024-12-22T19:08:01.697Z"
   },
   {
    "duration": 10,
    "start_time": "2024-12-22T19:08:01.802Z"
   },
   {
    "duration": 15,
    "start_time": "2024-12-22T19:08:01.814Z"
   },
   {
    "duration": 38,
    "start_time": "2024-12-22T19:08:01.886Z"
   },
   {
    "duration": 22,
    "start_time": "2024-12-22T19:08:01.925Z"
   },
   {
    "duration": 11,
    "start_time": "2024-12-22T19:08:01.987Z"
   },
   {
    "duration": 923,
    "start_time": "2024-12-22T19:08:01.999Z"
   },
   {
    "duration": 909,
    "start_time": "2024-12-22T19:08:02.924Z"
   },
   {
    "duration": 7,
    "start_time": "2024-12-22T19:08:03.887Z"
   },
   {
    "duration": 629,
    "start_time": "2024-12-22T19:08:03.895Z"
   },
   {
    "duration": 990,
    "start_time": "2024-12-22T19:08:04.526Z"
   },
   {
    "duration": 674,
    "start_time": "2024-12-22T19:08:05.519Z"
   },
   {
    "duration": 517,
    "start_time": "2024-12-22T19:08:06.195Z"
   },
   {
    "duration": 603,
    "start_time": "2024-12-22T19:08:06.714Z"
   },
   {
    "duration": 2,
    "start_time": "2024-12-22T19:08:07.319Z"
   },
   {
    "duration": 64,
    "start_time": "2024-12-22T19:08:07.322Z"
   },
   {
    "duration": 17,
    "start_time": "2024-12-22T19:08:07.388Z"
   },
   {
    "duration": 4,
    "start_time": "2024-12-22T19:08:07.406Z"
   },
   {
    "duration": 82,
    "start_time": "2024-12-22T19:08:07.412Z"
   },
   {
    "duration": 233,
    "start_time": "2024-12-22T19:08:07.496Z"
   },
   {
    "duration": 0,
    "start_time": "2024-12-22T19:08:07.731Z"
   },
   {
    "duration": 0,
    "start_time": "2024-12-22T19:08:07.787Z"
   },
   {
    "duration": 0,
    "start_time": "2024-12-22T19:08:07.788Z"
   },
   {
    "duration": 0,
    "start_time": "2024-12-22T19:08:07.789Z"
   },
   {
    "duration": 0,
    "start_time": "2024-12-22T19:08:07.790Z"
   },
   {
    "duration": 0,
    "start_time": "2024-12-22T19:08:07.792Z"
   },
   {
    "duration": 0,
    "start_time": "2024-12-22T19:08:07.792Z"
   },
   {
    "duration": 0,
    "start_time": "2024-12-22T19:08:07.793Z"
   },
   {
    "duration": 0,
    "start_time": "2024-12-22T19:08:07.794Z"
   },
   {
    "duration": 0,
    "start_time": "2024-12-22T19:08:07.795Z"
   },
   {
    "duration": 11,
    "start_time": "2024-12-22T19:09:02.922Z"
   },
   {
    "duration": 2,
    "start_time": "2024-12-22T19:11:05.253Z"
   },
   {
    "duration": 2040,
    "start_time": "2024-12-22T19:11:08.152Z"
   },
   {
    "duration": 1775,
    "start_time": "2024-12-22T19:12:10.012Z"
   },
   {
    "duration": 79807,
    "start_time": "2024-12-22T19:15:44.966Z"
   },
   {
    "duration": 2459,
    "start_time": "2024-12-22T19:20:41.036Z"
   },
   {
    "duration": 102058,
    "start_time": "2024-12-22T19:21:19.724Z"
   },
   {
    "duration": 2,
    "start_time": "2024-12-22T19:26:50.441Z"
   },
   {
    "duration": 934,
    "start_time": "2024-12-22T19:28:27.729Z"
   },
   {
    "duration": 1298,
    "start_time": "2024-12-22T19:30:29.584Z"
   },
   {
    "duration": 954,
    "start_time": "2024-12-22T19:31:37.872Z"
   },
   {
    "duration": 1554,
    "start_time": "2024-12-22T19:32:20.247Z"
   },
   {
    "duration": 920,
    "start_time": "2024-12-22T19:34:24.039Z"
   },
   {
    "duration": 15112,
    "start_time": "2024-12-22T19:36:12.681Z"
   },
   {
    "duration": 5,
    "start_time": "2024-12-22T19:36:43.110Z"
   },
   {
    "duration": 968,
    "start_time": "2024-12-22T19:36:54.598Z"
   },
   {
    "duration": 7750,
    "start_time": "2024-12-22T19:40:11.003Z"
   },
   {
    "duration": 83,
    "start_time": "2024-12-22T19:41:15.140Z"
   },
   {
    "duration": 9081,
    "start_time": "2024-12-22T19:41:21.698Z"
   },
   {
    "duration": 5,
    "start_time": "2024-12-22T19:41:43.284Z"
   },
   {
    "duration": 891,
    "start_time": "2024-12-22T19:41:49.171Z"
   },
   {
    "duration": 20,
    "start_time": "2024-12-22T19:45:29.730Z"
   },
   {
    "duration": 19,
    "start_time": "2024-12-22T19:45:41.554Z"
   },
   {
    "duration": 1055,
    "start_time": "2024-12-22T19:46:16.650Z"
   },
   {
    "duration": 9005,
    "start_time": "2024-12-22T19:46:29.668Z"
   },
   {
    "duration": 1721,
    "start_time": "2024-12-22T19:46:38.675Z"
   },
   {
    "duration": 58,
    "start_time": "2024-12-22T19:46:40.397Z"
   },
   {
    "duration": 8,
    "start_time": "2024-12-22T19:46:40.456Z"
   },
   {
    "duration": 3,
    "start_time": "2024-12-22T19:46:40.466Z"
   },
   {
    "duration": 13,
    "start_time": "2024-12-22T19:46:40.471Z"
   },
   {
    "duration": 3,
    "start_time": "2024-12-22T19:46:40.485Z"
   },
   {
    "duration": 8,
    "start_time": "2024-12-22T19:46:40.490Z"
   },
   {
    "duration": 479,
    "start_time": "2024-12-22T19:46:40.500Z"
   },
   {
    "duration": 516,
    "start_time": "2024-12-22T19:46:40.982Z"
   },
   {
    "duration": 6,
    "start_time": "2024-12-22T19:46:41.499Z"
   },
   {
    "duration": 385,
    "start_time": "2024-12-22T19:46:41.507Z"
   },
   {
    "duration": 519,
    "start_time": "2024-12-22T19:46:41.893Z"
   },
   {
    "duration": 464,
    "start_time": "2024-12-22T19:46:42.413Z"
   },
   {
    "duration": 330,
    "start_time": "2024-12-22T19:46:42.879Z"
   },
   {
    "duration": 286,
    "start_time": "2024-12-22T19:46:43.211Z"
   },
   {
    "duration": 4,
    "start_time": "2024-12-22T19:46:43.498Z"
   },
   {
    "duration": 29,
    "start_time": "2024-12-22T19:46:43.504Z"
   },
   {
    "duration": 3,
    "start_time": "2024-12-22T19:46:43.534Z"
   },
   {
    "duration": 20,
    "start_time": "2024-12-22T19:46:43.539Z"
   },
   {
    "duration": 9,
    "start_time": "2024-12-22T19:46:43.560Z"
   },
   {
    "duration": 1525,
    "start_time": "2024-12-22T19:46:43.570Z"
   },
   {
    "duration": 8876,
    "start_time": "2024-12-22T19:47:25.407Z"
   },
   {
    "duration": 1729,
    "start_time": "2024-12-22T19:47:34.286Z"
   },
   {
    "duration": 58,
    "start_time": "2024-12-22T19:47:36.018Z"
   },
   {
    "duration": 8,
    "start_time": "2024-12-22T19:47:36.078Z"
   },
   {
    "duration": 14,
    "start_time": "2024-12-22T19:47:36.087Z"
   },
   {
    "duration": 14,
    "start_time": "2024-12-22T19:47:36.102Z"
   },
   {
    "duration": 4,
    "start_time": "2024-12-22T19:47:36.117Z"
   },
   {
    "duration": 14,
    "start_time": "2024-12-22T19:47:36.123Z"
   },
   {
    "duration": 460,
    "start_time": "2024-12-22T19:47:36.139Z"
   },
   {
    "duration": 511,
    "start_time": "2024-12-22T19:47:36.601Z"
   },
   {
    "duration": 6,
    "start_time": "2024-12-22T19:47:37.113Z"
   },
   {
    "duration": 366,
    "start_time": "2024-12-22T19:47:37.120Z"
   },
   {
    "duration": 517,
    "start_time": "2024-12-22T19:47:37.489Z"
   },
   {
    "duration": 448,
    "start_time": "2024-12-22T19:47:38.008Z"
   },
   {
    "duration": 318,
    "start_time": "2024-12-22T19:47:38.458Z"
   },
   {
    "duration": 268,
    "start_time": "2024-12-22T19:47:38.778Z"
   },
   {
    "duration": 5,
    "start_time": "2024-12-22T19:47:39.048Z"
   },
   {
    "duration": 33,
    "start_time": "2024-12-22T19:47:39.055Z"
   },
   {
    "duration": 3,
    "start_time": "2024-12-22T19:47:39.090Z"
   },
   {
    "duration": 21,
    "start_time": "2024-12-22T19:47:39.095Z"
   },
   {
    "duration": 8,
    "start_time": "2024-12-22T19:47:39.118Z"
   },
   {
    "duration": 967,
    "start_time": "2024-12-22T19:47:39.127Z"
   },
   {
    "duration": 98182,
    "start_time": "2024-12-22T19:47:40.096Z"
   },
   {
    "duration": 6218,
    "start_time": "2024-12-22T19:49:18.280Z"
   },
   {
    "duration": 4,
    "start_time": "2024-12-22T19:49:24.499Z"
   },
   {
    "duration": 494,
    "start_time": "2024-12-22T19:49:24.504Z"
   },
   {
    "duration": 4,
    "start_time": "2024-12-22T19:49:24.999Z"
   },
   {
    "duration": 53378,
    "start_time": "2024-12-22T19:51:22.763Z"
   },
   {
    "duration": 12,
    "start_time": "2024-12-22T20:00:19.429Z"
   },
   {
    "duration": 6572,
    "start_time": "2024-12-22T20:03:46.947Z"
   },
   {
    "duration": 55487,
    "start_time": "2024-12-22T20:03:53.521Z"
   },
   {
    "duration": 8,
    "start_time": "2024-12-22T20:04:49.009Z"
   },
   {
    "duration": 8,
    "start_time": "2024-12-22T20:05:11.531Z"
   },
   {
    "duration": 7,
    "start_time": "2024-12-22T20:05:35.129Z"
   },
   {
    "duration": 9011,
    "start_time": "2024-12-22T20:18:22.147Z"
   },
   {
    "duration": 1751,
    "start_time": "2024-12-22T20:18:31.161Z"
   },
   {
    "duration": 61,
    "start_time": "2024-12-22T20:18:32.914Z"
   },
   {
    "duration": 9,
    "start_time": "2024-12-22T20:18:32.977Z"
   },
   {
    "duration": 6,
    "start_time": "2024-12-22T20:18:32.987Z"
   },
   {
    "duration": 17,
    "start_time": "2024-12-22T20:18:32.995Z"
   },
   {
    "duration": 4,
    "start_time": "2024-12-22T20:18:33.014Z"
   },
   {
    "duration": 29,
    "start_time": "2024-12-22T20:18:33.019Z"
   },
   {
    "duration": 439,
    "start_time": "2024-12-22T20:18:33.049Z"
   },
   {
    "duration": 518,
    "start_time": "2024-12-22T20:18:33.491Z"
   },
   {
    "duration": 6,
    "start_time": "2024-12-22T20:18:34.011Z"
   },
   {
    "duration": 377,
    "start_time": "2024-12-22T20:18:34.018Z"
   },
   {
    "duration": 555,
    "start_time": "2024-12-22T20:18:34.396Z"
   },
   {
    "duration": 446,
    "start_time": "2024-12-22T20:18:34.953Z"
   },
   {
    "duration": 370,
    "start_time": "2024-12-22T20:18:35.400Z"
   },
   {
    "duration": 273,
    "start_time": "2024-12-22T20:18:35.771Z"
   },
   {
    "duration": 5,
    "start_time": "2024-12-22T20:18:36.045Z"
   },
   {
    "duration": 90,
    "start_time": "2024-12-22T20:18:36.051Z"
   },
   {
    "duration": 5,
    "start_time": "2024-12-22T20:18:36.142Z"
   },
   {
    "duration": 31,
    "start_time": "2024-12-22T20:18:36.148Z"
   },
   {
    "duration": 27,
    "start_time": "2024-12-22T20:18:36.180Z"
   },
   {
    "duration": 1677,
    "start_time": "2024-12-22T20:18:36.209Z"
   },
   {
    "duration": 99739,
    "start_time": "2024-12-22T20:18:37.888Z"
   },
   {
    "duration": 6535,
    "start_time": "2024-12-22T20:20:17.629Z"
   },
   {
    "duration": 56089,
    "start_time": "2024-12-22T20:20:24.167Z"
   },
   {
    "duration": 7,
    "start_time": "2024-12-22T20:21:20.257Z"
   },
   {
    "duration": 12,
    "start_time": "2024-12-22T20:21:20.266Z"
   },
   {
    "duration": 17160,
    "start_time": "2024-12-23T05:42:12.844Z"
   },
   {
    "duration": 1793,
    "start_time": "2024-12-23T05:42:30.006Z"
   },
   {
    "duration": 109,
    "start_time": "2024-12-23T05:42:31.801Z"
   },
   {
    "duration": 10,
    "start_time": "2024-12-23T05:42:31.911Z"
   },
   {
    "duration": 12,
    "start_time": "2024-12-23T05:42:31.923Z"
   },
   {
    "duration": 25,
    "start_time": "2024-12-23T05:42:31.936Z"
   },
   {
    "duration": 4,
    "start_time": "2024-12-23T05:42:31.964Z"
   },
   {
    "duration": 45,
    "start_time": "2024-12-23T05:42:31.970Z"
   },
   {
    "duration": 647,
    "start_time": "2024-12-23T05:42:32.016Z"
   },
   {
    "duration": 499,
    "start_time": "2024-12-23T05:42:32.664Z"
   },
   {
    "duration": 7,
    "start_time": "2024-12-23T05:42:33.165Z"
   },
   {
    "duration": 378,
    "start_time": "2024-12-23T05:42:33.174Z"
   },
   {
    "duration": 528,
    "start_time": "2024-12-23T05:42:33.553Z"
   },
   {
    "duration": 365,
    "start_time": "2024-12-23T05:42:34.085Z"
   },
   {
    "duration": 365,
    "start_time": "2024-12-23T05:42:34.452Z"
   },
   {
    "duration": 281,
    "start_time": "2024-12-23T05:42:34.819Z"
   },
   {
    "duration": 6,
    "start_time": "2024-12-23T05:42:35.102Z"
   },
   {
    "duration": 49,
    "start_time": "2024-12-23T05:42:35.109Z"
   },
   {
    "duration": 4,
    "start_time": "2024-12-23T05:42:35.160Z"
   },
   {
    "duration": 135,
    "start_time": "2024-12-23T05:42:35.166Z"
   },
   {
    "duration": 36,
    "start_time": "2024-12-23T05:42:35.303Z"
   },
   {
    "duration": 2298,
    "start_time": "2024-12-23T05:42:35.341Z"
   },
   {
    "duration": 84410,
    "start_time": "2024-12-23T05:42:37.731Z"
   },
   {
    "duration": 6845,
    "start_time": "2024-12-23T05:44:02.142Z"
   },
   {
    "duration": 51711,
    "start_time": "2024-12-23T05:44:08.989Z"
   },
   {
    "duration": 9,
    "start_time": "2024-12-23T05:45:00.701Z"
   },
   {
    "duration": 39,
    "start_time": "2024-12-23T05:45:00.712Z"
   },
   {
    "duration": 497,
    "start_time": "2024-12-23T05:45:00.753Z"
   },
   {
    "duration": 7854,
    "start_time": "2024-12-23T05:47:58.619Z"
   },
   {
    "duration": 1549,
    "start_time": "2024-12-23T05:48:06.476Z"
   },
   {
    "duration": 60,
    "start_time": "2024-12-23T05:48:08.027Z"
   },
   {
    "duration": 10,
    "start_time": "2024-12-23T05:48:08.089Z"
   },
   {
    "duration": 4,
    "start_time": "2024-12-23T05:48:08.101Z"
   },
   {
    "duration": 32,
    "start_time": "2024-12-23T05:48:08.107Z"
   },
   {
    "duration": 26,
    "start_time": "2024-12-23T05:48:08.140Z"
   },
   {
    "duration": 95,
    "start_time": "2024-12-23T05:48:08.167Z"
   },
   {
    "duration": 591,
    "start_time": "2024-12-23T05:48:08.264Z"
   },
   {
    "duration": 509,
    "start_time": "2024-12-23T05:48:08.857Z"
   },
   {
    "duration": 8,
    "start_time": "2024-12-23T05:48:09.367Z"
   },
   {
    "duration": 380,
    "start_time": "2024-12-23T05:48:09.377Z"
   },
   {
    "duration": 519,
    "start_time": "2024-12-23T05:48:09.759Z"
   },
   {
    "duration": 368,
    "start_time": "2024-12-23T05:48:10.280Z"
   },
   {
    "duration": 366,
    "start_time": "2024-12-23T05:48:10.649Z"
   },
   {
    "duration": 276,
    "start_time": "2024-12-23T05:48:11.017Z"
   },
   {
    "duration": 5,
    "start_time": "2024-12-23T05:48:11.294Z"
   },
   {
    "duration": 40,
    "start_time": "2024-12-23T05:48:11.300Z"
   },
   {
    "duration": 4,
    "start_time": "2024-12-23T05:48:11.341Z"
   },
   {
    "duration": 132,
    "start_time": "2024-12-23T05:48:11.346Z"
   },
   {
    "duration": 8,
    "start_time": "2024-12-23T05:48:11.480Z"
   },
   {
    "duration": 1050,
    "start_time": "2024-12-23T05:48:11.489Z"
   },
   {
    "duration": 84833,
    "start_time": "2024-12-23T05:48:12.632Z"
   },
   {
    "duration": 6538,
    "start_time": "2024-12-23T05:49:37.466Z"
   },
   {
    "duration": 51312,
    "start_time": "2024-12-23T05:49:44.005Z"
   },
   {
    "duration": 10,
    "start_time": "2024-12-23T05:50:35.318Z"
   },
   {
    "duration": 151,
    "start_time": "2024-12-23T05:50:35.330Z"
   },
   {
    "duration": 9,
    "start_time": "2024-12-23T05:54:33.577Z"
   },
   {
    "duration": 20,
    "start_time": "2024-12-23T05:55:20.382Z"
   },
   {
    "duration": 19,
    "start_time": "2024-12-23T05:55:33.320Z"
   },
   {
    "duration": 201,
    "start_time": "2025-02-12T19:54:12.049Z"
   },
   {
    "duration": 201,
    "start_time": "2025-02-12T19:54:58.350Z"
   },
   {
    "duration": 24690,
    "start_time": "2025-02-12T19:55:46.359Z"
   },
   {
    "duration": 92,
    "start_time": "2025-02-12T19:56:28.658Z"
   },
   {
    "duration": 7,
    "start_time": "2025-02-12T19:57:47.150Z"
   },
   {
    "duration": 1506,
    "start_time": "2025-02-12T19:59:44.155Z"
   },
   {
    "duration": 106,
    "start_time": "2025-02-12T20:00:32.148Z"
   },
   {
    "duration": 106,
    "start_time": "2025-02-12T20:07:22.250Z"
   },
   {
    "duration": 196,
    "start_time": "2025-02-12T20:07:47.654Z"
   },
   {
    "duration": 100,
    "start_time": "2025-02-12T20:08:09.748Z"
   },
   {
    "duration": 78901,
    "start_time": "2025-02-12T20:12:16.151Z"
   },
   {
    "duration": 56198,
    "start_time": "2025-02-12T20:17:49.858Z"
   },
   {
    "duration": 17592,
    "start_time": "2025-02-12T20:18:46.059Z"
   },
   {
    "duration": 594,
    "start_time": "2025-02-12T20:19:03.655Z"
   },
   {
    "duration": 104,
    "start_time": "2025-02-12T20:19:04.251Z"
   },
   {
    "duration": 92,
    "start_time": "2025-02-12T20:19:04.360Z"
   },
   {
    "duration": 198,
    "start_time": "2025-02-12T20:19:04.455Z"
   },
   {
    "duration": 99,
    "start_time": "2025-02-12T20:19:04.656Z"
   },
   {
    "duration": 194,
    "start_time": "2025-02-12T20:19:04.757Z"
   },
   {
    "duration": 4688,
    "start_time": "2025-02-12T20:19:04.959Z"
   },
   {
    "duration": 4511,
    "start_time": "2025-02-12T20:19:09.649Z"
   },
   {
    "duration": 8,
    "start_time": "2025-02-12T20:19:14.250Z"
   },
   {
    "duration": 3497,
    "start_time": "2025-02-12T20:19:14.351Z"
   },
   {
    "duration": 4907,
    "start_time": "2025-02-12T20:19:17.850Z"
   },
   {
    "duration": 3198,
    "start_time": "2025-02-12T20:19:22.851Z"
   },
   {
    "duration": 3400,
    "start_time": "2025-02-12T20:19:26.057Z"
   },
   {
    "duration": 3806,
    "start_time": "2025-02-12T20:19:29.551Z"
   },
   {
    "duration": 7,
    "start_time": "2025-02-12T20:19:33.449Z"
   },
   {
    "duration": 405,
    "start_time": "2025-02-12T20:19:33.548Z"
   },
   {
    "duration": 96,
    "start_time": "2025-02-12T20:19:33.955Z"
   },
   {
    "duration": 297,
    "start_time": "2025-02-12T20:19:34.060Z"
   },
   {
    "duration": 98,
    "start_time": "2025-02-12T20:19:34.452Z"
   },
   {
    "duration": 3905,
    "start_time": "2025-02-12T20:19:34.552Z"
   },
   {
    "duration": 757291,
    "start_time": "2025-02-12T20:19:38.459Z"
   },
   {
    "duration": 75407,
    "start_time": "2025-02-12T20:32:15.753Z"
   },
   {
    "duration": 557888,
    "start_time": "2025-02-12T20:33:31.162Z"
   },
   {
    "duration": 97,
    "start_time": "2025-02-12T20:42:49.054Z"
   },
   {
    "duration": 100,
    "start_time": "2025-02-12T20:42:49.153Z"
   },
   {
    "duration": 95,
    "start_time": "2025-02-12T20:49:18.358Z"
   },
   {
    "duration": 1106,
    "start_time": "2025-02-12T20:49:19.250Z"
   },
   {
    "duration": 102,
    "start_time": "2025-02-12T20:49:31.049Z"
   },
   {
    "duration": 108,
    "start_time": "2025-02-12T20:49:31.950Z"
   },
   {
    "duration": 3103,
    "start_time": "2025-02-12T20:49:39.151Z"
   },
   {
    "duration": 409,
    "start_time": "2025-02-12T20:49:42.449Z"
   },
   {
    "duration": 208,
    "start_time": "2025-02-12T20:49:57.748Z"
   },
   {
    "duration": 94,
    "start_time": "2025-02-12T20:49:59.353Z"
   },
   {
    "duration": 110,
    "start_time": "2025-02-12T20:51:43.349Z"
   },
   {
    "duration": 9,
    "start_time": "2025-02-12T20:51:50.049Z"
   },
   {
    "duration": 202,
    "start_time": "2025-02-12T20:51:50.449Z"
   },
   {
    "duration": 96,
    "start_time": "2025-02-12T20:52:04.552Z"
   },
   {
    "duration": 108,
    "start_time": "2025-02-12T20:52:04.949Z"
   },
   {
    "duration": 195,
    "start_time": "2025-02-12T20:52:12.952Z"
   },
   {
    "duration": 302,
    "start_time": "2025-02-12T20:52:13.349Z"
   },
   {
    "duration": 50204,
    "start_time": "2025-02-12T20:55:53.652Z"
   },
   {
    "duration": 14797,
    "start_time": "2025-02-12T20:56:43.858Z"
   },
   {
    "duration": 404,
    "start_time": "2025-02-12T20:56:58.660Z"
   },
   {
    "duration": 100,
    "start_time": "2025-02-12T20:56:59.153Z"
   },
   {
    "duration": 8,
    "start_time": "2025-02-12T20:56:59.347Z"
   },
   {
    "duration": 293,
    "start_time": "2025-02-12T20:56:59.357Z"
   },
   {
    "duration": 9,
    "start_time": "2025-02-12T20:56:59.652Z"
   },
   {
    "duration": 112,
    "start_time": "2025-02-12T20:56:59.747Z"
   },
   {
    "duration": 4104,
    "start_time": "2025-02-12T20:56:59.953Z"
   },
   {
    "duration": 4094,
    "start_time": "2025-02-12T20:57:04.062Z"
   },
   {
    "duration": 102,
    "start_time": "2025-02-12T20:57:08.158Z"
   },
   {
    "duration": 2892,
    "start_time": "2025-02-12T20:57:08.355Z"
   },
   {
    "duration": 4100,
    "start_time": "2025-02-12T20:57:11.254Z"
   },
   {
    "duration": 2691,
    "start_time": "2025-02-12T20:57:15.356Z"
   },
   {
    "duration": 3002,
    "start_time": "2025-02-12T20:57:18.052Z"
   },
   {
    "duration": 3692,
    "start_time": "2025-02-12T20:57:21.060Z"
   },
   {
    "duration": 95,
    "start_time": "2025-02-12T20:57:24.758Z"
   },
   {
    "duration": 391,
    "start_time": "2025-02-12T20:57:24.859Z"
   },
   {
    "duration": 98,
    "start_time": "2025-02-12T20:57:25.252Z"
   },
   {
    "duration": 303,
    "start_time": "2025-02-12T20:57:25.353Z"
   },
   {
    "duration": 99,
    "start_time": "2025-02-12T20:57:25.659Z"
   },
   {
    "duration": 3991,
    "start_time": "2025-02-12T20:57:25.760Z"
   },
   {
    "duration": 684391,
    "start_time": "2025-02-12T20:57:29.756Z"
   },
   {
    "duration": 74105,
    "start_time": "2025-02-12T21:08:54.150Z"
   },
   {
    "duration": 556704,
    "start_time": "2025-02-12T21:10:08.257Z"
   },
   {
    "duration": 186,
    "start_time": "2025-02-12T21:19:24.963Z"
   },
   {
    "duration": 189,
    "start_time": "2025-02-12T21:19:25.158Z"
   }
  ],
  "kernelspec": {
   "display_name": "Python 3 (ipykernel)",
   "language": "python",
   "name": "python3"
  },
  "language_info": {
   "codemirror_mode": {
    "name": "ipython",
    "version": 3
   },
   "file_extension": ".py",
   "mimetype": "text/x-python",
   "name": "python",
   "nbconvert_exporter": "python",
   "pygments_lexer": "ipython3",
   "version": "3.9.5"
  },
  "toc": {
   "base_numbering": 1,
   "nav_menu": {},
   "number_sections": true,
   "sideBar": true,
   "skip_h1_title": true,
   "title_cell": "Содержание",
   "title_sidebar": "Contents",
   "toc_cell": true,
   "toc_position": {},
   "toc_section_display": true,
   "toc_window_display": true
  }
 },
 "nbformat": 4,
 "nbformat_minor": 2
}

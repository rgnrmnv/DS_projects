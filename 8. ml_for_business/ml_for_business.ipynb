{
 "cells": [
  {
   "cell_type": "markdown",
   "metadata": {},
   "source": [
    "# Проект \"Выбор локации для скважины\""
   ]
  },
  {
   "cell_type": "markdown",
   "metadata": {},
   "source": [
    "**Описание исследования**\n",
    "\n",
    "Имеется добывающая компания «ГлавРосГосНефть». Нужно решить, где бурить новую скважину. \n",
    "\n",
    "Шаги для выбора локации обычно такие:\n",
    "- В избранном регионе собирают характеристики для скважин: качество нефти и объём её запасов;\n",
    "- Строят модель для предсказания объёма запасов в новых скважинах;\n",
    "- Выбирают скважины с самыми высокими оценками значений;\n",
    "- Определяют регион с максимальной суммарной прибылью отобранных скважин.\n",
    "- Вам предоставлены пробы нефти в трёх регионах. Характеристики для каждой скважины в регионе уже известны. Постройте модель для - определения региона, где добыча принесёт наибольшую прибыль. Проанализируйте возможную прибыль и риски техникой Bootstrap.. \n",
    "\n",
    "\n",
    "**Цель исследования**\n",
    "\n",
    "Разработать решение, которое позволит выбрать локацию для бурения нефтяной скважины.\n",
    "\n",
    "**Исходные данные. Описание данных**\n",
    "\n",
    "Данные геологоразведки трёх регионов находятся в файлах: \n",
    "\n",
    "`/datasets/geo_data_0.csv.`\n",
    "\n",
    "`/datasets/geo_data_1.csv.` \n",
    "\n",
    "`/datasets/geo_data_2.csv.`\n",
    "\n",
    "- id — уникальный идентификатор скважины;\n",
    "\n",
    "- f0, f1, f2 — три признака точек (неважно, что они означают, но сами признаки значимы);\n",
    "\n",
    "- product — объём запасов в скважине (тыс. баррелей) - **целевой признак**.\n",
    "\n",
    "**Условия задачи:** \n",
    "\n",
    "- Для обучения модели подходит только линейная регрессия (остальные — недостаточно предсказуемые).\n",
    "- При разведке региона исследуют 500 точек, из которых с помощью машинного обучения выбирают 200 лучших для разработки.\n",
    "- Бюджет на разработку скважин в регионе — 10 млрд рублей.\n",
    "- При нынешних ценах один баррель сырья приносит 450 рублей дохода. Доход с каждой единицы продукта составляет 450 тыс. рублей, поскольку объём указан в тысячах баррелей.\n",
    "- После оценки рисков нужно оставить лишь те регионы, в которых вероятность убытков меньше 2.5%. Среди них выбирают регион с наибольшей средней прибылью.\n",
    "\n",
    "\n",
    "**Данные синтетические: детали контрактов и характеристики месторождений не разглашаются.**\n"
   ]
  },
  {
   "cell_type": "markdown",
   "metadata": {},
   "source": [
    "## Импорт библиотек, загрузка, чтение данных"
   ]
  },
  {
   "cell_type": "code",
   "execution_count": 1,
   "metadata": {},
   "outputs": [],
   "source": [
    "!pip install -q phik\n",
    "\n",
    "#ИЛИ\n",
    "# !pip install -r requirements.txt\n",
    "# при необходимости можно запустить данную команду, для установки версий библиотек,\n",
    "#которые использовались при использовании данного проекта\n",
    "# и с которыми не возникали конфликты"
   ]
  },
  {
   "cell_type": "code",
   "execution_count": 2,
   "metadata": {},
   "outputs": [],
   "source": [
    "import pandas as pd\n",
    "from sklearn.linear_model import LinearRegression\n",
    "import numpy as np\n",
    "from numpy.random import RandomState\n",
    "import matplotlib.pyplot as plt\n",
    "import itertools\n",
    "import seaborn as sns\n",
    "from sklearn.metrics import (mean_absolute_error, \n",
    "                             mean_squared_error,\n",
    "                             )\n",
    "from sklearn.model_selection import train_test_split\n",
    "import phik\n",
    "from phik.report import plot_correlation_matrix\n",
    "from phik import report\n",
    "from phik import phik_matrix\n",
    "from scipy import stats as st\n",
    "\n",
    "import warnings\n",
    "warnings.filterwarnings('ignore')"
   ]
  },
  {
   "cell_type": "code",
   "execution_count": 3,
   "metadata": {},
   "outputs": [],
   "source": [
    "# Проведем импорт констант\n",
    "RANDOM_STATE = 42\n",
    "TEST_SIZE = 0.25"
   ]
  },
  {
   "cell_type": "code",
   "execution_count": 4,
   "metadata": {},
   "outputs": [
    {
     "data": {
      "text/html": [
       "<div>\n",
       "<style scoped>\n",
       "    .dataframe tbody tr th:only-of-type {\n",
       "        vertical-align: middle;\n",
       "    }\n",
       "\n",
       "    .dataframe tbody tr th {\n",
       "        vertical-align: top;\n",
       "    }\n",
       "\n",
       "    .dataframe thead th {\n",
       "        text-align: right;\n",
       "    }\n",
       "</style>\n",
       "<table border=\"1\" class=\"dataframe\">\n",
       "  <thead>\n",
       "    <tr style=\"text-align: right;\">\n",
       "      <th></th>\n",
       "      <th>id</th>\n",
       "      <th>f0</th>\n",
       "      <th>f1</th>\n",
       "      <th>f2</th>\n",
       "      <th>product</th>\n",
       "    </tr>\n",
       "  </thead>\n",
       "  <tbody>\n",
       "    <tr>\n",
       "      <th>0</th>\n",
       "      <td>txEyH</td>\n",
       "      <td>0.705745</td>\n",
       "      <td>-0.497823</td>\n",
       "      <td>1.221170</td>\n",
       "      <td>105.280062</td>\n",
       "    </tr>\n",
       "    <tr>\n",
       "      <th>1</th>\n",
       "      <td>2acmU</td>\n",
       "      <td>1.334711</td>\n",
       "      <td>-0.340164</td>\n",
       "      <td>4.365080</td>\n",
       "      <td>73.037750</td>\n",
       "    </tr>\n",
       "    <tr>\n",
       "      <th>2</th>\n",
       "      <td>409Wp</td>\n",
       "      <td>1.022732</td>\n",
       "      <td>0.151990</td>\n",
       "      <td>1.419926</td>\n",
       "      <td>85.265647</td>\n",
       "    </tr>\n",
       "    <tr>\n",
       "      <th>3</th>\n",
       "      <td>iJLyR</td>\n",
       "      <td>-0.032172</td>\n",
       "      <td>0.139033</td>\n",
       "      <td>2.978566</td>\n",
       "      <td>168.620776</td>\n",
       "    </tr>\n",
       "    <tr>\n",
       "      <th>4</th>\n",
       "      <td>Xdl7t</td>\n",
       "      <td>1.988431</td>\n",
       "      <td>0.155413</td>\n",
       "      <td>4.751769</td>\n",
       "      <td>154.036647</td>\n",
       "    </tr>\n",
       "  </tbody>\n",
       "</table>\n",
       "</div>"
      ],
      "text/plain": [
       "      id        f0        f1        f2     product\n",
       "0  txEyH  0.705745 -0.497823  1.221170  105.280062\n",
       "1  2acmU  1.334711 -0.340164  4.365080   73.037750\n",
       "2  409Wp  1.022732  0.151990  1.419926   85.265647\n",
       "3  iJLyR -0.032172  0.139033  2.978566  168.620776\n",
       "4  Xdl7t  1.988431  0.155413  4.751769  154.036647"
      ]
     },
     "execution_count": 4,
     "metadata": {},
     "output_type": "execute_result"
    }
   ],
   "source": [
    "try:\n",
    "    gd_0 = pd.read_csv('/datasets/geo_data_0.csv')\n",
    "except:\n",
    "    gd_0 = pd.read_csv('https://code.s3.yandex.net/datasets/geo_data_0.csv')\n",
    "\n",
    "gd_0.head()"
   ]
  },
  {
   "cell_type": "code",
   "execution_count": 5,
   "metadata": {},
   "outputs": [
    {
     "data": {
      "text/html": [
       "<div>\n",
       "<style scoped>\n",
       "    .dataframe tbody tr th:only-of-type {\n",
       "        vertical-align: middle;\n",
       "    }\n",
       "\n",
       "    .dataframe tbody tr th {\n",
       "        vertical-align: top;\n",
       "    }\n",
       "\n",
       "    .dataframe thead th {\n",
       "        text-align: right;\n",
       "    }\n",
       "</style>\n",
       "<table border=\"1\" class=\"dataframe\">\n",
       "  <thead>\n",
       "    <tr style=\"text-align: right;\">\n",
       "      <th></th>\n",
       "      <th>id</th>\n",
       "      <th>f0</th>\n",
       "      <th>f1</th>\n",
       "      <th>f2</th>\n",
       "      <th>product</th>\n",
       "    </tr>\n",
       "  </thead>\n",
       "  <tbody>\n",
       "    <tr>\n",
       "      <th>0</th>\n",
       "      <td>kBEdx</td>\n",
       "      <td>-15.001348</td>\n",
       "      <td>-8.276000</td>\n",
       "      <td>-0.005876</td>\n",
       "      <td>3.179103</td>\n",
       "    </tr>\n",
       "    <tr>\n",
       "      <th>1</th>\n",
       "      <td>62mP7</td>\n",
       "      <td>14.272088</td>\n",
       "      <td>-3.475083</td>\n",
       "      <td>0.999183</td>\n",
       "      <td>26.953261</td>\n",
       "    </tr>\n",
       "    <tr>\n",
       "      <th>2</th>\n",
       "      <td>vyE1P</td>\n",
       "      <td>6.263187</td>\n",
       "      <td>-5.948386</td>\n",
       "      <td>5.001160</td>\n",
       "      <td>134.766305</td>\n",
       "    </tr>\n",
       "    <tr>\n",
       "      <th>3</th>\n",
       "      <td>KcrkZ</td>\n",
       "      <td>-13.081196</td>\n",
       "      <td>-11.506057</td>\n",
       "      <td>4.999415</td>\n",
       "      <td>137.945408</td>\n",
       "    </tr>\n",
       "    <tr>\n",
       "      <th>4</th>\n",
       "      <td>AHL4O</td>\n",
       "      <td>12.702195</td>\n",
       "      <td>-8.147433</td>\n",
       "      <td>5.004363</td>\n",
       "      <td>134.766305</td>\n",
       "    </tr>\n",
       "  </tbody>\n",
       "</table>\n",
       "</div>"
      ],
      "text/plain": [
       "      id         f0         f1        f2     product\n",
       "0  kBEdx -15.001348  -8.276000 -0.005876    3.179103\n",
       "1  62mP7  14.272088  -3.475083  0.999183   26.953261\n",
       "2  vyE1P   6.263187  -5.948386  5.001160  134.766305\n",
       "3  KcrkZ -13.081196 -11.506057  4.999415  137.945408\n",
       "4  AHL4O  12.702195  -8.147433  5.004363  134.766305"
      ]
     },
     "execution_count": 5,
     "metadata": {},
     "output_type": "execute_result"
    }
   ],
   "source": [
    "try:\n",
    "    gd_1 = pd.read_csv('/datasets/geo_data_1.csv')\n",
    "except:\n",
    "    gd_1 = pd.read_csv('https://code.s3.yandex.net/datasets/geo_data_1.csv')\n",
    "    \n",
    "gd_1.head()"
   ]
  },
  {
   "cell_type": "code",
   "execution_count": 6,
   "metadata": {},
   "outputs": [
    {
     "data": {
      "text/html": [
       "<div>\n",
       "<style scoped>\n",
       "    .dataframe tbody tr th:only-of-type {\n",
       "        vertical-align: middle;\n",
       "    }\n",
       "\n",
       "    .dataframe tbody tr th {\n",
       "        vertical-align: top;\n",
       "    }\n",
       "\n",
       "    .dataframe thead th {\n",
       "        text-align: right;\n",
       "    }\n",
       "</style>\n",
       "<table border=\"1\" class=\"dataframe\">\n",
       "  <thead>\n",
       "    <tr style=\"text-align: right;\">\n",
       "      <th></th>\n",
       "      <th>id</th>\n",
       "      <th>f0</th>\n",
       "      <th>f1</th>\n",
       "      <th>f2</th>\n",
       "      <th>product</th>\n",
       "    </tr>\n",
       "  </thead>\n",
       "  <tbody>\n",
       "    <tr>\n",
       "      <th>0</th>\n",
       "      <td>fwXo0</td>\n",
       "      <td>-1.146987</td>\n",
       "      <td>0.963328</td>\n",
       "      <td>-0.828965</td>\n",
       "      <td>27.758673</td>\n",
       "    </tr>\n",
       "    <tr>\n",
       "      <th>1</th>\n",
       "      <td>WJtFt</td>\n",
       "      <td>0.262778</td>\n",
       "      <td>0.269839</td>\n",
       "      <td>-2.530187</td>\n",
       "      <td>56.069697</td>\n",
       "    </tr>\n",
       "    <tr>\n",
       "      <th>2</th>\n",
       "      <td>ovLUW</td>\n",
       "      <td>0.194587</td>\n",
       "      <td>0.289035</td>\n",
       "      <td>-5.586433</td>\n",
       "      <td>62.871910</td>\n",
       "    </tr>\n",
       "    <tr>\n",
       "      <th>3</th>\n",
       "      <td>q6cA6</td>\n",
       "      <td>2.236060</td>\n",
       "      <td>-0.553760</td>\n",
       "      <td>0.930038</td>\n",
       "      <td>114.572842</td>\n",
       "    </tr>\n",
       "    <tr>\n",
       "      <th>4</th>\n",
       "      <td>WPMUX</td>\n",
       "      <td>-0.515993</td>\n",
       "      <td>1.716266</td>\n",
       "      <td>5.899011</td>\n",
       "      <td>149.600746</td>\n",
       "    </tr>\n",
       "  </tbody>\n",
       "</table>\n",
       "</div>"
      ],
      "text/plain": [
       "      id        f0        f1        f2     product\n",
       "0  fwXo0 -1.146987  0.963328 -0.828965   27.758673\n",
       "1  WJtFt  0.262778  0.269839 -2.530187   56.069697\n",
       "2  ovLUW  0.194587  0.289035 -5.586433   62.871910\n",
       "3  q6cA6  2.236060 -0.553760  0.930038  114.572842\n",
       "4  WPMUX -0.515993  1.716266  5.899011  149.600746"
      ]
     },
     "execution_count": 6,
     "metadata": {},
     "output_type": "execute_result"
    }
   ],
   "source": [
    "try:\n",
    "    gd_2 = pd.read_csv('/datasets/geo_data_2.csv')\n",
    "except:\n",
    "    gd_2 = pd.read_csv('https://code.s3.yandex.net/datasets/geo_data_2.csv')\n",
    "    \n",
    "gd_2.head()"
   ]
  },
  {
   "cell_type": "markdown",
   "metadata": {},
   "source": [
    "### Датасет gd_0 "
   ]
  },
  {
   "cell_type": "code",
   "execution_count": 7,
   "metadata": {},
   "outputs": [
    {
     "name": "stdout",
     "output_type": "stream",
     "text": [
      "<class 'pandas.core.frame.DataFrame'>\n",
      "RangeIndex: 100000 entries, 0 to 99999\n",
      "Data columns (total 5 columns):\n",
      " #   Column   Non-Null Count   Dtype  \n",
      "---  ------   --------------   -----  \n",
      " 0   id       100000 non-null  object \n",
      " 1   f0       100000 non-null  float64\n",
      " 2   f1       100000 non-null  float64\n",
      " 3   f2       100000 non-null  float64\n",
      " 4   product  100000 non-null  float64\n",
      "dtypes: float64(4), object(1)\n",
      "memory usage: 3.8+ MB\n"
     ]
    },
    {
     "data": {
      "text/html": [
       "<div>\n",
       "<style scoped>\n",
       "    .dataframe tbody tr th:only-of-type {\n",
       "        vertical-align: middle;\n",
       "    }\n",
       "\n",
       "    .dataframe tbody tr th {\n",
       "        vertical-align: top;\n",
       "    }\n",
       "\n",
       "    .dataframe thead th {\n",
       "        text-align: right;\n",
       "    }\n",
       "</style>\n",
       "<table border=\"1\" class=\"dataframe\">\n",
       "  <thead>\n",
       "    <tr style=\"text-align: right;\">\n",
       "      <th></th>\n",
       "      <th>f0</th>\n",
       "      <th>f1</th>\n",
       "      <th>f2</th>\n",
       "      <th>product</th>\n",
       "    </tr>\n",
       "  </thead>\n",
       "  <tbody>\n",
       "    <tr>\n",
       "      <th>count</th>\n",
       "      <td>100000.000000</td>\n",
       "      <td>100000.000000</td>\n",
       "      <td>100000.000000</td>\n",
       "      <td>100000.000000</td>\n",
       "    </tr>\n",
       "    <tr>\n",
       "      <th>mean</th>\n",
       "      <td>0.500419</td>\n",
       "      <td>0.250143</td>\n",
       "      <td>2.502647</td>\n",
       "      <td>92.500000</td>\n",
       "    </tr>\n",
       "    <tr>\n",
       "      <th>std</th>\n",
       "      <td>0.871832</td>\n",
       "      <td>0.504433</td>\n",
       "      <td>3.248248</td>\n",
       "      <td>44.288691</td>\n",
       "    </tr>\n",
       "    <tr>\n",
       "      <th>min</th>\n",
       "      <td>-1.408605</td>\n",
       "      <td>-0.848218</td>\n",
       "      <td>-12.088328</td>\n",
       "      <td>0.000000</td>\n",
       "    </tr>\n",
       "    <tr>\n",
       "      <th>25%</th>\n",
       "      <td>-0.072580</td>\n",
       "      <td>-0.200881</td>\n",
       "      <td>0.287748</td>\n",
       "      <td>56.497507</td>\n",
       "    </tr>\n",
       "    <tr>\n",
       "      <th>50%</th>\n",
       "      <td>0.502360</td>\n",
       "      <td>0.250252</td>\n",
       "      <td>2.515969</td>\n",
       "      <td>91.849972</td>\n",
       "    </tr>\n",
       "    <tr>\n",
       "      <th>75%</th>\n",
       "      <td>1.073581</td>\n",
       "      <td>0.700646</td>\n",
       "      <td>4.715088</td>\n",
       "      <td>128.564089</td>\n",
       "    </tr>\n",
       "    <tr>\n",
       "      <th>max</th>\n",
       "      <td>2.362331</td>\n",
       "      <td>1.343769</td>\n",
       "      <td>16.003790</td>\n",
       "      <td>185.364347</td>\n",
       "    </tr>\n",
       "  </tbody>\n",
       "</table>\n",
       "</div>"
      ],
      "text/plain": [
       "                  f0             f1             f2        product\n",
       "count  100000.000000  100000.000000  100000.000000  100000.000000\n",
       "mean        0.500419       0.250143       2.502647      92.500000\n",
       "std         0.871832       0.504433       3.248248      44.288691\n",
       "min        -1.408605      -0.848218     -12.088328       0.000000\n",
       "25%        -0.072580      -0.200881       0.287748      56.497507\n",
       "50%         0.502360       0.250252       2.515969      91.849972\n",
       "75%         1.073581       0.700646       4.715088     128.564089\n",
       "max         2.362331       1.343769      16.003790     185.364347"
      ]
     },
     "execution_count": 7,
     "metadata": {},
     "output_type": "execute_result"
    }
   ],
   "source": [
    "gd_0.info()\n",
    "gd_0.describe()"
   ]
  },
  {
   "cell_type": "code",
   "execution_count": 8,
   "metadata": {},
   "outputs": [
    {
     "data": {
      "text/plain": [
       "id         0\n",
       "f0         0\n",
       "f1         0\n",
       "f2         0\n",
       "product    0\n",
       "dtype: int64"
      ]
     },
     "execution_count": 8,
     "metadata": {},
     "output_type": "execute_result"
    }
   ],
   "source": [
    "gd_0.isna().sum()"
   ]
  },
  {
   "cell_type": "markdown",
   "metadata": {},
   "source": [
    "Загрузили датасет и предварительно изучили полученные данные:\n",
    "\n",
    "- датасет имеет 100 000 записей и содержит в себе данные о количестве продукта, который получают с данной локации\n",
    "\n",
    "\n",
    "- согласно полученным данным, датасет не имеет пропусков, все типы данных соответствуют данным, которые содержатся в датасете\n",
    "\n",
    "\n",
    "- была сделана описательная статистика, предварительно можно сделать выводы:\n",
    "\n",
    "     -  имеются аномалии в столбце product - есть нулевое значение (возможно, это допускается, проверим этот момент на следующих шагах), а также наблюдаются выбросы\n",
    "     - имеются выбросы в столбцах f1, f2, так как после значения 75% есть большой выброс (практически в два раза) - проверим эту информацию далее"
   ]
  },
  {
   "cell_type": "markdown",
   "metadata": {},
   "source": [
    "### Датасет gd_1"
   ]
  },
  {
   "cell_type": "code",
   "execution_count": 9,
   "metadata": {},
   "outputs": [
    {
     "name": "stdout",
     "output_type": "stream",
     "text": [
      "<class 'pandas.core.frame.DataFrame'>\n",
      "RangeIndex: 100000 entries, 0 to 99999\n",
      "Data columns (total 5 columns):\n",
      " #   Column   Non-Null Count   Dtype  \n",
      "---  ------   --------------   -----  \n",
      " 0   id       100000 non-null  object \n",
      " 1   f0       100000 non-null  float64\n",
      " 2   f1       100000 non-null  float64\n",
      " 3   f2       100000 non-null  float64\n",
      " 4   product  100000 non-null  float64\n",
      "dtypes: float64(4), object(1)\n",
      "memory usage: 3.8+ MB\n"
     ]
    },
    {
     "data": {
      "text/html": [
       "<div>\n",
       "<style scoped>\n",
       "    .dataframe tbody tr th:only-of-type {\n",
       "        vertical-align: middle;\n",
       "    }\n",
       "\n",
       "    .dataframe tbody tr th {\n",
       "        vertical-align: top;\n",
       "    }\n",
       "\n",
       "    .dataframe thead th {\n",
       "        text-align: right;\n",
       "    }\n",
       "</style>\n",
       "<table border=\"1\" class=\"dataframe\">\n",
       "  <thead>\n",
       "    <tr style=\"text-align: right;\">\n",
       "      <th></th>\n",
       "      <th>f0</th>\n",
       "      <th>f1</th>\n",
       "      <th>f2</th>\n",
       "      <th>product</th>\n",
       "    </tr>\n",
       "  </thead>\n",
       "  <tbody>\n",
       "    <tr>\n",
       "      <th>count</th>\n",
       "      <td>100000.000000</td>\n",
       "      <td>100000.000000</td>\n",
       "      <td>100000.000000</td>\n",
       "      <td>100000.000000</td>\n",
       "    </tr>\n",
       "    <tr>\n",
       "      <th>mean</th>\n",
       "      <td>1.141296</td>\n",
       "      <td>-4.796579</td>\n",
       "      <td>2.494541</td>\n",
       "      <td>68.825000</td>\n",
       "    </tr>\n",
       "    <tr>\n",
       "      <th>std</th>\n",
       "      <td>8.965932</td>\n",
       "      <td>5.119872</td>\n",
       "      <td>1.703572</td>\n",
       "      <td>45.944423</td>\n",
       "    </tr>\n",
       "    <tr>\n",
       "      <th>min</th>\n",
       "      <td>-31.609576</td>\n",
       "      <td>-26.358598</td>\n",
       "      <td>-0.018144</td>\n",
       "      <td>0.000000</td>\n",
       "    </tr>\n",
       "    <tr>\n",
       "      <th>25%</th>\n",
       "      <td>-6.298551</td>\n",
       "      <td>-8.267985</td>\n",
       "      <td>1.000021</td>\n",
       "      <td>26.953261</td>\n",
       "    </tr>\n",
       "    <tr>\n",
       "      <th>50%</th>\n",
       "      <td>1.153055</td>\n",
       "      <td>-4.813172</td>\n",
       "      <td>2.011479</td>\n",
       "      <td>57.085625</td>\n",
       "    </tr>\n",
       "    <tr>\n",
       "      <th>75%</th>\n",
       "      <td>8.621015</td>\n",
       "      <td>-1.332816</td>\n",
       "      <td>3.999904</td>\n",
       "      <td>107.813044</td>\n",
       "    </tr>\n",
       "    <tr>\n",
       "      <th>max</th>\n",
       "      <td>29.421755</td>\n",
       "      <td>18.734063</td>\n",
       "      <td>5.019721</td>\n",
       "      <td>137.945408</td>\n",
       "    </tr>\n",
       "  </tbody>\n",
       "</table>\n",
       "</div>"
      ],
      "text/plain": [
       "                  f0             f1             f2        product\n",
       "count  100000.000000  100000.000000  100000.000000  100000.000000\n",
       "mean        1.141296      -4.796579       2.494541      68.825000\n",
       "std         8.965932       5.119872       1.703572      45.944423\n",
       "min       -31.609576     -26.358598      -0.018144       0.000000\n",
       "25%        -6.298551      -8.267985       1.000021      26.953261\n",
       "50%         1.153055      -4.813172       2.011479      57.085625\n",
       "75%         8.621015      -1.332816       3.999904     107.813044\n",
       "max        29.421755      18.734063       5.019721     137.945408"
      ]
     },
     "execution_count": 9,
     "metadata": {},
     "output_type": "execute_result"
    }
   ],
   "source": [
    "gd_1.info()\n",
    "gd_1.describe()"
   ]
  },
  {
   "cell_type": "code",
   "execution_count": 10,
   "metadata": {},
   "outputs": [
    {
     "data": {
      "text/plain": [
       "id         0\n",
       "f0         0\n",
       "f1         0\n",
       "f2         0\n",
       "product    0\n",
       "dtype: int64"
      ]
     },
     "execution_count": 10,
     "metadata": {},
     "output_type": "execute_result"
    }
   ],
   "source": [
    "gd_1.isna().sum()"
   ]
  },
  {
   "cell_type": "markdown",
   "metadata": {},
   "source": [
    "Загрузили датасет и предварительно изучили полученные данные:\n",
    "\n",
    "- датасет имеет 100 000 записей и содержит в себе данные о количестве продукта, который получают с данной локации\n",
    "\n",
    "\n",
    "- согласно полученным данным, датасет не имеет пропусков, все типы данных соответствуют данным, которые содержатся в датасете\n",
    "\n",
    "\n",
    "- была сделана описательная статистика, предварительно можно сделать выводы:\n",
    "\n",
    "     - имеются аномалии в столбце f0 - наблюдаются выбросы в данных (рассмотрим их подробнее на этапе исследовательского анализа)\n",
    "     - высокое стандартное отклонение в столбце product, есть также нулевое значение. возможно, это всё же не аномалия и такое значение имеет место быть, если с точки не получилось собрать продукт"
   ]
  },
  {
   "cell_type": "markdown",
   "metadata": {},
   "source": [
    "### Датасет gd_2"
   ]
  },
  {
   "cell_type": "code",
   "execution_count": 11,
   "metadata": {},
   "outputs": [
    {
     "name": "stdout",
     "output_type": "stream",
     "text": [
      "<class 'pandas.core.frame.DataFrame'>\n",
      "RangeIndex: 100000 entries, 0 to 99999\n",
      "Data columns (total 5 columns):\n",
      " #   Column   Non-Null Count   Dtype  \n",
      "---  ------   --------------   -----  \n",
      " 0   id       100000 non-null  object \n",
      " 1   f0       100000 non-null  float64\n",
      " 2   f1       100000 non-null  float64\n",
      " 3   f2       100000 non-null  float64\n",
      " 4   product  100000 non-null  float64\n",
      "dtypes: float64(4), object(1)\n",
      "memory usage: 3.8+ MB\n"
     ]
    },
    {
     "data": {
      "text/html": [
       "<div>\n",
       "<style scoped>\n",
       "    .dataframe tbody tr th:only-of-type {\n",
       "        vertical-align: middle;\n",
       "    }\n",
       "\n",
       "    .dataframe tbody tr th {\n",
       "        vertical-align: top;\n",
       "    }\n",
       "\n",
       "    .dataframe thead th {\n",
       "        text-align: right;\n",
       "    }\n",
       "</style>\n",
       "<table border=\"1\" class=\"dataframe\">\n",
       "  <thead>\n",
       "    <tr style=\"text-align: right;\">\n",
       "      <th></th>\n",
       "      <th>f0</th>\n",
       "      <th>f1</th>\n",
       "      <th>f2</th>\n",
       "      <th>product</th>\n",
       "    </tr>\n",
       "  </thead>\n",
       "  <tbody>\n",
       "    <tr>\n",
       "      <th>count</th>\n",
       "      <td>100000.000000</td>\n",
       "      <td>100000.000000</td>\n",
       "      <td>100000.000000</td>\n",
       "      <td>100000.000000</td>\n",
       "    </tr>\n",
       "    <tr>\n",
       "      <th>mean</th>\n",
       "      <td>0.002023</td>\n",
       "      <td>-0.002081</td>\n",
       "      <td>2.495128</td>\n",
       "      <td>95.000000</td>\n",
       "    </tr>\n",
       "    <tr>\n",
       "      <th>std</th>\n",
       "      <td>1.732045</td>\n",
       "      <td>1.730417</td>\n",
       "      <td>3.473445</td>\n",
       "      <td>44.749921</td>\n",
       "    </tr>\n",
       "    <tr>\n",
       "      <th>min</th>\n",
       "      <td>-8.760004</td>\n",
       "      <td>-7.084020</td>\n",
       "      <td>-11.970335</td>\n",
       "      <td>0.000000</td>\n",
       "    </tr>\n",
       "    <tr>\n",
       "      <th>25%</th>\n",
       "      <td>-1.162288</td>\n",
       "      <td>-1.174820</td>\n",
       "      <td>0.130359</td>\n",
       "      <td>59.450441</td>\n",
       "    </tr>\n",
       "    <tr>\n",
       "      <th>50%</th>\n",
       "      <td>0.009424</td>\n",
       "      <td>-0.009482</td>\n",
       "      <td>2.484236</td>\n",
       "      <td>94.925613</td>\n",
       "    </tr>\n",
       "    <tr>\n",
       "      <th>75%</th>\n",
       "      <td>1.158535</td>\n",
       "      <td>1.163678</td>\n",
       "      <td>4.858794</td>\n",
       "      <td>130.595027</td>\n",
       "    </tr>\n",
       "    <tr>\n",
       "      <th>max</th>\n",
       "      <td>7.238262</td>\n",
       "      <td>7.844801</td>\n",
       "      <td>16.739402</td>\n",
       "      <td>190.029838</td>\n",
       "    </tr>\n",
       "  </tbody>\n",
       "</table>\n",
       "</div>"
      ],
      "text/plain": [
       "                  f0             f1             f2        product\n",
       "count  100000.000000  100000.000000  100000.000000  100000.000000\n",
       "mean        0.002023      -0.002081       2.495128      95.000000\n",
       "std         1.732045       1.730417       3.473445      44.749921\n",
       "min        -8.760004      -7.084020     -11.970335       0.000000\n",
       "25%        -1.162288      -1.174820       0.130359      59.450441\n",
       "50%         0.009424      -0.009482       2.484236      94.925613\n",
       "75%         1.158535       1.163678       4.858794     130.595027\n",
       "max         7.238262       7.844801      16.739402     190.029838"
      ]
     },
     "execution_count": 11,
     "metadata": {},
     "output_type": "execute_result"
    }
   ],
   "source": [
    "gd_2.info()\n",
    "gd_2.describe()"
   ]
  },
  {
   "cell_type": "code",
   "execution_count": 12,
   "metadata": {},
   "outputs": [
    {
     "data": {
      "text/plain": [
       "id         0\n",
       "f0         0\n",
       "f1         0\n",
       "f2         0\n",
       "product    0\n",
       "dtype: int64"
      ]
     },
     "execution_count": 12,
     "metadata": {},
     "output_type": "execute_result"
    }
   ],
   "source": [
    "gd_2.isna().sum()"
   ]
  },
  {
   "cell_type": "markdown",
   "metadata": {},
   "source": [
    "Загрузили датасет и предварительно изучили полученные данные:\n",
    "\n",
    "- датасет имеет 100 000 записей и содержит в себе данные о количестве продукта, который получают с данной локации\n",
    "\n",
    "\n",
    "- согласно полученным данным, датасет не имеет пропусков, все типы данных соответствуют данным, которые содержатся в датасете\n",
    "\n",
    "\n",
    "- была сделана описательная статистика, предварительно можно сделать выводы:\n",
    "\n",
    "     - во всех столбцах датасета присутствуют выбросы (так как имеются значения 25%-75%, они соответственно образуются ящик на диагрмме ящик с усами, а вне этого ящика большие выбросы в большную и меньшую сторону), но более детально изучим это на этапе исследовательского анализа данных. а также решим, как поступить со всеми выбросами (оставить или нет)"
   ]
  },
  {
   "cell_type": "markdown",
   "metadata": {},
   "source": [
    "Во всех трех датасетах названия столбцов имеют корректное наименование, переименовывать не требуется. Перейдём к следующему шагу."
   ]
  },
  {
   "cell_type": "markdown",
   "metadata": {},
   "source": [
    "### Предобработка данных"
   ]
  },
  {
   "cell_type": "code",
   "execution_count": 13,
   "metadata": {},
   "outputs": [
    {
     "name": "stdout",
     "output_type": "stream",
     "text": [
      "Число дублей в датафрейме gd_0: 0\n",
      "Число дублей в датафрейме gd_1: 0\n",
      "Число дублей в датафрейме gd_2: 0\n"
     ]
    }
   ],
   "source": [
    "print('Число дублей в датафрейме gd_0:', gd_0.duplicated().sum())\n",
    "print('Число дублей в датафрейме gd_1:', gd_1.duplicated().sum())\n",
    "print('Число дублей в датафрейме gd_2:', gd_2.duplicated().sum())"
   ]
  },
  {
   "cell_type": "markdown",
   "metadata": {},
   "source": [
    "На данном шаге можно сделать выводы, что явные дубликаты отсутствуют. \n",
    "\n",
    "Так как нет столбцов с категориальными данными (все числовые, кроме id, но там нет смысла в проверке неявных дубликатов), неявные дубликаты проверять на данном шаге не будем.\n",
    "\n",
    "\n",
    "**Вывод по предобработке данных**:\n",
    "\n",
    "Можно сделать выводы, что в данных, предоставленных для анализа:\n",
    "\n",
    "   - переименовывать столбцы не потребовалось;\n",
    "    \n",
    "   - пропусков нет;\n",
    "    \n",
    "   - все типы данных соответствуют;\n",
    "    \n",
    "   - дубликаты отсутствуют.\n",
    "    \n",
    "Эти выводы позволяют нам перейти к Исследовательскому анализу данных."
   ]
  },
  {
   "cell_type": "markdown",
   "metadata": {},
   "source": [
    "### Исследовательский анализ данных"
   ]
  },
  {
   "cell_type": "markdown",
   "metadata": {},
   "source": [
    "Построим гистограммы по непрерывным количественным признакам, чтобы сопоставить с данными, полученными после описательной статистики. \n",
    "\n",
    "Все столбцы в данных датасетах содержат количественные непрерывные признаки, так как f0,f1,f2 и product могут принимать любые значения."
   ]
  },
  {
   "cell_type": "markdown",
   "metadata": {},
   "source": [
    "### Датасет gd_0"
   ]
  },
  {
   "cell_type": "code",
   "execution_count": 14,
   "metadata": {},
   "outputs": [
    {
     "data": {
      "image/png": "[encoded data removed]",
      "text/plain": [
       "<Figure size 864x432 with 2 Axes>"
      ]
     },
     "metadata": {
      "needs_background": "light"
     },
     "output_type": "display_data"
    },
    {
     "data": {
      "image/png": "[encoded data removed]",
      "text/plain": [
       "<Figure size 864x432 with 2 Axes>"
      ]
     },
     "metadata": {
      "needs_background": "light"
     },
     "output_type": "display_data"
    },
    {
     "data": {
      "image/png": "[encoded data removed]",
      "text/plain": [
       "<Figure size 864x432 with 2 Axes>"
      ]
     },
     "metadata": {
      "needs_background": "light"
     },
     "output_type": "display_data"
    },
    {
     "data": {
      "image/png": "[encoded data removed]",
      "text/plain": [
       "<Figure size 864x432 with 2 Axes>"
      ]
     },
     "metadata": {
      "needs_background": "light"
     },
     "output_type": "display_data"
    }
   ],
   "source": [
    "continuous_cols = ['f0', 'f1', 'f2', 'product']\n",
    "\n",
    "# Для каждого столбца создаём два подграфика: гистограмма и ящик с усами\n",
    "for col in continuous_cols:\n",
    "    fig, axes = plt.subplots(1, 2, figsize=(12, 6))  # Один ряд и два столбца\n",
    "    axes[0].set_title(f'Гистограмма для \"{col}\" Датасета \"gd_0\"')\n",
    "    axes[1].set_title(f'Ящик с усами для \"{col}\" Датасета \"gd_0\"')\n",
    "\n",
    "    # Гистограмма\n",
    "    sns.histplot(\n",
    "        gd_0[col],\n",
    "        stat='density',\n",
    "        common_norm=False,\n",
    "        kde=True,\n",
    "        color='cadetblue',\n",
    "        ec='black',\n",
    "        ax=axes[0]  \n",
    "    )\n",
    "    axes[0].set_xlabel(col)\n",
    "    axes[0].set_ylabel('Плотность')\n",
    "\n",
    "    # Диаграмма \"ящик с усами\"\n",
    "    sns.boxplot(\n",
    "        y=gd_0[col],\n",
    "        color='pink',\n",
    "        ax=axes[1]  \n",
    "    )\n",
    "    axes[1].set_ylabel(col)\n",
    "\n",
    "   \n",
    "    plt.tight_layout()\n",
    "    plt.show()\n",
    "\n"
   ]
  },
  {
   "cell_type": "code",
   "execution_count": 15,
   "metadata": {},
   "outputs": [
    {
     "name": "stdout",
     "output_type": "stream",
     "text": [
      "<class 'pandas.core.frame.DataFrame'>\n",
      "Index: 100000 entries, txEyH to 1CWhH\n",
      "Data columns (total 4 columns):\n",
      " #   Column   Non-Null Count   Dtype  \n",
      "---  ------   --------------   -----  \n",
      " 0   f0       100000 non-null  float64\n",
      " 1   f1       100000 non-null  float64\n",
      " 2   f2       100000 non-null  float64\n",
      " 3   product  100000 non-null  float64\n",
      "dtypes: float64(4)\n",
      "memory usage: 3.8+ MB\n"
     ]
    }
   ],
   "source": [
    "gd_0 = gd_0.set_index('id')\n",
    "\n",
    "gd_0.info()\n",
    "\n",
    "#сделали этот шаг, чтобы не учитывать столбец id"
   ]
  },
  {
   "cell_type": "code",
   "execution_count": 16,
   "metadata": {},
   "outputs": [
    {
     "data": {
      "image/png": "[encoded data removed]",
      "text/plain": [
       "<Figure size 720x360 with 2 Axes>"
      ]
     },
     "metadata": {
      "needs_background": "light"
     },
     "output_type": "display_data"
    }
   ],
   "source": [
    "interval_cols = ['f0', 'f1', 'f2', 'product']\n",
    "\n",
    "corr_matrix = phik_matrix(gd_0, interval_cols=interval_cols)\n",
    "\n",
    "\n",
    "plot_correlation_matrix(\n",
    "    corr_matrix.values,\n",
    "    x_labels = corr_matrix.columns,\n",
    "    y_labels = corr_matrix.index,\n",
    "    vmin = 0, vmax = 1, color_map = 'coolwarm',\n",
    "    title='Матрица корреляции',\n",
    "    fontsize_factor=1.5,\n",
    "    figsize=(10, 5)\n",
    ")\n"
   ]
  },
  {
   "cell_type": "markdown",
   "metadata": {},
   "source": [
    "По исследовательскому анализу можно сделать вывод, что в принципе данные распределены равномерно (нет смещений, наблюдается симметрия) \n",
    "Для f0, f1, product можно отметить наличие нескольких пиков, что свидетельствует о мультимодальном распределении, в то время как для f2 распределение унимодальное, но судя по диаграмме ящик  с усами отмечается присутствие выбросов. Удалять их не будем.\n",
    "\n",
    "На матрице корреляции можно отметить довольно-таки высокую корреляцию между показателем f1 и f0, но возможно это не очень информативно, так как со значением целевой переменной у столбцов особо корреляции не наблюдается.\n"
   ]
  },
  {
   "cell_type": "markdown",
   "metadata": {},
   "source": [
    "### Датасет gd_1"
   ]
  },
  {
   "cell_type": "code",
   "execution_count": 17,
   "metadata": {},
   "outputs": [
    {
     "data": {
      "image/png": "[encoded data removed]",
      "text/plain": [
       "<Figure size 864x432 with 2 Axes>"
      ]
     },
     "metadata": {
      "needs_background": "light"
     },
     "output_type": "display_data"
    },
    {
     "data": {
      "image/png": "[encoded data removed]",
      "text/plain": [
       "<Figure size 864x432 with 2 Axes>"
      ]
     },
     "metadata": {
      "needs_background": "light"
     },
     "output_type": "display_data"
    },
    {
     "data": {
      "image/png": "[encoded data removed]",
      "text/plain": [
       "<Figure size 864x432 with 2 Axes>"
      ]
     },
     "metadata": {
      "needs_background": "light"
     },
     "output_type": "display_data"
    },
    {
     "data": {
      "image/png": "[encoded data removed]",
      "text/plain": [
       "<Figure size 864x432 with 2 Axes>"
      ]
     },
     "metadata": {
      "needs_background": "light"
     },
     "output_type": "display_data"
    }
   ],
   "source": [
    "# Для каждого столбца создаём два подграфика: гистограмма и ящик с усами\n",
    "for col in continuous_cols:\n",
    "    fig, axes = plt.subplots(1, 2, figsize=(12, 6))  # Один ряд и два столбца\n",
    "    axes[0].set_title(f'Гистограмма для \"{col}\" Датасета \"gd_1\"')\n",
    "    axes[1].set_title(f'Ящик с усами для \"{col}\" Датасета \"gd_1\"')\n",
    "\n",
    "    # Гистограмма\n",
    "    sns.histplot(\n",
    "        gd_1[col],\n",
    "        stat='density',\n",
    "        common_norm=False,\n",
    "        kde=True,\n",
    "        color='cadetblue',\n",
    "        ec='black',\n",
    "        ax=axes[0]  \n",
    "    )\n",
    "    axes[0].set_xlabel(col)\n",
    "    axes[0].set_ylabel('Плотность')\n",
    "\n",
    "    # Диаграмма \"ящик с усами\"\n",
    "    sns.boxplot(\n",
    "        y=gd_1[col],\n",
    "        color='pink',\n",
    "        ax=axes[1]  \n",
    "    )\n",
    "    axes[1].set_ylabel(col)\n",
    "\n",
    "   \n",
    "    plt.tight_layout()\n",
    "    plt.show()"
   ]
  },
  {
   "cell_type": "code",
   "execution_count": 18,
   "metadata": {},
   "outputs": [
    {
     "name": "stdout",
     "output_type": "stream",
     "text": [
      "<class 'pandas.core.frame.DataFrame'>\n",
      "Index: 100000 entries, kBEdx to relB0\n",
      "Data columns (total 4 columns):\n",
      " #   Column   Non-Null Count   Dtype  \n",
      "---  ------   --------------   -----  \n",
      " 0   f0       100000 non-null  float64\n",
      " 1   f1       100000 non-null  float64\n",
      " 2   f2       100000 non-null  float64\n",
      " 3   product  100000 non-null  float64\n",
      "dtypes: float64(4)\n",
      "memory usage: 3.8+ MB\n"
     ]
    },
    {
     "data": {
      "image/png": "[encoded data removed]",
      "text/plain": [
       "<Figure size 720x360 with 2 Axes>"
      ]
     },
     "metadata": {
      "needs_background": "light"
     },
     "output_type": "display_data"
    }
   ],
   "source": [
    "gd_1 = gd_1.set_index('id')\n",
    "\n",
    "gd_1.info()\n",
    "\n",
    "#сделали этот шаг, чтобы не учитывать столбец id\n",
    "\n",
    "corr_matrix = phik_matrix(gd_1, interval_cols=interval_cols)\n",
    "\n",
    "\n",
    "plot_correlation_matrix(\n",
    "    corr_matrix.values,\n",
    "    x_labels = corr_matrix.columns,\n",
    "    y_labels = corr_matrix.index,\n",
    "    vmin = 0, vmax = 1, color_map = 'coolwarm',\n",
    "    title='Матрица корреляции',\n",
    "    fontsize_factor=1.5,\n",
    "    figsize=(10, 5)\n",
    ")"
   ]
  },
  {
   "cell_type": "markdown",
   "metadata": {},
   "source": [
    "По исследовательскому анализу можно сделать вывод, что в принципе данные распределены равномерно (нет смещений, наблюдается симметрия) \n",
    "Для f0 - имеется два пика - бимодальное распределение, f1 - унимодальное, наблюдаются единичные выбросы и выбросы за пределами диаграммы, а для f2 и product будто бы наблюдается кластеризация.\n",
    "\n",
    "На матрице корреляции можно отметить довольно-таки высокую корреляцию между показателем f2 и product, посмотрим далее, как это отразится на процессе исследования. А также имеется умеренная корреляция, со значением f0.\n"
   ]
  },
  {
   "cell_type": "markdown",
   "metadata": {},
   "source": [
    "### Датасет gd_2"
   ]
  },
  {
   "cell_type": "code",
   "execution_count": 19,
   "metadata": {},
   "outputs": [
    {
     "data": {
      "image/png": "[encoded data removed]",
      "text/plain": [
       "<Figure size 864x432 with 2 Axes>"
      ]
     },
     "metadata": {
      "needs_background": "light"
     },
     "output_type": "display_data"
    },
    {
     "data": {
      "image/png": "[encoded data removed]",
      "text/plain": [
       "<Figure size 864x432 with 2 Axes>"
      ]
     },
     "metadata": {
      "needs_background": "light"
     },
     "output_type": "display_data"
    },
    {
     "data": {
      "image/png": "[encoded data removed]",
      "text/plain": [
       "<Figure size 864x432 with 2 Axes>"
      ]
     },
     "metadata": {
      "needs_background": "light"
     },
     "output_type": "display_data"
    },
    {
     "data": {
      "image/png": "[encoded data removed]",
      "text/plain": [
       "<Figure size 864x432 with 2 Axes>"
      ]
     },
     "metadata": {
      "needs_background": "light"
     },
     "output_type": "display_data"
    }
   ],
   "source": [
    "continuous_cols = ['f0', 'f1', 'f2', 'product']\n",
    "\n",
    "# Для каждого столбца создаём два подграфика: гистограмма и ящик с усами\n",
    "for col in continuous_cols:\n",
    "    fig, axes = plt.subplots(1, 2, figsize=(12, 6))  # Один ряд и два столбца\n",
    "    axes[0].set_title(f'Гистограмма для \"{col}\" Датасета \"gd_2\"')\n",
    "    axes[1].set_title(f'Ящик с усами для \"{col}\" Датасета \"gd_2\"')\n",
    "\n",
    "    # Гистограмма\n",
    "    sns.histplot(\n",
    "        gd_2[col],\n",
    "        stat='density',\n",
    "        common_norm=False,\n",
    "        kde=True,\n",
    "        color='cadetblue',\n",
    "        ec='black',\n",
    "        ax=axes[0]  \n",
    "    )\n",
    "    axes[0].set_xlabel(col)\n",
    "    axes[0].set_ylabel('Плотность')\n",
    "\n",
    "    # Диаграмма \"ящик с усами\"\n",
    "    sns.boxplot(\n",
    "        y=gd_2[col],\n",
    "        color='pink',\n",
    "        ax=axes[1]  \n",
    "    )\n",
    "    axes[1].set_ylabel(col)\n",
    "\n",
    "   \n",
    "    plt.tight_layout()\n",
    "    plt.show()"
   ]
  },
  {
   "cell_type": "code",
   "execution_count": 20,
   "metadata": {},
   "outputs": [
    {
     "name": "stdout",
     "output_type": "stream",
     "text": [
      "<class 'pandas.core.frame.DataFrame'>\n",
      "Index: 100000 entries, fwXo0 to V9kWn\n",
      "Data columns (total 4 columns):\n",
      " #   Column   Non-Null Count   Dtype  \n",
      "---  ------   --------------   -----  \n",
      " 0   f0       100000 non-null  float64\n",
      " 1   f1       100000 non-null  float64\n",
      " 2   f2       100000 non-null  float64\n",
      " 3   product  100000 non-null  float64\n",
      "dtypes: float64(4)\n",
      "memory usage: 3.8+ MB\n"
     ]
    },
    {
     "data": {
      "image/png": "[encoded data removed]",
      "text/plain": [
       "<Figure size 720x360 with 2 Axes>"
      ]
     },
     "metadata": {
      "needs_background": "light"
     },
     "output_type": "display_data"
    }
   ],
   "source": [
    "gd_2 = gd_2.set_index('id')\n",
    "\n",
    "gd_2.info()\n",
    "\n",
    "#сделали этот шаг, чтобы не учитывать столбец id\n",
    "\n",
    "corr_matrix = phik_matrix(gd_2, interval_cols=interval_cols)\n",
    "\n",
    "\n",
    "plot_correlation_matrix(\n",
    "    corr_matrix.values,\n",
    "    x_labels = corr_matrix.columns,\n",
    "    y_labels = corr_matrix.index,\n",
    "    vmin = 0, vmax = 1, color_map = 'coolwarm',\n",
    "    title='Матрица корреляции',\n",
    "    fontsize_factor=1.5,\n",
    "    figsize=(10, 5)\n",
    ")"
   ]
  },
  {
   "cell_type": "markdown",
   "metadata": {},
   "source": [
    "По исследовательскому анализу можно сделать вывод, что в принципе данные распределены равномерно (нет смещений, наблюдается симметрия) \n",
    "У данного датасета для f0, f1, f2 наблюдается унимодальное распределение. А вот у product - целевой переменной - распределение мультимодальное. Имеются выбросы, выходящие за границы ящика с усами.\n",
    "\n",
    "Умеренной или сильной корреляции между столбцами датасета f0,f1,f2 и целевым признаком product не наблюдается.\n",
    "\n",
    "А также для всех датасетов убрали id/"
   ]
  },
  {
   "cell_type": "markdown",
   "metadata": {},
   "source": [
    "## Обучение и проверка модели"
   ]
  },
  {
   "cell_type": "markdown",
   "metadata": {},
   "source": [
    "Сначала были мысли по отдельности для каждого датасета провести обучение и прогноз, но так как датасеты однообразные, то рациональнее будет определить функцию, которая проведет все необходимые операции с данными (разделение, предсказание, расчет метрик)"
   ]
  },
  {
   "cell_type": "code",
   "execution_count": 21,
   "metadata": {},
   "outputs": [],
   "source": [
    "#Определим функцию\n",
    "def lr_oil(df):\n",
    "    X = df.drop(['product'], axis=1)  # Выделение целевого признака - 'product'\n",
    "    y = df['product']\n",
    "    \n",
    "    X_train, X_test, y_train, y_test = train_test_split(\n",
    "        X, y, test_size=TEST_SIZE, random_state=RANDOM_STATE)  # Разделение выборки\n",
    "    \n",
    "    model = LinearRegression()\n",
    "    model.fit(X_train, y_train)\n",
    "    \n",
    "    predictions = model.predict(X_test)\n",
    "    \n",
    "    mse = mean_squared_error(y_test, predictions)\n",
    "    rmse = mse ** 0.5  # Расчет метрик\n",
    "    \n",
    "    print(\"Предсказание по данным:\")\n",
    "    print(f\"RMSE {rmse}\")\n",
    "    print(f\"MSE  {mse}\")\n",
    "    print(f\"Предсказанный средний запас нефти {predictions.mean()}\")\n",
    "    print(f\"Фактический средний запас нефти {y_test.mean()}\")\n",
    "\n",
    "    \n",
    "    return model, X_test, y_test, predictions\n"
   ]
  },
  {
   "cell_type": "markdown",
   "metadata": {},
   "source": [
    "Таким образом, функция позволяет провести весь необходимый набор операций для прогнозирования, которые мы выполним далее:"
   ]
  },
  {
   "cell_type": "markdown",
   "metadata": {},
   "source": [
    "### Датасет gd_0"
   ]
  },
  {
   "cell_type": "code",
   "execution_count": 22,
   "metadata": {},
   "outputs": [
    {
     "name": "stdout",
     "output_type": "stream",
     "text": [
      "Предсказание по данным:\n",
      "RMSE 37.75660035026169\n",
      "MSE  1425.5608700093812\n",
      "Предсказанный средний запас нефти 92.39879990657768\n",
      "Фактический средний запас нефти 92.32595637084387\n"
     ]
    }
   ],
   "source": [
    "model_0, X_test_0, y_test_0, predictions_0 = lr_oil(gd_0)"
   ]
  },
  {
   "cell_type": "markdown",
   "metadata": {},
   "source": [
    "**Вывод:**\n",
    "\n",
    "1. **Средний запас нефти**: Предсказанное значение среднего запаса нефти (92.40) очень близко к фактическому значению (92.33). \n",
    "\n",
    "2. **RMSE**: чем меньше значение RMSE, тем меньше то значение, на которое ошибается модель, в данном случае результат 37.76, сравним с показателями остальных регионов. \n",
    "\n",
    "3. **MSE**: также говорит о возможных ошибках в прогнозе модели (точнее о средних значениях этой ошибки - в данном случае 1425).\n"
   ]
  },
  {
   "cell_type": "markdown",
   "metadata": {},
   "source": [
    "### Датасет gd_1"
   ]
  },
  {
   "cell_type": "code",
   "execution_count": 23,
   "metadata": {},
   "outputs": [
    {
     "name": "stdout",
     "output_type": "stream",
     "text": [
      "Предсказание по данным:\n",
      "RMSE 0.890280100102884\n",
      "MSE  0.7925986566392013\n",
      "Предсказанный средний запас нефти 68.71287803913762\n",
      "Фактический средний запас нефти 68.72538074722745\n"
     ]
    }
   ],
   "source": [
    "model_1, X_test_1, y_test_1, predictions_1 = lr_oil(gd_1)"
   ]
  },
  {
   "cell_type": "markdown",
   "metadata": {},
   "source": [
    "**Вывод:**\n",
    "\n",
    "1. **Средний запас нефти**: Предсказанное значение среднего запаса нефти (68,71) очень близко к фактическому значению (68,73). \n",
    "\n",
    "2. **RMSE**: чем меньше значение RMSE, тем меньше то значение, на которое ошибается модель, в данном случае результат 0,89, что намного меньше по сравнению с предыдущим регионом, на этих данных модель практически не ошибается. \n",
    "\n",
    "3. **MSE**: также говорит о возможных ошибках в прогнозе модели (точнее о средних значениях этой ошибки - в данном случае 0,79).\n",
    "\n",
    "Пока показатели модели у данного региона демонстрируют лучшие значения.\n"
   ]
  },
  {
   "cell_type": "markdown",
   "metadata": {},
   "source": [
    "### Датасет gd_2"
   ]
  },
  {
   "cell_type": "code",
   "execution_count": 24,
   "metadata": {},
   "outputs": [
    {
     "name": "stdout",
     "output_type": "stream",
     "text": [
      "Предсказание по данным:\n",
      "RMSE 40.145872311342174\n",
      "MSE  1611.6910636385903\n",
      "Предсказанный средний запас нефти 94.77102387765939\n",
      "Фактический средний запас нефти 95.15099907171961\n"
     ]
    }
   ],
   "source": [
    "model_2, X_test_2, y_test_2, predictions_2 = lr_oil(gd_2)"
   ]
  },
  {
   "cell_type": "markdown",
   "metadata": {},
   "source": [
    "**Вывод:**\n",
    "\n",
    "1. **Средний запас нефти**: Предсказанное значение среднего запаса нефти (94,77) также близко к фактическому значению (95,15). \n",
    "\n",
    "2. **RMSE**: чем меньше значение RMSE, тем меньше то значение, на которое ошибается модель, в данном случае результат 40, что является самым высоким значением из трёх регионов, на этих данных модель может ошибиться на самое большое значение - 40. \n",
    "\n",
    "3. **MSE**: также говорит о возможных ошибках в прогнозе модели (точнее о средних значениях этой ошибки - в данном случае 1611,69). "
   ]
  },
  {
   "cell_type": "markdown",
   "metadata": {},
   "source": [
    "Если сравнивать то, как отработала обученная модель на 3 датасетах:\n",
    "- по показателю средний предсказанный запас нефти - лидирует 3 регион (gd_2), далее идет 1 регион (gd_0), так как у него показано наибольшее значение, однако, метрика RMSE указывает на то, что модель на данных датах ошибается довольно-таки на большое значение тыс.баррелей, потому что у этих регионов RMSE 40 и 37,76 соответственно. А значит в данных имеется неоднородность, которая может быть связана с выбросами и т.д., из-за которых точное предсказание получить сложно. Возможно, требуется получение дополнительных данных.\n",
    "\n",
    "\n",
    "Поэтому, опираясь на показатели метрики RMSE можно сделать предварительный вывод, что gd_1 - 2 регион, является более перспективным, так как там средний запас нефти хоть и меньше (68,71 - предсказанный), но модель там ошибается на меньшее число тыс.баррелей. А также тут можно вспомнить, что в данном датасете наблюдалась корреляция между признаками и целевым признаком. Но нельзя и исключать и переобучение модели.  "
   ]
  },
  {
   "cell_type": "markdown",
   "metadata": {},
   "source": [
    "## Подготовка к расчёту прибыли"
   ]
  },
  {
   "cell_type": "code",
   "execution_count": 25,
   "metadata": {},
   "outputs": [],
   "source": [
    "#обозначим константы для данного этапа исследования.\n",
    "\n",
    "oil_points = 500 #количество точек для нефтедобычи\n",
    "top_oil_points = 200 #будут выбраны 200 лучших\n",
    "provided_budg = 10000000000 #выделенный бюджет\n",
    "per_barrel = 450000 #стоимость одного барреля\n",
    "treshold=0.025 #пороговое значение риска"
   ]
  },
  {
   "cell_type": "code",
   "execution_count": 26,
   "metadata": {},
   "outputs": [
    {
     "name": "stdout",
     "output_type": "stream",
     "text": [
      "Точка безубыточности соответсвует значению 111.11 тыс. баррелей.\n"
     ]
    }
   ],
   "source": [
    "#Расчитаем точку безубыточности:\n",
    "break_point = (provided_budg / per_barrel) / top_oil_points\n",
    "print(f'Точка безубыточности соответсвует значению {break_point:.2f} тыс. баррелей.')"
   ]
  },
  {
   "cell_type": "code",
   "execution_count": 27,
   "metadata": {},
   "outputs": [
    {
     "name": "stdout",
     "output_type": "stream",
     "text": [
      "\n",
      "Средний запас нефти в Регион 1 регионе = 92.50 тыс. баррелей.\n",
      "% скважин, превышающих  значение точки безубыточности =     36.58%\n",
      "скважин, превышающих точки безубыточности = 36583\n",
      "\n",
      "Средний запас нефти в Регион 2 регионе = 68.83 тыс. баррелей.\n",
      "% скважин, превышающих  значение точки безубыточности =     16.54%\n",
      "скважин, превышающих точки безубыточности = 16537\n",
      "\n",
      "Средний запас нефти в Регион 3 регионе = 95.00 тыс. баррелей.\n",
      "% скважин, превышающих  значение точки безубыточности =     38.18%\n",
      "скважин, превышающих точки безубыточности = 38178\n"
     ]
    }
   ],
   "source": [
    "#для удобства сделаем цикл, который рассчитает интересующие нас показатели для каждого региона:\n",
    "for i in range(3):\n",
    "    dataset_name = f'gd_{i}'\n",
    "    dataset = globals()[dataset_name]\n",
    "    name = f'Регион {i+1}'  #Чтобы применять названия региона, хотя можно было бы и определить список.\n",
    "    \n",
    "    print()\n",
    "    print(f'Средний запас нефти в {name} регионе = {dataset[\"product\"].mean():.2f} тыс. баррелей.')\n",
    "    print(f'% скважин, превышающих  значение точки безубыточности = \\\n",
    "    {len(dataset.query(\"product > @break_point\")) / len(dataset):.2%}')\n",
    "    print(f'скважин, превышающих точки безубыточности = {len(dataset.query(\"product > @break_point\"))}')\n",
    "\n"
   ]
  },
  {
   "cell_type": "markdown",
   "metadata": {},
   "source": [
    "На основании приведённых данных можно сделать следующие выводы:\n",
    "\n",
    "1. **Средние запасы нефти**:\n",
    "   -  Наибольший средний запас наблюдается в третьем регионе, затем идёт первый регион, а наименьший средний запас — во втором регионе (68.83 тыс. баррелей). Однако эти значения ниже точки безубыточности.\n",
    "\n",
    "2. **Процент скважин, превышающих значение точки безубыточности**:\n",
    "   - Первый и третий регионы демонстрируют высокий процент скважин, превышающих пороговое значение (36.58% и 38.18% соответственно). Во втором регионе этот показатель заметно ниже — 16.54%.\n",
    "\n",
    "3. **Количество скважин, превышающих значение точки безубыточности**:\n",
    "   - Абсолютное количество скважин, превышающих пороговое значение, наиболее высоко в первом регионе, затем идёт третий регион, и наименьшее количество — во втором регионе.\n",
    "\n",
    "**Общий вывод:**\n",
    "Первый и третий регионы характеризуются более высокими показателями добычи нефти. Второй регион уступает по обоим показателям. Однако прошлые этапы исследования показали, что в регионах 1 и 3 довольно-таки много выбросов. Но так как  в целом, среднее значение добычи нефти на скважине ниже, чем точка безубыточности, пока сложно рекомендовать какой-то из регионов для ведения деятельности.  "
   ]
  },
  {
   "cell_type": "code",
   "execution_count": 28,
   "metadata": {},
   "outputs": [
    {
     "name": "stdout",
     "output_type": "stream",
     "text": [
      "Расчёт прибыли для региона gd_0: 3 359 141 114.46 руб.\n",
      "Расчёт прибыли для региона gd_1: 2 415 086 696.68 руб.\n",
      "Расчёт прибыли для региона gd_2: 2 598 571 759.37 руб.\n"
     ]
    }
   ],
   "source": [
    "# Функция для расчета прибыли по выбранным скважинам и предсказаниям модели\n",
    "def income(target, predictions):\n",
    "    target = pd.Series(target).reset_index(drop=True)\n",
    "    predictions = pd.Series(predictions).reset_index(drop=True)\n",
    "    predictions_s = predictions.sort_values(ascending=False)[:top_oil_points].index\n",
    "    selected = target[predictions_s]\n",
    "    income = selected.sum() * per_barrel - provided_budg\n",
    "    return round(income, 2)\n",
    "\n",
    "print(f'Расчёт прибыли для региона gd_0: {income(y_test_0, predictions_0):,}'.replace(',', ' '), 'руб.')\n",
    "print(f'Расчёт прибыли для региона gd_1: {income(y_test_1, predictions_1):,}'.replace(',', ' '), 'руб.')\n",
    "print(f'Расчёт прибыли для региона gd_2: {income(y_test_2, predictions_2):,}'.replace(',', ' '), 'руб.')"
   ]
  },
  {
   "cell_type": "markdown",
   "metadata": {},
   "source": [
    "Согласно результатам расчетов, регион №1 должен принести компании больше всего прибыли - 3359141114.46 рублей."
   ]
  },
  {
   "cell_type": "markdown",
   "metadata": {},
   "source": [
    "## Расчёт прибыли и рисков "
   ]
  },
  {
   "cell_type": "code",
   "execution_count": 29,
   "metadata": {},
   "outputs": [],
   "source": [
    "def bootstrap(target, probabilities, iterations, sample_size):\n",
    "    state = np.random.RandomState(12345)\n",
    "    values = []\n",
    "    for i in range(iterations):\n",
    "        target_subsample = target.sample(n=sample_size, random_state=state, replace=True)\n",
    "        probs_subsample = probabilities[target_subsample.index]\n",
    "        values.append(income(target_subsample, probs_subsample))\n",
    "\n",
    "    values = pd.Series(values)\n",
    "    mean = values.mean()\n",
    "    risk = (values < 0).mean()\n",
    "    confidence_interval = st.t.interval(0.95, len(values)-1, loc=values.mean(), scale=values.sem())\n",
    "    \n",
    "    lower = values.quantile(0.025)\n",
    "    upper = values.quantile(0.975)\n",
    "    quantile_interval = (lower, upper)\n",
    "    return round(mean,2), confidence_interval, round(risk*100, 2), quantile_interval"
   ]
  },
  {
   "cell_type": "code",
   "execution_count": 30,
   "metadata": {},
   "outputs": [
    {
     "name": "stdout",
     "output_type": "stream",
     "text": [
      "Седняя выручка =  406278783.42\n",
      "Регион №1 95 %ый доверительный интервал(коэф.стьюдента) =  (389978382.1839447, 422579184.66477525)\n",
      "Регион №1 95 %ый доверительный интервал(квантили) =  (-117742136.49274999, 911737050.7469999)\n",
      "Регион №1 Риск убытков: 6.7%\n"
     ]
    }
   ],
   "source": [
    "gd_0_mean, gd_0_interval, gd_0_risk, gd_0_quantile = bootstrap(y_test_0.reset_index(drop=True), predictions_0, 1000,500)\n",
    "print('Седняя выручка = ', gd_0_mean)\n",
    "print('Регион №1 95 %ый доверительный интервал(коэф.стьюдента) = ', gd_0_interval)\n",
    "print('Регион №1 95 %ый доверительный интервал(квантили) = ', gd_0_quantile)\n",
    "print(f'Регион №1 Риск убытков: {gd_0_risk}%')"
   ]
  },
  {
   "cell_type": "code",
   "execution_count": 31,
   "metadata": {},
   "outputs": [
    {
     "name": "stdout",
     "output_type": "stream",
     "text": [
      "Средняя выручка =  432624131.81\n",
      "Регион №2 95 %ый доверительный интервал(коэф.стьюдента) =  (420008021.9836902, 445240241.64258987)\n",
      "Регион №2 95 %ый доверительный интервал(квантили)= (16846174.93425, 815972526.28625)\n",
      "Регион №2 Риск убытков: 1.9%\n"
     ]
    }
   ],
   "source": [
    "gd_1_mean, gd_1_interval, gd_1_risk, gd_1_quantile = bootstrap(y_test_1.reset_index(drop=True), predictions_1, 1000,500)\n",
    "print('Средняя выручка = ', gd_1_mean)\n",
    "print('Регион №2 95 %ый доверительный интервал(коэф.стьюдента) = ',gd_1_interval)\n",
    "print('Регион №2 95 %ый доверительный интервал(квантили)=', gd_1_quantile)\n",
    "print(f'Регион №2 Риск убытков: {gd_1_risk}%')"
   ]
  },
  {
   "cell_type": "code",
   "execution_count": 32,
   "metadata": {},
   "outputs": [
    {
     "name": "stdout",
     "output_type": "stream",
     "text": [
      "Средняя выручка =  377362192.42\n",
      "Регион №3 95 %ый доверительный интервал(коэф.стьюдента) =  (360616369.5067713, 394108015.3391286)\n",
      "Регион №3 95 %ый доверительный интервал(квантили) =  (-170780417.70424998, 901772131.3885)\n",
      "Регион №3 Риск убытков: 7.4%\n"
     ]
    }
   ],
   "source": [
    "gd_2_mean, gd_2_interval, gd_2_risk, gd_2_quantile = bootstrap(y_test_2.reset_index(drop=True), predictions_2, 1000,500)\n",
    "print('Средняя выручка = ', gd_2_mean)\n",
    "print('Регион №3 95 %ый доверительный интервал(коэф.стьюдента) = ', gd_2_interval)\n",
    "print('Регион №3 95 %ый доверительный интервал(квантили) = ', gd_2_quantile)\n",
    "print(f'Регион №3 Риск убытков: {gd_2_risk}%')"
   ]
  },
  {
   "cell_type": "markdown",
   "metadata": {},
   "source": [
    "Таким образом, можно сделать вывод, что самым лучшим вложением бюджета будет нефтедобыча в регионе №2, а именно:\n",
    "\n",
    "- для данного региона данные более однородные, вследствие этого модель линейной регрессии допускает совсем небольшие погрешности (вывод был сделан на основании метрики RMSE, которая получилась равной 0,89 (когда у других 37 и 40, что говорит о больших ошибках, а так как решается то, куда вложить средства, такие ошибки недопустимы)\n",
    "\n",
    "- и по данным Bootstrap регион №2 показал наилучшие показатели:\n",
    "\n",
    "а) значение средней выручки больше, чем у регионов №1 и №3\n",
    "\n",
    "б) наименьший риск убытков (ниже порогового значения, в то время как у регионов №1 и №3 риски превышены более, чем в 2 раза)\n",
    "\n",
    "Что позволяет рекомендовать компании проводить нефтедобычу именно в данном регионе."
   ]
  },
  {
   "cell_type": "markdown",
   "metadata": {},
   "source": [
    "## Общий вывод по проекту\n"
   ]
  },
  {
   "cell_type": "markdown",
   "metadata": {},
   "source": [
    "Загрузили датасет  gd_0 и предварительно изучили полученные данные:\n",
    "\n",
    "•\tдатасет имеет 100 000 записей и содержит в себе данные о количестве продукта, который получают с данной локации\n",
    "\n",
    "•\tсогласно полученным данным, датасет не имеет пропусков, все типы данных соответствуют данным, которые содержатся в датасете\n",
    "\n",
    "•\tбыла сделана описательная статистика, предварительно можно сделать выводы:\n",
    "\n",
    "\tимеются аномалии в столбце product - есть нулевое значение (возможно, это допускается, проверим этот момент на следующих шагах), а также наблюдаются выбросы\n",
    "\n",
    "\tимеются выбросы в столбцах f1, f2, так как после значения 75% есть большой выброс (практически в два раза) - проверим эту информацию далее\n",
    "\n",
    "Загрузили датасет gd_1 и предварительно изучили полученные данные:\n",
    "\n",
    "•\tдатасет имеет 100 000 записей и содержит в себе данные о количестве продукта, который получают с данной локации\n",
    "\n",
    "•\tсогласно полученным данным, датасет не имеет пропусков, все типы данных соответствуют данным, которые содержатся в датасете\n",
    "•\tбыла сделана описательная статистика, предварительно можно сделать выводы:\n",
    "\tимеются аномалии в столбце f0 - наблюдаются выбросы в данных (рассмотрим их подробнее на этапе исследовательского анализа)\n",
    "\n",
    "\tвысокое стандартное отклонение в столбце product, есть также нулевое значение. возможно, это всё же не аномалия и такое значение имеет место быть, если с точки не получилось собрать продукт\n",
    "\n",
    "Загрузили датасет gd_2 и предварительно изучили полученные данные:\n",
    "\n",
    "•\tдатасет имеет 100 000 записей и содержит в себе данные о количестве продукта, который получают с данной локации\n",
    "\n",
    "•\tсогласно полученным данным, датасет не имеет пропусков, все типы данных соответствуют данным, которые содержатся в датасете\n",
    "\n",
    "•\tбыла сделана описательная статистика, предварительно можно сделать выводы:\n",
    "\n",
    "\tво всех столбцах датасета присутствуют выбросы (так как имеются значения 25%-75%, они соответственно образуются ящик на диагрмме ящик с усами, а вне этого ящика большие выбросы в большную и меньшую сторону), но более детально изучим это на этапе исследовательского анализа данных. а также решим, как поступить со всеми выбросами (оставить или нет)\n",
    "\n",
    "\n",
    "**Вывод по предобработке данных:**\n",
    "\n",
    "\n",
    "•\tпереименовывать столбцы не потребовалось;\n",
    "\n",
    "•\tпропусков нет;\n",
    "\n",
    "•\tвсе типы данных соответствуют;\n",
    "\n",
    "•\tдубликаты отсутствуют.\n",
    "\n",
    "\n",
    "Построили гистограммы по непрерывным количественным признакам, чтобы сопоставить с данными, полученными после описательной статистики.\n",
    "\n",
    "Все столбцы в данных датасетах содержат количественные непрерывные признаки, так как f0,f1,f2 и product могут принимать любые значения.\n",
    "\n",
    "**gd_0**\n",
    "\n",
    "По исследовательскому анализу можно сделать вывод, что в принципе данные распределены равномерно (нет смещений, наблюдается симметрия) Для f0, f1, product можно отметить наличие нескольких пиков, что свидетельствует о мультимодальном распределении, в то время как для f2 распределение унимодальное, но судя по диаграмме ящик с усами отмечается присутствие выбросов. Удалять их не будем.\n",
    "На матрице корреляции можно отметить довольно-таки высокую корреляцию между показателем f1 и f0, но возможно это не очень информативно, так как со значением целевой переменной у столбцов особо корреляции не наблюдается.\n",
    "\n",
    "**gd_1**\n",
    "\n",
    "По исследовательскому анализу можно сделать вывод, что в принципе данные распределены равномерно (нет смещений, наблюдается симметрия) Для f0 - имеется два пика - бимодальное распределение, f1 - унимодальное, наблюдаются единичные выбросы и выбросы за пределами диаграммы, а для f2 и product будто бы наблюдается кластеризация.\n",
    "На матрице корреляции можно отметить довольно-таки высокую корреляцию между показателем f2 и product, посмотрим далее, как это отразится на процессе исследования. А также имеется умеренная корреляция, со значением f0.\n",
    "\n",
    "**gd_2**\n",
    "\n",
    "По исследовательскому анализу можно сделать вывод, что в принципе данные распределены равномерно (нет смещений, наблюдается симметрия) У данного датасета для f0, f1, f2 наблюдается унимодальное распределение. А вот у product - целевой переменной - распределение мультимодальное. Имеются выбросы, выходящие за границы ящика с усами.\n",
    "Умеренной или сильной корреляции между столбцами датасета f0,f1,f2 и целевым признаком product не наблюдается.\n",
    "А также для всех датасетов убрали id.\n",
    "\n",
    "Разработали функцию, которая проводит подготовку (обучение), предсказывает и рассчитывает метрики для модели линейной регрессии, что позволяет оптимизировать процесс получения предсказаний.\n",
    "\n",
    "Вывод gd_0:\n",
    "\n",
    "1.\tСредний запас нефти: Предсказанное значение среднего запаса нефти (92.40) очень близко к фактическому значению (92.33).\n",
    "2.\tRMSE: чем меньше значение RMSE, тем меньше то значение, на которое ошибается модель, в данном случае результат 37.76, сравним с показателями остальных регионов.\n",
    "3.\tMSE: также говорит о возможных ошибках в прогнозе модели (точнее о средних значениях этой ошибки - в данном случае 1425).\n",
    "\n",
    "Вывод gd_1:\n",
    "\n",
    "1.\tСредний запас нефти: Предсказанное значение среднего запаса нефти (92.40) очень близко к фактическому значению (92.33).\n",
    "2.\tRMSE: чем меньше значение RMSE, тем меньше то значение, на которое ошибается модель, в данном случае результат 37.76, сравним с показателями остальных регионов.\n",
    "3.\tMSE: также говорит о возможных ошибках в прогнозе модели (точнее о средних значениях этой ошибки - в данном случае 1425).\n",
    "\n",
    "Вывод gd_2:\n",
    "\n",
    "1.\tСредний запас нефти: Предсказанное значение среднего запаса нефти (94,77) также близко к фактическому значению (95,15).\n",
    "2.\tRMSE: чем меньше значение RMSE, тем меньше то значение, на которое ошибается модель, в данном случае результат 40, что является самым высоким значением из трёх регионов, на этих данных модель может ошибиться на самое большое значение - 40.\n",
    "3.\tMSE: также говорит о возможных ошибках в прогнозе модели (точнее о средних значениях этой ошибки - в данном случае 1611,69).\n",
    "\n",
    "Если сравнивать то, как отработала обученная модель на 3 датасетах:\n",
    "\n",
    "•\tпо показателю средний предсказанный запас нефти - лидирует 3 регион (gd_2), далее идет 1 регион (gd_0), так как у него показано наибольшее значение, однако, метрика RMSE указывает на то, что модель на данных датах ошибается довольно-таки на большое значение тыс.баррелей, потому что у этих регионов RMSE 40 и 37,76 соответственно. А значит в данных имеется неоднородность, которая может быть связана с выбросами и т.д., из-за которых точное предсказание получить сложно. Возможно, требуется получение дополнительных данных.\n",
    "Поэтому, опираясь на показатели метрики RMSE можно сделать предварительный вывод, что gd_1 - 2 регион, является более перспективным, так как там средний запас нефти хоть и меньше (68,71 - предсказанный), но модель там ошибается на меньшее число тыс.баррелей. А также тут можно вспомнить, что в данном датасете наблюдалась корреляция между признаками и целевым признаком. Но нельзя и исключать и переобучение модели.\n",
    "\n",
    "\n",
    "На основании приведённых данных можно сделать следующие выводы:\n",
    "\n",
    "1.\tСредние запасы нефти:\n",
    "\n",
    "•\tНаибольший средний запас наблюдается в третьем регионе, затем идёт первый регион, а наименьший средний запас — во втором регионе (68.83 тыс. баррелей). Однако эти значения ниже точки безубыточности.\n",
    "2.\tПроцент скважин, превышающих значение точки безубыточности:\n",
    "•\tПервый и третий регионы демонстрируют высокий процент скважин, превышающих пороговое значение (36.58% и 38.18% соответственно). Во втором регионе этот показатель заметно ниже — 16.54%.\n",
    "3.\tКоличество скважин, превышающих значение точки безубыточности:\n",
    "•\tАбсолютное количество скважин, превышающих пороговое значение, наиболее высоко в первом регионе, затем идёт третий регион, и наименьшее количество — во втором регионе.\n",
    "Общий вывод: Первый и третий регионы характеризуются более высокими показателями добычи нефти. Второй регион уступает по обоим показателям. Однако прошлые этапы исследования показали, что в регионах 1 и 3 довольно-таки много выбросов. Но так как в целом, среднее значение добычи нефти на скважине ниже, чем точка безубыточности, пока сложно рекомендовать какой-то из регионов для ведения деятельности.\n",
    "\n",
    "Согласно результатам расчетов, регион №1 должен принести компании больше всего прибыли - 3359141114.46 рублей.\n",
    "\n",
    "Таким образом, можно сделать вывод, что самым лучшим вложением бюджета будет нефтедобыча в регионе №2, а именно:\n",
    "•\tдля данного региона данные более однородные, вследствие этого модель линейной регрессии допускает совсем небольшие погрешности (вывод был сделан на основании метрики RMSE, которая получилась равной 0,89 (когда у других 37 и 40, что говорит о больших ошибках, а так как решается то, куда вложить средства, такие ошибки недопустимы)\n",
    "•\tи по данным Bootstrap регион №2 показал наилучшие показатели:\n",
    "а) значение средней выручки больше, чем у регионов №1 и №3\n",
    "б) наименьший риск убытков\n",
    "Что позволяет рекомендовать компании проводить нефтедобычу именно в данном регионе.\n",
    "\n",
    "\n"
   ]
  }
 ],
 "metadata": {
  "ExecuteTimeLog": [
   {
    "duration": 1905,
    "start_time": "2024-12-02T21:31:11.071Z"
   },
   {
    "duration": 1752,
    "start_time": "2024-12-02T21:31:52.890Z"
   },
   {
    "duration": 3467,
    "start_time": "2024-12-02T21:32:06.398Z"
   },
   {
    "duration": 90,
    "start_time": "2024-12-02T21:32:26.077Z"
   },
   {
    "duration": 2788,
    "start_time": "2024-12-02T21:32:45.408Z"
   },
   {
    "duration": 1611,
    "start_time": "2024-12-02T21:32:48.199Z"
   },
   {
    "duration": 131,
    "start_time": "2024-12-02T21:34:36.543Z"
   },
   {
    "duration": 7261,
    "start_time": "2024-12-02T21:34:55.233Z"
   },
   {
    "duration": 553,
    "start_time": "2024-12-02T21:35:02.497Z"
   },
   {
    "duration": 3,
    "start_time": "2024-12-02T21:36:25.716Z"
   },
   {
    "duration": 534,
    "start_time": "2024-12-02T21:39:14.352Z"
   },
   {
    "duration": 253,
    "start_time": "2024-12-02T21:40:19.414Z"
   },
   {
    "duration": 257,
    "start_time": "2024-12-02T21:40:55.734Z"
   },
   {
    "duration": 52,
    "start_time": "2024-12-02T21:44:07.688Z"
   },
   {
    "duration": 42,
    "start_time": "2024-12-02T21:49:52.994Z"
   },
   {
    "duration": 12,
    "start_time": "2024-12-02T21:50:07.427Z"
   },
   {
    "duration": 12,
    "start_time": "2024-12-02T21:57:13.579Z"
   },
   {
    "duration": 49,
    "start_time": "2024-12-02T21:57:15.319Z"
   },
   {
    "duration": 12,
    "start_time": "2024-12-02T22:01:46.121Z"
   },
   {
    "duration": 55,
    "start_time": "2024-12-02T22:01:47.729Z"
   },
   {
    "duration": 146,
    "start_time": "2024-12-02T22:07:59.041Z"
   },
   {
    "duration": 10444,
    "start_time": "2024-12-02T22:46:28.347Z"
   },
   {
    "duration": 1472,
    "start_time": "2024-12-02T22:47:45.246Z"
   },
   {
    "duration": 3678,
    "start_time": "2024-12-02T22:49:11.983Z"
   },
   {
    "duration": 3434,
    "start_time": "2024-12-02T22:50:52.389Z"
   },
   {
    "duration": 3113,
    "start_time": "2024-12-02T22:52:15.101Z"
   },
   {
    "duration": 5221,
    "start_time": "2024-12-02T22:54:18.828Z"
   },
   {
    "duration": 2048,
    "start_time": "2024-12-02T22:54:24.051Z"
   },
   {
    "duration": 3,
    "start_time": "2024-12-02T22:54:26.100Z"
   },
   {
    "duration": 174,
    "start_time": "2024-12-02T22:54:26.105Z"
   },
   {
    "duration": 159,
    "start_time": "2024-12-02T22:54:26.281Z"
   },
   {
    "duration": 157,
    "start_time": "2024-12-02T22:54:26.442Z"
   },
   {
    "duration": 60,
    "start_time": "2024-12-02T22:54:26.600Z"
   },
   {
    "duration": 11,
    "start_time": "2024-12-02T22:54:26.661Z"
   },
   {
    "duration": 77,
    "start_time": "2024-12-02T22:54:26.674Z"
   },
   {
    "duration": 10,
    "start_time": "2024-12-02T22:54:26.753Z"
   },
   {
    "duration": 59,
    "start_time": "2024-12-02T22:54:26.765Z"
   },
   {
    "duration": 10,
    "start_time": "2024-12-02T22:54:26.825Z"
   },
   {
    "duration": 157,
    "start_time": "2024-12-02T22:54:26.837Z"
   },
   {
    "duration": 3403,
    "start_time": "2024-12-02T22:54:26.997Z"
   },
   {
    "duration": 3706,
    "start_time": "2024-12-02T22:54:30.401Z"
   },
   {
    "duration": 3805,
    "start_time": "2024-12-02T22:54:34.109Z"
   },
   {
    "duration": 528,
    "start_time": "2024-12-02T22:57:03.957Z"
   },
   {
    "duration": 985,
    "start_time": "2024-12-02T22:59:20.536Z"
   },
   {
    "duration": 4476,
    "start_time": "2024-12-02T22:59:33.460Z"
   },
   {
    "duration": 4607,
    "start_time": "2024-12-02T23:00:40.006Z"
   },
   {
    "duration": 8004,
    "start_time": "2024-12-06T22:53:56.793Z"
   },
   {
    "duration": 2154,
    "start_time": "2024-12-06T22:54:04.799Z"
   },
   {
    "duration": 3,
    "start_time": "2024-12-06T22:54:06.954Z"
   },
   {
    "duration": 297,
    "start_time": "2024-12-06T22:54:06.958Z"
   },
   {
    "duration": 221,
    "start_time": "2024-12-06T22:54:07.257Z"
   },
   {
    "duration": 221,
    "start_time": "2024-12-06T22:54:07.479Z"
   },
   {
    "duration": 47,
    "start_time": "2024-12-06T22:54:07.702Z"
   },
   {
    "duration": 9,
    "start_time": "2024-12-06T22:54:07.751Z"
   },
   {
    "duration": 103,
    "start_time": "2024-12-06T22:54:07.762Z"
   },
   {
    "duration": 146,
    "start_time": "2024-12-06T22:54:07.867Z"
   },
   {
    "duration": 50,
    "start_time": "2024-12-06T22:54:08.015Z"
   },
   {
    "duration": 12,
    "start_time": "2024-12-06T22:54:08.067Z"
   },
   {
    "duration": 149,
    "start_time": "2024-12-06T22:54:08.081Z"
   },
   {
    "duration": 4283,
    "start_time": "2024-12-06T22:54:08.233Z"
   },
   {
    "duration": 4252,
    "start_time": "2024-12-06T22:54:12.518Z"
   },
   {
    "duration": 4736,
    "start_time": "2024-12-06T22:55:08.088Z"
   },
   {
    "duration": 14,
    "start_time": "2024-12-06T23:09:30.791Z"
   },
   {
    "duration": 16,
    "start_time": "2024-12-06T23:09:44.818Z"
   },
   {
    "duration": 139,
    "start_time": "2024-12-06T23:11:23.971Z"
   },
   {
    "duration": 10,
    "start_time": "2024-12-06T23:11:56.586Z"
   },
   {
    "duration": 4870,
    "start_time": "2024-12-06T23:12:05.455Z"
   },
   {
    "duration": 1861,
    "start_time": "2024-12-06T23:12:10.327Z"
   },
   {
    "duration": 2,
    "start_time": "2024-12-06T23:12:12.190Z"
   },
   {
    "duration": 163,
    "start_time": "2024-12-06T23:12:12.194Z"
   },
   {
    "duration": 139,
    "start_time": "2024-12-06T23:12:12.358Z"
   },
   {
    "duration": 139,
    "start_time": "2024-12-06T23:12:12.498Z"
   },
   {
    "duration": 50,
    "start_time": "2024-12-06T23:12:12.639Z"
   },
   {
    "duration": 11,
    "start_time": "2024-12-06T23:12:12.690Z"
   },
   {
    "duration": 47,
    "start_time": "2024-12-06T23:12:12.702Z"
   },
   {
    "duration": 11,
    "start_time": "2024-12-06T23:12:12.752Z"
   },
   {
    "duration": 46,
    "start_time": "2024-12-06T23:12:12.789Z"
   },
   {
    "duration": 10,
    "start_time": "2024-12-06T23:12:12.837Z"
   },
   {
    "duration": 141,
    "start_time": "2024-12-06T23:12:12.849Z"
   },
   {
    "duration": 4333,
    "start_time": "2024-12-06T23:12:12.992Z"
   },
   {
    "duration": 14,
    "start_time": "2024-12-06T23:12:17.326Z"
   },
   {
    "duration": 150,
    "start_time": "2024-12-06T23:12:17.341Z"
   },
   {
    "duration": 0,
    "start_time": "2024-12-06T23:12:17.492Z"
   },
   {
    "duration": 0,
    "start_time": "2024-12-06T23:12:17.494Z"
   },
   {
    "duration": 0,
    "start_time": "2024-12-06T23:12:17.495Z"
   },
   {
    "duration": 0,
    "start_time": "2024-12-06T23:12:17.496Z"
   },
   {
    "duration": 721,
    "start_time": "2024-12-06T23:12:55.714Z"
   },
   {
    "duration": 4367,
    "start_time": "2024-12-06T23:14:07.204Z"
   },
   {
    "duration": 719,
    "start_time": "2024-12-06T23:14:11.573Z"
   },
   {
    "duration": 4942,
    "start_time": "2024-12-06T23:14:12.294Z"
   },
   {
    "duration": 744,
    "start_time": "2024-12-06T23:14:17.238Z"
   },
   {
    "duration": 10,
    "start_time": "2024-12-06T23:26:48.714Z"
   },
   {
    "duration": 7573,
    "start_time": "2024-12-11T22:53:53.937Z"
   },
   {
    "duration": 2146,
    "start_time": "2024-12-11T22:54:01.512Z"
   },
   {
    "duration": 3,
    "start_time": "2024-12-11T22:54:03.659Z"
   },
   {
    "duration": 279,
    "start_time": "2024-12-11T22:54:03.663Z"
   },
   {
    "duration": 232,
    "start_time": "2024-12-11T22:54:03.944Z"
   },
   {
    "duration": 220,
    "start_time": "2024-12-11T22:54:04.178Z"
   },
   {
    "duration": 50,
    "start_time": "2024-12-11T22:54:04.399Z"
   },
   {
    "duration": 10,
    "start_time": "2024-12-11T22:54:04.450Z"
   },
   {
    "duration": 70,
    "start_time": "2024-12-11T22:54:04.462Z"
   },
   {
    "duration": 10,
    "start_time": "2024-12-11T22:54:04.533Z"
   },
   {
    "duration": 118,
    "start_time": "2024-12-11T22:54:04.546Z"
   },
   {
    "duration": 10,
    "start_time": "2024-12-11T22:54:04.665Z"
   },
   {
    "duration": 149,
    "start_time": "2024-12-11T22:54:04.676Z"
   },
   {
    "duration": 4402,
    "start_time": "2024-12-11T22:54:04.830Z"
   },
   {
    "duration": 14,
    "start_time": "2024-12-11T22:54:09.234Z"
   },
   {
    "duration": 748,
    "start_time": "2024-12-11T22:54:09.250Z"
   },
   {
    "duration": 4260,
    "start_time": "2024-12-11T22:54:10.000Z"
   },
   {
    "duration": 740,
    "start_time": "2024-12-11T22:54:14.262Z"
   },
   {
    "duration": 4831,
    "start_time": "2024-12-11T22:54:15.008Z"
   },
   {
    "duration": 743,
    "start_time": "2024-12-11T22:54:19.840Z"
   },
   {
    "duration": 10,
    "start_time": "2024-12-11T22:54:20.585Z"
   },
   {
    "duration": 23,
    "start_time": "2024-12-11T22:54:20.597Z"
   },
   {
    "duration": 40,
    "start_time": "2024-12-11T22:54:20.628Z"
   },
   {
    "duration": 4,
    "start_time": "2024-12-11T22:56:53.583Z"
   },
   {
    "duration": 31,
    "start_time": "2024-12-11T22:56:54.291Z"
   },
   {
    "duration": 117,
    "start_time": "2024-12-11T22:56:55.012Z"
   },
   {
    "duration": 144,
    "start_time": "2024-12-11T22:58:43.629Z"
   },
   {
    "duration": 15,
    "start_time": "2024-12-11T22:59:29.626Z"
   },
   {
    "duration": 24,
    "start_time": "2024-12-11T22:59:34.899Z"
   },
   {
    "duration": 30,
    "start_time": "2024-12-11T22:59:35.708Z"
   },
   {
    "duration": 4876,
    "start_time": "2024-12-11T23:00:51.920Z"
   },
   {
    "duration": 1906,
    "start_time": "2024-12-11T23:00:56.798Z"
   },
   {
    "duration": 2,
    "start_time": "2024-12-11T23:00:58.706Z"
   },
   {
    "duration": 188,
    "start_time": "2024-12-11T23:00:58.714Z"
   },
   {
    "duration": 143,
    "start_time": "2024-12-11T23:00:58.904Z"
   },
   {
    "duration": 135,
    "start_time": "2024-12-11T23:00:59.049Z"
   },
   {
    "duration": 59,
    "start_time": "2024-12-11T23:00:59.185Z"
   },
   {
    "duration": 9,
    "start_time": "2024-12-11T23:00:59.246Z"
   },
   {
    "duration": 70,
    "start_time": "2024-12-11T23:00:59.257Z"
   },
   {
    "duration": 12,
    "start_time": "2024-12-11T23:00:59.329Z"
   },
   {
    "duration": 100,
    "start_time": "2024-12-11T23:00:59.342Z"
   },
   {
    "duration": 9,
    "start_time": "2024-12-11T23:00:59.444Z"
   },
   {
    "duration": 151,
    "start_time": "2024-12-11T23:00:59.455Z"
   },
   {
    "duration": 4573,
    "start_time": "2024-12-11T23:00:59.608Z"
   },
   {
    "duration": 14,
    "start_time": "2024-12-11T23:01:04.184Z"
   },
   {
    "duration": 809,
    "start_time": "2024-12-11T23:01:04.200Z"
   },
   {
    "duration": 4613,
    "start_time": "2024-12-11T23:01:05.015Z"
   },
   {
    "duration": 796,
    "start_time": "2024-12-11T23:01:09.632Z"
   },
   {
    "duration": 4830,
    "start_time": "2024-12-11T23:01:10.430Z"
   },
   {
    "duration": 737,
    "start_time": "2024-12-11T23:01:15.262Z"
   },
   {
    "duration": 27,
    "start_time": "2024-12-11T23:01:16.000Z"
   },
   {
    "duration": 5,
    "start_time": "2024-12-11T23:01:16.031Z"
   },
   {
    "duration": 43,
    "start_time": "2024-12-11T23:01:16.037Z"
   },
   {
    "duration": 138,
    "start_time": "2024-12-11T23:01:16.082Z"
   },
   {
    "duration": 0,
    "start_time": "2024-12-11T23:01:16.222Z"
   },
   {
    "duration": 14,
    "start_time": "2024-12-11T23:03:14.664Z"
   },
   {
    "duration": 14,
    "start_time": "2024-12-11T23:03:15.450Z"
   },
   {
    "duration": 22,
    "start_time": "2024-12-11T23:17:46.572Z"
   },
   {
    "duration": 562,
    "start_time": "2024-12-11T23:18:02.155Z"
   },
   {
    "duration": 4,
    "start_time": "2024-12-11T23:27:01.136Z"
   },
   {
    "duration": 52,
    "start_time": "2024-12-11T23:27:20.771Z"
   },
   {
    "duration": 5,
    "start_time": "2024-12-11T23:30:58.539Z"
   },
   {
    "duration": 89,
    "start_time": "2024-12-11T23:30:59.940Z"
   },
   {
    "duration": 65,
    "start_time": "2024-12-11T23:31:36.667Z"
   },
   {
    "duration": 5,
    "start_time": "2024-12-11T23:32:19.244Z"
   },
   {
    "duration": 21,
    "start_time": "2024-12-11T23:32:20.398Z"
   },
   {
    "duration": 4952,
    "start_time": "2024-12-11T23:32:30.700Z"
   },
   {
    "duration": 1872,
    "start_time": "2024-12-11T23:32:35.654Z"
   },
   {
    "duration": 3,
    "start_time": "2024-12-11T23:32:37.527Z"
   },
   {
    "duration": 154,
    "start_time": "2024-12-11T23:32:37.532Z"
   },
   {
    "duration": 148,
    "start_time": "2024-12-11T23:32:37.687Z"
   },
   {
    "duration": 143,
    "start_time": "2024-12-11T23:32:37.837Z"
   },
   {
    "duration": 58,
    "start_time": "2024-12-11T23:32:37.982Z"
   },
   {
    "duration": 10,
    "start_time": "2024-12-11T23:32:38.042Z"
   },
   {
    "duration": 72,
    "start_time": "2024-12-11T23:32:38.054Z"
   },
   {
    "duration": 10,
    "start_time": "2024-12-11T23:32:38.129Z"
   },
   {
    "duration": 49,
    "start_time": "2024-12-11T23:32:38.141Z"
   },
   {
    "duration": 33,
    "start_time": "2024-12-11T23:32:38.192Z"
   },
   {
    "duration": 129,
    "start_time": "2024-12-11T23:32:38.227Z"
   },
   {
    "duration": 4514,
    "start_time": "2024-12-11T23:32:38.358Z"
   },
   {
    "duration": 15,
    "start_time": "2024-12-11T23:32:42.874Z"
   },
   {
    "duration": 718,
    "start_time": "2024-12-11T23:32:42.890Z"
   },
   {
    "duration": 4429,
    "start_time": "2024-12-11T23:32:43.610Z"
   },
   {
    "duration": 781,
    "start_time": "2024-12-11T23:32:48.041Z"
   },
   {
    "duration": 4873,
    "start_time": "2024-12-11T23:32:48.824Z"
   },
   {
    "duration": 774,
    "start_time": "2024-12-11T23:32:53.699Z"
   },
   {
    "duration": 6,
    "start_time": "2024-12-11T23:32:54.474Z"
   },
   {
    "duration": 164,
    "start_time": "2024-12-11T23:32:54.481Z"
   },
   {
    "duration": 0,
    "start_time": "2024-12-11T23:32:54.646Z"
   },
   {
    "duration": 0,
    "start_time": "2024-12-11T23:32:54.647Z"
   },
   {
    "duration": 0,
    "start_time": "2024-12-11T23:32:54.648Z"
   },
   {
    "duration": 0,
    "start_time": "2024-12-11T23:32:54.649Z"
   },
   {
    "duration": 0,
    "start_time": "2024-12-11T23:32:54.650Z"
   },
   {
    "duration": 9,
    "start_time": "2024-12-11T23:33:42.116Z"
   },
   {
    "duration": 142,
    "start_time": "2024-12-11T23:33:43.395Z"
   },
   {
    "duration": 5,
    "start_time": "2024-12-11T23:37:03.484Z"
   },
   {
    "duration": 234,
    "start_time": "2024-12-11T23:37:06.396Z"
   },
   {
    "duration": 115,
    "start_time": "2024-12-11T23:45:50.516Z"
   },
   {
    "duration": 124,
    "start_time": "2024-12-11T23:45:59.803Z"
   },
   {
    "duration": 117,
    "start_time": "2024-12-11T23:46:15.716Z"
   },
   {
    "duration": 6,
    "start_time": "2024-12-11T23:56:58.653Z"
   },
   {
    "duration": 72,
    "start_time": "2024-12-11T23:57:00.964Z"
   },
   {
    "duration": 5,
    "start_time": "2024-12-11T23:59:50.389Z"
   },
   {
    "duration": 147,
    "start_time": "2024-12-11T23:59:52.470Z"
   },
   {
    "duration": 5,
    "start_time": "2024-12-12T00:02:53.006Z"
   },
   {
    "duration": 125,
    "start_time": "2024-12-12T00:02:54.398Z"
   },
   {
    "duration": 135,
    "start_time": "2024-12-12T00:02:56.390Z"
   },
   {
    "duration": 178,
    "start_time": "2024-12-12T00:03:09.238Z"
   },
   {
    "duration": 4873,
    "start_time": "2024-12-12T00:05:02.458Z"
   },
   {
    "duration": 1950,
    "start_time": "2024-12-12T00:05:07.333Z"
   },
   {
    "duration": 3,
    "start_time": "2024-12-12T00:05:09.285Z"
   },
   {
    "duration": 173,
    "start_time": "2024-12-12T00:05:09.289Z"
   },
   {
    "duration": 139,
    "start_time": "2024-12-12T00:05:09.464Z"
   },
   {
    "duration": 143,
    "start_time": "2024-12-12T00:05:09.604Z"
   },
   {
    "duration": 44,
    "start_time": "2024-12-12T00:05:09.748Z"
   },
   {
    "duration": 24,
    "start_time": "2024-12-12T00:05:09.793Z"
   },
   {
    "duration": 130,
    "start_time": "2024-12-12T00:05:09.822Z"
   },
   {
    "duration": 14,
    "start_time": "2024-12-12T00:05:09.953Z"
   },
   {
    "duration": 71,
    "start_time": "2024-12-12T00:05:09.969Z"
   },
   {
    "duration": 14,
    "start_time": "2024-12-12T00:05:10.042Z"
   },
   {
    "duration": 156,
    "start_time": "2024-12-12T00:05:10.057Z"
   },
   {
    "duration": 4318,
    "start_time": "2024-12-12T00:05:10.219Z"
   },
   {
    "duration": 14,
    "start_time": "2024-12-12T00:05:14.538Z"
   },
   {
    "duration": 751,
    "start_time": "2024-12-12T00:05:14.553Z"
   },
   {
    "duration": 4151,
    "start_time": "2024-12-12T00:05:15.306Z"
   },
   {
    "duration": 739,
    "start_time": "2024-12-12T00:05:19.459Z"
   },
   {
    "duration": 4968,
    "start_time": "2024-12-12T00:05:20.200Z"
   },
   {
    "duration": 740,
    "start_time": "2024-12-12T00:05:25.169Z"
   },
   {
    "duration": 14,
    "start_time": "2024-12-12T00:05:25.914Z"
   },
   {
    "duration": 371,
    "start_time": "2024-12-12T00:05:25.932Z"
   },
   {
    "duration": 0,
    "start_time": "2024-12-12T00:05:26.304Z"
   },
   {
    "duration": 0,
    "start_time": "2024-12-12T00:05:26.305Z"
   },
   {
    "duration": 4,
    "start_time": "2024-12-12T00:05:37.135Z"
   },
   {
    "duration": 121,
    "start_time": "2024-12-12T00:05:38.014Z"
   },
   {
    "duration": 99,
    "start_time": "2024-12-12T00:05:41.637Z"
   },
   {
    "duration": 122,
    "start_time": "2024-12-12T00:05:46.198Z"
   },
   {
    "duration": 6,
    "start_time": "2024-12-12T00:08:00.487Z"
   },
   {
    "duration": 109,
    "start_time": "2024-12-12T00:08:01.922Z"
   },
   {
    "duration": 5,
    "start_time": "2024-12-12T00:08:38.343Z"
   },
   {
    "duration": 83,
    "start_time": "2024-12-12T00:08:39.839Z"
   },
   {
    "duration": 52,
    "start_time": "2024-12-12T00:08:48.382Z"
   },
   {
    "duration": 68,
    "start_time": "2024-12-12T00:08:53.159Z"
   },
   {
    "duration": 658,
    "start_time": "2024-12-12T00:37:31.992Z"
   },
   {
    "duration": 4,
    "start_time": "2024-12-12T01:00:02.114Z"
   },
   {
    "duration": 10,
    "start_time": "2024-12-12T01:02:34.897Z"
   },
   {
    "duration": 3,
    "start_time": "2024-12-12T01:02:39.993Z"
   },
   {
    "duration": 11,
    "start_time": "2024-12-12T01:03:35.337Z"
   },
   {
    "duration": 4,
    "start_time": "2024-12-12T01:03:42.857Z"
   },
   {
    "duration": 4,
    "start_time": "2024-12-12T01:03:50.906Z"
   },
   {
    "duration": 57,
    "start_time": "2024-12-12T01:10:38.452Z"
   },
   {
    "duration": 61,
    "start_time": "2024-12-12T01:12:22.124Z"
   },
   {
    "duration": 57,
    "start_time": "2024-12-12T01:15:47.835Z"
   },
   {
    "duration": 4,
    "start_time": "2024-12-12T01:29:05.939Z"
   },
   {
    "duration": 18,
    "start_time": "2024-12-12T01:29:27.940Z"
   },
   {
    "duration": 7,
    "start_time": "2024-12-12T01:30:22.212Z"
   },
   {
    "duration": 15,
    "start_time": "2024-12-12T01:30:23.397Z"
   },
   {
    "duration": 3,
    "start_time": "2024-12-12T01:31:07.332Z"
   },
   {
    "duration": 30,
    "start_time": "2024-12-12T01:31:08.092Z"
   },
   {
    "duration": 3,
    "start_time": "2024-12-12T01:35:09.876Z"
   },
   {
    "duration": 10,
    "start_time": "2024-12-12T01:35:19.988Z"
   },
   {
    "duration": 5,
    "start_time": "2024-12-12T01:36:50.822Z"
   },
   {
    "duration": 9,
    "start_time": "2024-12-12T01:36:51.957Z"
   },
   {
    "duration": 15,
    "start_time": "2024-12-12T01:37:13.476Z"
   },
   {
    "duration": 3,
    "start_time": "2024-12-12T01:38:27.527Z"
   },
   {
    "duration": 23,
    "start_time": "2024-12-12T01:38:29.008Z"
   },
   {
    "duration": 4,
    "start_time": "2024-12-12T01:39:18.988Z"
   },
   {
    "duration": 10,
    "start_time": "2024-12-12T01:39:20.940Z"
   },
   {
    "duration": 3,
    "start_time": "2024-12-12T01:48:48.337Z"
   },
   {
    "duration": 15,
    "start_time": "2024-12-12T01:48:58.652Z"
   },
   {
    "duration": 5,
    "start_time": "2024-12-12T01:52:25.854Z"
   },
   {
    "duration": 284,
    "start_time": "2024-12-12T01:52:28.100Z"
   },
   {
    "duration": 7,
    "start_time": "2024-12-12T01:53:35.929Z"
   },
   {
    "duration": 202,
    "start_time": "2024-12-12T01:53:38.149Z"
   },
   {
    "duration": 5,
    "start_time": "2024-12-12T01:54:02.062Z"
   },
   {
    "duration": 240,
    "start_time": "2024-12-12T01:54:02.689Z"
   },
   {
    "duration": 5,
    "start_time": "2024-12-12T01:55:05.694Z"
   },
   {
    "duration": 157,
    "start_time": "2024-12-12T01:55:06.964Z"
   },
   {
    "duration": 5,
    "start_time": "2024-12-12T01:56:23.574Z"
   },
   {
    "duration": 18,
    "start_time": "2024-12-12T01:56:25.591Z"
   },
   {
    "duration": 4,
    "start_time": "2024-12-12T01:56:37.654Z"
   },
   {
    "duration": 196,
    "start_time": "2024-12-12T01:56:38.723Z"
   },
   {
    "duration": 237,
    "start_time": "2024-12-12T01:56:41.989Z"
   },
   {
    "duration": 183,
    "start_time": "2024-12-12T01:56:46.645Z"
   },
   {
    "duration": 3,
    "start_time": "2024-12-12T01:56:53.573Z"
   },
   {
    "duration": 4,
    "start_time": "2024-12-12T01:56:53.909Z"
   },
   {
    "duration": 58,
    "start_time": "2024-12-12T01:56:54.629Z"
   },
   {
    "duration": 3,
    "start_time": "2024-12-12T01:56:55.342Z"
   },
   {
    "duration": 16,
    "start_time": "2024-12-12T01:56:56.165Z"
   },
   {
    "duration": 5,
    "start_time": "2024-12-12T01:57:14.196Z"
   },
   {
    "duration": 16,
    "start_time": "2024-12-12T01:57:15.950Z"
   },
   {
    "duration": 4,
    "start_time": "2024-12-12T01:57:46.179Z"
   },
   {
    "duration": 22,
    "start_time": "2024-12-12T01:57:47.216Z"
   },
   {
    "duration": 4830,
    "start_time": "2024-12-12T01:57:59.260Z"
   },
   {
    "duration": 1915,
    "start_time": "2024-12-12T01:58:04.092Z"
   },
   {
    "duration": 10,
    "start_time": "2024-12-12T01:58:06.009Z"
   },
   {
    "duration": 169,
    "start_time": "2024-12-12T01:58:06.021Z"
   },
   {
    "duration": 145,
    "start_time": "2024-12-12T01:58:06.192Z"
   },
   {
    "duration": 142,
    "start_time": "2024-12-12T01:58:06.338Z"
   },
   {
    "duration": 55,
    "start_time": "2024-12-12T01:58:06.481Z"
   },
   {
    "duration": 24,
    "start_time": "2024-12-12T01:58:06.538Z"
   },
   {
    "duration": 46,
    "start_time": "2024-12-12T01:58:06.563Z"
   },
   {
    "duration": 23,
    "start_time": "2024-12-12T01:58:06.615Z"
   },
   {
    "duration": 87,
    "start_time": "2024-12-12T01:58:06.639Z"
   },
   {
    "duration": 12,
    "start_time": "2024-12-12T01:58:06.728Z"
   },
   {
    "duration": 149,
    "start_time": "2024-12-12T01:58:06.742Z"
   },
   {
    "duration": 4343,
    "start_time": "2024-12-12T01:58:06.893Z"
   },
   {
    "duration": 16,
    "start_time": "2024-12-12T01:58:11.237Z"
   },
   {
    "duration": 709,
    "start_time": "2024-12-12T01:58:11.254Z"
   },
   {
    "duration": 4397,
    "start_time": "2024-12-12T01:58:11.964Z"
   },
   {
    "duration": 769,
    "start_time": "2024-12-12T01:58:16.362Z"
   },
   {
    "duration": 4732,
    "start_time": "2024-12-12T01:58:17.132Z"
   },
   {
    "duration": 726,
    "start_time": "2024-12-12T01:58:21.865Z"
   },
   {
    "duration": 6,
    "start_time": "2024-12-12T01:58:22.593Z"
   },
   {
    "duration": 127,
    "start_time": "2024-12-12T01:58:22.601Z"
   },
   {
    "duration": 201,
    "start_time": "2024-12-12T01:58:22.734Z"
   },
   {
    "duration": 192,
    "start_time": "2024-12-12T01:58:22.938Z"
   },
   {
    "duration": 6,
    "start_time": "2024-12-12T01:58:23.133Z"
   },
   {
    "duration": 85,
    "start_time": "2024-12-12T01:58:23.141Z"
   },
   {
    "duration": 59,
    "start_time": "2024-12-12T01:58:23.229Z"
   },
   {
    "duration": 3,
    "start_time": "2024-12-12T01:58:23.290Z"
   },
   {
    "duration": 186,
    "start_time": "2024-12-12T01:58:23.294Z"
   },
   {
    "duration": 4,
    "start_time": "2024-12-12T02:00:22.556Z"
   },
   {
    "duration": 12,
    "start_time": "2024-12-12T02:00:47.749Z"
   },
   {
    "duration": 3,
    "start_time": "2024-12-12T02:00:50.769Z"
   },
   {
    "duration": 16,
    "start_time": "2024-12-12T02:00:51.405Z"
   },
   {
    "duration": 24,
    "start_time": "2024-12-12T02:01:00.093Z"
   },
   {
    "duration": 4,
    "start_time": "2024-12-12T02:04:32.895Z"
   },
   {
    "duration": 124,
    "start_time": "2024-12-12T02:05:17.991Z"
   },
   {
    "duration": 86,
    "start_time": "2024-12-12T02:05:23.441Z"
   },
   {
    "duration": 47,
    "start_time": "2024-12-12T02:05:24.287Z"
   },
   {
    "duration": 3,
    "start_time": "2024-12-12T02:05:25.274Z"
   },
   {
    "duration": 3,
    "start_time": "2024-12-12T02:05:25.510Z"
   },
   {
    "duration": 62,
    "start_time": "2024-12-12T02:05:25.677Z"
   },
   {
    "duration": 3,
    "start_time": "2024-12-12T02:05:26.138Z"
   },
   {
    "duration": 16,
    "start_time": "2024-12-12T02:05:26.970Z"
   },
   {
    "duration": 3,
    "start_time": "2024-12-12T02:16:29.929Z"
   },
   {
    "duration": 9,
    "start_time": "2024-12-12T02:16:29.988Z"
   },
   {
    "duration": 4,
    "start_time": "2024-12-12T02:34:45.835Z"
   },
   {
    "duration": 3,
    "start_time": "2024-12-12T02:35:25.627Z"
   },
   {
    "duration": 4,
    "start_time": "2024-12-12T02:50:51.848Z"
   },
   {
    "duration": 6,
    "start_time": "2024-12-12T02:52:38.010Z"
   },
   {
    "duration": 4,
    "start_time": "2024-12-12T02:52:46.407Z"
   },
   {
    "duration": 94,
    "start_time": "2024-12-12T02:52:55.236Z"
   },
   {
    "duration": 475,
    "start_time": "2024-12-12T02:54:46.761Z"
   },
   {
    "duration": 522,
    "start_time": "2024-12-12T02:55:25.817Z"
   },
   {
    "duration": 80,
    "start_time": "2024-12-12T02:55:52.449Z"
   },
   {
    "duration": 132,
    "start_time": "2024-12-12T02:56:28.884Z"
   },
   {
    "duration": 160,
    "start_time": "2024-12-12T02:56:41.658Z"
   },
   {
    "duration": 2,
    "start_time": "2024-12-12T02:56:44.896Z"
   },
   {
    "duration": 3,
    "start_time": "2024-12-12T02:56:45.531Z"
   },
   {
    "duration": 67,
    "start_time": "2024-12-12T02:56:46.675Z"
   },
   {
    "duration": 3,
    "start_time": "2024-12-12T03:02:59.874Z"
   },
   {
    "duration": 12,
    "start_time": "2024-12-12T03:03:44.296Z"
   },
   {
    "duration": 3,
    "start_time": "2024-12-12T03:03:59.196Z"
   },
   {
    "duration": 11,
    "start_time": "2024-12-12T03:03:59.858Z"
   },
   {
    "duration": 27,
    "start_time": "2024-12-12T03:04:37.259Z"
   },
   {
    "duration": 3,
    "start_time": "2024-12-12T03:04:52.667Z"
   },
   {
    "duration": 10,
    "start_time": "2024-12-12T03:04:53.548Z"
   },
   {
    "duration": 6,
    "start_time": "2024-12-12T03:10:55.023Z"
   },
   {
    "duration": 15,
    "start_time": "2024-12-12T03:10:56.062Z"
   },
   {
    "duration": 4882,
    "start_time": "2024-12-12T03:11:07.715Z"
   },
   {
    "duration": 1932,
    "start_time": "2024-12-12T03:11:12.599Z"
   },
   {
    "duration": 3,
    "start_time": "2024-12-12T03:11:14.533Z"
   },
   {
    "duration": 163,
    "start_time": "2024-12-12T03:11:14.537Z"
   },
   {
    "duration": 146,
    "start_time": "2024-12-12T03:11:14.702Z"
   },
   {
    "duration": 139,
    "start_time": "2024-12-12T03:11:14.850Z"
   },
   {
    "duration": 68,
    "start_time": "2024-12-12T03:11:14.991Z"
   },
   {
    "duration": 10,
    "start_time": "2024-12-12T03:11:15.061Z"
   },
   {
    "duration": 69,
    "start_time": "2024-12-12T03:11:15.072Z"
   },
   {
    "duration": 11,
    "start_time": "2024-12-12T03:11:15.143Z"
   },
   {
    "duration": 77,
    "start_time": "2024-12-12T03:11:15.156Z"
   },
   {
    "duration": 13,
    "start_time": "2024-12-12T03:11:15.235Z"
   },
   {
    "duration": 176,
    "start_time": "2024-12-12T03:11:15.250Z"
   },
   {
    "duration": 4332,
    "start_time": "2024-12-12T03:11:15.430Z"
   },
   {
    "duration": 15,
    "start_time": "2024-12-12T03:11:19.763Z"
   },
   {
    "duration": 712,
    "start_time": "2024-12-12T03:11:19.780Z"
   },
   {
    "duration": 4343,
    "start_time": "2024-12-12T03:11:20.493Z"
   },
   {
    "duration": 760,
    "start_time": "2024-12-12T03:11:24.837Z"
   },
   {
    "duration": 4853,
    "start_time": "2024-12-12T03:11:25.599Z"
   },
   {
    "duration": 746,
    "start_time": "2024-12-12T03:11:30.454Z"
   },
   {
    "duration": 17,
    "start_time": "2024-12-12T03:11:31.202Z"
   },
   {
    "duration": 111,
    "start_time": "2024-12-12T03:11:31.221Z"
   },
   {
    "duration": 195,
    "start_time": "2024-12-12T03:11:31.334Z"
   },
   {
    "duration": 184,
    "start_time": "2024-12-12T03:11:31.532Z"
   },
   {
    "duration": 5,
    "start_time": "2024-12-12T03:11:31.718Z"
   },
   {
    "duration": 4,
    "start_time": "2024-12-12T03:11:31.727Z"
   },
   {
    "duration": 158,
    "start_time": "2024-12-12T03:11:31.735Z"
   },
   {
    "duration": 3,
    "start_time": "2024-12-12T03:11:31.895Z"
   },
   {
    "duration": 154,
    "start_time": "2024-12-12T03:11:31.900Z"
   },
   {
    "duration": 0,
    "start_time": "2024-12-12T03:11:32.056Z"
   },
   {
    "duration": 0,
    "start_time": "2024-12-12T03:11:32.057Z"
   },
   {
    "duration": 4,
    "start_time": "2024-12-12T03:13:13.499Z"
   },
   {
    "duration": 11,
    "start_time": "2024-12-12T03:13:14.897Z"
   },
   {
    "duration": 20,
    "start_time": "2024-12-12T03:13:36.715Z"
   },
   {
    "duration": 5,
    "start_time": "2024-12-12T03:22:35.920Z"
   },
   {
    "duration": 12,
    "start_time": "2024-12-12T03:23:45.153Z"
   },
   {
    "duration": 20,
    "start_time": "2024-12-12T03:23:55.242Z"
   },
   {
    "duration": 3,
    "start_time": "2024-12-12T03:25:14.499Z"
   },
   {
    "duration": 10,
    "start_time": "2024-12-12T03:25:17.213Z"
   },
   {
    "duration": 12,
    "start_time": "2024-12-12T03:26:50.551Z"
   },
   {
    "duration": 17,
    "start_time": "2024-12-12T03:32:25.001Z"
   },
   {
    "duration": 4,
    "start_time": "2024-12-12T03:32:26.976Z"
   },
   {
    "duration": 17,
    "start_time": "2024-12-12T03:32:27.546Z"
   },
   {
    "duration": 6,
    "start_time": "2024-12-12T03:32:44.013Z"
   },
   {
    "duration": 14,
    "start_time": "2024-12-12T03:32:47.237Z"
   },
   {
    "duration": 4,
    "start_time": "2024-12-12T03:33:04.392Z"
   },
   {
    "duration": 17,
    "start_time": "2024-12-12T03:33:05.152Z"
   },
   {
    "duration": 4,
    "start_time": "2024-12-12T03:33:54.248Z"
   },
   {
    "duration": 14,
    "start_time": "2024-12-12T03:33:54.741Z"
   },
   {
    "duration": 14,
    "start_time": "2024-12-12T03:34:26.730Z"
   },
   {
    "duration": 14,
    "start_time": "2024-12-12T03:34:33.497Z"
   },
   {
    "duration": 26,
    "start_time": "2024-12-12T03:35:59.212Z"
   },
   {
    "duration": 22,
    "start_time": "2024-12-12T03:36:41.760Z"
   },
   {
    "duration": 37,
    "start_time": "2024-12-12T03:39:13.410Z"
   },
   {
    "duration": 57,
    "start_time": "2024-12-12T03:40:28.208Z"
   },
   {
    "duration": 22,
    "start_time": "2024-12-12T03:46:09.073Z"
   },
   {
    "duration": 95,
    "start_time": "2024-12-12T03:46:40.909Z"
   },
   {
    "duration": 94,
    "start_time": "2024-12-12T03:47:00.407Z"
   },
   {
    "duration": 20,
    "start_time": "2024-12-12T03:47:09.362Z"
   },
   {
    "duration": 23,
    "start_time": "2024-12-12T03:47:48.602Z"
   },
   {
    "duration": 5,
    "start_time": "2024-12-12T03:48:41.591Z"
   },
   {
    "duration": 5,
    "start_time": "2024-12-12T03:48:50.656Z"
   },
   {
    "duration": 17,
    "start_time": "2024-12-12T03:49:15.786Z"
   },
   {
    "duration": 93,
    "start_time": "2024-12-12T03:53:21.384Z"
   },
   {
    "duration": 6,
    "start_time": "2024-12-12T04:01:13.548Z"
   },
   {
    "duration": 8,
    "start_time": "2024-12-12T04:02:35.759Z"
   },
   {
    "duration": 11,
    "start_time": "2024-12-12T04:03:01.683Z"
   },
   {
    "duration": 1546,
    "start_time": "2024-12-12T04:03:14.130Z"
   },
   {
    "duration": 14,
    "start_time": "2024-12-12T04:03:50.715Z"
   },
   {
    "duration": 1351,
    "start_time": "2024-12-12T04:03:52.026Z"
   },
   {
    "duration": 4,
    "start_time": "2024-12-12T04:06:05.443Z"
   },
   {
    "duration": 18,
    "start_time": "2024-12-12T04:06:10.861Z"
   },
   {
    "duration": 7921,
    "start_time": "2024-12-12T18:52:18.235Z"
   },
   {
    "duration": 2256,
    "start_time": "2024-12-12T18:52:26.159Z"
   },
   {
    "duration": 3,
    "start_time": "2024-12-12T18:52:28.417Z"
   },
   {
    "duration": 278,
    "start_time": "2024-12-12T18:52:28.422Z"
   },
   {
    "duration": 232,
    "start_time": "2024-12-12T18:52:28.702Z"
   },
   {
    "duration": 258,
    "start_time": "2024-12-12T18:52:28.935Z"
   },
   {
    "duration": 49,
    "start_time": "2024-12-12T18:52:29.194Z"
   },
   {
    "duration": 19,
    "start_time": "2024-12-12T18:52:29.245Z"
   },
   {
    "duration": 76,
    "start_time": "2024-12-12T18:52:29.266Z"
   },
   {
    "duration": 15,
    "start_time": "2024-12-12T18:52:29.344Z"
   },
   {
    "duration": 45,
    "start_time": "2024-12-12T18:52:29.361Z"
   },
   {
    "duration": 35,
    "start_time": "2024-12-12T18:52:29.408Z"
   },
   {
    "duration": 153,
    "start_time": "2024-12-12T18:52:29.445Z"
   },
   {
    "duration": 4715,
    "start_time": "2024-12-12T18:52:29.601Z"
   },
   {
    "duration": 26,
    "start_time": "2024-12-12T18:52:34.318Z"
   },
   {
    "duration": 776,
    "start_time": "2024-12-12T18:52:34.347Z"
   },
   {
    "duration": 4735,
    "start_time": "2024-12-12T18:52:35.125Z"
   },
   {
    "duration": 799,
    "start_time": "2024-12-12T18:52:39.861Z"
   },
   {
    "duration": 5163,
    "start_time": "2024-12-12T18:52:40.662Z"
   },
   {
    "duration": 762,
    "start_time": "2024-12-12T18:52:45.827Z"
   },
   {
    "duration": 6,
    "start_time": "2024-12-12T18:52:46.591Z"
   },
   {
    "duration": 248,
    "start_time": "2024-12-12T18:52:46.599Z"
   },
   {
    "duration": 192,
    "start_time": "2024-12-12T18:52:46.855Z"
   },
   {
    "duration": 195,
    "start_time": "2024-12-12T18:52:47.049Z"
   },
   {
    "duration": 92,
    "start_time": "2024-12-12T18:52:47.246Z"
   },
   {
    "duration": 13,
    "start_time": "2024-12-12T18:52:47.341Z"
   },
   {
    "duration": 58,
    "start_time": "2024-12-12T18:52:47.356Z"
   },
   {
    "duration": 23,
    "start_time": "2024-12-12T18:52:47.415Z"
   },
   {
    "duration": 24,
    "start_time": "2024-12-12T18:52:47.439Z"
   },
   {
    "duration": 5,
    "start_time": "2024-12-12T18:52:47.465Z"
   },
   {
    "duration": 165,
    "start_time": "2024-12-12T18:52:47.472Z"
   },
   {
    "duration": 5,
    "start_time": "2024-12-12T19:07:59.021Z"
   },
   {
    "duration": 1415,
    "start_time": "2024-12-12T19:08:29.870Z"
   },
   {
    "duration": 1603,
    "start_time": "2024-12-12T19:08:44.292Z"
   },
   {
    "duration": 1455,
    "start_time": "2024-12-12T19:08:54.014Z"
   },
   {
    "duration": 1413,
    "start_time": "2024-12-12T19:09:09.309Z"
   },
   {
    "duration": 1574,
    "start_time": "2024-12-12T19:10:44.413Z"
   },
   {
    "duration": 5002,
    "start_time": "2024-12-12T19:10:55.581Z"
   },
   {
    "duration": 1906,
    "start_time": "2024-12-12T19:11:00.585Z"
   },
   {
    "duration": 3,
    "start_time": "2024-12-12T19:11:02.493Z"
   },
   {
    "duration": 197,
    "start_time": "2024-12-12T19:11:02.497Z"
   },
   {
    "duration": 143,
    "start_time": "2024-12-12T19:11:02.696Z"
   },
   {
    "duration": 139,
    "start_time": "2024-12-12T19:11:02.841Z"
   },
   {
    "duration": 65,
    "start_time": "2024-12-12T19:11:02.982Z"
   },
   {
    "duration": 15,
    "start_time": "2024-12-12T19:11:03.050Z"
   },
   {
    "duration": 50,
    "start_time": "2024-12-12T19:11:03.067Z"
   },
   {
    "duration": 11,
    "start_time": "2024-12-12T19:11:03.137Z"
   },
   {
    "duration": 61,
    "start_time": "2024-12-12T19:11:03.149Z"
   },
   {
    "duration": 10,
    "start_time": "2024-12-12T19:11:03.211Z"
   },
   {
    "duration": 147,
    "start_time": "2024-12-12T19:11:03.222Z"
   },
   {
    "duration": 4414,
    "start_time": "2024-12-12T19:11:03.372Z"
   },
   {
    "duration": 15,
    "start_time": "2024-12-12T19:11:07.788Z"
   },
   {
    "duration": 689,
    "start_time": "2024-12-12T19:11:07.805Z"
   },
   {
    "duration": 4414,
    "start_time": "2024-12-12T19:11:08.497Z"
   },
   {
    "duration": 723,
    "start_time": "2024-12-12T19:11:12.913Z"
   },
   {
    "duration": 4766,
    "start_time": "2024-12-12T19:11:13.638Z"
   },
   {
    "duration": 739,
    "start_time": "2024-12-12T19:11:18.406Z"
   },
   {
    "duration": 6,
    "start_time": "2024-12-12T19:11:19.146Z"
   },
   {
    "duration": 88,
    "start_time": "2024-12-12T19:11:19.153Z"
   },
   {
    "duration": 201,
    "start_time": "2024-12-12T19:11:19.243Z"
   },
   {
    "duration": 194,
    "start_time": "2024-12-12T19:11:19.446Z"
   },
   {
    "duration": 4,
    "start_time": "2024-12-12T19:11:19.642Z"
   },
   {
    "duration": 4,
    "start_time": "2024-12-12T19:11:19.738Z"
   },
   {
    "duration": 83,
    "start_time": "2024-12-12T19:11:19.743Z"
   },
   {
    "duration": 4,
    "start_time": "2024-12-12T19:11:19.827Z"
   },
   {
    "duration": 17,
    "start_time": "2024-12-12T19:11:19.832Z"
   },
   {
    "duration": 5,
    "start_time": "2024-12-12T19:11:19.851Z"
   },
   {
    "duration": 1629,
    "start_time": "2024-12-12T19:11:19.858Z"
   },
   {
    "duration": 0,
    "start_time": "2024-12-12T19:11:21.489Z"
   },
   {
    "duration": 5,
    "start_time": "2024-12-12T19:14:22.381Z"
   },
   {
    "duration": 14,
    "start_time": "2024-12-12T19:14:23.069Z"
   },
   {
    "duration": 6,
    "start_time": "2024-12-12T19:15:07.971Z"
   },
   {
    "duration": 1382,
    "start_time": "2024-12-12T19:18:43.865Z"
   },
   {
    "duration": 8,
    "start_time": "2024-12-12T19:22:42.030Z"
   },
   {
    "duration": 14,
    "start_time": "2024-12-12T19:22:42.984Z"
   },
   {
    "duration": 1431,
    "start_time": "2024-12-12T19:22:45.766Z"
   },
   {
    "duration": 3,
    "start_time": "2024-12-12T19:27:51.091Z"
   },
   {
    "duration": 113,
    "start_time": "2024-12-12T19:30:42.693Z"
   },
   {
    "duration": 16,
    "start_time": "2024-12-12T19:31:51.758Z"
   },
   {
    "duration": 84,
    "start_time": "2024-12-12T19:32:34.238Z"
   },
   {
    "duration": 15,
    "start_time": "2024-12-12T19:33:18.103Z"
   },
   {
    "duration": 16,
    "start_time": "2024-12-12T19:36:40.209Z"
   },
   {
    "duration": 4883,
    "start_time": "2024-12-12T19:45:51.125Z"
   },
   {
    "duration": 1967,
    "start_time": "2024-12-12T19:45:56.011Z"
   },
   {
    "duration": 3,
    "start_time": "2024-12-12T19:45:57.979Z"
   },
   {
    "duration": 168,
    "start_time": "2024-12-12T19:45:57.983Z"
   },
   {
    "duration": 153,
    "start_time": "2024-12-12T19:45:58.152Z"
   },
   {
    "duration": 138,
    "start_time": "2024-12-12T19:45:58.306Z"
   },
   {
    "duration": 47,
    "start_time": "2024-12-12T19:45:58.445Z"
   },
   {
    "duration": 10,
    "start_time": "2024-12-12T19:45:58.494Z"
   },
   {
    "duration": 71,
    "start_time": "2024-12-12T19:45:58.505Z"
   },
   {
    "duration": 9,
    "start_time": "2024-12-12T19:45:58.579Z"
   },
   {
    "duration": 62,
    "start_time": "2024-12-12T19:45:58.590Z"
   },
   {
    "duration": 10,
    "start_time": "2024-12-12T19:45:58.654Z"
   },
   {
    "duration": 160,
    "start_time": "2024-12-12T19:45:58.665Z"
   },
   {
    "duration": 4344,
    "start_time": "2024-12-12T19:45:58.826Z"
   },
   {
    "duration": 16,
    "start_time": "2024-12-12T19:46:03.171Z"
   },
   {
    "duration": 682,
    "start_time": "2024-12-12T19:46:03.189Z"
   },
   {
    "duration": 4237,
    "start_time": "2024-12-12T19:46:03.873Z"
   },
   {
    "duration": 763,
    "start_time": "2024-12-12T19:46:08.111Z"
   },
   {
    "duration": 4706,
    "start_time": "2024-12-12T19:46:08.876Z"
   },
   {
    "duration": 747,
    "start_time": "2024-12-12T19:46:13.584Z"
   },
   {
    "duration": 4,
    "start_time": "2024-12-12T19:46:14.337Z"
   },
   {
    "duration": 102,
    "start_time": "2024-12-12T19:46:14.343Z"
   },
   {
    "duration": 192,
    "start_time": "2024-12-12T19:46:14.447Z"
   },
   {
    "duration": 201,
    "start_time": "2024-12-12T19:46:14.645Z"
   },
   {
    "duration": 3,
    "start_time": "2024-12-12T19:46:14.938Z"
   },
   {
    "duration": 5,
    "start_time": "2024-12-12T19:46:14.942Z"
   },
   {
    "duration": 61,
    "start_time": "2024-12-12T19:46:14.948Z"
   },
   {
    "duration": 3,
    "start_time": "2024-12-12T19:46:15.039Z"
   },
   {
    "duration": 37,
    "start_time": "2024-12-12T19:46:15.044Z"
   },
   {
    "duration": 60,
    "start_time": "2024-12-12T19:46:32.024Z"
   },
   {
    "duration": 4,
    "start_time": "2024-12-12T19:47:37.665Z"
   },
   {
    "duration": 146,
    "start_time": "2024-12-12T19:47:38.535Z"
   },
   {
    "duration": 3,
    "start_time": "2024-12-12T19:48:00.163Z"
   },
   {
    "duration": 17,
    "start_time": "2024-12-12T19:48:01.896Z"
   },
   {
    "duration": 5,
    "start_time": "2024-12-12T19:48:49.812Z"
   },
   {
    "duration": 5,
    "start_time": "2024-12-12T19:50:06.491Z"
   },
   {
    "duration": 16,
    "start_time": "2024-12-12T19:50:10.254Z"
   },
   {
    "duration": 5,
    "start_time": "2024-12-12T19:52:06.126Z"
   },
   {
    "duration": 17,
    "start_time": "2024-12-12T19:52:07.006Z"
   },
   {
    "duration": 35,
    "start_time": "2024-12-12T19:54:13.257Z"
   },
   {
    "duration": 6,
    "start_time": "2024-12-12T19:54:15.008Z"
   },
   {
    "duration": 22,
    "start_time": "2024-12-12T19:54:16.652Z"
   },
   {
    "duration": 12,
    "start_time": "2024-12-12T19:55:52.614Z"
   },
   {
    "duration": 18869,
    "start_time": "2024-12-12T19:56:09.275Z"
   },
   {
    "duration": 5,
    "start_time": "2024-12-12T20:06:40.391Z"
   },
   {
    "duration": 20,
    "start_time": "2024-12-12T20:08:25.860Z"
   },
   {
    "duration": 6,
    "start_time": "2024-12-12T20:09:14.075Z"
   },
   {
    "duration": 20,
    "start_time": "2024-12-12T20:09:14.749Z"
   },
   {
    "duration": 5,
    "start_time": "2024-12-12T20:09:55.942Z"
   },
   {
    "duration": 24,
    "start_time": "2024-12-12T20:09:59.052Z"
   },
   {
    "duration": 4,
    "start_time": "2024-12-12T20:10:48.061Z"
   },
   {
    "duration": 20,
    "start_time": "2024-12-12T20:11:04.060Z"
   },
   {
    "duration": 19,
    "start_time": "2024-12-12T20:11:36.159Z"
   },
   {
    "duration": 15,
    "start_time": "2024-12-12T20:12:12.364Z"
   },
   {
    "duration": 16,
    "start_time": "2024-12-12T20:13:08.357Z"
   },
   {
    "duration": 20,
    "start_time": "2024-12-12T20:13:18.405Z"
   },
   {
    "duration": 4948,
    "start_time": "2024-12-12T20:13:31.177Z"
   },
   {
    "duration": 1978,
    "start_time": "2024-12-12T20:13:36.128Z"
   },
   {
    "duration": 3,
    "start_time": "2024-12-12T20:13:38.108Z"
   },
   {
    "duration": 182,
    "start_time": "2024-12-12T20:13:38.113Z"
   },
   {
    "duration": 138,
    "start_time": "2024-12-12T20:13:38.297Z"
   },
   {
    "duration": 143,
    "start_time": "2024-12-12T20:13:38.437Z"
   },
   {
    "duration": 56,
    "start_time": "2024-12-12T20:13:38.582Z"
   },
   {
    "duration": 11,
    "start_time": "2024-12-12T20:13:38.640Z"
   },
   {
    "duration": 46,
    "start_time": "2024-12-12T20:13:38.653Z"
   },
   {
    "duration": 36,
    "start_time": "2024-12-12T20:13:38.702Z"
   },
   {
    "duration": 47,
    "start_time": "2024-12-12T20:13:38.739Z"
   },
   {
    "duration": 9,
    "start_time": "2024-12-12T20:13:38.788Z"
   },
   {
    "duration": 149,
    "start_time": "2024-12-12T20:13:38.799Z"
   },
   {
    "duration": 4314,
    "start_time": "2024-12-12T20:13:38.950Z"
   },
   {
    "duration": 17,
    "start_time": "2024-12-12T20:13:43.266Z"
   },
   {
    "duration": 696,
    "start_time": "2024-12-12T20:13:43.284Z"
   },
   {
    "duration": 4350,
    "start_time": "2024-12-12T20:13:43.982Z"
   },
   {
    "duration": 777,
    "start_time": "2024-12-12T20:13:48.336Z"
   },
   {
    "duration": 4765,
    "start_time": "2024-12-12T20:13:49.115Z"
   },
   {
    "duration": 748,
    "start_time": "2024-12-12T20:13:53.882Z"
   },
   {
    "duration": 5,
    "start_time": "2024-12-12T20:13:54.632Z"
   },
   {
    "duration": 198,
    "start_time": "2024-12-12T20:13:54.639Z"
   },
   {
    "duration": 198,
    "start_time": "2024-12-12T20:13:54.839Z"
   },
   {
    "duration": 99,
    "start_time": "2024-12-12T20:13:55.039Z"
   },
   {
    "duration": 4,
    "start_time": "2024-12-12T20:13:55.141Z"
   },
   {
    "duration": 100,
    "start_time": "2024-12-12T20:13:55.147Z"
   },
   {
    "duration": 62,
    "start_time": "2024-12-12T20:13:55.249Z"
   },
   {
    "duration": 2,
    "start_time": "2024-12-12T20:13:55.315Z"
   },
   {
    "duration": 55,
    "start_time": "2024-12-12T20:13:55.319Z"
   },
   {
    "duration": 6,
    "start_time": "2024-12-12T20:13:55.376Z"
   },
   {
    "duration": 174,
    "start_time": "2024-12-12T20:13:55.383Z"
   },
   {
    "duration": 4970,
    "start_time": "2024-12-12T20:14:53.958Z"
   },
   {
    "duration": 1993,
    "start_time": "2024-12-12T20:14:58.931Z"
   },
   {
    "duration": 3,
    "start_time": "2024-12-12T20:15:00.926Z"
   },
   {
    "duration": 174,
    "start_time": "2024-12-12T20:15:00.937Z"
   },
   {
    "duration": 140,
    "start_time": "2024-12-12T20:15:01.114Z"
   },
   {
    "duration": 141,
    "start_time": "2024-12-12T20:15:01.255Z"
   },
   {
    "duration": 55,
    "start_time": "2024-12-12T20:15:01.398Z"
   },
   {
    "duration": 11,
    "start_time": "2024-12-12T20:15:01.455Z"
   },
   {
    "duration": 69,
    "start_time": "2024-12-12T20:15:01.468Z"
   },
   {
    "duration": 11,
    "start_time": "2024-12-12T20:15:01.539Z"
   },
   {
    "duration": 73,
    "start_time": "2024-12-12T20:15:01.552Z"
   },
   {
    "duration": 11,
    "start_time": "2024-12-12T20:15:01.627Z"
   },
   {
    "duration": 143,
    "start_time": "2024-12-12T20:15:01.640Z"
   },
   {
    "duration": 4286,
    "start_time": "2024-12-12T20:15:01.787Z"
   },
   {
    "duration": 13,
    "start_time": "2024-12-12T20:15:06.075Z"
   },
   {
    "duration": 690,
    "start_time": "2024-12-12T20:15:06.090Z"
   },
   {
    "duration": 4340,
    "start_time": "2024-12-12T20:15:06.782Z"
   },
   {
    "duration": 717,
    "start_time": "2024-12-12T20:15:11.124Z"
   },
   {
    "duration": 4745,
    "start_time": "2024-12-12T20:15:11.843Z"
   },
   {
    "duration": 750,
    "start_time": "2024-12-12T20:15:16.590Z"
   },
   {
    "duration": 5,
    "start_time": "2024-12-12T20:15:17.341Z"
   },
   {
    "duration": 98,
    "start_time": "2024-12-12T20:15:17.347Z"
   },
   {
    "duration": 193,
    "start_time": "2024-12-12T20:15:17.447Z"
   },
   {
    "duration": 204,
    "start_time": "2024-12-12T20:15:17.642Z"
   },
   {
    "duration": 3,
    "start_time": "2024-12-12T20:15:17.938Z"
   },
   {
    "duration": 46,
    "start_time": "2024-12-12T20:15:17.942Z"
   },
   {
    "duration": 90,
    "start_time": "2024-12-12T20:15:17.990Z"
   },
   {
    "duration": 3,
    "start_time": "2024-12-12T20:15:18.081Z"
   },
   {
    "duration": 21,
    "start_time": "2024-12-12T20:15:18.085Z"
   },
   {
    "duration": 6,
    "start_time": "2024-12-12T20:15:18.107Z"
   },
   {
    "duration": 192,
    "start_time": "2024-12-12T20:15:18.114Z"
   },
   {
    "duration": 4998,
    "start_time": "2024-12-12T20:17:12.679Z"
   },
   {
    "duration": 1913,
    "start_time": "2024-12-12T20:17:17.680Z"
   },
   {
    "duration": 2,
    "start_time": "2024-12-12T20:17:19.595Z"
   },
   {
    "duration": 184,
    "start_time": "2024-12-12T20:17:19.599Z"
   },
   {
    "duration": 145,
    "start_time": "2024-12-12T20:17:19.785Z"
   },
   {
    "duration": 143,
    "start_time": "2024-12-12T20:17:19.932Z"
   },
   {
    "duration": 47,
    "start_time": "2024-12-12T20:17:20.076Z"
   },
   {
    "duration": 18,
    "start_time": "2024-12-12T20:17:20.125Z"
   },
   {
    "duration": 107,
    "start_time": "2024-12-12T20:17:20.145Z"
   },
   {
    "duration": 9,
    "start_time": "2024-12-12T20:17:20.255Z"
   },
   {
    "duration": 50,
    "start_time": "2024-12-12T20:17:20.266Z"
   },
   {
    "duration": 24,
    "start_time": "2024-12-12T20:17:20.317Z"
   },
   {
    "duration": 133,
    "start_time": "2024-12-12T20:17:20.342Z"
   },
   {
    "duration": 4301,
    "start_time": "2024-12-12T20:17:20.477Z"
   },
   {
    "duration": 14,
    "start_time": "2024-12-12T20:17:24.780Z"
   },
   {
    "duration": 679,
    "start_time": "2024-12-12T20:17:24.796Z"
   },
   {
    "duration": 4305,
    "start_time": "2024-12-12T20:17:25.477Z"
   },
   {
    "duration": 745,
    "start_time": "2024-12-12T20:17:29.783Z"
   },
   {
    "duration": 4744,
    "start_time": "2024-12-12T20:17:30.530Z"
   },
   {
    "duration": 755,
    "start_time": "2024-12-12T20:17:35.275Z"
   },
   {
    "duration": 5,
    "start_time": "2024-12-12T20:17:36.032Z"
   },
   {
    "duration": 104,
    "start_time": "2024-12-12T20:17:36.039Z"
   },
   {
    "duration": 198,
    "start_time": "2024-12-12T20:17:36.145Z"
   },
   {
    "duration": 195,
    "start_time": "2024-12-12T20:17:36.345Z"
   },
   {
    "duration": 4,
    "start_time": "2024-12-12T20:17:36.542Z"
   },
   {
    "duration": 9,
    "start_time": "2024-12-12T20:17:36.638Z"
   },
   {
    "duration": 73,
    "start_time": "2024-12-12T20:17:36.650Z"
   },
   {
    "duration": 3,
    "start_time": "2024-12-12T20:17:36.736Z"
   },
   {
    "duration": 19,
    "start_time": "2024-12-12T20:17:36.741Z"
   },
   {
    "duration": 206,
    "start_time": "2024-12-12T20:17:36.762Z"
   },
   {
    "duration": 0,
    "start_time": "2024-12-12T20:17:36.970Z"
   },
   {
    "duration": 24,
    "start_time": "2024-12-12T20:18:24.190Z"
   },
   {
    "duration": 5165,
    "start_time": "2024-12-12T20:20:19.645Z"
   },
   {
    "duration": 1968,
    "start_time": "2024-12-12T20:20:24.813Z"
   },
   {
    "duration": 2,
    "start_time": "2024-12-12T20:20:26.783Z"
   },
   {
    "duration": 208,
    "start_time": "2024-12-12T20:20:26.787Z"
   },
   {
    "duration": 142,
    "start_time": "2024-12-12T20:20:26.997Z"
   },
   {
    "duration": 138,
    "start_time": "2024-12-12T20:20:27.140Z"
   },
   {
    "duration": 58,
    "start_time": "2024-12-12T20:20:27.280Z"
   },
   {
    "duration": 11,
    "start_time": "2024-12-12T20:20:27.339Z"
   },
   {
    "duration": 59,
    "start_time": "2024-12-12T20:20:27.351Z"
   },
   {
    "duration": 10,
    "start_time": "2024-12-12T20:20:27.411Z"
   },
   {
    "duration": 48,
    "start_time": "2024-12-12T20:20:27.438Z"
   },
   {
    "duration": 12,
    "start_time": "2024-12-12T20:20:27.488Z"
   },
   {
    "duration": 164,
    "start_time": "2024-12-12T20:20:27.502Z"
   },
   {
    "duration": 4422,
    "start_time": "2024-12-12T20:20:27.670Z"
   },
   {
    "duration": 16,
    "start_time": "2024-12-12T20:20:32.093Z"
   },
   {
    "duration": 681,
    "start_time": "2024-12-12T20:20:32.111Z"
   },
   {
    "duration": 4460,
    "start_time": "2024-12-12T20:20:32.794Z"
   },
   {
    "duration": 778,
    "start_time": "2024-12-12T20:20:37.255Z"
   },
   {
    "duration": 4755,
    "start_time": "2024-12-12T20:20:38.036Z"
   },
   {
    "duration": 737,
    "start_time": "2024-12-12T20:20:42.793Z"
   },
   {
    "duration": 6,
    "start_time": "2024-12-12T20:20:43.531Z"
   },
   {
    "duration": 105,
    "start_time": "2024-12-12T20:20:43.539Z"
   },
   {
    "duration": 199,
    "start_time": "2024-12-12T20:20:43.647Z"
   },
   {
    "duration": 103,
    "start_time": "2024-12-12T20:20:43.937Z"
   },
   {
    "duration": 5,
    "start_time": "2024-12-12T20:20:44.042Z"
   },
   {
    "duration": 6,
    "start_time": "2024-12-12T20:20:44.138Z"
   },
   {
    "duration": 61,
    "start_time": "2024-12-12T20:20:44.146Z"
   },
   {
    "duration": 2,
    "start_time": "2024-12-12T20:20:44.209Z"
   },
   {
    "duration": 160,
    "start_time": "2024-12-12T20:20:44.237Z"
   },
   {
    "duration": 0,
    "start_time": "2024-12-12T20:20:44.399Z"
   },
   {
    "duration": 0,
    "start_time": "2024-12-12T20:20:44.401Z"
   },
   {
    "duration": 0,
    "start_time": "2024-12-12T20:20:44.402Z"
   },
   {
    "duration": 25,
    "start_time": "2024-12-12T20:21:33.785Z"
   },
   {
    "duration": 3,
    "start_time": "2024-12-12T20:25:15.728Z"
   },
   {
    "duration": 3,
    "start_time": "2024-12-12T20:25:16.345Z"
   },
   {
    "duration": 59,
    "start_time": "2024-12-12T20:25:17.926Z"
   },
   {
    "duration": 4979,
    "start_time": "2024-12-12T20:30:47.765Z"
   },
   {
    "duration": 1896,
    "start_time": "2024-12-12T20:30:52.746Z"
   },
   {
    "duration": 3,
    "start_time": "2024-12-12T20:30:54.643Z"
   },
   {
    "duration": 179,
    "start_time": "2024-12-12T20:30:54.648Z"
   },
   {
    "duration": 138,
    "start_time": "2024-12-12T20:30:54.836Z"
   },
   {
    "duration": 140,
    "start_time": "2024-12-12T20:30:54.976Z"
   },
   {
    "duration": 55,
    "start_time": "2024-12-12T20:30:55.117Z"
   },
   {
    "duration": 11,
    "start_time": "2024-12-12T20:30:55.174Z"
   },
   {
    "duration": 61,
    "start_time": "2024-12-12T20:30:55.186Z"
   },
   {
    "duration": 10,
    "start_time": "2024-12-12T20:30:55.250Z"
   },
   {
    "duration": 57,
    "start_time": "2024-12-12T20:30:55.261Z"
   },
   {
    "duration": 23,
    "start_time": "2024-12-12T20:30:55.320Z"
   },
   {
    "duration": 138,
    "start_time": "2024-12-12T20:30:55.345Z"
   },
   {
    "duration": 4293,
    "start_time": "2024-12-12T20:30:55.484Z"
   },
   {
    "duration": 16,
    "start_time": "2024-12-12T20:30:59.779Z"
   },
   {
    "duration": 693,
    "start_time": "2024-12-12T20:30:59.796Z"
   },
   {
    "duration": 4311,
    "start_time": "2024-12-12T20:31:00.491Z"
   },
   {
    "duration": 730,
    "start_time": "2024-12-12T20:31:04.804Z"
   },
   {
    "duration": 4738,
    "start_time": "2024-12-12T20:31:05.535Z"
   },
   {
    "duration": 748,
    "start_time": "2024-12-12T20:31:10.274Z"
   },
   {
    "duration": 4,
    "start_time": "2024-12-12T20:31:11.024Z"
   },
   {
    "duration": 102,
    "start_time": "2024-12-12T20:31:11.037Z"
   },
   {
    "duration": 198,
    "start_time": "2024-12-12T20:31:11.143Z"
   },
   {
    "duration": 203,
    "start_time": "2024-12-12T20:31:11.343Z"
   },
   {
    "duration": 92,
    "start_time": "2024-12-12T20:31:11.547Z"
   },
   {
    "duration": 8,
    "start_time": "2024-12-12T20:31:11.641Z"
   },
   {
    "duration": 67,
    "start_time": "2024-12-12T20:31:11.650Z"
   },
   {
    "duration": 3,
    "start_time": "2024-12-12T20:31:11.736Z"
   },
   {
    "duration": 215,
    "start_time": "2024-12-12T20:31:11.740Z"
   },
   {
    "duration": 159,
    "start_time": "2024-12-12T20:31:11.957Z"
   },
   {
    "duration": 0,
    "start_time": "2024-12-12T20:31:12.118Z"
   },
   {
    "duration": 0,
    "start_time": "2024-12-12T20:31:12.119Z"
   },
   {
    "duration": 0,
    "start_time": "2024-12-12T20:31:12.120Z"
   },
   {
    "duration": 201,
    "start_time": "2024-12-12T20:32:39.422Z"
   },
   {
    "duration": 5064,
    "start_time": "2024-12-12T20:36:46.745Z"
   },
   {
    "duration": 1936,
    "start_time": "2024-12-12T20:36:51.811Z"
   },
   {
    "duration": 3,
    "start_time": "2024-12-12T20:36:53.749Z"
   },
   {
    "duration": 173,
    "start_time": "2024-12-12T20:36:53.754Z"
   },
   {
    "duration": 142,
    "start_time": "2024-12-12T20:36:53.929Z"
   },
   {
    "duration": 139,
    "start_time": "2024-12-12T20:36:54.073Z"
   },
   {
    "duration": 58,
    "start_time": "2024-12-12T20:36:54.213Z"
   },
   {
    "duration": 10,
    "start_time": "2024-12-12T20:36:54.273Z"
   },
   {
    "duration": 65,
    "start_time": "2024-12-12T20:36:54.284Z"
   },
   {
    "duration": 10,
    "start_time": "2024-12-12T20:36:54.351Z"
   },
   {
    "duration": 55,
    "start_time": "2024-12-12T20:36:54.363Z"
   },
   {
    "duration": 26,
    "start_time": "2024-12-12T20:36:54.419Z"
   },
   {
    "duration": 141,
    "start_time": "2024-12-12T20:36:54.447Z"
   },
   {
    "duration": 4306,
    "start_time": "2024-12-12T20:36:54.590Z"
   },
   {
    "duration": 14,
    "start_time": "2024-12-12T20:36:58.898Z"
   },
   {
    "duration": 714,
    "start_time": "2024-12-12T20:36:58.913Z"
   },
   {
    "duration": 4386,
    "start_time": "2024-12-12T20:36:59.629Z"
   },
   {
    "duration": 733,
    "start_time": "2024-12-12T20:37:04.017Z"
   },
   {
    "duration": 4726,
    "start_time": "2024-12-12T20:37:04.752Z"
   },
   {
    "duration": 746,
    "start_time": "2024-12-12T20:37:09.480Z"
   },
   {
    "duration": 10,
    "start_time": "2024-12-12T20:37:10.227Z"
   },
   {
    "duration": 101,
    "start_time": "2024-12-12T20:37:10.239Z"
   },
   {
    "duration": 201,
    "start_time": "2024-12-12T20:37:10.342Z"
   },
   {
    "duration": 194,
    "start_time": "2024-12-12T20:37:10.546Z"
   },
   {
    "duration": 4,
    "start_time": "2024-12-12T20:37:10.742Z"
   },
   {
    "duration": 3,
    "start_time": "2024-12-12T20:37:10.838Z"
   },
   {
    "duration": 68,
    "start_time": "2024-12-12T20:37:10.843Z"
   },
   {
    "duration": 3,
    "start_time": "2024-12-12T20:37:10.914Z"
   },
   {
    "duration": 149,
    "start_time": "2024-12-12T20:37:10.936Z"
   },
   {
    "duration": 0,
    "start_time": "2024-12-12T20:37:11.087Z"
   },
   {
    "duration": 0,
    "start_time": "2024-12-12T20:37:11.088Z"
   },
   {
    "duration": 0,
    "start_time": "2024-12-12T20:37:11.089Z"
   },
   {
    "duration": 0,
    "start_time": "2024-12-12T20:37:11.091Z"
   },
   {
    "duration": 0,
    "start_time": "2024-12-12T20:37:11.092Z"
   },
   {
    "duration": 19,
    "start_time": "2024-12-12T20:37:47.602Z"
   },
   {
    "duration": 75,
    "start_time": "2024-12-12T20:38:29.411Z"
   },
   {
    "duration": 23,
    "start_time": "2024-12-12T20:38:38.568Z"
   },
   {
    "duration": 4,
    "start_time": "2024-12-12T20:38:52.343Z"
   },
   {
    "duration": 16,
    "start_time": "2024-12-12T20:38:59.961Z"
   },
   {
    "duration": 4910,
    "start_time": "2024-12-12T20:39:15.782Z"
   },
   {
    "duration": 1864,
    "start_time": "2024-12-12T20:39:20.695Z"
   },
   {
    "duration": 3,
    "start_time": "2024-12-12T20:39:22.561Z"
   },
   {
    "duration": 165,
    "start_time": "2024-12-12T20:39:22.566Z"
   },
   {
    "duration": 140,
    "start_time": "2024-12-12T20:39:22.732Z"
   },
   {
    "duration": 152,
    "start_time": "2024-12-12T20:39:22.874Z"
   },
   {
    "duration": 51,
    "start_time": "2024-12-12T20:39:23.027Z"
   },
   {
    "duration": 10,
    "start_time": "2024-12-12T20:39:23.080Z"
   },
   {
    "duration": 58,
    "start_time": "2024-12-12T20:39:23.092Z"
   },
   {
    "duration": 10,
    "start_time": "2024-12-12T20:39:23.153Z"
   },
   {
    "duration": 46,
    "start_time": "2024-12-12T20:39:23.165Z"
   },
   {
    "duration": 30,
    "start_time": "2024-12-12T20:39:23.213Z"
   },
   {
    "duration": 142,
    "start_time": "2024-12-12T20:39:23.245Z"
   },
   {
    "duration": 4191,
    "start_time": "2024-12-12T20:39:23.389Z"
   },
   {
    "duration": 15,
    "start_time": "2024-12-12T20:39:27.581Z"
   },
   {
    "duration": 701,
    "start_time": "2024-12-12T20:39:27.597Z"
   },
   {
    "duration": 4211,
    "start_time": "2024-12-12T20:39:28.299Z"
   },
   {
    "duration": 742,
    "start_time": "2024-12-12T20:39:32.512Z"
   },
   {
    "duration": 4728,
    "start_time": "2024-12-12T20:39:33.255Z"
   },
   {
    "duration": 761,
    "start_time": "2024-12-12T20:39:37.984Z"
   },
   {
    "duration": 5,
    "start_time": "2024-12-12T20:39:38.746Z"
   },
   {
    "duration": 89,
    "start_time": "2024-12-12T20:39:38.753Z"
   },
   {
    "duration": 201,
    "start_time": "2024-12-12T20:39:38.845Z"
   },
   {
    "duration": 105,
    "start_time": "2024-12-12T20:39:39.138Z"
   },
   {
    "duration": 92,
    "start_time": "2024-12-12T20:39:39.246Z"
   },
   {
    "duration": 12,
    "start_time": "2024-12-12T20:39:39.340Z"
   },
   {
    "duration": 70,
    "start_time": "2024-12-12T20:39:39.354Z"
   },
   {
    "duration": 3,
    "start_time": "2024-12-12T20:39:39.427Z"
   },
   {
    "duration": 23,
    "start_time": "2024-12-12T20:39:39.431Z"
   },
   {
    "duration": 165,
    "start_time": "2024-12-12T20:39:39.456Z"
   },
   {
    "duration": 0,
    "start_time": "2024-12-12T20:39:39.623Z"
   },
   {
    "duration": 5,
    "start_time": "2024-12-12T20:41:59.329Z"
   },
   {
    "duration": 21,
    "start_time": "2024-12-12T20:45:45.150Z"
   },
   {
    "duration": 17,
    "start_time": "2024-12-12T20:45:56.632Z"
   },
   {
    "duration": 5,
    "start_time": "2024-12-12T20:47:13.986Z"
   },
   {
    "duration": 5,
    "start_time": "2024-12-12T20:53:04.454Z"
   },
   {
    "duration": 964,
    "start_time": "2024-12-12T20:53:05.180Z"
   },
   {
    "duration": 2492,
    "start_time": "2024-12-12T20:55:12.399Z"
   },
   {
    "duration": 1421,
    "start_time": "2024-12-12T20:55:14.893Z"
   },
   {
    "duration": 3,
    "start_time": "2024-12-12T20:55:16.315Z"
   },
   {
    "duration": 190,
    "start_time": "2024-12-12T20:55:16.319Z"
   },
   {
    "duration": 143,
    "start_time": "2024-12-12T20:55:16.511Z"
   },
   {
    "duration": 145,
    "start_time": "2024-12-12T20:55:16.655Z"
   },
   {
    "duration": 70,
    "start_time": "2024-12-12T20:55:16.801Z"
   },
   {
    "duration": 11,
    "start_time": "2024-12-12T20:55:16.873Z"
   },
   {
    "duration": 69,
    "start_time": "2024-12-12T20:55:16.887Z"
   },
   {
    "duration": 10,
    "start_time": "2024-12-12T20:55:16.958Z"
   },
   {
    "duration": 45,
    "start_time": "2024-12-12T20:55:16.969Z"
   },
   {
    "duration": 25,
    "start_time": "2024-12-12T20:55:17.015Z"
   },
   {
    "duration": 148,
    "start_time": "2024-12-12T20:55:17.042Z"
   },
   {
    "duration": 4285,
    "start_time": "2024-12-12T20:55:17.193Z"
   },
   {
    "duration": 15,
    "start_time": "2024-12-12T20:55:21.480Z"
   },
   {
    "duration": 690,
    "start_time": "2024-12-12T20:55:21.496Z"
   },
   {
    "duration": 4217,
    "start_time": "2024-12-12T20:55:22.187Z"
   },
   {
    "duration": 755,
    "start_time": "2024-12-12T20:55:26.406Z"
   },
   {
    "duration": 4812,
    "start_time": "2024-12-12T20:55:27.163Z"
   },
   {
    "duration": 748,
    "start_time": "2024-12-12T20:55:31.976Z"
   },
   {
    "duration": 11,
    "start_time": "2024-12-12T20:55:32.726Z"
   },
   {
    "duration": 103,
    "start_time": "2024-12-12T20:55:32.739Z"
   },
   {
    "duration": 301,
    "start_time": "2024-12-12T20:55:32.844Z"
   },
   {
    "duration": 191,
    "start_time": "2024-12-12T20:55:33.147Z"
   },
   {
    "duration": 4,
    "start_time": "2024-12-12T20:55:33.341Z"
   },
   {
    "duration": 107,
    "start_time": "2024-12-12T20:55:33.347Z"
   },
   {
    "duration": 69,
    "start_time": "2024-12-12T20:55:33.455Z"
   },
   {
    "duration": 2,
    "start_time": "2024-12-12T20:55:33.526Z"
   },
   {
    "duration": 60,
    "start_time": "2024-12-12T20:55:33.530Z"
   },
   {
    "duration": 23,
    "start_time": "2024-12-12T20:55:33.592Z"
   },
   {
    "duration": 970,
    "start_time": "2024-12-12T20:55:33.617Z"
   },
   {
    "duration": 940,
    "start_time": "2024-12-12T20:58:57.159Z"
   },
   {
    "duration": 927,
    "start_time": "2024-12-12T20:59:42.639Z"
   },
   {
    "duration": 107,
    "start_time": "2024-12-12T21:03:06.014Z"
   },
   {
    "duration": 2481,
    "start_time": "2024-12-12T21:03:16.962Z"
   },
   {
    "duration": 1439,
    "start_time": "2024-12-12T21:03:19.445Z"
   },
   {
    "duration": 3,
    "start_time": "2024-12-12T21:03:20.885Z"
   },
   {
    "duration": 188,
    "start_time": "2024-12-12T21:03:20.890Z"
   },
   {
    "duration": 139,
    "start_time": "2024-12-12T21:03:21.080Z"
   },
   {
    "duration": 139,
    "start_time": "2024-12-12T21:03:21.221Z"
   },
   {
    "duration": 52,
    "start_time": "2024-12-12T21:03:21.361Z"
   },
   {
    "duration": 23,
    "start_time": "2024-12-12T21:03:21.415Z"
   },
   {
    "duration": 53,
    "start_time": "2024-12-12T21:03:21.440Z"
   },
   {
    "duration": 10,
    "start_time": "2024-12-12T21:03:21.496Z"
   },
   {
    "duration": 62,
    "start_time": "2024-12-12T21:03:21.507Z"
   },
   {
    "duration": 10,
    "start_time": "2024-12-12T21:03:21.571Z"
   },
   {
    "duration": 157,
    "start_time": "2024-12-12T21:03:21.583Z"
   },
   {
    "duration": 4236,
    "start_time": "2024-12-12T21:03:21.742Z"
   },
   {
    "duration": 15,
    "start_time": "2024-12-12T21:03:25.979Z"
   },
   {
    "duration": 696,
    "start_time": "2024-12-12T21:03:25.995Z"
   },
   {
    "duration": 4228,
    "start_time": "2024-12-12T21:03:26.693Z"
   },
   {
    "duration": 601,
    "start_time": "2024-12-12T21:03:30.923Z"
   },
   {
    "duration": 4738,
    "start_time": "2024-12-12T21:03:31.526Z"
   },
   {
    "duration": 787,
    "start_time": "2024-12-12T21:03:36.265Z"
   },
   {
    "duration": 5,
    "start_time": "2024-12-12T21:03:37.054Z"
   },
   {
    "duration": 177,
    "start_time": "2024-12-12T21:03:37.060Z"
   },
   {
    "duration": 202,
    "start_time": "2024-12-12T21:03:37.240Z"
   },
   {
    "duration": 196,
    "start_time": "2024-12-12T21:03:37.445Z"
   },
   {
    "duration": 4,
    "start_time": "2024-12-12T21:03:37.643Z"
   },
   {
    "duration": 9,
    "start_time": "2024-12-12T21:03:37.738Z"
   },
   {
    "duration": 77,
    "start_time": "2024-12-12T21:03:37.749Z"
   },
   {
    "duration": 8,
    "start_time": "2024-12-12T21:03:37.830Z"
   },
   {
    "duration": 29,
    "start_time": "2024-12-12T21:03:37.839Z"
   },
   {
    "duration": 35,
    "start_time": "2024-12-12T21:03:37.869Z"
   },
   {
    "duration": 995,
    "start_time": "2024-12-12T21:03:37.906Z"
   },
   {
    "duration": 923,
    "start_time": "2024-12-12T21:03:38.903Z"
   },
   {
    "duration": 948,
    "start_time": "2024-12-12T21:03:39.828Z"
   },
   {
    "duration": 76,
    "start_time": "2024-12-12T21:03:40.778Z"
   },
   {
    "duration": 2470,
    "start_time": "2024-12-12T21:04:17.309Z"
   },
   {
    "duration": 1520,
    "start_time": "2024-12-12T21:04:19.782Z"
   },
   {
    "duration": 3,
    "start_time": "2024-12-12T21:04:21.304Z"
   },
   {
    "duration": 208,
    "start_time": "2024-12-12T21:04:21.309Z"
   },
   {
    "duration": 146,
    "start_time": "2024-12-12T21:04:21.520Z"
   },
   {
    "duration": 144,
    "start_time": "2024-12-12T21:04:21.668Z"
   },
   {
    "duration": 57,
    "start_time": "2024-12-12T21:04:21.814Z"
   },
   {
    "duration": 10,
    "start_time": "2024-12-12T21:04:21.873Z"
   },
   {
    "duration": 65,
    "start_time": "2024-12-12T21:04:21.884Z"
   },
   {
    "duration": 10,
    "start_time": "2024-12-12T21:04:21.950Z"
   },
   {
    "duration": 55,
    "start_time": "2024-12-12T21:04:21.962Z"
   },
   {
    "duration": 23,
    "start_time": "2024-12-12T21:04:22.018Z"
   },
   {
    "duration": 146,
    "start_time": "2024-12-12T21:04:22.042Z"
   },
   {
    "duration": 4175,
    "start_time": "2024-12-12T21:04:22.191Z"
   },
   {
    "duration": 16,
    "start_time": "2024-12-12T21:04:26.368Z"
   },
   {
    "duration": 641,
    "start_time": "2024-12-12T21:04:26.386Z"
   },
   {
    "duration": 4275,
    "start_time": "2024-12-12T21:04:27.036Z"
   },
   {
    "duration": 611,
    "start_time": "2024-12-12T21:04:31.313Z"
   },
   {
    "duration": 4744,
    "start_time": "2024-12-12T21:04:31.936Z"
   },
   {
    "duration": 647,
    "start_time": "2024-12-12T21:04:36.682Z"
   },
   {
    "duration": 9,
    "start_time": "2024-12-12T21:04:37.330Z"
   },
   {
    "duration": 197,
    "start_time": "2024-12-12T21:04:37.341Z"
   },
   {
    "duration": 199,
    "start_time": "2024-12-12T21:04:37.540Z"
   },
   {
    "duration": 198,
    "start_time": "2024-12-12T21:04:37.741Z"
   },
   {
    "duration": 96,
    "start_time": "2024-12-12T21:04:37.942Z"
   },
   {
    "duration": 23,
    "start_time": "2024-12-12T21:04:38.039Z"
   },
   {
    "duration": 114,
    "start_time": "2024-12-12T21:04:38.064Z"
   },
   {
    "duration": 3,
    "start_time": "2024-12-12T21:04:38.180Z"
   },
   {
    "duration": 54,
    "start_time": "2024-12-12T21:04:38.184Z"
   },
   {
    "duration": 14,
    "start_time": "2024-12-12T21:04:38.241Z"
   },
   {
    "duration": 947,
    "start_time": "2024-12-12T21:04:38.257Z"
   },
   {
    "duration": 926,
    "start_time": "2024-12-12T21:04:39.205Z"
   },
   {
    "duration": 955,
    "start_time": "2024-12-12T21:04:40.133Z"
   },
   {
    "duration": 83,
    "start_time": "2024-12-12T21:04:41.090Z"
   },
   {
    "duration": 917,
    "start_time": "2024-12-12T21:10:03.877Z"
   },
   {
    "duration": 958,
    "start_time": "2024-12-12T21:13:37.578Z"
   },
   {
    "duration": 940,
    "start_time": "2024-12-12T21:13:40.797Z"
   },
   {
    "duration": 919,
    "start_time": "2024-12-12T21:13:43.770Z"
   },
   {
    "duration": 1042,
    "start_time": "2024-12-12T21:17:59.212Z"
   },
   {
    "duration": 6,
    "start_time": "2024-12-12T21:19:00.697Z"
   },
   {
    "duration": 936,
    "start_time": "2024-12-12T21:19:06.923Z"
   },
   {
    "duration": 111,
    "start_time": "2024-12-12T21:20:40.119Z"
   },
   {
    "duration": 7,
    "start_time": "2024-12-12T21:20:52.903Z"
   },
   {
    "duration": 954,
    "start_time": "2024-12-12T21:20:53.603Z"
   },
   {
    "duration": 2524,
    "start_time": "2024-12-12T21:32:34.550Z"
   },
   {
    "duration": 1435,
    "start_time": "2024-12-12T21:32:37.077Z"
   },
   {
    "duration": 3,
    "start_time": "2024-12-12T21:32:38.514Z"
   },
   {
    "duration": 199,
    "start_time": "2024-12-12T21:32:38.519Z"
   },
   {
    "duration": 140,
    "start_time": "2024-12-12T21:32:38.720Z"
   },
   {
    "duration": 139,
    "start_time": "2024-12-12T21:32:38.862Z"
   },
   {
    "duration": 54,
    "start_time": "2024-12-12T21:32:39.003Z"
   },
   {
    "duration": 9,
    "start_time": "2024-12-12T21:32:39.059Z"
   },
   {
    "duration": 63,
    "start_time": "2024-12-12T21:32:39.070Z"
   },
   {
    "duration": 10,
    "start_time": "2024-12-12T21:32:39.136Z"
   },
   {
    "duration": 46,
    "start_time": "2024-12-12T21:32:39.147Z"
   },
   {
    "duration": 10,
    "start_time": "2024-12-12T21:32:39.194Z"
   },
   {
    "duration": 160,
    "start_time": "2024-12-12T21:32:39.205Z"
   },
   {
    "duration": 4199,
    "start_time": "2024-12-12T21:32:39.366Z"
   },
   {
    "duration": 16,
    "start_time": "2024-12-12T21:32:43.566Z"
   },
   {
    "duration": 637,
    "start_time": "2024-12-12T21:32:43.584Z"
   },
   {
    "duration": 4300,
    "start_time": "2024-12-12T21:32:44.223Z"
   },
   {
    "duration": 615,
    "start_time": "2024-12-12T21:32:48.525Z"
   },
   {
    "duration": 4725,
    "start_time": "2024-12-12T21:32:49.142Z"
   },
   {
    "duration": 642,
    "start_time": "2024-12-12T21:32:53.869Z"
   },
   {
    "duration": 5,
    "start_time": "2024-12-12T21:32:54.512Z"
   },
   {
    "duration": 126,
    "start_time": "2024-12-12T21:32:54.519Z"
   },
   {
    "duration": 195,
    "start_time": "2024-12-12T21:32:54.647Z"
   },
   {
    "duration": 293,
    "start_time": "2024-12-12T21:32:54.845Z"
   },
   {
    "duration": 2,
    "start_time": "2024-12-12T21:32:55.140Z"
   },
   {
    "duration": 7,
    "start_time": "2024-12-12T21:32:55.144Z"
   },
   {
    "duration": 61,
    "start_time": "2024-12-12T21:32:55.152Z"
   },
   {
    "duration": 17,
    "start_time": "2024-12-12T21:32:55.236Z"
   },
   {
    "duration": 5,
    "start_time": "2024-12-12T21:32:55.255Z"
   },
   {
    "duration": 965,
    "start_time": "2024-12-12T21:32:55.262Z"
   },
   {
    "duration": 81,
    "start_time": "2024-12-12T21:32:56.229Z"
   },
   {
    "duration": 0,
    "start_time": "2024-12-12T21:32:56.312Z"
   },
   {
    "duration": 917,
    "start_time": "2024-12-12T21:33:43.572Z"
   },
   {
    "duration": 942,
    "start_time": "2024-12-12T21:33:51.331Z"
   },
   {
    "duration": 2450,
    "start_time": "2024-12-12T21:34:11.619Z"
   },
   {
    "duration": 1412,
    "start_time": "2024-12-12T21:34:14.071Z"
   },
   {
    "duration": 3,
    "start_time": "2024-12-12T21:34:15.484Z"
   },
   {
    "duration": 177,
    "start_time": "2024-12-12T21:34:15.488Z"
   },
   {
    "duration": 138,
    "start_time": "2024-12-12T21:34:15.667Z"
   },
   {
    "duration": 141,
    "start_time": "2024-12-12T21:34:15.806Z"
   },
   {
    "duration": 51,
    "start_time": "2024-12-12T21:34:15.949Z"
   },
   {
    "duration": 10,
    "start_time": "2024-12-12T21:34:16.001Z"
   },
   {
    "duration": 62,
    "start_time": "2024-12-12T21:34:16.012Z"
   },
   {
    "duration": 9,
    "start_time": "2024-12-12T21:34:16.076Z"
   },
   {
    "duration": 60,
    "start_time": "2024-12-12T21:34:16.087Z"
   },
   {
    "duration": 9,
    "start_time": "2024-12-12T21:34:16.149Z"
   },
   {
    "duration": 135,
    "start_time": "2024-12-12T21:34:16.160Z"
   },
   {
    "duration": 4175,
    "start_time": "2024-12-12T21:34:16.298Z"
   },
   {
    "duration": 15,
    "start_time": "2024-12-12T21:34:20.475Z"
   },
   {
    "duration": 626,
    "start_time": "2024-12-12T21:34:20.492Z"
   },
   {
    "duration": 4285,
    "start_time": "2024-12-12T21:34:21.120Z"
   },
   {
    "duration": 608,
    "start_time": "2024-12-12T21:34:25.406Z"
   },
   {
    "duration": 4769,
    "start_time": "2024-12-12T21:34:26.015Z"
   },
   {
    "duration": 634,
    "start_time": "2024-12-12T21:34:30.785Z"
   },
   {
    "duration": 5,
    "start_time": "2024-12-12T21:34:31.421Z"
   },
   {
    "duration": 106,
    "start_time": "2024-12-12T21:34:31.437Z"
   },
   {
    "duration": 197,
    "start_time": "2024-12-12T21:34:31.545Z"
   },
   {
    "duration": 196,
    "start_time": "2024-12-12T21:34:31.745Z"
   },
   {
    "duration": 3,
    "start_time": "2024-12-12T21:34:31.944Z"
   },
   {
    "duration": 9,
    "start_time": "2024-12-12T21:34:32.038Z"
   },
   {
    "duration": 70,
    "start_time": "2024-12-12T21:34:32.049Z"
   },
   {
    "duration": 24,
    "start_time": "2024-12-12T21:34:32.121Z"
   },
   {
    "duration": 24,
    "start_time": "2024-12-12T21:34:32.147Z"
   },
   {
    "duration": 965,
    "start_time": "2024-12-12T21:34:32.172Z"
   },
   {
    "duration": 901,
    "start_time": "2024-12-12T21:34:33.138Z"
   },
   {
    "duration": 901,
    "start_time": "2024-12-12T21:34:34.040Z"
   },
   {
    "duration": 61,
    "start_time": "2024-12-12T23:19:34.185Z"
   },
   {
    "duration": 3777,
    "start_time": "2024-12-12T23:20:30.928Z"
   },
   {
    "duration": 1707,
    "start_time": "2024-12-12T23:20:34.708Z"
   },
   {
    "duration": 2,
    "start_time": "2024-12-12T23:20:36.417Z"
   },
   {
    "duration": 330,
    "start_time": "2024-12-12T23:20:36.421Z"
   },
   {
    "duration": 235,
    "start_time": "2024-12-12T23:20:36.754Z"
   },
   {
    "duration": 238,
    "start_time": "2024-12-12T23:20:36.991Z"
   },
   {
    "duration": 57,
    "start_time": "2024-12-12T23:20:37.230Z"
   },
   {
    "duration": 11,
    "start_time": "2024-12-12T23:20:37.289Z"
   },
   {
    "duration": 62,
    "start_time": "2024-12-12T23:20:37.302Z"
   },
   {
    "duration": 11,
    "start_time": "2024-12-12T23:20:37.365Z"
   },
   {
    "duration": 76,
    "start_time": "2024-12-12T23:20:37.378Z"
   },
   {
    "duration": 12,
    "start_time": "2024-12-12T23:20:37.456Z"
   },
   {
    "duration": 175,
    "start_time": "2024-12-12T23:20:37.470Z"
   },
   {
    "duration": 4662,
    "start_time": "2024-12-12T23:20:37.648Z"
   },
   {
    "duration": 18,
    "start_time": "2024-12-12T23:20:42.315Z"
   },
   {
    "duration": 723,
    "start_time": "2024-12-12T23:20:42.335Z"
   },
   {
    "duration": 4890,
    "start_time": "2024-12-12T23:20:43.061Z"
   },
   {
    "duration": 668,
    "start_time": "2024-12-12T23:20:47.953Z"
   },
   {
    "duration": 4964,
    "start_time": "2024-12-12T23:20:48.623Z"
   },
   {
    "duration": 669,
    "start_time": "2024-12-12T23:20:53.588Z"
   },
   {
    "duration": 5,
    "start_time": "2024-12-12T23:20:54.259Z"
   },
   {
    "duration": 350,
    "start_time": "2024-12-12T23:20:54.265Z"
   },
   {
    "duration": 111,
    "start_time": "2024-12-12T23:20:54.617Z"
   },
   {
    "duration": 109,
    "start_time": "2024-12-12T23:20:54.816Z"
   },
   {
    "duration": 4,
    "start_time": "2024-12-12T23:20:55.016Z"
   },
   {
    "duration": 10,
    "start_time": "2024-12-12T23:20:55.023Z"
   },
   {
    "duration": 97,
    "start_time": "2024-12-12T23:20:55.036Z"
   },
   {
    "duration": 17,
    "start_time": "2024-12-12T23:20:55.135Z"
   },
   {
    "duration": 5,
    "start_time": "2024-12-12T23:20:55.154Z"
   },
   {
    "duration": 1001,
    "start_time": "2024-12-12T23:20:55.161Z"
   },
   {
    "duration": 990,
    "start_time": "2024-12-12T23:20:56.164Z"
   },
   {
    "duration": 999,
    "start_time": "2024-12-12T23:20:57.156Z"
   },
   {
    "duration": 8,
    "start_time": "2024-12-12T23:20:58.156Z"
   },
   {
    "duration": 4848,
    "start_time": "2025-02-12T18:49:06.315Z"
   },
   {
    "duration": 2703,
    "start_time": "2025-02-12T18:49:11.165Z"
   },
   {
    "duration": 3,
    "start_time": "2025-02-12T18:49:13.869Z"
   },
   {
    "duration": 306,
    "start_time": "2025-02-12T18:49:13.874Z"
   },
   {
    "duration": 285,
    "start_time": "2025-02-12T18:49:14.182Z"
   },
   {
    "duration": 292,
    "start_time": "2025-02-12T18:49:14.468Z"
   },
   {
    "duration": 105,
    "start_time": "2025-02-12T18:49:14.762Z"
   },
   {
    "duration": 10,
    "start_time": "2025-02-12T18:49:14.869Z"
   },
   {
    "duration": 107,
    "start_time": "2025-02-12T18:49:14.881Z"
   },
   {
    "duration": 61,
    "start_time": "2025-02-12T18:49:14.991Z"
   },
   {
    "duration": 122,
    "start_time": "2025-02-12T18:49:15.054Z"
   },
   {
    "duration": 11,
    "start_time": "2025-02-12T18:49:15.178Z"
   },
   {
    "duration": 230,
    "start_time": "2025-02-12T18:49:15.248Z"
   },
   {
    "duration": 10099,
    "start_time": "2025-02-12T18:49:15.479Z"
   },
   {
    "duration": 72,
    "start_time": "2025-02-12T18:49:25.580Z"
   },
   {
    "duration": 1234,
    "start_time": "2025-02-12T18:49:25.654Z"
   },
   {
    "duration": 9760,
    "start_time": "2025-02-12T18:49:26.890Z"
   },
   {
    "duration": 1135,
    "start_time": "2025-02-12T18:49:36.652Z"
   },
   {
    "duration": 9977,
    "start_time": "2025-02-12T18:49:37.788Z"
   },
   {
    "duration": 1317,
    "start_time": "2025-02-12T18:49:47.767Z"
   },
   {
    "duration": 5,
    "start_time": "2025-02-12T18:49:49.086Z"
   },
   {
    "duration": 303,
    "start_time": "2025-02-12T18:49:49.148Z"
   },
   {
    "duration": 196,
    "start_time": "2025-02-12T18:49:49.453Z"
   },
   {
    "duration": 302,
    "start_time": "2025-02-12T18:49:49.652Z"
   },
   {
    "duration": 93,
    "start_time": "2025-02-12T18:49:49.956Z"
   },
   {
    "duration": 40,
    "start_time": "2025-02-12T18:49:50.052Z"
   },
   {
    "duration": 98,
    "start_time": "2025-02-12T18:49:50.094Z"
   },
   {
    "duration": 18,
    "start_time": "2025-02-12T18:49:50.250Z"
   },
   {
    "duration": 16,
    "start_time": "2025-02-12T18:49:50.270Z"
   },
   {
    "duration": 2093,
    "start_time": "2025-02-12T18:49:50.287Z"
   },
   {
    "duration": 2074,
    "start_time": "2025-02-12T18:49:52.382Z"
   },
   {
    "duration": 2025,
    "start_time": "2025-02-12T18:49:54.457Z"
   }
  ],
  "kernelspec": {
   "display_name": "Python 3 (ipykernel)",
   "language": "python",
   "name": "python3"
  },
  "language_info": {
   "codemirror_mode": {
    "name": "ipython",
    "version": 3
   },
   "file_extension": ".py",
   "mimetype": "text/x-python",
   "name": "python",
   "nbconvert_exporter": "python",
   "pygments_lexer": "ipython3",
   "version": "3.9.5"
  },
  "toc": {
   "base_numbering": 1,
   "nav_menu": {},
   "number_sections": true,
   "sideBar": true,
   "skip_h1_title": true,
   "title_cell": "Table of Contents",
   "title_sidebar": "Contents",
   "toc_cell": false,
   "toc_position": {},
   "toc_section_display": true,
   "toc_window_display": false
  }
 },
 "nbformat": 4,
 "nbformat_minor": 2
}

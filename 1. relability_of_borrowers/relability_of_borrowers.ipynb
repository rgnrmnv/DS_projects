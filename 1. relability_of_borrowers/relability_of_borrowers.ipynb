{
 "cells": [
  {
   "cell_type": "markdown",
   "id": "8da150fe",
   "metadata": {
    "deletable": false,
    "editable": false,
    "id": "c81daeeb"
   },
   "source": [
    "# Исследование надежности заемщиков\n"
   ]
  },
  {
   "cell_type": "markdown",
   "id": "c2aef05b",
   "metadata": {
    "deletable": false,
    "editable": false,
    "id": "e7a14c31"
   },
   "source": [
    "**Задание 1. Импорт библиотекb pandas. Считывание данных из csv-файла в датафрейм и сохраненние в переменную `data`. "
   ]
  },
  {
   "cell_type": "code",
   "execution_count": null,
   "id": "cf7bdf60",
   "metadata": {},
   "outputs": [],
   "source": [
    "#!pip install -r requirements.txt\n",
    "# при необходимости можно загрузить файл с версиями библиотек, использованными в проекте."
   ]
  },
  {
   "cell_type": "code",
   "execution_count": 3,
   "id": "2aff93aa",
   "metadata": {
    "deletable": false,
    "id": "7bcf75c9"
   },
   "outputs": [],
   "source": [
    "import pandas as pd\n",
    "\n",
    "try:\n",
    "    data = pd.read_csv('/datasets/data.csv')\n",
    "except:\n",
    "    data = pd.read_csv('https://code.s3.yandex.net/datasets/data.csv')"
   ]
  },
  {
   "cell_type": "code",
   "execution_count": null,
   "id": "415754de",
   "metadata": {
    "deletable": false,
    "id": "2a7cab99",
    "outputId": "1a8f3ef2-d323-4ec2-ddf7-89670b5944c4"
   },
   "outputs": [
    {
     "data": {
      "text/html": [
       "<div>\n",
       "<style scoped>\n",
       "    .dataframe tbody tr th:only-of-type {\n",
       "        vertical-align: middle;\n",
       "    }\n",
       "\n",
       "    .dataframe tbody tr th {\n",
       "        vertical-align: top;\n",
       "    }\n",
       "\n",
       "    .dataframe thead th {\n",
       "        text-align: right;\n",
       "    }\n",
       "</style>\n",
       "<table border=\"1\" class=\"dataframe\">\n",
       "  <thead>\n",
       "    <tr style=\"text-align: right;\">\n",
       "      <th></th>\n",
       "      <th>children</th>\n",
       "      <th>days_employed</th>\n",
       "      <th>dob_years</th>\n",
       "      <th>education</th>\n",
       "      <th>education_id</th>\n",
       "      <th>family_status</th>\n",
       "      <th>family_status_id</th>\n",
       "      <th>gender</th>\n",
       "      <th>income_type</th>\n",
       "      <th>debt</th>\n",
       "      <th>total_income</th>\n",
       "      <th>purpose</th>\n",
       "    </tr>\n",
       "  </thead>\n",
       "  <tbody>\n",
       "    <tr>\n",
       "      <th>0</th>\n",
       "      <td>1</td>\n",
       "      <td>-8437.673028</td>\n",
       "      <td>42</td>\n",
       "      <td>высшее</td>\n",
       "      <td>0</td>\n",
       "      <td>женат / замужем</td>\n",
       "      <td>0</td>\n",
       "      <td>F</td>\n",
       "      <td>сотрудник</td>\n",
       "      <td>0</td>\n",
       "      <td>253875.639453</td>\n",
       "      <td>покупка жилья</td>\n",
       "    </tr>\n",
       "    <tr>\n",
       "      <th>1</th>\n",
       "      <td>1</td>\n",
       "      <td>-4024.803754</td>\n",
       "      <td>36</td>\n",
       "      <td>среднее</td>\n",
       "      <td>1</td>\n",
       "      <td>женат / замужем</td>\n",
       "      <td>0</td>\n",
       "      <td>F</td>\n",
       "      <td>сотрудник</td>\n",
       "      <td>0</td>\n",
       "      <td>112080.014102</td>\n",
       "      <td>приобретение автомобиля</td>\n",
       "    </tr>\n",
       "    <tr>\n",
       "      <th>2</th>\n",
       "      <td>0</td>\n",
       "      <td>-5623.422610</td>\n",
       "      <td>33</td>\n",
       "      <td>Среднее</td>\n",
       "      <td>1</td>\n",
       "      <td>женат / замужем</td>\n",
       "      <td>0</td>\n",
       "      <td>M</td>\n",
       "      <td>сотрудник</td>\n",
       "      <td>0</td>\n",
       "      <td>145885.952297</td>\n",
       "      <td>покупка жилья</td>\n",
       "    </tr>\n",
       "    <tr>\n",
       "      <th>3</th>\n",
       "      <td>3</td>\n",
       "      <td>-4124.747207</td>\n",
       "      <td>32</td>\n",
       "      <td>среднее</td>\n",
       "      <td>1</td>\n",
       "      <td>женат / замужем</td>\n",
       "      <td>0</td>\n",
       "      <td>M</td>\n",
       "      <td>сотрудник</td>\n",
       "      <td>0</td>\n",
       "      <td>267628.550329</td>\n",
       "      <td>дополнительное образование</td>\n",
       "    </tr>\n",
       "    <tr>\n",
       "      <th>4</th>\n",
       "      <td>0</td>\n",
       "      <td>340266.072047</td>\n",
       "      <td>53</td>\n",
       "      <td>среднее</td>\n",
       "      <td>1</td>\n",
       "      <td>гражданский брак</td>\n",
       "      <td>1</td>\n",
       "      <td>F</td>\n",
       "      <td>пенсионер</td>\n",
       "      <td>0</td>\n",
       "      <td>158616.077870</td>\n",
       "      <td>сыграть свадьбу</td>\n",
       "    </tr>\n",
       "    <tr>\n",
       "      <th>5</th>\n",
       "      <td>0</td>\n",
       "      <td>-926.185831</td>\n",
       "      <td>27</td>\n",
       "      <td>высшее</td>\n",
       "      <td>0</td>\n",
       "      <td>гражданский брак</td>\n",
       "      <td>1</td>\n",
       "      <td>M</td>\n",
       "      <td>компаньон</td>\n",
       "      <td>0</td>\n",
       "      <td>255763.565419</td>\n",
       "      <td>покупка жилья</td>\n",
       "    </tr>\n",
       "    <tr>\n",
       "      <th>6</th>\n",
       "      <td>0</td>\n",
       "      <td>-2879.202052</td>\n",
       "      <td>43</td>\n",
       "      <td>высшее</td>\n",
       "      <td>0</td>\n",
       "      <td>женат / замужем</td>\n",
       "      <td>0</td>\n",
       "      <td>F</td>\n",
       "      <td>компаньон</td>\n",
       "      <td>0</td>\n",
       "      <td>240525.971920</td>\n",
       "      <td>операции с жильем</td>\n",
       "    </tr>\n",
       "    <tr>\n",
       "      <th>7</th>\n",
       "      <td>0</td>\n",
       "      <td>-152.779569</td>\n",
       "      <td>50</td>\n",
       "      <td>СРЕДНЕЕ</td>\n",
       "      <td>1</td>\n",
       "      <td>женат / замужем</td>\n",
       "      <td>0</td>\n",
       "      <td>M</td>\n",
       "      <td>сотрудник</td>\n",
       "      <td>0</td>\n",
       "      <td>135823.934197</td>\n",
       "      <td>образование</td>\n",
       "    </tr>\n",
       "    <tr>\n",
       "      <th>8</th>\n",
       "      <td>2</td>\n",
       "      <td>-6929.865299</td>\n",
       "      <td>35</td>\n",
       "      <td>ВЫСШЕЕ</td>\n",
       "      <td>0</td>\n",
       "      <td>гражданский брак</td>\n",
       "      <td>1</td>\n",
       "      <td>F</td>\n",
       "      <td>сотрудник</td>\n",
       "      <td>0</td>\n",
       "      <td>95856.832424</td>\n",
       "      <td>на проведение свадьбы</td>\n",
       "    </tr>\n",
       "    <tr>\n",
       "      <th>9</th>\n",
       "      <td>0</td>\n",
       "      <td>-2188.756445</td>\n",
       "      <td>41</td>\n",
       "      <td>среднее</td>\n",
       "      <td>1</td>\n",
       "      <td>женат / замужем</td>\n",
       "      <td>0</td>\n",
       "      <td>M</td>\n",
       "      <td>сотрудник</td>\n",
       "      <td>0</td>\n",
       "      <td>144425.938277</td>\n",
       "      <td>покупка жилья для семьи</td>\n",
       "    </tr>\n",
       "    <tr>\n",
       "      <th>10</th>\n",
       "      <td>2</td>\n",
       "      <td>-4171.483647</td>\n",
       "      <td>36</td>\n",
       "      <td>высшее</td>\n",
       "      <td>0</td>\n",
       "      <td>женат / замужем</td>\n",
       "      <td>0</td>\n",
       "      <td>M</td>\n",
       "      <td>компаньон</td>\n",
       "      <td>0</td>\n",
       "      <td>113943.491460</td>\n",
       "      <td>покупка недвижимости</td>\n",
       "    </tr>\n",
       "    <tr>\n",
       "      <th>11</th>\n",
       "      <td>0</td>\n",
       "      <td>-792.701887</td>\n",
       "      <td>40</td>\n",
       "      <td>среднее</td>\n",
       "      <td>1</td>\n",
       "      <td>женат / замужем</td>\n",
       "      <td>0</td>\n",
       "      <td>F</td>\n",
       "      <td>сотрудник</td>\n",
       "      <td>0</td>\n",
       "      <td>77069.234271</td>\n",
       "      <td>покупка коммерческой недвижимости</td>\n",
       "    </tr>\n",
       "    <tr>\n",
       "      <th>12</th>\n",
       "      <td>0</td>\n",
       "      <td>NaN</td>\n",
       "      <td>65</td>\n",
       "      <td>среднее</td>\n",
       "      <td>1</td>\n",
       "      <td>гражданский брак</td>\n",
       "      <td>1</td>\n",
       "      <td>M</td>\n",
       "      <td>пенсионер</td>\n",
       "      <td>0</td>\n",
       "      <td>NaN</td>\n",
       "      <td>сыграть свадьбу</td>\n",
       "    </tr>\n",
       "    <tr>\n",
       "      <th>13</th>\n",
       "      <td>0</td>\n",
       "      <td>-1846.641941</td>\n",
       "      <td>54</td>\n",
       "      <td>неоконченное высшее</td>\n",
       "      <td>2</td>\n",
       "      <td>женат / замужем</td>\n",
       "      <td>0</td>\n",
       "      <td>F</td>\n",
       "      <td>сотрудник</td>\n",
       "      <td>0</td>\n",
       "      <td>130458.228857</td>\n",
       "      <td>приобретение автомобиля</td>\n",
       "    </tr>\n",
       "    <tr>\n",
       "      <th>14</th>\n",
       "      <td>0</td>\n",
       "      <td>-1844.956182</td>\n",
       "      <td>56</td>\n",
       "      <td>высшее</td>\n",
       "      <td>0</td>\n",
       "      <td>гражданский брак</td>\n",
       "      <td>1</td>\n",
       "      <td>F</td>\n",
       "      <td>компаньон</td>\n",
       "      <td>1</td>\n",
       "      <td>165127.911772</td>\n",
       "      <td>покупка жилой недвижимости</td>\n",
       "    </tr>\n",
       "    <tr>\n",
       "      <th>15</th>\n",
       "      <td>1</td>\n",
       "      <td>-972.364419</td>\n",
       "      <td>26</td>\n",
       "      <td>среднее</td>\n",
       "      <td>1</td>\n",
       "      <td>женат / замужем</td>\n",
       "      <td>0</td>\n",
       "      <td>F</td>\n",
       "      <td>сотрудник</td>\n",
       "      <td>0</td>\n",
       "      <td>116820.904450</td>\n",
       "      <td>строительство собственной недвижимости</td>\n",
       "    </tr>\n",
       "    <tr>\n",
       "      <th>16</th>\n",
       "      <td>0</td>\n",
       "      <td>-1719.934226</td>\n",
       "      <td>35</td>\n",
       "      <td>среднее</td>\n",
       "      <td>1</td>\n",
       "      <td>женат / замужем</td>\n",
       "      <td>0</td>\n",
       "      <td>F</td>\n",
       "      <td>сотрудник</td>\n",
       "      <td>0</td>\n",
       "      <td>289202.704229</td>\n",
       "      <td>недвижимость</td>\n",
       "    </tr>\n",
       "    <tr>\n",
       "      <th>17</th>\n",
       "      <td>0</td>\n",
       "      <td>-2369.999720</td>\n",
       "      <td>33</td>\n",
       "      <td>высшее</td>\n",
       "      <td>0</td>\n",
       "      <td>гражданский брак</td>\n",
       "      <td>1</td>\n",
       "      <td>M</td>\n",
       "      <td>сотрудник</td>\n",
       "      <td>0</td>\n",
       "      <td>90410.586745</td>\n",
       "      <td>строительство недвижимости</td>\n",
       "    </tr>\n",
       "    <tr>\n",
       "      <th>18</th>\n",
       "      <td>0</td>\n",
       "      <td>400281.136913</td>\n",
       "      <td>53</td>\n",
       "      <td>среднее</td>\n",
       "      <td>1</td>\n",
       "      <td>вдовец / вдова</td>\n",
       "      <td>2</td>\n",
       "      <td>F</td>\n",
       "      <td>пенсионер</td>\n",
       "      <td>0</td>\n",
       "      <td>56823.777243</td>\n",
       "      <td>на покупку подержанного автомобиля</td>\n",
       "    </tr>\n",
       "    <tr>\n",
       "      <th>19</th>\n",
       "      <td>0</td>\n",
       "      <td>-10038.818549</td>\n",
       "      <td>48</td>\n",
       "      <td>СРЕДНЕЕ</td>\n",
       "      <td>1</td>\n",
       "      <td>в разводе</td>\n",
       "      <td>3</td>\n",
       "      <td>F</td>\n",
       "      <td>сотрудник</td>\n",
       "      <td>0</td>\n",
       "      <td>242831.107982</td>\n",
       "      <td>на покупку своего автомобиля</td>\n",
       "    </tr>\n",
       "  </tbody>\n",
       "</table>\n",
       "</div>"
      ],
      "text/plain": [
       "    children  days_employed  dob_years            education  education_id  \\\n",
       "0          1   -8437.673028         42               высшее             0   \n",
       "1          1   -4024.803754         36              среднее             1   \n",
       "2          0   -5623.422610         33              Среднее             1   \n",
       "3          3   -4124.747207         32              среднее             1   \n",
       "4          0  340266.072047         53              среднее             1   \n",
       "5          0    -926.185831         27               высшее             0   \n",
       "6          0   -2879.202052         43               высшее             0   \n",
       "7          0    -152.779569         50              СРЕДНЕЕ             1   \n",
       "8          2   -6929.865299         35               ВЫСШЕЕ             0   \n",
       "9          0   -2188.756445         41              среднее             1   \n",
       "10         2   -4171.483647         36               высшее             0   \n",
       "11         0    -792.701887         40              среднее             1   \n",
       "12         0            NaN         65              среднее             1   \n",
       "13         0   -1846.641941         54  неоконченное высшее             2   \n",
       "14         0   -1844.956182         56               высшее             0   \n",
       "15         1    -972.364419         26              среднее             1   \n",
       "16         0   -1719.934226         35              среднее             1   \n",
       "17         0   -2369.999720         33               высшее             0   \n",
       "18         0  400281.136913         53              среднее             1   \n",
       "19         0  -10038.818549         48              СРЕДНЕЕ             1   \n",
       "\n",
       "       family_status  family_status_id gender income_type  debt  \\\n",
       "0    женат / замужем                 0      F   сотрудник     0   \n",
       "1    женат / замужем                 0      F   сотрудник     0   \n",
       "2    женат / замужем                 0      M   сотрудник     0   \n",
       "3    женат / замужем                 0      M   сотрудник     0   \n",
       "4   гражданский брак                 1      F   пенсионер     0   \n",
       "5   гражданский брак                 1      M   компаньон     0   \n",
       "6    женат / замужем                 0      F   компаньон     0   \n",
       "7    женат / замужем                 0      M   сотрудник     0   \n",
       "8   гражданский брак                 1      F   сотрудник     0   \n",
       "9    женат / замужем                 0      M   сотрудник     0   \n",
       "10   женат / замужем                 0      M   компаньон     0   \n",
       "11   женат / замужем                 0      F   сотрудник     0   \n",
       "12  гражданский брак                 1      M   пенсионер     0   \n",
       "13   женат / замужем                 0      F   сотрудник     0   \n",
       "14  гражданский брак                 1      F   компаньон     1   \n",
       "15   женат / замужем                 0      F   сотрудник     0   \n",
       "16   женат / замужем                 0      F   сотрудник     0   \n",
       "17  гражданский брак                 1      M   сотрудник     0   \n",
       "18    вдовец / вдова                 2      F   пенсионер     0   \n",
       "19         в разводе                 3      F   сотрудник     0   \n",
       "\n",
       "     total_income                                 purpose  \n",
       "0   253875.639453                           покупка жилья  \n",
       "1   112080.014102                 приобретение автомобиля  \n",
       "2   145885.952297                           покупка жилья  \n",
       "3   267628.550329              дополнительное образование  \n",
       "4   158616.077870                         сыграть свадьбу  \n",
       "5   255763.565419                           покупка жилья  \n",
       "6   240525.971920                       операции с жильем  \n",
       "7   135823.934197                             образование  \n",
       "8    95856.832424                   на проведение свадьбы  \n",
       "9   144425.938277                 покупка жилья для семьи  \n",
       "10  113943.491460                    покупка недвижимости  \n",
       "11   77069.234271       покупка коммерческой недвижимости  \n",
       "12            NaN                         сыграть свадьбу  \n",
       "13  130458.228857                 приобретение автомобиля  \n",
       "14  165127.911772              покупка жилой недвижимости  \n",
       "15  116820.904450  строительство собственной недвижимости  \n",
       "16  289202.704229                            недвижимость  \n",
       "17   90410.586745              строительство недвижимости  \n",
       "18   56823.777243      на покупку подержанного автомобиля  \n",
       "19  242831.107982            на покупку своего автомобиля  "
      ]
     },
     "execution_count": 2,
     "metadata": {},
     "output_type": "execute_result"
    }
   ],
   "source": [
    "data.head(20)\n",
    "#вывод 20 строк датасета"
   ]
  },
  {
   "cell_type": "code",
   "execution_count": null,
   "id": "6622d875",
   "metadata": {
    "deletable": false,
    "id": "2b757bca",
    "outputId": "15376089-8dad-46c9-b520-c05248d43158"
   },
   "outputs": [
    {
     "name": "stdout",
     "output_type": "stream",
     "text": [
      "<class 'pandas.core.frame.DataFrame'>\n",
      "RangeIndex: 21525 entries, 0 to 21524\n",
      "Data columns (total 12 columns):\n",
      " #   Column            Non-Null Count  Dtype  \n",
      "---  ------            --------------  -----  \n",
      " 0   children          21525 non-null  int64  \n",
      " 1   days_employed     19351 non-null  float64\n",
      " 2   dob_years         21525 non-null  int64  \n",
      " 3   education         21525 non-null  object \n",
      " 4   education_id      21525 non-null  int64  \n",
      " 5   family_status     21525 non-null  object \n",
      " 6   family_status_id  21525 non-null  int64  \n",
      " 7   gender            21525 non-null  object \n",
      " 8   income_type       21525 non-null  object \n",
      " 9   debt              21525 non-null  int64  \n",
      " 10  total_income      19351 non-null  float64\n",
      " 11  purpose           21525 non-null  object \n",
      "dtypes: float64(2), int64(5), object(5)\n",
      "memory usage: 2.0+ MB\n"
     ]
    }
   ],
   "source": [
    "data.info()\n",
    "#чтение основной информации "
   ]
  },
  {
   "cell_type": "markdown",
   "id": "826de248",
   "metadata": {
    "deletable": false,
    "editable": false,
    "id": "333ec665"
   },
   "source": [
    "## Предобработка данных"
   ]
  },
  {
   "cell_type": "markdown",
   "id": "c877ba5a",
   "metadata": {
    "deletable": false,
    "editable": false,
    "id": "02d92d53"
   },
   "source": [
    "### Удаление пропусков"
   ]
  },
  {
   "cell_type": "code",
   "execution_count": 4,
   "id": "26131ccc",
   "metadata": {
    "deletable": false,
    "id": "7f9b2309",
    "outputId": "81f4d817-781c-465c-ed15-91ce4446810d"
   },
   "outputs": [
    {
     "data": {
      "text/plain": [
       "children               0\n",
       "days_employed       2174\n",
       "dob_years              0\n",
       "education              0\n",
       "education_id           0\n",
       "family_status          0\n",
       "family_status_id       0\n",
       "gender                 0\n",
       "income_type            0\n",
       "debt                   0\n",
       "total_income        2174\n",
       "purpose                0\n",
       "dtype: int64"
      ]
     },
     "execution_count": 4,
     "metadata": {},
     "output_type": "execute_result"
    }
   ],
   "source": [
    "data.isna().sum()"
   ]
  },
  {
   "cell_type": "code",
   "execution_count": null,
   "id": "a214fb3b",
   "metadata": {
    "deletable": false,
    "id": "42006a93"
   },
   "outputs": [],
   "source": [
    "for t in data['income_type'].unique():\n",
    "    data.loc[(data['income_type'] == t) & (data['total_income'].isna()), 'total_income'] = \\\n",
    "    data.loc[(data['income_type'] == t), 'total_income'].median()\n",
    "    #заполнение пропусков столбца income_type медианным значением"
   ]
  },
  {
   "cell_type": "markdown",
   "id": "72ccbfbd",
   "metadata": {
    "deletable": false,
    "editable": false,
    "id": "89da5ece"
   },
   "source": [
    "### Обработка аномальных значений"
   ]
  },
  {
   "cell_type": "code",
   "execution_count": 6,
   "id": "d6d25b40",
   "metadata": {
    "deletable": false,
    "id": "f6f055bf"
   },
   "outputs": [],
   "source": [
    "data['days_employed'] = data['days_employed'].abs()"
   ]
  },
  {
   "cell_type": "markdown",
   "id": "1917473e",
   "metadata": {
    "deletable": false,
    "editable": false,
    "id": "6107dd2f"
   },
   "source": [
    "**Медианное значение трудового стажа `days_employed` в днях.**"
   ]
  },
  {
   "cell_type": "code",
   "execution_count": 7,
   "id": "83fa0967",
   "metadata": {
    "deletable": false,
    "id": "85a5faf6",
    "outputId": "801ef80e-522b-4668-f34e-565af7432bcf"
   },
   "outputs": [
    {
     "data": {
      "text/plain": [
       "income_type\n",
       "безработный        366413.652744\n",
       "в декрете            3296.759962\n",
       "госслужащий          2689.368353\n",
       "компаньон            1547.382223\n",
       "пенсионер          365213.306266\n",
       "предприниматель       520.848083\n",
       "сотрудник            1574.202821\n",
       "студент               578.751554\n",
       "Name: days_employed, dtype: float64"
      ]
     },
     "execution_count": 7,
     "metadata": {},
     "output_type": "execute_result"
    }
   ],
   "source": [
    "data.groupby('income_type')['days_employed'].agg('median')"
   ]
  },
  {
   "cell_type": "markdown",
   "id": "c4acf5f0",
   "metadata": {
    "deletable": false,
    "editable": false,
    "id": "38d1a030"
   },
   "source": [
    "У двух типов (безработные и пенсионеры) получатся аномально большие значения. Исправить такие значения сложно, поэтому оставьте их как есть. Тем более этот столбец не понадобится вам для исследования."
   ]
  },
  {
   "cell_type": "markdown",
   "id": "a75db098",
   "metadata": {
    "deletable": false,
    "editable": false,
    "id": "d8a9f147"
   },
   "source": [
    "**Перечень уникальных значений столбца `children`.**"
   ]
  },
  {
   "cell_type": "code",
   "execution_count": 8,
   "id": "6bfbdc94",
   "metadata": {
    "deletable": false,
    "id": "ef5056eb",
    "outputId": "6975b15c-7f95-4697-d16d-a0c79b657b03"
   },
   "outputs": [
    {
     "data": {
      "text/plain": [
       "array([ 1,  0,  3,  2, -1,  4, 20,  5])"
      ]
     },
     "execution_count": 8,
     "metadata": {},
     "output_type": "execute_result"
    }
   ],
   "source": [
    "data['children'].unique()"
   ]
  },
  {
   "cell_type": "markdown",
   "id": "65cac6dd",
   "metadata": {
    "deletable": false,
    "editable": false,
    "id": "40b9ebf2"
   },
   "source": [
    "**В столбце `children` есть два аномальных значения. Удалениее строк, в которых встречаются такие аномальные значения из датафрейма `data`.**"
   ]
  },
  {
   "cell_type": "code",
   "execution_count": 9,
   "id": "debcba13",
   "metadata": {
    "deletable": false,
    "id": "3ff9801d"
   },
   "outputs": [],
   "source": [
    "data = data[(data['children'] != -1) & (data['children'] != 20)]"
   ]
  },
  {
   "cell_type": "code",
   "execution_count": 10,
   "id": "0612663e",
   "metadata": {
    "deletable": false,
    "id": "ad4fa8b7",
    "outputId": "b2097101-d49d-44d9-901b-32a65c9463d1"
   },
   "outputs": [
    {
     "data": {
      "text/plain": [
       "array([1, 0, 3, 2, 4, 5])"
      ]
     },
     "execution_count": 10,
     "metadata": {},
     "output_type": "execute_result"
    }
   ],
   "source": [
    "data['children'].unique()"
   ]
  },
  {
   "cell_type": "markdown",
   "id": "fc0ccfbb",
   "metadata": {
    "deletable": false,
    "editable": false,
    "id": "75440b63"
   },
   "source": [
    "### Удаление пропусков (продолжение)"
   ]
  },
  {
   "cell_type": "code",
   "execution_count": 11,
   "id": "c520a906",
   "metadata": {
    "deletable": false,
    "id": "af6b1a7e"
   },
   "outputs": [],
   "source": [
    "for t in data['income_type'].unique():\n",
    "    data.loc[(data['income_type'] == t) & (data['days_employed'].isna()), 'days_employed'] = \\\n",
    "    data.loc[(data['income_type'] == t), 'days_employed'].median()"
   ]
  },
  {
   "cell_type": "code",
   "execution_count": 12,
   "id": "9d84a17e",
   "metadata": {
    "deletable": false,
    "id": "55f78bc2",
    "outputId": "8da1e4e1-358e-4e87-98c9-f261bce0a7b2"
   },
   "outputs": [
    {
     "data": {
      "text/plain": [
       "children            0\n",
       "days_employed       0\n",
       "dob_years           0\n",
       "education           0\n",
       "education_id        0\n",
       "family_status       0\n",
       "family_status_id    0\n",
       "gender              0\n",
       "income_type         0\n",
       "debt                0\n",
       "total_income        0\n",
       "purpose             0\n",
       "dtype: int64"
      ]
     },
     "execution_count": 12,
     "metadata": {},
     "output_type": "execute_result"
    }
   ],
   "source": [
    "data.isna().sum()"
   ]
  },
  {
   "cell_type": "markdown",
   "id": "b9a87fb0",
   "metadata": {
    "deletable": false,
    "editable": false,
    "id": "ddc81e43"
   },
   "source": [
    "### Изменение типов данных"
   ]
  },
  {
   "cell_type": "code",
   "execution_count": 13,
   "id": "46d45adb",
   "metadata": {
    "deletable": false,
    "id": "920b65ad"
   },
   "outputs": [],
   "source": [
    "data['total_income'] = data['total_income'].astype(int)"
   ]
  },
  {
   "cell_type": "markdown",
   "id": "c179de44",
   "metadata": {
    "deletable": false,
    "editable": false,
    "id": "80c420ba"
   },
   "source": [
    "### Обработка дубликатов"
   ]
  },
  {
   "cell_type": "code",
   "execution_count": 14,
   "id": "20c5e80a",
   "metadata": {
    "deletable": false
   },
   "outputs": [],
   "source": [
    "data['education'] = data['education'].str.lower()"
   ]
  },
  {
   "cell_type": "code",
   "execution_count": 15,
   "id": "7d09161b",
   "metadata": {
    "deletable": false,
    "id": "3ee445e4",
    "outputId": "9684deba-1934-42d1-99e1-cda61740f822"
   },
   "outputs": [
    {
     "data": {
      "text/plain": [
       "71"
      ]
     },
     "execution_count": 15,
     "metadata": {},
     "output_type": "execute_result"
    }
   ],
   "source": [
    "data.duplicated().sum()"
   ]
  },
  {
   "cell_type": "code",
   "execution_count": 16,
   "id": "3e9a62ec",
   "metadata": {
    "deletable": false,
    "id": "8575fe05"
   },
   "outputs": [],
   "source": [
    "data = data.drop_duplicates()"
   ]
  },
  {
   "cell_type": "markdown",
   "id": "ba0f8d4a",
   "metadata": {
    "deletable": false,
    "editable": false,
    "id": "9904cf55"
   },
   "source": [
    "### Категоризация данных"
   ]
  },
  {
   "cell_type": "markdown",
   "id": "d4bf865a",
   "metadata": {
    "deletable": false,
    "editable": false,
    "id": "72fcc8a2"
   },
   "source": [
    "**На основании диапазонов, создание в датафрейме `data` столбец `total_income_category` с категориями:**\n",
    "\n",
    "- 0–30000 — `'E'`;\n",
    "- 30001–50000 — `'D'`;\n",
    "- 50001–200000 — `'C'`;\n",
    "- 200001–1000000 — `'B'`;\n",
    "- 1000001 и выше — `'A'`.\n",
    "\n",
    "\n",
    "**Например, кредитополучателю с доходом 25000 нужно назначить категорию `'E'`, а клиенту, получающему 235000, — `'B'`. Используем собственную функцию с именем `categorize_income()` и метод `apply()`.**"
   ]
  },
  {
   "cell_type": "code",
   "execution_count": 17,
   "id": "c6da2c92",
   "metadata": {
    "deletable": false,
    "id": "e1771346"
   },
   "outputs": [],
   "source": [
    "def categorize_income(income):\n",
    "    try:\n",
    "        if 0 <= income <= 30000:\n",
    "            return 'E'\n",
    "        elif 30001 <= income <= 50000:\n",
    "            return 'D'\n",
    "        elif 50001 <= income <= 200000:\n",
    "            return 'C'\n",
    "        elif 200001 <= income <= 1000000:\n",
    "            return 'B'\n",
    "        elif income >= 1000001:\n",
    "            return 'A'\n",
    "    except:\n",
    "        pass"
   ]
  },
  {
   "cell_type": "code",
   "execution_count": 18,
   "id": "abfc783e",
   "metadata": {
    "deletable": false,
    "id": "d5f3586d"
   },
   "outputs": [],
   "source": [
    "data['total_income_category'] = data['total_income'].apply(categorize_income)"
   ]
  },
  {
   "cell_type": "markdown",
   "id": "da034c7c",
   "metadata": {
    "deletable": false,
    "editable": false,
    "id": "dde49b5c"
   },
   "source": [
    "**Перечень уникальных целей взятия кредита из столбца `purpose`.**"
   ]
  },
  {
   "cell_type": "code",
   "execution_count": 19,
   "id": "69fa3ee3",
   "metadata": {
    "deletable": false,
    "id": "f67ce9b3",
    "outputId": "673c12d9-7d7e-4ae0-9812-c622c89dd244"
   },
   "outputs": [
    {
     "data": {
      "text/plain": [
       "array(['покупка жилья', 'приобретение автомобиля',\n",
       "       'дополнительное образование', 'сыграть свадьбу',\n",
       "       'операции с жильем', 'образование', 'на проведение свадьбы',\n",
       "       'покупка жилья для семьи', 'покупка недвижимости',\n",
       "       'покупка коммерческой недвижимости', 'покупка жилой недвижимости',\n",
       "       'строительство собственной недвижимости', 'недвижимость',\n",
       "       'строительство недвижимости', 'на покупку подержанного автомобиля',\n",
       "       'на покупку своего автомобиля',\n",
       "       'операции с коммерческой недвижимостью',\n",
       "       'строительство жилой недвижимости', 'жилье',\n",
       "       'операции со своей недвижимостью', 'автомобили',\n",
       "       'заняться образованием', 'сделка с подержанным автомобилем',\n",
       "       'получение образования', 'автомобиль', 'свадьба',\n",
       "       'получение дополнительного образования', 'покупка своего жилья',\n",
       "       'операции с недвижимостью', 'получение высшего образования',\n",
       "       'свой автомобиль', 'сделка с автомобилем',\n",
       "       'профильное образование', 'высшее образование',\n",
       "       'покупка жилья для сдачи', 'на покупку автомобиля', 'ремонт жилью',\n",
       "       'заняться высшим образованием'], dtype=object)"
      ]
     },
     "execution_count": 19,
     "metadata": {},
     "output_type": "execute_result"
    }
   ],
   "source": [
    "data['purpose'].unique()"
   ]
  },
  {
   "cell_type": "markdown",
   "id": "9e8742b7",
   "metadata": {
    "deletable": false,
    "editable": false,
    "id": "85d0aef0"
   },
   "source": [
    "**Функция, которая на основании данных из столбца `purpose` сформирует новый столбец `purpose_category`, в который войдут следующие категории:**\n",
    "\n",
    "- `'операции с автомобилем'`,\n",
    "- `'операции с недвижимостью'`,\n",
    "- `'проведение свадьбы'`,\n",
    "- `'получение образования'`.\n",
    "\n",
    "**Например, если в столбце `purpose` находится подстрока `'на покупку автомобиля'`, то в столбце `purpose_category` должна появиться строка `'операции с автомобилем'`.**\n",
    "\n",
    "**Используйте собственную функцию с именем `categorize_purpose()` и метод `apply()`. Изучите данные в столбце `purpose` и определите, какие подстроки помогут вам правильно определить категорию.**"
   ]
  },
  {
   "cell_type": "code",
   "execution_count": 20,
   "id": "5010c5a1",
   "metadata": {
    "deletable": false,
    "id": "e149fab4"
   },
   "outputs": [],
   "source": [
    "def categorize_purpose(row):\n",
    "    try:\n",
    "        if 'автом' in row:\n",
    "            return 'операции с автомобилем'\n",
    "        elif 'жил' in row or 'недвиж' in row:\n",
    "            return 'операции с недвижимостью'\n",
    "        elif 'свад' in row:\n",
    "            return 'проведение свадьбы'\n",
    "        elif 'образов' in row:\n",
    "            return 'получение образования'\n",
    "    except:\n",
    "        return 'нет категории'"
   ]
  },
  {
   "cell_type": "code",
   "execution_count": 21,
   "id": "357d05b7",
   "metadata": {
    "deletable": false,
    "id": "bf36e69b"
   },
   "outputs": [],
   "source": [
    "data['purpose_category'] = data['purpose'].apply(categorize_purpose)"
   ]
  },
  {
   "cell_type": "markdown",
   "id": "b24412e0",
   "metadata": {
    "deletable": false,
    "editable": false,
    "id": "c5d66278"
   },
   "source": [
    "#### 3.1 Есть ли зависимость между количеством детей и возвратом кредита в срок?"
   ]
  },
  {
   "cell_type": "code",
   "execution_count": 22,
   "id": "6e0ad9b4",
   "metadata": {
    "deletable": false,
    "id": "2cacfc4a"
   },
   "outputs": [
    {
     "name": "stdout",
     "output_type": "stream",
     "text": [
      "          total  target  value\n",
      "children                      \n",
      "5             9       0  0.000\n",
      "0         14091    1063  0.075\n",
      "3           330      27  0.082\n",
      "1          4808     444  0.092\n",
      "2          2052     194  0.095\n",
      "4            41       4  0.098\n"
     ]
    }
   ],
   "source": [
    "table_r = data.pivot_table(index = ['children'], values = 'debt', aggfunc = {'count', 'sum'}) \n",
    "table_r = table_r.rename(columns={'count':'total', 'sum':'target'})\n",
    "table_r['value'] = round(table_r['target']/table_r['total'], 3)\n",
    "table_r = table_r.sort_values(by='value', ascending=True)\n",
    "print (table_r)"
   ]
  },
  {
   "cell_type": "markdown",
   "id": "55541db0",
   "metadata": {
    "deletable": false,
    "id": "3a6b99ec"
   },
   "source": [
    "**Вывод: Для ответа на данный вопрос создала сводную таблицу, чтобы проследить имеет ли влияние количество детей на возвращение кредита в срок. В выборке представлены заёмщики с количеством детей от 0 до 5. В соответствии с полученными данными можно сделать следующие выводы**:\n",
    "1) Количество заёмщиков, у которых 5 детей - 9. Из-за небольшой выборки мы не можем получить верную статистику по возврату кредита в срок, так как данная статистика может быть неверна. (Ведь у людей с большим количеством детей чаще могут возникать непредвиденные расходы, в целом может наблюдаться высокая финансовая нагрузка, поэтому у них могут чаще появляться проблемы с возвратом кредита). Либо в данном случае бОльшее количество детей говорит о бОльшей ответственности заёмщика.\n",
    "\n",
    "2) Проблемы по возврату кредита в срок также чаще встречаются у людей с количеством детей от 1 до 4 (также ввиду того, что могут возникать непредвиденные расходы или в целом у них большая финансовая нагрузка). Возможно, на возврат кредита в данном случае могут влиять и другие факторы, потому что не прослеживается чёткая закономерность.\n",
    "Например, у заёмщиков с 3-мя детьми проблем со своевременным возвратом меньше, чем у заёмщиков с двумя детьми, хотя, возможно, должно быть наоборот).\n",
    "\n",
    "3) Меньше всего проблем по возврату кредита в срок возникает у заёмщиков без детей.  "
   ]
  },
  {
   "cell_type": "markdown",
   "id": "8245f16e",
   "metadata": {
    "deletable": false,
    "editable": false,
    "id": "97be82ca"
   },
   "source": [
    "#### 3.2 Есть ли зависимость между семейным положением и возвратом кредита в срок?"
   ]
  },
  {
   "cell_type": "code",
   "execution_count": 23,
   "id": "8b1a993e",
   "metadata": {
    "deletable": false,
    "id": "dc3f7ee8"
   },
   "outputs": [
    {
     "name": "stdout",
     "output_type": "stream",
     "text": [
      "                       total  target  value\n",
      "family_status                              \n",
      "вдовец / вдова           951      63  0.066\n",
      "в разводе               1189      84  0.071\n",
      "женат / замужем        12261     927  0.076\n",
      "гражданский брак        4134     385  0.093\n",
      "Не женат / не замужем   2796     273  0.098\n"
     ]
    }
   ],
   "source": [
    "table_r = data.pivot_table(index = ['family_status'], values = 'debt', aggfunc = {'count', 'sum'}) \n",
    "table_r = table_r.rename(columns={'count':'total', 'sum':'target'})\n",
    "table_r['value'] = round(table_r['target']/table_r['total'], 3)\n",
    "table_r = table_r.sort_values(by='value', ascending=True)\n",
    "print (table_r)"
   ]
  },
  {
   "cell_type": "markdown",
   "id": "60532b2c",
   "metadata": {
    "deletable": false,
    "id": "1cef7837"
   },
   "source": [
    "**Вывод:**\n",
    " Создала сводную таблицу, чтобы проверить гипотезу, есть ли закономерность между семейным положением заёмщика и его платёжеспособностью.\n",
    "\n",
    "1) Люди с семейным положением вдовец/вдова, в разводе имеет меньшую долю просрочки платежа. Это может говорить о том, что данные люди могут быть в возрасте, а значит более ответственные, состоятельные, умеющие распоряжаться деньгами, также возможно им могут помогать с оплатами их дети.\n",
    "\n",
    "2) Женатые/замужние заёмщики обладают средней платежеспособностью по сравнению с остальными категориями. Причины, по которым они в целом могут выплачивать вовремя - совместный бюджет, что облегчает финансовую нагрузку. А к причинам, по которым они могут допускать просрочки -  это наличие детей, что может приводить к непредвиденным расходам, большой финансовой нагрузке (что наблюдали в предыдущей статистике)\n",
    "\n",
    "3) К категориям, которые чаще всего допускают просрочки по платежу можно отнести людей, которые не состоят в законном браке, либо находятся в гражданском браке - возможно, у них недостаточный доход, либо же могут влиять другие факторы (более безответственные и так далее).  \n"
   ]
  },
  {
   "cell_type": "markdown",
   "id": "2ed1cef1",
   "metadata": {
    "deletable": false,
    "editable": false,
    "id": "1e8b2fca"
   },
   "source": [
    "#### 3.3 Есть ли зависимость между уровнем дохода и возвратом кредита в срок?"
   ]
  },
  {
   "cell_type": "code",
   "execution_count": 24,
   "id": "bf268a8e",
   "metadata": {
    "deletable": false,
    "id": "cd7e3720"
   },
   "outputs": [
    {
     "name": "stdout",
     "output_type": "stream",
     "text": [
      "                       total  target  value\n",
      "total_income_category                      \n",
      "D                        349      21  6.017\n",
      "B                       5014     354  7.060\n",
      "A                         25       2  8.000\n",
      "C                      15921    1353  8.498\n",
      "E                         22       2  9.091\n"
     ]
    }
   ],
   "source": [
    "table_r = data.pivot_table(index = ['total_income_category'], values = 'debt', aggfunc = {'count', 'sum'}) \n",
    "table_r = table_r.rename(columns={'count':'total', 'sum':'target'})\n",
    "table_r['value'] = round(table_r['target']/table_r['total']*100, 3)\n",
    "table_r = table_r.sort_values(by='value', ascending=True)\n",
    "print (table_r)\n",
    "\n",
    "    "
   ]
  },
  {
   "cell_type": "markdown",
   "id": "50f11a6f",
   "metadata": {
    "deletable": false,
    "id": "e8593def"
   },
   "source": [
    "**Вывод:** Для наглядности создала сводную таблицу, отсортировала данные по убыванию. Чем больше значение параметра 'value', тем больше доля просрочки платежа.\n",
    "\n",
    "При ответе на этот вопрос можно не учитывать категории 'A' и 'E', так как их количество составляет примерно 2% от всей выборки.\n",
    "\n",
    "Тогда можно проводить сравнение среди категорий 'B','C','D'. Для удобства восприятия умножила данные из столбца 'value' на 100, чтобы представить результат в процентах. Можно сделать следующие выводы:\n",
    "\n",
    "1) Люди с категорией дохода 'D' меньше подвержены стать должниками. Хоть их и меньше по количеству, чем остальных двух категорий, но в процентном соотношении данные заёмщики реже допускали просрочку по платежу. Скорее всего, это люди, состоящие в браке, со стабильным доходом (плюс при совместном бюджете проще выплачивать кредит), возможно, дисциплинированы, боятся пропустить платёж.\n",
    "    \n",
    "2) Люди с категорией дохода 'B' имеют средний риск стать должниками, так как некоторые из них могут иметь относительно высокий доход.\n",
    "    \n",
    "3) Люди с категорией дохода 'C' имеют больше шансов стать должниками, так как имеют бОльший процент просрочек, но, возможно, это оправдывается тем, что в этой категории почти 16000 заёмщиков, и если бы в двух предыдущих категориях было бы примерно такое же количество клиентов, мы бы могли сделать более точные выводы по надёжности заёмщиков.\n",
    "\n",
    "4) А также я считаю немаловажным обратить внимание, как распределяются категории:\n",
    "    \n",
    "30001–50000 — 'D' - шаг 20 000 руб.;\n",
    "    \n",
    "50001–200000 — 'C'- шаг 150 000 руб.;\n",
    "    \n",
    "200001–1000000 — 'B' - шаг 800 000 руб.;\n",
    "\n",
    "Распределение не совсем равномерно, так как, например, в категории 'B' доход может варьировать от 200 000 до 1 000 000 руб. И это может влиять на суммы кредита, на цели кредита, на способность должника возвращать кредит, но в целом, так как их уровень дохода выше при сравнении с другими категориями, это делает их людьми, имеющими средний риск не вернуть деньги в срок.\n",
    "    \n",
    "</div>"
   ]
  },
  {
   "cell_type": "markdown",
   "id": "d9bc7b50",
   "metadata": {
    "deletable": false,
    "editable": false,
    "id": "99ecbd1f"
   },
   "source": [
    "#### 3.4 Как разные цели кредита влияют на его возврат в срок?"
   ]
  },
  {
   "cell_type": "code",
   "execution_count": 25,
   "id": "fdabae49",
   "metadata": {
    "deletable": false,
    "id": "2b687290"
   },
   "outputs": [
    {
     "name": "stdout",
     "output_type": "stream",
     "text": [
      "                          total  target  value\n",
      "purpose_category                              \n",
      "операции с недвижимостью  10751     780  0.073\n",
      "проведение свадьбы         2313     183  0.079\n",
      "операции с автомобилем     4279     400  0.093\n",
      "получение образования      3988     369  0.093\n"
     ]
    }
   ],
   "source": [
    "table_r = data.pivot_table(index = ['purpose_category'], values = 'debt', aggfunc = {'count', 'sum'}) \n",
    "table_r = table_r.rename(columns={'count':'total', 'sum':'target'})\n",
    "table_r['value'] = round(table_r['target']/table_r['total'], 3)\n",
    "table_r = table_r.sort_values(by='value', ascending=True)\n",
    "print (table_r)"
   ]
  },
  {
   "cell_type": "markdown",
   "id": "3ef97983",
   "metadata": {
    "deletable": false,
    "id": "b4bb2ce6"
   },
   "source": [
    "**Вывод:** Создала сводную таблицу, где в столбце 'value' рассчитала долю просрочки платежа в зависимости от цели кредитования.\n",
    "\n",
    "1) Люди, которые берут кредит с целью операций с недвижимостью и на проведение свадьбы, имеют примерно одинаковую долю просрочки платежа, но она ниже, чем у людей, которые берут кредит с целью операций с автомобилем и получение образования. Что может говорить о том, что на операции с недвижимостью чаще всего берут кредит люди, состоящие в браке, которые имеют совместный бюджет (что облегчает оплату) и в целом могут быть ответственными и способны вносить платежи вовремя. А на свадьбу берут кредит люди, стремящиеся к созданию семьи, что тоже может говорить о том, что люди могут быть готовы к ответственности.\n",
    "\n",
    "2) Люди, которые берут кредит на операции с автомобилем, могут возвращать кредит не вовремя, так как, например, автомобиль может попасть в ДТП, могут произойти поломки, что может приводить к непредвиденным затратам, а, значит, у заёмщика может повышаться финансовая нагрузка, также после серьёзного ДТП у заёмщика в принципе может уже не быть автомобиля, а платить нужно.\n",
    "\n",
    "3) Кредит, который берётся на образование, также может иметь свои риски, так как, например,чаще всего берут молодые люди, которые могут не иметь стабильный, высокий доход, могут не быть ответственными. Человек может не захотеть продолжать обучение, может быть отчислен, а значит, например, не получить нужную квалификацию и в дальнейшем не устроиться на высокооплачиваемую работу по специальности, чтобы дальше платить кредит."
   ]
  },
  {
   "cell_type": "markdown",
   "id": "647fb5d9",
   "metadata": {
    "deletable": false,
    "editable": false,
    "id": "09c3ac4c"
   },
   "source": [
    "#### 3.5 Причины появления пропусков в исходных данных."
   ]
  },
  {
   "cell_type": "markdown",
   "id": "a63488d7",
   "metadata": {
    "deletable": false,
    "id": "9da2ceda"
   },
   "source": [
    "К причинам возникновения пропусков можно отнести человеческий фактор - если заявка допускает пропуск данных полей, то заёмщик мог просто не указывать эти данные. Но так как кредит всё-таки получен, скорее всего причина в том, что имела место быть техническая проблема. И также пропуски обнаружены в двух категориях - количество дней трудоустройства и общий доход -  значит, пропуск в одной категории может приводить к пропуску во второй. "
   ]
  },
  {
   "cell_type": "markdown",
   "id": "859fb29c",
   "metadata": {
    "deletable": false,
    "editable": false,
    "id": "7b0487d6"
   },
   "source": [
    "#### 3.6 Почему заполнить пропуски медианным значением — лучшее решение для количественных переменных."
   ]
  },
  {
   "cell_type": "markdown",
   "id": "ee04541c",
   "metadata": {
    "deletable": false,
    "id": "7ecf2b8e"
   },
   "source": [
    "Учитывая, что в нашем датасете присутствуют незаполненные данные, среднее арифметическое не будет корректно отражать ситуацию. Медианное значение будет лучше всего, так как оно не так чувствительно к выбросам, его относительно легче посчитать для больших наборов данных."
   ]
  },
  {
   "cell_type": "markdown",
   "id": "f5febb56",
   "metadata": {
    "deletable": false,
    "editable": false,
    "id": "6db5255a"
   },
   "source": [
    "### Шаг 4: общий вывод."
   ]
  },
  {
   "cell_type": "markdown",
   "id": "b0a35b51",
   "metadata": {
    "deletable": false,
    "id": "bad65432"
   },
   "source": [
    "   \n",
    "В результате проделанной работы были получены и обработаны данные, проведено исследование надёжности заёмщиков банка.\n",
    "\n",
    "Были проверены, заполнены пропуски, которые могли возникнуть в результате человеческого фактора, либо технической ошибки. Заполнили их медианным значением, так как оно не чувствительно к выбросам и отражает ситуацию более полно, если сравнивать со средним арифметическим.\n",
    "\n",
    "Были проверены, удалены дубликаты, данные были подведены под один регистр.\n",
    "\n",
    "Исправлены некорректные данные, которые могли возникнуть в результате человеческого фактора (опечатки и т.д.),  клиенты были объединены в различные категории по уровню дохода, по целям кредитования.\n",
    "\n",
    "С помощью применения сводных таблиц были получены данные, по которым можно было сделать выводы о платёжеспособности клиента банка и влияние на неё различных факторов.\n",
    "    \n",
    "1) Действительно, наличие детей влияет на риск появления просрочки по кредиту у заёмщика (отсутствие детей согласно полученным данным снижает этот риск ввиду отсутствия непредвиденных затрат в отличие от клиентов с количеством детей от 1 до 4. У них вероятность допустить просрочку выше и это объясняется затратами, необходимыми на содержание детей, например).\n",
    "\n",
    "2) Клиенты, которые состоят или состояли в браке имеют меньший процент риска допустить просрочку по кредиту, так как они могут являться более дисциплинированными, ответственными. Наличие совместного дохода позволяет легче вносить платежи.\n",
    "\n",
    "3) Уровень дохода также имеет влияние на возврат кредита. Люди, имеющие относительно средний или высокий уровень дохода могут стать предпочтительными клиентами банка. \n",
    "\n",
    "4) Цели, на которые берется кредит, также влияют на платёжеспособность. Цели могут характеризовать, является ли плательщик ответственным, как он распоряжается деньгами, оценивает ли он риски, которые возникают для каждой из целей кредитования. К \"серьёзным\" целям можно отнести приобретение недвижимости, создание семьи. Исследование подтвердило, что клиенты, которые берут кредиты на эти цели, имеют меньше риск допустить пропуск платежа, чем клиенты, которые брали кредиты на покупку автомобиля, на образование.\n",
    "\n",
    "\n",
    "Исследование помогло составить портрет клиентов, которые, вероятнее всего, будут предпочитетельными для банка и будут добросовестно вносить платежи. \n",
    "    \n",
    "Это люди, которые состоят в браке (либо стремятся к созданию семьи), не имеющие детей, имеющие средний или высокий уровень дохода и берущие кредит на операции с недвижимостью (либо на свадьбу). \n",
    "    \n",
    "И наоборот, люди, не состоящие в браке, берущие кредит на образование либо на операции с автомобилем, имеющие детей на попечении, имеющие невысокий уровень дохода, могут в будущем допустить просрочку по платежам.\n",
    "\n",
    "Для подтверждения гипотезы не обязательна совокупность всех перечисленных факторов, но комбинация 2-х или 3-х из них может примерно помочь сделать вывод по платежеспособности заёмщика.\n",
    "\n",
    "Также стоит учитывать влияние и других факторов, которые в совокупности с проверенными в данном исследовании могут также свидетельствовать о том, способен клиент допустить просрочку или нет.\n"
   ]
  }
 ],
 "metadata": {
  "ExecuteTimeLog": [
   {
    "duration": 528,
    "start_time": "2024-04-08T15:31:03.459Z"
   },
   {
    "duration": 23,
    "start_time": "2024-04-08T15:31:06.591Z"
   },
   {
    "duration": 16,
    "start_time": "2024-04-08T15:31:09.130Z"
   },
   {
    "duration": 12,
    "start_time": "2024-04-08T15:31:15.759Z"
   },
   {
    "duration": 38,
    "start_time": "2024-04-08T15:31:17.695Z"
   },
   {
    "duration": 4,
    "start_time": "2024-04-08T15:31:23.078Z"
   },
   {
    "duration": 8,
    "start_time": "2024-04-08T15:31:24.819Z"
   },
   {
    "duration": 4,
    "start_time": "2024-04-08T15:31:27.279Z"
   },
   {
    "duration": 9,
    "start_time": "2024-04-08T15:31:29.035Z"
   },
   {
    "duration": 4,
    "start_time": "2024-04-08T15:31:30.619Z"
   },
   {
    "duration": 36,
    "start_time": "2024-04-08T15:31:38.379Z"
   },
   {
    "duration": 17,
    "start_time": "2024-04-08T15:31:40.207Z"
   },
   {
    "duration": 4,
    "start_time": "2024-04-08T15:31:42.911Z"
   },
   {
    "duration": 12,
    "start_time": "2024-04-08T15:31:44.399Z"
   },
   {
    "duration": 22,
    "start_time": "2024-04-08T15:31:45.399Z"
   },
   {
    "duration": 20,
    "start_time": "2024-04-08T15:31:45.971Z"
   },
   {
    "duration": 4,
    "start_time": "2024-04-08T15:31:47.679Z"
   },
   {
    "duration": 11,
    "start_time": "2024-04-08T15:31:48.287Z"
   },
   {
    "duration": 6,
    "start_time": "2024-04-08T15:31:49.859Z"
   },
   {
    "duration": 3,
    "start_time": "2024-04-08T15:31:51.431Z"
   },
   {
    "duration": 10,
    "start_time": "2024-04-08T15:31:52.086Z"
   },
   {
    "duration": 26,
    "start_time": "2024-04-08T15:39:58.271Z"
   },
   {
    "duration": 96,
    "start_time": "2024-04-08T15:50:20.523Z"
   },
   {
    "duration": 23,
    "start_time": "2024-04-08T15:50:36.119Z"
   },
   {
    "duration": 16,
    "start_time": "2024-04-08T16:00:30.780Z"
   },
   {
    "duration": 21,
    "start_time": "2024-04-08T16:01:29.216Z"
   },
   {
    "duration": 22,
    "start_time": "2024-04-08T18:06:16.234Z"
   },
   {
    "duration": 21,
    "start_time": "2024-04-08T18:24:31.355Z"
   },
   {
    "duration": 495,
    "start_time": "2024-04-08T19:11:07.142Z"
   },
   {
    "duration": 23,
    "start_time": "2024-04-08T19:11:07.639Z"
   },
   {
    "duration": 27,
    "start_time": "2024-04-08T19:11:07.664Z"
   },
   {
    "duration": 11,
    "start_time": "2024-04-08T19:11:07.693Z"
   },
   {
    "duration": 40,
    "start_time": "2024-04-08T19:11:07.706Z"
   },
   {
    "duration": 4,
    "start_time": "2024-04-08T19:11:07.747Z"
   },
   {
    "duration": 10,
    "start_time": "2024-04-08T19:11:07.752Z"
   },
   {
    "duration": 28,
    "start_time": "2024-04-08T19:11:07.763Z"
   },
   {
    "duration": 9,
    "start_time": "2024-04-08T19:11:07.793Z"
   },
   {
    "duration": 5,
    "start_time": "2024-04-08T19:11:07.804Z"
   },
   {
    "duration": 42,
    "start_time": "2024-04-08T19:11:07.811Z"
   },
   {
    "duration": 41,
    "start_time": "2024-04-08T19:11:07.856Z"
   },
   {
    "duration": 4,
    "start_time": "2024-04-08T19:11:07.899Z"
   },
   {
    "duration": 24,
    "start_time": "2024-04-08T19:11:07.906Z"
   },
   {
    "duration": 25,
    "start_time": "2024-04-08T19:11:07.931Z"
   },
   {
    "duration": 18,
    "start_time": "2024-04-08T19:11:07.958Z"
   },
   {
    "duration": 17,
    "start_time": "2024-04-08T19:11:07.978Z"
   },
   {
    "duration": 16,
    "start_time": "2024-04-08T19:11:07.996Z"
   },
   {
    "duration": 13,
    "start_time": "2024-04-08T19:11:08.013Z"
   },
   {
    "duration": 5,
    "start_time": "2024-04-08T19:11:08.027Z"
   },
   {
    "duration": 21,
    "start_time": "2024-04-08T19:11:08.034Z"
   },
   {
    "duration": 50,
    "start_time": "2024-04-08T19:11:08.058Z"
   },
   {
    "duration": 21,
    "start_time": "2024-04-08T19:11:08.110Z"
   },
   {
    "duration": 18,
    "start_time": "2024-04-08T19:11:08.132Z"
   },
   {
    "duration": 46,
    "start_time": "2024-04-08T19:11:08.152Z"
   },
   {
    "duration": 50,
    "start_time": "2024-04-09T10:54:27.398Z"
   },
   {
    "duration": 619,
    "start_time": "2024-04-09T10:54:36.402Z"
   },
   {
    "duration": 30,
    "start_time": "2024-04-09T10:54:37.023Z"
   },
   {
    "duration": 17,
    "start_time": "2024-04-09T10:54:37.055Z"
   },
   {
    "duration": 13,
    "start_time": "2024-04-09T10:54:37.073Z"
   },
   {
    "duration": 38,
    "start_time": "2024-04-09T10:54:37.088Z"
   },
   {
    "duration": 3,
    "start_time": "2024-04-09T10:54:37.128Z"
   },
   {
    "duration": 11,
    "start_time": "2024-04-09T10:54:37.132Z"
   },
   {
    "duration": 6,
    "start_time": "2024-04-09T10:54:37.144Z"
   },
   {
    "duration": 35,
    "start_time": "2024-04-09T10:54:37.151Z"
   },
   {
    "duration": 4,
    "start_time": "2024-04-09T10:54:37.188Z"
   },
   {
    "duration": 49,
    "start_time": "2024-04-09T10:54:37.193Z"
   },
   {
    "duration": 10,
    "start_time": "2024-04-09T10:54:37.243Z"
   },
   {
    "duration": 6,
    "start_time": "2024-04-09T10:54:37.255Z"
   },
   {
    "duration": 27,
    "start_time": "2024-04-09T10:54:37.263Z"
   },
   {
    "duration": 19,
    "start_time": "2024-04-09T10:54:37.291Z"
   },
   {
    "duration": 16,
    "start_time": "2024-04-09T10:54:37.312Z"
   },
   {
    "duration": 4,
    "start_time": "2024-04-09T10:54:37.329Z"
   },
   {
    "duration": 13,
    "start_time": "2024-04-09T10:54:37.334Z"
   },
   {
    "duration": 6,
    "start_time": "2024-04-09T10:54:37.348Z"
   },
   {
    "duration": 4,
    "start_time": "2024-04-09T10:54:37.382Z"
   },
   {
    "duration": 15,
    "start_time": "2024-04-09T10:54:37.387Z"
   },
   {
    "duration": 22,
    "start_time": "2024-04-09T10:54:37.403Z"
   },
   {
    "duration": 18,
    "start_time": "2024-04-09T10:54:37.427Z"
   },
   {
    "duration": 1211,
    "start_time": "2024-04-09T10:54:37.447Z"
   },
   {
    "duration": 0,
    "start_time": "2024-04-09T10:54:38.660Z"
   },
   {
    "duration": 10,
    "start_time": "2024-04-09T10:55:01.220Z"
   },
   {
    "duration": 10,
    "start_time": "2024-04-09T10:56:23.386Z"
   },
   {
    "duration": 10,
    "start_time": "2024-04-09T10:57:00.058Z"
   },
   {
    "duration": 10,
    "start_time": "2024-04-09T10:57:12.298Z"
   },
   {
    "duration": 10,
    "start_time": "2024-04-09T10:57:35.418Z"
   },
   {
    "duration": 11,
    "start_time": "2024-04-09T10:58:34.398Z"
   },
   {
    "duration": 21,
    "start_time": "2024-04-09T11:06:56.948Z"
   },
   {
    "duration": 30,
    "start_time": "2024-04-09T11:10:18.811Z"
   },
   {
    "duration": 19,
    "start_time": "2024-04-09T11:10:42.228Z"
   },
   {
    "duration": 19,
    "start_time": "2024-04-09T11:11:10.200Z"
   },
   {
    "duration": 94,
    "start_time": "2024-04-09T11:11:23.387Z"
   },
   {
    "duration": 20,
    "start_time": "2024-04-09T11:11:30.035Z"
   },
   {
    "duration": 48,
    "start_time": "2024-04-09T11:22:38.584Z"
   },
   {
    "duration": 47,
    "start_time": "2024-04-09T11:23:19.845Z"
   },
   {
    "duration": 31,
    "start_time": "2024-04-09T11:23:42.775Z"
   },
   {
    "duration": 512,
    "start_time": "2024-04-09T12:12:17.496Z"
   },
   {
    "duration": 23,
    "start_time": "2024-04-09T12:12:18.010Z"
   },
   {
    "duration": 16,
    "start_time": "2024-04-09T12:12:18.035Z"
   },
   {
    "duration": 30,
    "start_time": "2024-04-09T12:12:18.053Z"
   },
   {
    "duration": 58,
    "start_time": "2024-04-09T12:12:18.084Z"
   },
   {
    "duration": 3,
    "start_time": "2024-04-09T12:12:18.143Z"
   },
   {
    "duration": 22,
    "start_time": "2024-04-09T12:12:18.148Z"
   },
   {
    "duration": 21,
    "start_time": "2024-04-09T12:12:18.171Z"
   },
   {
    "duration": 10,
    "start_time": "2024-04-09T12:12:18.194Z"
   },
   {
    "duration": 29,
    "start_time": "2024-04-09T12:12:18.207Z"
   },
   {
    "duration": 59,
    "start_time": "2024-04-09T12:12:18.237Z"
   },
   {
    "duration": 10,
    "start_time": "2024-04-09T12:12:18.298Z"
   },
   {
    "duration": 18,
    "start_time": "2024-04-09T12:12:18.310Z"
   },
   {
    "duration": 22,
    "start_time": "2024-04-09T12:12:18.330Z"
   },
   {
    "duration": 38,
    "start_time": "2024-04-09T12:12:18.354Z"
   },
   {
    "duration": 18,
    "start_time": "2024-04-09T12:12:18.394Z"
   },
   {
    "duration": 8,
    "start_time": "2024-04-09T12:12:18.413Z"
   },
   {
    "duration": 20,
    "start_time": "2024-04-09T12:12:18.422Z"
   },
   {
    "duration": 13,
    "start_time": "2024-04-09T12:12:18.443Z"
   },
   {
    "duration": 16,
    "start_time": "2024-04-09T12:12:18.457Z"
   },
   {
    "duration": 14,
    "start_time": "2024-04-09T12:12:18.475Z"
   },
   {
    "duration": 29,
    "start_time": "2024-04-09T12:12:18.490Z"
   },
   {
    "duration": 19,
    "start_time": "2024-04-09T12:12:18.520Z"
   },
   {
    "duration": 21,
    "start_time": "2024-04-09T12:12:18.541Z"
   },
   {
    "duration": 32,
    "start_time": "2024-04-09T12:12:18.565Z"
   },
   {
    "duration": 673,
    "start_time": "2025-02-01T15:43:37.798Z"
   },
   {
    "duration": 22,
    "start_time": "2025-02-01T15:43:38.473Z"
   },
   {
    "duration": 16,
    "start_time": "2025-02-01T15:43:38.497Z"
   },
   {
    "duration": 10,
    "start_time": "2025-02-01T15:43:38.515Z"
   },
   {
    "duration": 61,
    "start_time": "2025-02-01T15:43:38.527Z"
   },
   {
    "duration": 3,
    "start_time": "2025-02-01T15:43:38.590Z"
   },
   {
    "duration": 8,
    "start_time": "2025-02-01T15:43:38.595Z"
   },
   {
    "duration": 6,
    "start_time": "2025-02-01T15:43:38.604Z"
   },
   {
    "duration": 6,
    "start_time": "2025-02-01T15:43:38.611Z"
   },
   {
    "duration": 3,
    "start_time": "2025-02-01T15:43:38.619Z"
   },
   {
    "duration": 66,
    "start_time": "2025-02-01T15:43:38.624Z"
   },
   {
    "duration": 10,
    "start_time": "2025-02-01T15:43:38.692Z"
   },
   {
    "duration": 3,
    "start_time": "2025-02-01T15:43:38.703Z"
   },
   {
    "duration": 11,
    "start_time": "2025-02-01T15:43:38.708Z"
   },
   {
    "duration": 25,
    "start_time": "2025-02-01T15:43:38.720Z"
   },
   {
    "duration": 41,
    "start_time": "2025-02-01T15:43:38.747Z"
   },
   {
    "duration": 4,
    "start_time": "2025-02-01T15:43:38.789Z"
   },
   {
    "duration": 32,
    "start_time": "2025-02-01T15:43:38.794Z"
   },
   {
    "duration": 8,
    "start_time": "2025-02-01T15:43:38.827Z"
   },
   {
    "duration": 11,
    "start_time": "2025-02-01T15:43:38.836Z"
   },
   {
    "duration": 11,
    "start_time": "2025-02-01T15:43:38.848Z"
   },
   {
    "duration": 20,
    "start_time": "2025-02-01T15:43:38.860Z"
   },
   {
    "duration": 17,
    "start_time": "2025-02-01T15:43:38.882Z"
   },
   {
    "duration": 18,
    "start_time": "2025-02-01T15:43:38.900Z"
   },
   {
    "duration": 18,
    "start_time": "2025-02-01T15:43:38.919Z"
   },
   {
    "duration": 509,
    "start_time": "2025-02-12T21:21:54.949Z"
   },
   {
    "duration": 8,
    "start_time": "2025-02-12T21:22:13.950Z"
   },
   {
    "duration": 3399,
    "start_time": "2025-02-12T21:22:17.648Z"
   },
   {
    "duration": 4,
    "start_time": "2025-02-12T21:22:21.050Z"
   }
  ],
  "colab": {
   "name": "dpp_template_part2.ipynb",
   "provenance": []
  },
  "kernelspec": {
   "display_name": "Python 3 (ipykernel)",
   "language": "python",
   "name": "python3"
  },
  "language_info": {
   "codemirror_mode": {
    "name": "ipython",
    "version": 3
   },
   "file_extension": ".py",
   "mimetype": "text/x-python",
   "name": "python",
   "nbconvert_exporter": "python",
   "pygments_lexer": "ipython3",
   "version": "3.9.5"
  },
  "toc": {
   "base_numbering": 1,
   "nav_menu": {},
   "number_sections": true,
   "sideBar": true,
   "skip_h1_title": true,
   "title_cell": "Table of Contents",
   "title_sidebar": "Contents",
   "toc_cell": false,
   "toc_position": {},
   "toc_section_display": true,
   "toc_window_display": false
  }
 },
 "nbformat": 4,
 "nbformat_minor": 5
}

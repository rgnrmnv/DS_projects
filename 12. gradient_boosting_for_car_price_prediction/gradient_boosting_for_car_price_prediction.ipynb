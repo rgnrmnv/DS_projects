{
 "cells": [
  {
   "cell_type": "markdown",
   "metadata": {},
   "source": [
    "# Проект. Определение стоимости автомобилей"
   ]
  },
  {
   "cell_type": "markdown",
   "metadata": {},
   "source": [
    "**Описание исследования**\n",
    "\n",
    "Сервис по продаже автомобилей с пробегом «Не бит, не крашен» разрабатывает приложение для привлечения новых клиентов. В нём можно быстро узнать рыночную стоимость своего автомобиля. В вашем распоряжении исторические данные: технические характеристики, комплектации и цены автомобилей. Вам нужно построить модель для определения стоимости. \n",
    "\n",
    "Заказчику важны:\n",
    "\n",
    "- качество предсказания;\n",
    "- скорость предсказания;\n",
    "- время обучения.\n",
    "\n",
    "**Цель исследования**\n",
    "\n",
    "Разработать модель, которая будет определять рыночную стоимость автомобиля пользователей сервиса.\n",
    "\n",
    "**Исходные данные. Описание данных**\n",
    "\n",
    "Данные находятся в файле: \n",
    "\n",
    "`/datasets/autos.csv`\n",
    "\n",
    "\n",
    "Признаки:\n",
    "\n",
    "- DateCrawled — дата скачивания анкеты из базы\n",
    "\n",
    "- VehicleType — тип автомобильного кузова\n",
    "\n",
    "- RegistrationYear — год регистрации автомобиля\n",
    "\n",
    "- Gearbox — тип коробки передач\n",
    " \n",
    "- Power — мощность (л. с.)\n",
    "\n",
    "- Model — модель автомобиля\n",
    "\n",
    "- Kilometer — пробег (км)\n",
    "\n",
    "- RegistrationMonth — месяц регистрации автомобиля\n",
    "\n",
    "- FuelType — тип топлива\n",
    "\n",
    "- Brand — марка автомобиля\n",
    "\n",
    "- Repaired — была машина в ремонте или нет\n",
    "\n",
    "- DateCreated — дата создания анкеты\n",
    "\n",
    "- NumberOfPictures — количество фотографий автомобиля\n",
    "\n",
    "- PostalCode — почтовый индекс владельца анкеты (пользователя)\n",
    "\n",
    "- LastSeen — дата последней активности пользователя\n",
    "\n",
    "\n",
    "**Целевой признак**\n",
    "\n",
    "- Price — цена (евро)\n",
    "\n",
    "**Условия задачи:** \n",
    "\n",
    "- Для оценки качества моделей применять метрику RMSE.\n",
    "\n",
    "- Значение метрики RMSE должно быть меньше 2500.\n"
   ]
  },
  {
   "cell_type": "markdown",
   "metadata": {},
   "source": [
    "## Импорт библиотек, загрузка, чтение данных"
   ]
  },
  {
   "cell_type": "code",
   "execution_count": 1,
   "metadata": {},
   "outputs": [],
   "source": [
    "!pip install -q phik\n",
    "!pip install --upgrade -q scikit-learn\n",
    "\n",
    "#ИЛИ\n",
    "# !pip install -r requirements.txt\n",
    "# при необходимости можно запустить данную команду, для установки версий библиотек,\n",
    "#которые использовались при использовании данного проекта\n",
    "# и с которыми не возникали конфликты"
   ]
  },
  {
   "cell_type": "code",
   "execution_count": 2,
   "metadata": {},
   "outputs": [],
   "source": [
    "#импорт библиотек\n",
    "\n",
    "import pandas as pd\n",
    "import numpy as np\n",
    "import seaborn as sns\n",
    "import matplotlib.pyplot as plt\n",
    "\n",
    "from sklearn.pipeline import Pipeline\n",
    "from sklearn.impute import SimpleImputer\n",
    "from sklearn.compose import ColumnTransformer\n",
    "from sklearn.metrics import mean_squared_error\n",
    "from sklearn.model_selection import (train_test_split,\n",
    "                                     cross_val_score, \n",
    "                                     RandomizedSearchCV\n",
    "                                    )\n",
    "from sklearn.preprocessing import (OneHotEncoder,\n",
    "                                   OrdinalEncoder,\n",
    "                                   StandardScaler)\n",
    "from sklearn.linear_model import LinearRegression\n",
    "from sklearn.ensemble import RandomForestRegressor\n",
    "from phik import phik_matrix\n",
    "from phik.report import plot_correlation_matrix\n",
    "from time import time\n",
    "\n",
    "from catboost import CatBoostRegressor\n",
    "from lightgbm import LGBMRegressor\n",
    "\n",
    "\n",
    "import warnings\n",
    "warnings.filterwarnings('ignore')\n",
    "\n",
    "\n",
    "#Импорт констант\n",
    "TEST_SIZE = 0.25 \n",
    "random_state = 42"
   ]
  },
  {
   "cell_type": "code",
   "execution_count": 3,
   "metadata": {},
   "outputs": [
    {
     "data": {
      "text/html": [
       "<div>\n",
       "<style scoped>\n",
       "    .dataframe tbody tr th:only-of-type {\n",
       "        vertical-align: middle;\n",
       "    }\n",
       "\n",
       "    .dataframe tbody tr th {\n",
       "        vertical-align: top;\n",
       "    }\n",
       "\n",
       "    .dataframe thead th {\n",
       "        text-align: right;\n",
       "    }\n",
       "</style>\n",
       "<table border=\"1\" class=\"dataframe\">\n",
       "  <thead>\n",
       "    <tr style=\"text-align: right;\">\n",
       "      <th></th>\n",
       "      <th>DateCrawled</th>\n",
       "      <th>Price</th>\n",
       "      <th>VehicleType</th>\n",
       "      <th>RegistrationYear</th>\n",
       "      <th>Gearbox</th>\n",
       "      <th>Power</th>\n",
       "      <th>Model</th>\n",
       "      <th>Kilometer</th>\n",
       "      <th>RegistrationMonth</th>\n",
       "      <th>FuelType</th>\n",
       "      <th>Brand</th>\n",
       "      <th>Repaired</th>\n",
       "      <th>DateCreated</th>\n",
       "      <th>NumberOfPictures</th>\n",
       "      <th>PostalCode</th>\n",
       "      <th>LastSeen</th>\n",
       "    </tr>\n",
       "  </thead>\n",
       "  <tbody>\n",
       "    <tr>\n",
       "      <th>0</th>\n",
       "      <td>2016-03-24 11:52:17</td>\n",
       "      <td>480</td>\n",
       "      <td>NaN</td>\n",
       "      <td>1993</td>\n",
       "      <td>manual</td>\n",
       "      <td>0</td>\n",
       "      <td>golf</td>\n",
       "      <td>150000</td>\n",
       "      <td>0</td>\n",
       "      <td>petrol</td>\n",
       "      <td>volkswagen</td>\n",
       "      <td>NaN</td>\n",
       "      <td>2016-03-24 00:00:00</td>\n",
       "      <td>0</td>\n",
       "      <td>70435</td>\n",
       "      <td>2016-04-07 03:16:57</td>\n",
       "    </tr>\n",
       "    <tr>\n",
       "      <th>1</th>\n",
       "      <td>2016-03-24 10:58:45</td>\n",
       "      <td>18300</td>\n",
       "      <td>coupe</td>\n",
       "      <td>2011</td>\n",
       "      <td>manual</td>\n",
       "      <td>190</td>\n",
       "      <td>NaN</td>\n",
       "      <td>125000</td>\n",
       "      <td>5</td>\n",
       "      <td>gasoline</td>\n",
       "      <td>audi</td>\n",
       "      <td>yes</td>\n",
       "      <td>2016-03-24 00:00:00</td>\n",
       "      <td>0</td>\n",
       "      <td>66954</td>\n",
       "      <td>2016-04-07 01:46:50</td>\n",
       "    </tr>\n",
       "    <tr>\n",
       "      <th>2</th>\n",
       "      <td>2016-03-14 12:52:21</td>\n",
       "      <td>9800</td>\n",
       "      <td>suv</td>\n",
       "      <td>2004</td>\n",
       "      <td>auto</td>\n",
       "      <td>163</td>\n",
       "      <td>grand</td>\n",
       "      <td>125000</td>\n",
       "      <td>8</td>\n",
       "      <td>gasoline</td>\n",
       "      <td>jeep</td>\n",
       "      <td>NaN</td>\n",
       "      <td>2016-03-14 00:00:00</td>\n",
       "      <td>0</td>\n",
       "      <td>90480</td>\n",
       "      <td>2016-04-05 12:47:46</td>\n",
       "    </tr>\n",
       "    <tr>\n",
       "      <th>3</th>\n",
       "      <td>2016-03-17 16:54:04</td>\n",
       "      <td>1500</td>\n",
       "      <td>small</td>\n",
       "      <td>2001</td>\n",
       "      <td>manual</td>\n",
       "      <td>75</td>\n",
       "      <td>golf</td>\n",
       "      <td>150000</td>\n",
       "      <td>6</td>\n",
       "      <td>petrol</td>\n",
       "      <td>volkswagen</td>\n",
       "      <td>no</td>\n",
       "      <td>2016-03-17 00:00:00</td>\n",
       "      <td>0</td>\n",
       "      <td>91074</td>\n",
       "      <td>2016-03-17 17:40:17</td>\n",
       "    </tr>\n",
       "    <tr>\n",
       "      <th>4</th>\n",
       "      <td>2016-03-31 17:25:20</td>\n",
       "      <td>3600</td>\n",
       "      <td>small</td>\n",
       "      <td>2008</td>\n",
       "      <td>manual</td>\n",
       "      <td>69</td>\n",
       "      <td>fabia</td>\n",
       "      <td>90000</td>\n",
       "      <td>7</td>\n",
       "      <td>gasoline</td>\n",
       "      <td>skoda</td>\n",
       "      <td>no</td>\n",
       "      <td>2016-03-31 00:00:00</td>\n",
       "      <td>0</td>\n",
       "      <td>60437</td>\n",
       "      <td>2016-04-06 10:17:21</td>\n",
       "    </tr>\n",
       "  </tbody>\n",
       "</table>\n",
       "</div>"
      ],
      "text/plain": [
       "           DateCrawled  Price VehicleType  RegistrationYear Gearbox  Power  \\\n",
       "0  2016-03-24 11:52:17    480         NaN              1993  manual      0   \n",
       "1  2016-03-24 10:58:45  18300       coupe              2011  manual    190   \n",
       "2  2016-03-14 12:52:21   9800         suv              2004    auto    163   \n",
       "3  2016-03-17 16:54:04   1500       small              2001  manual     75   \n",
       "4  2016-03-31 17:25:20   3600       small              2008  manual     69   \n",
       "\n",
       "   Model  Kilometer  RegistrationMonth  FuelType       Brand Repaired  \\\n",
       "0   golf     150000                  0    petrol  volkswagen      NaN   \n",
       "1    NaN     125000                  5  gasoline        audi      yes   \n",
       "2  grand     125000                  8  gasoline        jeep      NaN   \n",
       "3   golf     150000                  6    petrol  volkswagen       no   \n",
       "4  fabia      90000                  7  gasoline       skoda       no   \n",
       "\n",
       "           DateCreated  NumberOfPictures  PostalCode             LastSeen  \n",
       "0  2016-03-24 00:00:00                 0       70435  2016-04-07 03:16:57  \n",
       "1  2016-03-24 00:00:00                 0       66954  2016-04-07 01:46:50  \n",
       "2  2016-03-14 00:00:00                 0       90480  2016-04-05 12:47:46  \n",
       "3  2016-03-17 00:00:00                 0       91074  2016-03-17 17:40:17  \n",
       "4  2016-03-31 00:00:00                 0       60437  2016-04-06 10:17:21  "
      ]
     },
     "execution_count": 3,
     "metadata": {},
     "output_type": "execute_result"
    }
   ],
   "source": [
    "try:\n",
    "    df = pd.read_csv('/datasets/autos.csv')\n",
    "except:\n",
    "    df = pd.read_csv('https://code.s3.yandex.net/datasets/autos.csv')\n",
    "    \n",
    "df.head()"
   ]
  },
  {
   "cell_type": "markdown",
   "metadata": {},
   "source": [
    "Уже при импорте и первом взгляде на датасет захотелось переименовать столбцы в соответствии со змеиным регистром"
   ]
  },
  {
   "cell_type": "markdown",
   "metadata": {},
   "source": [
    "### Изучим датасет более подробно:"
   ]
  },
  {
   "cell_type": "code",
   "execution_count": 4,
   "metadata": {},
   "outputs": [
    {
     "name": "stdout",
     "output_type": "stream",
     "text": [
      "<class 'pandas.core.frame.DataFrame'>\n",
      "RangeIndex: 354369 entries, 0 to 354368\n",
      "Data columns (total 16 columns):\n",
      " #   Column             Non-Null Count   Dtype \n",
      "---  ------             --------------   ----- \n",
      " 0   DateCrawled        354369 non-null  object\n",
      " 1   Price              354369 non-null  int64 \n",
      " 2   VehicleType        316879 non-null  object\n",
      " 3   RegistrationYear   354369 non-null  int64 \n",
      " 4   Gearbox            334536 non-null  object\n",
      " 5   Power              354369 non-null  int64 \n",
      " 6   Model              334664 non-null  object\n",
      " 7   Kilometer          354369 non-null  int64 \n",
      " 8   RegistrationMonth  354369 non-null  int64 \n",
      " 9   FuelType           321474 non-null  object\n",
      " 10  Brand              354369 non-null  object\n",
      " 11  Repaired           283215 non-null  object\n",
      " 12  DateCreated        354369 non-null  object\n",
      " 13  NumberOfPictures   354369 non-null  int64 \n",
      " 14  PostalCode         354369 non-null  int64 \n",
      " 15  LastSeen           354369 non-null  object\n",
      "dtypes: int64(7), object(9)\n",
      "memory usage: 43.3+ MB\n"
     ]
    }
   ],
   "source": [
    "df.info() #Посмотрим информацию об имеющихся столбцах и хранимых в них данных"
   ]
  },
  {
   "cell_type": "markdown",
   "metadata": {},
   "source": [
    "Можно сделать вывод, что датасет состоит из 16 столбцов и содержит 354369 записей.\n",
    "\n",
    "Чтобы соблюсти правила хорошего стиля на этапе подготовки данных нужно будет переименовать столбцы в соответствии со змеиным регистром.\n",
    "Посчитать количество пропусков, потому что можно отметить, что в части столбцов они имеются.\n",
    "\n",
    "Провели проверку типа данных столбцов: соответствуют содержащимся данным. Можно, конечно, переименовать столбцы, относящиеся к дате. Но по моему мнению, данные признаки будут неинформативны для модели и мы будем их удалять из датасета на следующих шагах.\n"
   ]
  },
  {
   "cell_type": "code",
   "execution_count": 5,
   "metadata": {},
   "outputs": [],
   "source": [
    "#Переименование столбцов в соответствии со змеиным регистром:\n",
    "df.columns = df.columns.str.replace(r\"([A-Z])\", r\" \\1\").str.lower().str.replace(' ', '_').str[1:]"
   ]
  },
  {
   "cell_type": "code",
   "execution_count": 6,
   "metadata": {},
   "outputs": [
    {
     "name": "stdout",
     "output_type": "stream",
     "text": [
      "<class 'pandas.core.frame.DataFrame'>\n",
      "RangeIndex: 354369 entries, 0 to 354368\n",
      "Data columns (total 16 columns):\n",
      " #   Column              Non-Null Count   Dtype \n",
      "---  ------              --------------   ----- \n",
      " 0   date_crawled        354369 non-null  object\n",
      " 1   price               354369 non-null  int64 \n",
      " 2   vehicle_type        316879 non-null  object\n",
      " 3   registration_year   354369 non-null  int64 \n",
      " 4   gearbox             334536 non-null  object\n",
      " 5   power               354369 non-null  int64 \n",
      " 6   model               334664 non-null  object\n",
      " 7   kilometer           354369 non-null  int64 \n",
      " 8   registration_month  354369 non-null  int64 \n",
      " 9   fuel_type           321474 non-null  object\n",
      " 10  brand               354369 non-null  object\n",
      " 11  repaired            283215 non-null  object\n",
      " 12  date_created        354369 non-null  object\n",
      " 13  number_of_pictures  354369 non-null  int64 \n",
      " 14  postal_code         354369 non-null  int64 \n",
      " 15  last_seen           354369 non-null  object\n",
      "dtypes: int64(7), object(9)\n",
      "memory usage: 43.3+ MB\n"
     ]
    }
   ],
   "source": [
    "#Проверка результата:\n",
    "df.info()"
   ]
  },
  {
   "cell_type": "code",
   "execution_count": 7,
   "metadata": {},
   "outputs": [
    {
     "data": {
      "text/html": [
       "<div>\n",
       "<style scoped>\n",
       "    .dataframe tbody tr th:only-of-type {\n",
       "        vertical-align: middle;\n",
       "    }\n",
       "\n",
       "    .dataframe tbody tr th {\n",
       "        vertical-align: top;\n",
       "    }\n",
       "\n",
       "    .dataframe thead th {\n",
       "        text-align: right;\n",
       "    }\n",
       "</style>\n",
       "<table border=\"1\" class=\"dataframe\">\n",
       "  <thead>\n",
       "    <tr style=\"text-align: right;\">\n",
       "      <th></th>\n",
       "      <th>price</th>\n",
       "      <th>registration_year</th>\n",
       "      <th>power</th>\n",
       "      <th>kilometer</th>\n",
       "      <th>registration_month</th>\n",
       "      <th>number_of_pictures</th>\n",
       "      <th>postal_code</th>\n",
       "    </tr>\n",
       "  </thead>\n",
       "  <tbody>\n",
       "    <tr>\n",
       "      <th>count</th>\n",
       "      <td>354369.000000</td>\n",
       "      <td>354369.000000</td>\n",
       "      <td>354369.000000</td>\n",
       "      <td>354369.000000</td>\n",
       "      <td>354369.000000</td>\n",
       "      <td>354369.0</td>\n",
       "      <td>354369.000000</td>\n",
       "    </tr>\n",
       "    <tr>\n",
       "      <th>mean</th>\n",
       "      <td>4416.656776</td>\n",
       "      <td>2004.234448</td>\n",
       "      <td>110.094337</td>\n",
       "      <td>128211.172535</td>\n",
       "      <td>5.714645</td>\n",
       "      <td>0.0</td>\n",
       "      <td>50508.689087</td>\n",
       "    </tr>\n",
       "    <tr>\n",
       "      <th>std</th>\n",
       "      <td>4514.158514</td>\n",
       "      <td>90.227958</td>\n",
       "      <td>189.850405</td>\n",
       "      <td>37905.341530</td>\n",
       "      <td>3.726421</td>\n",
       "      <td>0.0</td>\n",
       "      <td>25783.096248</td>\n",
       "    </tr>\n",
       "    <tr>\n",
       "      <th>min</th>\n",
       "      <td>0.000000</td>\n",
       "      <td>1000.000000</td>\n",
       "      <td>0.000000</td>\n",
       "      <td>5000.000000</td>\n",
       "      <td>0.000000</td>\n",
       "      <td>0.0</td>\n",
       "      <td>1067.000000</td>\n",
       "    </tr>\n",
       "    <tr>\n",
       "      <th>25%</th>\n",
       "      <td>1050.000000</td>\n",
       "      <td>1999.000000</td>\n",
       "      <td>69.000000</td>\n",
       "      <td>125000.000000</td>\n",
       "      <td>3.000000</td>\n",
       "      <td>0.0</td>\n",
       "      <td>30165.000000</td>\n",
       "    </tr>\n",
       "    <tr>\n",
       "      <th>50%</th>\n",
       "      <td>2700.000000</td>\n",
       "      <td>2003.000000</td>\n",
       "      <td>105.000000</td>\n",
       "      <td>150000.000000</td>\n",
       "      <td>6.000000</td>\n",
       "      <td>0.0</td>\n",
       "      <td>49413.000000</td>\n",
       "    </tr>\n",
       "    <tr>\n",
       "      <th>75%</th>\n",
       "      <td>6400.000000</td>\n",
       "      <td>2008.000000</td>\n",
       "      <td>143.000000</td>\n",
       "      <td>150000.000000</td>\n",
       "      <td>9.000000</td>\n",
       "      <td>0.0</td>\n",
       "      <td>71083.000000</td>\n",
       "    </tr>\n",
       "    <tr>\n",
       "      <th>max</th>\n",
       "      <td>20000.000000</td>\n",
       "      <td>9999.000000</td>\n",
       "      <td>20000.000000</td>\n",
       "      <td>150000.000000</td>\n",
       "      <td>12.000000</td>\n",
       "      <td>0.0</td>\n",
       "      <td>99998.000000</td>\n",
       "    </tr>\n",
       "  </tbody>\n",
       "</table>\n",
       "</div>"
      ],
      "text/plain": [
       "               price  registration_year          power      kilometer  \\\n",
       "count  354369.000000      354369.000000  354369.000000  354369.000000   \n",
       "mean     4416.656776        2004.234448     110.094337  128211.172535   \n",
       "std      4514.158514          90.227958     189.850405   37905.341530   \n",
       "min         0.000000        1000.000000       0.000000    5000.000000   \n",
       "25%      1050.000000        1999.000000      69.000000  125000.000000   \n",
       "50%      2700.000000        2003.000000     105.000000  150000.000000   \n",
       "75%      6400.000000        2008.000000     143.000000  150000.000000   \n",
       "max     20000.000000        9999.000000   20000.000000  150000.000000   \n",
       "\n",
       "       registration_month  number_of_pictures    postal_code  \n",
       "count       354369.000000            354369.0  354369.000000  \n",
       "mean             5.714645                 0.0   50508.689087  \n",
       "std              3.726421                 0.0   25783.096248  \n",
       "min              0.000000                 0.0    1067.000000  \n",
       "25%              3.000000                 0.0   30165.000000  \n",
       "50%              6.000000                 0.0   49413.000000  \n",
       "75%              9.000000                 0.0   71083.000000  \n",
       "max             12.000000                 0.0   99998.000000  "
      ]
     },
     "execution_count": 7,
     "metadata": {},
     "output_type": "execute_result"
    }
   ],
   "source": [
    "df.describe()"
   ]
  },
  {
   "cell_type": "markdown",
   "metadata": {},
   "source": [
    "Изучили описательную статистику.\n",
    "Предварительно можно сделать следующие выводы:\n",
    "\n",
    "- в столбце price имеется значение 0 - это странно. либо пользователь не указывал стоимость автомобиля, либо это ошибка техническая\n",
    "\n",
    "- в столбце год регистрации есть аномальные значения - 1000 год, и 9999 год. такого быть не может\n",
    "\n",
    "- power - количество лошадиных сил: есть минимальное значение 0, а есть 20000. что тоже является аномалией данных\n",
    "\n",
    "- в столбце с количеством изображений все данные нулевые, возможно, техническая ошибка.\n"
   ]
  },
  {
   "cell_type": "code",
   "execution_count": 8,
   "metadata": {},
   "outputs": [
    {
     "name": "stdout",
     "output_type": "stream",
     "text": [
      "Число дублей в датафрейме autos: 4\n"
     ]
    }
   ],
   "source": [
    "print('Число дублей в датафрейме autos:', df.duplicated().sum())"
   ]
  },
  {
   "cell_type": "code",
   "execution_count": 9,
   "metadata": {},
   "outputs": [
    {
     "name": "stdout",
     "output_type": "stream",
     "text": [
      "Число дублей в датафрейме autos: 0\n"
     ]
    }
   ],
   "source": [
    "# Уберем явные дубликаты\n",
    "df.drop_duplicates(inplace=True)\n",
    "print(f'Число дублей в датафрейме autos: {df.duplicated().sum()}')"
   ]
  },
  {
   "cell_type": "markdown",
   "metadata": {},
   "source": [
    "В данном случае также важно проверить наличие неявных дубликатов у столбцов, которые содержать категориальные признаки:"
   ]
  },
  {
   "cell_type": "code",
   "execution_count": 10,
   "metadata": {},
   "outputs": [
    {
     "name": "stdout",
     "output_type": "stream",
     "text": [
      "Столбец 'vehicle_type' содержит уникальные значения: [nan 'coupe' 'suv' 'small' 'sedan' 'convertible' 'bus' 'wagon' 'other']\n",
      "\n",
      "Столбец 'gearbox' содержит уникальные значения: ['manual' 'auto' nan]\n",
      "\n",
      "Столбец 'model' содержит уникальные значения: ['golf' nan 'grand' 'fabia' '3er' '2_reihe' 'other' 'c_max' '3_reihe'\n",
      " 'passat' 'navara' 'ka' 'polo' 'twingo' 'a_klasse' 'scirocco' '5er'\n",
      " 'meriva' 'arosa' 'c4' 'civic' 'transporter' 'punto' 'e_klasse' 'clio'\n",
      " 'kadett' 'kangoo' 'corsa' 'one' 'fortwo' '1er' 'b_klasse' 'signum'\n",
      " 'astra' 'a8' 'jetta' 'fiesta' 'c_klasse' 'micra' 'vito' 'sprinter' '156'\n",
      " 'escort' 'forester' 'xc_reihe' 'scenic' 'a4' 'a1' 'insignia' 'combo'\n",
      " 'focus' 'tt' 'a6' 'jazz' 'omega' 'slk' '7er' '80' '147' '100' 'z_reihe'\n",
      " 'sportage' 'sorento' 'v40' 'ibiza' 'mustang' 'eos' 'touran' 'getz' 'a3'\n",
      " 'almera' 'megane' 'lupo' 'r19' 'zafira' 'caddy' 'mondeo' 'cordoba' 'colt'\n",
      " 'impreza' 'vectra' 'berlingo' 'tiguan' 'i_reihe' 'espace' 'sharan'\n",
      " '6_reihe' 'panda' 'up' 'seicento' 'ceed' '5_reihe' 'yeti' 'octavia' 'mii'\n",
      " 'rx_reihe' '6er' 'modus' 'fox' 'matiz' 'beetle' 'c1' 'rio' 'touareg'\n",
      " 'logan' 'spider' 'cuore' 's_max' 'a2' 'galaxy' 'c3' 'viano' 's_klasse'\n",
      " '1_reihe' 'avensis' 'roomster' 'sl' 'kaefer' 'santa' 'cooper' 'leon'\n",
      " '4_reihe' 'a5' '500' 'laguna' 'ptcruiser' 'clk' 'primera' 'x_reihe'\n",
      " 'exeo' '159' 'transit' 'juke' 'qashqai' 'carisma' 'accord' 'corolla'\n",
      " 'lanos' 'phaeton' 'verso' 'swift' 'rav' 'picanto' 'boxster' 'kalos'\n",
      " 'superb' 'stilo' 'alhambra' 'mx_reihe' 'roadster' 'ypsilon' 'cayenne'\n",
      " 'galant' 'justy' '90' 'sirion' 'crossfire' 'agila' 'duster' 'cr_reihe'\n",
      " 'v50' 'c_reihe' 'v_klasse' 'm_klasse' 'yaris' 'c5' 'aygo' 'cc' 'carnival'\n",
      " 'fusion' '911' 'bora' 'forfour' 'm_reihe' 'cl' 'tigra' '300c' 'spark'\n",
      " 'v70' 'kuga' 'x_type' 'ducato' 's_type' 'x_trail' 'toledo' 'altea'\n",
      " 'voyager' 'calibra' 'bravo' 'antara' 'tucson' 'citigo' 'jimny' 'wrangler'\n",
      " 'lybra' 'q7' 'lancer' 'captiva' 'c2' 'discovery' 'freelander' 'sandero'\n",
      " 'note' '900' 'cherokee' 'clubman' 'samara' 'defender' '601' 'cx_reihe'\n",
      " 'legacy' 'pajero' 'auris' 'niva' 's60' 'nubira' 'vivaro' 'g_klasse'\n",
      " 'lodgy' '850' 'range_rover' 'q3' 'serie_2' 'glk' 'charade' 'croma'\n",
      " 'outlander' 'doblo' 'musa' 'move' '9000' 'v60' '145' 'aveo' '200' 'b_max'\n",
      " 'range_rover_sport' 'terios' 'rangerover' 'q5' 'range_rover_evoque'\n",
      " 'materia' 'delta' 'gl' 'kalina' 'amarok' 'elefantino' 'i3' 'kappa'\n",
      " 'serie_3' 'serie_1']\n",
      "\n",
      "Столбец 'fuel_type' содержит уникальные значения: ['petrol' 'gasoline' nan 'lpg' 'other' 'hybrid' 'cng' 'electric']\n",
      "\n",
      "Столбец 'brand' содержит уникальные значения: ['volkswagen' 'audi' 'jeep' 'skoda' 'bmw' 'peugeot' 'ford' 'mazda'\n",
      " 'nissan' 'renault' 'mercedes_benz' 'opel' 'seat' 'citroen' 'honda' 'fiat'\n",
      " 'mini' 'smart' 'hyundai' 'sonstige_autos' 'alfa_romeo' 'subaru' 'volvo'\n",
      " 'mitsubishi' 'kia' 'suzuki' 'lancia' 'toyota' 'chevrolet' 'dacia'\n",
      " 'daihatsu' 'trabant' 'saab' 'chrysler' 'jaguar' 'daewoo' 'porsche'\n",
      " 'rover' 'land_rover' 'lada']\n",
      "\n"
     ]
    }
   ],
   "source": [
    "# Список категориальных столбцов\n",
    "cols_cat = ['vehicle_type', 'gearbox', 'model', 'fuel_type', 'brand']\n",
    "\n",
    "# Получение уникальных значений только для указанных столбцов\n",
    "unique = df[cols_cat].apply(lambda col: col.unique(), axis=0)\n",
    "\n",
    "# Вывод уникальных значений с разделением столбцов пробелом\n",
    "for column, unique_values in unique.items():\n",
    "    print(f\"Столбец '{column}' содержит уникальные значения: {unique_values}\\n\")"
   ]
  },
  {
   "cell_type": "markdown",
   "metadata": {},
   "source": [
    "**Неявный дубликат: название топлива. petrol то же самое, что и gasoline, поэтому можно привети всё к petrol**\n"
   ]
  },
  {
   "cell_type": "code",
   "execution_count": 11,
   "metadata": {},
   "outputs": [],
   "source": [
    "df['fuel_type'] = df['fuel_type'].replace(['gasoline'],'petrol')"
   ]
  },
  {
   "cell_type": "code",
   "execution_count": 12,
   "metadata": {},
   "outputs": [
    {
     "data": {
      "text/plain": [
       "array(['petrol', nan, 'lpg', 'other', 'hybrid', 'cng', 'electric'],\n",
       "      dtype=object)"
      ]
     },
     "execution_count": 12,
     "metadata": {},
     "output_type": "execute_result"
    }
   ],
   "source": [
    "#Проверка успеха\n",
    "df.fuel_type.unique()"
   ]
  },
  {
   "cell_type": "code",
   "execution_count": 13,
   "metadata": {},
   "outputs": [
    {
     "data": {
      "text/plain": [
       "date_crawled              0\n",
       "price                     0\n",
       "vehicle_type          37490\n",
       "registration_year         0\n",
       "gearbox               19833\n",
       "power                     0\n",
       "model                 19705\n",
       "kilometer                 0\n",
       "registration_month        0\n",
       "fuel_type             32895\n",
       "brand                     0\n",
       "repaired              71154\n",
       "date_created              0\n",
       "number_of_pictures        0\n",
       "postal_code               0\n",
       "last_seen                 0\n",
       "dtype: int64"
      ]
     },
     "execution_count": 13,
     "metadata": {},
     "output_type": "execute_result"
    }
   ],
   "source": [
    "df.isna().sum() #Подсчитали количество пропусков"
   ]
  },
  {
   "cell_type": "markdown",
   "metadata": {},
   "source": [
    "Появившиеся пропуски можно объяснить тем, что пользователи могли просто не указывать данную информацию (особенно пункт 'repaired', где наибольшее количество пропусков). Но не исключено, что пропуски могли возникнуть и в результате человеческого фактора.\n",
    "\n",
    "Так как пропуски у столбцов, которые имеют категориальный признак, закономерности возникновения пропусков нет (например, просто кто-то не сообщал информацию о себе преднамеренно (в таком случае могут быть искажения при заполнении пропусков)), то мы можем заменить эти значения модой или иначе самым распространённым. Сделаем это с помощью пайплайна:"
   ]
  },
  {
   "cell_type": "code",
   "execution_count": 14,
   "metadata": {},
   "outputs": [],
   "source": [
    "# Пайплайн для замены пропущенных значений\n",
    "imputer_pipe = Pipeline(\n",
    "    [\n",
    "        (\n",
    "            'SimpleImputer',\n",
    "            SimpleImputer(missing_values=np.nan, strategy='most_frequent')\n",
    "        ),\n",
    "    ]\n",
    ")"
   ]
  },
  {
   "cell_type": "code",
   "execution_count": 15,
   "metadata": {},
   "outputs": [
    {
     "name": "stdout",
     "output_type": "stream",
     "text": [
      "Количество пропущенных значений после замены: \n",
      " date_crawled          0\n",
      "price                 0\n",
      "vehicle_type          0\n",
      "registration_year     0\n",
      "gearbox               0\n",
      "power                 0\n",
      "model                 0\n",
      "kilometer             0\n",
      "registration_month    0\n",
      "fuel_type             0\n",
      "brand                 0\n",
      "repaired              0\n",
      "date_created          0\n",
      "number_of_pictures    0\n",
      "postal_code           0\n",
      "last_seen             0\n",
      "dtype: int64\n"
     ]
    }
   ],
   "source": [
    "nan_cols = ['vehicle_type', 'gearbox', 'model', 'fuel_type', 'repaired']\n",
    "df[nan_cols] = imputer_pipe.fit_transform(df[nan_cols])\n",
    "\n",
    "# Проверка\n",
    "print(f'Количество пропущенных значений после замены: \\n {df.isna().sum()}')"
   ]
  },
  {
   "cell_type": "markdown",
   "metadata": {},
   "source": [
    "А также важно выделить, что среди имеющихся столбцов, чать является неинформативной, эти данные не помогут в построении модели.\n",
    "Удалим из датасета данные столбцы.\n",
    "\n",
    "К ним можно отнести:\n",
    "\n",
    "    - date_crawled\n",
    "    - date_created\n",
    "    - regisration_month\n",
    "    - number_of_pictures (содержит нулевые значения)\n",
    "    - last_seen"
   ]
  },
  {
   "cell_type": "code",
   "execution_count": 16,
   "metadata": {},
   "outputs": [],
   "source": [
    "#Удалим столбцы, чтобы можно было перейти к исследовательскому анализу:\n",
    "df = df.drop(columns=[\n",
    "    'date_crawled',  \n",
    "    'registration_month', \n",
    "    'date_created', \n",
    "    'number_of_pictures', \n",
    "    'last_seen',\n",
    "    'postal_code'\n",
    "])"
   ]
  },
  {
   "cell_type": "code",
   "execution_count": 17,
   "metadata": {},
   "outputs": [
    {
     "data": {
      "text/html": [
       "<div>\n",
       "<style scoped>\n",
       "    .dataframe tbody tr th:only-of-type {\n",
       "        vertical-align: middle;\n",
       "    }\n",
       "\n",
       "    .dataframe tbody tr th {\n",
       "        vertical-align: top;\n",
       "    }\n",
       "\n",
       "    .dataframe thead th {\n",
       "        text-align: right;\n",
       "    }\n",
       "</style>\n",
       "<table border=\"1\" class=\"dataframe\">\n",
       "  <thead>\n",
       "    <tr style=\"text-align: right;\">\n",
       "      <th></th>\n",
       "      <th>price</th>\n",
       "      <th>vehicle_type</th>\n",
       "      <th>registration_year</th>\n",
       "      <th>gearbox</th>\n",
       "      <th>power</th>\n",
       "      <th>model</th>\n",
       "      <th>kilometer</th>\n",
       "      <th>fuel_type</th>\n",
       "      <th>brand</th>\n",
       "      <th>repaired</th>\n",
       "    </tr>\n",
       "  </thead>\n",
       "  <tbody>\n",
       "    <tr>\n",
       "      <th>0</th>\n",
       "      <td>480</td>\n",
       "      <td>sedan</td>\n",
       "      <td>1993</td>\n",
       "      <td>manual</td>\n",
       "      <td>0</td>\n",
       "      <td>golf</td>\n",
       "      <td>150000</td>\n",
       "      <td>petrol</td>\n",
       "      <td>volkswagen</td>\n",
       "      <td>no</td>\n",
       "    </tr>\n",
       "    <tr>\n",
       "      <th>1</th>\n",
       "      <td>18300</td>\n",
       "      <td>coupe</td>\n",
       "      <td>2011</td>\n",
       "      <td>manual</td>\n",
       "      <td>190</td>\n",
       "      <td>golf</td>\n",
       "      <td>125000</td>\n",
       "      <td>petrol</td>\n",
       "      <td>audi</td>\n",
       "      <td>yes</td>\n",
       "    </tr>\n",
       "    <tr>\n",
       "      <th>2</th>\n",
       "      <td>9800</td>\n",
       "      <td>suv</td>\n",
       "      <td>2004</td>\n",
       "      <td>auto</td>\n",
       "      <td>163</td>\n",
       "      <td>grand</td>\n",
       "      <td>125000</td>\n",
       "      <td>petrol</td>\n",
       "      <td>jeep</td>\n",
       "      <td>no</td>\n",
       "    </tr>\n",
       "    <tr>\n",
       "      <th>3</th>\n",
       "      <td>1500</td>\n",
       "      <td>small</td>\n",
       "      <td>2001</td>\n",
       "      <td>manual</td>\n",
       "      <td>75</td>\n",
       "      <td>golf</td>\n",
       "      <td>150000</td>\n",
       "      <td>petrol</td>\n",
       "      <td>volkswagen</td>\n",
       "      <td>no</td>\n",
       "    </tr>\n",
       "    <tr>\n",
       "      <th>4</th>\n",
       "      <td>3600</td>\n",
       "      <td>small</td>\n",
       "      <td>2008</td>\n",
       "      <td>manual</td>\n",
       "      <td>69</td>\n",
       "      <td>fabia</td>\n",
       "      <td>90000</td>\n",
       "      <td>petrol</td>\n",
       "      <td>skoda</td>\n",
       "      <td>no</td>\n",
       "    </tr>\n",
       "  </tbody>\n",
       "</table>\n",
       "</div>"
      ],
      "text/plain": [
       "   price vehicle_type  registration_year gearbox  power  model  kilometer  \\\n",
       "0    480        sedan               1993  manual      0   golf     150000   \n",
       "1  18300        coupe               2011  manual    190   golf     125000   \n",
       "2   9800          suv               2004    auto    163  grand     125000   \n",
       "3   1500        small               2001  manual     75   golf     150000   \n",
       "4   3600        small               2008  manual     69  fabia      90000   \n",
       "\n",
       "  fuel_type       brand repaired  \n",
       "0    petrol  volkswagen       no  \n",
       "1    petrol        audi      yes  \n",
       "2    petrol        jeep       no  \n",
       "3    petrol  volkswagen       no  \n",
       "4    petrol       skoda       no  "
      ]
     },
     "execution_count": 17,
     "metadata": {},
     "output_type": "execute_result"
    }
   ],
   "source": [
    "#Итоговый датасет можно представить в следующем виде\n",
    "df.head()"
   ]
  },
  {
   "cell_type": "code",
   "execution_count": 18,
   "metadata": {},
   "outputs": [
    {
     "name": "stdout",
     "output_type": "stream",
     "text": [
      "<class 'pandas.core.frame.DataFrame'>\n",
      "Int64Index: 354365 entries, 0 to 354368\n",
      "Data columns (total 10 columns):\n",
      " #   Column             Non-Null Count   Dtype \n",
      "---  ------             --------------   ----- \n",
      " 0   price              354365 non-null  int64 \n",
      " 1   vehicle_type       354365 non-null  object\n",
      " 2   registration_year  354365 non-null  int64 \n",
      " 3   gearbox            354365 non-null  object\n",
      " 4   power              354365 non-null  int64 \n",
      " 5   model              354365 non-null  object\n",
      " 6   kilometer          354365 non-null  int64 \n",
      " 7   fuel_type          354365 non-null  object\n",
      " 8   brand              354365 non-null  object\n",
      " 9   repaired           354365 non-null  object\n",
      "dtypes: int64(4), object(6)\n",
      "memory usage: 29.7+ MB\n"
     ]
    }
   ],
   "source": [
    "df.info()"
   ]
  },
  {
   "cell_type": "markdown",
   "metadata": {},
   "source": [
    "Таким образом, можно сделать вывод, что на данном этапе была проведена предобработка данных.\n",
    "Были приведены названия столбцов в соответствии со змеиным регистром\n",
    "\n",
    "Заменили пропуски модой, провели проверку явных и неявных дубликатов, удалили по необходимости.\n",
    "\n",
    "\n",
    "\n",
    "\n",
    "Перейдем к исследовательскому анализу данных"
   ]
  },
  {
   "cell_type": "markdown",
   "metadata": {},
   "source": [
    "### Исследовательский анализ данных"
   ]
  },
  {
   "cell_type": "code",
   "execution_count": 19,
   "metadata": {},
   "outputs": [
    {
     "data": {
      "image/png": "[encoded data removed]",
      "text/plain": [
       "<Figure size 864x432 with 2 Axes>"
      ]
     },
     "metadata": {
      "needs_background": "light"
     },
     "output_type": "display_data"
    },
    {
     "data": {
      "image/png": "[encoded data removed]",
      "text/plain": [
       "<Figure size 864x432 with 2 Axes>"
      ]
     },
     "metadata": {
      "needs_background": "light"
     },
     "output_type": "display_data"
    }
   ],
   "source": [
    "# Список непрерывных столбцов\n",
    "continuous_cols = ['price', 'kilometer']\n",
    "\n",
    "# Для каждого столбца создаём два подграфика: гистограмма и ящик с усами\n",
    "for col in continuous_cols:\n",
    "    fig, axes = plt.subplots(1, 2, figsize=(12, 6))  # Один ряд и два столбца\n",
    "    axes[0].set_title(f'Гистограмма для \"{col}\" в датасете \"df\"')\n",
    "    axes[1].set_title(f'Ящик с усами для \"{col}\" в датасете \"df\"')\n",
    "\n",
    "    # Гистограмма\n",
    "    sns.histplot(\n",
    "        df[col],\n",
    "        stat='density',\n",
    "        common_norm=False,\n",
    "        kde=True,\n",
    "        color='cadetblue',\n",
    "        ec='black',\n",
    "        ax=axes[0]\n",
    "    )\n",
    "    axes[0].set_xlabel(col)\n",
    "    axes[0].set_ylabel('Плотность')\n",
    "\n",
    "    # Диаграмма \"ящик с усами\"\n",
    "    sns.boxplot(\n",
    "        y=df[col],\n",
    "        color='pink',\n",
    "        ax=axes[1]\n",
    "    )\n",
    "    axes[1].set_ylabel(col)\n",
    "\n",
    "    plt.tight_layout()\n",
    "    plt.show()"
   ]
  },
  {
   "cell_type": "markdown",
   "metadata": {},
   "source": [
    "Для столбца price видны выбросы, выходящие за пределы диаграммы. Также можно отметить, что в описательной статистике имелись нулевые значения, поэтому от них необходимо избавиться"
   ]
  },
  {
   "cell_type": "code",
   "execution_count": 20,
   "metadata": {},
   "outputs": [],
   "source": [
    "df = df.query(\"price > 200\") #Отсекли значения меньше 200 евро, т.к. в современных реалиях\n",
    "# маловероятно найти машину по такой стоимости"
   ]
  },
  {
   "cell_type": "code",
   "execution_count": 21,
   "metadata": {},
   "outputs": [
    {
     "data": {
      "text/html": [
       "<div>\n",
       "<style scoped>\n",
       "    .dataframe tbody tr th:only-of-type {\n",
       "        vertical-align: middle;\n",
       "    }\n",
       "\n",
       "    .dataframe tbody tr th {\n",
       "        vertical-align: top;\n",
       "    }\n",
       "\n",
       "    .dataframe thead th {\n",
       "        text-align: right;\n",
       "    }\n",
       "</style>\n",
       "<table border=\"1\" class=\"dataframe\">\n",
       "  <thead>\n",
       "    <tr style=\"text-align: right;\">\n",
       "      <th></th>\n",
       "      <th>price</th>\n",
       "      <th>registration_year</th>\n",
       "      <th>power</th>\n",
       "      <th>kilometer</th>\n",
       "    </tr>\n",
       "  </thead>\n",
       "  <tbody>\n",
       "    <tr>\n",
       "      <th>count</th>\n",
       "      <td>334917.000000</td>\n",
       "      <td>334917.000000</td>\n",
       "      <td>334917.000000</td>\n",
       "      <td>334917.000000</td>\n",
       "    </tr>\n",
       "    <tr>\n",
       "      <th>mean</th>\n",
       "      <td>4669.992094</td>\n",
       "      <td>2003.977920</td>\n",
       "      <td>112.413198</td>\n",
       "      <td>128436.806731</td>\n",
       "    </tr>\n",
       "    <tr>\n",
       "      <th>std</th>\n",
       "      <td>4515.700301</td>\n",
       "      <td>67.384499</td>\n",
       "      <td>187.204936</td>\n",
       "      <td>37164.938112</td>\n",
       "    </tr>\n",
       "    <tr>\n",
       "      <th>min</th>\n",
       "      <td>202.000000</td>\n",
       "      <td>1000.000000</td>\n",
       "      <td>0.000000</td>\n",
       "      <td>5000.000000</td>\n",
       "    </tr>\n",
       "    <tr>\n",
       "      <th>25%</th>\n",
       "      <td>1299.000000</td>\n",
       "      <td>1999.000000</td>\n",
       "      <td>72.000000</td>\n",
       "      <td>125000.000000</td>\n",
       "    </tr>\n",
       "    <tr>\n",
       "      <th>50%</th>\n",
       "      <td>2990.000000</td>\n",
       "      <td>2003.000000</td>\n",
       "      <td>105.000000</td>\n",
       "      <td>150000.000000</td>\n",
       "    </tr>\n",
       "    <tr>\n",
       "      <th>75%</th>\n",
       "      <td>6700.000000</td>\n",
       "      <td>2008.000000</td>\n",
       "      <td>143.000000</td>\n",
       "      <td>150000.000000</td>\n",
       "    </tr>\n",
       "    <tr>\n",
       "      <th>max</th>\n",
       "      <td>20000.000000</td>\n",
       "      <td>9999.000000</td>\n",
       "      <td>20000.000000</td>\n",
       "      <td>150000.000000</td>\n",
       "    </tr>\n",
       "  </tbody>\n",
       "</table>\n",
       "</div>"
      ],
      "text/plain": [
       "               price  registration_year          power      kilometer\n",
       "count  334917.000000      334917.000000  334917.000000  334917.000000\n",
       "mean     4669.992094        2003.977920     112.413198  128436.806731\n",
       "std      4515.700301          67.384499     187.204936   37164.938112\n",
       "min       202.000000        1000.000000       0.000000    5000.000000\n",
       "25%      1299.000000        1999.000000      72.000000  125000.000000\n",
       "50%      2990.000000        2003.000000     105.000000  150000.000000\n",
       "75%      6700.000000        2008.000000     143.000000  150000.000000\n",
       "max     20000.000000        9999.000000   20000.000000  150000.000000"
      ]
     },
     "execution_count": 21,
     "metadata": {},
     "output_type": "execute_result"
    }
   ],
   "source": [
    "df.describe()"
   ]
  },
  {
   "cell_type": "markdown",
   "metadata": {},
   "source": [
    "В значениях пробега имеются выбросы, но их не будем удалять, потому что такие значения пробега также имеют место быть и оказывают влияние на стоимость автомобиля."
   ]
  },
  {
   "cell_type": "code",
   "execution_count": 22,
   "metadata": {},
   "outputs": [
    {
     "data": {
      "image/png": "[encoded data removed]",
      "text/plain": [
       "<Figure size 1008x432 with 2 Axes>"
      ]
     },
     "metadata": {
      "needs_background": "light"
     },
     "output_type": "display_data"
    },
    {
     "data": {
      "image/png": "[encoded data removed]",
      "text/plain": [
       "<Figure size 1008x432 with 2 Axes>"
      ]
     },
     "metadata": {
      "needs_background": "light"
     },
     "output_type": "display_data"
    }
   ],
   "source": [
    "#Построим графики для дискретных признаков: power, registration_year\n",
    "\n",
    "descrete_cols = ['power', 'registration_year']\n",
    "\n",
    "# Выделим 15 наиболее распространенных значений.\n",
    "top_n = 15\n",
    "\n",
    "for column in descrete_cols:\n",
    "    top_values = df[column].value_counts().head(top_n).index\n",
    "\n",
    "    filtered_df = df[df[column].isin(top_values)]\n",
    "\n",
    "    fig, axes = plt.subplots(1, 2, figsize=(14, 6))\n",
    "\n",
    "    # График для самых распростр. значений\n",
    "    sns.countplot(\n",
    "        data=filtered_df,\n",
    "        x=column,\n",
    "        palette=['cadetblue', 'pink', 'grey', 'white'],\n",
    "        ec='black',\n",
    "        ax=axes[0],\n",
    "        order=top_values\n",
    "    )\n",
    "    axes[0].set_title(f'Распределение значений для \"{column}\" (топ-{top_n})')\n",
    "    axes[0].set_xlabel(column)\n",
    "    axes[0].set_ylabel('Частота')\n",
    "    axes[0].tick_params(axis='x', rotation=45)\n",
    "\n",
    "    # Ящик с усами оставим для всех значений, т.к. мы визуализируем данные описательной статистики \n",
    "    sns.boxplot(\n",
    "        data=df,\n",
    "        x=column,\n",
    "        palette=['pink'],\n",
    "        ax=axes[1]\n",
    "    )\n",
    "    axes[1].set_title(f'Диаграмма \"ящик с усами\" для \"{column}\"')\n",
    "    axes[1].set_xlabel(column)\n",
    "\n",
    "    plt.tight_layout()\n",
    "    plt.show()"
   ]
  },
  {
   "cell_type": "markdown",
   "metadata": {},
   "source": [
    "Значение лошадиных сил имеет большой разброс. Однако согласно данным из сети интернет, минимальным значением лошадиных сил может быть 1, а максимальным доходит до 1500, если это не гоночный автомобиль. Так как удаление аномальных значений здесь будет не совсем целесообразно, заменим их на медианное значение, как и значения свыше 1500:"
   ]
  },
  {
   "cell_type": "code",
   "execution_count": 23,
   "metadata": {},
   "outputs": [
    {
     "name": "stdout",
     "output_type": "stream",
     "text": [
      "count    334917.000000\n",
      "mean        119.759113\n",
      "std          55.356767\n",
      "min           1.000000\n",
      "25%          85.000000\n",
      "50%         105.000000\n",
      "75%         143.000000\n",
      "max        1500.000000\n",
      "Name: power, dtype: float64\n"
     ]
    }
   ],
   "source": [
    "# Вычисляем медиану для столбца 'power'\n",
    "median_power = df['power'].median()\n",
    "\n",
    "# Заменяем нулевые значения и значения выше 2000 медианным\n",
    "df['power'] = df['power'].apply(lambda x: median_power if x == 0 or x > 1500 else x)\n",
    "\n",
    "# Проверяем изменения\n",
    "print(df['power'].describe())"
   ]
  },
  {
   "cell_type": "markdown",
   "metadata": {},
   "source": [
    "Также стоит отметить большое количество аномальных значений в столбце год регистрации автомобиля.\n",
    "\n",
    "Автомобиль не может быть зарегестрирован раньше 1886 года, так как это год изобретения автомобили, и даже при таком раскладе вряд ли автомобиль этого года будет представлен на площадке. И также предлагаю отсечь данные больше 2024 года.\n",
    "\n"
   ]
  },
  {
   "cell_type": "code",
   "execution_count": 24,
   "metadata": {},
   "outputs": [
    {
     "name": "stdout",
     "output_type": "stream",
     "text": [
      "count    312975.000000\n",
      "mean       2002.348213\n",
      "std           6.551907\n",
      "min        1910.000000\n",
      "25%        1999.000000\n",
      "50%        2003.000000\n",
      "75%        2007.000000\n",
      "max        2015.000000\n",
      "Name: registration_year, dtype: float64\n"
     ]
    }
   ],
   "source": [
    "df = df.query('1886 < registration_year < 2016')\n",
    "\n",
    "# Проверим результат\n",
    "print(df['registration_year'].describe())"
   ]
  },
  {
   "cell_type": "code",
   "execution_count": 25,
   "metadata": {},
   "outputs": [
    {
     "data": {
      "image/png": "[encoded data removed]",
      "text/plain": [
       "<Figure size 1008x432 with 2 Axes>"
      ]
     },
     "metadata": {
      "needs_background": "light"
     },
     "output_type": "display_data"
    },
    {
     "data": {
      "image/png": "[encoded data removed]",
      "text/plain": [
       "<Figure size 1008x432 with 2 Axes>"
      ]
     },
     "metadata": {
      "needs_background": "light"
     },
     "output_type": "display_data"
    }
   ],
   "source": [
    "# Выделим 15 наиболее распространенных значений.\n",
    "top_n = 15\n",
    "\n",
    "for column in descrete_cols:\n",
    "    top_values = df[column].value_counts().head(top_n).index\n",
    "\n",
    "    filtered_df = df[df[column].isin(top_values)]\n",
    "\n",
    "    fig, axes = plt.subplots(1, 2, figsize=(14, 6))\n",
    "\n",
    "    # График для самых распростр. значений\n",
    "    sns.countplot(\n",
    "        data=filtered_df,\n",
    "        x=column,\n",
    "        palette=['cadetblue', 'pink', 'grey', 'white'],\n",
    "        ec='black',\n",
    "        ax=axes[0],\n",
    "        order=top_values\n",
    "    )\n",
    "    axes[0].set_title(f'Распределение значений для \"{column}\" (топ-{top_n})')\n",
    "    axes[0].set_xlabel(column)\n",
    "    axes[0].set_ylabel('Частота')\n",
    "    axes[0].tick_params(axis='x', rotation=45)\n",
    "\n",
    "    # Ящик с усами оставим для всех значений, т.к. мы визуализируем данные описательной статистики \n",
    "    sns.boxplot(\n",
    "        data=df,\n",
    "        x=column,\n",
    "        palette=['pink'],\n",
    "        ax=axes[1]\n",
    "    )\n",
    "    axes[1].set_title(f'Диаграмма \"ящик с усами\" для \"{column}\"')\n",
    "    axes[1].set_xlabel(column)\n",
    "\n",
    "    plt.tight_layout()\n",
    "    plt.show()\n",
    "   "
   ]
  },
  {
   "cell_type": "markdown",
   "metadata": {},
   "source": [
    "Возможно, графики выглядят не очень информативно, однако самое главное избавиться только от больших аномалий, так как остальные данные важны для обучения модели."
   ]
  },
  {
   "cell_type": "code",
   "execution_count": 26,
   "metadata": {},
   "outputs": [
    {
     "name": "stdout",
     "output_type": "stream",
     "text": [
      "<class 'pandas.core.frame.DataFrame'>\n",
      "Int64Index: 312975 entries, 0 to 354368\n",
      "Data columns (total 10 columns):\n",
      " #   Column             Non-Null Count   Dtype  \n",
      "---  ------             --------------   -----  \n",
      " 0   price              312975 non-null  int64  \n",
      " 1   vehicle_type       312975 non-null  object \n",
      " 2   registration_year  312975 non-null  int64  \n",
      " 3   gearbox            312975 non-null  object \n",
      " 4   power              312975 non-null  float64\n",
      " 5   model              312975 non-null  object \n",
      " 6   kilometer          312975 non-null  int64  \n",
      " 7   fuel_type          312975 non-null  object \n",
      " 8   brand              312975 non-null  object \n",
      " 9   repaired           312975 non-null  object \n",
      "dtypes: float64(1), int64(3), object(6)\n",
      "memory usage: 26.3+ MB\n"
     ]
    }
   ],
   "source": [
    "df.info()"
   ]
  },
  {
   "cell_type": "markdown",
   "metadata": {},
   "source": [
    "Теперь построим графики для категориальных признаков:"
   ]
  },
  {
   "cell_type": "code",
   "execution_count": 27,
   "metadata": {
    "scrolled": false
   },
   "outputs": [
    {
     "data": {
      "image/png": "[encoded data removed]",
      "text/plain": [
       "<Figure size 1440x3240 with 5 Axes>"
      ]
     },
     "metadata": {
      "needs_background": "light"
     },
     "output_type": "display_data"
    }
   ],
   "source": [
    "# Построение графиков попарно\n",
    "cols_cat = ['vehicle_type', 'gearbox', 'fuel_type', 'repaired', 'brand']  # model убрала, так как там огромное разнообразие и график \n",
    "#получается неинформативным\n",
    "\n",
    "# Количество столбцов и строк\n",
    "n_rows = len(cols_cat)\n",
    "\n",
    "fig, axes = plt.subplots(n_rows, 1, figsize=(20, n_rows * 9)) \n",
    "\n",
    "axes = axes.flatten()  \n",
    "\n",
    "# Устанавливаем размер шрифта\n",
    "sns.set_context(\"talk\")  # Устанавливаем контекст для улучшенной видимости текста\n",
    "\n",
    "for i, column in enumerate(cols_cat):\n",
    "    sns.countplot(\n",
    "        data=df,\n",
    "        y=column, \n",
    "        palette='coolwarm',\n",
    "        ec='black',\n",
    "        ax=axes[i]  \n",
    "    )\n",
    "    axes[i].set_title(f'Распределение значений для \"{column}\"', fontsize=18)  # Увеличиваем размер шрифта заголовка\n",
    "    axes[i].set_xlabel('Частота', fontsize=14)  # Увеличиваем размер шрифта для оси X\n",
    "    axes[i].set_ylabel(column, fontsize=14)  # Увеличиваем размер шрифта для оси Y\n",
    "\n",
    "plt.tight_layout()\n",
    "plt.show()"
   ]
  },
  {
   "cell_type": "markdown",
   "metadata": {},
   "source": [
    "Из полученных графиков можно сделать вывод:\n",
    "\n",
    "- Лидирующий тип кузова: седан - классический вариант, далее идет тип small и wagon\n",
    "\n",
    "- Лидирующий тип коробки переключения передач - механика. Хотя мне кажется, сейчас имеется восходящий тренд на автоматическую коробку переключения передач. Но данные такие.\n",
    "\n",
    "- Лидирующий тип топлива - бензин, далее идет сжиженный газ.\n",
    "\n",
    "- Машины, выложенные на сервис чаще не ремонтировались, то есть каких-то неполадок не выявлено. Либо это связано с тем, что владельцы могли скрыть инф-ию, либо это потому, как распределяются у нас значения у признаков модель и марка:\n",
    "\n",
    "- Если говорить о марке автомобиля, то лидирующие позиции занимает volkswagen, затем опель и бмв. С этим можно согласиться, так как volkswagen знаменит своими надежными автомобилями. последнее место занимает отечественный автопром - лада. Сопоставим марки автомобилей и распределение моделей:\n"
   ]
  },
  {
   "cell_type": "code",
   "execution_count": 28,
   "metadata": {},
   "outputs": [
    {
     "data": {
      "text/plain": [
       "golf     38579\n",
       "other    22231\n",
       "3er      18181\n",
       "polo     10950\n",
       "corsa    10341\n",
       "Name: model, dtype: int64"
      ]
     },
     "execution_count": 28,
     "metadata": {},
     "output_type": "execute_result"
    }
   ],
   "source": [
    "df['model'].value_counts().head()"
   ]
  },
  {
   "cell_type": "markdown",
   "metadata": {},
   "source": [
    "Данные подтверждают, что перечисленные выше популярные марки автомобилей, распределились и в топе моделей.\n",
    "Две машины от volkswahen, bmw 3er, opel corsa."
   ]
  },
  {
   "cell_type": "markdown",
   "metadata": {},
   "source": [
    "### Построение матрицы корреляции"
   ]
  },
  {
   "cell_type": "code",
   "execution_count": 29,
   "metadata": {},
   "outputs": [
    {
     "data": {
      "image/png": "[encoded data removed]",
      "text/plain": [
       "<Figure size 1152x648 with 2 Axes>"
      ]
     },
     "metadata": {
      "needs_background": "light"
     },
     "output_type": "display_data"
    }
   ],
   "source": [
    "interval_cols = ['price', 'registration_year','power', 'kilometer','postal_code']\n",
    "\n",
    "corr_matrix = phik_matrix(df, interval_cols=interval_cols)\n",
    "\n",
    "\n",
    "plot_correlation_matrix(\n",
    "    corr_matrix.values,\n",
    "    x_labels = corr_matrix.columns,\n",
    "    y_labels = corr_matrix.index,\n",
    "    vmin = 0, vmax = 1, color_map = 'coolwarm',\n",
    "    title='Матрица корреляции',\n",
    "    fontsize_factor=1.5,\n",
    "    figsize=(16, 9)\n",
    ")\n"
   ]
  },
  {
   "cell_type": "markdown",
   "metadata": {},
   "source": [
    "Вывод по матрице корреляции:\n",
    "\n",
    "Наш целевой признак - стоимость автомобиля. Согласно данной матрице, наблюдается корреляция между стоиомостью и годом регистрации, и с моделью автомобиля. И действительно, в жизни мы тоже в первую очередь обращаем внимание на эти параметры,хотя я бы еще предположила, что может быть корреляция между пробегом и стоимостью, но она слабая.\n",
    "\n",
    "Если смотреть не в разрезе целевого признака, то у параметра модель автомобиля наблюдается сильная корреляция с брендом, что логично, а также с параметрами лошадиных сил, коробки передач.\n",
    "\n",
    "Можем переходить к обучению моделей."
   ]
  },
  {
   "cell_type": "code",
   "execution_count": 30,
   "metadata": {},
   "outputs": [
    {
     "name": "stdout",
     "output_type": "stream",
     "text": [
      "<class 'pandas.core.frame.DataFrame'>\n",
      "Int64Index: 312975 entries, 0 to 354368\n",
      "Data columns (total 10 columns):\n",
      " #   Column             Non-Null Count   Dtype  \n",
      "---  ------             --------------   -----  \n",
      " 0   price              312975 non-null  int64  \n",
      " 1   vehicle_type       312975 non-null  object \n",
      " 2   registration_year  312975 non-null  int64  \n",
      " 3   gearbox            312975 non-null  object \n",
      " 4   power              312975 non-null  float64\n",
      " 5   model              312975 non-null  object \n",
      " 6   kilometer          312975 non-null  int64  \n",
      " 7   fuel_type          312975 non-null  object \n",
      " 8   brand              312975 non-null  object \n",
      " 9   repaired           312975 non-null  object \n",
      "dtypes: float64(1), int64(3), object(6)\n",
      "memory usage: 34.3+ MB\n"
     ]
    }
   ],
   "source": [
    "df.info()\n"
   ]
  },
  {
   "cell_type": "code",
   "execution_count": 31,
   "metadata": {},
   "outputs": [
    {
     "data": {
      "text/plain": [
       "53032"
      ]
     },
     "execution_count": 31,
     "metadata": {},
     "output_type": "execute_result"
    }
   ],
   "source": [
    "df.duplicated().sum()"
   ]
  },
  {
   "cell_type": "code",
   "execution_count": 32,
   "metadata": {},
   "outputs": [],
   "source": [
    "df.drop_duplicates(inplace=True) #удалили дубликаты"
   ]
  },
  {
   "cell_type": "code",
   "execution_count": 33,
   "metadata": {},
   "outputs": [
    {
     "data": {
      "text/plain": [
       "0"
      ]
     },
     "execution_count": 33,
     "metadata": {},
     "output_type": "execute_result"
    }
   ],
   "source": [
    "df.duplicated().sum() #Проверили дубликаты"
   ]
  },
  {
   "cell_type": "code",
   "execution_count": 34,
   "metadata": {},
   "outputs": [
    {
     "data": {
      "text/plain": [
       "(259943, 10)"
      ]
     },
     "execution_count": 34,
     "metadata": {},
     "output_type": "execute_result"
    }
   ],
   "source": [
    "# Выделение целевого признака и разделение выборки:\n",
    "X = df.drop('price', axis=1)\n",
    "y = df['price']\n",
    "\n",
    "# Разбиваем выборку на тренировочную и тестовую\n",
    "X_train, X_test, y_train, y_test = train_test_split(\n",
    "    X,\n",
    "    y,\n",
    "    test_size=TEST_SIZE,\n",
    "    random_state=random_state)\n",
    "\n",
    "df.shape #всё в порядке в процессе разделения"
   ]
  },
  {
   "cell_type": "markdown",
   "metadata": {},
   "source": [
    " \n",
    "`'vehicle_type', 'gearbox', 'model', 'fuel_type', 'brand', 'repaired'` — нужно кодировать с помощью OneHotEncoder, так как здесь нет порядка значений или градации, просто будем кодировать категориальные признаки.\n",
    "Но так как планируется еще использовать и дерево решений, то нужно их  кодировать и Ordinal encoder\n",
    "\n",
    "\n",
    "`registration_year, power, kilometer` - нужно масштабировать.\n",
    "\n",
    "\n",
    "Целевой признак — `price`. \n"
   ]
  },
  {
   "cell_type": "code",
   "execution_count": 35,
   "metadata": {},
   "outputs": [],
   "source": [
    "ohe_columns = ['vehicle_type', 'gearbox', 'model', 'fuel_type', 'brand', 'repaired']\n",
    "ord_columns = ['vehicle_type', 'gearbox', 'model', 'fuel_type', 'brand', 'repaired']\n",
    "num_columns = ['registration_year', 'power', 'kilometer']"
   ]
  },
  {
   "cell_type": "code",
   "execution_count": 36,
   "metadata": {
    "scrolled": false
   },
   "outputs": [],
   "source": [
    "# Мы будем использовать линейную регрессию дерево решений, поэтому проведем подготовку пайплайнов:\n",
    "\n",
    "# Cоздаём пайплайны для подготовки признаков \n",
    "ohe_pipe = Pipeline([\n",
    "    ('ohe', OneHotEncoder(handle_unknown='ignore', sparse_output=False, drop='first'))\n",
    "])\n",
    "\n",
    "ord_pipe = Pipeline([\n",
    "    ('ord', OrdinalEncoder(handle_unknown='use_encoded_value', unknown_value=np.nan)),\n",
    "    ('simpleImputer_after_ord', SimpleImputer(missing_values=np.nan, strategy='most_frequent'))\n",
    "])\n",
    "\n",
    "# Линейная регрессия общий пайплайн\n",
    "data_preprocessor_1 = ColumnTransformer(\n",
    "    [\n",
    "        ('ohe', ohe_pipe, ohe_columns),\n",
    "        ('num', StandardScaler(), num_columns)\n",
    "    ],\n",
    "    remainder='passthrough'\n",
    ")\n",
    "\n",
    "# итоговый линейная регрессия\n",
    "pipe_final_1 = Pipeline([\n",
    "    ('preprocessor', data_preprocessor_1),\n",
    "    ('models', LinearRegression())\n",
    "])\n",
    "\n",
    "# Дерево решений общий пайплайн\n",
    "data_preprocessor_2 = ColumnTransformer(\n",
    "    [\n",
    "        ('ord', ord_pipe, ord_columns),\n",
    "        ('num', StandardScaler(), num_columns)\n",
    "    ],\n",
    "    remainder='passthrough'\n",
    ")\n",
    "\n",
    "# дерево решений итоговый пайплайн\n",
    "pipe_final_2 = Pipeline([\n",
    "    ('preprocessor', data_preprocessor_2),\n",
    "    ('models', RandomForestRegressor(random_state=random_state))\n",
    "])\n",
    "\n",
    "X_train_processed_1 = data_preprocessor_1.fit_transform(X_train)\n",
    "X_test_processed_1 = data_preprocessor_1.transform(X_test)\n",
    "\n",
    "X_train_processed_2 = data_preprocessor_2.fit_transform(X_train)\n",
    "X_test_processed_2 = data_preprocessor_2.transform(X_test)"
   ]
  },
  {
   "cell_type": "code",
   "execution_count": 37,
   "metadata": {
    "scrolled": false
   },
   "outputs": [
    {
     "name": "stdout",
     "output_type": "stream",
     "text": [
      "CPU times: user 13.8 s, sys: 4 s, total: 17.8 s\n",
      "Wall time: 17.7 s\n"
     ]
    }
   ],
   "source": [
    "%%time\n",
    "start_l = time()\n",
    "#Подбор гиперпараметров:\n",
    "\n",
    "linear = pipe_final_1\n",
    "linear.fit(X_train, y_train)\n",
    "end_l = time()\n",
    "time_linear_ed = (end_l-start_l)/60"
   ]
  },
  {
   "cell_type": "code",
   "execution_count": 38,
   "metadata": {},
   "outputs": [
    {
     "name": "stdout",
     "output_type": "stream",
     "text": [
      "RMSE на кросс-валидации : 2825.6398513063614\n"
     ]
    }
   ],
   "source": [
    "scores = cross_val_score(\n",
    "    linear,\n",
    "    X_train,\n",
    "    y_train,\n",
    "    cv=5,\n",
    "    n_jobs=-1,\n",
    "    scoring='neg_root_mean_squared_error'\n",
    ")\n",
    "\n",
    "cv_score_l = sum(scores) / len(scores)\n",
    "print('RMSE на кросс-валидации :', (-1) * cv_score_l)"
   ]
  },
  {
   "cell_type": "markdown",
   "metadata": {},
   "source": [
    "Показатель RMSE на кросс-валидации: 2825\n",
    "Показатель RMSE на тренировочной выборке: 2819\n",
    "\n",
    "Данный показатель выше, чем заявлено по техническому заданию, поэтому будем проверять модель дерева решений:"
   ]
  },
  {
   "cell_type": "code",
   "execution_count": 39,
   "metadata": {},
   "outputs": [
    {
     "name": "stdout",
     "output_type": "stream",
     "text": [
      "Лучшая модель: \n",
      " Pipeline(steps=[('preprocessor',\n",
      "                 ColumnTransformer(remainder='passthrough',\n",
      "                                   transformers=[('ord',\n",
      "                                                  Pipeline(steps=[('ord',\n",
      "                                                                   OrdinalEncoder(handle_unknown='use_encoded_value',\n",
      "                                                                                  unknown_value=nan)),\n",
      "                                                                  ('simpleImputer_after_ord',\n",
      "                                                                   SimpleImputer(strategy='most_frequent'))]),\n",
      "                                                  ['vehicle_type', 'gearbox',\n",
      "                                                   'model', 'fuel_type',\n",
      "                                                   'brand', 'repaired']),\n",
      "                                                 ('num', StandardScaler(),\n",
      "                                                  ['registration_year', 'power',\n",
      "                                                   'kilometer'])])),\n",
      "                ('models',\n",
      "                 RandomForestRegressor(max_depth=7, min_samples_leaf=25,\n",
      "                                       n_estimators=85, random_state=42))])\n",
      "RMSE на кросс-валидации 2192.4416575235855\n"
     ]
    }
   ],
   "source": [
    "# Подбор гиперпараметров\n",
    "tree_par = {\n",
    "    'models': [RandomForestRegressor(random_state=random_state)],\n",
    "    'models__n_estimators': range(50, 100, 5),\n",
    "    'models__max_depth': range(3, 8),\n",
    "    'models__min_samples_leaf': range(5, 50, 5),\n",
    "}\n",
    "\n",
    "tree = RandomizedSearchCV(\n",
    "    pipe_final_2,\n",
    "    tree_par,\n",
    "    scoring='neg_root_mean_squared_error',\n",
    "    n_jobs=-1,\n",
    "    n_iter=10,\n",
    "    cv=5,\n",
    "    verbose=0,\n",
    "    random_state=random_state,\n",
    ")\n",
    "\n",
    "tree.fit(X_train, y_train)\n",
    "\n",
    "# выведите лучшие гиперпараметры\n",
    "print('Лучшая модель: \\n', tree.best_estimator_)\n",
    "# выведите лучшую метрику качества\n",
    "print('RMSE на кросс-валидации', (-1) * tree.best_score_)"
   ]
  },
  {
   "cell_type": "code",
   "execution_count": 40,
   "metadata": {},
   "outputs": [
    {
     "name": "stdout",
     "output_type": "stream",
     "text": [
      "CPU times: user 15.4 s, sys: 0 ns, total: 15.4 s\n",
      "Wall time: 15.6 s\n"
     ]
    }
   ],
   "source": [
    "%%time\n",
    "start_t = time()\n",
    "tree.best_estimator_.fit(X_train, y_train)\n",
    "end_t=time()\n",
    "\n",
    "time_random_ed = (end_t - start_t)/60"
   ]
  },
  {
   "cell_type": "markdown",
   "metadata": {},
   "source": [
    "### LGBM (LightGBM)\n",
    "\n",
    "Библиотека машинного обучения для задач классификации, регрессии и ранжирования, основанная на модели градиентного бустинга на решающих деревьях.\n",
    "\n",
    "Попробуем применить её, чтобы провести градиентный бустинг и улучшить показатели."
   ]
  },
  {
   "cell_type": "code",
   "execution_count": 41,
   "metadata": {},
   "outputs": [
    {
     "name": "stdout",
     "output_type": "stream",
     "text": [
      "Fitting 5 folds for each of 10 candidates, totalling 50 fits\n",
      "[CV 1/5] END models=LGBMRegressor(random_state=42, verbose=-1), models__max_depth=7, models__n_estimators=75, models__num_leaves=15;, score=-1918.376 total time=   2.4s\n",
      "[CV 2/5] END models=LGBMRegressor(random_state=42, verbose=-1), models__max_depth=7, models__n_estimators=75, models__num_leaves=15;, score=-1874.094 total time=   2.3s\n",
      "[CV 3/5] END models=LGBMRegressor(random_state=42, verbose=-1), models__max_depth=7, models__n_estimators=75, models__num_leaves=15;, score=-1895.649 total time=   2.4s\n",
      "[CV 4/5] END models=LGBMRegressor(random_state=42, verbose=-1), models__max_depth=7, models__n_estimators=75, models__num_leaves=15;, score=-1890.231 total time=   2.5s\n",
      "[CV 5/5] END models=LGBMRegressor(random_state=42, verbose=-1), models__max_depth=7, models__n_estimators=75, models__num_leaves=15;, score=-1867.178 total time=   2.6s\n",
      "[CV 1/5] END models=LGBMRegressor(random_state=42, verbose=-1), models__max_depth=7, models__n_estimators=95, models__num_leaves=20;, score=-1857.759 total time=   3.2s\n",
      "[CV 2/5] END models=LGBMRegressor(random_state=42, verbose=-1), models__max_depth=7, models__n_estimators=95, models__num_leaves=20;, score=-1816.991 total time=   3.1s\n",
      "[CV 3/5] END models=LGBMRegressor(random_state=42, verbose=-1), models__max_depth=7, models__n_estimators=95, models__num_leaves=20;, score=-1841.456 total time=   3.2s\n",
      "[CV 4/5] END models=LGBMRegressor(random_state=42, verbose=-1), models__max_depth=7, models__n_estimators=95, models__num_leaves=20;, score=-1828.997 total time=   3.2s\n",
      "[CV 5/5] END models=LGBMRegressor(random_state=42, verbose=-1), models__max_depth=7, models__n_estimators=95, models__num_leaves=20;, score=-1809.218 total time=   3.0s\n",
      "[CV 1/5] END models=LGBMRegressor(random_state=42, verbose=-1), models__max_depth=4, models__n_estimators=65, models__num_leaves=5;, score=-2142.259 total time=   1.7s\n",
      "[CV 2/5] END models=LGBMRegressor(random_state=42, verbose=-1), models__max_depth=4, models__n_estimators=65, models__num_leaves=5;, score=-2104.819 total time=   1.7s\n",
      "[CV 3/5] END models=LGBMRegressor(random_state=42, verbose=-1), models__max_depth=4, models__n_estimators=65, models__num_leaves=5;, score=-2131.738 total time=   1.7s\n",
      "[CV 4/5] END models=LGBMRegressor(random_state=42, verbose=-1), models__max_depth=4, models__n_estimators=65, models__num_leaves=5;, score=-2128.797 total time=   2.0s\n",
      "[CV 5/5] END models=LGBMRegressor(random_state=42, verbose=-1), models__max_depth=4, models__n_estimators=65, models__num_leaves=5;, score=-2091.393 total time=   1.7s\n",
      "[CV 1/5] END models=LGBMRegressor(random_state=42, verbose=-1), models__max_depth=3, models__n_estimators=65, models__num_leaves=20;, score=-2082.552 total time=   1.9s\n",
      "[CV 2/5] END models=LGBMRegressor(random_state=42, verbose=-1), models__max_depth=3, models__n_estimators=65, models__num_leaves=20;, score=-2037.172 total time=   1.7s\n",
      "[CV 3/5] END models=LGBMRegressor(random_state=42, verbose=-1), models__max_depth=3, models__n_estimators=65, models__num_leaves=20;, score=-2060.894 total time=   1.7s\n",
      "[CV 4/5] END models=LGBMRegressor(random_state=42, verbose=-1), models__max_depth=3, models__n_estimators=65, models__num_leaves=20;, score=-2066.187 total time=   1.8s\n",
      "[CV 5/5] END models=LGBMRegressor(random_state=42, verbose=-1), models__max_depth=3, models__n_estimators=65, models__num_leaves=20;, score=-2027.608 total time=   1.8s\n",
      "[CV 1/5] END models=LGBMRegressor(random_state=42, verbose=-1), models__max_depth=7, models__n_estimators=80, models__num_leaves=10;, score=-1961.483 total time=   2.2s\n",
      "[CV 2/5] END models=LGBMRegressor(random_state=42, verbose=-1), models__max_depth=7, models__n_estimators=80, models__num_leaves=10;, score=-1919.030 total time=   2.2s\n",
      "[CV 3/5] END models=LGBMRegressor(random_state=42, verbose=-1), models__max_depth=7, models__n_estimators=80, models__num_leaves=10;, score=-1940.275 total time=   2.3s\n",
      "[CV 4/5] END models=LGBMRegressor(random_state=42, verbose=-1), models__max_depth=7, models__n_estimators=80, models__num_leaves=10;, score=-1940.263 total time=   2.5s\n",
      "[CV 5/5] END models=LGBMRegressor(random_state=42, verbose=-1), models__max_depth=7, models__n_estimators=80, models__num_leaves=10;, score=-1909.376 total time=   2.2s\n",
      "[CV 1/5] END models=LGBMRegressor(random_state=42, verbose=-1), models__max_depth=4, models__n_estimators=85, models__num_leaves=25;, score=-1936.718 total time=   2.4s\n",
      "[CV 2/5] END models=LGBMRegressor(random_state=42, verbose=-1), models__max_depth=4, models__n_estimators=85, models__num_leaves=25;, score=-1889.236 total time=   2.4s\n",
      "[CV 3/5] END models=LGBMRegressor(random_state=42, verbose=-1), models__max_depth=4, models__n_estimators=85, models__num_leaves=25;, score=-1917.511 total time=   3.3s\n",
      "[CV 4/5] END models=LGBMRegressor(random_state=42, verbose=-1), models__max_depth=4, models__n_estimators=85, models__num_leaves=25;, score=-1911.141 total time=   2.5s\n",
      "[CV 5/5] END models=LGBMRegressor(random_state=42, verbose=-1), models__max_depth=4, models__n_estimators=85, models__num_leaves=25;, score=-1880.898 total time=   2.3s\n",
      "[CV 1/5] END models=LGBMRegressor(random_state=42, verbose=-1), models__max_depth=6, models__n_estimators=80, models__num_leaves=10;, score=-1961.251 total time=   2.1s\n",
      "[CV 2/5] END models=LGBMRegressor(random_state=42, verbose=-1), models__max_depth=6, models__n_estimators=80, models__num_leaves=10;, score=-1921.134 total time=   2.5s\n",
      "[CV 3/5] END models=LGBMRegressor(random_state=42, verbose=-1), models__max_depth=6, models__n_estimators=80, models__num_leaves=10;, score=-1937.820 total time=   2.3s\n",
      "[CV 4/5] END models=LGBMRegressor(random_state=42, verbose=-1), models__max_depth=6, models__n_estimators=80, models__num_leaves=10;, score=-1942.800 total time=   2.3s\n",
      "[CV 5/5] END models=LGBMRegressor(random_state=42, verbose=-1), models__max_depth=6, models__n_estimators=80, models__num_leaves=10;, score=-1913.813 total time=   2.3s\n",
      "[CV 1/5] END models=LGBMRegressor(random_state=42, verbose=-1), models__max_depth=7, models__n_estimators=95, models__num_leaves=35;, score=-1811.656 total time=   3.7s\n",
      "[CV 2/5] END models=LGBMRegressor(random_state=42, verbose=-1), models__max_depth=7, models__n_estimators=95, models__num_leaves=35;, score=-1775.503 total time=   3.5s\n",
      "[CV 3/5] END models=LGBMRegressor(random_state=42, verbose=-1), models__max_depth=7, models__n_estimators=95, models__num_leaves=35;, score=-1796.239 total time=   4.6s\n",
      "[CV 4/5] END models=LGBMRegressor(random_state=42, verbose=-1), models__max_depth=7, models__n_estimators=95, models__num_leaves=35;, score=-1787.881 total time=   3.8s\n",
      "[CV 5/5] END models=LGBMRegressor(random_state=42, verbose=-1), models__max_depth=7, models__n_estimators=95, models__num_leaves=35;, score=-1768.526 total time=   3.7s\n",
      "[CV 1/5] END models=LGBMRegressor(random_state=42, verbose=-1), models__max_depth=5, models__n_estimators=95, models__num_leaves=40;, score=-1855.385 total time=   3.1s\n",
      "[CV 2/5] END models=LGBMRegressor(random_state=42, verbose=-1), models__max_depth=5, models__n_estimators=95, models__num_leaves=40;, score=-1822.109 total time=   3.0s\n",
      "[CV 3/5] END models=LGBMRegressor(random_state=42, verbose=-1), models__max_depth=5, models__n_estimators=95, models__num_leaves=40;, score=-1841.708 total time=   3.2s\n",
      "[CV 4/5] END models=LGBMRegressor(random_state=42, verbose=-1), models__max_depth=5, models__n_estimators=95, models__num_leaves=40;, score=-1829.013 total time=   3.2s\n",
      "[CV 5/5] END models=LGBMRegressor(random_state=42, verbose=-1), models__max_depth=5, models__n_estimators=95, models__num_leaves=40;, score=-1808.811 total time=   3.6s\n",
      "[CV 1/5] END models=LGBMRegressor(random_state=42, verbose=-1), models__max_depth=6, models__n_estimators=65, models__num_leaves=5;, score=-2142.259 total time=   1.7s\n",
      "[CV 2/5] END models=LGBMRegressor(random_state=42, verbose=-1), models__max_depth=6, models__n_estimators=65, models__num_leaves=5;, score=-2104.819 total time=   1.7s\n",
      "[CV 3/5] END models=LGBMRegressor(random_state=42, verbose=-1), models__max_depth=6, models__n_estimators=65, models__num_leaves=5;, score=-2131.738 total time=   1.6s\n",
      "[CV 4/5] END models=LGBMRegressor(random_state=42, verbose=-1), models__max_depth=6, models__n_estimators=65, models__num_leaves=5;, score=-2128.797 total time=   1.6s\n",
      "[CV 5/5] END models=LGBMRegressor(random_state=42, verbose=-1), models__max_depth=6, models__n_estimators=65, models__num_leaves=5;, score=-2091.393 total time=   1.6s\n"
     ]
    },
    {
     "data": {
      "text/html": [
       "<style>#sk-container-id-1 {\n",
       "  /* Definition of color scheme common for light and dark mode */\n",
       "  --sklearn-color-text: #000;\n",
       "  --sklearn-color-text-muted: #666;\n",
       "  --sklearn-color-line: gray;\n",
       "  /* Definition of color scheme for unfitted estimators */\n",
       "  --sklearn-color-unfitted-level-0: #fff5e6;\n",
       "  --sklearn-color-unfitted-level-1: #f6e4d2;\n",
       "  --sklearn-color-unfitted-level-2: #ffe0b3;\n",
       "  --sklearn-color-unfitted-level-3: chocolate;\n",
       "  /* Definition of color scheme for fitted estimators */\n",
       "  --sklearn-color-fitted-level-0: #f0f8ff;\n",
       "  --sklearn-color-fitted-level-1: #d4ebff;\n",
       "  --sklearn-color-fitted-level-2: #b3dbfd;\n",
       "  --sklearn-color-fitted-level-3: cornflowerblue;\n",
       "\n",
       "  /* Specific color for light theme */\n",
       "  --sklearn-color-text-on-default-background: var(--sg-text-color, var(--theme-code-foreground, var(--jp-content-font-color1, black)));\n",
       "  --sklearn-color-background: var(--sg-background-color, var(--theme-background, var(--jp-layout-color0, white)));\n",
       "  --sklearn-color-border-box: var(--sg-text-color, var(--theme-code-foreground, var(--jp-content-font-color1, black)));\n",
       "  --sklearn-color-icon: #696969;\n",
       "\n",
       "  @media (prefers-color-scheme: dark) {\n",
       "    /* Redefinition of color scheme for dark theme */\n",
       "    --sklearn-color-text-on-default-background: var(--sg-text-color, var(--theme-code-foreground, var(--jp-content-font-color1, white)));\n",
       "    --sklearn-color-background: var(--sg-background-color, var(--theme-background, var(--jp-layout-color0, #111)));\n",
       "    --sklearn-color-border-box: var(--sg-text-color, var(--theme-code-foreground, var(--jp-content-font-color1, white)));\n",
       "    --sklearn-color-icon: #878787;\n",
       "  }\n",
       "}\n",
       "\n",
       "#sk-container-id-1 {\n",
       "  color: var(--sklearn-color-text);\n",
       "}\n",
       "\n",
       "#sk-container-id-1 pre {\n",
       "  padding: 0;\n",
       "}\n",
       "\n",
       "#sk-container-id-1 input.sk-hidden--visually {\n",
       "  border: 0;\n",
       "  clip: rect(1px 1px 1px 1px);\n",
       "  clip: rect(1px, 1px, 1px, 1px);\n",
       "  height: 1px;\n",
       "  margin: -1px;\n",
       "  overflow: hidden;\n",
       "  padding: 0;\n",
       "  position: absolute;\n",
       "  width: 1px;\n",
       "}\n",
       "\n",
       "#sk-container-id-1 div.sk-dashed-wrapped {\n",
       "  border: 1px dashed var(--sklearn-color-line);\n",
       "  margin: 0 0.4em 0.5em 0.4em;\n",
       "  box-sizing: border-box;\n",
       "  padding-bottom: 0.4em;\n",
       "  background-color: var(--sklearn-color-background);\n",
       "}\n",
       "\n",
       "#sk-container-id-1 div.sk-container {\n",
       "  /* jupyter's `normalize.less` sets `[hidden] { display: none; }`\n",
       "     but bootstrap.min.css set `[hidden] { display: none !important; }`\n",
       "     so we also need the `!important` here to be able to override the\n",
       "     default hidden behavior on the sphinx rendered scikit-learn.org.\n",
       "     See: https://github.com/scikit-learn/scikit-learn/issues/21755 */\n",
       "  display: inline-block !important;\n",
       "  position: relative;\n",
       "}\n",
       "\n",
       "#sk-container-id-1 div.sk-text-repr-fallback {\n",
       "  display: none;\n",
       "}\n",
       "\n",
       "div.sk-parallel-item,\n",
       "div.sk-serial,\n",
       "div.sk-item {\n",
       "  /* draw centered vertical line to link estimators */\n",
       "  background-image: linear-gradient(var(--sklearn-color-text-on-default-background), var(--sklearn-color-text-on-default-background));\n",
       "  background-size: 2px 100%;\n",
       "  background-repeat: no-repeat;\n",
       "  background-position: center center;\n",
       "}\n",
       "\n",
       "/* Parallel-specific style estimator block */\n",
       "\n",
       "#sk-container-id-1 div.sk-parallel-item::after {\n",
       "  content: \"\";\n",
       "  width: 100%;\n",
       "  border-bottom: 2px solid var(--sklearn-color-text-on-default-background);\n",
       "  flex-grow: 1;\n",
       "}\n",
       "\n",
       "#sk-container-id-1 div.sk-parallel {\n",
       "  display: flex;\n",
       "  align-items: stretch;\n",
       "  justify-content: center;\n",
       "  background-color: var(--sklearn-color-background);\n",
       "  position: relative;\n",
       "}\n",
       "\n",
       "#sk-container-id-1 div.sk-parallel-item {\n",
       "  display: flex;\n",
       "  flex-direction: column;\n",
       "}\n",
       "\n",
       "#sk-container-id-1 div.sk-parallel-item:first-child::after {\n",
       "  align-self: flex-end;\n",
       "  width: 50%;\n",
       "}\n",
       "\n",
       "#sk-container-id-1 div.sk-parallel-item:last-child::after {\n",
       "  align-self: flex-start;\n",
       "  width: 50%;\n",
       "}\n",
       "\n",
       "#sk-container-id-1 div.sk-parallel-item:only-child::after {\n",
       "  width: 0;\n",
       "}\n",
       "\n",
       "/* Serial-specific style estimator block */\n",
       "\n",
       "#sk-container-id-1 div.sk-serial {\n",
       "  display: flex;\n",
       "  flex-direction: column;\n",
       "  align-items: center;\n",
       "  background-color: var(--sklearn-color-background);\n",
       "  padding-right: 1em;\n",
       "  padding-left: 1em;\n",
       "}\n",
       "\n",
       "\n",
       "/* Toggleable style: style used for estimator/Pipeline/ColumnTransformer box that is\n",
       "clickable and can be expanded/collapsed.\n",
       "- Pipeline and ColumnTransformer use this feature and define the default style\n",
       "- Estimators will overwrite some part of the style using the `sk-estimator` class\n",
       "*/\n",
       "\n",
       "/* Pipeline and ColumnTransformer style (default) */\n",
       "\n",
       "#sk-container-id-1 div.sk-toggleable {\n",
       "  /* Default theme specific background. It is overwritten whether we have a\n",
       "  specific estimator or a Pipeline/ColumnTransformer */\n",
       "  background-color: var(--sklearn-color-background);\n",
       "}\n",
       "\n",
       "/* Toggleable label */\n",
       "#sk-container-id-1 label.sk-toggleable__label {\n",
       "  cursor: pointer;\n",
       "  display: flex;\n",
       "  width: 100%;\n",
       "  margin-bottom: 0;\n",
       "  padding: 0.5em;\n",
       "  box-sizing: border-box;\n",
       "  text-align: center;\n",
       "  align-items: start;\n",
       "  justify-content: space-between;\n",
       "  gap: 0.5em;\n",
       "}\n",
       "\n",
       "#sk-container-id-1 label.sk-toggleable__label .caption {\n",
       "  font-size: 0.6rem;\n",
       "  font-weight: lighter;\n",
       "  color: var(--sklearn-color-text-muted);\n",
       "}\n",
       "\n",
       "#sk-container-id-1 label.sk-toggleable__label-arrow:before {\n",
       "  /* Arrow on the left of the label */\n",
       "  content: \"▸\";\n",
       "  float: left;\n",
       "  margin-right: 0.25em;\n",
       "  color: var(--sklearn-color-icon);\n",
       "}\n",
       "\n",
       "#sk-container-id-1 label.sk-toggleable__label-arrow:hover:before {\n",
       "  color: var(--sklearn-color-text);\n",
       "}\n",
       "\n",
       "/* Toggleable content - dropdown */\n",
       "\n",
       "#sk-container-id-1 div.sk-toggleable__content {\n",
       "  max-height: 0;\n",
       "  max-width: 0;\n",
       "  overflow: hidden;\n",
       "  text-align: left;\n",
       "  /* unfitted */\n",
       "  background-color: var(--sklearn-color-unfitted-level-0);\n",
       "}\n",
       "\n",
       "#sk-container-id-1 div.sk-toggleable__content.fitted {\n",
       "  /* fitted */\n",
       "  background-color: var(--sklearn-color-fitted-level-0);\n",
       "}\n",
       "\n",
       "#sk-container-id-1 div.sk-toggleable__content pre {\n",
       "  margin: 0.2em;\n",
       "  border-radius: 0.25em;\n",
       "  color: var(--sklearn-color-text);\n",
       "  /* unfitted */\n",
       "  background-color: var(--sklearn-color-unfitted-level-0);\n",
       "}\n",
       "\n",
       "#sk-container-id-1 div.sk-toggleable__content.fitted pre {\n",
       "  /* unfitted */\n",
       "  background-color: var(--sklearn-color-fitted-level-0);\n",
       "}\n",
       "\n",
       "#sk-container-id-1 input.sk-toggleable__control:checked~div.sk-toggleable__content {\n",
       "  /* Expand drop-down */\n",
       "  max-height: 200px;\n",
       "  max-width: 100%;\n",
       "  overflow: auto;\n",
       "}\n",
       "\n",
       "#sk-container-id-1 input.sk-toggleable__control:checked~label.sk-toggleable__label-arrow:before {\n",
       "  content: \"▾\";\n",
       "}\n",
       "\n",
       "/* Pipeline/ColumnTransformer-specific style */\n",
       "\n",
       "#sk-container-id-1 div.sk-label input.sk-toggleable__control:checked~label.sk-toggleable__label {\n",
       "  color: var(--sklearn-color-text);\n",
       "  background-color: var(--sklearn-color-unfitted-level-2);\n",
       "}\n",
       "\n",
       "#sk-container-id-1 div.sk-label.fitted input.sk-toggleable__control:checked~label.sk-toggleable__label {\n",
       "  background-color: var(--sklearn-color-fitted-level-2);\n",
       "}\n",
       "\n",
       "/* Estimator-specific style */\n",
       "\n",
       "/* Colorize estimator box */\n",
       "#sk-container-id-1 div.sk-estimator input.sk-toggleable__control:checked~label.sk-toggleable__label {\n",
       "  /* unfitted */\n",
       "  background-color: var(--sklearn-color-unfitted-level-2);\n",
       "}\n",
       "\n",
       "#sk-container-id-1 div.sk-estimator.fitted input.sk-toggleable__control:checked~label.sk-toggleable__label {\n",
       "  /* fitted */\n",
       "  background-color: var(--sklearn-color-fitted-level-2);\n",
       "}\n",
       "\n",
       "#sk-container-id-1 div.sk-label label.sk-toggleable__label,\n",
       "#sk-container-id-1 div.sk-label label {\n",
       "  /* The background is the default theme color */\n",
       "  color: var(--sklearn-color-text-on-default-background);\n",
       "}\n",
       "\n",
       "/* On hover, darken the color of the background */\n",
       "#sk-container-id-1 div.sk-label:hover label.sk-toggleable__label {\n",
       "  color: var(--sklearn-color-text);\n",
       "  background-color: var(--sklearn-color-unfitted-level-2);\n",
       "}\n",
       "\n",
       "/* Label box, darken color on hover, fitted */\n",
       "#sk-container-id-1 div.sk-label.fitted:hover label.sk-toggleable__label.fitted {\n",
       "  color: var(--sklearn-color-text);\n",
       "  background-color: var(--sklearn-color-fitted-level-2);\n",
       "}\n",
       "\n",
       "/* Estimator label */\n",
       "\n",
       "#sk-container-id-1 div.sk-label label {\n",
       "  font-family: monospace;\n",
       "  font-weight: bold;\n",
       "  display: inline-block;\n",
       "  line-height: 1.2em;\n",
       "}\n",
       "\n",
       "#sk-container-id-1 div.sk-label-container {\n",
       "  text-align: center;\n",
       "}\n",
       "\n",
       "/* Estimator-specific */\n",
       "#sk-container-id-1 div.sk-estimator {\n",
       "  font-family: monospace;\n",
       "  border: 1px dotted var(--sklearn-color-border-box);\n",
       "  border-radius: 0.25em;\n",
       "  box-sizing: border-box;\n",
       "  margin-bottom: 0.5em;\n",
       "  /* unfitted */\n",
       "  background-color: var(--sklearn-color-unfitted-level-0);\n",
       "}\n",
       "\n",
       "#sk-container-id-1 div.sk-estimator.fitted {\n",
       "  /* fitted */\n",
       "  background-color: var(--sklearn-color-fitted-level-0);\n",
       "}\n",
       "\n",
       "/* on hover */\n",
       "#sk-container-id-1 div.sk-estimator:hover {\n",
       "  /* unfitted */\n",
       "  background-color: var(--sklearn-color-unfitted-level-2);\n",
       "}\n",
       "\n",
       "#sk-container-id-1 div.sk-estimator.fitted:hover {\n",
       "  /* fitted */\n",
       "  background-color: var(--sklearn-color-fitted-level-2);\n",
       "}\n",
       "\n",
       "/* Specification for estimator info (e.g. \"i\" and \"?\") */\n",
       "\n",
       "/* Common style for \"i\" and \"?\" */\n",
       "\n",
       ".sk-estimator-doc-link,\n",
       "a:link.sk-estimator-doc-link,\n",
       "a:visited.sk-estimator-doc-link {\n",
       "  float: right;\n",
       "  font-size: smaller;\n",
       "  line-height: 1em;\n",
       "  font-family: monospace;\n",
       "  background-color: var(--sklearn-color-background);\n",
       "  border-radius: 1em;\n",
       "  height: 1em;\n",
       "  width: 1em;\n",
       "  text-decoration: none !important;\n",
       "  margin-left: 0.5em;\n",
       "  text-align: center;\n",
       "  /* unfitted */\n",
       "  border: var(--sklearn-color-unfitted-level-1) 1pt solid;\n",
       "  color: var(--sklearn-color-unfitted-level-1);\n",
       "}\n",
       "\n",
       ".sk-estimator-doc-link.fitted,\n",
       "a:link.sk-estimator-doc-link.fitted,\n",
       "a:visited.sk-estimator-doc-link.fitted {\n",
       "  /* fitted */\n",
       "  border: var(--sklearn-color-fitted-level-1) 1pt solid;\n",
       "  color: var(--sklearn-color-fitted-level-1);\n",
       "}\n",
       "\n",
       "/* On hover */\n",
       "div.sk-estimator:hover .sk-estimator-doc-link:hover,\n",
       ".sk-estimator-doc-link:hover,\n",
       "div.sk-label-container:hover .sk-estimator-doc-link:hover,\n",
       ".sk-estimator-doc-link:hover {\n",
       "  /* unfitted */\n",
       "  background-color: var(--sklearn-color-unfitted-level-3);\n",
       "  color: var(--sklearn-color-background);\n",
       "  text-decoration: none;\n",
       "}\n",
       "\n",
       "div.sk-estimator.fitted:hover .sk-estimator-doc-link.fitted:hover,\n",
       ".sk-estimator-doc-link.fitted:hover,\n",
       "div.sk-label-container:hover .sk-estimator-doc-link.fitted:hover,\n",
       ".sk-estimator-doc-link.fitted:hover {\n",
       "  /* fitted */\n",
       "  background-color: var(--sklearn-color-fitted-level-3);\n",
       "  color: var(--sklearn-color-background);\n",
       "  text-decoration: none;\n",
       "}\n",
       "\n",
       "/* Span, style for the box shown on hovering the info icon */\n",
       ".sk-estimator-doc-link span {\n",
       "  display: none;\n",
       "  z-index: 9999;\n",
       "  position: relative;\n",
       "  font-weight: normal;\n",
       "  right: .2ex;\n",
       "  padding: .5ex;\n",
       "  margin: .5ex;\n",
       "  width: min-content;\n",
       "  min-width: 20ex;\n",
       "  max-width: 50ex;\n",
       "  color: var(--sklearn-color-text);\n",
       "  box-shadow: 2pt 2pt 4pt #999;\n",
       "  /* unfitted */\n",
       "  background: var(--sklearn-color-unfitted-level-0);\n",
       "  border: .5pt solid var(--sklearn-color-unfitted-level-3);\n",
       "}\n",
       "\n",
       ".sk-estimator-doc-link.fitted span {\n",
       "  /* fitted */\n",
       "  background: var(--sklearn-color-fitted-level-0);\n",
       "  border: var(--sklearn-color-fitted-level-3);\n",
       "}\n",
       "\n",
       ".sk-estimator-doc-link:hover span {\n",
       "  display: block;\n",
       "}\n",
       "\n",
       "/* \"?\"-specific style due to the `<a>` HTML tag */\n",
       "\n",
       "#sk-container-id-1 a.estimator_doc_link {\n",
       "  float: right;\n",
       "  font-size: 1rem;\n",
       "  line-height: 1em;\n",
       "  font-family: monospace;\n",
       "  background-color: var(--sklearn-color-background);\n",
       "  border-radius: 1rem;\n",
       "  height: 1rem;\n",
       "  width: 1rem;\n",
       "  text-decoration: none;\n",
       "  /* unfitted */\n",
       "  color: var(--sklearn-color-unfitted-level-1);\n",
       "  border: var(--sklearn-color-unfitted-level-1) 1pt solid;\n",
       "}\n",
       "\n",
       "#sk-container-id-1 a.estimator_doc_link.fitted {\n",
       "  /* fitted */\n",
       "  border: var(--sklearn-color-fitted-level-1) 1pt solid;\n",
       "  color: var(--sklearn-color-fitted-level-1);\n",
       "}\n",
       "\n",
       "/* On hover */\n",
       "#sk-container-id-1 a.estimator_doc_link:hover {\n",
       "  /* unfitted */\n",
       "  background-color: var(--sklearn-color-unfitted-level-3);\n",
       "  color: var(--sklearn-color-background);\n",
       "  text-decoration: none;\n",
       "}\n",
       "\n",
       "#sk-container-id-1 a.estimator_doc_link.fitted:hover {\n",
       "  /* fitted */\n",
       "  background-color: var(--sklearn-color-fitted-level-3);\n",
       "}\n",
       "</style><div id=\"sk-container-id-1\" class=\"sk-top-container\"><div class=\"sk-text-repr-fallback\"><pre>RandomizedSearchCV(cv=5,\n",
       "                   estimator=Pipeline(steps=[(&#x27;preprocessor&#x27;,\n",
       "                                              ColumnTransformer(remainder=&#x27;passthrough&#x27;,\n",
       "                                                                transformers=[(&#x27;ord&#x27;,\n",
       "                                                                               Pipeline(steps=[(&#x27;ord&#x27;,\n",
       "                                                                                                OrdinalEncoder(handle_unknown=&#x27;use_encoded_value&#x27;,\n",
       "                                                                                                               unknown_value=nan)),\n",
       "                                                                                               (&#x27;simpleImputer_after_ord&#x27;,\n",
       "                                                                                                SimpleImputer(strategy=&#x27;most_frequent&#x27;))]),\n",
       "                                                                               [&#x27;vehicle_type&#x27;,\n",
       "                                                                                &#x27;gearbox&#x27;,\n",
       "                                                                                &#x27;model&#x27;,\n",
       "                                                                                &#x27;fuel_type&#x27;,\n",
       "                                                                                &#x27;brand&#x27;,\n",
       "                                                                                &#x27;rep...\n",
       "                                                                               [&#x27;registration_year&#x27;,\n",
       "                                                                                &#x27;power&#x27;,\n",
       "                                                                                &#x27;kilometer&#x27;])])),\n",
       "                                             (&#x27;models&#x27;,\n",
       "                                              LGBMRegressor(random_state=42,\n",
       "                                                            verbose=-1))]),\n",
       "                   n_jobs=-1,\n",
       "                   param_distributions={&#x27;models&#x27;: [LGBMRegressor(random_state=42,\n",
       "                                                                 verbose=-1)],\n",
       "                                        &#x27;models__max_depth&#x27;: range(3, 8),\n",
       "                                        &#x27;models__n_estimators&#x27;: range(50, 100, 5),\n",
       "                                        &#x27;models__num_leaves&#x27;: range(5, 50, 5)},\n",
       "                   random_state=42, scoring=&#x27;neg_root_mean_squared_error&#x27;,\n",
       "                   verbose=5)</pre><b>In a Jupyter environment, please rerun this cell to show the HTML representation or trust the notebook. <br />On GitHub, the HTML representation is unable to render, please try loading this page with nbviewer.org.</b></div><div class=\"sk-container\" hidden><div class=\"sk-item sk-dashed-wrapped\"><div class=\"sk-label-container\"><div class=\"sk-label fitted sk-toggleable\"><input class=\"sk-toggleable__control sk-hidden--visually\" id=\"sk-estimator-id-1\" type=\"checkbox\" ><label for=\"sk-estimator-id-1\" class=\"sk-toggleable__label fitted sk-toggleable__label-arrow\"><div><div>RandomizedSearchCV</div></div><div><a class=\"sk-estimator-doc-link fitted\" rel=\"noreferrer\" target=\"_blank\" href=\"https://scikit-learn.org/1.6/modules/generated/sklearn.model_selection.RandomizedSearchCV.html\">?<span>Documentation for RandomizedSearchCV</span></a><span class=\"sk-estimator-doc-link fitted\">i<span>Fitted</span></span></div></label><div class=\"sk-toggleable__content fitted\"><pre>RandomizedSearchCV(cv=5,\n",
       "                   estimator=Pipeline(steps=[(&#x27;preprocessor&#x27;,\n",
       "                                              ColumnTransformer(remainder=&#x27;passthrough&#x27;,\n",
       "                                                                transformers=[(&#x27;ord&#x27;,\n",
       "                                                                               Pipeline(steps=[(&#x27;ord&#x27;,\n",
       "                                                                                                OrdinalEncoder(handle_unknown=&#x27;use_encoded_value&#x27;,\n",
       "                                                                                                               unknown_value=nan)),\n",
       "                                                                                               (&#x27;simpleImputer_after_ord&#x27;,\n",
       "                                                                                                SimpleImputer(strategy=&#x27;most_frequent&#x27;))]),\n",
       "                                                                               [&#x27;vehicle_type&#x27;,\n",
       "                                                                                &#x27;gearbox&#x27;,\n",
       "                                                                                &#x27;model&#x27;,\n",
       "                                                                                &#x27;fuel_type&#x27;,\n",
       "                                                                                &#x27;brand&#x27;,\n",
       "                                                                                &#x27;rep...\n",
       "                                                                               [&#x27;registration_year&#x27;,\n",
       "                                                                                &#x27;power&#x27;,\n",
       "                                                                                &#x27;kilometer&#x27;])])),\n",
       "                                             (&#x27;models&#x27;,\n",
       "                                              LGBMRegressor(random_state=42,\n",
       "                                                            verbose=-1))]),\n",
       "                   n_jobs=-1,\n",
       "                   param_distributions={&#x27;models&#x27;: [LGBMRegressor(random_state=42,\n",
       "                                                                 verbose=-1)],\n",
       "                                        &#x27;models__max_depth&#x27;: range(3, 8),\n",
       "                                        &#x27;models__n_estimators&#x27;: range(50, 100, 5),\n",
       "                                        &#x27;models__num_leaves&#x27;: range(5, 50, 5)},\n",
       "                   random_state=42, scoring=&#x27;neg_root_mean_squared_error&#x27;,\n",
       "                   verbose=5)</pre></div> </div></div><div class=\"sk-parallel\"><div class=\"sk-parallel-item\"><div class=\"sk-item\"><div class=\"sk-label-container\"><div class=\"sk-label fitted sk-toggleable\"><input class=\"sk-toggleable__control sk-hidden--visually\" id=\"sk-estimator-id-2\" type=\"checkbox\" ><label for=\"sk-estimator-id-2\" class=\"sk-toggleable__label fitted sk-toggleable__label-arrow\"><div><div>best_estimator_: Pipeline</div></div></label><div class=\"sk-toggleable__content fitted\"><pre>Pipeline(steps=[(&#x27;preprocessor&#x27;,\n",
       "                 ColumnTransformer(remainder=&#x27;passthrough&#x27;,\n",
       "                                   transformers=[(&#x27;ord&#x27;,\n",
       "                                                  Pipeline(steps=[(&#x27;ord&#x27;,\n",
       "                                                                   OrdinalEncoder(handle_unknown=&#x27;use_encoded_value&#x27;,\n",
       "                                                                                  unknown_value=nan)),\n",
       "                                                                  (&#x27;simpleImputer_after_ord&#x27;,\n",
       "                                                                   SimpleImputer(strategy=&#x27;most_frequent&#x27;))]),\n",
       "                                                  [&#x27;vehicle_type&#x27;, &#x27;gearbox&#x27;,\n",
       "                                                   &#x27;model&#x27;, &#x27;fuel_type&#x27;,\n",
       "                                                   &#x27;brand&#x27;, &#x27;repaired&#x27;]),\n",
       "                                                 (&#x27;num&#x27;, StandardScaler(),\n",
       "                                                  [&#x27;registration_year&#x27;, &#x27;power&#x27;,\n",
       "                                                   &#x27;kilometer&#x27;])])),\n",
       "                (&#x27;models&#x27;,\n",
       "                 LGBMRegressor(max_depth=7, n_estimators=95, num_leaves=35,\n",
       "                               random_state=42, verbose=-1))])</pre></div> </div></div><div class=\"sk-serial\"><div class=\"sk-item\"><div class=\"sk-serial\"><div class=\"sk-item sk-dashed-wrapped\"><div class=\"sk-label-container\"><div class=\"sk-label fitted sk-toggleable\"><input class=\"sk-toggleable__control sk-hidden--visually\" id=\"sk-estimator-id-3\" type=\"checkbox\" ><label for=\"sk-estimator-id-3\" class=\"sk-toggleable__label fitted sk-toggleable__label-arrow\"><div><div>preprocessor: ColumnTransformer</div></div><div><a class=\"sk-estimator-doc-link fitted\" rel=\"noreferrer\" target=\"_blank\" href=\"https://scikit-learn.org/1.6/modules/generated/sklearn.compose.ColumnTransformer.html\">?<span>Documentation for preprocessor: ColumnTransformer</span></a></div></label><div class=\"sk-toggleable__content fitted\"><pre>ColumnTransformer(remainder=&#x27;passthrough&#x27;,\n",
       "                  transformers=[(&#x27;ord&#x27;,\n",
       "                                 Pipeline(steps=[(&#x27;ord&#x27;,\n",
       "                                                  OrdinalEncoder(handle_unknown=&#x27;use_encoded_value&#x27;,\n",
       "                                                                 unknown_value=nan)),\n",
       "                                                 (&#x27;simpleImputer_after_ord&#x27;,\n",
       "                                                  SimpleImputer(strategy=&#x27;most_frequent&#x27;))]),\n",
       "                                 [&#x27;vehicle_type&#x27;, &#x27;gearbox&#x27;, &#x27;model&#x27;,\n",
       "                                  &#x27;fuel_type&#x27;, &#x27;brand&#x27;, &#x27;repaired&#x27;]),\n",
       "                                (&#x27;num&#x27;, StandardScaler(),\n",
       "                                 [&#x27;registration_year&#x27;, &#x27;power&#x27;, &#x27;kilometer&#x27;])])</pre></div> </div></div><div class=\"sk-parallel\"><div class=\"sk-parallel-item\"><div class=\"sk-item\"><div class=\"sk-label-container\"><div class=\"sk-label fitted sk-toggleable\"><input class=\"sk-toggleable__control sk-hidden--visually\" id=\"sk-estimator-id-4\" type=\"checkbox\" ><label for=\"sk-estimator-id-4\" class=\"sk-toggleable__label fitted sk-toggleable__label-arrow\"><div><div>ord</div></div></label><div class=\"sk-toggleable__content fitted\"><pre>[&#x27;vehicle_type&#x27;, &#x27;gearbox&#x27;, &#x27;model&#x27;, &#x27;fuel_type&#x27;, &#x27;brand&#x27;, &#x27;repaired&#x27;]</pre></div> </div></div><div class=\"sk-serial\"><div class=\"sk-item\"><div class=\"sk-serial\"><div class=\"sk-item\"><div class=\"sk-estimator fitted sk-toggleable\"><input class=\"sk-toggleable__control sk-hidden--visually\" id=\"sk-estimator-id-5\" type=\"checkbox\" ><label for=\"sk-estimator-id-5\" class=\"sk-toggleable__label fitted sk-toggleable__label-arrow\"><div><div>OrdinalEncoder</div></div><div><a class=\"sk-estimator-doc-link fitted\" rel=\"noreferrer\" target=\"_blank\" href=\"https://scikit-learn.org/1.6/modules/generated/sklearn.preprocessing.OrdinalEncoder.html\">?<span>Documentation for OrdinalEncoder</span></a></div></label><div class=\"sk-toggleable__content fitted\"><pre>OrdinalEncoder(handle_unknown=&#x27;use_encoded_value&#x27;, unknown_value=nan)</pre></div> </div></div><div class=\"sk-item\"><div class=\"sk-estimator fitted sk-toggleable\"><input class=\"sk-toggleable__control sk-hidden--visually\" id=\"sk-estimator-id-6\" type=\"checkbox\" ><label for=\"sk-estimator-id-6\" class=\"sk-toggleable__label fitted sk-toggleable__label-arrow\"><div><div>SimpleImputer</div></div><div><a class=\"sk-estimator-doc-link fitted\" rel=\"noreferrer\" target=\"_blank\" href=\"https://scikit-learn.org/1.6/modules/generated/sklearn.impute.SimpleImputer.html\">?<span>Documentation for SimpleImputer</span></a></div></label><div class=\"sk-toggleable__content fitted\"><pre>SimpleImputer(strategy=&#x27;most_frequent&#x27;)</pre></div> </div></div></div></div></div></div></div><div class=\"sk-parallel-item\"><div class=\"sk-item\"><div class=\"sk-label-container\"><div class=\"sk-label fitted sk-toggleable\"><input class=\"sk-toggleable__control sk-hidden--visually\" id=\"sk-estimator-id-7\" type=\"checkbox\" ><label for=\"sk-estimator-id-7\" class=\"sk-toggleable__label fitted sk-toggleable__label-arrow\"><div><div>num</div></div></label><div class=\"sk-toggleable__content fitted\"><pre>[&#x27;registration_year&#x27;, &#x27;power&#x27;, &#x27;kilometer&#x27;]</pre></div> </div></div><div class=\"sk-serial\"><div class=\"sk-item\"><div class=\"sk-estimator fitted sk-toggleable\"><input class=\"sk-toggleable__control sk-hidden--visually\" id=\"sk-estimator-id-8\" type=\"checkbox\" ><label for=\"sk-estimator-id-8\" class=\"sk-toggleable__label fitted sk-toggleable__label-arrow\"><div><div>StandardScaler</div></div><div><a class=\"sk-estimator-doc-link fitted\" rel=\"noreferrer\" target=\"_blank\" href=\"https://scikit-learn.org/1.6/modules/generated/sklearn.preprocessing.StandardScaler.html\">?<span>Documentation for StandardScaler</span></a></div></label><div class=\"sk-toggleable__content fitted\"><pre>StandardScaler()</pre></div> </div></div></div></div></div><div class=\"sk-parallel-item\"><div class=\"sk-item\"><div class=\"sk-label-container\"><div class=\"sk-label fitted sk-toggleable\"><input class=\"sk-toggleable__control sk-hidden--visually\" id=\"sk-estimator-id-9\" type=\"checkbox\" ><label for=\"sk-estimator-id-9\" class=\"sk-toggleable__label fitted sk-toggleable__label-arrow\"><div><div>remainder</div></div></label><div class=\"sk-toggleable__content fitted\"><pre>[]</pre></div> </div></div><div class=\"sk-serial\"><div class=\"sk-item\"><div class=\"sk-estimator fitted sk-toggleable\"><input class=\"sk-toggleable__control sk-hidden--visually\" id=\"sk-estimator-id-10\" type=\"checkbox\" ><label for=\"sk-estimator-id-10\" class=\"sk-toggleable__label fitted sk-toggleable__label-arrow\"><div><div>passthrough</div></div></label><div class=\"sk-toggleable__content fitted\"><pre>passthrough</pre></div> </div></div></div></div></div></div></div><div class=\"sk-item\"><div class=\"sk-estimator fitted sk-toggleable\"><input class=\"sk-toggleable__control sk-hidden--visually\" id=\"sk-estimator-id-11\" type=\"checkbox\" ><label for=\"sk-estimator-id-11\" class=\"sk-toggleable__label fitted sk-toggleable__label-arrow\"><div><div>LGBMRegressor</div></div></label><div class=\"sk-toggleable__content fitted\"><pre>LGBMRegressor(max_depth=7, n_estimators=95, num_leaves=35, random_state=42,\n",
       "              verbose=-1)</pre></div> </div></div></div></div></div></div></div></div></div></div></div>"
      ],
      "text/plain": [
       "RandomizedSearchCV(cv=5,\n",
       "                   estimator=Pipeline(steps=[('preprocessor',\n",
       "                                              ColumnTransformer(remainder='passthrough',\n",
       "                                                                transformers=[('ord',\n",
       "                                                                               Pipeline(steps=[('ord',\n",
       "                                                                                                OrdinalEncoder(handle_unknown='use_encoded_value',\n",
       "                                                                                                               unknown_value=nan)),\n",
       "                                                                                               ('simpleImputer_after_ord',\n",
       "                                                                                                SimpleImputer(strategy='most_frequent'))]),\n",
       "                                                                               ['vehicle_type',\n",
       "                                                                                'gearbox',\n",
       "                                                                                'model',\n",
       "                                                                                'fuel_type',\n",
       "                                                                                'brand',\n",
       "                                                                                'rep...\n",
       "                                                                               ['registration_year',\n",
       "                                                                                'power',\n",
       "                                                                                'kilometer'])])),\n",
       "                                             ('models',\n",
       "                                              LGBMRegressor(random_state=42,\n",
       "                                                            verbose=-1))]),\n",
       "                   n_jobs=-1,\n",
       "                   param_distributions={'models': [LGBMRegressor(random_state=42,\n",
       "                                                                 verbose=-1)],\n",
       "                                        'models__max_depth': range(3, 8),\n",
       "                                        'models__n_estimators': range(50, 100, 5),\n",
       "                                        'models__num_leaves': range(5, 50, 5)},\n",
       "                   random_state=42, scoring='neg_root_mean_squared_error',\n",
       "                   verbose=5)"
      ]
     },
     "execution_count": 41,
     "metadata": {},
     "output_type": "execute_result"
    }
   ],
   "source": [
    "lgbm = Pipeline([\n",
    "    ('preprocessor', data_preprocessor_2),\n",
    "    ('models', LGBMRegressor(random_state=random_state, verbose=-1))\n",
    "])\n",
    "\n",
    "lgbm_par = {\n",
    "    'models': [LGBMRegressor(random_state=random_state, verbose=-1)],\n",
    "    'models__n_estimators': range(50, 100, 5),\n",
    "    'models__max_depth': range(3, 8),\n",
    "    'models__num_leaves': range(5, 50, 5)\n",
    "}\n",
    "\n",
    "lgbm_b = RandomizedSearchCV(\n",
    "    lgbm,\n",
    "    lgbm_par,\n",
    "    scoring='neg_root_mean_squared_error',\n",
    "    n_jobs=-1,\n",
    "    n_iter=10,\n",
    "    cv=5,\n",
    "    verbose=5,\n",
    "    random_state=random_state,\n",
    ")\n",
    "\n",
    "lgbm_b.fit(X_train, y_train)\n"
   ]
  },
  {
   "cell_type": "code",
   "execution_count": 42,
   "metadata": {},
   "outputs": [
    {
     "name": "stdout",
     "output_type": "stream",
     "text": [
      "Лучшая модель: \n",
      " Pipeline(steps=[('preprocessor',\n",
      "                 ColumnTransformer(remainder='passthrough',\n",
      "                                   transformers=[('ord',\n",
      "                                                  Pipeline(steps=[('ord',\n",
      "                                                                   OrdinalEncoder(handle_unknown='use_encoded_value',\n",
      "                                                                                  unknown_value=nan)),\n",
      "                                                                  ('simpleImputer_after_ord',\n",
      "                                                                   SimpleImputer(strategy='most_frequent'))]),\n",
      "                                                  ['vehicle_type', 'gearbox',\n",
      "                                                   'model', 'fuel_type',\n",
      "                                                   'brand', 'repaired']),\n",
      "                                                 ('num', StandardScaler(),\n",
      "                                                  ['registration_year', 'power',\n",
      "                                                   'kilometer'])])),\n",
      "                ('models',\n",
      "                 LGBMRegressor(max_depth=7, n_estimators=95, num_leaves=35,\n",
      "                               random_state=42, verbose=-1))])\n",
      "RMSE на кросс-валидации 1787.9610336598657\n"
     ]
    }
   ],
   "source": [
    "print('Лучшая модель: \\n', lgbm_b.best_estimator_)\n",
    "print('RMSE на кросс-валидации', (-1) * lgbm_b.best_score_)"
   ]
  },
  {
   "cell_type": "markdown",
   "metadata": {},
   "source": [
    " В данном случае  случайный лес уже выбрали модель LGBMRegressor лучшей, так как если посмотреть логи, можно заметить, что время для выбора лучше модели и расчета RMSE стало в разы меньше."
   ]
  },
  {
   "cell_type": "code",
   "execution_count": 43,
   "metadata": {},
   "outputs": [
    {
     "name": "stdout",
     "output_type": "stream",
     "text": [
      "CPU times: user 3.83 s, sys: 20.8 ms, total: 3.85 s\n",
      "Wall time: 3.85 s\n"
     ]
    }
   ],
   "source": [
    "%%time\n",
    "start_lgbm_ed = time()\n",
    "#Теперь рассчитаем на тренировочной выборке:\n",
    "\n",
    "lgbm_b.best_estimator_.fit(X_train, y_train)\n",
    "end_lgbm_ed = time()\n",
    "\n",
    "time_lgbm_ed = (end_lgbm_ed - start_lgbm_ed)/60"
   ]
  },
  {
   "cell_type": "markdown",
   "metadata": {},
   "source": [
    "На тренировочной выборке так же получился хороший результат по времени и показателю RMSE. Модель не переобучена и показывает адекватные значения."
   ]
  },
  {
   "cell_type": "markdown",
   "metadata": {},
   "source": [
    "### CatBoost - CatBoostRegressor\n",
    "\n",
    "регрессионная модель из библиотеки CatBoost. Алгоритм специально оптимизирован для работы с категориальными данными. Используем его для улучшения характеристик.\n",
    "\n"
   ]
  },
  {
   "cell_type": "code",
   "execution_count": 44,
   "metadata": {},
   "outputs": [
    {
     "name": "stdout",
     "output_type": "stream",
     "text": [
      "CPU times: user 2min 13s, sys: 583 ms, total: 2min 14s\n",
      "Wall time: 2min 15s\n"
     ]
    }
   ],
   "source": [
    "%%time\n",
    "start_cb_ed = time()\n",
    "catboost_reg = CatBoostRegressor(random_state=random_state, cat_features=ohe_columns, verbose=False)\n",
    "catboost_reg.fit(X_train, y_train)\n",
    "end_cb_ed = time()\n",
    "\n",
    "time_cb_ed = (end_cb_ed  - start_cb_ed)/60                                                                                     "
   ]
  },
  {
   "cell_type": "code",
   "execution_count": 45,
   "metadata": {},
   "outputs": [
    {
     "name": "stdout",
     "output_type": "stream",
     "text": [
      "RMSE на кросс-валидации : 1696.5785468732315\n"
     ]
    }
   ],
   "source": [
    "cb_scores = cross_val_score(\n",
    "    catboost_reg,\n",
    "    X_train,\n",
    "    y_train,\n",
    "    cv=5,\n",
    "    n_jobs=-1,\n",
    "    scoring='neg_root_mean_squared_error'\n",
    ")\n",
    "\n",
    "cv_catboost = sum(cb_scores) / len(cb_scores)\n",
    "print('RMSE на кросс-валидации :', (-1) * cv_catboost)"
   ]
  },
  {
   "cell_type": "markdown",
   "metadata": {},
   "source": [
    "CatBoostRegressor продемонстрировал лучшее время для обучения модели. И лучшее значение RMSE, а значит обученная модель на данных будет с меньшей вероятностью допускать ошибки в предсказании. Но несмотря на эти преимущества, время обучения у неё было также длительным. "
   ]
  },
  {
   "cell_type": "markdown",
   "metadata": {},
   "source": [
    "## Анализ моделей"
   ]
  },
  {
   "cell_type": "code",
   "execution_count": 46,
   "metadata": {},
   "outputs": [
    {
     "data": {
      "text/html": [
       "<div>\n",
       "<style scoped>\n",
       "    .dataframe tbody tr th:only-of-type {\n",
       "        vertical-align: middle;\n",
       "    }\n",
       "\n",
       "    .dataframe tbody tr th {\n",
       "        vertical-align: top;\n",
       "    }\n",
       "\n",
       "    .dataframe thead th {\n",
       "        text-align: right;\n",
       "    }\n",
       "</style>\n",
       "<table border=\"1\" class=\"dataframe\">\n",
       "  <thead>\n",
       "    <tr style=\"text-align: right;\">\n",
       "      <th></th>\n",
       "      <th>Модель</th>\n",
       "      <th>Время обучения</th>\n",
       "      <th>RMSE на кросс-валидации</th>\n",
       "    </tr>\n",
       "  </thead>\n",
       "  <tbody>\n",
       "    <tr>\n",
       "      <th>0</th>\n",
       "      <td>LinearRegression</td>\n",
       "      <td>0.295582</td>\n",
       "      <td>2825</td>\n",
       "    </tr>\n",
       "    <tr>\n",
       "      <th>1</th>\n",
       "      <td>CatBoostRegressor</td>\n",
       "      <td>2.260092</td>\n",
       "      <td>1696</td>\n",
       "    </tr>\n",
       "    <tr>\n",
       "      <th>2</th>\n",
       "      <td>RandomForestRegressor</td>\n",
       "      <td>0.259180</td>\n",
       "      <td>2192</td>\n",
       "    </tr>\n",
       "    <tr>\n",
       "      <th>3</th>\n",
       "      <td>LGBMRegressor</td>\n",
       "      <td>0.064127</td>\n",
       "      <td>1787</td>\n",
       "    </tr>\n",
       "  </tbody>\n",
       "</table>\n",
       "</div>"
      ],
      "text/plain": [
       "                  Модель  Время обучения  RMSE на кросс-валидации\n",
       "0       LinearRegression        0.295582                     2825\n",
       "1      CatBoostRegressor        2.260092                     1696\n",
       "2  RandomForestRegressor        0.259180                     2192\n",
       "3          LGBMRegressor        0.064127                     1787"
      ]
     },
     "execution_count": 46,
     "metadata": {},
     "output_type": "execute_result"
    }
   ],
   "source": [
    "#Создадим объединенную таблицу, куда внесём данные по исследуемым моделям:\n",
    "time_to_choose = {\n",
    "    'Модель': ['LinearRegression', 'CatBoostRegressor', 'RandomForestRegressor', 'LGBMRegressor'],\n",
    "    'Время обучения': [time_linear_ed, time_cb_ed, time_random_ed, time_lgbm_ed],\n",
    "    'RMSE на кросс-валидации': [2825, 1696, 2192, 1787]\n",
    "}\n",
    "\n",
    "top_list = pd.DataFrame(time_to_choose)\n",
    "top_list\n"
   ]
  },
  {
   "cell_type": "markdown",
   "metadata": {},
   "source": [
    "**На основании полученных результатов можно сделать, что самой оптимальной моделью для решения данной задачи является использование CatBoostRegressor, который рассчитан на работу с категориальными признаками.**\n",
    "\n",
    "Хоть и LGBMRegressor имеет приближенное значение метрики, но всё же CatBoostRegressor срабаытвает быстрее.\n",
    "\n",
    "И также на первое место модель попала, потому что имеет наименьшее значение RMSE. А это значит, что данная модель будет в среднем ошибаться на меньшее число евро. Поэтому это её преимущество перед моделю RandomForestRegressor, которая несмотря на быстрое время предсказания имеет близкое к пограничному значение RMSE"
   ]
  },
  {
   "cell_type": "markdown",
   "metadata": {},
   "source": [
    "А CatBoost имеет оптимальное значение RMSE, которое говорит о том, что она меньше ошибается, и не переобучена, а в денежных вопросах это очень важно.\n",
    "\n",
    "Модель линейной регрессии не справилась бы с требованием заказчика о метрике RMSE."
   ]
  },
  {
   "cell_type": "code",
   "execution_count": 47,
   "metadata": {},
   "outputs": [
    {
     "name": "stdout",
     "output_type": "stream",
     "text": [
      "RMSE на тестовой выборке: 1692.5558642638366\n",
      "CPU times: user 431 ms, sys: 3.94 ms, total: 435 ms\n",
      "Wall time: 442 ms\n"
     ]
    }
   ],
   "source": [
    "%%time\n",
    "start_cb=time()\n",
    "# Применим выбранную модель к тестовой выборке:\n",
    "y_pred_cat = catboost_reg.predict(X_test)\n",
    "mse = mean_squared_error(y_test, y_pred_cat)\n",
    "rmse = mse ** 0.5  # Расчет метрик\n",
    "print('RMSE на тестовой выборке:', rmse)\n",
    "end_cb= time()\n",
    "\n",
    "time_cb=(end_cb  - start_cb)/60 "
   ]
  },
  {
   "cell_type": "markdown",
   "metadata": {},
   "source": [
    "Поэтому можно порекомендовать заказчику модель CatBoostRegressor, так как на тестовой выборке она показала наилучший результат метрики RMSE -1692- и самый лучший результат по скорости предсказания - 442 мс, что удовлетворяет требованиям заказчика.\n",
    "\n",
    "\n",
    "В целом, можно сделать вывод, что провели исследование стоимости автомобилей.Был изучен датасет с количеством записей более 350 тыс.\n",
    "\n",
    "Была проведена работа по переименованию столбцов, в соответствии со змеиным регистром, также обработали пропуски, дубликаты.\n",
    "Провели исследовательский анализ, изучили причины возникновения аномалий.\n",
    "\n",
    "Провели исследовательский анализ, в результате которого изучили распределение непрервных признаков, посмотрили столбчатые диаграммы для дискретных и категориальных признаков. Выделили лидеров по параметрам машин, а также провели корреляционный анализ, который показал, что значение стоиомости коррелирует с моделью машины  и годом регистрации. Что является закономерным при покупке автомобиля и установки его цены.\n",
    "\n",
    "Далее провели непосредственное обучение и предсказание значений различных моделей машинного обучения (Linerar regression, LGBMRegressor, CatBoost, RandomForestRegressor) среди которых лидером стала модель CatBoostRegression, которая имеет оптимальное время выполнения команд и наименьшее значение ошибки. Поэтому данная модель рекомендуется заказчику для выполнения подобныз задач."
   ]
  }
 ],
 "metadata": {
  "ExecuteTimeLog": [
   {
    "duration": 1778,
    "start_time": "2024-12-18T21:22:48.437Z"
   },
   {
    "duration": 2969,
    "start_time": "2024-12-18T21:25:14.693Z"
   },
   {
    "duration": 237,
    "start_time": "2024-12-18T21:28:33.287Z"
   },
   {
    "duration": 145,
    "start_time": "2024-12-18T21:28:44.275Z"
   },
   {
    "duration": 96,
    "start_time": "2024-12-18T21:29:06.476Z"
   },
   {
    "duration": 141,
    "start_time": "2024-12-18T21:29:24.867Z"
   },
   {
    "duration": 161,
    "start_time": "2024-12-18T21:58:35.750Z"
   },
   {
    "duration": 106,
    "start_time": "2024-12-18T22:12:29.938Z"
   },
   {
    "duration": 87,
    "start_time": "2024-12-18T22:13:08.590Z"
   },
   {
    "duration": 150,
    "start_time": "2024-12-18T22:13:14.474Z"
   },
   {
    "duration": 3616,
    "start_time": "2024-12-18T22:13:41.506Z"
   },
   {
    "duration": 73,
    "start_time": "2024-12-18T22:13:46.865Z"
   },
   {
    "duration": 5,
    "start_time": "2024-12-18T22:13:59.052Z"
   },
   {
    "duration": 878,
    "start_time": "2024-12-18T22:13:59.566Z"
   },
   {
    "duration": 161,
    "start_time": "2024-12-18T22:14:02.809Z"
   },
   {
    "duration": 144,
    "start_time": "2024-12-18T22:14:07.225Z"
   },
   {
    "duration": 5,
    "start_time": "2024-12-18T22:24:19.390Z"
   },
   {
    "duration": 147,
    "start_time": "2024-12-18T22:24:38.644Z"
   },
   {
    "duration": 88,
    "start_time": "2024-12-18T22:27:05.069Z"
   },
   {
    "duration": 448,
    "start_time": "2024-12-18T22:33:06.706Z"
   },
   {
    "duration": 3,
    "start_time": "2024-12-18T22:39:35.640Z"
   },
   {
    "duration": 437,
    "start_time": "2024-12-18T22:39:37.497Z"
   },
   {
    "duration": 414,
    "start_time": "2024-12-18T22:44:05.696Z"
   },
   {
    "duration": 421,
    "start_time": "2024-12-18T22:44:06.766Z"
   },
   {
    "duration": 511,
    "start_time": "2024-12-18T22:44:18.543Z"
   },
   {
    "duration": 878,
    "start_time": "2024-12-18T22:44:27.271Z"
   },
   {
    "duration": 2466,
    "start_time": "2024-12-18T22:44:35.024Z"
   },
   {
    "duration": 1561,
    "start_time": "2024-12-18T22:44:37.493Z"
   },
   {
    "duration": 938,
    "start_time": "2024-12-18T22:44:39.055Z"
   },
   {
    "duration": 155,
    "start_time": "2024-12-18T22:44:39.995Z"
   },
   {
    "duration": 5,
    "start_time": "2024-12-18T22:44:40.152Z"
   },
   {
    "duration": 162,
    "start_time": "2024-12-18T22:44:40.158Z"
   },
   {
    "duration": 142,
    "start_time": "2024-12-18T22:44:40.330Z"
   },
   {
    "duration": 157,
    "start_time": "2024-12-18T22:44:40.474Z"
   },
   {
    "duration": 493,
    "start_time": "2024-12-18T22:44:40.632Z"
   },
   {
    "duration": 990,
    "start_time": "2024-12-18T22:44:41.130Z"
   },
   {
    "duration": 8,
    "start_time": "2024-12-18T22:44:42.122Z"
   },
   {
    "duration": 504,
    "start_time": "2024-12-18T22:44:42.132Z"
   },
   {
    "duration": 101,
    "start_time": "2024-12-18T22:44:42.638Z"
   },
   {
    "duration": 942,
    "start_time": "2024-12-18T22:48:20.022Z"
   },
   {
    "duration": 310,
    "start_time": "2024-12-18T23:02:20.907Z"
   },
   {
    "duration": 123,
    "start_time": "2024-12-18T23:06:14.274Z"
   },
   {
    "duration": 113,
    "start_time": "2024-12-18T23:07:10.037Z"
   },
   {
    "duration": 30,
    "start_time": "2024-12-18T23:17:59.482Z"
   },
   {
    "duration": 100,
    "start_time": "2024-12-18T23:18:39.852Z"
   },
   {
    "duration": 109,
    "start_time": "2024-12-18T23:18:48.377Z"
   },
   {
    "duration": 12,
    "start_time": "2024-12-18T23:18:57.685Z"
   },
   {
    "duration": 135,
    "start_time": "2024-12-18T23:19:08.309Z"
   },
   {
    "duration": 33,
    "start_time": "2024-12-18T23:28:03.662Z"
   },
   {
    "duration": 21,
    "start_time": "2024-12-18T23:28:41.829Z"
   },
   {
    "duration": 125,
    "start_time": "2024-12-18T23:30:13.541Z"
   },
   {
    "duration": 2492,
    "start_time": "2024-12-18T23:30:25.608Z"
   },
   {
    "duration": 1538,
    "start_time": "2024-12-18T23:30:28.103Z"
   },
   {
    "duration": 950,
    "start_time": "2024-12-18T23:30:29.642Z"
   },
   {
    "duration": 157,
    "start_time": "2024-12-18T23:30:30.594Z"
   },
   {
    "duration": 11,
    "start_time": "2024-12-18T23:30:30.754Z"
   },
   {
    "duration": 186,
    "start_time": "2024-12-18T23:30:30.766Z"
   },
   {
    "duration": 97,
    "start_time": "2024-12-18T23:30:30.954Z"
   },
   {
    "duration": 479,
    "start_time": "2024-12-18T23:30:31.053Z"
   },
   {
    "duration": 983,
    "start_time": "2024-12-18T23:30:31.534Z"
   },
   {
    "duration": 123,
    "start_time": "2024-12-18T23:30:32.519Z"
   },
   {
    "duration": 35,
    "start_time": "2024-12-18T23:30:32.643Z"
   },
   {
    "duration": 23,
    "start_time": "2024-12-18T23:30:32.679Z"
   },
   {
    "duration": 166,
    "start_time": "2024-12-18T23:30:32.704Z"
   },
   {
    "duration": 3,
    "start_time": "2024-12-18T23:30:32.873Z"
   },
   {
    "duration": 465,
    "start_time": "2024-12-18T23:30:32.878Z"
   },
   {
    "duration": 32,
    "start_time": "2024-12-18T23:30:33.344Z"
   },
   {
    "duration": 13,
    "start_time": "2024-12-18T23:30:33.378Z"
   },
   {
    "duration": 127,
    "start_time": "2024-12-18T23:30:33.393Z"
   },
   {
    "duration": 335,
    "start_time": "2024-12-18T23:30:33.530Z"
   },
   {
    "duration": 4703,
    "start_time": "2024-12-18T23:34:51.029Z"
   },
   {
    "duration": 53,
    "start_time": "2024-12-18T23:37:15.381Z"
   },
   {
    "duration": 92,
    "start_time": "2024-12-18T23:40:15.317Z"
   },
   {
    "duration": 127,
    "start_time": "2024-12-18T23:41:05.677Z"
   },
   {
    "duration": 2109,
    "start_time": "2024-12-18T23:41:42.997Z"
   },
   {
    "duration": 2571,
    "start_time": "2024-12-18T23:41:56.054Z"
   },
   {
    "duration": 1553,
    "start_time": "2024-12-18T23:41:58.628Z"
   },
   {
    "duration": 997,
    "start_time": "2024-12-18T23:42:00.183Z"
   },
   {
    "duration": 160,
    "start_time": "2024-12-18T23:42:01.183Z"
   },
   {
    "duration": 18,
    "start_time": "2024-12-18T23:42:01.346Z"
   },
   {
    "duration": 174,
    "start_time": "2024-12-18T23:42:01.366Z"
   },
   {
    "duration": 113,
    "start_time": "2024-12-18T23:42:01.542Z"
   },
   {
    "duration": 511,
    "start_time": "2024-12-18T23:42:01.657Z"
   },
   {
    "duration": 975,
    "start_time": "2024-12-18T23:42:02.169Z"
   },
   {
    "duration": 122,
    "start_time": "2024-12-18T23:42:03.146Z"
   },
   {
    "duration": 35,
    "start_time": "2024-12-18T23:42:03.270Z"
   },
   {
    "duration": 36,
    "start_time": "2024-12-18T23:42:03.307Z"
   },
   {
    "duration": 153,
    "start_time": "2024-12-18T23:42:03.345Z"
   },
   {
    "duration": 37,
    "start_time": "2024-12-18T23:42:03.500Z"
   },
   {
    "duration": 466,
    "start_time": "2024-12-18T23:42:03.539Z"
   },
   {
    "duration": 44,
    "start_time": "2024-12-18T23:42:04.007Z"
   },
   {
    "duration": 36,
    "start_time": "2024-12-18T23:42:04.052Z"
   },
   {
    "duration": 123,
    "start_time": "2024-12-18T23:42:04.089Z"
   },
   {
    "duration": 4681,
    "start_time": "2024-12-18T23:42:04.214Z"
   },
   {
    "duration": 61,
    "start_time": "2024-12-18T23:42:08.897Z"
   },
   {
    "duration": 2021,
    "start_time": "2024-12-18T23:42:08.960Z"
   },
   {
    "duration": 3718,
    "start_time": "2024-12-19T08:16:44.097Z"
   },
   {
    "duration": 1848,
    "start_time": "2024-12-19T08:16:47.818Z"
   },
   {
    "duration": 3089,
    "start_time": "2024-12-19T08:16:49.667Z"
   },
   {
    "duration": 151,
    "start_time": "2024-12-19T08:16:52.757Z"
   },
   {
    "duration": 4,
    "start_time": "2024-12-19T08:16:52.911Z"
   },
   {
    "duration": 163,
    "start_time": "2024-12-19T08:16:52.917Z"
   },
   {
    "duration": 139,
    "start_time": "2024-12-19T08:16:53.082Z"
   },
   {
    "duration": 497,
    "start_time": "2024-12-19T08:16:53.223Z"
   },
   {
    "duration": 1054,
    "start_time": "2024-12-19T08:16:53.722Z"
   },
   {
    "duration": 126,
    "start_time": "2024-12-19T08:16:54.777Z"
   },
   {
    "duration": 43,
    "start_time": "2024-12-19T08:16:54.905Z"
   },
   {
    "duration": 29,
    "start_time": "2024-12-19T08:16:54.950Z"
   },
   {
    "duration": 176,
    "start_time": "2024-12-19T08:16:54.980Z"
   },
   {
    "duration": 8,
    "start_time": "2024-12-19T08:16:55.159Z"
   },
   {
    "duration": 486,
    "start_time": "2024-12-19T08:16:55.169Z"
   },
   {
    "duration": 41,
    "start_time": "2024-12-19T08:16:55.656Z"
   },
   {
    "duration": 32,
    "start_time": "2024-12-19T08:16:55.699Z"
   },
   {
    "duration": 122,
    "start_time": "2024-12-19T08:16:55.733Z"
   },
   {
    "duration": 4891,
    "start_time": "2024-12-19T08:16:55.857Z"
   },
   {
    "duration": 52,
    "start_time": "2024-12-19T08:17:00.749Z"
   },
   {
    "duration": 82,
    "start_time": "2024-12-19T08:37:14.116Z"
   },
   {
    "duration": 2531,
    "start_time": "2024-12-19T08:51:05.739Z"
   },
   {
    "duration": 1607,
    "start_time": "2024-12-19T08:51:08.273Z"
   },
   {
    "duration": 968,
    "start_time": "2024-12-19T08:51:09.882Z"
   },
   {
    "duration": 158,
    "start_time": "2024-12-19T08:51:10.853Z"
   },
   {
    "duration": 17,
    "start_time": "2024-12-19T08:51:11.013Z"
   },
   {
    "duration": 156,
    "start_time": "2024-12-19T08:51:11.032Z"
   },
   {
    "duration": 155,
    "start_time": "2024-12-19T08:51:11.190Z"
   },
   {
    "duration": 491,
    "start_time": "2024-12-19T08:51:11.346Z"
   },
   {
    "duration": 1000,
    "start_time": "2024-12-19T08:51:11.839Z"
   },
   {
    "duration": 132,
    "start_time": "2024-12-19T08:51:12.842Z"
   },
   {
    "duration": 35,
    "start_time": "2024-12-19T08:51:12.976Z"
   },
   {
    "duration": 37,
    "start_time": "2024-12-19T08:51:13.013Z"
   },
   {
    "duration": 168,
    "start_time": "2024-12-19T08:51:13.052Z"
   },
   {
    "duration": 9,
    "start_time": "2024-12-19T08:51:13.222Z"
   },
   {
    "duration": 473,
    "start_time": "2024-12-19T08:51:13.232Z"
   },
   {
    "duration": 46,
    "start_time": "2024-12-19T08:51:13.707Z"
   },
   {
    "duration": 15,
    "start_time": "2024-12-19T08:51:13.754Z"
   },
   {
    "duration": 116,
    "start_time": "2024-12-19T08:51:13.771Z"
   },
   {
    "duration": 4872,
    "start_time": "2024-12-19T08:51:13.889Z"
   },
   {
    "duration": 32,
    "start_time": "2024-12-19T08:51:18.762Z"
   },
   {
    "duration": 2144,
    "start_time": "2024-12-19T08:51:51.913Z"
   },
   {
    "duration": 68,
    "start_time": "2024-12-19T08:52:07.432Z"
   },
   {
    "duration": 34,
    "start_time": "2024-12-19T08:57:31.746Z"
   },
   {
    "duration": 67,
    "start_time": "2024-12-19T08:57:32.313Z"
   },
   {
    "duration": 26,
    "start_time": "2024-12-19T08:57:42.529Z"
   },
   {
    "duration": 70,
    "start_time": "2024-12-19T08:57:42.999Z"
   },
   {
    "duration": 2054,
    "start_time": "2024-12-19T08:57:55.434Z"
   },
   {
    "duration": 28,
    "start_time": "2024-12-19T08:58:15.833Z"
   },
   {
    "duration": 66,
    "start_time": "2024-12-19T08:58:16.385Z"
   },
   {
    "duration": 2016,
    "start_time": "2024-12-19T08:58:22.266Z"
   },
   {
    "duration": 31,
    "start_time": "2024-12-19T09:00:08.509Z"
   },
   {
    "duration": 65,
    "start_time": "2024-12-19T09:00:08.931Z"
   },
   {
    "duration": 12149,
    "start_time": "2024-12-19T09:08:37.036Z"
   },
   {
    "duration": 12439,
    "start_time": "2024-12-19T09:12:06.599Z"
   },
   {
    "duration": 128,
    "start_time": "2024-12-19T09:18:01.366Z"
   },
   {
    "duration": 127,
    "start_time": "2024-12-19T09:18:35.488Z"
   },
   {
    "duration": 42,
    "start_time": "2024-12-19T09:22:32.319Z"
   },
   {
    "duration": 11135,
    "start_time": "2024-12-19T09:22:57.883Z"
   },
   {
    "duration": 2517,
    "start_time": "2024-12-19T09:24:10.267Z"
   },
   {
    "duration": 1490,
    "start_time": "2024-12-19T09:24:12.787Z"
   },
   {
    "duration": 952,
    "start_time": "2024-12-19T09:24:14.279Z"
   },
   {
    "duration": 156,
    "start_time": "2024-12-19T09:24:15.232Z"
   },
   {
    "duration": 24,
    "start_time": "2024-12-19T09:24:15.390Z"
   },
   {
    "duration": 166,
    "start_time": "2024-12-19T09:24:15.415Z"
   },
   {
    "duration": 147,
    "start_time": "2024-12-19T09:24:15.583Z"
   },
   {
    "duration": 473,
    "start_time": "2024-12-19T09:24:15.732Z"
   },
   {
    "duration": 997,
    "start_time": "2024-12-19T09:24:16.207Z"
   },
   {
    "duration": 131,
    "start_time": "2024-12-19T09:24:17.206Z"
   },
   {
    "duration": 35,
    "start_time": "2024-12-19T09:24:17.339Z"
   },
   {
    "duration": 23,
    "start_time": "2024-12-19T09:24:17.376Z"
   },
   {
    "duration": 166,
    "start_time": "2024-12-19T09:24:17.400Z"
   },
   {
    "duration": 11,
    "start_time": "2024-12-19T09:24:17.568Z"
   },
   {
    "duration": 486,
    "start_time": "2024-12-19T09:24:17.581Z"
   },
   {
    "duration": 39,
    "start_time": "2024-12-19T09:24:18.069Z"
   },
   {
    "duration": 24,
    "start_time": "2024-12-19T09:24:18.110Z"
   },
   {
    "duration": 125,
    "start_time": "2024-12-19T09:24:18.136Z"
   },
   {
    "duration": 4874,
    "start_time": "2024-12-19T09:24:18.262Z"
   },
   {
    "duration": 31,
    "start_time": "2024-12-19T09:24:23.138Z"
   },
   {
    "duration": 88,
    "start_time": "2024-12-19T09:24:23.170Z"
   },
   {
    "duration": 13247,
    "start_time": "2024-12-19T09:24:23.260Z"
   },
   {
    "duration": 165,
    "start_time": "2024-12-19T09:24:36.508Z"
   },
   {
    "duration": 47,
    "start_time": "2024-12-19T09:24:36.675Z"
   },
   {
    "duration": 11281,
    "start_time": "2024-12-19T09:24:36.730Z"
   },
   {
    "duration": 10923,
    "start_time": "2024-12-19T09:26:30.244Z"
   },
   {
    "duration": 11277,
    "start_time": "2024-12-19T09:26:53.877Z"
   },
   {
    "duration": 10922,
    "start_time": "2024-12-19T09:27:21.419Z"
   },
   {
    "duration": 10819,
    "start_time": "2024-12-19T09:27:56.649Z"
   },
   {
    "duration": 11040,
    "start_time": "2024-12-19T09:28:17.809Z"
   },
   {
    "duration": 95,
    "start_time": "2024-12-19T11:09:46.819Z"
   },
   {
    "duration": 6681,
    "start_time": "2024-12-19T11:17:58.551Z"
   },
   {
    "duration": 7673,
    "start_time": "2024-12-19T11:19:12.620Z"
   },
   {
    "duration": 6144,
    "start_time": "2024-12-19T11:20:57.524Z"
   },
   {
    "duration": 6350,
    "start_time": "2024-12-19T11:21:57.731Z"
   },
   {
    "duration": 1954,
    "start_time": "2024-12-19T11:23:55.170Z"
   },
   {
    "duration": 2071,
    "start_time": "2024-12-19T11:24:10.541Z"
   },
   {
    "duration": 1959,
    "start_time": "2024-12-19T11:27:11.817Z"
   },
   {
    "duration": 2221,
    "start_time": "2024-12-19T11:28:25.619Z"
   },
   {
    "duration": 2180,
    "start_time": "2024-12-19T11:28:50.738Z"
   },
   {
    "duration": 40,
    "start_time": "2024-12-19T11:33:54.543Z"
   },
   {
    "duration": 2667,
    "start_time": "2024-12-19T11:36:01.256Z"
   },
   {
    "duration": 39,
    "start_time": "2024-12-19T11:37:08.629Z"
   },
   {
    "duration": 7206,
    "start_time": "2024-12-19T11:41:35.195Z"
   },
   {
    "duration": 7326,
    "start_time": "2024-12-19T11:41:54.884Z"
   },
   {
    "duration": 130,
    "start_time": "2024-12-19T11:52:51.656Z"
   },
   {
    "duration": 2578,
    "start_time": "2024-12-19T11:53:10.502Z"
   },
   {
    "duration": 1622,
    "start_time": "2024-12-19T11:53:13.083Z"
   },
   {
    "duration": 968,
    "start_time": "2024-12-19T11:53:14.708Z"
   },
   {
    "duration": 160,
    "start_time": "2024-12-19T11:53:15.678Z"
   },
   {
    "duration": 5,
    "start_time": "2024-12-19T11:53:15.840Z"
   },
   {
    "duration": 184,
    "start_time": "2024-12-19T11:53:15.846Z"
   },
   {
    "duration": 112,
    "start_time": "2024-12-19T11:53:16.031Z"
   },
   {
    "duration": 506,
    "start_time": "2024-12-19T11:53:16.145Z"
   },
   {
    "duration": 1057,
    "start_time": "2024-12-19T11:53:16.653Z"
   },
   {
    "duration": 135,
    "start_time": "2024-12-19T11:53:17.713Z"
   },
   {
    "duration": 37,
    "start_time": "2024-12-19T11:53:17.850Z"
   },
   {
    "duration": 43,
    "start_time": "2024-12-19T11:53:17.889Z"
   },
   {
    "duration": 160,
    "start_time": "2024-12-19T11:53:17.934Z"
   },
   {
    "duration": 11,
    "start_time": "2024-12-19T11:53:18.096Z"
   },
   {
    "duration": 487,
    "start_time": "2024-12-19T11:53:18.109Z"
   },
   {
    "duration": 44,
    "start_time": "2024-12-19T11:53:18.598Z"
   },
   {
    "duration": 11,
    "start_time": "2024-12-19T11:53:18.644Z"
   },
   {
    "duration": 118,
    "start_time": "2024-12-19T11:53:18.657Z"
   },
   {
    "duration": 5092,
    "start_time": "2024-12-19T11:53:18.777Z"
   },
   {
    "duration": 30,
    "start_time": "2024-12-19T11:53:23.871Z"
   },
   {
    "duration": 76,
    "start_time": "2024-12-19T11:53:23.903Z"
   },
   {
    "duration": 13563,
    "start_time": "2024-12-19T11:53:23.981Z"
   },
   {
    "duration": 151,
    "start_time": "2024-12-19T11:53:37.546Z"
   },
   {
    "duration": 64,
    "start_time": "2024-12-19T11:53:37.698Z"
   },
   {
    "duration": 11436,
    "start_time": "2024-12-19T11:53:37.764Z"
   },
   {
    "duration": 117,
    "start_time": "2024-12-19T11:53:49.202Z"
   },
   {
    "duration": 2694,
    "start_time": "2024-12-19T11:53:49.321Z"
   },
   {
    "duration": 54,
    "start_time": "2024-12-19T11:53:52.018Z"
   },
   {
    "duration": 6855,
    "start_time": "2024-12-19T11:53:52.074Z"
   },
   {
    "duration": 375,
    "start_time": "2024-12-19T11:55:14.100Z"
   },
   {
    "duration": 97,
    "start_time": "2024-12-19T11:56:23.083Z"
   },
   {
    "duration": 242,
    "start_time": "2024-12-19T11:56:39.165Z"
   },
   {
    "duration": 150,
    "start_time": "2024-12-19T11:56:54.514Z"
   },
   {
    "duration": 164,
    "start_time": "2024-12-19T11:57:30.019Z"
   },
   {
    "duration": 121,
    "start_time": "2024-12-19T11:57:46.177Z"
   },
   {
    "duration": 82,
    "start_time": "2024-12-19T11:58:04.125Z"
   },
   {
    "duration": 5,
    "start_time": "2024-12-19T11:59:52.722Z"
   },
   {
    "duration": 139,
    "start_time": "2024-12-19T12:00:01.298Z"
   },
   {
    "duration": 8,
    "start_time": "2024-12-19T12:00:24.698Z"
   },
   {
    "duration": 24,
    "start_time": "2024-12-19T12:00:32.708Z"
   },
   {
    "duration": 4,
    "start_time": "2024-12-19T12:00:50.210Z"
   },
   {
    "duration": 149,
    "start_time": "2024-12-19T12:00:53.060Z"
   },
   {
    "duration": 74,
    "start_time": "2024-12-19T12:05:56.514Z"
   },
   {
    "duration": 86,
    "start_time": "2024-12-19T12:06:21.882Z"
   },
   {
    "duration": 3,
    "start_time": "2024-12-19T12:12:53.167Z"
   },
   {
    "duration": 18,
    "start_time": "2024-12-19T12:14:09.702Z"
   },
   {
    "duration": 4,
    "start_time": "2024-12-19T12:15:01.527Z"
   },
   {
    "duration": 31,
    "start_time": "2024-12-19T12:21:44.988Z"
   },
   {
    "duration": 31,
    "start_time": "2024-12-19T12:24:51.898Z"
   },
   {
    "duration": 10,
    "start_time": "2024-12-19T12:27:16.707Z"
   },
   {
    "duration": 4,
    "start_time": "2024-12-19T12:28:01.593Z"
   },
   {
    "duration": 31,
    "start_time": "2024-12-19T12:28:33.970Z"
   },
   {
    "duration": 3,
    "start_time": "2024-12-19T12:28:45.432Z"
   },
   {
    "duration": 32,
    "start_time": "2024-12-19T12:28:46.202Z"
   },
   {
    "duration": 14,
    "start_time": "2024-12-19T12:29:12.370Z"
   },
   {
    "duration": 14,
    "start_time": "2024-12-19T12:29:27.950Z"
   },
   {
    "duration": 3,
    "start_time": "2024-12-19T12:29:40.552Z"
   },
   {
    "duration": 14,
    "start_time": "2024-12-19T12:29:41.180Z"
   },
   {
    "duration": 4,
    "start_time": "2024-12-19T12:32:36.561Z"
   },
   {
    "duration": 2571,
    "start_time": "2024-12-19T12:33:10.916Z"
   },
   {
    "duration": 50,
    "start_time": "2024-12-19T12:33:13.490Z"
   },
   {
    "duration": 0,
    "start_time": "2024-12-19T12:33:13.543Z"
   },
   {
    "duration": 0,
    "start_time": "2024-12-19T12:33:13.544Z"
   },
   {
    "duration": 0,
    "start_time": "2024-12-19T12:33:13.546Z"
   },
   {
    "duration": 0,
    "start_time": "2024-12-19T12:33:13.547Z"
   },
   {
    "duration": 0,
    "start_time": "2024-12-19T12:33:13.548Z"
   },
   {
    "duration": 0,
    "start_time": "2024-12-19T12:33:13.549Z"
   },
   {
    "duration": 0,
    "start_time": "2024-12-19T12:33:13.550Z"
   },
   {
    "duration": 0,
    "start_time": "2024-12-19T12:33:13.551Z"
   },
   {
    "duration": 0,
    "start_time": "2024-12-19T12:33:13.553Z"
   },
   {
    "duration": 0,
    "start_time": "2024-12-19T12:33:13.554Z"
   },
   {
    "duration": 0,
    "start_time": "2024-12-19T12:33:13.555Z"
   },
   {
    "duration": 0,
    "start_time": "2024-12-19T12:33:13.556Z"
   },
   {
    "duration": 1,
    "start_time": "2024-12-19T12:33:13.557Z"
   },
   {
    "duration": 0,
    "start_time": "2024-12-19T12:33:13.558Z"
   },
   {
    "duration": 0,
    "start_time": "2024-12-19T12:33:13.560Z"
   },
   {
    "duration": 0,
    "start_time": "2024-12-19T12:33:13.561Z"
   },
   {
    "duration": 0,
    "start_time": "2024-12-19T12:33:13.562Z"
   },
   {
    "duration": 0,
    "start_time": "2024-12-19T12:33:13.563Z"
   },
   {
    "duration": 0,
    "start_time": "2024-12-19T12:33:13.564Z"
   },
   {
    "duration": 0,
    "start_time": "2024-12-19T12:33:13.565Z"
   },
   {
    "duration": 0,
    "start_time": "2024-12-19T12:33:13.567Z"
   },
   {
    "duration": 0,
    "start_time": "2024-12-19T12:33:13.568Z"
   },
   {
    "duration": 0,
    "start_time": "2024-12-19T12:33:13.569Z"
   },
   {
    "duration": 0,
    "start_time": "2024-12-19T12:33:13.570Z"
   },
   {
    "duration": 0,
    "start_time": "2024-12-19T12:33:13.571Z"
   },
   {
    "duration": 0,
    "start_time": "2024-12-19T12:33:13.572Z"
   },
   {
    "duration": 0,
    "start_time": "2024-12-19T12:33:13.573Z"
   },
   {
    "duration": 1,
    "start_time": "2024-12-19T12:33:13.574Z"
   },
   {
    "duration": 0,
    "start_time": "2024-12-19T12:33:13.575Z"
   },
   {
    "duration": 0,
    "start_time": "2024-12-19T12:33:13.576Z"
   },
   {
    "duration": 0,
    "start_time": "2024-12-19T12:33:13.630Z"
   },
   {
    "duration": 0,
    "start_time": "2024-12-19T12:33:13.632Z"
   },
   {
    "duration": 0,
    "start_time": "2024-12-19T12:33:13.633Z"
   },
   {
    "duration": 0,
    "start_time": "2024-12-19T12:33:13.634Z"
   },
   {
    "duration": 0,
    "start_time": "2024-12-19T12:33:13.635Z"
   },
   {
    "duration": 0,
    "start_time": "2024-12-19T12:33:13.636Z"
   },
   {
    "duration": 2634,
    "start_time": "2024-12-19T12:34:01.514Z"
   },
   {
    "duration": 1631,
    "start_time": "2024-12-19T12:34:04.151Z"
   },
   {
    "duration": 974,
    "start_time": "2024-12-19T12:34:05.784Z"
   },
   {
    "duration": 170,
    "start_time": "2024-12-19T12:34:06.760Z"
   },
   {
    "duration": 9,
    "start_time": "2024-12-19T12:34:06.932Z"
   },
   {
    "duration": 185,
    "start_time": "2024-12-19T12:34:06.942Z"
   },
   {
    "duration": 171,
    "start_time": "2024-12-19T12:34:07.129Z"
   },
   {
    "duration": 519,
    "start_time": "2024-12-19T12:34:07.302Z"
   },
   {
    "duration": 1073,
    "start_time": "2024-12-19T12:34:07.823Z"
   },
   {
    "duration": 134,
    "start_time": "2024-12-19T12:34:08.899Z"
   },
   {
    "duration": 36,
    "start_time": "2024-12-19T12:34:09.034Z"
   },
   {
    "duration": 22,
    "start_time": "2024-12-19T12:34:09.072Z"
   },
   {
    "duration": 166,
    "start_time": "2024-12-19T12:34:09.096Z"
   },
   {
    "duration": 3,
    "start_time": "2024-12-19T12:34:09.264Z"
   },
   {
    "duration": 496,
    "start_time": "2024-12-19T12:34:09.269Z"
   },
   {
    "duration": 37,
    "start_time": "2024-12-19T12:34:09.767Z"
   },
   {
    "duration": 26,
    "start_time": "2024-12-19T12:34:09.806Z"
   },
   {
    "duration": 129,
    "start_time": "2024-12-19T12:34:09.834Z"
   },
   {
    "duration": 4904,
    "start_time": "2024-12-19T12:34:09.965Z"
   },
   {
    "duration": 32,
    "start_time": "2024-12-19T12:34:14.870Z"
   },
   {
    "duration": 76,
    "start_time": "2024-12-19T12:34:14.903Z"
   },
   {
    "duration": 13119,
    "start_time": "2024-12-19T12:34:14.981Z"
   },
   {
    "duration": 148,
    "start_time": "2024-12-19T12:34:28.102Z"
   },
   {
    "duration": 46,
    "start_time": "2024-12-19T12:34:28.252Z"
   },
   {
    "duration": 10879,
    "start_time": "2024-12-19T12:34:28.299Z"
   },
   {
    "duration": 108,
    "start_time": "2024-12-19T12:34:39.179Z"
   },
   {
    "duration": 2579,
    "start_time": "2024-12-19T12:34:39.289Z"
   },
   {
    "duration": 39,
    "start_time": "2024-12-19T12:34:41.872Z"
   },
   {
    "duration": 6492,
    "start_time": "2024-12-19T12:34:41.913Z"
   },
   {
    "duration": 105,
    "start_time": "2024-12-19T12:34:48.409Z"
   },
   {
    "duration": 164,
    "start_time": "2024-12-19T12:34:48.516Z"
   },
   {
    "duration": 176,
    "start_time": "2024-12-19T12:34:48.682Z"
   },
   {
    "duration": 133,
    "start_time": "2024-12-19T12:34:48.860Z"
   },
   {
    "duration": 79,
    "start_time": "2024-12-19T12:34:48.995Z"
   },
   {
    "duration": 3,
    "start_time": "2024-12-19T12:34:49.075Z"
   },
   {
    "duration": 6,
    "start_time": "2024-12-19T12:34:49.080Z"
   },
   {
    "duration": 7,
    "start_time": "2024-12-19T12:34:49.088Z"
   },
   {
    "duration": 141,
    "start_time": "2024-12-19T12:34:49.097Z"
   },
   {
    "duration": 33,
    "start_time": "2024-12-19T12:35:26.629Z"
   },
   {
    "duration": 5,
    "start_time": "2024-12-19T12:35:44.022Z"
   },
   {
    "duration": 1585,
    "start_time": "2024-12-19T12:35:44.791Z"
   },
   {
    "duration": 1408,
    "start_time": "2024-12-19T12:37:07.024Z"
   },
   {
    "duration": 23541,
    "start_time": "2024-12-19T12:37:58.900Z"
   },
   {
    "duration": 4,
    "start_time": "2024-12-19T12:39:01.172Z"
   },
   {
    "duration": 34,
    "start_time": "2024-12-19T12:39:02.573Z"
   },
   {
    "duration": 16,
    "start_time": "2024-12-19T12:41:41.819Z"
   },
   {
    "duration": 35,
    "start_time": "2024-12-19T12:41:50.636Z"
   },
   {
    "duration": 58,
    "start_time": "2024-12-19T12:44:57.947Z"
   },
   {
    "duration": 23404,
    "start_time": "2024-12-19T12:46:15.131Z"
   },
   {
    "duration": 2749,
    "start_time": "2024-12-19T12:47:22.851Z"
   },
   {
    "duration": 2722,
    "start_time": "2024-12-19T12:47:25.604Z"
   },
   {
    "duration": 3239,
    "start_time": "2024-12-19T12:47:28.328Z"
   },
   {
    "duration": 152,
    "start_time": "2024-12-19T12:47:31.569Z"
   },
   {
    "duration": 35,
    "start_time": "2024-12-19T12:47:31.729Z"
   },
   {
    "duration": 153,
    "start_time": "2024-12-19T12:47:31.765Z"
   },
   {
    "duration": 93,
    "start_time": "2024-12-19T12:47:31.920Z"
   },
   {
    "duration": 500,
    "start_time": "2024-12-19T12:47:32.014Z"
   },
   {
    "duration": 994,
    "start_time": "2024-12-19T12:47:32.515Z"
   },
   {
    "duration": 124,
    "start_time": "2024-12-19T12:47:33.512Z"
   },
   {
    "duration": 37,
    "start_time": "2024-12-19T12:47:33.637Z"
   },
   {
    "duration": 24,
    "start_time": "2024-12-19T12:47:33.675Z"
   },
   {
    "duration": 171,
    "start_time": "2024-12-19T12:47:33.700Z"
   },
   {
    "duration": 3,
    "start_time": "2024-12-19T12:47:33.873Z"
   },
   {
    "duration": 490,
    "start_time": "2024-12-19T12:47:33.877Z"
   },
   {
    "duration": 28,
    "start_time": "2024-12-19T12:47:34.369Z"
   },
   {
    "duration": 11,
    "start_time": "2024-12-19T12:47:34.399Z"
   },
   {
    "duration": 125,
    "start_time": "2024-12-19T12:47:34.411Z"
   },
   {
    "duration": 4803,
    "start_time": "2024-12-19T12:47:34.537Z"
   },
   {
    "duration": 30,
    "start_time": "2024-12-19T12:47:39.342Z"
   },
   {
    "duration": 75,
    "start_time": "2024-12-19T12:47:39.374Z"
   },
   {
    "duration": 13165,
    "start_time": "2024-12-19T12:47:39.451Z"
   },
   {
    "duration": 146,
    "start_time": "2024-12-19T12:47:52.618Z"
   },
   {
    "duration": 45,
    "start_time": "2024-12-19T12:47:52.766Z"
   },
   {
    "duration": 10937,
    "start_time": "2024-12-19T12:47:52.812Z"
   },
   {
    "duration": 102,
    "start_time": "2024-12-19T12:48:03.751Z"
   },
   {
    "duration": 2586,
    "start_time": "2024-12-19T12:48:03.854Z"
   },
   {
    "duration": 39,
    "start_time": "2024-12-19T12:48:06.444Z"
   },
   {
    "duration": 6387,
    "start_time": "2024-12-19T12:48:06.484Z"
   },
   {
    "duration": 102,
    "start_time": "2024-12-19T12:48:12.873Z"
   },
   {
    "duration": 159,
    "start_time": "2024-12-19T12:48:12.977Z"
   },
   {
    "duration": 175,
    "start_time": "2024-12-19T12:48:13.137Z"
   },
   {
    "duration": 131,
    "start_time": "2024-12-19T12:48:13.314Z"
   },
   {
    "duration": 70,
    "start_time": "2024-12-19T12:48:13.446Z"
   },
   {
    "duration": 12,
    "start_time": "2024-12-19T12:48:13.518Z"
   },
   {
    "duration": 136,
    "start_time": "2024-12-19T12:48:13.532Z"
   },
   {
    "duration": 0,
    "start_time": "2024-12-19T12:48:13.670Z"
   },
   {
    "duration": 0,
    "start_time": "2024-12-19T12:48:13.671Z"
   },
   {
    "duration": 2238,
    "start_time": "2024-12-19T12:48:29.871Z"
   },
   {
    "duration": 4,
    "start_time": "2024-12-19T12:50:06.316Z"
   },
   {
    "duration": 2648,
    "start_time": "2024-12-19T12:51:52.251Z"
   },
   {
    "duration": 1561,
    "start_time": "2024-12-19T12:51:54.902Z"
   },
   {
    "duration": 981,
    "start_time": "2024-12-19T12:51:56.465Z"
   },
   {
    "duration": 173,
    "start_time": "2024-12-19T12:51:57.447Z"
   },
   {
    "duration": 9,
    "start_time": "2024-12-19T12:51:57.622Z"
   },
   {
    "duration": 165,
    "start_time": "2024-12-19T12:51:57.633Z"
   },
   {
    "duration": 110,
    "start_time": "2024-12-19T12:51:57.800Z"
   },
   {
    "duration": 547,
    "start_time": "2024-12-19T12:51:57.911Z"
   },
   {
    "duration": 1054,
    "start_time": "2024-12-19T12:51:58.460Z"
   },
   {
    "duration": 131,
    "start_time": "2024-12-19T12:51:59.516Z"
   },
   {
    "duration": 36,
    "start_time": "2024-12-19T12:51:59.649Z"
   },
   {
    "duration": 23,
    "start_time": "2024-12-19T12:51:59.687Z"
   },
   {
    "duration": 168,
    "start_time": "2024-12-19T12:51:59.712Z"
   },
   {
    "duration": 17,
    "start_time": "2024-12-19T12:51:59.883Z"
   },
   {
    "duration": 467,
    "start_time": "2024-12-19T12:51:59.901Z"
   },
   {
    "duration": 38,
    "start_time": "2024-12-19T12:52:00.370Z"
   },
   {
    "duration": 48,
    "start_time": "2024-12-19T12:52:00.410Z"
   },
   {
    "duration": 183,
    "start_time": "2024-12-19T12:52:00.460Z"
   },
   {
    "duration": 4798,
    "start_time": "2024-12-19T12:52:00.645Z"
   },
   {
    "duration": 33,
    "start_time": "2024-12-19T12:52:05.445Z"
   },
   {
    "duration": 80,
    "start_time": "2024-12-19T12:52:05.480Z"
   },
   {
    "duration": 12787,
    "start_time": "2024-12-19T12:52:05.562Z"
   },
   {
    "duration": 170,
    "start_time": "2024-12-19T12:52:18.350Z"
   },
   {
    "duration": 50,
    "start_time": "2024-12-19T12:52:18.522Z"
   },
   {
    "duration": 10660,
    "start_time": "2024-12-19T12:52:18.574Z"
   },
   {
    "duration": 109,
    "start_time": "2024-12-19T12:52:29.236Z"
   },
   {
    "duration": 2599,
    "start_time": "2024-12-19T12:52:29.347Z"
   },
   {
    "duration": 40,
    "start_time": "2024-12-19T12:52:31.948Z"
   },
   {
    "duration": 6414,
    "start_time": "2024-12-19T12:52:31.989Z"
   },
   {
    "duration": 102,
    "start_time": "2024-12-19T12:52:38.405Z"
   },
   {
    "duration": 157,
    "start_time": "2024-12-19T12:52:38.508Z"
   },
   {
    "duration": 171,
    "start_time": "2024-12-19T12:52:38.667Z"
   },
   {
    "duration": 141,
    "start_time": "2024-12-19T12:52:38.839Z"
   },
   {
    "duration": 77,
    "start_time": "2024-12-19T12:52:38.981Z"
   },
   {
    "duration": 3,
    "start_time": "2024-12-19T12:52:39.060Z"
   },
   {
    "duration": 2239,
    "start_time": "2024-12-19T12:52:39.065Z"
   },
   {
    "duration": 4,
    "start_time": "2024-12-19T12:52:41.306Z"
   },
   {
    "duration": 0,
    "start_time": "2024-12-19T12:52:41.311Z"
   },
   {
    "duration": 4,
    "start_time": "2024-12-19T12:54:07.849Z"
   },
   {
    "duration": 23201,
    "start_time": "2024-12-19T12:55:36.454Z"
   },
   {
    "duration": 126,
    "start_time": "2024-12-19T12:57:12.182Z"
   },
   {
    "duration": 91348,
    "start_time": "2024-12-19T13:02:49.484Z"
   },
   {
    "duration": 1602,
    "start_time": "2024-12-19T13:04:20.836Z"
   },
   {
    "duration": 5835,
    "start_time": "2024-12-19T14:40:08.645Z"
   },
   {
    "duration": 5960,
    "start_time": "2024-12-19T14:40:46.714Z"
   },
   {
    "duration": 1446,
    "start_time": "2024-12-19T14:40:52.676Z"
   },
   {
    "duration": 1000,
    "start_time": "2024-12-19T14:40:54.124Z"
   },
   {
    "duration": 173,
    "start_time": "2024-12-19T14:40:55.131Z"
   },
   {
    "duration": 5,
    "start_time": "2024-12-19T14:40:55.307Z"
   },
   {
    "duration": 177,
    "start_time": "2024-12-19T14:40:55.314Z"
   },
   {
    "duration": 115,
    "start_time": "2024-12-19T14:40:55.494Z"
   },
   {
    "duration": 531,
    "start_time": "2024-12-19T14:40:55.611Z"
   },
   {
    "duration": 1088,
    "start_time": "2024-12-19T14:40:56.144Z"
   },
   {
    "duration": 123,
    "start_time": "2024-12-19T14:40:57.236Z"
   },
   {
    "duration": 36,
    "start_time": "2024-12-19T14:40:57.362Z"
   },
   {
    "duration": 41,
    "start_time": "2024-12-19T14:40:57.400Z"
   },
   {
    "duration": 154,
    "start_time": "2024-12-19T14:40:57.443Z"
   },
   {
    "duration": 4,
    "start_time": "2024-12-19T14:40:57.599Z"
   },
   {
    "duration": 456,
    "start_time": "2024-12-19T14:40:57.604Z"
   },
   {
    "duration": 39,
    "start_time": "2024-12-19T14:40:58.062Z"
   },
   {
    "duration": 29,
    "start_time": "2024-12-19T14:40:58.103Z"
   },
   {
    "duration": 110,
    "start_time": "2024-12-19T14:40:58.134Z"
   },
   {
    "duration": 4905,
    "start_time": "2024-12-19T14:40:58.246Z"
   },
   {
    "duration": 30,
    "start_time": "2024-12-19T14:41:03.153Z"
   },
   {
    "duration": 69,
    "start_time": "2024-12-19T14:41:03.185Z"
   },
   {
    "duration": 12936,
    "start_time": "2024-12-19T14:41:03.256Z"
   },
   {
    "duration": 151,
    "start_time": "2024-12-19T14:41:16.194Z"
   },
   {
    "duration": 48,
    "start_time": "2024-12-19T14:41:16.347Z"
   },
   {
    "duration": 10995,
    "start_time": "2024-12-19T14:41:16.397Z"
   },
   {
    "duration": 103,
    "start_time": "2024-12-19T14:41:27.394Z"
   },
   {
    "duration": 2569,
    "start_time": "2024-12-19T14:41:27.498Z"
   },
   {
    "duration": 39,
    "start_time": "2024-12-19T14:41:30.071Z"
   },
   {
    "duration": 6469,
    "start_time": "2024-12-19T14:41:30.112Z"
   },
   {
    "duration": 103,
    "start_time": "2024-12-19T14:41:36.582Z"
   },
   {
    "duration": 156,
    "start_time": "2024-12-19T14:41:36.686Z"
   },
   {
    "duration": 168,
    "start_time": "2024-12-19T14:41:36.844Z"
   },
   {
    "duration": 134,
    "start_time": "2024-12-19T14:41:37.014Z"
   },
   {
    "duration": 68,
    "start_time": "2024-12-19T14:41:37.149Z"
   },
   {
    "duration": 3,
    "start_time": "2024-12-19T14:41:37.229Z"
   },
   {
    "duration": 2270,
    "start_time": "2024-12-19T14:41:37.234Z"
   },
   {
    "duration": 22851,
    "start_time": "2024-12-19T14:41:39.506Z"
   },
   {
    "duration": 91475,
    "start_time": "2024-12-19T14:42:02.358Z"
   },
   {
    "duration": 1819,
    "start_time": "2024-12-19T14:43:33.836Z"
   },
   {
    "duration": 1449,
    "start_time": "2024-12-19T14:45:38.885Z"
   },
   {
    "duration": 1465,
    "start_time": "2024-12-19T14:48:04.070Z"
   },
   {
    "duration": 1439,
    "start_time": "2024-12-19T14:48:11.899Z"
   },
   {
    "duration": 1437,
    "start_time": "2024-12-19T14:48:19.995Z"
   },
   {
    "duration": 3,
    "start_time": "2024-12-19T14:48:33.466Z"
   },
   {
    "duration": 12,
    "start_time": "2024-12-19T14:59:32.637Z"
   },
   {
    "duration": 568479,
    "start_time": "2024-12-19T14:59:39.696Z"
   },
   {
    "duration": 558810,
    "start_time": "2024-12-19T15:33:56.228Z"
   },
   {
    "duration": 12,
    "start_time": "2024-12-19T15:46:37.824Z"
   },
   {
    "duration": 163512,
    "start_time": "2024-12-19T15:47:08.339Z"
   },
   {
    "duration": 182059,
    "start_time": "2024-12-19T15:51:02.608Z"
   },
   {
    "duration": 34,
    "start_time": "2024-12-19T15:54:04.670Z"
   },
   {
    "duration": 30,
    "start_time": "2024-12-19T15:54:04.706Z"
   },
   {
    "duration": 4,
    "start_time": "2024-12-19T15:54:35.868Z"
   },
   {
    "duration": 2070,
    "start_time": "2024-12-19T15:56:12.563Z"
   },
   {
    "duration": 18676,
    "start_time": "2024-12-19T15:58:23.670Z"
   },
   {
    "duration": 1243,
    "start_time": "2024-12-19T15:59:22.658Z"
   },
   {
    "duration": 165812,
    "start_time": "2024-12-19T16:04:58.287Z"
   },
   {
    "duration": 6109,
    "start_time": "2024-12-19T16:14:55.710Z"
   },
   {
    "duration": 5936,
    "start_time": "2024-12-19T16:15:20.935Z"
   },
   {
    "duration": 1463,
    "start_time": "2024-12-19T16:15:26.873Z"
   },
   {
    "duration": 1022,
    "start_time": "2024-12-19T16:15:28.337Z"
   },
   {
    "duration": 160,
    "start_time": "2024-12-19T16:15:29.361Z"
   },
   {
    "duration": 5,
    "start_time": "2024-12-19T16:15:29.529Z"
   },
   {
    "duration": 162,
    "start_time": "2024-12-19T16:15:29.535Z"
   },
   {
    "duration": 153,
    "start_time": "2024-12-19T16:15:29.699Z"
   },
   {
    "duration": 539,
    "start_time": "2024-12-19T16:15:29.854Z"
   },
   {
    "duration": 1048,
    "start_time": "2024-12-19T16:15:30.395Z"
   },
   {
    "duration": 137,
    "start_time": "2024-12-19T16:15:31.445Z"
   },
   {
    "duration": 36,
    "start_time": "2024-12-19T16:15:31.583Z"
   },
   {
    "duration": 32,
    "start_time": "2024-12-19T16:15:31.620Z"
   },
   {
    "duration": 157,
    "start_time": "2024-12-19T16:15:31.655Z"
   },
   {
    "duration": 4,
    "start_time": "2024-12-19T16:15:31.816Z"
   },
   {
    "duration": 491,
    "start_time": "2024-12-19T16:15:31.830Z"
   },
   {
    "duration": 41,
    "start_time": "2024-12-19T16:15:32.323Z"
   },
   {
    "duration": 41,
    "start_time": "2024-12-19T16:15:32.366Z"
   },
   {
    "duration": 115,
    "start_time": "2024-12-19T16:15:32.409Z"
   },
   {
    "duration": 4945,
    "start_time": "2024-12-19T16:15:32.525Z"
   },
   {
    "duration": 32,
    "start_time": "2024-12-19T16:15:37.471Z"
   },
   {
    "duration": 79,
    "start_time": "2024-12-19T16:15:37.505Z"
   },
   {
    "duration": 13359,
    "start_time": "2024-12-19T16:15:37.586Z"
   },
   {
    "duration": 174,
    "start_time": "2024-12-19T16:15:50.947Z"
   },
   {
    "duration": 51,
    "start_time": "2024-12-19T16:15:51.123Z"
   },
   {
    "duration": 11354,
    "start_time": "2024-12-19T16:15:51.176Z"
   },
   {
    "duration": 110,
    "start_time": "2024-12-19T16:16:02.531Z"
   },
   {
    "duration": 2655,
    "start_time": "2024-12-19T16:16:02.642Z"
   },
   {
    "duration": 44,
    "start_time": "2024-12-19T16:16:05.299Z"
   },
   {
    "duration": 6722,
    "start_time": "2024-12-19T16:16:05.344Z"
   },
   {
    "duration": 114,
    "start_time": "2024-12-19T16:16:12.068Z"
   },
   {
    "duration": 170,
    "start_time": "2024-12-19T16:16:12.184Z"
   },
   {
    "duration": 182,
    "start_time": "2024-12-19T16:16:12.355Z"
   },
   {
    "duration": 141,
    "start_time": "2024-12-19T16:16:12.539Z"
   },
   {
    "duration": 88,
    "start_time": "2024-12-19T16:16:12.682Z"
   },
   {
    "duration": 4,
    "start_time": "2024-12-19T16:16:12.772Z"
   },
   {
    "duration": 2300,
    "start_time": "2024-12-19T16:16:12.777Z"
   },
   {
    "duration": 4,
    "start_time": "2024-12-19T16:16:15.079Z"
   },
   {
    "duration": 0,
    "start_time": "2024-12-19T16:16:15.085Z"
   },
   {
    "duration": 0,
    "start_time": "2024-12-19T16:16:15.087Z"
   },
   {
    "duration": 0,
    "start_time": "2024-12-19T16:16:15.088Z"
   },
   {
    "duration": 0,
    "start_time": "2024-12-19T16:16:15.089Z"
   },
   {
    "duration": 0,
    "start_time": "2024-12-19T16:16:15.090Z"
   },
   {
    "duration": 0,
    "start_time": "2024-12-19T16:16:15.091Z"
   },
   {
    "duration": 0,
    "start_time": "2024-12-19T16:16:15.092Z"
   },
   {
    "duration": 0,
    "start_time": "2024-12-19T16:16:15.093Z"
   },
   {
    "duration": 0,
    "start_time": "2024-12-19T16:16:15.094Z"
   },
   {
    "duration": 0,
    "start_time": "2024-12-19T16:16:15.095Z"
   },
   {
    "duration": 0,
    "start_time": "2024-12-19T16:16:15.096Z"
   },
   {
    "duration": 0,
    "start_time": "2024-12-19T16:16:15.098Z"
   },
   {
    "duration": 136,
    "start_time": "2024-12-19T16:17:24.517Z"
   },
   {
    "duration": 4,
    "start_time": "2024-12-19T16:17:38.459Z"
   },
   {
    "duration": 10,
    "start_time": "2024-12-19T16:17:49.916Z"
   },
   {
    "duration": 3,
    "start_time": "2024-12-19T16:18:50.011Z"
   },
   {
    "duration": 33989,
    "start_time": "2024-12-19T16:19:02.182Z"
   },
   {
    "duration": 131656,
    "start_time": "2024-12-19T16:19:36.174Z"
   },
   {
    "duration": 117,
    "start_time": "2024-12-19T16:21:47.834Z"
   },
   {
    "duration": 595885,
    "start_time": "2024-12-19T16:21:47.952Z"
   },
   {
    "duration": 19405,
    "start_time": "2024-12-19T16:31:43.840Z"
   },
   {
    "duration": 1265,
    "start_time": "2024-12-19T16:32:03.246Z"
   },
   {
    "duration": 6075,
    "start_time": "2024-12-19T16:38:12.174Z"
   },
   {
    "duration": 1430,
    "start_time": "2024-12-19T16:38:18.251Z"
   },
   {
    "duration": 1103,
    "start_time": "2024-12-19T16:38:19.683Z"
   },
   {
    "duration": 218,
    "start_time": "2024-12-19T16:38:20.788Z"
   },
   {
    "duration": 5,
    "start_time": "2024-12-19T16:38:21.007Z"
   },
   {
    "duration": 187,
    "start_time": "2024-12-19T16:38:21.013Z"
   },
   {
    "duration": 116,
    "start_time": "2024-12-19T16:38:21.202Z"
   },
   {
    "duration": 545,
    "start_time": "2024-12-19T16:38:21.320Z"
   },
   {
    "duration": 1086,
    "start_time": "2024-12-19T16:38:21.866Z"
   },
   {
    "duration": 126,
    "start_time": "2024-12-19T16:38:22.954Z"
   },
   {
    "duration": 35,
    "start_time": "2024-12-19T16:38:23.081Z"
   },
   {
    "duration": 24,
    "start_time": "2024-12-19T16:38:23.142Z"
   },
   {
    "duration": 177,
    "start_time": "2024-12-19T16:38:23.168Z"
   },
   {
    "duration": 3,
    "start_time": "2024-12-19T16:38:23.347Z"
   },
   {
    "duration": 490,
    "start_time": "2024-12-19T16:38:23.351Z"
   },
   {
    "duration": 40,
    "start_time": "2024-12-19T16:38:23.843Z"
   },
   {
    "duration": 31,
    "start_time": "2024-12-19T16:38:23.885Z"
   },
   {
    "duration": 125,
    "start_time": "2024-12-19T16:38:23.917Z"
   },
   {
    "duration": 5145,
    "start_time": "2024-12-19T16:38:24.044Z"
   },
   {
    "duration": 51,
    "start_time": "2024-12-19T16:38:29.190Z"
   },
   {
    "duration": 62,
    "start_time": "2024-12-19T16:38:29.244Z"
   },
   {
    "duration": 13612,
    "start_time": "2024-12-19T16:38:29.307Z"
   },
   {
    "duration": 170,
    "start_time": "2024-12-19T16:38:42.921Z"
   },
   {
    "duration": 58,
    "start_time": "2024-12-19T16:38:43.092Z"
   },
   {
    "duration": 11386,
    "start_time": "2024-12-19T16:38:43.152Z"
   },
   {
    "duration": 105,
    "start_time": "2024-12-19T16:38:54.545Z"
   },
   {
    "duration": 2727,
    "start_time": "2024-12-19T16:38:54.652Z"
   },
   {
    "duration": 61,
    "start_time": "2024-12-19T16:38:57.382Z"
   },
   {
    "duration": 6900,
    "start_time": "2024-12-19T16:38:57.445Z"
   },
   {
    "duration": 107,
    "start_time": "2024-12-19T16:39:04.347Z"
   },
   {
    "duration": 163,
    "start_time": "2024-12-19T16:39:04.456Z"
   },
   {
    "duration": 219,
    "start_time": "2024-12-19T16:39:04.620Z"
   },
   {
    "duration": 145,
    "start_time": "2024-12-19T16:39:04.841Z"
   },
   {
    "duration": 88,
    "start_time": "2024-12-19T16:39:04.988Z"
   },
   {
    "duration": 4,
    "start_time": "2024-12-19T16:39:05.078Z"
   },
   {
    "duration": 2353,
    "start_time": "2024-12-19T16:39:05.084Z"
   },
   {
    "duration": 39019,
    "start_time": "2024-12-19T16:39:07.442Z"
   },
   {
    "duration": 166575,
    "start_time": "2024-12-19T16:39:46.463Z"
   },
   {
    "duration": 1502,
    "start_time": "2024-12-19T16:42:33.040Z"
   },
   {
    "duration": 602000,
    "start_time": "2024-12-19T16:42:34.544Z"
   },
   {
    "duration": 19169,
    "start_time": "2024-12-19T16:52:36.545Z"
   },
   {
    "duration": 1307,
    "start_time": "2024-12-19T16:52:55.715Z"
   },
   {
    "duration": 18,
    "start_time": "2024-12-19T17:15:09.299Z"
   },
   {
    "duration": 5,
    "start_time": "2024-12-19T17:15:09.319Z"
   },
   {
    "duration": 0,
    "start_time": "2024-12-19T17:15:09.325Z"
   },
   {
    "duration": 0,
    "start_time": "2024-12-19T17:15:09.326Z"
   },
   {
    "duration": 0,
    "start_time": "2024-12-19T17:15:09.327Z"
   },
   {
    "duration": 0,
    "start_time": "2024-12-19T17:15:09.329Z"
   },
   {
    "duration": 5758,
    "start_time": "2024-12-19T17:55:37.812Z"
   },
   {
    "duration": 2072,
    "start_time": "2024-12-19T17:55:43.572Z"
   },
   {
    "duration": 164570,
    "start_time": "2024-12-19T17:55:45.646Z"
   },
   {
    "duration": 679959,
    "start_time": "2024-12-19T17:58:30.218Z"
   },
   {
    "duration": 245,
    "start_time": "2024-12-19T18:09:50.179Z"
   },
   {
    "duration": 1577,
    "start_time": "2024-12-19T18:10:50.738Z"
   },
   {
    "duration": 3,
    "start_time": "2024-12-19T18:30:16.067Z"
   },
   {
    "duration": 12,
    "start_time": "2024-12-19T18:44:38.068Z"
   },
   {
    "duration": 14,
    "start_time": "2024-12-19T18:44:54.485Z"
   },
   {
    "duration": 5792,
    "start_time": "2024-12-19T18:51:36.084Z"
   },
   {
    "duration": 1445,
    "start_time": "2024-12-19T18:51:41.878Z"
   },
   {
    "duration": 963,
    "start_time": "2024-12-19T18:51:43.324Z"
   },
   {
    "duration": 169,
    "start_time": "2024-12-19T18:51:44.289Z"
   },
   {
    "duration": 4,
    "start_time": "2024-12-19T18:51:44.461Z"
   },
   {
    "duration": 169,
    "start_time": "2024-12-19T18:51:44.466Z"
   },
   {
    "duration": 119,
    "start_time": "2024-12-19T18:51:44.637Z"
   },
   {
    "duration": 516,
    "start_time": "2024-12-19T18:51:44.758Z"
   },
   {
    "duration": 1041,
    "start_time": "2024-12-19T18:51:45.276Z"
   },
   {
    "duration": 124,
    "start_time": "2024-12-19T18:51:46.320Z"
   },
   {
    "duration": 34,
    "start_time": "2024-12-19T18:51:46.446Z"
   },
   {
    "duration": 23,
    "start_time": "2024-12-19T18:51:46.482Z"
   },
   {
    "duration": 167,
    "start_time": "2024-12-19T18:51:46.507Z"
   },
   {
    "duration": 3,
    "start_time": "2024-12-19T18:51:46.675Z"
   },
   {
    "duration": 458,
    "start_time": "2024-12-19T18:51:46.680Z"
   },
   {
    "duration": 38,
    "start_time": "2024-12-19T18:51:47.140Z"
   },
   {
    "duration": 14,
    "start_time": "2024-12-19T18:51:47.180Z"
   },
   {
    "duration": 117,
    "start_time": "2024-12-19T18:51:47.195Z"
   },
   {
    "duration": 4718,
    "start_time": "2024-12-19T18:51:47.314Z"
   },
   {
    "duration": 31,
    "start_time": "2024-12-19T18:51:52.035Z"
   },
   {
    "duration": 72,
    "start_time": "2024-12-19T18:51:52.067Z"
   },
   {
    "duration": 13156,
    "start_time": "2024-12-19T18:51:52.141Z"
   },
   {
    "duration": 153,
    "start_time": "2024-12-19T18:52:05.299Z"
   },
   {
    "duration": 47,
    "start_time": "2024-12-19T18:52:05.454Z"
   },
   {
    "duration": 10812,
    "start_time": "2024-12-19T18:52:05.503Z"
   },
   {
    "duration": 106,
    "start_time": "2024-12-19T18:52:16.317Z"
   },
   {
    "duration": 2555,
    "start_time": "2024-12-19T18:52:16.430Z"
   },
   {
    "duration": 47,
    "start_time": "2024-12-19T18:52:18.989Z"
   },
   {
    "duration": 6394,
    "start_time": "2024-12-19T18:52:19.038Z"
   },
   {
    "duration": 106,
    "start_time": "2024-12-19T18:52:25.434Z"
   },
   {
    "duration": 153,
    "start_time": "2024-12-19T18:52:25.542Z"
   },
   {
    "duration": 171,
    "start_time": "2024-12-19T18:52:25.697Z"
   },
   {
    "duration": 139,
    "start_time": "2024-12-19T18:52:25.870Z"
   },
   {
    "duration": 77,
    "start_time": "2024-12-19T18:52:26.011Z"
   },
   {
    "duration": 3,
    "start_time": "2024-12-19T18:52:26.090Z"
   },
   {
    "duration": 2335,
    "start_time": "2024-12-19T18:52:26.095Z"
   },
   {
    "duration": 21829,
    "start_time": "2024-12-19T18:52:28.432Z"
   },
   {
    "duration": 89471,
    "start_time": "2024-12-19T18:52:50.263Z"
   },
   {
    "duration": 1596,
    "start_time": "2024-12-19T18:54:19.736Z"
   },
   {
    "duration": 560727,
    "start_time": "2024-12-19T18:54:21.334Z"
   },
   {
    "duration": 17705,
    "start_time": "2024-12-19T19:03:42.063Z"
   },
   {
    "duration": 1254,
    "start_time": "2024-12-19T19:03:59.770Z"
   },
   {
    "duration": 147158,
    "start_time": "2024-12-19T19:04:01.026Z"
   },
   {
    "duration": 19,
    "start_time": "2024-12-19T19:06:28.186Z"
   },
   {
    "duration": 4456,
    "start_time": "2024-12-19T19:06:28.207Z"
   },
   {
    "duration": 1982,
    "start_time": "2024-12-19T19:06:32.665Z"
   },
   {
    "duration": 158604,
    "start_time": "2024-12-19T19:06:34.649Z"
   },
   {
    "duration": 643849,
    "start_time": "2024-12-19T19:09:13.254Z"
   },
   {
    "duration": 1590,
    "start_time": "2024-12-19T19:19:57.106Z"
   },
   {
    "duration": 13,
    "start_time": "2024-12-19T19:19:58.699Z"
   },
   {
    "duration": 159317,
    "start_time": "2024-12-19T19:21:03.367Z"
   },
   {
    "duration": 1553,
    "start_time": "2024-12-19T19:26:14.127Z"
   },
   {
    "duration": 125,
    "start_time": "2024-12-19T19:26:38.621Z"
   },
   {
    "duration": 6228,
    "start_time": "2024-12-19T21:30:29.579Z"
   },
   {
    "duration": 1566,
    "start_time": "2024-12-19T21:30:35.809Z"
   },
   {
    "duration": 1032,
    "start_time": "2024-12-19T21:30:37.376Z"
   },
   {
    "duration": 171,
    "start_time": "2024-12-19T21:30:38.415Z"
   },
   {
    "duration": 4,
    "start_time": "2024-12-19T21:30:38.588Z"
   },
   {
    "duration": 182,
    "start_time": "2024-12-19T21:30:38.594Z"
   },
   {
    "duration": 165,
    "start_time": "2024-12-19T21:30:38.777Z"
   },
   {
    "duration": 586,
    "start_time": "2024-12-19T21:30:38.945Z"
   },
   {
    "duration": 1143,
    "start_time": "2024-12-19T21:30:39.533Z"
   },
   {
    "duration": 141,
    "start_time": "2024-12-19T21:30:40.679Z"
   },
   {
    "duration": 48,
    "start_time": "2024-12-19T21:30:40.821Z"
   },
   {
    "duration": 32,
    "start_time": "2024-12-19T21:30:40.871Z"
   },
   {
    "duration": 171,
    "start_time": "2024-12-19T21:30:40.904Z"
   },
   {
    "duration": 4,
    "start_time": "2024-12-19T21:30:41.076Z"
   },
   {
    "duration": 522,
    "start_time": "2024-12-19T21:30:41.082Z"
   },
   {
    "duration": 46,
    "start_time": "2024-12-19T21:30:41.605Z"
   },
   {
    "duration": 14,
    "start_time": "2024-12-19T21:30:41.653Z"
   },
   {
    "duration": 121,
    "start_time": "2024-12-19T21:30:41.669Z"
   },
   {
    "duration": 4952,
    "start_time": "2024-12-19T21:30:41.792Z"
   },
   {
    "duration": 30,
    "start_time": "2024-12-19T21:30:46.746Z"
   },
   {
    "duration": 84,
    "start_time": "2024-12-19T21:30:46.778Z"
   },
   {
    "duration": 13653,
    "start_time": "2024-12-19T21:30:46.864Z"
   },
   {
    "duration": 164,
    "start_time": "2024-12-19T21:31:00.519Z"
   },
   {
    "duration": 55,
    "start_time": "2024-12-19T21:31:00.684Z"
   },
   {
    "duration": 11278,
    "start_time": "2024-12-19T21:31:00.741Z"
   },
   {
    "duration": 122,
    "start_time": "2024-12-19T21:31:12.021Z"
   },
   {
    "duration": 2673,
    "start_time": "2024-12-19T21:31:12.145Z"
   },
   {
    "duration": 45,
    "start_time": "2024-12-19T21:31:14.830Z"
   },
   {
    "duration": 6802,
    "start_time": "2024-12-19T21:31:14.877Z"
   },
   {
    "duration": 108,
    "start_time": "2024-12-19T21:31:21.681Z"
   },
   {
    "duration": 177,
    "start_time": "2024-12-19T21:31:21.790Z"
   },
   {
    "duration": 186,
    "start_time": "2024-12-19T21:31:21.968Z"
   },
   {
    "duration": 141,
    "start_time": "2024-12-19T21:31:22.156Z"
   },
   {
    "duration": 82,
    "start_time": "2024-12-19T21:31:22.299Z"
   },
   {
    "duration": 3,
    "start_time": "2024-12-19T21:31:22.383Z"
   },
   {
    "duration": 2437,
    "start_time": "2024-12-19T21:31:22.388Z"
   },
   {
    "duration": 25734,
    "start_time": "2024-12-19T21:31:24.830Z"
   },
   {
    "duration": 109168,
    "start_time": "2024-12-19T21:31:50.566Z"
   },
   {
    "duration": 1604,
    "start_time": "2024-12-19T21:33:39.736Z"
   },
   {
    "duration": 580294,
    "start_time": "2024-12-19T21:33:41.346Z"
   },
   {
    "duration": 18441,
    "start_time": "2024-12-19T21:43:21.642Z"
   },
   {
    "duration": 1261,
    "start_time": "2024-12-19T21:43:40.085Z"
   },
   {
    "duration": 26,
    "start_time": "2024-12-19T23:01:43.807Z"
   },
   {
    "duration": 195643,
    "start_time": "2024-12-19T23:01:43.835Z"
   },
   {
    "duration": 2073,
    "start_time": "2024-12-19T23:04:59.480Z"
   },
   {
    "duration": 156428,
    "start_time": "2024-12-19T23:05:01.555Z"
   },
   {
    "duration": 647111,
    "start_time": "2024-12-19T23:07:37.985Z"
   },
   {
    "duration": 1551,
    "start_time": "2024-12-19T23:18:25.098Z"
   },
   {
    "duration": 139,
    "start_time": "2024-12-19T23:18:26.650Z"
   },
   {
    "duration": 0,
    "start_time": "2024-12-19T23:18:26.793Z"
   },
   {
    "duration": 12,
    "start_time": "2024-12-19T23:46:45.309Z"
   },
   {
    "duration": 10569,
    "start_time": "2024-12-20T09:13:40.708Z"
   },
   {
    "duration": 1531,
    "start_time": "2024-12-20T09:13:51.279Z"
   },
   {
    "duration": 1005,
    "start_time": "2024-12-20T09:13:52.812Z"
   },
   {
    "duration": 122,
    "start_time": "2024-12-20T09:13:53.819Z"
   },
   {
    "duration": 4,
    "start_time": "2024-12-20T09:13:53.942Z"
   },
   {
    "duration": 127,
    "start_time": "2024-12-20T09:13:53.948Z"
   },
   {
    "duration": 99,
    "start_time": "2024-12-20T09:13:54.076Z"
   },
   {
    "duration": 386,
    "start_time": "2024-12-20T09:13:54.177Z"
   },
   {
    "duration": 792,
    "start_time": "2024-12-20T09:13:54.565Z"
   },
   {
    "duration": 107,
    "start_time": "2024-12-20T09:13:55.360Z"
   },
   {
    "duration": 31,
    "start_time": "2024-12-20T09:13:55.468Z"
   },
   {
    "duration": 19,
    "start_time": "2024-12-20T09:13:55.511Z"
   },
   {
    "duration": 111,
    "start_time": "2024-12-20T09:13:55.531Z"
   },
   {
    "duration": 5,
    "start_time": "2024-12-20T09:13:55.644Z"
   },
   {
    "duration": 372,
    "start_time": "2024-12-20T09:13:55.650Z"
   },
   {
    "duration": 33,
    "start_time": "2024-12-20T09:13:56.023Z"
   },
   {
    "duration": 21,
    "start_time": "2024-12-20T09:13:56.057Z"
   },
   {
    "duration": 86,
    "start_time": "2024-12-20T09:13:56.079Z"
   },
   {
    "duration": 4390,
    "start_time": "2024-12-20T09:13:56.166Z"
   },
   {
    "duration": 30,
    "start_time": "2024-12-20T09:14:00.557Z"
   },
   {
    "duration": 69,
    "start_time": "2024-12-20T09:14:00.588Z"
   },
   {
    "duration": 1400,
    "start_time": "2024-12-20T09:14:00.658Z"
   },
   {
    "duration": 118,
    "start_time": "2024-12-20T09:14:02.059Z"
   },
   {
    "duration": 132,
    "start_time": "2024-12-20T09:14:02.179Z"
   },
   {
    "duration": 8792,
    "start_time": "2024-12-20T09:14:02.313Z"
   },
   {
    "duration": 100,
    "start_time": "2024-12-20T09:14:11.111Z"
   },
   {
    "duration": 2219,
    "start_time": "2024-12-20T09:14:11.212Z"
   },
   {
    "duration": 30,
    "start_time": "2024-12-20T09:14:13.434Z"
   },
   {
    "duration": 7181,
    "start_time": "2024-12-20T09:14:13.466Z"
   },
   {
    "duration": 118,
    "start_time": "2024-12-20T09:14:20.650Z"
   },
   {
    "duration": 176,
    "start_time": "2024-12-20T09:14:20.769Z"
   },
   {
    "duration": 194,
    "start_time": "2024-12-20T09:14:20.946Z"
   },
   {
    "duration": 147,
    "start_time": "2024-12-20T09:14:21.141Z"
   },
   {
    "duration": 70,
    "start_time": "2024-12-20T09:14:21.289Z"
   },
   {
    "duration": 3,
    "start_time": "2024-12-20T09:14:21.360Z"
   },
   {
    "duration": 5385,
    "start_time": "2024-12-20T09:14:21.364Z"
   },
   {
    "duration": 54,
    "start_time": "2024-12-20T09:22:56.865Z"
   },
   {
    "duration": 5976,
    "start_time": "2024-12-20T09:23:04.745Z"
   },
   {
    "duration": 1833,
    "start_time": "2024-12-20T09:23:10.724Z"
   },
   {
    "duration": 1026,
    "start_time": "2024-12-20T09:23:12.558Z"
   },
   {
    "duration": 108,
    "start_time": "2024-12-20T09:23:13.585Z"
   },
   {
    "duration": 5,
    "start_time": "2024-12-20T09:23:13.695Z"
   },
   {
    "duration": 126,
    "start_time": "2024-12-20T09:23:13.701Z"
   },
   {
    "duration": 86,
    "start_time": "2024-12-20T09:23:13.828Z"
   },
   {
    "duration": 393,
    "start_time": "2024-12-20T09:23:13.916Z"
   },
   {
    "duration": 795,
    "start_time": "2024-12-20T09:23:14.311Z"
   },
   {
    "duration": 113,
    "start_time": "2024-12-20T09:23:15.111Z"
   },
   {
    "duration": 32,
    "start_time": "2024-12-20T09:23:15.225Z"
   },
   {
    "duration": 32,
    "start_time": "2024-12-20T09:23:15.258Z"
   },
   {
    "duration": 113,
    "start_time": "2024-12-20T09:23:15.291Z"
   },
   {
    "duration": 18,
    "start_time": "2024-12-20T09:23:15.407Z"
   },
   {
    "duration": 390,
    "start_time": "2024-12-20T09:23:15.427Z"
   },
   {
    "duration": 32,
    "start_time": "2024-12-20T09:23:15.819Z"
   },
   {
    "duration": 34,
    "start_time": "2024-12-20T09:23:15.853Z"
   },
   {
    "duration": 108,
    "start_time": "2024-12-20T09:23:15.889Z"
   },
   {
    "duration": 4447,
    "start_time": "2024-12-20T09:23:15.998Z"
   },
   {
    "duration": 26,
    "start_time": "2024-12-20T09:23:20.447Z"
   },
   {
    "duration": 66,
    "start_time": "2024-12-20T09:23:20.474Z"
   },
   {
    "duration": 883,
    "start_time": "2024-12-20T09:23:20.541Z"
   },
   {
    "duration": 126,
    "start_time": "2024-12-20T09:23:21.425Z"
   },
   {
    "duration": 44,
    "start_time": "2024-12-20T09:23:21.552Z"
   },
   {
    "duration": 8707,
    "start_time": "2024-12-20T09:23:21.598Z"
   },
   {
    "duration": 72,
    "start_time": "2024-12-20T09:23:30.306Z"
   },
   {
    "duration": 2242,
    "start_time": "2024-12-20T09:23:30.380Z"
   },
   {
    "duration": 28,
    "start_time": "2024-12-20T09:23:32.624Z"
   },
   {
    "duration": 5484,
    "start_time": "2024-12-20T09:23:32.654Z"
   },
   {
    "duration": 80,
    "start_time": "2024-12-20T09:23:38.139Z"
   },
   {
    "duration": 156,
    "start_time": "2024-12-20T09:23:38.220Z"
   },
   {
    "duration": 162,
    "start_time": "2024-12-20T09:23:38.377Z"
   },
   {
    "duration": 125,
    "start_time": "2024-12-20T09:23:38.541Z"
   },
   {
    "duration": 57,
    "start_time": "2024-12-20T09:23:38.667Z"
   },
   {
    "duration": 3,
    "start_time": "2024-12-20T09:23:38.725Z"
   },
   {
    "duration": 2028,
    "start_time": "2024-12-20T09:23:38.729Z"
   },
   {
    "duration": 16175,
    "start_time": "2024-12-20T09:23:40.759Z"
   },
   {
    "duration": 68885,
    "start_time": "2024-12-20T09:23:56.936Z"
   },
   {
    "duration": 1404,
    "start_time": "2024-12-20T09:25:05.912Z"
   },
   {
    "duration": 9780,
    "start_time": "2024-12-21T01:44:00.037Z"
   },
   {
    "duration": 1474,
    "start_time": "2024-12-21T01:44:09.820Z"
   },
   {
    "duration": 2837,
    "start_time": "2024-12-21T01:44:11.296Z"
   },
   {
    "duration": 154,
    "start_time": "2024-12-21T01:44:14.135Z"
   },
   {
    "duration": 5,
    "start_time": "2024-12-21T01:44:14.291Z"
   },
   {
    "duration": 168,
    "start_time": "2024-12-21T01:44:14.297Z"
   },
   {
    "duration": 99,
    "start_time": "2024-12-21T01:44:14.467Z"
   },
   {
    "duration": 442,
    "start_time": "2024-12-21T01:44:14.568Z"
   },
   {
    "duration": 929,
    "start_time": "2024-12-21T01:44:15.012Z"
   },
   {
    "duration": 107,
    "start_time": "2024-12-21T01:44:15.944Z"
   },
   {
    "duration": 30,
    "start_time": "2024-12-21T01:44:16.052Z"
   },
   {
    "duration": 19,
    "start_time": "2024-12-21T01:44:16.084Z"
   },
   {
    "duration": 143,
    "start_time": "2024-12-21T01:44:16.105Z"
   },
   {
    "duration": 77,
    "start_time": "2024-12-21T01:44:16.250Z"
   },
   {
    "duration": 479,
    "start_time": "2024-12-21T01:44:16.329Z"
   },
   {
    "duration": 43,
    "start_time": "2024-12-21T01:44:16.810Z"
   },
   {
    "duration": 11,
    "start_time": "2024-12-21T01:44:16.855Z"
   },
   {
    "duration": 100,
    "start_time": "2024-12-21T01:44:16.868Z"
   },
   {
    "duration": 4286,
    "start_time": "2024-12-21T01:44:16.970Z"
   },
   {
    "duration": 28,
    "start_time": "2024-12-21T01:44:21.258Z"
   },
   {
    "duration": 65,
    "start_time": "2024-12-21T01:44:21.287Z"
   },
   {
    "duration": 905,
    "start_time": "2024-12-21T01:44:21.353Z"
   },
   {
    "duration": 129,
    "start_time": "2024-12-21T01:44:22.259Z"
   },
   {
    "duration": 58,
    "start_time": "2024-12-21T01:44:22.392Z"
   },
   {
    "duration": 916,
    "start_time": "2024-12-21T01:44:22.452Z"
   },
   {
    "duration": 85,
    "start_time": "2024-12-21T01:44:23.369Z"
   },
   {
    "duration": 2226,
    "start_time": "2024-12-21T01:44:23.456Z"
   },
   {
    "duration": 32,
    "start_time": "2024-12-21T01:44:25.685Z"
   },
   {
    "duration": 5224,
    "start_time": "2024-12-21T01:44:25.718Z"
   },
   {
    "duration": 87,
    "start_time": "2024-12-21T01:44:30.944Z"
   },
   {
    "duration": 128,
    "start_time": "2024-12-21T01:44:31.033Z"
   },
   {
    "duration": 144,
    "start_time": "2024-12-21T01:44:31.163Z"
   },
   {
    "duration": 118,
    "start_time": "2024-12-21T01:44:31.308Z"
   },
   {
    "duration": 57,
    "start_time": "2024-12-21T01:44:31.428Z"
   },
   {
    "duration": 3,
    "start_time": "2024-12-21T01:44:31.487Z"
   },
   {
    "duration": 137,
    "start_time": "2024-12-21T01:44:31.491Z"
   },
   {
    "duration": 0,
    "start_time": "2024-12-21T01:44:31.629Z"
   },
   {
    "duration": 0,
    "start_time": "2024-12-21T01:44:31.631Z"
   },
   {
    "duration": 0,
    "start_time": "2024-12-21T01:44:31.631Z"
   },
   {
    "duration": 0,
    "start_time": "2024-12-21T01:44:31.632Z"
   },
   {
    "duration": 0,
    "start_time": "2024-12-21T01:44:31.633Z"
   },
   {
    "duration": 0,
    "start_time": "2024-12-21T01:44:31.634Z"
   },
   {
    "duration": 0,
    "start_time": "2024-12-21T01:44:31.635Z"
   },
   {
    "duration": 0,
    "start_time": "2024-12-21T01:44:31.636Z"
   },
   {
    "duration": 0,
    "start_time": "2024-12-21T01:44:31.637Z"
   },
   {
    "duration": 0,
    "start_time": "2024-12-21T01:44:31.638Z"
   },
   {
    "duration": 0,
    "start_time": "2024-12-21T01:44:31.639Z"
   },
   {
    "duration": 0,
    "start_time": "2024-12-21T01:44:31.640Z"
   },
   {
    "duration": 0,
    "start_time": "2024-12-21T01:44:31.641Z"
   },
   {
    "duration": 0,
    "start_time": "2024-12-21T01:44:31.642Z"
   },
   {
    "duration": 1955,
    "start_time": "2024-12-21T01:47:36.557Z"
   },
   {
    "duration": 95,
    "start_time": "2024-12-21T01:47:46.153Z"
   },
   {
    "duration": 9,
    "start_time": "2024-12-21T01:47:46.250Z"
   },
   {
    "duration": 4,
    "start_time": "2024-12-21T01:48:44.914Z"
   },
   {
    "duration": 18085,
    "start_time": "2024-12-21T01:48:56.137Z"
   },
   {
    "duration": 68500,
    "start_time": "2024-12-21T01:49:14.224Z"
   },
   {
    "duration": 1395,
    "start_time": "2024-12-21T01:50:22.726Z"
   },
   {
    "duration": 462314,
    "start_time": "2024-12-21T01:50:24.123Z"
   },
   {
    "duration": 14818,
    "start_time": "2024-12-21T01:58:06.439Z"
   },
   {
    "duration": 991,
    "start_time": "2024-12-21T01:58:21.259Z"
   },
   {
    "duration": 127935,
    "start_time": "2024-12-21T01:58:22.251Z"
   },
   {
    "duration": 18,
    "start_time": "2024-12-21T02:00:30.188Z"
   },
   {
    "duration": 3520,
    "start_time": "2024-12-21T02:00:30.207Z"
   },
   {
    "duration": 1700,
    "start_time": "2024-12-21T02:00:33.730Z"
   },
   {
    "duration": 127110,
    "start_time": "2024-12-21T02:00:35.432Z"
   },
   {
    "duration": 508436,
    "start_time": "2024-12-21T02:02:42.544Z"
   },
   {
    "duration": 1236,
    "start_time": "2024-12-21T02:11:10.981Z"
   },
   {
    "duration": 4,
    "start_time": "2024-12-21T02:11:12.221Z"
   },
   {
    "duration": 5,
    "start_time": "2024-12-21T02:11:33.366Z"
   },
   {
    "duration": 5,
    "start_time": "2024-12-21T02:11:37.075Z"
   },
   {
    "duration": 1245,
    "start_time": "2024-12-21T02:11:54.790Z"
   },
   {
    "duration": 9,
    "start_time": "2024-12-21T02:13:26.165Z"
   },
   {
    "duration": 10,
    "start_time": "2024-12-21T02:18:00.324Z"
   },
   {
    "duration": 130,
    "start_time": "2024-12-21T07:17:30.707Z"
   },
   {
    "duration": 10509,
    "start_time": "2024-12-21T07:20:16.585Z"
   },
   {
    "duration": 1654,
    "start_time": "2024-12-21T07:20:27.097Z"
   },
   {
    "duration": 3063,
    "start_time": "2024-12-21T07:20:28.753Z"
   },
   {
    "duration": 163,
    "start_time": "2024-12-21T07:20:31.818Z"
   },
   {
    "duration": 5,
    "start_time": "2024-12-21T07:20:31.983Z"
   },
   {
    "duration": 158,
    "start_time": "2024-12-21T07:20:31.990Z"
   },
   {
    "duration": 120,
    "start_time": "2024-12-21T07:20:32.150Z"
   },
   {
    "duration": 488,
    "start_time": "2024-12-21T07:20:32.272Z"
   },
   {
    "duration": 953,
    "start_time": "2024-12-21T07:20:32.762Z"
   },
   {
    "duration": 116,
    "start_time": "2024-12-21T07:20:33.718Z"
   },
   {
    "duration": 33,
    "start_time": "2024-12-21T07:20:33.836Z"
   },
   {
    "duration": 22,
    "start_time": "2024-12-21T07:20:33.871Z"
   },
   {
    "duration": 163,
    "start_time": "2024-12-21T07:20:33.895Z"
   },
   {
    "duration": 3,
    "start_time": "2024-12-21T07:20:34.060Z"
   },
   {
    "duration": 517,
    "start_time": "2024-12-21T07:20:34.065Z"
   },
   {
    "duration": 40,
    "start_time": "2024-12-21T07:20:34.585Z"
   },
   {
    "duration": 79,
    "start_time": "2024-12-21T07:20:34.627Z"
   },
   {
    "duration": 160,
    "start_time": "2024-12-21T07:20:34.707Z"
   },
   {
    "duration": 4522,
    "start_time": "2024-12-21T07:20:34.869Z"
   },
   {
    "duration": 38,
    "start_time": "2024-12-21T07:20:39.393Z"
   },
   {
    "duration": 58,
    "start_time": "2024-12-21T07:20:39.433Z"
   },
   {
    "duration": 978,
    "start_time": "2024-12-21T07:20:39.493Z"
   },
   {
    "duration": 134,
    "start_time": "2024-12-21T07:20:40.473Z"
   },
   {
    "duration": 41,
    "start_time": "2024-12-21T07:20:40.614Z"
   },
   {
    "duration": 1023,
    "start_time": "2024-12-21T07:20:40.656Z"
   },
   {
    "duration": 96,
    "start_time": "2024-12-21T07:20:41.681Z"
   },
   {
    "duration": 2472,
    "start_time": "2024-12-21T07:20:41.779Z"
   },
   {
    "duration": 35,
    "start_time": "2024-12-21T07:20:44.255Z"
   },
   {
    "duration": 5740,
    "start_time": "2024-12-21T07:20:44.292Z"
   },
   {
    "duration": 93,
    "start_time": "2024-12-21T07:20:50.033Z"
   },
   {
    "duration": 138,
    "start_time": "2024-12-21T07:20:50.127Z"
   },
   {
    "duration": 151,
    "start_time": "2024-12-21T07:20:50.267Z"
   },
   {
    "duration": 121,
    "start_time": "2024-12-21T07:20:50.419Z"
   },
   {
    "duration": 61,
    "start_time": "2024-12-21T07:20:50.542Z"
   },
   {
    "duration": 12,
    "start_time": "2024-12-21T07:20:50.604Z"
   },
   {
    "duration": 1983,
    "start_time": "2024-12-21T07:20:50.617Z"
   },
   {
    "duration": 24322,
    "start_time": "2024-12-21T07:20:52.602Z"
   },
   {
    "duration": 78500,
    "start_time": "2024-12-21T07:21:17.016Z"
   },
   {
    "duration": 513816,
    "start_time": "2024-12-21T07:22:35.522Z"
   },
   {
    "duration": 16259,
    "start_time": "2024-12-21T07:31:09.340Z"
   },
   {
    "duration": 142482,
    "start_time": "2024-12-21T07:31:25.600Z"
   },
   {
    "duration": 17,
    "start_time": "2024-12-21T07:33:48.084Z"
   },
   {
    "duration": 4623,
    "start_time": "2024-12-21T07:33:48.103Z"
   },
   {
    "duration": 135996,
    "start_time": "2024-12-21T07:33:52.728Z"
   },
   {
    "duration": 551946,
    "start_time": "2024-12-21T07:36:08.726Z"
   },
   {
    "duration": 11,
    "start_time": "2024-12-21T07:45:20.673Z"
   },
   {
    "duration": 478,
    "start_time": "2024-12-21T07:45:20.686Z"
   },
   {
    "duration": 12187,
    "start_time": "2025-02-12T18:51:28.887Z"
   },
   {
    "duration": 3184,
    "start_time": "2025-02-12T18:51:41.077Z"
   },
   {
    "duration": 1786,
    "start_time": "2025-02-12T18:51:44.263Z"
   },
   {
    "duration": 298,
    "start_time": "2025-02-12T18:51:46.051Z"
   },
   {
    "duration": 4,
    "start_time": "2025-02-12T18:51:46.352Z"
   },
   {
    "duration": 307,
    "start_time": "2025-02-12T18:51:46.359Z"
   },
   {
    "duration": 207,
    "start_time": "2025-02-12T18:51:46.667Z"
   },
   {
    "duration": 906,
    "start_time": "2025-02-12T18:51:46.875Z"
   },
   {
    "duration": 1878,
    "start_time": "2025-02-12T18:51:47.783Z"
   },
   {
    "duration": 203,
    "start_time": "2025-02-12T18:51:49.664Z"
   },
   {
    "duration": 84,
    "start_time": "2025-02-12T18:51:49.869Z"
   },
   {
    "duration": 21,
    "start_time": "2025-02-12T18:51:49.954Z"
   },
   {
    "duration": 287,
    "start_time": "2025-02-12T18:51:49.977Z"
   },
   {
    "duration": 3,
    "start_time": "2025-02-12T18:51:50.265Z"
   },
   {
    "duration": 879,
    "start_time": "2025-02-12T18:51:50.269Z"
   },
   {
    "duration": 26,
    "start_time": "2025-02-12T18:51:51.149Z"
   },
   {
    "duration": 11,
    "start_time": "2025-02-12T18:51:51.176Z"
   },
   {
    "duration": 134,
    "start_time": "2025-02-12T18:51:51.248Z"
   },
   {
    "duration": 9980,
    "start_time": "2025-02-12T18:51:51.384Z"
   },
   {
    "duration": 25,
    "start_time": "2025-02-12T18:52:01.366Z"
   },
   {
    "duration": 113,
    "start_time": "2025-02-12T18:52:01.447Z"
   },
   {
    "duration": 5999,
    "start_time": "2025-02-12T18:52:01.562Z"
   },
   {
    "duration": 285,
    "start_time": "2025-02-12T18:52:07.563Z"
   },
   {
    "duration": 42,
    "start_time": "2025-02-12T18:52:07.849Z"
   },
   {
    "duration": 6428,
    "start_time": "2025-02-12T18:52:07.948Z"
   },
   {
    "duration": 181,
    "start_time": "2025-02-12T18:52:14.378Z"
   },
   {
    "duration": 9088,
    "start_time": "2025-02-12T18:52:14.560Z"
   },
   {
    "duration": 33,
    "start_time": "2025-02-12T18:52:23.652Z"
   },
   {
    "duration": 10674,
    "start_time": "2025-02-12T18:52:23.686Z"
   },
   {
    "duration": 194,
    "start_time": "2025-02-12T18:52:34.361Z"
   },
   {
    "duration": 292,
    "start_time": "2025-02-12T18:52:34.557Z"
   },
   {
    "duration": 303,
    "start_time": "2025-02-12T18:52:34.851Z"
   },
   {
    "duration": 220,
    "start_time": "2025-02-12T18:52:35.157Z"
   },
   {
    "duration": 176,
    "start_time": "2025-02-12T18:52:35.379Z"
   },
   {
    "duration": 3,
    "start_time": "2025-02-12T18:52:35.557Z"
   },
   {
    "duration": 4386,
    "start_time": "2025-02-12T18:52:35.562Z"
   },
   {
    "duration": 31200,
    "start_time": "2025-02-12T18:52:39.949Z"
   },
   {
    "duration": 118898,
    "start_time": "2025-02-12T18:53:11.151Z"
   },
   {
    "duration": 5441,
    "start_time": "2025-02-13T20:38:04.353Z"
   },
   {
    "duration": 1370,
    "start_time": "2025-02-13T20:38:09.797Z"
   },
   {
    "duration": 878,
    "start_time": "2025-02-13T20:38:11.169Z"
   },
   {
    "duration": 162,
    "start_time": "2025-02-13T20:38:12.049Z"
   },
   {
    "duration": 4,
    "start_time": "2025-02-13T20:38:12.212Z"
   },
   {
    "duration": 220,
    "start_time": "2025-02-13T20:38:12.217Z"
   },
   {
    "duration": 104,
    "start_time": "2025-02-13T20:38:12.439Z"
   },
   {
    "duration": 479,
    "start_time": "2025-02-13T20:38:12.544Z"
   },
   {
    "duration": 910,
    "start_time": "2025-02-13T20:38:13.025Z"
   },
   {
    "duration": 118,
    "start_time": "2025-02-13T20:38:13.937Z"
   },
   {
    "duration": 32,
    "start_time": "2025-02-13T20:38:14.056Z"
   },
   {
    "duration": 30,
    "start_time": "2025-02-13T20:38:14.090Z"
   },
   {
    "duration": 145,
    "start_time": "2025-02-13T20:38:14.121Z"
   },
   {
    "duration": 3,
    "start_time": "2025-02-13T20:38:14.267Z"
   },
   {
    "duration": 423,
    "start_time": "2025-02-13T20:38:14.272Z"
   },
   {
    "duration": 43,
    "start_time": "2025-02-13T20:38:14.696Z"
   },
   {
    "duration": 11,
    "start_time": "2025-02-13T20:38:14.741Z"
   },
   {
    "duration": 110,
    "start_time": "2025-02-13T20:38:14.753Z"
   },
   {
    "duration": 4535,
    "start_time": "2025-02-13T20:38:14.864Z"
   },
   {
    "duration": 34,
    "start_time": "2025-02-13T20:38:19.400Z"
   },
   {
    "duration": 56,
    "start_time": "2025-02-13T20:38:19.435Z"
   },
   {
    "duration": 968,
    "start_time": "2025-02-13T20:38:19.492Z"
   },
   {
    "duration": 133,
    "start_time": "2025-02-13T20:38:20.462Z"
   },
   {
    "duration": 49,
    "start_time": "2025-02-13T20:38:20.597Z"
   },
   {
    "duration": 1007,
    "start_time": "2025-02-13T20:38:20.648Z"
   },
   {
    "duration": 91,
    "start_time": "2025-02-13T20:38:21.656Z"
   },
   {
    "duration": 2403,
    "start_time": "2025-02-13T20:38:21.748Z"
   },
   {
    "duration": 33,
    "start_time": "2025-02-13T20:38:24.155Z"
   },
   {
    "duration": 5607,
    "start_time": "2025-02-13T20:38:24.189Z"
   },
   {
    "duration": 93,
    "start_time": "2025-02-13T20:38:29.798Z"
   },
   {
    "duration": 139,
    "start_time": "2025-02-13T20:38:29.893Z"
   },
   {
    "duration": 150,
    "start_time": "2025-02-13T20:38:30.033Z"
   },
   {
    "duration": 125,
    "start_time": "2025-02-13T20:38:30.185Z"
   },
   {
    "duration": 62,
    "start_time": "2025-02-13T20:38:30.312Z"
   },
   {
    "duration": 3,
    "start_time": "2025-02-13T20:38:30.375Z"
   },
   {
    "duration": 2071,
    "start_time": "2025-02-13T20:38:30.380Z"
   },
   {
    "duration": 5402,
    "start_time": "2025-02-13T20:41:05.229Z"
   },
   {
    "duration": 1957,
    "start_time": "2025-02-13T20:41:10.634Z"
   },
   {
    "duration": 879,
    "start_time": "2025-02-13T20:41:12.592Z"
   },
   {
    "duration": 157,
    "start_time": "2025-02-13T20:41:13.473Z"
   },
   {
    "duration": 5,
    "start_time": "2025-02-13T20:41:13.632Z"
   },
   {
    "duration": 154,
    "start_time": "2025-02-13T20:41:13.638Z"
   },
   {
    "duration": 101,
    "start_time": "2025-02-13T20:41:13.794Z"
   },
   {
    "duration": 456,
    "start_time": "2025-02-13T20:41:13.897Z"
   },
   {
    "duration": 925,
    "start_time": "2025-02-13T20:41:14.354Z"
   },
   {
    "duration": 119,
    "start_time": "2025-02-13T20:41:15.280Z"
   },
   {
    "duration": 33,
    "start_time": "2025-02-13T20:41:15.400Z"
   },
   {
    "duration": 29,
    "start_time": "2025-02-13T20:41:15.435Z"
   },
   {
    "duration": 161,
    "start_time": "2025-02-13T20:41:15.466Z"
   },
   {
    "duration": 3,
    "start_time": "2025-02-13T20:41:15.631Z"
   },
   {
    "duration": 434,
    "start_time": "2025-02-13T20:41:15.636Z"
   },
   {
    "duration": 45,
    "start_time": "2025-02-13T20:41:16.071Z"
   },
   {
    "duration": 10,
    "start_time": "2025-02-13T20:41:16.118Z"
   },
   {
    "duration": 130,
    "start_time": "2025-02-13T20:41:16.130Z"
   },
   {
    "duration": 4514,
    "start_time": "2025-02-13T20:41:16.262Z"
   },
   {
    "duration": 44,
    "start_time": "2025-02-13T20:41:20.778Z"
   },
   {
    "duration": 55,
    "start_time": "2025-02-13T20:41:20.823Z"
   },
   {
    "duration": 969,
    "start_time": "2025-02-13T20:41:20.880Z"
   },
   {
    "duration": 135,
    "start_time": "2025-02-13T20:41:21.851Z"
   },
   {
    "duration": 53,
    "start_time": "2025-02-13T20:41:21.988Z"
   },
   {
    "duration": 969,
    "start_time": "2025-02-13T20:41:22.042Z"
   },
   {
    "duration": 96,
    "start_time": "2025-02-13T20:41:23.013Z"
   },
   {
    "duration": 2421,
    "start_time": "2025-02-13T20:41:23.111Z"
   },
   {
    "duration": 36,
    "start_time": "2025-02-13T20:41:25.533Z"
   },
   {
    "duration": 5706,
    "start_time": "2025-02-13T20:41:25.571Z"
   },
   {
    "duration": 93,
    "start_time": "2025-02-13T20:41:31.279Z"
   },
   {
    "duration": 149,
    "start_time": "2025-02-13T20:41:31.374Z"
   },
   {
    "duration": 157,
    "start_time": "2025-02-13T20:41:31.525Z"
   },
   {
    "duration": 115,
    "start_time": "2025-02-13T20:41:31.684Z"
   },
   {
    "duration": 63,
    "start_time": "2025-02-13T20:41:31.801Z"
   },
   {
    "duration": 3,
    "start_time": "2025-02-13T20:41:31.866Z"
   },
   {
    "duration": 2065,
    "start_time": "2025-02-13T20:41:31.871Z"
   },
   {
    "duration": 5438,
    "start_time": "2025-02-13T20:45:55.516Z"
   },
   {
    "duration": 2336,
    "start_time": "2025-02-13T20:46:00.957Z"
   },
   {
    "duration": 893,
    "start_time": "2025-02-13T20:46:03.295Z"
   },
   {
    "duration": 159,
    "start_time": "2025-02-13T20:46:04.190Z"
   },
   {
    "duration": 4,
    "start_time": "2025-02-13T20:46:04.351Z"
   },
   {
    "duration": 159,
    "start_time": "2025-02-13T20:46:04.357Z"
   },
   {
    "duration": 108,
    "start_time": "2025-02-13T20:46:04.518Z"
   },
   {
    "duration": 469,
    "start_time": "2025-02-13T20:46:04.628Z"
   },
   {
    "duration": 937,
    "start_time": "2025-02-13T20:46:05.098Z"
   },
   {
    "duration": 104,
    "start_time": "2025-02-13T20:46:06.036Z"
   },
   {
    "duration": 33,
    "start_time": "2025-02-13T20:46:06.141Z"
   },
   {
    "duration": 34,
    "start_time": "2025-02-13T20:46:06.175Z"
   },
   {
    "duration": 135,
    "start_time": "2025-02-13T20:46:06.211Z"
   },
   {
    "duration": 3,
    "start_time": "2025-02-13T20:46:06.349Z"
   },
   {
    "duration": 433,
    "start_time": "2025-02-13T20:46:06.354Z"
   },
   {
    "duration": 47,
    "start_time": "2025-02-13T20:46:06.788Z"
   },
   {
    "duration": 31,
    "start_time": "2025-02-13T20:46:06.837Z"
   },
   {
    "duration": 96,
    "start_time": "2025-02-13T20:46:06.870Z"
   },
   {
    "duration": 4515,
    "start_time": "2025-02-13T20:46:06.967Z"
   },
   {
    "duration": 37,
    "start_time": "2025-02-13T20:46:11.484Z"
   },
   {
    "duration": 54,
    "start_time": "2025-02-13T20:46:11.523Z"
   },
   {
    "duration": 981,
    "start_time": "2025-02-13T20:46:11.579Z"
   },
   {
    "duration": 136,
    "start_time": "2025-02-13T20:46:12.562Z"
   },
   {
    "duration": 44,
    "start_time": "2025-02-13T20:46:12.700Z"
   },
   {
    "duration": 1007,
    "start_time": "2025-02-13T20:46:12.746Z"
   },
   {
    "duration": 89,
    "start_time": "2025-02-13T20:46:13.754Z"
   },
   {
    "duration": 3006,
    "start_time": "2025-02-13T20:46:13.845Z"
   },
   {
    "duration": 83,
    "start_time": "2025-02-13T20:46:16.853Z"
   },
   {
    "duration": 5678,
    "start_time": "2025-02-13T20:46:16.938Z"
   },
   {
    "duration": 97,
    "start_time": "2025-02-13T20:46:22.617Z"
   },
   {
    "duration": 140,
    "start_time": "2025-02-13T20:46:22.715Z"
   },
   {
    "duration": 152,
    "start_time": "2025-02-13T20:46:22.857Z"
   },
   {
    "duration": 119,
    "start_time": "2025-02-13T20:46:23.011Z"
   },
   {
    "duration": 61,
    "start_time": "2025-02-13T20:46:23.131Z"
   },
   {
    "duration": 19,
    "start_time": "2025-02-13T20:46:23.193Z"
   },
   {
    "duration": 2059,
    "start_time": "2025-02-13T20:46:23.214Z"
   },
   {
    "duration": 135,
    "start_time": "2025-02-13T20:49:14.648Z"
   },
   {
    "duration": 5373,
    "start_time": "2025-02-13T21:04:16.343Z"
   },
   {
    "duration": 1811,
    "start_time": "2025-02-13T21:04:21.718Z"
   },
   {
    "duration": 914,
    "start_time": "2025-02-13T21:04:23.531Z"
   },
   {
    "duration": 159,
    "start_time": "2025-02-13T21:04:24.446Z"
   },
   {
    "duration": 4,
    "start_time": "2025-02-13T21:04:24.609Z"
   },
   {
    "duration": 163,
    "start_time": "2025-02-13T21:04:24.614Z"
   },
   {
    "duration": 106,
    "start_time": "2025-02-13T21:04:24.779Z"
   },
   {
    "duration": 479,
    "start_time": "2025-02-13T21:04:24.887Z"
   },
   {
    "duration": 969,
    "start_time": "2025-02-13T21:04:25.367Z"
   },
   {
    "duration": 109,
    "start_time": "2025-02-13T21:04:26.337Z"
   },
   {
    "duration": 34,
    "start_time": "2025-02-13T21:04:26.447Z"
   },
   {
    "duration": 30,
    "start_time": "2025-02-13T21:04:26.482Z"
   },
   {
    "duration": 141,
    "start_time": "2025-02-13T21:04:26.513Z"
   },
   {
    "duration": 3,
    "start_time": "2025-02-13T21:04:26.657Z"
   },
   {
    "duration": 443,
    "start_time": "2025-02-13T21:04:26.661Z"
   },
   {
    "duration": 39,
    "start_time": "2025-02-13T21:04:27.109Z"
   },
   {
    "duration": 13,
    "start_time": "2025-02-13T21:04:27.149Z"
   },
   {
    "duration": 110,
    "start_time": "2025-02-13T21:04:27.164Z"
   },
   {
    "duration": 4503,
    "start_time": "2025-02-13T21:04:27.275Z"
   },
   {
    "duration": 39,
    "start_time": "2025-02-13T21:04:31.780Z"
   },
   {
    "duration": 56,
    "start_time": "2025-02-13T21:04:31.821Z"
   },
   {
    "duration": 983,
    "start_time": "2025-02-13T21:04:31.878Z"
   },
   {
    "duration": 140,
    "start_time": "2025-02-13T21:04:32.862Z"
   },
   {
    "duration": 48,
    "start_time": "2025-02-13T21:04:33.003Z"
   },
   {
    "duration": 1003,
    "start_time": "2025-02-13T21:04:33.052Z"
   },
   {
    "duration": 85,
    "start_time": "2025-02-13T21:04:34.056Z"
   },
   {
    "duration": 2397,
    "start_time": "2025-02-13T21:04:34.143Z"
   },
   {
    "duration": 34,
    "start_time": "2025-02-13T21:04:36.542Z"
   },
   {
    "duration": 5627,
    "start_time": "2025-02-13T21:04:36.578Z"
   },
   {
    "duration": 109,
    "start_time": "2025-02-13T21:04:42.209Z"
   },
   {
    "duration": 159,
    "start_time": "2025-02-13T21:04:42.320Z"
   },
   {
    "duration": 157,
    "start_time": "2025-02-13T21:04:42.481Z"
   },
   {
    "duration": 126,
    "start_time": "2025-02-13T21:04:42.639Z"
   },
   {
    "duration": 65,
    "start_time": "2025-02-13T21:04:42.767Z"
   },
   {
    "duration": 3,
    "start_time": "2025-02-13T21:04:42.833Z"
   },
   {
    "duration": 2042,
    "start_time": "2025-02-13T21:04:42.837Z"
   },
   {
    "duration": 17829,
    "start_time": "2025-02-13T21:04:44.881Z"
   },
   {
    "duration": 70598,
    "start_time": "2025-02-13T21:05:02.712Z"
   },
   {
    "duration": 469748,
    "start_time": "2025-02-13T21:06:13.312Z"
   },
   {
    "duration": 15554,
    "start_time": "2025-02-13T21:14:03.062Z"
   },
   {
    "duration": 129916,
    "start_time": "2025-02-13T21:14:18.620Z"
   },
   {
    "duration": 19,
    "start_time": "2025-02-13T21:16:28.538Z"
   },
   {
    "duration": 3953,
    "start_time": "2025-02-13T21:16:28.558Z"
   },
   {
    "duration": 135609,
    "start_time": "2025-02-13T21:16:32.513Z"
   },
   {
    "duration": 548686,
    "start_time": "2025-02-13T21:18:48.123Z"
   },
   {
    "duration": 8,
    "start_time": "2025-02-13T21:27:56.811Z"
   },
   {
    "duration": 451,
    "start_time": "2025-02-13T21:27:56.821Z"
   }
  ],
  "kernelspec": {
   "display_name": "Python 3 (ipykernel)",
   "language": "python",
   "name": "python3"
  },
  "language_info": {
   "codemirror_mode": {
    "name": "ipython",
    "version": 3
   },
   "file_extension": ".py",
   "mimetype": "text/x-python",
   "name": "python",
   "nbconvert_exporter": "python",
   "pygments_lexer": "ipython3",
   "version": "3.9.5"
  },
  "toc": {
   "base_numbering": 1,
   "nav_menu": {},
   "number_sections": true,
   "sideBar": true,
   "skip_h1_title": true,
   "title_cell": "Table of Contents",
   "title_sidebar": "Contents",
   "toc_cell": false,
   "toc_position": {
    "height": "calc(100% - 180px)",
    "left": "10px",
    "top": "150px",
    "width": "317.861px"
   },
   "toc_section_display": true,
   "toc_window_display": true
  }
 },
 "nbformat": 4,
 "nbformat_minor": 2
}

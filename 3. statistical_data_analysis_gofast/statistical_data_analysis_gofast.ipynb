{
 "cells": [
  {
   "cell_type": "markdown",
   "id": "d28ce85a",
   "metadata": {},
   "source": [
    "# Проект: Статистический анализ данных"
   ]
  },
  {
   "cell_type": "markdown",
   "id": "5f1c790b",
   "metadata": {},
   "source": [
    "В данном проекте проводится анализ предоставленных данных популярного сервиса аренды самокатов **GoFast**. \n",
    "\n",
    "- Цель данного исследования:\n",
    "    * **Проанализировать данные и проверить некоторые гипотезы, которые могут помочь бизнесу вырасти.**\n",
    "- Чтобы совершать поездки по городу, пользователи сервиса GoFast пользуются мобильным приложением Сервисом можно пользоваться: \n",
    "  * без подписки:\n",
    "       * абонентская плата отсутствует;\n",
    "       * стоимость одной минуты поездки — 8 рублей;\n",
    "       * стоимость старта (начала поездки) — 50 рублей;\n",
    "  * с подпиской Ultra:\n",
    "       * абонентская плата — 199 рублей в месяц;\n",
    "       * стоимость одной минуты поездки — 6 рублей;\n",
    "       * стоимость старта — бесплатно."
   ]
  },
  {
   "cell_type": "markdown",
   "id": "82bf3314",
   "metadata": {},
   "source": [
    "## Описание данных\n",
    "В основных данных есть информация о пользователях, их поездках и подписках.\n",
    "\n",
    "- **Пользователи — users_go.csv**\n",
    "\n",
    "    * user_id -\tуникальный идентификатор пользователя\n",
    "\n",
    "    * name - имя пользователя\n",
    "\n",
    "    * age -\tвозраст\n",
    "\n",
    "    * city -  город\n",
    "\n",
    "    * subscription_type - тип подписки (free, ultra)\n",
    "\n",
    "\n",
    "\n",
    "- **Поездки — rides_go.csv**\n",
    "\n",
    "    * user_id - уникальный идентификатор пользователя\n",
    "\n",
    "    * distance - расстояние, которое пользователь проехал в текущей сессии (в метрах)\n",
    "\n",
    "    * duration -\tпродолжительность сессии (в минутах) — время с того момента, как пользователь нажал кнопку «Начать поездку» до момента, как он нажал кнопку «Завершить поездку»\n",
    "\n",
    "    * date -\tдата совершения поездки\n",
    "\n",
    "\n",
    "\n",
    "- **Подписки — subscriptions_go.csv**\n",
    "\n",
    "    * subscription_type -\tтип подписки\n",
    "\n",
    "    * minute_price -\tстоимость одной минуты поездки по данной подписке\n",
    "\n",
    "    * start_ride_price -\tстоимость начала поездки\n",
    "\n",
    "    * subscription_fee -\tстоимость ежемесячного платежа\n"
   ]
  },
  {
   "cell_type": "markdown",
   "id": "deb956af",
   "metadata": {},
   "source": [
    "### Импортируем необходимые библиотеки"
   ]
  },
  {
   "cell_type": "code",
   "execution_count": null,
   "id": "0515247e",
   "metadata": {},
   "outputs": [],
   "source": [
    "# !pip install -r requirements.txt\n",
    "# при необходимости можно запустить данную команду и установятся версии библиотек,\n",
    "# которые использовались в данном проекте и позволяли выполнить код без конфликтов"
   ]
  },
  {
   "cell_type": "code",
   "execution_count": 1,
   "id": "72576667",
   "metadata": {},
   "outputs": [],
   "source": [
    "import pandas as pd\n",
    "from scipy import stats as st\n",
    "from scipy.stats import binom\n",
    "import matplotlib.pyplot as plt\n",
    "import numpy as np\n",
    "from math import factorial\n",
    "import seaborn as sns"
   ]
  },
  {
   "cell_type": "markdown",
   "id": "c42cbe00",
   "metadata": {},
   "source": [
    "###  Загрузка данных"
   ]
  },
  {
   "cell_type": "code",
   "execution_count": 2,
   "id": "77df368b",
   "metadata": {},
   "outputs": [
    {
     "name": "stdout",
     "output_type": "stream",
     "text": [
      "Таблица users_go: \n",
      "\n",
      "    user_id        name  age            city subscription_type\n",
      "0        1        Кира   22          Тюмень             ultra\n",
      "1        2   Станислав   31            Омск             ultra\n",
      "2        3     Алексей   20          Москва             ultra\n",
      "3        4  Константин   26  Ростов-на-Дону             ultra\n",
      "4        5       Адель   28            Омск             ultra \n",
      "\n",
      "<class 'pandas.core.frame.DataFrame'>\n",
      "RangeIndex: 1565 entries, 0 to 1564\n",
      "Data columns (total 5 columns):\n",
      " #   Column             Non-Null Count  Dtype \n",
      "---  ------             --------------  ----- \n",
      " 0   user_id            1565 non-null   int64 \n",
      " 1   name               1565 non-null   object\n",
      " 2   age                1565 non-null   int64 \n",
      " 3   city               1565 non-null   object\n",
      " 4   subscription_type  1565 non-null   object\n",
      "dtypes: int64(2), object(3)\n",
      "memory usage: 61.3+ KB\n",
      "None\n"
     ]
    }
   ],
   "source": [
    "#Прочитаем датасет и выведем первые 5 строк, а также информацию о датасете\n",
    "\n",
    "try:\n",
    "    users_go = pd.read_csv('/datasets/users_go.csv')\n",
    "except:\n",
    "    users_go = pd.read_csv('https://code.s3.yandex.net/datasets/users_go.csv')\n",
    "\n",
    "print('Таблица users_go: \\n\\n', users_go.head(), '\\n')\n",
    "\n",
    "print(users_go.info())"
   ]
  },
  {
   "cell_type": "code",
   "execution_count": 3,
   "id": "2df8403d",
   "metadata": {},
   "outputs": [
    {
     "name": "stdout",
     "output_type": "stream",
     "text": [
      "Количество явных дубликатов в `users_go.csv` =  31\n",
      "Количество пропусков в users_go.csv: \n",
      " user_id              0\n",
      "name                 0\n",
      "age                  0\n",
      "city                 0\n",
      "subscription_type    0\n",
      "dtype: int64\n"
     ]
    }
   ],
   "source": [
    "print ('Количество явных дубликатов в `users_go.csv` = ', users_go.duplicated().sum())\n",
    "print ('Количество пропусков в users_go.csv:','\\n',users_go.isna().sum())"
   ]
  },
  {
   "cell_type": "markdown",
   "id": "7e4c9399",
   "metadata": {},
   "source": [
    "**Вывод** : users_go имеет 1565 записи, пропуски отсутствуют, количество явных дубликатов 31."
   ]
  },
  {
   "cell_type": "code",
   "execution_count": 4,
   "id": "c966a311",
   "metadata": {},
   "outputs": [
    {
     "name": "stdout",
     "output_type": "stream",
     "text": [
      "Таблица rides_go: \n",
      "\n",
      "    user_id     distance   duration        date\n",
      "0        1  4409.919140  25.599769  2021-01-01\n",
      "1        1  2617.592153  15.816871  2021-01-18\n",
      "2        1   754.159807   6.232113  2021-04-20\n",
      "3        1  2694.783254  18.511000  2021-08-11\n",
      "4        1  4028.687306  26.265803  2021-08-28 \n",
      "\n",
      "<class 'pandas.core.frame.DataFrame'>\n",
      "RangeIndex: 18068 entries, 0 to 18067\n",
      "Data columns (total 4 columns):\n",
      " #   Column    Non-Null Count  Dtype  \n",
      "---  ------    --------------  -----  \n",
      " 0   user_id   18068 non-null  int64  \n",
      " 1   distance  18068 non-null  float64\n",
      " 2   duration  18068 non-null  float64\n",
      " 3   date      18068 non-null  object \n",
      "dtypes: float64(2), int64(1), object(1)\n",
      "memory usage: 564.8+ KB\n",
      "None\n"
     ]
    }
   ],
   "source": [
    "#Прочитаем датасет и выведем первые 5 строк, а также информацию о датасете\n",
    "try:\n",
    "    rides_go = pd.read_csv('/datasets/rides_go.csv')\n",
    "except:\n",
    "    rides_go = pd.read_csv('https://code.s3.yandex.net/datasets/rides_go.csv')\n",
    "    \n",
    "print('Таблица rides_go: \\n\\n', rides_go.head(), '\\n')\n",
    "\n",
    "print(rides_go.info())"
   ]
  },
  {
   "cell_type": "code",
   "execution_count": 5,
   "id": "fed49127",
   "metadata": {},
   "outputs": [
    {
     "name": "stdout",
     "output_type": "stream",
     "text": [
      "Количество явных дубликатов в `rides_go.csv` =  0\n",
      "Количество пропусков в rides_go.csv: \n",
      " user_id     0\n",
      "distance    0\n",
      "duration    0\n",
      "date        0\n",
      "dtype: int64\n"
     ]
    }
   ],
   "source": [
    "print ('Количество явных дубликатов в `rides_go.csv` = ', rides_go.duplicated().sum())\n",
    "print ('Количество пропусков в rides_go.csv:','\\n',rides_go.isna().sum())"
   ]
  },
  {
   "cell_type": "markdown",
   "id": "667505fe",
   "metadata": {},
   "source": [
    "**Вывод** : rides_go имеет 18068 записей, пропуски и явные дубликаты отсутствуют."
   ]
  },
  {
   "cell_type": "code",
   "execution_count": 6,
   "id": "437d9775",
   "metadata": {},
   "outputs": [
    {
     "name": "stdout",
     "output_type": "stream",
     "text": [
      "Таблица subscriptions_go: \n",
      "\n",
      "   subscription_type  minute_price  start_ride_price  subscription_fee\n",
      "0              free             8                50                 0\n",
      "1             ultra             6                 0               199 \n",
      "\n",
      "<class 'pandas.core.frame.DataFrame'>\n",
      "RangeIndex: 2 entries, 0 to 1\n",
      "Data columns (total 4 columns):\n",
      " #   Column             Non-Null Count  Dtype \n",
      "---  ------             --------------  ----- \n",
      " 0   subscription_type  2 non-null      object\n",
      " 1   minute_price       2 non-null      int64 \n",
      " 2   start_ride_price   2 non-null      int64 \n",
      " 3   subscription_fee   2 non-null      int64 \n",
      "dtypes: int64(3), object(1)\n",
      "memory usage: 192.0+ bytes\n",
      "None\n"
     ]
    }
   ],
   "source": [
    "#Прочитаем датасет и выведем первые 5 строк, а также информацию о датасете\n",
    "try:\n",
    "    subscriptions_go = pd.read_csv('/datasets/subscriptions_go.csv')\n",
    "except:\n",
    "    subscriptions_go = pd.read_csv('https://code.s3.yandex.net/datasets/subscriptions_go.csv')\n",
    "    \n",
    "print('Таблица subscriptions_go: \\n\\n', subscriptions_go, '\\n')\n",
    "\n",
    "print(subscriptions_go.info())"
   ]
  },
  {
   "cell_type": "code",
   "execution_count": 7,
   "id": "619e1945",
   "metadata": {},
   "outputs": [
    {
     "name": "stdout",
     "output_type": "stream",
     "text": [
      "Количество пропусков в subscriptions_go.csv: \n",
      " subscription_type    0\n",
      "minute_price         0\n",
      "start_ride_price     0\n",
      "subscription_fee     0\n",
      "dtype: int64\n"
     ]
    }
   ],
   "source": [
    "print ('Количество пропусков в subscriptions_go.csv:','\\n', subscriptions_go.isna().sum())"
   ]
  },
  {
   "cell_type": "markdown",
   "id": "cd709d7a",
   "metadata": {},
   "source": [
    "**Вывод** : subscriptions_go имеет 2 записи, пропуски отсутствуют."
   ]
  },
  {
   "cell_type": "markdown",
   "id": "e95ebca7",
   "metadata": {},
   "source": [
    "###  Предобработка данных"
   ]
  },
  {
   "cell_type": "markdown",
   "id": "5f5ef631",
   "metadata": {},
   "source": [
    "Все столбцы имеют названия в соответствии со змеиным регистром, поэтому смена названий не требуется.\n",
    "\n",
    "В результате считывания датасетов выявлены явные дубликаты в датасете users_go и неверный тип данных в столбце \"date\" датасета rides_go, который был исправлен при прочтении датасета.\n",
    "\n",
    "Поэтому на следующем этапе была поставлена задача избавиться от явных и неявных дубликатов и сменить тип данных там, где это необходимо."
   ]
  },
  {
   "cell_type": "code",
   "execution_count": 8,
   "id": "b489b2f5",
   "metadata": {},
   "outputs": [
    {
     "data": {
      "text/plain": [
       "user_id       int64\n",
       "distance    float64\n",
       "duration    float64\n",
       "date         object\n",
       "dtype: object"
      ]
     },
     "execution_count": 8,
     "metadata": {},
     "output_type": "execute_result"
    }
   ],
   "source": [
    "rides_go.dtypes"
   ]
  },
  {
   "cell_type": "code",
   "execution_count": 9,
   "id": "2beb7569",
   "metadata": {},
   "outputs": [],
   "source": [
    "#rides_go['date'] = pd.to_datetime(rides_go['date'], format=\"%Y-%m-%d\") #Смена типа данных столбца date\n",
    "\n",
    "#rides_go.info() #Проверка смены данных"
   ]
  },
  {
   "cell_type": "code",
   "execution_count": 10,
   "id": "6ae183c0",
   "metadata": {},
   "outputs": [
    {
     "data": {
      "text/plain": [
       "user_id  name       age  city            subscription_type\n",
       "1        Кира       22   Тюмень          ultra                1\n",
       "1020     Камилла    32   Москва          free                 1\n",
       "1029     Игорь      21   Краснодар       free                 1\n",
       "1028     Вадим      17   Сочи            free                 1\n",
       "1027     Мария      21   Сочи            free                 1\n",
       "                                                             ..\n",
       "510      Роман      24   Ростов-на-Дону  ultra                1\n",
       "509      Ян         29   Москва          ultra                1\n",
       "508      Станислав  15   Тюмень          ultra                1\n",
       "507      Эвелина    27   Пятигорск       ultra                1\n",
       "1534     Альберт    25   Краснодар       free                 1\n",
       "Length: 1534, dtype: int64"
      ]
     },
     "execution_count": 10,
     "metadata": {},
     "output_type": "execute_result"
    }
   ],
   "source": [
    "#Удаляем явные дубликаты в датасете users_go\n",
    "users_go = users_go.drop_duplicates().reset_index(drop=True)\n",
    "users_go.value_counts()"
   ]
  },
  {
   "cell_type": "code",
   "execution_count": 11,
   "id": "1e4aa0bf",
   "metadata": {},
   "outputs": [
    {
     "name": "stdout",
     "output_type": "stream",
     "text": [
      "Количество явных дубликатов в `users_go.csv` =  0\n"
     ]
    }
   ],
   "source": [
    "print('Количество явных дубликатов в `users_go.csv` = ', users_go.duplicated().sum())"
   ]
  },
  {
   "cell_type": "code",
   "execution_count": 12,
   "id": "6ae17d61",
   "metadata": {
    "scrolled": true
   },
   "outputs": [
    {
     "data": {
      "text/plain": [
       "{'Екатеринбург',\n",
       " 'Краснодар',\n",
       " 'Москва',\n",
       " 'Омск',\n",
       " 'Пятигорск',\n",
       " 'Ростов-на-Дону',\n",
       " 'Сочи',\n",
       " 'Тюмень'}"
      ]
     },
     "execution_count": 12,
     "metadata": {},
     "output_type": "execute_result"
    }
   ],
   "source": [
    "#Проверка неявных дубликатов в столбцах 'city' и 'name' \n",
    "set(users_go['city'].unique())"
   ]
  },
  {
   "cell_type": "markdown",
   "id": "e745ed53",
   "metadata": {},
   "source": [
    "В столбце **'city'** неявные дубликаты отсутствуют"
   ]
  },
  {
   "cell_type": "code",
   "execution_count": 13,
   "id": "f9031cec",
   "metadata": {
    "scrolled": true
   },
   "outputs": [
    {
     "data": {
      "text/plain": [
       "{'Агата',\n",
       " 'Аделина',\n",
       " 'Адель',\n",
       " 'Айдар',\n",
       " 'Александр',\n",
       " 'Александра',\n",
       " 'Алексей',\n",
       " 'Алина',\n",
       " 'Алиса',\n",
       " 'Алия',\n",
       " 'Алла',\n",
       " 'Альберт',\n",
       " 'Альбина',\n",
       " 'Алёна',\n",
       " 'Амалия',\n",
       " 'Амина',\n",
       " 'Амир',\n",
       " 'Анастасия',\n",
       " 'Анатолий',\n",
       " 'Ангелина',\n",
       " 'Андрей',\n",
       " 'Анжелика',\n",
       " 'Анна',\n",
       " 'Антон',\n",
       " 'Антонина',\n",
       " 'Ариана',\n",
       " 'Арина',\n",
       " 'Арсен',\n",
       " 'Арсений',\n",
       " 'Артемий',\n",
       " 'Артур',\n",
       " 'Артём',\n",
       " 'Богдан',\n",
       " 'Борис',\n",
       " 'Вадим',\n",
       " 'Валентина',\n",
       " 'Валерий',\n",
       " 'Валерия',\n",
       " 'Варвара',\n",
       " 'Василий',\n",
       " 'Василина',\n",
       " 'Василиса',\n",
       " 'Вера',\n",
       " 'Вероника',\n",
       " 'Виктор',\n",
       " 'Виктория',\n",
       " 'Виолетта',\n",
       " 'Виталий',\n",
       " 'Виталина',\n",
       " 'Влад',\n",
       " 'Влада',\n",
       " 'Владимир',\n",
       " 'Владислав',\n",
       " 'Владислава',\n",
       " 'Всеволод',\n",
       " 'Вячеслав',\n",
       " 'Галина',\n",
       " 'Георгий',\n",
       " 'Герман',\n",
       " 'Глеб',\n",
       " 'Гордей',\n",
       " 'Григорий',\n",
       " 'Давид',\n",
       " 'Дамир',\n",
       " 'Даниил',\n",
       " 'Данил',\n",
       " 'Данила',\n",
       " 'Даниэль',\n",
       " 'Дарина',\n",
       " 'Дарья',\n",
       " 'Демид',\n",
       " 'Денис',\n",
       " 'Диана',\n",
       " 'Дмитрий',\n",
       " 'Ева',\n",
       " 'Евгений',\n",
       " 'Евгения',\n",
       " 'Егор',\n",
       " 'Екатерина',\n",
       " 'Елена',\n",
       " 'Елизавета',\n",
       " 'Елисей',\n",
       " 'Есения',\n",
       " 'Жанна',\n",
       " 'Зарина',\n",
       " 'Захар',\n",
       " 'Злата',\n",
       " 'Иван',\n",
       " 'Игнат',\n",
       " 'Игорь',\n",
       " 'Ильдар',\n",
       " 'Илья',\n",
       " 'Инна',\n",
       " 'Ирина',\n",
       " 'Камилла',\n",
       " 'Карина',\n",
       " 'Каролина',\n",
       " 'Кира',\n",
       " 'Кирилл',\n",
       " 'Константин',\n",
       " 'Кристина',\n",
       " 'Ксения',\n",
       " 'Лариса',\n",
       " 'Лев',\n",
       " 'Леонид',\n",
       " 'Лиана',\n",
       " 'Лидия',\n",
       " 'Лилия',\n",
       " 'Любовь',\n",
       " 'Людмила',\n",
       " 'Мадина',\n",
       " 'Майя',\n",
       " 'Макар',\n",
       " 'Максим',\n",
       " 'Марат',\n",
       " 'Маргарита',\n",
       " 'Марина',\n",
       " 'Мария',\n",
       " 'Марк',\n",
       " 'Марсель',\n",
       " 'Матвей',\n",
       " 'Мелания',\n",
       " 'Милана',\n",
       " 'Милена',\n",
       " 'Мирон',\n",
       " 'Мирослав',\n",
       " 'Мирослава',\n",
       " 'Михаил',\n",
       " 'Назар',\n",
       " 'Наталия',\n",
       " 'Наталья',\n",
       " 'Наташа',\n",
       " 'Нелли',\n",
       " 'Ника',\n",
       " 'Никита',\n",
       " 'Николай',\n",
       " 'Нина',\n",
       " 'Одиссей',\n",
       " 'Оксана',\n",
       " 'Олег',\n",
       " 'Олеся',\n",
       " 'Ольга',\n",
       " 'Павел',\n",
       " 'Петр',\n",
       " 'Платон',\n",
       " 'Полина',\n",
       " 'Радмир',\n",
       " 'Рамиль',\n",
       " 'Регина',\n",
       " 'Роберт',\n",
       " 'Родион',\n",
       " 'Роман',\n",
       " 'Ростислав',\n",
       " 'Руслан',\n",
       " 'Рустам',\n",
       " 'Савелий',\n",
       " 'Самир',\n",
       " 'Самира',\n",
       " 'Светлана',\n",
       " 'Святогор',\n",
       " 'Святослав',\n",
       " 'Семен',\n",
       " 'Сергей',\n",
       " 'Снежана',\n",
       " 'София',\n",
       " 'Софья',\n",
       " 'Станислав',\n",
       " 'Степан',\n",
       " 'Стефания',\n",
       " 'Таисия',\n",
       " 'Тамара',\n",
       " 'Тамерлан',\n",
       " 'Татьяна',\n",
       " 'Тимофей',\n",
       " 'Тимур',\n",
       " 'Тихон',\n",
       " 'Ульяна',\n",
       " 'Федор',\n",
       " 'Эвелина',\n",
       " 'Эдуард',\n",
       " 'Элина',\n",
       " 'Эльвира',\n",
       " 'Эльмира',\n",
       " 'Эмилия',\n",
       " 'Эмиль',\n",
       " 'Юлиана',\n",
       " 'Юлия',\n",
       " 'Юрий',\n",
       " 'Ян',\n",
       " 'Яна',\n",
       " 'Яромир',\n",
       " 'Ярослав',\n",
       " 'Ярослава',\n",
       " 'Ясмина'}"
      ]
     },
     "execution_count": 13,
     "metadata": {},
     "output_type": "execute_result"
    }
   ],
   "source": [
    "set(users_go['name'].unique())"
   ]
  },
  {
   "cell_type": "markdown",
   "id": "165ba4ca",
   "metadata": {},
   "source": [
    "В столбце **'name'** неявные дубликаты отсутствуют"
   ]
  },
  {
   "cell_type": "code",
   "execution_count": 14,
   "id": "50b65742",
   "metadata": {},
   "outputs": [
    {
     "data": {
      "text/html": [
       "<div>\n",
       "<style scoped>\n",
       "    .dataframe tbody tr th:only-of-type {\n",
       "        vertical-align: middle;\n",
       "    }\n",
       "\n",
       "    .dataframe tbody tr th {\n",
       "        vertical-align: top;\n",
       "    }\n",
       "\n",
       "    .dataframe thead th {\n",
       "        text-align: right;\n",
       "    }\n",
       "</style>\n",
       "<table border=\"1\" class=\"dataframe\">\n",
       "  <thead>\n",
       "    <tr style=\"text-align: right;\">\n",
       "      <th></th>\n",
       "      <th>user_id</th>\n",
       "      <th>name</th>\n",
       "      <th>age</th>\n",
       "      <th>city</th>\n",
       "      <th>subscription_type</th>\n",
       "    </tr>\n",
       "  </thead>\n",
       "  <tbody>\n",
       "    <tr>\n",
       "      <th>664</th>\n",
       "      <td>665</td>\n",
       "      <td>Герман</td>\n",
       "      <td>12</td>\n",
       "      <td>Сочи</td>\n",
       "      <td>ultra</td>\n",
       "    </tr>\n",
       "    <tr>\n",
       "      <th>66</th>\n",
       "      <td>67</td>\n",
       "      <td>Анастасия</td>\n",
       "      <td>12</td>\n",
       "      <td>Ростов-на-Дону</td>\n",
       "      <td>ultra</td>\n",
       "    </tr>\n",
       "    <tr>\n",
       "      <th>727</th>\n",
       "      <td>728</td>\n",
       "      <td>Вячеслав</td>\n",
       "      <td>12</td>\n",
       "      <td>Пятигорск</td>\n",
       "      <td>free</td>\n",
       "    </tr>\n",
       "    <tr>\n",
       "      <th>34</th>\n",
       "      <td>35</td>\n",
       "      <td>Руслан</td>\n",
       "      <td>12</td>\n",
       "      <td>Пятигорск</td>\n",
       "      <td>ultra</td>\n",
       "    </tr>\n",
       "    <tr>\n",
       "      <th>235</th>\n",
       "      <td>236</td>\n",
       "      <td>Владимир</td>\n",
       "      <td>13</td>\n",
       "      <td>Тюмень</td>\n",
       "      <td>ultra</td>\n",
       "    </tr>\n",
       "    <tr>\n",
       "      <th>...</th>\n",
       "      <td>...</td>\n",
       "      <td>...</td>\n",
       "      <td>...</td>\n",
       "      <td>...</td>\n",
       "      <td>...</td>\n",
       "    </tr>\n",
       "    <tr>\n",
       "      <th>383</th>\n",
       "      <td>384</td>\n",
       "      <td>Виктор</td>\n",
       "      <td>38</td>\n",
       "      <td>Омск</td>\n",
       "      <td>ultra</td>\n",
       "    </tr>\n",
       "    <tr>\n",
       "      <th>804</th>\n",
       "      <td>805</td>\n",
       "      <td>Петр</td>\n",
       "      <td>38</td>\n",
       "      <td>Тюмень</td>\n",
       "      <td>free</td>\n",
       "    </tr>\n",
       "    <tr>\n",
       "      <th>453</th>\n",
       "      <td>454</td>\n",
       "      <td>Вероника</td>\n",
       "      <td>38</td>\n",
       "      <td>Краснодар</td>\n",
       "      <td>ultra</td>\n",
       "    </tr>\n",
       "    <tr>\n",
       "      <th>961</th>\n",
       "      <td>962</td>\n",
       "      <td>Дмитрий</td>\n",
       "      <td>39</td>\n",
       "      <td>Москва</td>\n",
       "      <td>free</td>\n",
       "    </tr>\n",
       "    <tr>\n",
       "      <th>1201</th>\n",
       "      <td>1202</td>\n",
       "      <td>Ангелина</td>\n",
       "      <td>43</td>\n",
       "      <td>Москва</td>\n",
       "      <td>free</td>\n",
       "    </tr>\n",
       "  </tbody>\n",
       "</table>\n",
       "<p>1534 rows × 5 columns</p>\n",
       "</div>"
      ],
      "text/plain": [
       "      user_id       name  age            city subscription_type\n",
       "664       665     Герман   12            Сочи             ultra\n",
       "66         67  Анастасия   12  Ростов-на-Дону             ultra\n",
       "727       728   Вячеслав   12       Пятигорск              free\n",
       "34         35     Руслан   12       Пятигорск             ultra\n",
       "235       236   Владимир   13          Тюмень             ultra\n",
       "...       ...        ...  ...             ...               ...\n",
       "383       384     Виктор   38            Омск             ultra\n",
       "804       805       Петр   38          Тюмень              free\n",
       "453       454   Вероника   38       Краснодар             ultra\n",
       "961       962    Дмитрий   39          Москва              free\n",
       "1201     1202   Ангелина   43          Москва              free\n",
       "\n",
       "[1534 rows x 5 columns]"
      ]
     },
     "execution_count": 14,
     "metadata": {},
     "output_type": "execute_result"
    }
   ],
   "source": [
    "#Проведём проверку аномальных значений в столбце 'age'\n",
    "users_go.sort_values(by='age')"
   ]
  },
  {
   "cell_type": "markdown",
   "id": "1786ffb1",
   "metadata": {},
   "source": [
    "В столбце **'age'** аномальные значения отсутствуют"
   ]
  },
  {
   "cell_type": "code",
   "execution_count": 15,
   "id": "ff61b7f6",
   "metadata": {},
   "outputs": [
    {
     "data": {
      "text/html": [
       "<div>\n",
       "<style scoped>\n",
       "    .dataframe tbody tr th:only-of-type {\n",
       "        vertical-align: middle;\n",
       "    }\n",
       "\n",
       "    .dataframe tbody tr th {\n",
       "        vertical-align: top;\n",
       "    }\n",
       "\n",
       "    .dataframe thead th {\n",
       "        text-align: right;\n",
       "    }\n",
       "</style>\n",
       "<table border=\"1\" class=\"dataframe\">\n",
       "  <thead>\n",
       "    <tr style=\"text-align: right;\">\n",
       "      <th></th>\n",
       "      <th>user_id</th>\n",
       "      <th>distance</th>\n",
       "      <th>duration</th>\n",
       "      <th>date</th>\n",
       "    </tr>\n",
       "  </thead>\n",
       "  <tbody>\n",
       "    <tr>\n",
       "      <th>12013</th>\n",
       "      <td>1102</td>\n",
       "      <td>4602.122401</td>\n",
       "      <td>0.5</td>\n",
       "      <td>2021-08-01</td>\n",
       "    </tr>\n",
       "    <tr>\n",
       "      <th>17314</th>\n",
       "      <td>1483</td>\n",
       "      <td>4445.481070</td>\n",
       "      <td>0.5</td>\n",
       "      <td>2021-03-06</td>\n",
       "    </tr>\n",
       "    <tr>\n",
       "      <th>15029</th>\n",
       "      <td>1318</td>\n",
       "      <td>5894.633314</td>\n",
       "      <td>0.5</td>\n",
       "      <td>2021-03-28</td>\n",
       "    </tr>\n",
       "    <tr>\n",
       "      <th>7437</th>\n",
       "      <td>766</td>\n",
       "      <td>4539.088310</td>\n",
       "      <td>0.5</td>\n",
       "      <td>2021-12-22</td>\n",
       "    </tr>\n",
       "    <tr>\n",
       "      <th>12967</th>\n",
       "      <td>1172</td>\n",
       "      <td>4907.140751</td>\n",
       "      <td>0.5</td>\n",
       "      <td>2021-12-19</td>\n",
       "    </tr>\n",
       "    <tr>\n",
       "      <th>15015</th>\n",
       "      <td>1317</td>\n",
       "      <td>4593.389022</td>\n",
       "      <td>0.5</td>\n",
       "      <td>2021-07-16</td>\n",
       "    </tr>\n",
       "    <tr>\n",
       "      <th>13012</th>\n",
       "      <td>1176</td>\n",
       "      <td>4935.071045</td>\n",
       "      <td>0.5</td>\n",
       "      <td>2021-05-14</td>\n",
       "    </tr>\n",
       "    <tr>\n",
       "      <th>7508</th>\n",
       "      <td>772</td>\n",
       "      <td>4718.820996</td>\n",
       "      <td>0.5</td>\n",
       "      <td>2021-05-22</td>\n",
       "    </tr>\n",
       "    <tr>\n",
       "      <th>16589</th>\n",
       "      <td>1428</td>\n",
       "      <td>5059.187375</td>\n",
       "      <td>0.5</td>\n",
       "      <td>2021-05-06</td>\n",
       "    </tr>\n",
       "    <tr>\n",
       "      <th>9049</th>\n",
       "      <td>890</td>\n",
       "      <td>4848.485014</td>\n",
       "      <td>0.5</td>\n",
       "      <td>2021-11-20</td>\n",
       "    </tr>\n",
       "  </tbody>\n",
       "</table>\n",
       "</div>"
      ],
      "text/plain": [
       "       user_id     distance  duration        date\n",
       "12013     1102  4602.122401       0.5  2021-08-01\n",
       "17314     1483  4445.481070       0.5  2021-03-06\n",
       "15029     1318  5894.633314       0.5  2021-03-28\n",
       "7437       766  4539.088310       0.5  2021-12-22\n",
       "12967     1172  4907.140751       0.5  2021-12-19\n",
       "15015     1317  4593.389022       0.5  2021-07-16\n",
       "13012     1176  4935.071045       0.5  2021-05-14\n",
       "7508       772  4718.820996       0.5  2021-05-22\n",
       "16589     1428  5059.187375       0.5  2021-05-06\n",
       "9049       890  4848.485014       0.5  2021-11-20"
      ]
     },
     "execution_count": 15,
     "metadata": {},
     "output_type": "execute_result"
    }
   ],
   "source": [
    "#Проверим аномальные значения в столбце 'duration'\n",
    "rides_go.sort_values(by='duration').head(10)"
   ]
  },
  {
   "cell_type": "markdown",
   "id": "e9eec9f4",
   "metadata": {},
   "source": [
    "В датасете присутствуют значения 0.5, которые кажутся слишком маленькими для данного столбца. Возможно, они являются аномальными, а, возможно, люди могли передумать после начала поездки и завершить её раньше. Отбросим аномальные значения."
   ]
  },
  {
   "cell_type": "code",
   "execution_count": 16,
   "id": "0695bb15",
   "metadata": {},
   "outputs": [
    {
     "data": {
      "image/png": "[encoded data removed]",
      "text/plain": [
       "<Figure size 432x288 with 1 Axes>"
      ]
     },
     "metadata": {
      "needs_background": "light"
     },
     "output_type": "display_data"
    }
   ],
   "source": [
    "rides_min = rides_go.query('duration < 5')\n",
    "rides_min['duration'].hist().set(title='Длительность поездок менее 5 мин',xlabel='Время, мин')\n",
    "plt.show()"
   ]
  },
  {
   "cell_type": "markdown",
   "id": "783b8064",
   "metadata": {},
   "source": [
    "#### Добавим в датасет rides_go новый столбец с номером месяца."
   ]
  },
  {
   "cell_type": "code",
   "execution_count": 17,
   "id": "cf436eb4",
   "metadata": {},
   "outputs": [
    {
     "data": {
      "text/html": [
       "<div>\n",
       "<style scoped>\n",
       "    .dataframe tbody tr th:only-of-type {\n",
       "        vertical-align: middle;\n",
       "    }\n",
       "\n",
       "    .dataframe tbody tr th {\n",
       "        vertical-align: top;\n",
       "    }\n",
       "\n",
       "    .dataframe thead th {\n",
       "        text-align: right;\n",
       "    }\n",
       "</style>\n",
       "<table border=\"1\" class=\"dataframe\">\n",
       "  <thead>\n",
       "    <tr style=\"text-align: right;\">\n",
       "      <th></th>\n",
       "      <th>user_id</th>\n",
       "      <th>distance</th>\n",
       "      <th>duration</th>\n",
       "      <th>date</th>\n",
       "    </tr>\n",
       "  </thead>\n",
       "  <tbody>\n",
       "    <tr>\n",
       "      <th>0</th>\n",
       "      <td>1</td>\n",
       "      <td>4409.919140</td>\n",
       "      <td>25.599769</td>\n",
       "      <td>2021-01-01</td>\n",
       "    </tr>\n",
       "    <tr>\n",
       "      <th>1</th>\n",
       "      <td>1</td>\n",
       "      <td>2617.592153</td>\n",
       "      <td>15.816871</td>\n",
       "      <td>2021-01-18</td>\n",
       "    </tr>\n",
       "    <tr>\n",
       "      <th>2</th>\n",
       "      <td>1</td>\n",
       "      <td>754.159807</td>\n",
       "      <td>6.232113</td>\n",
       "      <td>2021-04-20</td>\n",
       "    </tr>\n",
       "    <tr>\n",
       "      <th>3</th>\n",
       "      <td>1</td>\n",
       "      <td>2694.783254</td>\n",
       "      <td>18.511000</td>\n",
       "      <td>2021-08-11</td>\n",
       "    </tr>\n",
       "    <tr>\n",
       "      <th>4</th>\n",
       "      <td>1</td>\n",
       "      <td>4028.687306</td>\n",
       "      <td>26.265803</td>\n",
       "      <td>2021-08-28</td>\n",
       "    </tr>\n",
       "  </tbody>\n",
       "</table>\n",
       "</div>"
      ],
      "text/plain": [
       "   user_id     distance   duration        date\n",
       "0        1  4409.919140  25.599769  2021-01-01\n",
       "1        1  2617.592153  15.816871  2021-01-18\n",
       "2        1   754.159807   6.232113  2021-04-20\n",
       "3        1  2694.783254  18.511000  2021-08-11\n",
       "4        1  4028.687306  26.265803  2021-08-28"
      ]
     },
     "execution_count": 17,
     "metadata": {},
     "output_type": "execute_result"
    }
   ],
   "source": [
    "rides_go.head()"
   ]
  },
  {
   "cell_type": "code",
   "execution_count": 18,
   "id": "c6cf9c69",
   "metadata": {},
   "outputs": [
    {
     "data": {
      "text/html": [
       "<div>\n",
       "<style scoped>\n",
       "    .dataframe tbody tr th:only-of-type {\n",
       "        vertical-align: middle;\n",
       "    }\n",
       "\n",
       "    .dataframe tbody tr th {\n",
       "        vertical-align: top;\n",
       "    }\n",
       "\n",
       "    .dataframe thead th {\n",
       "        text-align: right;\n",
       "    }\n",
       "</style>\n",
       "<table border=\"1\" class=\"dataframe\">\n",
       "  <thead>\n",
       "    <tr style=\"text-align: right;\">\n",
       "      <th></th>\n",
       "      <th>user_id</th>\n",
       "      <th>distance</th>\n",
       "      <th>duration</th>\n",
       "      <th>date</th>\n",
       "      <th>month_number</th>\n",
       "    </tr>\n",
       "  </thead>\n",
       "  <tbody>\n",
       "    <tr>\n",
       "      <th>0</th>\n",
       "      <td>1</td>\n",
       "      <td>4409.919140</td>\n",
       "      <td>25.599769</td>\n",
       "      <td>2021-01-01</td>\n",
       "      <td>1</td>\n",
       "    </tr>\n",
       "    <tr>\n",
       "      <th>1</th>\n",
       "      <td>1</td>\n",
       "      <td>2617.592153</td>\n",
       "      <td>15.816871</td>\n",
       "      <td>2021-01-18</td>\n",
       "      <td>1</td>\n",
       "    </tr>\n",
       "    <tr>\n",
       "      <th>2</th>\n",
       "      <td>1</td>\n",
       "      <td>754.159807</td>\n",
       "      <td>6.232113</td>\n",
       "      <td>2021-04-20</td>\n",
       "      <td>4</td>\n",
       "    </tr>\n",
       "    <tr>\n",
       "      <th>3</th>\n",
       "      <td>1</td>\n",
       "      <td>2694.783254</td>\n",
       "      <td>18.511000</td>\n",
       "      <td>2021-08-11</td>\n",
       "      <td>8</td>\n",
       "    </tr>\n",
       "    <tr>\n",
       "      <th>4</th>\n",
       "      <td>1</td>\n",
       "      <td>4028.687306</td>\n",
       "      <td>26.265803</td>\n",
       "      <td>2021-08-28</td>\n",
       "      <td>8</td>\n",
       "    </tr>\n",
       "  </tbody>\n",
       "</table>\n",
       "</div>"
      ],
      "text/plain": [
       "   user_id     distance   duration        date  month_number\n",
       "0        1  4409.919140  25.599769  2021-01-01             1\n",
       "1        1  2617.592153  15.816871  2021-01-18             1\n",
       "2        1   754.159807   6.232113  2021-04-20             4\n",
       "3        1  2694.783254  18.511000  2021-08-11             8\n",
       "4        1  4028.687306  26.265803  2021-08-28             8"
      ]
     },
     "execution_count": 18,
     "metadata": {},
     "output_type": "execute_result"
    }
   ],
   "source": [
    "rides_go['month_number'] = pd.DatetimeIndex(rides_go['date']).month\n",
    "rides_go.head()"
   ]
  },
  {
   "cell_type": "markdown",
   "id": "eff963b1",
   "metadata": {},
   "source": [
    "### Вывод по предобработке данных:"
   ]
  },
  {
   "cell_type": "markdown",
   "id": "1c297367",
   "metadata": {},
   "source": [
    "В результате проведённой предобработки данных были обработаны 3 датасета, представленные компание GoFast: users_go, rides_go, subscriptions_go.\n",
    "\n",
    "Данные были считаны и проверены на соответствие названий столбцов правилам хорошего стиля (змеиному регистру), на отсутствие пропусков, явных/неявных дубликатов, типа данных столбцов.\n",
    "\n",
    "Все столбцы в перечисленных датасетах имеют верное, с точки зрения змеиного регистра, название.\n",
    "\n",
    "Были проверены и удалены аномальные значения в датасетах.  \n",
    "\n",
    "Пропуски во всех датасетах отсутствуют. \n",
    "\n",
    "- **users_go** имеются явные дубликаты, которые могли появиться в результате технической ошибки. Явные дубликаты были удалены. Была проведена проверка на наличие неявных дубликатов. ***(Если Владислав и Влад неявные дубликаты, то добавлю вывод об этом)***.\n",
    "\n",
    "\n",
    "- **rides_go** в столбце 'date' датасета был изменён тип данных с 'object' на 'datetime64'.\n",
    "\n",
    "\n",
    "- в датасете **subscriptions_go** изменений не проводилось.\n",
    "\n",
    "А также на основании столбца 'date' был создан столбец 'month'"
   ]
  },
  {
   "cell_type": "markdown",
   "id": "212593c7",
   "metadata": {},
   "source": [
    "## Исследовательский анализ данных"
   ]
  },
  {
   "cell_type": "markdown",
   "id": "2c90bf79",
   "metadata": {},
   "source": [
    "### Определение частоты встречаемости городов."
   ]
  },
  {
   "cell_type": "code",
   "execution_count": 19,
   "id": "e3a4274c",
   "metadata": {},
   "outputs": [
    {
     "data": {
      "text/plain": [
       "Пятигорск         219\n",
       "Екатеринбург      204\n",
       "Ростов-на-Дону    198\n",
       "Краснодар         193\n",
       "Сочи              189\n",
       "Омск              183\n",
       "Тюмень            180\n",
       "Москва            168\n",
       "Name: city, dtype: int64"
      ]
     },
     "execution_count": 19,
     "metadata": {},
     "output_type": "execute_result"
    }
   ],
   "source": [
    "city_frequency = users_go['city'].value_counts()\n",
    "city_frequency"
   ]
  },
  {
   "cell_type": "code",
   "execution_count": 20,
   "id": "f14bd07e",
   "metadata": {},
   "outputs": [
    {
     "data": {
      "image/png": "[encoded data removed]",
      "text/plain": [
       "<Figure size 720x576 with 1 Axes>"
      ]
     },
     "metadata": {
      "needs_background": "light"
     },
     "output_type": "display_data"
    }
   ],
   "source": [
    "#Представим данные в виде гистограммы \n",
    "city_frequency.plot(\n",
    "    kind = 'bar', \n",
    "    y = city_frequency,\n",
    "    figsize=(10,8), \n",
    "    title = 'Частота встречаемости городов среди пользователей');\n",
    "plt.xlabel('Наименование населённого пункта')\n",
    "plt.ylabel('Количество значений');"
   ]
  },
  {
   "cell_type": "markdown",
   "id": "f87a3613",
   "metadata": {},
   "source": [
    "#### Вывод:\n",
    "\n",
    "Анализ городов показал, что наибольшим спросом сервис пользуется в городе Пятигорск, далее идут Екатеринбург, Ростов-на-Дону, Краснодар и т.д..Также можно отметить, что большая часть городов, в которых сервис особо пользуется спросом (за исключением Екатеринбурга), располагаются на юге, где как раз сезон проката в целом может быть дольше."
   ]
  },
  {
   "cell_type": "markdown",
   "id": "d7fecd9d",
   "metadata": {},
   "source": [
    "### Определение соотношения пользователей с подпиской и без подписки."
   ]
  },
  {
   "cell_type": "code",
   "execution_count": 21,
   "id": "1c6b4af3",
   "metadata": {},
   "outputs": [
    {
     "data": {
      "image/png": "[encoded data removed]",
      "text/plain": [
       "<Figure size 1080x504 with 1 Axes>"
      ]
     },
     "metadata": {},
     "output_type": "display_data"
    }
   ],
   "source": [
    "users_go['subscription_type'].value_counts().plot(kind='pie', y='subscription_type', autopct='%1.0f%%',\n",
    " colors = ['lavenderblush', 'pink'],\n",
    " figsize =(15,7),\n",
    " title='Соотношение пользователей с подпиской и без подписки');"
   ]
  },
  {
   "cell_type": "code",
   "execution_count": 22,
   "id": "7a80a3f5",
   "metadata": {},
   "outputs": [
    {
     "data": {
      "text/plain": [
       "free     835\n",
       "ultra    699\n",
       "Name: subscription_type, dtype: int64"
      ]
     },
     "execution_count": 22,
     "metadata": {},
     "output_type": "execute_result"
    }
   ],
   "source": [
    "users_go['subscription_type'].value_counts()"
   ]
  },
  {
   "cell_type": "markdown",
   "id": "4e771995",
   "metadata": {},
   "source": [
    "#### Вывод:\n",
    "\n",
    "Анализ количества пользователь с подпиской и без показал, что большинство пользователей (835 - 54%) пользуются сервисом без подписки."
   ]
  },
  {
   "cell_type": "markdown",
   "id": "25818604",
   "metadata": {},
   "source": [
    "### Анализ возраста пользователей.\n"
   ]
  },
  {
   "cell_type": "code",
   "execution_count": 23,
   "id": "67c5bcab",
   "metadata": {},
   "outputs": [
    {
     "data": {
      "text/plain": [
       "count    1534.000000\n",
       "mean       24.903520\n",
       "std         4.572367\n",
       "min        12.000000\n",
       "25%        22.000000\n",
       "50%        25.000000\n",
       "75%        28.000000\n",
       "max        43.000000\n",
       "Name: age, dtype: float64"
      ]
     },
     "execution_count": 23,
     "metadata": {},
     "output_type": "execute_result"
    }
   ],
   "source": [
    "users_go['age'].describe()"
   ]
  },
  {
   "cell_type": "code",
   "execution_count": 24,
   "id": "e67aa72c",
   "metadata": {},
   "outputs": [
    {
     "data": {
      "image/png": "[encoded data removed]",
      "text/plain": [
       "<Figure size 1080x360 with 1 Axes>"
      ]
     },
     "metadata": {
      "needs_background": "light"
     },
     "output_type": "display_data"
    }
   ],
   "source": [
    "users_go['age'].hist(bins=30, figsize=(15, 5), color = 'pink', ec='black', legend=True)\n",
    "plt.title('Частота встречаемости возрастов')\n",
    "plt.xlabel('Возраст')\n",
    "plt.ylabel('Количество значений')\n",
    "plt.show()"
   ]
  },
  {
   "cell_type": "markdown",
   "id": "0f7a5ce5",
   "metadata": {},
   "source": [
    "#### Вывод:\n",
    "\n",
    "Анализ возраста пользователей показал, что в целом возраст распределён более менее равномерно, выбросы отсутствуют. Средний возраст пользователей практически совпадает с медианой и соответствует возрасту 25 лет."
   ]
  },
  {
   "cell_type": "markdown",
   "id": "cbc20d6a",
   "metadata": {},
   "source": [
    "### Анализ расстояния, которое пользователь преодолел за одну поездку."
   ]
  },
  {
   "cell_type": "code",
   "execution_count": 25,
   "id": "0fc02733",
   "metadata": {},
   "outputs": [
    {
     "data": {
      "text/plain": [
       "count    18068.000000\n",
       "mean      3070.659976\n",
       "std       1116.831209\n",
       "min          0.855683\n",
       "25%       2543.226360\n",
       "50%       3133.609994\n",
       "75%       3776.222735\n",
       "max       7211.007745\n",
       "Name: distance, dtype: float64"
      ]
     },
     "execution_count": 25,
     "metadata": {},
     "output_type": "execute_result"
    }
   ],
   "source": [
    "rides_go['distance'].describe()"
   ]
  },
  {
   "cell_type": "code",
   "execution_count": 26,
   "id": "175d6a1a",
   "metadata": {},
   "outputs": [
    {
     "data": {
      "text/html": [
       "<div>\n",
       "<style scoped>\n",
       "    .dataframe tbody tr th:only-of-type {\n",
       "        vertical-align: middle;\n",
       "    }\n",
       "\n",
       "    .dataframe tbody tr th {\n",
       "        vertical-align: top;\n",
       "    }\n",
       "\n",
       "    .dataframe thead th {\n",
       "        text-align: right;\n",
       "    }\n",
       "</style>\n",
       "<table border=\"1\" class=\"dataframe\">\n",
       "  <thead>\n",
       "    <tr style=\"text-align: right;\">\n",
       "      <th></th>\n",
       "      <th>user_id</th>\n",
       "      <th>distance</th>\n",
       "      <th>duration</th>\n",
       "      <th>date</th>\n",
       "      <th>month_number</th>\n",
       "    </tr>\n",
       "  </thead>\n",
       "  <tbody>\n",
       "    <tr>\n",
       "      <th>11555</th>\n",
       "      <td>1069</td>\n",
       "      <td>0.855683</td>\n",
       "      <td>10.001902</td>\n",
       "      <td>2021-01-31</td>\n",
       "      <td>1</td>\n",
       "    </tr>\n",
       "    <tr>\n",
       "      <th>9541</th>\n",
       "      <td>925</td>\n",
       "      <td>2.570787</td>\n",
       "      <td>3.011018</td>\n",
       "      <td>2021-10-19</td>\n",
       "      <td>10</td>\n",
       "    </tr>\n",
       "    <tr>\n",
       "      <th>13690</th>\n",
       "      <td>1223</td>\n",
       "      <td>4.329506</td>\n",
       "      <td>4.008958</td>\n",
       "      <td>2021-05-22</td>\n",
       "      <td>5</td>\n",
       "    </tr>\n",
       "    <tr>\n",
       "      <th>8658</th>\n",
       "      <td>861</td>\n",
       "      <td>6.784447</td>\n",
       "      <td>6.015656</td>\n",
       "      <td>2021-07-21</td>\n",
       "      <td>7</td>\n",
       "    </tr>\n",
       "    <tr>\n",
       "      <th>7841</th>\n",
       "      <td>796</td>\n",
       "      <td>7.097072</td>\n",
       "      <td>10.026614</td>\n",
       "      <td>2021-11-26</td>\n",
       "      <td>11</td>\n",
       "    </tr>\n",
       "    <tr>\n",
       "      <th>8906</th>\n",
       "      <td>880</td>\n",
       "      <td>11.283615</td>\n",
       "      <td>2.035632</td>\n",
       "      <td>2021-03-28</td>\n",
       "      <td>3</td>\n",
       "    </tr>\n",
       "    <tr>\n",
       "      <th>8324</th>\n",
       "      <td>835</td>\n",
       "      <td>12.233115</td>\n",
       "      <td>4.034952</td>\n",
       "      <td>2021-09-19</td>\n",
       "      <td>9</td>\n",
       "    </tr>\n",
       "    <tr>\n",
       "      <th>13940</th>\n",
       "      <td>1240</td>\n",
       "      <td>15.000606</td>\n",
       "      <td>10.045002</td>\n",
       "      <td>2021-08-20</td>\n",
       "      <td>8</td>\n",
       "    </tr>\n",
       "    <tr>\n",
       "      <th>15626</th>\n",
       "      <td>1364</td>\n",
       "      <td>15.366168</td>\n",
       "      <td>6.057623</td>\n",
       "      <td>2021-08-22</td>\n",
       "      <td>8</td>\n",
       "    </tr>\n",
       "    <tr>\n",
       "      <th>11862</th>\n",
       "      <td>1091</td>\n",
       "      <td>15.630873</td>\n",
       "      <td>13.044660</td>\n",
       "      <td>2021-03-29</td>\n",
       "      <td>3</td>\n",
       "    </tr>\n",
       "    <tr>\n",
       "      <th>17414</th>\n",
       "      <td>1489</td>\n",
       "      <td>22.314412</td>\n",
       "      <td>6.074381</td>\n",
       "      <td>2021-10-06</td>\n",
       "      <td>10</td>\n",
       "    </tr>\n",
       "    <tr>\n",
       "      <th>15104</th>\n",
       "      <td>1323</td>\n",
       "      <td>22.393227</td>\n",
       "      <td>7.061072</td>\n",
       "      <td>2021-10-25</td>\n",
       "      <td>10</td>\n",
       "    </tr>\n",
       "    <tr>\n",
       "      <th>6691</th>\n",
       "      <td>712</td>\n",
       "      <td>23.963062</td>\n",
       "      <td>2.053251</td>\n",
       "      <td>2021-11-22</td>\n",
       "      <td>11</td>\n",
       "    </tr>\n",
       "    <tr>\n",
       "      <th>9784</th>\n",
       "      <td>943</td>\n",
       "      <td>26.784378</td>\n",
       "      <td>5.053569</td>\n",
       "      <td>2021-12-29</td>\n",
       "      <td>12</td>\n",
       "    </tr>\n",
       "    <tr>\n",
       "      <th>17173</th>\n",
       "      <td>1471</td>\n",
       "      <td>27.965145</td>\n",
       "      <td>3.093217</td>\n",
       "      <td>2021-10-06</td>\n",
       "      <td>10</td>\n",
       "    </tr>\n",
       "    <tr>\n",
       "      <th>6611</th>\n",
       "      <td>707</td>\n",
       "      <td>28.793204</td>\n",
       "      <td>14.143966</td>\n",
       "      <td>2021-09-12</td>\n",
       "      <td>9</td>\n",
       "    </tr>\n",
       "    <tr>\n",
       "      <th>6850</th>\n",
       "      <td>724</td>\n",
       "      <td>30.473763</td>\n",
       "      <td>3.166221</td>\n",
       "      <td>2021-05-09</td>\n",
       "      <td>5</td>\n",
       "    </tr>\n",
       "    <tr>\n",
       "      <th>14676</th>\n",
       "      <td>1293</td>\n",
       "      <td>30.586955</td>\n",
       "      <td>9.096590</td>\n",
       "      <td>2021-01-14</td>\n",
       "      <td>1</td>\n",
       "    </tr>\n",
       "    <tr>\n",
       "      <th>15870</th>\n",
       "      <td>1381</td>\n",
       "      <td>31.391295</td>\n",
       "      <td>14.099130</td>\n",
       "      <td>2021-06-29</td>\n",
       "      <td>6</td>\n",
       "    </tr>\n",
       "    <tr>\n",
       "      <th>9128</th>\n",
       "      <td>896</td>\n",
       "      <td>31.803410</td>\n",
       "      <td>8.079509</td>\n",
       "      <td>2021-03-16</td>\n",
       "      <td>3</td>\n",
       "    </tr>\n",
       "    <tr>\n",
       "      <th>9927</th>\n",
       "      <td>952</td>\n",
       "      <td>34.287979</td>\n",
       "      <td>9.097966</td>\n",
       "      <td>2021-11-04</td>\n",
       "      <td>11</td>\n",
       "    </tr>\n",
       "    <tr>\n",
       "      <th>7389</th>\n",
       "      <td>762</td>\n",
       "      <td>35.061903</td>\n",
       "      <td>7.087655</td>\n",
       "      <td>2021-05-27</td>\n",
       "      <td>5</td>\n",
       "    </tr>\n",
       "    <tr>\n",
       "      <th>17646</th>\n",
       "      <td>1506</td>\n",
       "      <td>37.002836</td>\n",
       "      <td>4.170782</td>\n",
       "      <td>2021-06-27</td>\n",
       "      <td>6</td>\n",
       "    </tr>\n",
       "    <tr>\n",
       "      <th>9439</th>\n",
       "      <td>918</td>\n",
       "      <td>38.711151</td>\n",
       "      <td>11.165905</td>\n",
       "      <td>2021-06-08</td>\n",
       "      <td>6</td>\n",
       "    </tr>\n",
       "    <tr>\n",
       "      <th>13638</th>\n",
       "      <td>1219</td>\n",
       "      <td>40.287856</td>\n",
       "      <td>8.109876</td>\n",
       "      <td>2021-09-19</td>\n",
       "      <td>9</td>\n",
       "    </tr>\n",
       "    <tr>\n",
       "      <th>14081</th>\n",
       "      <td>1251</td>\n",
       "      <td>41.212830</td>\n",
       "      <td>2.224797</td>\n",
       "      <td>2021-04-15</td>\n",
       "      <td>4</td>\n",
       "    </tr>\n",
       "    <tr>\n",
       "      <th>16442</th>\n",
       "      <td>1419</td>\n",
       "      <td>41.282076</td>\n",
       "      <td>4.154808</td>\n",
       "      <td>2021-11-20</td>\n",
       "      <td>11</td>\n",
       "    </tr>\n",
       "    <tr>\n",
       "      <th>10349</th>\n",
       "      <td>982</td>\n",
       "      <td>43.690381</td>\n",
       "      <td>13.201648</td>\n",
       "      <td>2021-07-21</td>\n",
       "      <td>7</td>\n",
       "    </tr>\n",
       "    <tr>\n",
       "      <th>11566</th>\n",
       "      <td>1069</td>\n",
       "      <td>44.016496</td>\n",
       "      <td>13.110041</td>\n",
       "      <td>2021-06-20</td>\n",
       "      <td>6</td>\n",
       "    </tr>\n",
       "    <tr>\n",
       "      <th>16409</th>\n",
       "      <td>1417</td>\n",
       "      <td>44.728663</td>\n",
       "      <td>10.127796</td>\n",
       "      <td>2021-09-20</td>\n",
       "      <td>9</td>\n",
       "    </tr>\n",
       "    <tr>\n",
       "      <th>15607</th>\n",
       "      <td>1362</td>\n",
       "      <td>46.560533</td>\n",
       "      <td>2.253967</td>\n",
       "      <td>2021-09-22</td>\n",
       "      <td>9</td>\n",
       "    </tr>\n",
       "  </tbody>\n",
       "</table>\n",
       "</div>"
      ],
      "text/plain": [
       "       user_id   distance   duration        date  month_number\n",
       "11555     1069   0.855683  10.001902  2021-01-31             1\n",
       "9541       925   2.570787   3.011018  2021-10-19            10\n",
       "13690     1223   4.329506   4.008958  2021-05-22             5\n",
       "8658       861   6.784447   6.015656  2021-07-21             7\n",
       "7841       796   7.097072  10.026614  2021-11-26            11\n",
       "8906       880  11.283615   2.035632  2021-03-28             3\n",
       "8324       835  12.233115   4.034952  2021-09-19             9\n",
       "13940     1240  15.000606  10.045002  2021-08-20             8\n",
       "15626     1364  15.366168   6.057623  2021-08-22             8\n",
       "11862     1091  15.630873  13.044660  2021-03-29             3\n",
       "17414     1489  22.314412   6.074381  2021-10-06            10\n",
       "15104     1323  22.393227   7.061072  2021-10-25            10\n",
       "6691       712  23.963062   2.053251  2021-11-22            11\n",
       "9784       943  26.784378   5.053569  2021-12-29            12\n",
       "17173     1471  27.965145   3.093217  2021-10-06            10\n",
       "6611       707  28.793204  14.143966  2021-09-12             9\n",
       "6850       724  30.473763   3.166221  2021-05-09             5\n",
       "14676     1293  30.586955   9.096590  2021-01-14             1\n",
       "15870     1381  31.391295  14.099130  2021-06-29             6\n",
       "9128       896  31.803410   8.079509  2021-03-16             3\n",
       "9927       952  34.287979   9.097966  2021-11-04            11\n",
       "7389       762  35.061903   7.087655  2021-05-27             5\n",
       "17646     1506  37.002836   4.170782  2021-06-27             6\n",
       "9439       918  38.711151  11.165905  2021-06-08             6\n",
       "13638     1219  40.287856   8.109876  2021-09-19             9\n",
       "14081     1251  41.212830   2.224797  2021-04-15             4\n",
       "16442     1419  41.282076   4.154808  2021-11-20            11\n",
       "10349      982  43.690381  13.201648  2021-07-21             7\n",
       "11566     1069  44.016496  13.110041  2021-06-20             6\n",
       "16409     1417  44.728663  10.127796  2021-09-20             9\n",
       "15607     1362  46.560533   2.253967  2021-09-22             9"
      ]
     },
     "execution_count": 26,
     "metadata": {},
     "output_type": "execute_result"
    }
   ],
   "source": [
    "rides_go.query('distance < 50').sort_values(by='distance')"
   ]
  },
  {
   "cell_type": "code",
   "execution_count": 27,
   "id": "d9a2140a",
   "metadata": {},
   "outputs": [
    {
     "data": {
      "image/png": "[encoded data removed]",
      "text/plain": [
       "<Figure size 1080x360 with 1 Axes>"
      ]
     },
     "metadata": {
      "needs_background": "light"
     },
     "output_type": "display_data"
    }
   ],
   "source": [
    "rides_go['distance'].hist(bins=50, figsize=(15, 5), color = 'beige', ec='black', legend=True)\n",
    "plt.title('Расстояние, пройденное за одну поездку')\n",
    "plt.xlabel('Расстояние, м')\n",
    "plt.ylabel('Количество значений ')\n",
    "plt.show()"
   ]
  },
  {
   "cell_type": "code",
   "execution_count": 28,
   "id": "19f22690",
   "metadata": {},
   "outputs": [
    {
     "data": {
      "image/png": "[encoded data removed]",
      "text/plain": [
       "<Figure size 432x288 with 1 Axes>"
      ]
     },
     "metadata": {
      "needs_background": "light"
     },
     "output_type": "display_data"
    }
   ],
   "source": [
    "sns.boxplot(x=rides_go['distance'])\n",
    "plt.show()"
   ]
  },
  {
   "cell_type": "markdown",
   "id": "bbd3de82",
   "metadata": {},
   "source": [
    "#### Вывод\n",
    "\n",
    "Визуализация количества поездок в зависимости от расстояния указывает, медиана поездок находится на 3133 метров, среднее значение 3070 м.\n",
    "В целом данные распределены равномерно. Но также тут необходимо учитывать, имеет ли пользователь подписку, потому что, возможно, люди, имеющие подписку, ездят на бОльшие расстояния. "
   ]
  },
  {
   "cell_type": "markdown",
   "id": "12327461",
   "metadata": {},
   "source": [
    "### Анализ продолжительности поездок."
   ]
  },
  {
   "cell_type": "code",
   "execution_count": 29,
   "id": "0fa60bbd",
   "metadata": {},
   "outputs": [
    {
     "data": {
      "text/plain": [
       "count    18068.000000\n",
       "mean        17.805011\n",
       "std          6.091051\n",
       "min          0.500000\n",
       "25%         13.597563\n",
       "50%         17.678395\n",
       "75%         21.724800\n",
       "max         40.823963\n",
       "Name: duration, dtype: float64"
      ]
     },
     "execution_count": 29,
     "metadata": {},
     "output_type": "execute_result"
    }
   ],
   "source": [
    "rides_go['duration'].describe()"
   ]
  },
  {
   "cell_type": "code",
   "execution_count": 30,
   "id": "7bfc79a5",
   "metadata": {},
   "outputs": [
    {
     "data": {
      "image/png": "[encoded data removed]",
      "text/plain": [
       "<Figure size 1080x360 with 1 Axes>"
      ]
     },
     "metadata": {
      "needs_background": "light"
     },
     "output_type": "display_data"
    }
   ],
   "source": [
    "rides_go['duration'].hist(bins=100, figsize=(15, 5), color = 'powderblue', ec='black', legend=True)\n",
    "plt.title('Продолжительность поездки')\n",
    "plt.xlabel('Время, мин')\n",
    "plt.ylabel('Количество значений')\n",
    "plt.show()"
   ]
  },
  {
   "cell_type": "code",
   "execution_count": 31,
   "id": "afc6f940",
   "metadata": {},
   "outputs": [
    {
     "data": {
      "text/plain": [
       "count    17973.000000\n",
       "mean        17.896480\n",
       "std          5.975424\n",
       "min          2.035632\n",
       "25%         13.670439\n",
       "50%         17.714122\n",
       "75%         21.747016\n",
       "max         40.823963\n",
       "Name: duration, dtype: float64"
      ]
     },
     "execution_count": 31,
     "metadata": {},
     "output_type": "execute_result"
    }
   ],
   "source": [
    "rides_go.query('duration > 0.5')['duration'].describe()"
   ]
  },
  {
   "cell_type": "markdown",
   "id": "c0cedbba",
   "metadata": {},
   "source": [
    "#### Вывод\n",
    "\n",
    "Визуализация количества поездок в зависимости от продолжительности указывает, медиана поездок находится на 17 мин, что совпадает со средним временем поездки. На гисторгамме замечено аномальное время поездок порядка 100 с временем менее 1 минуты."
   ]
  },
  {
   "cell_type": "markdown",
   "id": "3d42a349",
   "metadata": {},
   "source": [
    "### Вывод по исследовательскому анализу данных:"
   ]
  },
  {
   "cell_type": "markdown",
   "id": "e36f1ccc",
   "metadata": {},
   "source": [
    "1) Можно сделать вывод, что сервис аренды самокатов больше всего пользуется спросом в городах, расположенных на юге: Пятигорск, Ростов-на-Дону, Краснодар, Сочи, однако второе место в топе занял Екатеринбург. \n",
    "\n",
    "\n",
    "2) Количество пользователей без подписки free 54% превышает количество пользователей с подпиской ultra 46%.\n",
    "\n",
    "3) Анализ возраста показал, что средний возраст пользователей услуги подчиняется нормальному распределению с медианой примерно в 25 лет, при этом средний возраст и медиана практически совпадают.\n",
    "\n",
    "4) Визуализация количества поездок в зависимости от расстояния указывает, медиана поездок находится на 3133 метров, среднее значение 3070 м. В целом данные распределены равномерно. Но также тут необходимо учитывать, имеет ли пользователь подписку, потому что, возможно, люди, имеющие подписку, ездят на бОльшие расстояния.\n",
    "\n",
    "5) Визуализация количества поездок в зависимости от продолжительности указывает, медиана поездок находится на 17 мин, что совпадает со средним временем поездки. На гисторгамме замечено аномальное время поездок порядка 100 с временем менее 1 минуты."
   ]
  },
  {
   "cell_type": "markdown",
   "id": "4ef51331",
   "metadata": {},
   "source": [
    "## Объединение данных"
   ]
  },
  {
   "cell_type": "markdown",
   "id": "be52004b",
   "metadata": {},
   "source": [
    "### Объединение данных о пользователях, поездках и подписках в один датафрейм. "
   ]
  },
  {
   "cell_type": "code",
   "execution_count": 32,
   "id": "6bf288b5",
   "metadata": {},
   "outputs": [
    {
     "name": "stdout",
     "output_type": "stream",
     "text": [
      "<class 'pandas.core.frame.DataFrame'>\n",
      "Int64Index: 18068 entries, 0 to 18067\n",
      "Data columns (total 12 columns):\n",
      " #   Column             Non-Null Count  Dtype  \n",
      "---  ------             --------------  -----  \n",
      " 0   user_id            18068 non-null  int64  \n",
      " 1   name               18068 non-null  object \n",
      " 2   age                18068 non-null  int64  \n",
      " 3   city               18068 non-null  object \n",
      " 4   subscription_type  18068 non-null  object \n",
      " 5   distance           18068 non-null  float64\n",
      " 6   duration           18068 non-null  float64\n",
      " 7   date               18068 non-null  object \n",
      " 8   month_number       18068 non-null  int64  \n",
      " 9   minute_price       18068 non-null  int64  \n",
      " 10  start_ride_price   18068 non-null  int64  \n",
      " 11  subscription_fee   18068 non-null  int64  \n",
      "dtypes: float64(2), int64(6), object(4)\n",
      "memory usage: 1.8+ MB\n"
     ]
    }
   ],
   "source": [
    "data = users_go.merge(rides_go, on='user_id', how='left').merge(subscriptions_go, on='subscription_type', how='left')\n",
    "data.info()"
   ]
  },
  {
   "cell_type": "code",
   "execution_count": 33,
   "id": "5d66e759",
   "metadata": {},
   "outputs": [
    {
     "data": {
      "text/plain": [
       "user_id              0\n",
       "name                 0\n",
       "age                  0\n",
       "city                 0\n",
       "subscription_type    0\n",
       "distance             0\n",
       "duration             0\n",
       "date                 0\n",
       "month_number         0\n",
       "minute_price         0\n",
       "start_ride_price     0\n",
       "subscription_fee     0\n",
       "dtype: int64"
      ]
     },
     "execution_count": 33,
     "metadata": {},
     "output_type": "execute_result"
    }
   ],
   "source": [
    "#Посчитаем пропущенные значения нового датафрейма, чтобы убедиться, что они не возникли в результате объединения\n",
    "data.isna().sum()"
   ]
  },
  {
   "cell_type": "markdown",
   "id": "1752e93d",
   "metadata": {},
   "source": [
    "#### Вывод:\n",
    "\n",
    "В результате был создан новый датафрейм, не имеющий пропусков, неверных типов данных."
   ]
  },
  {
   "cell_type": "markdown",
   "id": "45a8ee63",
   "metadata": {},
   "source": [
    "### Создание датафрейма с данными о пользователях с подпиской."
   ]
  },
  {
   "cell_type": "code",
   "execution_count": 34,
   "id": "8a244386",
   "metadata": {},
   "outputs": [
    {
     "data": {
      "text/html": [
       "<div>\n",
       "<style scoped>\n",
       "    .dataframe tbody tr th:only-of-type {\n",
       "        vertical-align: middle;\n",
       "    }\n",
       "\n",
       "    .dataframe tbody tr th {\n",
       "        vertical-align: top;\n",
       "    }\n",
       "\n",
       "    .dataframe thead th {\n",
       "        text-align: right;\n",
       "    }\n",
       "</style>\n",
       "<table border=\"1\" class=\"dataframe\">\n",
       "  <thead>\n",
       "    <tr style=\"text-align: right;\">\n",
       "      <th></th>\n",
       "      <th>user_id</th>\n",
       "      <th>name</th>\n",
       "      <th>age</th>\n",
       "      <th>city</th>\n",
       "      <th>subscription_type</th>\n",
       "      <th>distance</th>\n",
       "      <th>duration</th>\n",
       "      <th>date</th>\n",
       "      <th>month_number</th>\n",
       "      <th>minute_price</th>\n",
       "      <th>start_ride_price</th>\n",
       "      <th>subscription_fee</th>\n",
       "    </tr>\n",
       "  </thead>\n",
       "  <tbody>\n",
       "    <tr>\n",
       "      <th>0</th>\n",
       "      <td>1</td>\n",
       "      <td>Кира</td>\n",
       "      <td>22</td>\n",
       "      <td>Тюмень</td>\n",
       "      <td>ultra</td>\n",
       "      <td>4409.919140</td>\n",
       "      <td>25.599769</td>\n",
       "      <td>2021-01-01</td>\n",
       "      <td>1</td>\n",
       "      <td>6</td>\n",
       "      <td>0</td>\n",
       "      <td>199</td>\n",
       "    </tr>\n",
       "    <tr>\n",
       "      <th>1</th>\n",
       "      <td>1</td>\n",
       "      <td>Кира</td>\n",
       "      <td>22</td>\n",
       "      <td>Тюмень</td>\n",
       "      <td>ultra</td>\n",
       "      <td>2617.592153</td>\n",
       "      <td>15.816871</td>\n",
       "      <td>2021-01-18</td>\n",
       "      <td>1</td>\n",
       "      <td>6</td>\n",
       "      <td>0</td>\n",
       "      <td>199</td>\n",
       "    </tr>\n",
       "    <tr>\n",
       "      <th>2</th>\n",
       "      <td>1</td>\n",
       "      <td>Кира</td>\n",
       "      <td>22</td>\n",
       "      <td>Тюмень</td>\n",
       "      <td>ultra</td>\n",
       "      <td>754.159807</td>\n",
       "      <td>6.232113</td>\n",
       "      <td>2021-04-20</td>\n",
       "      <td>4</td>\n",
       "      <td>6</td>\n",
       "      <td>0</td>\n",
       "      <td>199</td>\n",
       "    </tr>\n",
       "    <tr>\n",
       "      <th>3</th>\n",
       "      <td>1</td>\n",
       "      <td>Кира</td>\n",
       "      <td>22</td>\n",
       "      <td>Тюмень</td>\n",
       "      <td>ultra</td>\n",
       "      <td>2694.783254</td>\n",
       "      <td>18.511000</td>\n",
       "      <td>2021-08-11</td>\n",
       "      <td>8</td>\n",
       "      <td>6</td>\n",
       "      <td>0</td>\n",
       "      <td>199</td>\n",
       "    </tr>\n",
       "    <tr>\n",
       "      <th>4</th>\n",
       "      <td>1</td>\n",
       "      <td>Кира</td>\n",
       "      <td>22</td>\n",
       "      <td>Тюмень</td>\n",
       "      <td>ultra</td>\n",
       "      <td>4028.687306</td>\n",
       "      <td>26.265803</td>\n",
       "      <td>2021-08-28</td>\n",
       "      <td>8</td>\n",
       "      <td>6</td>\n",
       "      <td>0</td>\n",
       "      <td>199</td>\n",
       "    </tr>\n",
       "  </tbody>\n",
       "</table>\n",
       "</div>"
      ],
      "text/plain": [
       "   user_id  name  age    city subscription_type     distance   duration  \\\n",
       "0        1  Кира   22  Тюмень             ultra  4409.919140  25.599769   \n",
       "1        1  Кира   22  Тюмень             ultra  2617.592153  15.816871   \n",
       "2        1  Кира   22  Тюмень             ultra   754.159807   6.232113   \n",
       "3        1  Кира   22  Тюмень             ultra  2694.783254  18.511000   \n",
       "4        1  Кира   22  Тюмень             ultra  4028.687306  26.265803   \n",
       "\n",
       "         date  month_number  minute_price  start_ride_price  subscription_fee  \n",
       "0  2021-01-01             1             6                 0               199  \n",
       "1  2021-01-18             1             6                 0               199  \n",
       "2  2021-04-20             4             6                 0               199  \n",
       "3  2021-08-11             8             6                 0               199  \n",
       "4  2021-08-28             8             6                 0               199  "
      ]
     },
     "execution_count": 34,
     "metadata": {},
     "output_type": "execute_result"
    }
   ],
   "source": [
    "data_sub_ultra = data.loc[data['subscription_type'] == 'ultra']\n",
    "data_sub_ultra.head(5)"
   ]
  },
  {
   "cell_type": "markdown",
   "id": "75cad9b7",
   "metadata": {},
   "source": [
    "### Создание датафрейма с данными о пользователях без подписки."
   ]
  },
  {
   "cell_type": "code",
   "execution_count": 35,
   "id": "9d3a0e23",
   "metadata": {},
   "outputs": [
    {
     "data": {
      "text/html": [
       "<div>\n",
       "<style scoped>\n",
       "    .dataframe tbody tr th:only-of-type {\n",
       "        vertical-align: middle;\n",
       "    }\n",
       "\n",
       "    .dataframe tbody tr th {\n",
       "        vertical-align: top;\n",
       "    }\n",
       "\n",
       "    .dataframe thead th {\n",
       "        text-align: right;\n",
       "    }\n",
       "</style>\n",
       "<table border=\"1\" class=\"dataframe\">\n",
       "  <thead>\n",
       "    <tr style=\"text-align: right;\">\n",
       "      <th></th>\n",
       "      <th>user_id</th>\n",
       "      <th>name</th>\n",
       "      <th>age</th>\n",
       "      <th>city</th>\n",
       "      <th>subscription_type</th>\n",
       "      <th>distance</th>\n",
       "      <th>duration</th>\n",
       "      <th>date</th>\n",
       "      <th>month_number</th>\n",
       "      <th>minute_price</th>\n",
       "      <th>start_ride_price</th>\n",
       "      <th>subscription_fee</th>\n",
       "    </tr>\n",
       "  </thead>\n",
       "  <tbody>\n",
       "    <tr>\n",
       "      <th>18063</th>\n",
       "      <td>1534</td>\n",
       "      <td>Альберт</td>\n",
       "      <td>25</td>\n",
       "      <td>Краснодар</td>\n",
       "      <td>free</td>\n",
       "      <td>3781.098080</td>\n",
       "      <td>19.822962</td>\n",
       "      <td>2021-11-04</td>\n",
       "      <td>11</td>\n",
       "      <td>8</td>\n",
       "      <td>50</td>\n",
       "      <td>0</td>\n",
       "    </tr>\n",
       "    <tr>\n",
       "      <th>18064</th>\n",
       "      <td>1534</td>\n",
       "      <td>Альберт</td>\n",
       "      <td>25</td>\n",
       "      <td>Краснодар</td>\n",
       "      <td>free</td>\n",
       "      <td>2840.423057</td>\n",
       "      <td>21.409799</td>\n",
       "      <td>2021-11-16</td>\n",
       "      <td>11</td>\n",
       "      <td>8</td>\n",
       "      <td>50</td>\n",
       "      <td>0</td>\n",
       "    </tr>\n",
       "    <tr>\n",
       "      <th>18065</th>\n",
       "      <td>1534</td>\n",
       "      <td>Альберт</td>\n",
       "      <td>25</td>\n",
       "      <td>Краснодар</td>\n",
       "      <td>free</td>\n",
       "      <td>3826.185507</td>\n",
       "      <td>18.435051</td>\n",
       "      <td>2021-11-18</td>\n",
       "      <td>11</td>\n",
       "      <td>8</td>\n",
       "      <td>50</td>\n",
       "      <td>0</td>\n",
       "    </tr>\n",
       "    <tr>\n",
       "      <th>18066</th>\n",
       "      <td>1534</td>\n",
       "      <td>Альберт</td>\n",
       "      <td>25</td>\n",
       "      <td>Краснодар</td>\n",
       "      <td>free</td>\n",
       "      <td>2902.308661</td>\n",
       "      <td>16.674362</td>\n",
       "      <td>2021-11-27</td>\n",
       "      <td>11</td>\n",
       "      <td>8</td>\n",
       "      <td>50</td>\n",
       "      <td>0</td>\n",
       "    </tr>\n",
       "    <tr>\n",
       "      <th>18067</th>\n",
       "      <td>1534</td>\n",
       "      <td>Альберт</td>\n",
       "      <td>25</td>\n",
       "      <td>Краснодар</td>\n",
       "      <td>free</td>\n",
       "      <td>2371.711192</td>\n",
       "      <td>15.893917</td>\n",
       "      <td>2021-12-29</td>\n",
       "      <td>12</td>\n",
       "      <td>8</td>\n",
       "      <td>50</td>\n",
       "      <td>0</td>\n",
       "    </tr>\n",
       "  </tbody>\n",
       "</table>\n",
       "</div>"
      ],
      "text/plain": [
       "       user_id     name  age       city subscription_type     distance  \\\n",
       "18063     1534  Альберт   25  Краснодар              free  3781.098080   \n",
       "18064     1534  Альберт   25  Краснодар              free  2840.423057   \n",
       "18065     1534  Альберт   25  Краснодар              free  3826.185507   \n",
       "18066     1534  Альберт   25  Краснодар              free  2902.308661   \n",
       "18067     1534  Альберт   25  Краснодар              free  2371.711192   \n",
       "\n",
       "        duration        date  month_number  minute_price  start_ride_price  \\\n",
       "18063  19.822962  2021-11-04            11             8                50   \n",
       "18064  21.409799  2021-11-16            11             8                50   \n",
       "18065  18.435051  2021-11-18            11             8                50   \n",
       "18066  16.674362  2021-11-27            11             8                50   \n",
       "18067  15.893917  2021-12-29            12             8                50   \n",
       "\n",
       "       subscription_fee  \n",
       "18063                 0  \n",
       "18064                 0  \n",
       "18065                 0  \n",
       "18066                 0  \n",
       "18067                 0  "
      ]
     },
     "execution_count": 35,
     "metadata": {},
     "output_type": "execute_result"
    }
   ],
   "source": [
    "data_sub_free = data.loc[data['subscription_type'] == 'free']\n",
    "data_sub_free.tail(5)"
   ]
  },
  {
   "cell_type": "markdown",
   "id": "8ca2836d",
   "metadata": {},
   "source": [
    "### Проведение визуализации данных о продолжительности поездки и расстояния с целью сравнения пользователей с подпиской и без подписки. "
   ]
  },
  {
   "cell_type": "code",
   "execution_count": 36,
   "id": "e5db3207",
   "metadata": {},
   "outputs": [
    {
     "data": {
      "image/png": "[encoded data removed]",
      "text/plain": [
       "<Figure size 432x288 with 1 Axes>"
      ]
     },
     "metadata": {
      "needs_background": "light"
     },
     "output_type": "display_data"
    }
   ],
   "source": [
    "data_sub_free['distance'].hist(bins=100)\n",
    "data_sub_ultra['distance'].hist(bins=100).set(title='Дистанции поездок без подписки и с подпиской')\n",
    "plt.xlabel('Дистанция поездок, м')\n",
    "plt.ylabel('Количество значений')\n",
    "plt.show()"
   ]
  },
  {
   "cell_type": "code",
   "execution_count": 37,
   "id": "c2de0298",
   "metadata": {},
   "outputs": [
    {
     "data": {
      "text/plain": [
       "count    11568.000000\n",
       "mean      3045.495282\n",
       "std       1246.173806\n",
       "min          0.855683\n",
       "25%       2366.562689\n",
       "50%       3114.648465\n",
       "75%       3905.697894\n",
       "max       7211.007745\n",
       "Name: distance, dtype: float64"
      ]
     },
     "execution_count": 37,
     "metadata": {},
     "output_type": "execute_result"
    }
   ],
   "source": [
    "data_sub_free['distance'].describe()"
   ]
  },
  {
   "cell_type": "code",
   "execution_count": 38,
   "id": "2b758498",
   "metadata": {},
   "outputs": [
    {
     "data": {
      "text/plain": [
       "count    6500.000000\n",
       "mean     3115.445388\n",
       "std       836.895330\n",
       "min       244.210438\n",
       "25%      2785.444017\n",
       "50%      3148.637229\n",
       "75%      3560.574425\n",
       "max      5699.769662\n",
       "Name: distance, dtype: float64"
      ]
     },
     "execution_count": 38,
     "metadata": {},
     "output_type": "execute_result"
    }
   ],
   "source": [
    "data_sub_ultra['distance'].describe()"
   ]
  },
  {
   "cell_type": "code",
   "execution_count": 39,
   "id": "32259ac0",
   "metadata": {},
   "outputs": [
    {
     "data": {
      "image/png": "[encoded data removed]",
      "text/plain": [
       "<Figure size 1080x360 with 1 Axes>"
      ]
     },
     "metadata": {
      "needs_background": "light"
     },
     "output_type": "display_data"
    }
   ],
   "source": [
    "data_sub_ultra['duration'].hist(bins=100, figsize=(15, 5), color = 'lightseagreen', ec='black', legend=True)\n",
    "plt.title('Продолжительность поездок с подпиской')\n",
    "plt.xlabel('Время, мин')\n",
    "plt.ylabel('Количество значений')\n",
    "plt.show()"
   ]
  },
  {
   "cell_type": "code",
   "execution_count": 40,
   "id": "0270661e",
   "metadata": {},
   "outputs": [
    {
     "data": {
      "text/plain": [
       "count    6500.000000\n",
       "mean       18.541985\n",
       "std         5.572048\n",
       "min         3.760353\n",
       "25%        14.524654\n",
       "50%        18.178153\n",
       "75%        21.884129\n",
       "max        40.823963\n",
       "Name: duration, dtype: float64"
      ]
     },
     "execution_count": 40,
     "metadata": {},
     "output_type": "execute_result"
    }
   ],
   "source": [
    "data_sub_ultra['duration'].describe()"
   ]
  },
  {
   "cell_type": "code",
   "execution_count": 41,
   "id": "6d9f64bf",
   "metadata": {},
   "outputs": [
    {
     "data": {
      "image/png": "[encoded data removed]",
      "text/plain": [
       "<Figure size 1080x360 with 1 Axes>"
      ]
     },
     "metadata": {
      "needs_background": "light"
     },
     "output_type": "display_data"
    }
   ],
   "source": [
    "data_sub_free['duration'].hist(bins=100, figsize=(15, 5), color = 'tan', ec='navy', legend=True)\n",
    "plt.title('Продолжительность поездок без подписки')\n",
    "plt.xlabel('Время, мин')\n",
    "plt.ylabel('Количество значений')\n",
    "plt.show()"
   ]
  },
  {
   "cell_type": "code",
   "execution_count": 42,
   "id": "c1ac36da",
   "metadata": {},
   "outputs": [
    {
     "data": {
      "text/plain": [
       "count    11568.000000\n",
       "mean        17.390909\n",
       "std          6.326803\n",
       "min          0.500000\n",
       "25%         12.958437\n",
       "50%         17.326890\n",
       "75%         21.594071\n",
       "max         34.948498\n",
       "Name: duration, dtype: float64"
      ]
     },
     "execution_count": 42,
     "metadata": {},
     "output_type": "execute_result"
    }
   ],
   "source": [
    "data_sub_free['duration'].describe()"
   ]
  },
  {
   "cell_type": "markdown",
   "id": "7f60ce4f",
   "metadata": {},
   "source": [
    "### Вывод по визуализации данных о продолжительности поездки и расстояния с целью сравнения пользователей с подпиской и без подписки\n",
    "\n",
    "Наличие подписки влияет на расстояние и продолжительность поездок, так как:\n",
    "\n",
    "Визуализация данных показала, что с подпиской медианные значения дистанции поездки больше, чем без неё. А также при использовании подписки наблюдается меньший разброс данных. \n",
    "\n",
    "Визуализация данных о продолжителльности поездки показала, что подписка влияет на медианные значения (время поезки без подписки 18 мин с подпиской 19 мин), так же замечено снижение стандартного отклонения free - 6.33 ultra - 5.57.\n",
    "\n",
    "Скорее всего это наблюдается, потому что с подпиской более выгодно использовать сервис, получается плата меньше, чем без неё, и люди без подписки, скорее всего, стараются проезжать меньше, чтобы вышло дешевле."
   ]
  },
  {
   "cell_type": "markdown",
   "id": "402d620f",
   "metadata": {},
   "source": [
    "## Подсчёт выручки"
   ]
  },
  {
   "cell_type": "markdown",
   "id": "1e4a0393",
   "metadata": {},
   "source": [
    "### Создание датафрейма с агрегированными данными о поездках на основе датафрейма с объединёнными данными предыдущего этапа исследования. "
   ]
  },
  {
   "cell_type": "code",
   "execution_count": 43,
   "id": "5cfa1c39",
   "metadata": {},
   "outputs": [],
   "source": [
    "data['duration'] = np.ceil(data['duration'])"
   ]
  },
  {
   "cell_type": "code",
   "execution_count": 44,
   "id": "fe066ac4",
   "metadata": {},
   "outputs": [
    {
     "data": {
      "text/html": [
       "<div>\n",
       "<style scoped>\n",
       "    .dataframe tbody tr th:only-of-type {\n",
       "        vertical-align: middle;\n",
       "    }\n",
       "\n",
       "    .dataframe tbody tr th {\n",
       "        vertical-align: top;\n",
       "    }\n",
       "\n",
       "    .dataframe thead th {\n",
       "        text-align: right;\n",
       "    }\n",
       "</style>\n",
       "<table border=\"1\" class=\"dataframe\">\n",
       "  <thead>\n",
       "    <tr style=\"text-align: right;\">\n",
       "      <th></th>\n",
       "      <th></th>\n",
       "      <th>count</th>\n",
       "      <th>distance</th>\n",
       "      <th>duration</th>\n",
       "      <th>minute_price</th>\n",
       "      <th>start_ride_price</th>\n",
       "      <th>subscription_fee</th>\n",
       "    </tr>\n",
       "    <tr>\n",
       "      <th>user_id</th>\n",
       "      <th>month_number</th>\n",
       "      <th></th>\n",
       "      <th></th>\n",
       "      <th></th>\n",
       "      <th></th>\n",
       "      <th></th>\n",
       "      <th></th>\n",
       "    </tr>\n",
       "  </thead>\n",
       "  <tbody>\n",
       "    <tr>\n",
       "      <th rowspan=\"5\" valign=\"top\">1</th>\n",
       "      <th>1</th>\n",
       "      <td>2</td>\n",
       "      <td>7027.511294</td>\n",
       "      <td>42.0</td>\n",
       "      <td>6</td>\n",
       "      <td>0</td>\n",
       "      <td>199</td>\n",
       "    </tr>\n",
       "    <tr>\n",
       "      <th>4</th>\n",
       "      <td>1</td>\n",
       "      <td>754.159807</td>\n",
       "      <td>7.0</td>\n",
       "      <td>6</td>\n",
       "      <td>0</td>\n",
       "      <td>199</td>\n",
       "    </tr>\n",
       "    <tr>\n",
       "      <th>8</th>\n",
       "      <td>2</td>\n",
       "      <td>6723.470560</td>\n",
       "      <td>46.0</td>\n",
       "      <td>6</td>\n",
       "      <td>0</td>\n",
       "      <td>199</td>\n",
       "    </tr>\n",
       "    <tr>\n",
       "      <th>10</th>\n",
       "      <td>2</td>\n",
       "      <td>5809.911100</td>\n",
       "      <td>32.0</td>\n",
       "      <td>6</td>\n",
       "      <td>0</td>\n",
       "      <td>199</td>\n",
       "    </tr>\n",
       "    <tr>\n",
       "      <th>11</th>\n",
       "      <td>3</td>\n",
       "      <td>7003.499363</td>\n",
       "      <td>56.0</td>\n",
       "      <td>6</td>\n",
       "      <td>0</td>\n",
       "      <td>199</td>\n",
       "    </tr>\n",
       "  </tbody>\n",
       "</table>\n",
       "</div>"
      ],
      "text/plain": [
       "                      count     distance  duration  minute_price  \\\n",
       "user_id month_number                                               \n",
       "1       1                 2  7027.511294      42.0             6   \n",
       "        4                 1   754.159807       7.0             6   \n",
       "        8                 2  6723.470560      46.0             6   \n",
       "        10                2  5809.911100      32.0             6   \n",
       "        11                3  7003.499363      56.0             6   \n",
       "\n",
       "                      start_ride_price  subscription_fee  \n",
       "user_id month_number                                      \n",
       "1       1                            0               199  \n",
       "        4                            0               199  \n",
       "        8                            0               199  \n",
       "        10                           0               199  \n",
       "        11                           0               199  "
      ]
     },
     "execution_count": 44,
     "metadata": {},
     "output_type": "execute_result"
    }
   ],
   "source": [
    "users_months_revenue = data.pivot_table(\n",
    "    index=('user_id', 'month_number'), \n",
    "    values=(\n",
    "        'distance', \n",
    "        'duration', \n",
    "        'minute_price', \n",
    "        'start_ride_price', \n",
    "        'subscription_fee'\n",
    "    ), \n",
    "    aggfunc=({'distance':{'count', 'sum'}, \n",
    "             'duration':'sum',\n",
    "             'minute_price': 'mean',\n",
    "             'start_ride_price':'mean',\n",
    "             'subscription_fee':'mean',})\n",
    ")\n",
    "\n",
    "users_months_revenue.columns = [\n",
    "    'count', 'distance', \n",
    "    'duration', \n",
    "    'minute_price',\n",
    "    'start_ride_price', \n",
    "    'subscription_fee'\n",
    "]\n",
    "\n",
    "\n",
    "users_months_revenue.head()"
   ]
  },
  {
   "cell_type": "code",
   "execution_count": 45,
   "id": "2cb902cf",
   "metadata": {},
   "outputs": [
    {
     "data": {
      "text/plain": [
       "count               0\n",
       "distance            0\n",
       "duration            0\n",
       "minute_price        0\n",
       "start_ride_price    0\n",
       "subscription_fee    0\n",
       "dtype: int64"
      ]
     },
     "execution_count": 45,
     "metadata": {},
     "output_type": "execute_result"
    }
   ],
   "source": [
    "#Подсчет пропусков в датафрейме\n",
    "users_months_revenue.isna().sum()"
   ]
  },
  {
   "cell_type": "markdown",
   "id": "9eca2351",
   "metadata": {},
   "source": [
    "### Добавление столбца с помесячной выручкой ('revenue') для каждого пользователя сервиса."
   ]
  },
  {
   "cell_type": "code",
   "execution_count": 46,
   "id": "6ec6d047",
   "metadata": {},
   "outputs": [
    {
     "name": "stdout",
     "output_type": "stream",
     "text": [
      "Записи с  2021-01-01 по 2021-12-30\n",
      "Выручка за 2021 год составила : 3878641.0 руб.\n"
     ]
    }
   ],
   "source": [
    "users_months_revenue['revenue'] = (\n",
    "users_months_revenue['start_ride_price']*users_months_revenue['count']+\n",
    "users_months_revenue['minute_price']*users_months_revenue['duration']+\n",
    "users_months_revenue['subscription_fee'])\n",
    "\n",
    "print('Записи с ', data['date'].min(), 'по', data['date'].max())\n",
    "print ('Выручка за 2021 год составила :',users_months_revenue['revenue'].sum(), 'руб.')"
   ]
  },
  {
   "cell_type": "code",
   "execution_count": 47,
   "id": "83c2be6c",
   "metadata": {},
   "outputs": [
    {
     "data": {
      "text/html": [
       "<div>\n",
       "<style scoped>\n",
       "    .dataframe tbody tr th:only-of-type {\n",
       "        vertical-align: middle;\n",
       "    }\n",
       "\n",
       "    .dataframe tbody tr th {\n",
       "        vertical-align: top;\n",
       "    }\n",
       "\n",
       "    .dataframe thead th {\n",
       "        text-align: right;\n",
       "    }\n",
       "</style>\n",
       "<table border=\"1\" class=\"dataframe\">\n",
       "  <thead>\n",
       "    <tr style=\"text-align: right;\">\n",
       "      <th></th>\n",
       "      <th></th>\n",
       "      <th>count</th>\n",
       "      <th>distance</th>\n",
       "      <th>duration</th>\n",
       "      <th>minute_price</th>\n",
       "      <th>start_ride_price</th>\n",
       "      <th>subscription_fee</th>\n",
       "      <th>revenue</th>\n",
       "    </tr>\n",
       "    <tr>\n",
       "      <th>user_id</th>\n",
       "      <th>month_number</th>\n",
       "      <th></th>\n",
       "      <th></th>\n",
       "      <th></th>\n",
       "      <th></th>\n",
       "      <th></th>\n",
       "      <th></th>\n",
       "      <th></th>\n",
       "    </tr>\n",
       "  </thead>\n",
       "  <tbody>\n",
       "    <tr>\n",
       "      <th rowspan=\"5\" valign=\"top\">1</th>\n",
       "      <th>1</th>\n",
       "      <td>2</td>\n",
       "      <td>7027.511294</td>\n",
       "      <td>42.0</td>\n",
       "      <td>6</td>\n",
       "      <td>0</td>\n",
       "      <td>199</td>\n",
       "      <td>451.0</td>\n",
       "    </tr>\n",
       "    <tr>\n",
       "      <th>4</th>\n",
       "      <td>1</td>\n",
       "      <td>754.159807</td>\n",
       "      <td>7.0</td>\n",
       "      <td>6</td>\n",
       "      <td>0</td>\n",
       "      <td>199</td>\n",
       "      <td>241.0</td>\n",
       "    </tr>\n",
       "    <tr>\n",
       "      <th>8</th>\n",
       "      <td>2</td>\n",
       "      <td>6723.470560</td>\n",
       "      <td>46.0</td>\n",
       "      <td>6</td>\n",
       "      <td>0</td>\n",
       "      <td>199</td>\n",
       "      <td>475.0</td>\n",
       "    </tr>\n",
       "    <tr>\n",
       "      <th>10</th>\n",
       "      <td>2</td>\n",
       "      <td>5809.911100</td>\n",
       "      <td>32.0</td>\n",
       "      <td>6</td>\n",
       "      <td>0</td>\n",
       "      <td>199</td>\n",
       "      <td>391.0</td>\n",
       "    </tr>\n",
       "    <tr>\n",
       "      <th>11</th>\n",
       "      <td>3</td>\n",
       "      <td>7003.499363</td>\n",
       "      <td>56.0</td>\n",
       "      <td>6</td>\n",
       "      <td>0</td>\n",
       "      <td>199</td>\n",
       "      <td>535.0</td>\n",
       "    </tr>\n",
       "  </tbody>\n",
       "</table>\n",
       "</div>"
      ],
      "text/plain": [
       "                      count     distance  duration  minute_price  \\\n",
       "user_id month_number                                               \n",
       "1       1                 2  7027.511294      42.0             6   \n",
       "        4                 1   754.159807       7.0             6   \n",
       "        8                 2  6723.470560      46.0             6   \n",
       "        10                2  5809.911100      32.0             6   \n",
       "        11                3  7003.499363      56.0             6   \n",
       "\n",
       "                      start_ride_price  subscription_fee  revenue  \n",
       "user_id month_number                                               \n",
       "1       1                            0               199    451.0  \n",
       "        4                            0               199    241.0  \n",
       "        8                            0               199    475.0  \n",
       "        10                           0               199    391.0  \n",
       "        11                           0               199    535.0  "
      ]
     },
     "execution_count": 47,
     "metadata": {},
     "output_type": "execute_result"
    }
   ],
   "source": [
    "users_months_revenue.head()"
   ]
  },
  {
   "cell_type": "markdown",
   "id": "4208872b",
   "metadata": {},
   "source": [
    "### Вывод: \n",
    "\n",
    "Суммарная выручка пользователей сервиса за год составила 3 878 641 руб."
   ]
  },
  {
   "cell_type": "markdown",
   "id": "41545ac0",
   "metadata": {},
   "source": [
    "## Проверка гипотез"
   ]
  },
  {
   "cell_type": "markdown",
   "id": "5150f787",
   "metadata": {},
   "source": [
    "### Можно ли сказать, что среднее расстояние, которое проезжают пользователи с подпиской за одну поездку, не превышает 3130 метров?\n",
    "\n",
    "Расстояние одной поездки в 3130 метров — оптимальное с точки зрения износа самоката. Отталкиваясь от этих данных, мы проверим следующие гипотезы:\n",
    "\n",
    "H0 (нулевая гипотеза): расстояние, которое пользователи с подпиской в среднем проезжают за одну поездку равно 3130 метров.\n",
    "\n",
    "H1 (альтернативная гипотеза): пользователи с подпиской в среднем проезжают расстояние больше оптимального."
   ]
  },
  {
   "cell_type": "code",
   "execution_count": 48,
   "id": "cfba54f8",
   "metadata": {},
   "outputs": [
    {
     "name": "stdout",
     "output_type": "stream",
     "text": [
      "0.9195368847849785\n",
      "Не получилось отвергнуть нулевую гипотезу\n"
     ]
    }
   ],
   "source": [
    "distance = 3130\n",
    "alpha = 0.05\n",
    "\n",
    "results = st.ttest_1samp(\n",
    "    data_sub_ultra['distance'], \n",
    "    distance,\n",
    "    alternative='greater')\n",
    "\n",
    "print(results.pvalue)\n",
    "\n",
    "if results.pvalue < alpha:\n",
    "    print('Отвергаем нулевую гипотезу')\n",
    "else:\n",
    "    print('Не получилось отвергнуть нулевую гипотезу')"
   ]
  },
  {
   "cell_type": "markdown",
   "id": "0bc475af",
   "metadata": {},
   "source": [
    "#### Вывод\n",
    "\n",
    "На основании статистического анализа данных можно сделать вывод, что мы не смогли отвергнуть нулевую гипотезу, а значит, что среднее расстояние поездки, пользователей с подпиской, не превышает оптимальное расстоянием в 3130 метров с точки зрения износа самоката."
   ]
  },
  {
   "cell_type": "markdown",
   "id": "113ec988",
   "metadata": {},
   "source": [
    "### Будет ли помесячная выручка от пользователей с подпиской по месяцам выше, чем выручка от пользователей без подписки?\n",
    "H0 (нулевая гипотеза): помесячная выручка от пользователей с подпиской по месяцам равна выручке от пользователей без подписки.\n",
    "\n",
    "H1 (альтернативная гипотеза): помесячная выручка от пользователей с подпиской по месяцам выше, чем выручка от пользователей без подписки."
   ]
  },
  {
   "cell_type": "code",
   "execution_count": 49,
   "id": "78b3c7bc",
   "metadata": {},
   "outputs": [
    {
     "name": "stdout",
     "output_type": "stream",
     "text": [
      "1.8850394384715216e-31\n",
      "Отвергаем нулевую гипотезу\n"
     ]
    }
   ],
   "source": [
    "results = st.ttest_ind(\n",
    "    users_months_revenue.loc[users_months_revenue['subscription_fee'] > 0, 'revenue'], \n",
    "    users_months_revenue.loc[users_months_revenue['subscription_fee'] == 0, 'revenue'], \n",
    "    equal_var=True, \n",
    "    alternative='greater')\n",
    "print(results.pvalue)\n",
    "\n",
    "alpha = 0.05\n",
    "if results.pvalue < alpha:\n",
    "    print('Отвергаем нулевую гипотезу')\n",
    "else:\n",
    "    print('Не получилось отвергнуть нулевую гипотезу')"
   ]
  },
  {
   "cell_type": "markdown",
   "id": "f73dd94e",
   "metadata": {},
   "source": [
    "#### Вывод\n",
    "\n",
    "Мы отвергли нулевую гипотезу, а значит, что пользователи с подиской ultra приносят месячную выручку больше, чем пользователи без подписки. "
   ]
  },
  {
   "cell_type": "markdown",
   "id": "40efc752",
   "metadata": {},
   "source": [
    "### Ситуация:\n",
    "\n",
    "Представим такую ситуацию:\n",
    "\n",
    "*Техническая команда сервиса обновила сервера, с которыми взаимодействует мобильное приложение. Она надеется, что из-за этого количество обращений в техподдержку значимо снизилось. Некоторый файл содержит для каждого пользователя данные о количестве обращений до обновления и после него.*\n",
    "\n",
    "Ответим на вопрос: \"Какой тест понадобился бы для проверки этой гипотезы?\n",
    "\n",
    "**Для проверки этой гипотезы нам понадобился бы тест scipy.stats.ttest_rel с проверкой левосторонней гипотезы alternative='less'.** "
   ]
  },
  {
   "cell_type": "markdown",
   "id": "61213c5e",
   "metadata": {},
   "source": [
    "## Распределения"
   ]
  },
  {
   "cell_type": "markdown",
   "id": "5a8390a2",
   "metadata": {},
   "source": [
    "### Распределение 1\n",
    "\n",
    "Отделу маркетинга GoFast поставили задачу: нужно провести акцию с раздачей промокодов на один бесплатный месяц подписки, в рамках которой как минимум 100 существующих клиентов должны продлить эту подписку. То есть по завершении периода действия подписки пользователь может либо отказаться от неё, либо продлить, совершив соответствующий платёж. \n",
    "Эта акция уже проводилась ранее и по итогу выяснилось, что после бесплатного пробного периода подписку продлевают 10 % пользователей. Выясните, какое минимальное количество промокодов нужно разослать, чтобы вероятность не выполнить план была примерно 5 %. \n",
    "\n",
    "Подберите параметры распределения, описывающего эту ситуацию, постройте график распределения и сформулируйте ответ на вопрос о количестве промокодов."
   ]
  },
  {
   "cell_type": "code",
   "execution_count": 50,
   "id": "95cd1d51",
   "metadata": {},
   "outputs": [
    {
     "name": "stdout",
     "output_type": "stream",
     "text": [
      "При раздаче промокодов в количестве 1161 вероятность, не выполнить план меньше 5.0 %\n"
     ]
    },
    {
     "data": {
      "image/png": "[encoded data removed]",
      "text/plain": [
       "<Figure size 432x288 with 1 Axes>"
      ]
     },
     "metadata": {
      "needs_background": "light"
     },
     "output_type": "display_data"
    }
   ],
   "source": [
    "n = 1000\n",
    "p = 0.1\n",
    "k = 99\n",
    "binom_cdf = 0.05\n",
    "\n",
    "while binom_cdf < binom.cdf(k, n, p):\n",
    "    n += 1\n",
    "print(f'При раздаче промокодов в количестве {n} вероятность, не выполнить план меньше {binom.cdf(k, n, p).round(2)*100} %')\n",
    "\n",
    "# зададим мат.ожидание и ст.отклонение нормального распределения равными мат.ожиданию и ст.отклонению биномиального распределения\n",
    "mu = n * p\n",
    "sigma = (n * p * (1 - p))**0.5\n",
    "\n",
    "arange = np.arange((mu - 4 * sigma),(mu + 4 * sigma),1)\n",
    "\n",
    "plt.plot(arange, st.norm.pdf(arange, mu, sigma), 'b-')\n",
    "plt.axvline(x=k, color='pink')\n",
    "plt.axvline(x=mu, color='grey')\n",
    "plt.show()"
   ]
  },
  {
   "cell_type": "markdown",
   "id": "c05bcb95",
   "metadata": {},
   "source": [
    "#### Вывод\n",
    "\n",
    "Минимум 1161 промокод должен быть направлен потенциальным подписчикамНеобходимо довести до подписчиков как минимум 1161 промокода, для того чтобы как минимум 100 существующих клиентов продлили подписку (продлевают подписку 10% пролучивших промокод). "
   ]
  },
  {
   "cell_type": "markdown",
   "id": "1bcd96e5",
   "metadata": {},
   "source": [
    "### Распределение 2 \n",
    "\n",
    "Отдел маркетинга рассылает клиентам push-уведомления в мобильном приложении. Клиенты могут открыть его или не открывать. Известно, что уведомления открывают около 40 % получивших клиентов. Отдел планирует разослать 1 млн уведомлений. С помощью аппроксимации постройте примерный график распределения и оцените вероятность того, что уведомление откроют не более 399,5 тыс. пользователей."
   ]
  },
  {
   "cell_type": "code",
   "execution_count": 51,
   "id": "b7f4db7d",
   "metadata": {},
   "outputs": [
    {
     "name": "stdout",
     "output_type": "stream",
     "text": [
      "Вероятность открытия сообщений: 0.15371708296369768\n"
     ]
    },
    {
     "data": {
      "image/png": "[encoded data removed]",
      "text/plain": [
       "<Figure size 432x288 with 1 Axes>"
      ]
     },
     "metadata": {
      "needs_background": "light"
     },
     "output_type": "display_data"
    }
   ],
   "source": [
    "# параметры биномиального распределения\n",
    "n = 1000000\n",
    "p = 0.4\n",
    "k = 399500\n",
    "# зададим мат.ожидание и ст.отклонение нормального распределения равными\n",
    "# мат.ожиданию и ст.отклонению биномиального распределения\n",
    "mu = n * p\n",
    "sigma = (n * p * (1 - p))**0.5\n",
    "\n",
    "# задаём нормальное распределение\n",
    "distr = st.norm(mu, sigma) \n",
    "\n",
    "# считаем вероятность хвоста слева от 399.5 тысяч\n",
    "result = distr.cdf(k)\n",
    "print('Вероятность открытия сообщений:', result)\n",
    "\n",
    "arange = np.arange((mu - 4 * sigma),(mu + 4 * sigma),1)\n",
    "plt.plot(arange, st.norm.pdf(arange, mu, sigma), 'b-')\n",
    "plt.xticks(rotation=90)\n",
    "plt.axvline(x=k, color='black')\n",
    "plt.axvline(x=mu, color='yellow')\n",
    "plt.show()"
   ]
  },
  {
   "cell_type": "markdown",
   "id": "4d705c1f",
   "metadata": {},
   "source": [
    "#### Вывод\n",
    "\n",
    "Если разослать 1 млн уведомлений с учётом, что открывают их только 40% от получивших, вероятность того, что уведомление откроют не более 399,5 тыс. пользователей составит 15,37 %."
   ]
  },
  {
   "cell_type": "markdown",
   "id": "33eeebb6",
   "metadata": {},
   "source": [
    "## Общий вывод исследования\n",
    "\n",
    "В результате проведённой предобработки данных были обработаны 3 датасета, представленные компание GoFast: users_go, rides_go, subscriptions_go.\n",
    "\n",
    "Данные были считаны и проверены на соответствие названий столбцов правилам хорошего стиля (змеиному регистру), на отсутствие пропусков, явных/неявных дубликатов, типа данных столбцов.\n",
    "\n",
    "Все столбцы в перечисленных датасетах имеют верное, с точки зрения змеиного регистра, название.\n",
    "\n",
    "Были проверены и удалены аномальные значения в датасетах.  \n",
    "\n",
    "Пропуски во всех датасетах отсутствуют. \n",
    "\n",
    "- **users_go** имеются явные дубликаты, которые могли появиться в результате технической ошибки. Явные дубликаты были удалены. Была проведена проверка на наличие неявных дубликатов. ***(Если Владислав и Влад неявные дубликаты, то добавлю вывод об этом)***.\n",
    "\n",
    "\n",
    "- **rides_go** в столбце 'date' датасета был изменён тип данных с 'object' на 'datetime64'.\n",
    "\n",
    "\n",
    "- в датасете **subscriptions_go** изменений не проводилось.\n",
    "\n",
    "А также на основании столбца 'date' был создан столбец 'month'\n",
    "\n",
    "По исследовательскому анализу можно сделать вывод: \n",
    "\n",
    "1) Сервис аренды самокатов больше всего пользуется спросом в городах, расположенных на юге: Пятигорск, Ростов-на-Дону, Краснодар, Сочи, однако второе место в топе занял Екатеринбург.\n",
    "\n",
    "2) Количество пользователей без подписки free 54% превышает количество пользователей с подпиской ultra 46%.\n",
    "\n",
    "3) Анализ возраста показал, что средний возраст пользователей услуги подчиняется нормальному распределению с медианой примерно в 25 лет, при этом средний возраст и медиана практически совпадают.\n",
    "\n",
    "4) Визуализация количества поездок в зависимости от расстояния указывает, медиана поездок находится на 3133 метров, среднее значение 3070 м. В целом данные распределены равномерно. Но также тут необходимо учитывать, имеет ли пользователь подписку, потому что, возможно, люди, имеющие подписку, ездят на бОльшие расстояния.\n",
    "\n",
    "5) Визуализация количества поездок в зависимости от продолжительности указывает, медиана поездок находится на 17 мин, что совпадает со средним временем поездки. На гисторгамме замечено аномальное время поездок порядка 100 с временем менее 1 минуты.\n",
    "\n",
    "Наличие подписки влияет на расстояние и продолжительность поездок, так как визуализация данных показала, что с подпиской медианные значения дистанции поездки больше, чем без неё. А также при использовании подписки наблюдается меньший разброс данных.\n",
    "\n",
    "Визуализация данных о продолжителльности поездки показала, что подписка влияет на медианные значения (время поезки без подписки 18 мин с подпиской 19 мин), так же замечено снижение стандартного отклонения free - 6.33 ultra - 5.57.\n",
    "\n",
    "Суммарная выручка пользователей сервиса за год составила 3 878 641 руб. - из них бОльшая часть приходится от пользователей, использующих подписку ultra - это показала проверка гипотез.\n",
    " \n",
    "На основании статистического анализа данных (в частности проверки гипотез) можно сделать вывод, что мы отвергли нулевую гипотезу, которая предполагала, что время на поездки, затрачиваемое пользователями без подписки и с подпиской одинаково. Значит, пользователи, имеющие подписку, ездят более продолжительно и являются более выгодными для сервиса.\n",
    "\n",
    "На основании статистического анализа данных можно сделать вывод, что мы не смогли отвергнуть нулевую гипотезу, а значит, что среднее расстояние поездки, пользователей с подпиской, не превышает оптимальное расстоянием в 3130 метров с точки зрения износа самоката.\n",
    "\n",
    "Мы отвергли нулевую гипотезу о том, что пользователи без подписки приносят выручку больше, а это значит, что пользователи с подиской ultra приносят месячную выручку больше, чем пользователи без подписки.\n",
    "\n",
    "Стоит отметить, что с подпиской более выгодно использовать сервис, получается плата меньше, чем без неё, и люди без подписки, скорее всего, стараются проезжать меньше, чтобы вышло дешевле. А также пользователи с подпиской являются более выгодными для сервиса GoFast, поэтому им стоит принять меры по продвижению подписки: донести ценность до клиентов, проводить акции, чтобы привлекать новых пользователей к использованию подписки и делать всё, чтобы пользователи, уже имеющие подписку, не приостанавливали её действие. "
   ]
  }
 ],
 "metadata": {
  "ExecuteTimeLog": [
   {
    "duration": 1206,
    "start_time": "2024-06-18T11:43:28.121Z"
   },
   {
    "duration": 98,
    "start_time": "2024-06-18T11:44:35.243Z"
   },
   {
    "duration": 334,
    "start_time": "2024-06-18T11:45:18.281Z"
   },
   {
    "duration": 98,
    "start_time": "2024-06-18T11:50:18.244Z"
   },
   {
    "duration": 97,
    "start_time": "2024-06-18T11:50:44.117Z"
   },
   {
    "duration": 89,
    "start_time": "2024-06-18T11:51:37.928Z"
   },
   {
    "duration": 8,
    "start_time": "2024-06-18T11:51:54.884Z"
   },
   {
    "duration": 6,
    "start_time": "2024-06-18T11:56:01.262Z"
   },
   {
    "duration": 4,
    "start_time": "2024-06-18T11:56:02.442Z"
   },
   {
    "duration": 5,
    "start_time": "2024-06-18T11:56:03.232Z"
   },
   {
    "duration": 13,
    "start_time": "2024-06-18T11:57:50.663Z"
   },
   {
    "duration": 9,
    "start_time": "2024-06-18T11:57:52.169Z"
   },
   {
    "duration": 8,
    "start_time": "2024-06-18T11:58:01.254Z"
   },
   {
    "duration": 10,
    "start_time": "2024-06-18T11:58:04.604Z"
   },
   {
    "duration": 11,
    "start_time": "2024-06-18T11:59:51.360Z"
   },
   {
    "duration": 21,
    "start_time": "2024-06-18T12:00:18.352Z"
   },
   {
    "duration": 12,
    "start_time": "2024-06-18T12:00:31.912Z"
   },
   {
    "duration": 13,
    "start_time": "2024-06-18T12:00:54.984Z"
   },
   {
    "duration": 128,
    "start_time": "2024-06-18T12:01:16.315Z"
   },
   {
    "duration": 8,
    "start_time": "2024-06-18T12:04:53.367Z"
   },
   {
    "duration": 4,
    "start_time": "2024-06-18T12:06:27.757Z"
   },
   {
    "duration": 5,
    "start_time": "2024-06-18T12:06:45.148Z"
   },
   {
    "duration": 3,
    "start_time": "2024-06-18T12:08:58.130Z"
   },
   {
    "duration": 3,
    "start_time": "2024-06-18T12:09:33.021Z"
   },
   {
    "duration": 5,
    "start_time": "2024-06-18T12:13:17.020Z"
   },
   {
    "duration": 124,
    "start_time": "2024-06-18T12:13:53.727Z"
   },
   {
    "duration": 148,
    "start_time": "2024-06-18T12:14:10.252Z"
   },
   {
    "duration": 131,
    "start_time": "2024-06-18T12:14:21.172Z"
   },
   {
    "duration": 58,
    "start_time": "2024-06-18T12:16:30.016Z"
   },
   {
    "duration": 58,
    "start_time": "2024-06-18T12:16:39.931Z"
   },
   {
    "duration": 4,
    "start_time": "2024-06-18T12:18:07.847Z"
   },
   {
    "duration": 836,
    "start_time": "2024-06-18T12:18:15.681Z"
   },
   {
    "duration": 11,
    "start_time": "2024-06-18T12:18:32.616Z"
   },
   {
    "duration": 197,
    "start_time": "2024-06-18T12:18:53.012Z"
   },
   {
    "duration": 194,
    "start_time": "2024-06-18T12:19:27.934Z"
   },
   {
    "duration": 10,
    "start_time": "2024-06-18T12:19:48.051Z"
   },
   {
    "duration": 14,
    "start_time": "2024-06-18T12:20:14.154Z"
   },
   {
    "duration": 919,
    "start_time": "2024-06-18T12:20:29.367Z"
   },
   {
    "duration": 950,
    "start_time": "2024-06-18T12:20:37.453Z"
   },
   {
    "duration": 12,
    "start_time": "2024-06-18T12:21:10.158Z"
   },
   {
    "duration": 872,
    "start_time": "2024-06-18T12:22:28.684Z"
   },
   {
    "duration": 9,
    "start_time": "2024-06-18T12:23:00.056Z"
   },
   {
    "duration": 7,
    "start_time": "2024-06-18T12:23:11.043Z"
   },
   {
    "duration": 73,
    "start_time": "2024-06-18T12:23:18.326Z"
   },
   {
    "duration": 48,
    "start_time": "2024-06-18T12:24:44.811Z"
   },
   {
    "duration": 72,
    "start_time": "2024-06-18T12:24:59.774Z"
   },
   {
    "duration": 58,
    "start_time": "2024-06-18T12:25:32.815Z"
   },
   {
    "duration": 57,
    "start_time": "2024-06-18T12:25:41.182Z"
   },
   {
    "duration": 55,
    "start_time": "2024-06-18T12:25:50.935Z"
   },
   {
    "duration": 125,
    "start_time": "2024-06-18T12:26:08.232Z"
   },
   {
    "duration": 147,
    "start_time": "2024-06-18T12:26:18.558Z"
   },
   {
    "duration": 120,
    "start_time": "2024-06-18T12:26:26.335Z"
   },
   {
    "duration": 84,
    "start_time": "2024-06-18T12:26:34.361Z"
   },
   {
    "duration": 89,
    "start_time": "2024-06-18T12:27:02.261Z"
   },
   {
    "duration": 78,
    "start_time": "2024-06-18T12:27:46.046Z"
   },
   {
    "duration": 79,
    "start_time": "2024-06-18T12:27:51.497Z"
   },
   {
    "duration": 140,
    "start_time": "2024-06-18T12:29:00.004Z"
   },
   {
    "duration": 80,
    "start_time": "2024-06-18T12:29:11.890Z"
   },
   {
    "duration": 116,
    "start_time": "2024-06-18T12:30:43.031Z"
   },
   {
    "duration": 79,
    "start_time": "2024-06-18T12:30:47.207Z"
   },
   {
    "duration": 78,
    "start_time": "2024-06-18T12:31:27.765Z"
   },
   {
    "duration": 80,
    "start_time": "2024-06-18T12:31:53.043Z"
   },
   {
    "duration": 116,
    "start_time": "2024-06-18T12:31:58.838Z"
   },
   {
    "duration": 77,
    "start_time": "2024-06-18T12:32:03.838Z"
   },
   {
    "duration": 79,
    "start_time": "2024-06-18T12:32:56.846Z"
   },
   {
    "duration": 4,
    "start_time": "2024-06-18T12:34:50.171Z"
   },
   {
    "duration": 195,
    "start_time": "2024-06-18T12:35:00.335Z"
   },
   {
    "duration": 135,
    "start_time": "2024-06-18T12:36:10.487Z"
   },
   {
    "duration": 133,
    "start_time": "2024-06-18T12:36:19.260Z"
   },
   {
    "duration": 146,
    "start_time": "2024-06-18T12:36:26.611Z"
   },
   {
    "duration": 128,
    "start_time": "2024-06-18T12:36:44.754Z"
   },
   {
    "duration": 55,
    "start_time": "2024-06-18T12:39:23.030Z"
   },
   {
    "duration": 174,
    "start_time": "2024-06-18T12:39:29.379Z"
   },
   {
    "duration": 164,
    "start_time": "2024-06-18T12:39:55.882Z"
   },
   {
    "duration": 157,
    "start_time": "2024-06-18T12:40:04.881Z"
   },
   {
    "duration": 167,
    "start_time": "2024-06-18T12:40:13.292Z"
   },
   {
    "duration": 191,
    "start_time": "2024-06-18T12:42:18.493Z"
   },
   {
    "duration": 8,
    "start_time": "2024-06-18T12:42:48.201Z"
   },
   {
    "duration": 12,
    "start_time": "2024-06-18T12:45:11.754Z"
   },
   {
    "duration": 201,
    "start_time": "2024-06-18T12:46:55.567Z"
   },
   {
    "duration": 271,
    "start_time": "2024-06-18T12:47:52.203Z"
   },
   {
    "duration": 7,
    "start_time": "2024-06-18T12:49:03.618Z"
   },
   {
    "duration": 80,
    "start_time": "2024-06-18T12:49:04.458Z"
   },
   {
    "duration": 20,
    "start_time": "2024-06-18T12:49:54.742Z"
   },
   {
    "duration": 7,
    "start_time": "2024-06-18T12:50:47.678Z"
   },
   {
    "duration": 13,
    "start_time": "2024-06-18T12:51:00.736Z"
   },
   {
    "duration": 12,
    "start_time": "2024-06-18T12:51:09.145Z"
   },
   {
    "duration": 14,
    "start_time": "2024-06-18T12:51:42.101Z"
   },
   {
    "duration": 196,
    "start_time": "2024-06-18T12:58:00.975Z"
   },
   {
    "duration": 193,
    "start_time": "2024-06-18T12:58:22.744Z"
   },
   {
    "duration": 7,
    "start_time": "2024-06-18T12:58:55.421Z"
   },
   {
    "duration": 189,
    "start_time": "2024-06-18T12:59:07.381Z"
   },
   {
    "duration": 224,
    "start_time": "2024-06-18T12:59:55.617Z"
   },
   {
    "duration": 11,
    "start_time": "2024-06-18T13:03:02.752Z"
   },
   {
    "duration": 21,
    "start_time": "2024-06-18T13:03:09.910Z"
   },
   {
    "duration": 8,
    "start_time": "2024-06-18T13:03:10.770Z"
   },
   {
    "duration": 18,
    "start_time": "2024-06-18T13:03:12.591Z"
   },
   {
    "duration": 11,
    "start_time": "2024-06-18T13:03:13.953Z"
   },
   {
    "duration": 377,
    "start_time": "2024-06-18T13:03:14.595Z"
   },
   {
    "duration": 8,
    "start_time": "2024-06-18T13:06:03.858Z"
   },
   {
    "duration": 12,
    "start_time": "2024-06-18T13:06:04.499Z"
   },
   {
    "duration": 12,
    "start_time": "2024-06-18T13:06:05.114Z"
   },
   {
    "duration": 189,
    "start_time": "2024-06-18T13:06:05.773Z"
   },
   {
    "duration": 201,
    "start_time": "2024-06-18T13:06:29.853Z"
   },
   {
    "duration": 288,
    "start_time": "2024-06-18T13:06:50.132Z"
   },
   {
    "duration": 255,
    "start_time": "2024-06-18T13:09:27.227Z"
   },
   {
    "duration": 356,
    "start_time": "2024-06-18T13:09:46.157Z"
   },
   {
    "duration": 7,
    "start_time": "2024-06-18T13:10:10.384Z"
   },
   {
    "duration": 252,
    "start_time": "2024-06-18T13:11:08.788Z"
   },
   {
    "duration": 115,
    "start_time": "2024-06-18T13:11:53.777Z"
   },
   {
    "duration": 265,
    "start_time": "2024-06-18T13:11:57.653Z"
   },
   {
    "duration": 105,
    "start_time": "2024-06-18T13:12:03.864Z"
   },
   {
    "duration": 248,
    "start_time": "2024-06-18T13:12:08.976Z"
   },
   {
    "duration": 318,
    "start_time": "2024-06-18T13:12:18.598Z"
   },
   {
    "duration": 6,
    "start_time": "2024-06-18T13:12:39.442Z"
   },
   {
    "duration": 3,
    "start_time": "2024-06-18T13:14:05.159Z"
   },
   {
    "duration": 955,
    "start_time": "2024-06-18T13:14:16.471Z"
   },
   {
    "duration": 6,
    "start_time": "2024-06-18T13:14:31.199Z"
   },
   {
    "duration": 3,
    "start_time": "2024-06-18T13:14:43.023Z"
   },
   {
    "duration": 158,
    "start_time": "2024-06-18T13:14:50.815Z"
   },
   {
    "duration": 67,
    "start_time": "2024-06-18T13:23:17.505Z"
   },
   {
    "duration": 10,
    "start_time": "2024-06-18T13:23:18.007Z"
   },
   {
    "duration": 7,
    "start_time": "2024-06-18T13:24:01.226Z"
   },
   {
    "duration": 2,
    "start_time": "2024-06-18T13:48:06.422Z"
   },
   {
    "duration": 35,
    "start_time": "2024-06-18T13:48:09.396Z"
   },
   {
    "duration": 40,
    "start_time": "2024-06-18T13:48:47.382Z"
   },
   {
    "duration": 45,
    "start_time": "2024-06-18T13:48:59.175Z"
   },
   {
    "duration": 33,
    "start_time": "2024-06-18T13:49:05.227Z"
   },
   {
    "duration": 2,
    "start_time": "2024-06-18T13:49:15.716Z"
   },
   {
    "duration": 5,
    "start_time": "2024-06-18T13:52:47.213Z"
   },
   {
    "duration": 10,
    "start_time": "2024-06-18T13:54:35.861Z"
   },
   {
    "duration": 7,
    "start_time": "2024-06-18T13:54:44.345Z"
   },
   {
    "duration": 6,
    "start_time": "2024-06-18T13:55:11.020Z"
   },
   {
    "duration": 6,
    "start_time": "2024-06-18T13:55:18.770Z"
   },
   {
    "duration": 6,
    "start_time": "2024-06-18T13:55:26.946Z"
   },
   {
    "duration": 6,
    "start_time": "2024-06-18T13:56:48.157Z"
   },
   {
    "duration": 7,
    "start_time": "2024-06-18T13:57:15.217Z"
   },
   {
    "duration": 7,
    "start_time": "2024-06-18T13:57:27.419Z"
   },
   {
    "duration": 9,
    "start_time": "2024-06-18T13:57:38.189Z"
   },
   {
    "duration": 6,
    "start_time": "2024-06-18T14:00:41.819Z"
   },
   {
    "duration": 5,
    "start_time": "2024-06-18T14:01:20.622Z"
   },
   {
    "duration": 5,
    "start_time": "2024-06-18T14:07:06.621Z"
   },
   {
    "duration": 12,
    "start_time": "2024-06-18T14:08:11.006Z"
   },
   {
    "duration": 7,
    "start_time": "2024-06-18T14:08:14.187Z"
   },
   {
    "duration": 12,
    "start_time": "2024-06-18T14:09:13.791Z"
   },
   {
    "duration": 4,
    "start_time": "2024-06-18T14:10:44.950Z"
   },
   {
    "duration": 3,
    "start_time": "2024-06-18T14:11:23.173Z"
   },
   {
    "duration": 4,
    "start_time": "2024-06-18T14:11:41.059Z"
   },
   {
    "duration": 11,
    "start_time": "2024-06-18T14:13:53.990Z"
   },
   {
    "duration": 10,
    "start_time": "2024-06-18T14:15:08.015Z"
   },
   {
    "duration": 101,
    "start_time": "2024-06-18T14:16:30.702Z"
   },
   {
    "duration": 8,
    "start_time": "2024-06-18T14:17:12.054Z"
   },
   {
    "duration": 7,
    "start_time": "2024-06-18T14:18:26.783Z"
   },
   {
    "duration": 77,
    "start_time": "2024-06-18T14:38:31.759Z"
   },
   {
    "duration": 7,
    "start_time": "2024-06-18T14:48:14.937Z"
   },
   {
    "duration": 8,
    "start_time": "2024-06-18T14:49:54.902Z"
   },
   {
    "duration": 7,
    "start_time": "2024-06-18T14:50:28.545Z"
   },
   {
    "duration": 12,
    "start_time": "2024-06-18T14:50:29.385Z"
   },
   {
    "duration": 198,
    "start_time": "2024-06-18T14:50:30.671Z"
   },
   {
    "duration": 6,
    "start_time": "2024-06-18T14:54:03.947Z"
   },
   {
    "duration": 79,
    "start_time": "2024-06-18T14:54:35.787Z"
   },
   {
    "duration": 248,
    "start_time": "2024-06-18T14:57:02.856Z"
   },
   {
    "duration": 98,
    "start_time": "2024-06-18T14:57:31.745Z"
   },
   {
    "duration": 7,
    "start_time": "2024-06-18T14:57:33.303Z"
   },
   {
    "duration": 8,
    "start_time": "2024-06-18T14:57:34.096Z"
   },
   {
    "duration": 5,
    "start_time": "2024-06-18T14:57:37.136Z"
   },
   {
    "duration": 198,
    "start_time": "2024-06-18T14:57:37.671Z"
   },
   {
    "duration": 79,
    "start_time": "2024-06-18T14:57:39.233Z"
   },
   {
    "duration": 5,
    "start_time": "2024-06-18T14:57:39.780Z"
   },
   {
    "duration": 6,
    "start_time": "2024-06-18T14:57:41.294Z"
   },
   {
    "duration": 180,
    "start_time": "2024-06-18T14:57:42.030Z"
   },
   {
    "duration": 6,
    "start_time": "2024-06-18T14:57:43.724Z"
   },
   {
    "duration": 18,
    "start_time": "2024-06-18T14:57:44.325Z"
   },
   {
    "duration": 201,
    "start_time": "2024-06-18T14:57:44.820Z"
   },
   {
    "duration": 87,
    "start_time": "2024-06-18T14:57:45.453Z"
   },
   {
    "duration": 7,
    "start_time": "2024-06-18T14:57:48.204Z"
   },
   {
    "duration": 882,
    "start_time": "2024-06-18T14:59:31.470Z"
   },
   {
    "duration": 9,
    "start_time": "2024-06-18T14:59:44.786Z"
   },
   {
    "duration": 9,
    "start_time": "2024-06-18T14:59:55.006Z"
   },
   {
    "duration": 8,
    "start_time": "2024-06-18T15:00:00.813Z"
   },
   {
    "duration": 40,
    "start_time": "2024-06-18T15:00:21.111Z"
   },
   {
    "duration": 7,
    "start_time": "2024-06-18T15:00:27.953Z"
   },
   {
    "duration": 10,
    "start_time": "2024-06-18T15:00:34.206Z"
   },
   {
    "duration": 81,
    "start_time": "2024-06-18T15:00:40.830Z"
   },
   {
    "duration": 252,
    "start_time": "2024-06-18T15:00:55.702Z"
   },
   {
    "duration": 1361,
    "start_time": "2024-06-18T15:01:07.861Z"
   },
   {
    "duration": 246,
    "start_time": "2024-06-18T15:01:18.792Z"
   },
   {
    "duration": 82,
    "start_time": "2024-06-18T15:05:19.774Z"
   },
   {
    "duration": 86,
    "start_time": "2024-06-18T15:05:28.290Z"
   },
   {
    "duration": 7,
    "start_time": "2024-06-18T15:10:11.121Z"
   },
   {
    "duration": 8,
    "start_time": "2024-06-18T15:10:45.439Z"
   },
   {
    "duration": 256,
    "start_time": "2024-06-18T15:14:33.192Z"
   },
   {
    "duration": 7,
    "start_time": "2024-06-18T15:14:42.209Z"
   },
   {
    "duration": 9,
    "start_time": "2024-06-18T15:18:38.114Z"
   },
   {
    "duration": 7,
    "start_time": "2024-06-18T15:18:59.381Z"
   },
   {
    "duration": 8,
    "start_time": "2024-06-18T15:19:09.812Z"
   },
   {
    "duration": 9,
    "start_time": "2024-06-18T15:33:06.588Z"
   },
   {
    "duration": 14,
    "start_time": "2024-06-18T15:33:23.903Z"
   },
   {
    "duration": 39,
    "start_time": "2024-06-18T15:33:49.685Z"
   },
   {
    "duration": 251,
    "start_time": "2024-06-18T15:35:16.379Z"
   },
   {
    "duration": 8,
    "start_time": "2024-06-18T15:35:30.913Z"
   },
   {
    "duration": 13,
    "start_time": "2024-06-18T15:35:37.781Z"
   },
   {
    "duration": 36,
    "start_time": "2024-06-18T15:35:47.565Z"
   },
   {
    "duration": 5,
    "start_time": "2024-06-18T15:36:20.185Z"
   },
   {
    "duration": 13,
    "start_time": "2024-06-18T15:36:31.750Z"
   },
   {
    "duration": 6,
    "start_time": "2024-06-18T15:36:47.235Z"
   },
   {
    "duration": 9,
    "start_time": "2024-06-18T15:37:12.388Z"
   },
   {
    "duration": 15,
    "start_time": "2024-06-18T15:40:43.693Z"
   },
   {
    "duration": 8,
    "start_time": "2024-06-18T15:44:33.283Z"
   },
   {
    "duration": 11,
    "start_time": "2024-06-18T15:46:47.830Z"
   },
   {
    "duration": 259,
    "start_time": "2024-06-18T15:59:30.892Z"
   },
   {
    "duration": 246,
    "start_time": "2024-06-18T15:59:46.722Z"
   },
   {
    "duration": 201,
    "start_time": "2024-06-18T16:02:32.162Z"
   },
   {
    "duration": 221,
    "start_time": "2024-06-18T16:02:47.632Z"
   },
   {
    "duration": 1076,
    "start_time": "2024-06-18T16:15:09.003Z"
   },
   {
    "duration": 38,
    "start_time": "2024-06-18T16:15:10.081Z"
   },
   {
    "duration": 5,
    "start_time": "2024-06-18T16:15:10.121Z"
   },
   {
    "duration": 42,
    "start_time": "2024-06-18T16:15:10.128Z"
   },
   {
    "duration": 8,
    "start_time": "2024-06-18T16:15:10.172Z"
   },
   {
    "duration": 28,
    "start_time": "2024-06-18T16:15:10.181Z"
   },
   {
    "duration": 4,
    "start_time": "2024-06-18T16:15:10.210Z"
   },
   {
    "duration": 6,
    "start_time": "2024-06-18T16:15:10.215Z"
   },
   {
    "duration": 12,
    "start_time": "2024-06-18T16:15:10.222Z"
   },
   {
    "duration": 11,
    "start_time": "2024-06-18T16:15:10.236Z"
   },
   {
    "duration": 4,
    "start_time": "2024-06-18T16:15:10.248Z"
   },
   {
    "duration": 4,
    "start_time": "2024-06-18T16:15:10.253Z"
   },
   {
    "duration": 6,
    "start_time": "2024-06-18T16:15:10.258Z"
   },
   {
    "duration": 12,
    "start_time": "2024-06-18T16:15:10.265Z"
   },
   {
    "duration": 27,
    "start_time": "2024-06-18T16:15:10.278Z"
   },
   {
    "duration": 23,
    "start_time": "2024-06-18T16:15:10.306Z"
   },
   {
    "duration": 137,
    "start_time": "2024-06-18T16:15:10.331Z"
   },
   {
    "duration": 8,
    "start_time": "2024-06-18T16:15:10.469Z"
   },
   {
    "duration": 12,
    "start_time": "2024-06-18T16:15:10.478Z"
   },
   {
    "duration": 4,
    "start_time": "2024-06-18T16:15:10.491Z"
   },
   {
    "duration": 160,
    "start_time": "2024-06-18T16:15:10.496Z"
   },
   {
    "duration": 95,
    "start_time": "2024-06-18T16:15:10.658Z"
   },
   {
    "duration": 5,
    "start_time": "2024-06-18T16:15:10.755Z"
   },
   {
    "duration": 12,
    "start_time": "2024-06-18T16:15:10.762Z"
   },
   {
    "duration": 194,
    "start_time": "2024-06-18T16:15:10.775Z"
   },
   {
    "duration": 7,
    "start_time": "2024-06-18T16:15:10.971Z"
   },
   {
    "duration": 12,
    "start_time": "2024-06-18T16:15:10.980Z"
   },
   {
    "duration": 242,
    "start_time": "2024-06-18T16:15:10.996Z"
   },
   {
    "duration": 86,
    "start_time": "2024-06-18T16:15:11.239Z"
   },
   {
    "duration": 7,
    "start_time": "2024-06-18T16:15:11.326Z"
   },
   {
    "duration": 269,
    "start_time": "2024-06-18T16:15:11.334Z"
   },
   {
    "duration": 9,
    "start_time": "2024-06-18T16:15:11.604Z"
   },
   {
    "duration": 20,
    "start_time": "2024-06-18T16:15:11.620Z"
   },
   {
    "duration": 7,
    "start_time": "2024-06-18T16:15:11.642Z"
   },
   {
    "duration": 14,
    "start_time": "2024-06-18T16:15:11.650Z"
   },
   {
    "duration": 12,
    "start_time": "2024-06-18T16:15:11.665Z"
   },
   {
    "duration": 384,
    "start_time": "2024-06-18T16:15:11.678Z"
   },
   {
    "duration": 7,
    "start_time": "2024-06-18T16:15:12.064Z"
   },
   {
    "duration": 35,
    "start_time": "2024-06-18T16:15:12.072Z"
   },
   {
    "duration": 259,
    "start_time": "2024-06-18T16:15:12.109Z"
   },
   {
    "duration": 7,
    "start_time": "2024-06-18T16:15:12.369Z"
   },
   {
    "duration": 278,
    "start_time": "2024-06-18T16:15:12.377Z"
   },
   {
    "duration": 8,
    "start_time": "2024-06-18T16:15:12.656Z"
   },
   {
    "duration": 2,
    "start_time": "2024-06-18T16:15:12.666Z"
   },
   {
    "duration": 54,
    "start_time": "2024-06-18T16:15:12.669Z"
   },
   {
    "duration": 97,
    "start_time": "2024-06-18T16:15:12.724Z"
   },
   {
    "duration": 0,
    "start_time": "2024-06-18T16:15:12.822Z"
   },
   {
    "duration": 0,
    "start_time": "2024-06-18T16:15:12.824Z"
   },
   {
    "duration": 0,
    "start_time": "2024-06-18T16:15:12.825Z"
   },
   {
    "duration": 0,
    "start_time": "2024-06-18T16:15:12.826Z"
   },
   {
    "duration": 0,
    "start_time": "2024-06-18T16:15:12.827Z"
   },
   {
    "duration": 1,
    "start_time": "2024-06-18T16:15:12.828Z"
   },
   {
    "duration": 0,
    "start_time": "2024-06-18T16:15:12.830Z"
   },
   {
    "duration": 6,
    "start_time": "2024-06-18T16:16:41.557Z"
   },
   {
    "duration": 997,
    "start_time": "2024-06-18T16:16:58.378Z"
   },
   {
    "duration": 37,
    "start_time": "2024-06-18T16:16:59.377Z"
   },
   {
    "duration": 6,
    "start_time": "2024-06-18T16:16:59.416Z"
   },
   {
    "duration": 35,
    "start_time": "2024-06-18T16:16:59.424Z"
   },
   {
    "duration": 9,
    "start_time": "2024-06-18T16:16:59.460Z"
   },
   {
    "duration": 22,
    "start_time": "2024-06-18T16:16:59.470Z"
   },
   {
    "duration": 5,
    "start_time": "2024-06-18T16:16:59.493Z"
   },
   {
    "duration": 6,
    "start_time": "2024-06-18T16:16:59.500Z"
   },
   {
    "duration": 15,
    "start_time": "2024-06-18T16:16:59.508Z"
   },
   {
    "duration": 11,
    "start_time": "2024-06-18T16:16:59.525Z"
   },
   {
    "duration": 4,
    "start_time": "2024-06-18T16:16:59.537Z"
   },
   {
    "duration": 5,
    "start_time": "2024-06-18T16:16:59.542Z"
   },
   {
    "duration": 7,
    "start_time": "2024-06-18T16:16:59.548Z"
   },
   {
    "duration": 7,
    "start_time": "2024-06-18T16:16:59.556Z"
   },
   {
    "duration": 16,
    "start_time": "2024-06-18T16:16:59.564Z"
   },
   {
    "duration": 16,
    "start_time": "2024-06-18T16:16:59.581Z"
   },
   {
    "duration": 131,
    "start_time": "2024-06-18T16:16:59.598Z"
   },
   {
    "duration": 7,
    "start_time": "2024-06-18T16:16:59.730Z"
   },
   {
    "duration": 9,
    "start_time": "2024-06-18T16:16:59.739Z"
   },
   {
    "duration": 5,
    "start_time": "2024-06-18T16:16:59.749Z"
   },
   {
    "duration": 155,
    "start_time": "2024-06-18T16:16:59.756Z"
   },
   {
    "duration": 88,
    "start_time": "2024-06-18T16:16:59.912Z"
   },
   {
    "duration": 6,
    "start_time": "2024-06-18T16:17:00.002Z"
   },
   {
    "duration": 18,
    "start_time": "2024-06-18T16:17:00.020Z"
   },
   {
    "duration": 251,
    "start_time": "2024-06-18T16:17:00.040Z"
   },
   {
    "duration": 8,
    "start_time": "2024-06-18T16:17:00.292Z"
   },
   {
    "duration": 42,
    "start_time": "2024-06-18T16:17:00.302Z"
   },
   {
    "duration": 226,
    "start_time": "2024-06-18T16:17:00.348Z"
   },
   {
    "duration": 85,
    "start_time": "2024-06-18T16:17:00.576Z"
   },
   {
    "duration": 7,
    "start_time": "2024-06-18T16:17:00.663Z"
   },
   {
    "duration": 310,
    "start_time": "2024-06-18T16:17:00.672Z"
   },
   {
    "duration": 10,
    "start_time": "2024-06-18T16:17:00.984Z"
   },
   {
    "duration": 44,
    "start_time": "2024-06-18T16:17:00.995Z"
   },
   {
    "duration": 77,
    "start_time": "2024-06-18T16:17:01.041Z"
   },
   {
    "duration": 57,
    "start_time": "2024-06-18T16:17:01.120Z"
   },
   {
    "duration": 33,
    "start_time": "2024-06-18T16:17:01.178Z"
   },
   {
    "duration": 406,
    "start_time": "2024-06-18T16:17:01.212Z"
   },
   {
    "duration": 7,
    "start_time": "2024-06-18T16:17:01.619Z"
   },
   {
    "duration": 110,
    "start_time": "2024-06-18T16:17:01.627Z"
   },
   {
    "duration": 339,
    "start_time": "2024-06-18T16:17:01.738Z"
   },
   {
    "duration": 7,
    "start_time": "2024-06-18T16:17:02.079Z"
   },
   {
    "duration": 797,
    "start_time": "2024-06-18T16:17:02.088Z"
   },
   {
    "duration": 6,
    "start_time": "2024-06-18T16:17:02.886Z"
   },
   {
    "duration": 9,
    "start_time": "2024-06-18T16:17:02.893Z"
   },
   {
    "duration": 72,
    "start_time": "2024-06-18T16:17:02.903Z"
   },
   {
    "duration": 5,
    "start_time": "2024-06-18T16:17:02.976Z"
   },
   {
    "duration": 28,
    "start_time": "2024-06-18T16:17:02.982Z"
   },
   {
    "duration": 16,
    "start_time": "2024-06-18T16:17:03.011Z"
   },
   {
    "duration": 15,
    "start_time": "2024-06-18T16:17:03.028Z"
   },
   {
    "duration": 7,
    "start_time": "2024-06-18T16:17:03.044Z"
   },
   {
    "duration": 99,
    "start_time": "2024-06-18T16:17:03.052Z"
   },
   {
    "duration": 0,
    "start_time": "2024-06-18T16:17:03.152Z"
   },
   {
    "duration": 0,
    "start_time": "2024-06-18T16:17:03.153Z"
   },
   {
    "duration": 26,
    "start_time": "2024-06-18T16:20:58.877Z"
   },
   {
    "duration": 9,
    "start_time": "2024-06-18T16:21:16.839Z"
   },
   {
    "duration": 24,
    "start_time": "2024-06-18T16:21:35.093Z"
   },
   {
    "duration": 10,
    "start_time": "2024-06-18T16:22:43.253Z"
   },
   {
    "duration": 7,
    "start_time": "2024-06-18T16:23:29.886Z"
   },
   {
    "duration": 8,
    "start_time": "2024-06-18T16:23:57.299Z"
   },
   {
    "duration": 5,
    "start_time": "2024-06-18T16:24:21.158Z"
   },
   {
    "duration": 5,
    "start_time": "2024-06-18T16:25:11.865Z"
   },
   {
    "duration": 6,
    "start_time": "2024-06-18T16:25:45.543Z"
   },
   {
    "duration": 1066,
    "start_time": "2024-06-18T16:26:00.720Z"
   },
   {
    "duration": 38,
    "start_time": "2024-06-18T16:26:01.787Z"
   },
   {
    "duration": 331,
    "start_time": "2024-06-18T16:26:01.827Z"
   },
   {
    "duration": 112,
    "start_time": "2024-06-18T16:26:02.160Z"
   },
   {
    "duration": 10,
    "start_time": "2024-06-18T16:26:02.273Z"
   },
   {
    "duration": 54,
    "start_time": "2024-06-18T16:26:02.285Z"
   },
   {
    "duration": 4,
    "start_time": "2024-06-18T16:26:02.341Z"
   },
   {
    "duration": 58,
    "start_time": "2024-06-18T16:26:02.347Z"
   },
   {
    "duration": 75,
    "start_time": "2024-06-18T16:26:02.406Z"
   },
   {
    "duration": 30,
    "start_time": "2024-06-18T16:26:02.484Z"
   },
   {
    "duration": 29,
    "start_time": "2024-06-18T16:26:02.516Z"
   },
   {
    "duration": 14,
    "start_time": "2024-06-18T16:26:02.546Z"
   },
   {
    "duration": 56,
    "start_time": "2024-06-18T16:26:02.561Z"
   },
   {
    "duration": 20,
    "start_time": "2024-06-18T16:26:02.618Z"
   },
   {
    "duration": 37,
    "start_time": "2024-06-18T16:26:02.640Z"
   },
   {
    "duration": 29,
    "start_time": "2024-06-18T16:26:02.678Z"
   },
   {
    "duration": 137,
    "start_time": "2024-06-18T16:26:02.709Z"
   },
   {
    "duration": 7,
    "start_time": "2024-06-18T16:26:02.847Z"
   },
   {
    "duration": 40,
    "start_time": "2024-06-18T16:26:02.855Z"
   },
   {
    "duration": 12,
    "start_time": "2024-06-18T16:26:02.897Z"
   },
   {
    "duration": 142,
    "start_time": "2024-06-18T16:26:02.910Z"
   },
   {
    "duration": 87,
    "start_time": "2024-06-18T16:26:03.054Z"
   },
   {
    "duration": 5,
    "start_time": "2024-06-18T16:26:03.143Z"
   },
   {
    "duration": 14,
    "start_time": "2024-06-18T16:26:03.149Z"
   },
   {
    "duration": 178,
    "start_time": "2024-06-18T16:26:03.165Z"
   },
   {
    "duration": 7,
    "start_time": "2024-06-18T16:26:03.345Z"
   },
   {
    "duration": 36,
    "start_time": "2024-06-18T16:26:03.353Z"
   },
   {
    "duration": 195,
    "start_time": "2024-06-18T16:26:03.393Z"
   },
   {
    "duration": 84,
    "start_time": "2024-06-18T16:26:03.590Z"
   },
   {
    "duration": 8,
    "start_time": "2024-06-18T16:26:03.676Z"
   },
   {
    "duration": 266,
    "start_time": "2024-06-18T16:26:03.685Z"
   },
   {
    "duration": 10,
    "start_time": "2024-06-18T16:26:03.953Z"
   },
   {
    "duration": 22,
    "start_time": "2024-06-18T16:26:03.965Z"
   },
   {
    "duration": 11,
    "start_time": "2024-06-18T16:26:03.988Z"
   },
   {
    "duration": 29,
    "start_time": "2024-06-18T16:26:04.001Z"
   },
   {
    "duration": 12,
    "start_time": "2024-06-18T16:26:04.032Z"
   },
   {
    "duration": 364,
    "start_time": "2024-06-18T16:26:04.045Z"
   },
   {
    "duration": 12,
    "start_time": "2024-06-18T16:26:04.411Z"
   },
   {
    "duration": 7,
    "start_time": "2024-06-18T16:26:04.425Z"
   },
   {
    "duration": 289,
    "start_time": "2024-06-18T16:26:04.433Z"
   },
   {
    "duration": 8,
    "start_time": "2024-06-18T16:26:04.723Z"
   },
   {
    "duration": 269,
    "start_time": "2024-06-18T16:26:04.732Z"
   },
   {
    "duration": 8,
    "start_time": "2024-06-18T16:26:05.002Z"
   },
   {
    "duration": 12,
    "start_time": "2024-06-18T16:26:05.012Z"
   },
   {
    "duration": 39,
    "start_time": "2024-06-18T16:26:05.026Z"
   },
   {
    "duration": 6,
    "start_time": "2024-06-18T16:26:05.067Z"
   },
   {
    "duration": 18,
    "start_time": "2024-06-18T16:26:05.075Z"
   },
   {
    "duration": 14,
    "start_time": "2024-06-18T16:26:05.095Z"
   },
   {
    "duration": 11,
    "start_time": "2024-06-18T16:26:05.111Z"
   },
   {
    "duration": 7,
    "start_time": "2024-06-18T16:26:05.123Z"
   },
   {
    "duration": 43,
    "start_time": "2024-06-18T16:26:05.131Z"
   },
   {
    "duration": 276,
    "start_time": "2024-06-18T16:26:05.175Z"
   },
   {
    "duration": 215,
    "start_time": "2024-06-18T16:26:05.452Z"
   },
   {
    "duration": 1169,
    "start_time": "2024-06-18T16:40:08.701Z"
   },
   {
    "duration": 39,
    "start_time": "2024-06-18T16:40:09.871Z"
   },
   {
    "duration": 7,
    "start_time": "2024-06-18T16:40:09.912Z"
   },
   {
    "duration": 38,
    "start_time": "2024-06-18T16:40:09.922Z"
   },
   {
    "duration": 10,
    "start_time": "2024-06-18T16:40:09.962Z"
   },
   {
    "duration": 23,
    "start_time": "2024-06-18T16:40:09.974Z"
   },
   {
    "duration": 5,
    "start_time": "2024-06-18T16:40:09.999Z"
   },
   {
    "duration": 23,
    "start_time": "2024-06-18T16:40:10.006Z"
   },
   {
    "duration": 23,
    "start_time": "2024-06-18T16:40:10.030Z"
   },
   {
    "duration": 37,
    "start_time": "2024-06-18T16:40:10.056Z"
   },
   {
    "duration": 24,
    "start_time": "2024-06-18T16:40:10.094Z"
   },
   {
    "duration": 6,
    "start_time": "2024-06-18T16:40:10.120Z"
   },
   {
    "duration": 6,
    "start_time": "2024-06-18T16:40:10.128Z"
   },
   {
    "duration": 17,
    "start_time": "2024-06-18T16:40:10.136Z"
   },
   {
    "duration": 14,
    "start_time": "2024-06-18T16:40:10.154Z"
   },
   {
    "duration": 11,
    "start_time": "2024-06-18T16:40:10.170Z"
   },
   {
    "duration": 163,
    "start_time": "2024-06-18T16:40:10.183Z"
   },
   {
    "duration": 9,
    "start_time": "2024-06-18T16:40:10.347Z"
   },
   {
    "duration": 23,
    "start_time": "2024-06-18T16:40:10.357Z"
   },
   {
    "duration": 5,
    "start_time": "2024-06-18T16:40:10.382Z"
   },
   {
    "duration": 191,
    "start_time": "2024-06-18T16:40:10.388Z"
   },
   {
    "duration": 109,
    "start_time": "2024-06-18T16:40:10.580Z"
   },
   {
    "duration": 5,
    "start_time": "2024-06-18T16:40:10.691Z"
   },
   {
    "duration": 35,
    "start_time": "2024-06-18T16:40:10.698Z"
   },
   {
    "duration": 208,
    "start_time": "2024-06-18T16:40:10.734Z"
   },
   {
    "duration": 8,
    "start_time": "2024-06-18T16:40:10.944Z"
   },
   {
    "duration": 39,
    "start_time": "2024-06-18T16:40:10.954Z"
   },
   {
    "duration": 244,
    "start_time": "2024-06-18T16:40:10.996Z"
   },
   {
    "duration": 110,
    "start_time": "2024-06-18T16:40:11.242Z"
   },
   {
    "duration": 9,
    "start_time": "2024-06-18T16:40:11.353Z"
   },
   {
    "duration": 342,
    "start_time": "2024-06-18T16:40:11.363Z"
   },
   {
    "duration": 11,
    "start_time": "2024-06-18T16:40:11.707Z"
   },
   {
    "duration": 24,
    "start_time": "2024-06-18T16:40:11.729Z"
   },
   {
    "duration": 9,
    "start_time": "2024-06-18T16:40:11.755Z"
   },
   {
    "duration": 18,
    "start_time": "2024-06-18T16:40:11.765Z"
   },
   {
    "duration": 44,
    "start_time": "2024-06-18T16:40:11.785Z"
   },
   {
    "duration": 454,
    "start_time": "2024-06-18T16:40:11.830Z"
   },
   {
    "duration": 10,
    "start_time": "2024-06-18T16:40:12.286Z"
   },
   {
    "duration": 7,
    "start_time": "2024-06-18T16:40:12.299Z"
   },
   {
    "duration": 332,
    "start_time": "2024-06-18T16:40:12.328Z"
   },
   {
    "duration": 8,
    "start_time": "2024-06-18T16:40:12.662Z"
   },
   {
    "duration": 335,
    "start_time": "2024-06-18T16:40:12.671Z"
   },
   {
    "duration": 8,
    "start_time": "2024-06-18T16:40:13.007Z"
   },
   {
    "duration": 7,
    "start_time": "2024-06-18T16:40:13.028Z"
   },
   {
    "duration": 61,
    "start_time": "2024-06-18T16:40:13.036Z"
   },
   {
    "duration": 5,
    "start_time": "2024-06-18T16:40:13.098Z"
   },
   {
    "duration": 40,
    "start_time": "2024-06-18T16:40:13.105Z"
   },
   {
    "duration": 57,
    "start_time": "2024-06-18T16:40:13.146Z"
   },
   {
    "duration": 28,
    "start_time": "2024-06-18T16:40:13.204Z"
   },
   {
    "duration": 24,
    "start_time": "2024-06-18T16:40:13.233Z"
   },
   {
    "duration": 17,
    "start_time": "2024-06-18T16:40:13.259Z"
   },
   {
    "duration": 320,
    "start_time": "2024-06-18T16:40:13.278Z"
   },
   {
    "duration": 281,
    "start_time": "2024-06-18T16:40:13.600Z"
   },
   {
    "duration": 6,
    "start_time": "2024-06-18T17:55:47.097Z"
   },
   {
    "duration": 6,
    "start_time": "2024-06-18T17:56:37.219Z"
   },
   {
    "duration": 54,
    "start_time": "2024-06-18T18:54:50.016Z"
   },
   {
    "duration": 1481,
    "start_time": "2024-06-18T18:55:01.053Z"
   },
   {
    "duration": 90,
    "start_time": "2024-06-18T18:55:08.172Z"
   },
   {
    "duration": 7,
    "start_time": "2024-06-18T18:55:17.733Z"
   },
   {
    "duration": 102,
    "start_time": "2024-06-18T18:55:22.607Z"
   },
   {
    "duration": 7,
    "start_time": "2024-06-18T18:55:41.134Z"
   },
   {
    "duration": 81,
    "start_time": "2024-06-18T18:58:07.134Z"
   },
   {
    "duration": 2,
    "start_time": "2024-06-18T18:59:44.328Z"
   },
   {
    "duration": 67,
    "start_time": "2024-06-18T19:01:27.215Z"
   },
   {
    "duration": 6,
    "start_time": "2024-06-18T19:01:35.968Z"
   },
   {
    "duration": 218,
    "start_time": "2024-06-18T19:01:37.164Z"
   },
   {
    "duration": 171,
    "start_time": "2024-06-18T19:01:46.421Z"
   },
   {
    "duration": 240,
    "start_time": "2024-06-18T19:07:41.413Z"
   },
   {
    "duration": 305,
    "start_time": "2024-06-18T19:08:13.972Z"
   },
   {
    "duration": 330,
    "start_time": "2024-06-18T19:09:24.669Z"
   },
   {
    "duration": 17,
    "start_time": "2024-06-18T19:10:19.299Z"
   },
   {
    "duration": 1350,
    "start_time": "2024-06-18T19:10:29.777Z"
   },
   {
    "duration": 43,
    "start_time": "2024-06-18T19:10:31.129Z"
   },
   {
    "duration": 123,
    "start_time": "2024-06-18T19:10:31.174Z"
   },
   {
    "duration": 101,
    "start_time": "2024-06-18T19:10:31.299Z"
   },
   {
    "duration": 10,
    "start_time": "2024-06-18T19:10:31.401Z"
   },
   {
    "duration": 79,
    "start_time": "2024-06-18T19:10:31.413Z"
   },
   {
    "duration": 6,
    "start_time": "2024-06-18T19:10:31.493Z"
   },
   {
    "duration": 27,
    "start_time": "2024-06-18T19:10:31.500Z"
   },
   {
    "duration": 61,
    "start_time": "2024-06-18T19:10:31.529Z"
   },
   {
    "duration": 33,
    "start_time": "2024-06-18T19:10:31.593Z"
   },
   {
    "duration": 27,
    "start_time": "2024-06-18T19:10:31.628Z"
   },
   {
    "duration": 76,
    "start_time": "2024-06-18T19:10:31.657Z"
   },
   {
    "duration": 28,
    "start_time": "2024-06-18T19:10:31.735Z"
   },
   {
    "duration": 27,
    "start_time": "2024-06-18T19:10:31.765Z"
   },
   {
    "duration": 13,
    "start_time": "2024-06-18T19:10:31.794Z"
   },
   {
    "duration": 170,
    "start_time": "2024-06-18T19:10:31.809Z"
   },
   {
    "duration": 11,
    "start_time": "2024-06-18T19:10:31.981Z"
   },
   {
    "duration": 93,
    "start_time": "2024-06-18T19:10:31.994Z"
   },
   {
    "duration": 6,
    "start_time": "2024-06-18T19:10:32.089Z"
   },
   {
    "duration": 181,
    "start_time": "2024-06-18T19:10:32.097Z"
   },
   {
    "duration": 144,
    "start_time": "2024-06-18T19:10:32.280Z"
   },
   {
    "duration": 7,
    "start_time": "2024-06-18T19:10:32.426Z"
   },
   {
    "duration": 32,
    "start_time": "2024-06-18T19:10:32.435Z"
   },
   {
    "duration": 272,
    "start_time": "2024-06-18T19:10:32.468Z"
   },
   {
    "duration": 23,
    "start_time": "2024-06-18T19:10:32.742Z"
   },
   {
    "duration": 28,
    "start_time": "2024-06-18T19:10:32.768Z"
   },
   {
    "duration": 345,
    "start_time": "2024-06-18T19:10:32.799Z"
   },
   {
    "duration": 104,
    "start_time": "2024-06-18T19:10:33.148Z"
   },
   {
    "duration": 9,
    "start_time": "2024-06-18T19:10:33.260Z"
   },
   {
    "duration": 344,
    "start_time": "2024-06-18T19:10:33.270Z"
   },
   {
    "duration": 12,
    "start_time": "2024-06-18T19:10:33.616Z"
   },
   {
    "duration": 42,
    "start_time": "2024-06-18T19:10:33.629Z"
   },
   {
    "duration": 10,
    "start_time": "2024-06-18T19:10:33.672Z"
   },
   {
    "duration": 92,
    "start_time": "2024-06-18T19:10:33.684Z"
   },
   {
    "duration": 17,
    "start_time": "2024-06-18T19:10:33.778Z"
   },
   {
    "duration": 503,
    "start_time": "2024-06-18T19:10:33.797Z"
   },
   {
    "duration": 10,
    "start_time": "2024-06-18T19:10:34.302Z"
   },
   {
    "duration": 8,
    "start_time": "2024-06-18T19:10:34.313Z"
   },
   {
    "duration": 386,
    "start_time": "2024-06-18T19:10:34.323Z"
   },
   {
    "duration": 11,
    "start_time": "2024-06-18T19:10:34.712Z"
   },
   {
    "duration": 352,
    "start_time": "2024-06-18T19:10:34.725Z"
   },
   {
    "duration": 12,
    "start_time": "2024-06-18T19:10:35.079Z"
   },
   {
    "duration": 5,
    "start_time": "2024-06-18T19:10:35.093Z"
   },
   {
    "duration": 77,
    "start_time": "2024-06-18T19:10:35.101Z"
   },
   {
    "duration": 7,
    "start_time": "2024-06-18T19:10:35.179Z"
   },
   {
    "duration": 13,
    "start_time": "2024-06-18T19:10:35.187Z"
   },
   {
    "duration": 12,
    "start_time": "2024-06-18T19:10:35.202Z"
   },
   {
    "duration": 13,
    "start_time": "2024-06-18T19:10:35.216Z"
   },
   {
    "duration": 34,
    "start_time": "2024-06-18T19:10:35.231Z"
   },
   {
    "duration": 17,
    "start_time": "2024-06-18T19:10:35.267Z"
   },
   {
    "duration": 356,
    "start_time": "2024-06-18T19:10:35.285Z"
   },
   {
    "duration": 321,
    "start_time": "2024-06-18T19:10:35.643Z"
   },
   {
    "duration": 356,
    "start_time": "2024-06-18T19:11:12.209Z"
   },
   {
    "duration": 504,
    "start_time": "2024-06-18T19:12:07.362Z"
   },
   {
    "duration": 104,
    "start_time": "2024-06-18T19:13:01.302Z"
   },
   {
    "duration": 10,
    "start_time": "2024-06-18T19:13:27.534Z"
   },
   {
    "duration": 5,
    "start_time": "2024-06-18T19:14:12.450Z"
   },
   {
    "duration": 6,
    "start_time": "2024-06-18T19:16:04.290Z"
   },
   {
    "duration": 65,
    "start_time": "2024-06-18T19:17:47.533Z"
   },
   {
    "duration": 8,
    "start_time": "2024-06-18T19:18:25.577Z"
   },
   {
    "duration": 1414,
    "start_time": "2024-06-18T19:20:54.288Z"
   },
   {
    "duration": 44,
    "start_time": "2024-06-18T19:20:55.704Z"
   },
   {
    "duration": 9,
    "start_time": "2024-06-18T19:20:55.750Z"
   },
   {
    "duration": 71,
    "start_time": "2024-06-18T19:20:55.761Z"
   },
   {
    "duration": 15,
    "start_time": "2024-06-18T19:20:55.839Z"
   },
   {
    "duration": 35,
    "start_time": "2024-06-18T19:20:55.856Z"
   },
   {
    "duration": 6,
    "start_time": "2024-06-18T19:20:55.893Z"
   },
   {
    "duration": 19,
    "start_time": "2024-06-18T19:20:55.902Z"
   },
   {
    "duration": 9,
    "start_time": "2024-06-18T19:20:55.922Z"
   },
   {
    "duration": 26,
    "start_time": "2024-06-18T19:20:55.933Z"
   },
   {
    "duration": 7,
    "start_time": "2024-06-18T19:20:55.961Z"
   },
   {
    "duration": 72,
    "start_time": "2024-06-18T19:20:55.970Z"
   },
   {
    "duration": 8,
    "start_time": "2024-06-18T19:20:56.045Z"
   },
   {
    "duration": 21,
    "start_time": "2024-06-18T19:20:56.057Z"
   },
   {
    "duration": 13,
    "start_time": "2024-06-18T19:20:56.079Z"
   },
   {
    "duration": 180,
    "start_time": "2024-06-18T19:20:56.094Z"
   },
   {
    "duration": 10,
    "start_time": "2024-06-18T19:20:56.276Z"
   },
   {
    "duration": 26,
    "start_time": "2024-06-18T19:20:56.287Z"
   },
   {
    "duration": 6,
    "start_time": "2024-06-18T19:20:56.315Z"
   },
   {
    "duration": 190,
    "start_time": "2024-06-18T19:20:56.322Z"
   },
   {
    "duration": 119,
    "start_time": "2024-06-18T19:20:56.514Z"
   },
   {
    "duration": 6,
    "start_time": "2024-06-18T19:20:56.635Z"
   },
   {
    "duration": 27,
    "start_time": "2024-06-18T19:20:56.642Z"
   },
   {
    "duration": 238,
    "start_time": "2024-06-18T19:20:56.671Z"
   },
   {
    "duration": 10,
    "start_time": "2024-06-18T19:20:56.911Z"
   },
   {
    "duration": 23,
    "start_time": "2024-06-18T19:20:56.923Z"
   },
   {
    "duration": 364,
    "start_time": "2024-06-18T19:20:56.948Z"
   },
   {
    "duration": 127,
    "start_time": "2024-06-18T19:20:57.315Z"
   },
   {
    "duration": 33,
    "start_time": "2024-06-18T19:20:57.443Z"
   },
   {
    "duration": 370,
    "start_time": "2024-06-18T19:20:57.478Z"
   },
   {
    "duration": 27,
    "start_time": "2024-06-18T19:20:57.849Z"
   },
   {
    "duration": 29,
    "start_time": "2024-06-18T19:20:57.878Z"
   },
   {
    "duration": 11,
    "start_time": "2024-06-18T19:20:57.908Z"
   },
   {
    "duration": 44,
    "start_time": "2024-06-18T19:20:57.921Z"
   },
   {
    "duration": 18,
    "start_time": "2024-06-18T19:20:57.966Z"
   },
   {
    "duration": 564,
    "start_time": "2024-06-18T19:20:57.986Z"
   },
   {
    "duration": 23,
    "start_time": "2024-06-18T19:20:58.551Z"
   },
   {
    "duration": 8,
    "start_time": "2024-06-18T19:20:58.576Z"
   },
   {
    "duration": 371,
    "start_time": "2024-06-18T19:20:58.585Z"
   },
   {
    "duration": 17,
    "start_time": "2024-06-18T19:20:58.958Z"
   },
   {
    "duration": 375,
    "start_time": "2024-06-18T19:20:58.981Z"
   },
   {
    "duration": 20,
    "start_time": "2024-06-18T19:20:59.357Z"
   },
   {
    "duration": 12,
    "start_time": "2024-06-18T19:20:59.379Z"
   },
   {
    "duration": 80,
    "start_time": "2024-06-18T19:20:59.393Z"
   },
   {
    "duration": 10,
    "start_time": "2024-06-18T19:20:59.481Z"
   },
   {
    "duration": 40,
    "start_time": "2024-06-18T19:20:59.493Z"
   },
   {
    "duration": 38,
    "start_time": "2024-06-18T19:20:59.535Z"
   },
   {
    "duration": 8,
    "start_time": "2024-06-18T19:20:59.574Z"
   },
   {
    "duration": 5,
    "start_time": "2024-06-18T19:20:59.584Z"
   },
   {
    "duration": 29,
    "start_time": "2024-06-18T19:20:59.590Z"
   },
   {
    "duration": 320,
    "start_time": "2024-06-18T19:20:59.621Z"
   },
   {
    "duration": 289,
    "start_time": "2024-06-18T19:20:59.943Z"
   },
   {
    "duration": 1378,
    "start_time": "2024-06-19T07:04:26.660Z"
   },
   {
    "duration": 100,
    "start_time": "2024-06-19T07:04:28.040Z"
   },
   {
    "duration": 14,
    "start_time": "2024-06-19T07:04:28.142Z"
   },
   {
    "duration": 104,
    "start_time": "2024-06-19T07:04:28.159Z"
   },
   {
    "duration": 9,
    "start_time": "2024-06-19T07:04:28.264Z"
   },
   {
    "duration": 67,
    "start_time": "2024-06-19T07:04:28.275Z"
   },
   {
    "duration": 13,
    "start_time": "2024-06-19T07:04:28.343Z"
   },
   {
    "duration": 17,
    "start_time": "2024-06-19T07:04:28.358Z"
   },
   {
    "duration": 9,
    "start_time": "2024-06-19T07:04:28.376Z"
   },
   {
    "duration": 14,
    "start_time": "2024-06-19T07:04:28.388Z"
   },
   {
    "duration": 4,
    "start_time": "2024-06-19T07:04:28.404Z"
   },
   {
    "duration": 12,
    "start_time": "2024-06-19T07:04:28.409Z"
   },
   {
    "duration": 7,
    "start_time": "2024-06-19T07:04:28.422Z"
   },
   {
    "duration": 30,
    "start_time": "2024-06-19T07:04:28.431Z"
   },
   {
    "duration": 16,
    "start_time": "2024-06-19T07:04:28.463Z"
   },
   {
    "duration": 183,
    "start_time": "2024-06-19T07:04:28.481Z"
   },
   {
    "duration": 9,
    "start_time": "2024-06-19T07:04:28.665Z"
   },
   {
    "duration": 26,
    "start_time": "2024-06-19T07:04:28.676Z"
   },
   {
    "duration": 18,
    "start_time": "2024-06-19T07:04:28.704Z"
   },
   {
    "duration": 174,
    "start_time": "2024-06-19T07:04:28.724Z"
   },
   {
    "duration": 111,
    "start_time": "2024-06-19T07:04:28.900Z"
   },
   {
    "duration": 5,
    "start_time": "2024-06-19T07:04:29.013Z"
   },
   {
    "duration": 19,
    "start_time": "2024-06-19T07:04:29.020Z"
   },
   {
    "duration": 234,
    "start_time": "2024-06-19T07:04:29.041Z"
   },
   {
    "duration": 9,
    "start_time": "2024-06-19T07:04:29.277Z"
   },
   {
    "duration": 24,
    "start_time": "2024-06-19T07:04:29.288Z"
   },
   {
    "duration": 288,
    "start_time": "2024-06-19T07:04:29.314Z"
   },
   {
    "duration": 110,
    "start_time": "2024-06-19T07:04:29.605Z"
   },
   {
    "duration": 9,
    "start_time": "2024-06-19T07:04:29.717Z"
   },
   {
    "duration": 415,
    "start_time": "2024-06-19T07:04:29.727Z"
   },
   {
    "duration": 21,
    "start_time": "2024-06-19T07:04:30.146Z"
   },
   {
    "duration": 157,
    "start_time": "2024-06-19T07:04:30.168Z"
   },
   {
    "duration": 20,
    "start_time": "2024-06-19T07:04:30.327Z"
   },
   {
    "duration": 62,
    "start_time": "2024-06-19T07:04:30.348Z"
   },
   {
    "duration": 57,
    "start_time": "2024-06-19T07:04:30.412Z"
   },
   {
    "duration": 517,
    "start_time": "2024-06-19T07:04:30.471Z"
   },
   {
    "duration": 10,
    "start_time": "2024-06-19T07:04:30.989Z"
   },
   {
    "duration": 57,
    "start_time": "2024-06-19T07:04:31.001Z"
   },
   {
    "duration": 442,
    "start_time": "2024-06-19T07:04:31.062Z"
   },
   {
    "duration": 8,
    "start_time": "2024-06-19T07:04:31.506Z"
   },
   {
    "duration": 481,
    "start_time": "2024-06-19T07:04:31.516Z"
   },
   {
    "duration": 9,
    "start_time": "2024-06-19T07:04:32.000Z"
   },
   {
    "duration": 270,
    "start_time": "2024-06-19T07:04:32.011Z"
   },
   {
    "duration": 231,
    "start_time": "2024-06-19T07:04:32.282Z"
   },
   {
    "duration": 10,
    "start_time": "2024-06-19T07:04:32.515Z"
   },
   {
    "duration": 8,
    "start_time": "2024-06-19T07:04:32.528Z"
   },
   {
    "duration": 17,
    "start_time": "2024-06-19T07:04:32.538Z"
   },
   {
    "duration": 8,
    "start_time": "2024-06-19T07:04:32.562Z"
   },
   {
    "duration": 5,
    "start_time": "2024-06-19T07:04:32.572Z"
   },
   {
    "duration": 11,
    "start_time": "2024-06-19T07:04:32.579Z"
   },
   {
    "duration": 383,
    "start_time": "2024-06-19T07:04:32.591Z"
   },
   {
    "duration": 280,
    "start_time": "2024-06-19T07:04:32.976Z"
   },
   {
    "duration": 1346,
    "start_time": "2025-02-12T17:29:20.738Z"
   },
   {
    "duration": 42,
    "start_time": "2025-02-12T17:29:22.086Z"
   },
   {
    "duration": 7,
    "start_time": "2025-02-12T17:29:22.130Z"
   },
   {
    "duration": 134,
    "start_time": "2025-02-12T17:29:22.139Z"
   },
   {
    "duration": 9,
    "start_time": "2025-02-12T17:29:22.275Z"
   },
   {
    "duration": 34,
    "start_time": "2025-02-12T17:29:22.285Z"
   },
   {
    "duration": 5,
    "start_time": "2025-02-12T17:29:22.320Z"
   },
   {
    "duration": 12,
    "start_time": "2025-02-12T17:29:22.327Z"
   },
   {
    "duration": 6,
    "start_time": "2025-02-12T17:29:22.340Z"
   },
   {
    "duration": 13,
    "start_time": "2025-02-12T17:29:22.349Z"
   },
   {
    "duration": 6,
    "start_time": "2025-02-12T17:29:22.364Z"
   },
   {
    "duration": 8,
    "start_time": "2025-02-12T17:29:22.371Z"
   },
   {
    "duration": 28,
    "start_time": "2025-02-12T17:29:22.381Z"
   },
   {
    "duration": 60,
    "start_time": "2025-02-12T17:29:22.411Z"
   },
   {
    "duration": 52,
    "start_time": "2025-02-12T17:29:22.474Z"
   },
   {
    "duration": 318,
    "start_time": "2025-02-12T17:29:22.528Z"
   },
   {
    "duration": 9,
    "start_time": "2025-02-12T17:29:22.847Z"
   },
   {
    "duration": 18,
    "start_time": "2025-02-12T17:29:22.857Z"
   },
   {
    "duration": 5,
    "start_time": "2025-02-12T17:29:22.876Z"
   },
   {
    "duration": 171,
    "start_time": "2025-02-12T17:29:22.883Z"
   },
   {
    "duration": 103,
    "start_time": "2025-02-12T17:29:23.055Z"
   },
   {
    "duration": 36,
    "start_time": "2025-02-12T17:29:23.160Z"
   },
   {
    "duration": 17,
    "start_time": "2025-02-12T17:29:23.197Z"
   },
   {
    "duration": 195,
    "start_time": "2025-02-12T17:29:23.215Z"
   },
   {
    "duration": 8,
    "start_time": "2025-02-12T17:29:23.412Z"
   },
   {
    "duration": 28,
    "start_time": "2025-02-12T17:29:23.421Z"
   },
   {
    "duration": 235,
    "start_time": "2025-02-12T17:29:23.450Z"
   },
   {
    "duration": 98,
    "start_time": "2025-02-12T17:29:23.688Z"
   },
   {
    "duration": 8,
    "start_time": "2025-02-12T17:29:23.788Z"
   },
   {
    "duration": 308,
    "start_time": "2025-02-12T17:29:23.797Z"
   },
   {
    "duration": 10,
    "start_time": "2025-02-12T17:29:24.106Z"
   },
   {
    "duration": 138,
    "start_time": "2025-02-12T17:29:24.117Z"
   },
   {
    "duration": 8,
    "start_time": "2025-02-12T17:29:24.257Z"
   },
   {
    "duration": 16,
    "start_time": "2025-02-12T17:29:24.266Z"
   },
   {
    "duration": 13,
    "start_time": "2025-02-12T17:29:24.283Z"
   },
   {
    "duration": 458,
    "start_time": "2025-02-12T17:29:24.297Z"
   },
   {
    "duration": 8,
    "start_time": "2025-02-12T17:29:24.757Z"
   },
   {
    "duration": 8,
    "start_time": "2025-02-12T17:29:24.766Z"
   },
   {
    "duration": 322,
    "start_time": "2025-02-12T17:29:24.775Z"
   },
   {
    "duration": 7,
    "start_time": "2025-02-12T17:29:25.099Z"
   },
   {
    "duration": 391,
    "start_time": "2025-02-12T17:29:25.108Z"
   },
   {
    "duration": 9,
    "start_time": "2025-02-12T17:29:25.500Z"
   },
   {
    "duration": 3,
    "start_time": "2025-02-12T17:29:25.510Z"
   },
   {
    "duration": 58,
    "start_time": "2025-02-12T17:29:25.515Z"
   },
   {
    "duration": 5,
    "start_time": "2025-02-12T17:29:25.574Z"
   },
   {
    "duration": 11,
    "start_time": "2025-02-12T17:29:25.581Z"
   },
   {
    "duration": 10,
    "start_time": "2025-02-12T17:29:25.594Z"
   },
   {
    "duration": 113,
    "start_time": "2025-02-12T17:29:25.605Z"
   },
   {
    "duration": 0,
    "start_time": "2025-02-12T17:29:25.719Z"
   },
   {
    "duration": 1,
    "start_time": "2025-02-12T17:29:25.720Z"
   },
   {
    "duration": 0,
    "start_time": "2025-02-12T17:29:25.722Z"
   },
   {
    "duration": 0,
    "start_time": "2025-02-12T17:29:25.723Z"
   },
   {
    "duration": 38,
    "start_time": "2025-02-12T17:33:29.110Z"
   },
   {
    "duration": 37,
    "start_time": "2025-02-12T17:33:43.763Z"
   },
   {
    "duration": 5,
    "start_time": "2025-02-12T17:37:18.970Z"
   },
   {
    "duration": 9,
    "start_time": "2025-02-12T17:37:33.445Z"
   },
   {
    "duration": 311,
    "start_time": "2025-02-12T17:37:55.357Z"
   },
   {
    "duration": 256,
    "start_time": "2025-02-12T17:38:10.837Z"
   },
   {
    "duration": 1135,
    "start_time": "2025-02-12T17:38:24.076Z"
   },
   {
    "duration": 37,
    "start_time": "2025-02-12T17:38:25.213Z"
   },
   {
    "duration": 8,
    "start_time": "2025-02-12T17:38:25.252Z"
   },
   {
    "duration": 45,
    "start_time": "2025-02-12T17:38:25.262Z"
   },
   {
    "duration": 9,
    "start_time": "2025-02-12T17:38:25.309Z"
   },
   {
    "duration": 31,
    "start_time": "2025-02-12T17:38:25.320Z"
   },
   {
    "duration": 16,
    "start_time": "2025-02-12T17:38:25.352Z"
   },
   {
    "duration": 22,
    "start_time": "2025-02-12T17:38:25.370Z"
   },
   {
    "duration": 4,
    "start_time": "2025-02-12T17:38:25.393Z"
   },
   {
    "duration": 26,
    "start_time": "2025-02-12T17:38:25.399Z"
   },
   {
    "duration": 5,
    "start_time": "2025-02-12T17:38:25.427Z"
   },
   {
    "duration": 15,
    "start_time": "2025-02-12T17:38:25.433Z"
   },
   {
    "duration": 6,
    "start_time": "2025-02-12T17:38:25.450Z"
   },
   {
    "duration": 16,
    "start_time": "2025-02-12T17:38:25.457Z"
   },
   {
    "duration": 20,
    "start_time": "2025-02-12T17:38:25.474Z"
   },
   {
    "duration": 158,
    "start_time": "2025-02-12T17:38:25.495Z"
   },
   {
    "duration": 8,
    "start_time": "2025-02-12T17:38:25.656Z"
   },
   {
    "duration": 13,
    "start_time": "2025-02-12T17:38:25.666Z"
   },
   {
    "duration": 6,
    "start_time": "2025-02-12T17:38:25.680Z"
   },
   {
    "duration": 211,
    "start_time": "2025-02-12T17:38:25.687Z"
   },
   {
    "duration": 113,
    "start_time": "2025-02-12T17:38:25.900Z"
   },
   {
    "duration": 6,
    "start_time": "2025-02-12T17:38:26.015Z"
   },
   {
    "duration": 9,
    "start_time": "2025-02-12T17:38:26.022Z"
   },
   {
    "duration": 226,
    "start_time": "2025-02-12T17:38:26.033Z"
   },
   {
    "duration": 8,
    "start_time": "2025-02-12T17:38:26.261Z"
   },
   {
    "duration": 20,
    "start_time": "2025-02-12T17:38:26.271Z"
   },
   {
    "duration": 255,
    "start_time": "2025-02-12T17:38:26.292Z"
   },
   {
    "duration": 99,
    "start_time": "2025-02-12T17:38:26.550Z"
   },
   {
    "duration": 8,
    "start_time": "2025-02-12T17:38:26.650Z"
   },
   {
    "duration": 319,
    "start_time": "2025-02-12T17:38:26.660Z"
   },
   {
    "duration": 11,
    "start_time": "2025-02-12T17:38:26.980Z"
   },
   {
    "duration": 26,
    "start_time": "2025-02-12T17:38:26.993Z"
   },
   {
    "duration": 28,
    "start_time": "2025-02-12T17:38:27.021Z"
   },
   {
    "duration": 15,
    "start_time": "2025-02-12T17:38:27.050Z"
   },
   {
    "duration": 15,
    "start_time": "2025-02-12T17:38:27.067Z"
   },
   {
    "duration": 461,
    "start_time": "2025-02-12T17:38:27.083Z"
   },
   {
    "duration": 8,
    "start_time": "2025-02-12T17:38:27.548Z"
   },
   {
    "duration": 8,
    "start_time": "2025-02-12T17:38:27.557Z"
   },
   {
    "duration": 326,
    "start_time": "2025-02-12T17:38:27.567Z"
   },
   {
    "duration": 8,
    "start_time": "2025-02-12T17:38:27.895Z"
   },
   {
    "duration": 353,
    "start_time": "2025-02-12T17:38:27.904Z"
   },
   {
    "duration": 11,
    "start_time": "2025-02-12T17:38:28.259Z"
   },
   {
    "duration": 4,
    "start_time": "2025-02-12T17:38:28.272Z"
   },
   {
    "duration": 46,
    "start_time": "2025-02-12T17:38:28.278Z"
   },
   {
    "duration": 7,
    "start_time": "2025-02-12T17:38:28.347Z"
   },
   {
    "duration": 11,
    "start_time": "2025-02-12T17:38:28.355Z"
   },
   {
    "duration": 11,
    "start_time": "2025-02-12T17:38:28.367Z"
   },
   {
    "duration": 6,
    "start_time": "2025-02-12T17:38:28.380Z"
   },
   {
    "duration": 12,
    "start_time": "2025-02-12T17:38:28.388Z"
   },
   {
    "duration": 322,
    "start_time": "2025-02-12T17:38:28.402Z"
   },
   {
    "duration": 288,
    "start_time": "2025-02-12T17:38:28.726Z"
   },
   {
    "duration": 9702,
    "start_time": "2025-02-12T21:41:38.457Z"
   },
   {
    "duration": 302,
    "start_time": "2025-02-12T21:41:48.249Z"
   },
   {
    "duration": 97,
    "start_time": "2025-02-12T21:41:48.554Z"
   },
   {
    "duration": 502,
    "start_time": "2025-02-12T21:41:48.748Z"
   },
   {
    "duration": 193,
    "start_time": "2025-02-12T21:41:49.255Z"
   },
   {
    "duration": 200,
    "start_time": "2025-02-12T21:41:49.452Z"
   },
   {
    "duration": 95,
    "start_time": "2025-02-12T21:41:49.655Z"
   },
   {
    "duration": 107,
    "start_time": "2025-02-12T21:41:49.751Z"
   },
   {
    "duration": 97,
    "start_time": "2025-02-12T21:41:49.952Z"
   },
   {
    "duration": 196,
    "start_time": "2025-02-12T21:41:50.052Z"
   },
   {
    "duration": 95,
    "start_time": "2025-02-12T21:41:50.254Z"
   },
   {
    "duration": 9,
    "start_time": "2025-02-12T21:41:50.352Z"
   },
   {
    "duration": 99,
    "start_time": "2025-02-12T21:41:50.448Z"
   },
   {
    "duration": 202,
    "start_time": "2025-02-12T21:41:50.557Z"
   },
   {
    "duration": 196,
    "start_time": "2025-02-12T21:41:50.761Z"
   },
   {
    "duration": 1497,
    "start_time": "2025-02-12T21:41:50.959Z"
   },
   {
    "duration": 100,
    "start_time": "2025-02-12T21:41:52.459Z"
   },
   {
    "duration": 198,
    "start_time": "2025-02-12T21:41:52.655Z"
   },
   {
    "duration": 93,
    "start_time": "2025-02-12T21:41:52.856Z"
   },
   {
    "duration": 1804,
    "start_time": "2025-02-12T21:41:52.951Z"
   },
   {
    "duration": 895,
    "start_time": "2025-02-12T21:41:54.857Z"
   },
   {
    "duration": 7,
    "start_time": "2025-02-12T21:41:55.757Z"
   },
   {
    "duration": 105,
    "start_time": "2025-02-12T21:41:55.848Z"
   },
   {
    "duration": 1596,
    "start_time": "2025-02-12T21:41:55.962Z"
   },
   {
    "duration": 9,
    "start_time": "2025-02-12T21:41:57.560Z"
   },
   {
    "duration": 94,
    "start_time": "2025-02-12T21:41:57.571Z"
   },
   {
    "duration": 1493,
    "start_time": "2025-02-12T21:41:57.667Z"
   },
   {
    "duration": 1393,
    "start_time": "2025-02-12T21:41:59.254Z"
   },
   {
    "duration": 98,
    "start_time": "2025-02-12T21:42:00.651Z"
   },
   {
    "duration": 2703,
    "start_time": "2025-02-12T21:42:00.752Z"
   },
   {
    "duration": 194,
    "start_time": "2025-02-12T21:42:03.459Z"
   },
   {
    "duration": 209,
    "start_time": "2025-02-12T21:42:03.655Z"
   },
   {
    "duration": 101,
    "start_time": "2025-02-12T21:42:03.954Z"
   },
   {
    "duration": 208,
    "start_time": "2025-02-12T21:42:04.147Z"
   },
   {
    "duration": 203,
    "start_time": "2025-02-12T21:42:04.360Z"
   },
   {
    "duration": 4488,
    "start_time": "2025-02-12T21:42:04.661Z"
   },
   {
    "duration": 197,
    "start_time": "2025-02-12T21:42:09.154Z"
   },
   {
    "duration": 99,
    "start_time": "2025-02-12T21:42:09.353Z"
   },
   {
    "duration": 3303,
    "start_time": "2025-02-12T21:42:09.454Z"
   },
   {
    "duration": 12,
    "start_time": "2025-02-12T21:42:12.848Z"
   },
   {
    "duration": 2787,
    "start_time": "2025-02-12T21:42:12.962Z"
   },
   {
    "duration": 10,
    "start_time": "2025-02-12T21:42:15.752Z"
   },
   {
    "duration": 85,
    "start_time": "2025-02-12T21:42:15.765Z"
   },
   {
    "duration": 503,
    "start_time": "2025-02-12T21:42:15.852Z"
   },
   {
    "duration": 111,
    "start_time": "2025-02-12T21:42:16.450Z"
   },
   {
    "duration": 100,
    "start_time": "2025-02-12T21:42:16.654Z"
   },
   {
    "duration": 100,
    "start_time": "2025-02-12T21:42:16.756Z"
   },
   {
    "duration": 9,
    "start_time": "2025-02-12T21:42:16.948Z"
   },
   {
    "duration": 191,
    "start_time": "2025-02-12T21:42:16.962Z"
   },
   {
    "duration": 1496,
    "start_time": "2025-02-12T21:42:17.155Z"
   },
   {
    "duration": 1299,
    "start_time": "2025-02-12T21:42:18.656Z"
   },
   {
    "duration": 2708,
    "start_time": "2025-02-12T21:45:17.550Z"
   },
   {
    "duration": 88,
    "start_time": "2025-02-12T21:45:27.162Z"
   },
   {
    "duration": 8,
    "start_time": "2025-02-12T21:48:21.249Z"
   },
   {
    "duration": 206,
    "start_time": "2025-02-12T21:48:22.449Z"
   },
   {
    "duration": 403,
    "start_time": "2025-02-12T21:48:57.749Z"
   },
   {
    "duration": 200,
    "start_time": "2025-02-12T21:49:45.547Z"
   },
   {
    "duration": 10094,
    "start_time": "2025-02-12T21:49:59.454Z"
   },
   {
    "duration": 210,
    "start_time": "2025-02-12T21:50:09.553Z"
   },
   {
    "duration": 104,
    "start_time": "2025-02-12T21:50:09.850Z"
   },
   {
    "duration": 501,
    "start_time": "2025-02-12T21:50:10.052Z"
   },
   {
    "duration": 106,
    "start_time": "2025-02-12T21:50:10.647Z"
   },
   {
    "duration": 294,
    "start_time": "2025-02-12T21:50:10.759Z"
   },
   {
    "duration": 102,
    "start_time": "2025-02-12T21:50:11.058Z"
   },
   {
    "duration": 98,
    "start_time": "2025-02-12T21:50:11.251Z"
   },
   {
    "duration": 101,
    "start_time": "2025-02-12T21:50:11.352Z"
   },
   {
    "duration": 203,
    "start_time": "2025-02-12T21:50:11.456Z"
   },
   {
    "duration": 188,
    "start_time": "2025-02-12T21:50:11.661Z"
   },
   {
    "duration": 8,
    "start_time": "2025-02-12T21:50:11.852Z"
   },
   {
    "duration": 93,
    "start_time": "2025-02-12T21:50:11.863Z"
   },
   {
    "duration": 195,
    "start_time": "2025-02-12T21:50:12.052Z"
   },
   {
    "duration": 111,
    "start_time": "2025-02-12T21:50:12.250Z"
   },
   {
    "duration": 1499,
    "start_time": "2025-02-12T21:50:12.448Z"
   },
   {
    "duration": 102,
    "start_time": "2025-02-12T21:50:13.953Z"
   },
   {
    "duration": 202,
    "start_time": "2025-02-12T21:50:14.057Z"
   },
   {
    "duration": 7,
    "start_time": "2025-02-12T21:50:14.349Z"
   },
   {
    "duration": 1699,
    "start_time": "2025-02-12T21:50:14.358Z"
   },
   {
    "duration": 903,
    "start_time": "2025-02-12T21:50:16.059Z"
   },
   {
    "duration": 8,
    "start_time": "2025-02-12T21:50:17.052Z"
   },
   {
    "duration": 101,
    "start_time": "2025-02-12T21:50:17.151Z"
   },
   {
    "duration": 2098,
    "start_time": "2025-02-12T21:50:17.255Z"
   },
   {
    "duration": 186,
    "start_time": "2025-02-12T21:50:19.361Z"
   },
   {
    "duration": 205,
    "start_time": "2025-02-12T21:50:19.551Z"
   },
   {
    "duration": 2798,
    "start_time": "2025-02-12T21:50:19.760Z"
   },
   {
    "duration": 1598,
    "start_time": "2025-02-12T21:50:22.561Z"
   },
   {
    "duration": 106,
    "start_time": "2025-02-12T21:50:24.251Z"
   },
   {
    "duration": 2696,
    "start_time": "2025-02-12T21:50:24.359Z"
   },
   {
    "duration": 97,
    "start_time": "2025-02-12T21:50:27.153Z"
   },
   {
    "duration": 396,
    "start_time": "2025-02-12T21:50:27.253Z"
   },
   {
    "duration": 99,
    "start_time": "2025-02-12T21:50:27.652Z"
   },
   {
    "duration": 106,
    "start_time": "2025-02-12T21:50:27.753Z"
   },
   {
    "duration": 99,
    "start_time": "2025-02-12T21:50:27.950Z"
   },
   {
    "duration": 3698,
    "start_time": "2025-02-12T21:50:28.060Z"
   },
   {
    "duration": 186,
    "start_time": "2025-02-12T21:50:31.761Z"
   },
   {
    "duration": 97,
    "start_time": "2025-02-12T21:50:31.953Z"
   },
   {
    "duration": 2901,
    "start_time": "2025-02-12T21:50:32.051Z"
   },
   {
    "duration": 94,
    "start_time": "2025-02-12T21:50:34.955Z"
   },
   {
    "duration": 2905,
    "start_time": "2025-02-12T21:50:35.053Z"
   },
   {
    "duration": 99,
    "start_time": "2025-02-12T21:50:37.960Z"
   },
   {
    "duration": 96,
    "start_time": "2025-02-12T21:50:38.061Z"
   },
   {
    "duration": 495,
    "start_time": "2025-02-12T21:50:38.159Z"
   },
   {
    "duration": 102,
    "start_time": "2025-02-12T21:50:38.658Z"
   },
   {
    "duration": 184,
    "start_time": "2025-02-12T21:50:38.763Z"
   },
   {
    "duration": 16,
    "start_time": "2025-02-12T21:50:38.950Z"
   },
   {
    "duration": 90,
    "start_time": "2025-02-12T21:50:38.968Z"
   },
   {
    "duration": 98,
    "start_time": "2025-02-12T21:50:39.153Z"
   },
   {
    "duration": 1696,
    "start_time": "2025-02-12T21:50:39.254Z"
   },
   {
    "duration": 1297,
    "start_time": "2025-02-12T21:50:40.958Z"
   }
  ],
  "kernelspec": {
   "display_name": "Python 3 (ipykernel)",
   "language": "python",
   "name": "python3"
  },
  "language_info": {
   "codemirror_mode": {
    "name": "ipython",
    "version": 3
   },
   "file_extension": ".py",
   "mimetype": "text/x-python",
   "name": "python",
   "nbconvert_exporter": "python",
   "pygments_lexer": "ipython3",
   "version": "3.9.5"
  },
  "toc": {
   "base_numbering": 1,
   "nav_menu": {},
   "number_sections": true,
   "sideBar": true,
   "skip_h1_title": true,
   "title_cell": "Table of Contents",
   "title_sidebar": "Contents",
   "toc_cell": false,
   "toc_position": {},
   "toc_section_display": true,
   "toc_window_display": false
  }
 },
 "nbformat": 4,
 "nbformat_minor": 5
}

{
 "cells": [
  {
   "cell_type": "markdown",
   "metadata": {
    "toc": true
   },
   "source": [
    "<h1>Содержание<span class=\"tocSkip\"></span></h1>\n",
    "<div class=\"toc\"><ul class=\"toc-item\"><li><span><a href=\"#Подготовка-(импорт-библиотек,-загрузка,-чтение-данных)\" data-toc-modified-id=\"Подготовка-(импорт-библиотек,-загрузка,-чтение-данных)-1\"><span class=\"toc-item-num\">1&nbsp;&nbsp;</span>Подготовка (импорт библиотек, загрузка, чтение данных)</a></span></li><li><span><a href=\"#Обучение\" data-toc-modified-id=\"Обучение-2\"><span class=\"toc-item-num\">2&nbsp;&nbsp;</span>Обучение</a></span></li><li><span><a href=\"#Выводы\" data-toc-modified-id=\"Выводы-3\"><span class=\"toc-item-num\">3&nbsp;&nbsp;</span>Выводы</a></span></li></ul></div>"
   ]
  },
  {
   "cell_type": "markdown",
   "metadata": {},
   "source": [
    "# Проект для «Викишоп»"
   ]
  },
  {
   "cell_type": "markdown",
   "metadata": {},
   "source": [
    "Интернет-магазин «Викишоп» запускает новый сервис. Теперь пользователи могут редактировать и дополнять описания товаров, как в вики-сообществах. То есть клиенты предлагают свои правки и комментируют изменения других. Магазину нужен инструмент, который будет искать токсичные комментарии и отправлять их на модерацию. \n",
    "\n",
    "Обучите модель классифицировать комментарии на позитивные и негативные. В вашем распоряжении набор данных с разметкой о токсичности правок.\n",
    "\n",
    "Постройте модель со значением метрики качества *F1* не меньше 0.75. \n",
    "\n",
    "**Инструкция по выполнению проекта**\n",
    "\n",
    "1. Загрузите и подготовьте данные.\n",
    "2. Обучите разные модели. \n",
    "3. Сделайте выводы.\n",
    "\n",
    "Для выполнения проекта применять *BERT* необязательно, но вы можете попробовать.\n",
    "\n",
    "**Описание данных**\n",
    "\n",
    "Данные находятся в файле `toxic_comments.csv`. Столбец *text* в нём содержит текст комментария, а *toxic* — целевой признак."
   ]
  },
  {
   "cell_type": "markdown",
   "metadata": {},
   "source": [
    "## Подготовка (импорт библиотек, загрузка, чтение данных)"
   ]
  },
  {
   "cell_type": "code",
   "execution_count": 23,
   "metadata": {},
   "outputs": [
    {
     "name": "stderr",
     "output_type": "stream",
     "text": [
      "[nltk_data] Downloading package stopwords to /home/jovyan/nltk_data...\n",
      "[nltk_data]   Package stopwords is already up-to-date!\n",
      "[nltk_data] Downloading package averaged_perceptron_tagger to\n",
      "[nltk_data]     /home/jovyan/nltk_data...\n",
      "[nltk_data]   Package averaged_perceptron_tagger is already up-to-\n",
      "[nltk_data]       date!\n"
     ]
    }
   ],
   "source": [
    "# !pip install -r requirements.txt\n",
    "# при необходимости можно запустить данную команду, для установки версий библиотек,\n",
    "#которые использовались при использовании данного проекта\n",
    "# и с которыми не возникали конфликты\n",
    "\n",
    "#Импорты\n",
    "\n",
    "import pandas as pd\n",
    "import matplotlib.pyplot as plt\n",
    "import numpy as np\n",
    "import seaborn as sns\n",
    "\n",
    "from nltk.stem import WordNetLemmatizer\n",
    "import re\n",
    "from nltk.corpus import stopwords\n",
    "from nltk.corpus import wordnet\n",
    "from sklearn.feature_extraction.text import TfidfVectorizer\n",
    "\n",
    "from sklearn.pipeline import Pipeline\n",
    "from sklearn.linear_model import LogisticRegression\n",
    "from sklearn.model_selection import GridSearchCV\n",
    "from catboost import CatBoostClassifier\n",
    "from sklearn.metrics import f1_score\n",
    "from sklearn.model_selection import train_test_split\n",
    "\n",
    "from tqdm.notebook import tqdm\n",
    "\n",
    "import warnings\n",
    "warnings.filterwarnings('ignore')\n",
    "\n",
    "import nltk\n",
    "nltk.download('stopwords') \n",
    "nltk.download('averaged_perceptron_tagger')\n",
    "\n",
    "\n",
    "#импорт контсант\n",
    "RANDOM_STATE = 42\n"
   ]
  },
  {
   "cell_type": "markdown",
   "metadata": {},
   "source": [
    "А также пределим ряд функций, которые будем использовать для дальнейшего обучения модели:"
   ]
  },
  {
   "cell_type": "code",
   "execution_count": 24,
   "metadata": {},
   "outputs": [],
   "source": [
    "# Функция для  определения части речи слова\n",
    "\n",
    "def get_wordnet(word):\n",
    "    tag = nltk.pos_tag([word])[0][1][0].upper()\n",
    "    tag_dict = {\"J\": wordnet.ADJ,\n",
    "                \"N\": wordnet.NOUN,\n",
    "                \"V\": wordnet.VERB,\n",
    "                \"R\": wordnet.ADV}\n",
    "    return tag_dict.get(tag, wordnet.NOUN)"
   ]
  },
  {
   "cell_type": "code",
   "execution_count": 25,
   "metadata": {},
   "outputs": [],
   "source": [
    "# Функция для лемматизации текста \n",
    "\n",
    "def lemmatize(text):\n",
    "    m = WordNetLemmatizer()\n",
    "    text = text.lower()\n",
    "    text = re.sub(r'[^a-zA-Z\\']', ' ', text)\n",
    "    text = text.split()\n",
    "    return ' '.join([m.lemmatize(i, get_wordnet(i)) for i in text])"
   ]
  },
  {
   "cell_type": "code",
   "execution_count": 26,
   "metadata": {
    "scrolled": true
   },
   "outputs": [
    {
     "data": {
      "text/html": [
       "<div>\n",
       "<style scoped>\n",
       "    .dataframe tbody tr th:only-of-type {\n",
       "        vertical-align: middle;\n",
       "    }\n",
       "\n",
       "    .dataframe tbody tr th {\n",
       "        vertical-align: top;\n",
       "    }\n",
       "\n",
       "    .dataframe thead th {\n",
       "        text-align: right;\n",
       "    }\n",
       "</style>\n",
       "<table border=\"1\" class=\"dataframe\">\n",
       "  <thead>\n",
       "    <tr style=\"text-align: right;\">\n",
       "      <th></th>\n",
       "      <th>text</th>\n",
       "      <th>toxic</th>\n",
       "    </tr>\n",
       "  </thead>\n",
       "  <tbody>\n",
       "    <tr>\n",
       "      <th>22732</th>\n",
       "      <td>Much of this page is substantially untrue. I a...</td>\n",
       "      <td>0</td>\n",
       "    </tr>\n",
       "    <tr>\n",
       "      <th>37477</th>\n",
       "      <td>Will do. Thanks for the note! Stay cool.</td>\n",
       "      <td>0</td>\n",
       "    </tr>\n",
       "    <tr>\n",
       "      <th>123430</th>\n",
       "      <td>1. Active serive and ASU are commonly used ter...</td>\n",
       "      <td>0</td>\n",
       "    </tr>\n",
       "    <tr>\n",
       "      <th>58865</th>\n",
       "      <td>Very funny. Censoring 95% of the criticism is ...</td>\n",
       "      <td>0</td>\n",
       "    </tr>\n",
       "    <tr>\n",
       "      <th>45275</th>\n",
       "      <td>\"\\nSorry, I couldn't quite remember precisely ...</td>\n",
       "      <td>0</td>\n",
       "    </tr>\n",
       "    <tr>\n",
       "      <th>147115</th>\n",
       "      <td>\"\\n\\nThanks for the spelling lesson asskrackad...</td>\n",
       "      <td>1</td>\n",
       "    </tr>\n",
       "    <tr>\n",
       "      <th>84550</th>\n",
       "      <td>\"\\n\\nRfD nomination of Black -holes\\nI have no...</td>\n",
       "      <td>0</td>\n",
       "    </tr>\n",
       "  </tbody>\n",
       "</table>\n",
       "</div>"
      ],
      "text/plain": [
       "                                                     text  toxic\n",
       "22732   Much of this page is substantially untrue. I a...      0\n",
       "37477            Will do. Thanks for the note! Stay cool.      0\n",
       "123430  1. Active serive and ASU are commonly used ter...      0\n",
       "58865   Very funny. Censoring 95% of the criticism is ...      0\n",
       "45275   \"\\nSorry, I couldn't quite remember precisely ...      0\n",
       "147115  \"\\n\\nThanks for the spelling lesson asskrackad...      1\n",
       "84550   \"\\n\\nRfD nomination of Black -holes\\nI have no...      0"
      ]
     },
     "execution_count": 26,
     "metadata": {},
     "output_type": "execute_result"
    }
   ],
   "source": [
    "try:\n",
    "    df = pd.read_csv('/datasets/toxic_comments.csv', index_col=0)\n",
    "except:\n",
    "    df = pd.read_csv('https://code.s3.yandex.net/datasets/toxic_comments.csv', index_col=0)\n",
    "\n",
    "df.sample(7)\n",
    "\n",
    "#Выведем на экран подборку из 7 записей датасета"
   ]
  },
  {
   "cell_type": "markdown",
   "metadata": {},
   "source": [
    "Изучим датасет более подробно:"
   ]
  },
  {
   "cell_type": "code",
   "execution_count": 27,
   "metadata": {},
   "outputs": [
    {
     "name": "stdout",
     "output_type": "stream",
     "text": [
      "<class 'pandas.core.frame.DataFrame'>\n",
      "Int64Index: 159292 entries, 0 to 159450\n",
      "Data columns (total 2 columns):\n",
      " #   Column  Non-Null Count   Dtype \n",
      "---  ------  --------------   ----- \n",
      " 0   text    159292 non-null  object\n",
      " 1   toxic   159292 non-null  int64 \n",
      "dtypes: int64(1), object(1)\n",
      "memory usage: 3.6+ MB\n"
     ]
    }
   ],
   "source": [
    "df.info()"
   ]
  },
  {
   "cell_type": "markdown",
   "metadata": {},
   "source": [
    "На данном шаге видим, что датасет состоит из 159292 записей, пропуски отсутствуютю. Типы данных соответствуют содержимому, а значит не требуют коррекции.\n",
    "Названия столбцов соответствуют змеиному регистру.\n",
    "Проверим наличие дубликатов в датасете и пропусков (т.к. нумерация не соответствует количеству записей в датасете)\n"
   ]
  },
  {
   "cell_type": "code",
   "execution_count": 28,
   "metadata": {},
   "outputs": [
    {
     "data": {
      "text/plain": [
       "text     0\n",
       "toxic    0\n",
       "dtype: int64"
      ]
     },
     "execution_count": 28,
     "metadata": {},
     "output_type": "execute_result"
    }
   ],
   "source": [
    "df.isna().sum() #проверка пропусков"
   ]
  },
  {
   "cell_type": "code",
   "execution_count": 29,
   "metadata": {},
   "outputs": [
    {
     "data": {
      "text/plain": [
       "0"
      ]
     },
     "execution_count": 29,
     "metadata": {},
     "output_type": "execute_result"
    }
   ],
   "source": [
    "df.duplicated().sum() #проверка явных дубликатов"
   ]
  },
  {
   "cell_type": "markdown",
   "metadata": {},
   "source": [
    "Пропуски отстутствуют в датасете, явных дубликатов не обнаружно.\n",
    "Неявные дубликаты проверять не буду, так как всё-таки это комментарии"
   ]
  },
  {
   "cell_type": "code",
   "execution_count": 30,
   "metadata": {},
   "outputs": [
    {
     "data": {
      "image/png": "[encoded data removed]",
      "text/plain": [
       "<Figure size 720x432 with 1 Axes>"
      ]
     },
     "metadata": {
      "needs_background": "light"
     },
     "output_type": "display_data"
    }
   ],
   "source": [
    "#построим график, чтобы отследить сбалансированность\n",
    "\n",
    "plt.figure(figsize=(10, 6))  \n",
    "sns.countplot(data=df, x='toxic',\n",
    "              palette=['cadetblue', 'pink'], ec='black',\n",
    "              )\n",
    "plt.title('Распределение значений для \"toxic\"')\n",
    "plt.xlabel(\"Значение\")\n",
    "plt.ylabel(\"Частота\")\n",
    "plt.tick_params(axis='x', rotation=45)  \n",
    "plt.tight_layout() \n",
    "plt.show()"
   ]
  },
  {
   "cell_type": "code",
   "execution_count": 31,
   "metadata": {},
   "outputs": [
    {
     "data": {
      "text/plain": [
       "0    143106\n",
       "1     16186\n",
       "Name: toxic, dtype: int64"
      ]
     },
     "execution_count": 31,
     "metadata": {},
     "output_type": "execute_result"
    }
   ],
   "source": [
    "df['toxic'].value_counts()"
   ]
  },
  {
   "cell_type": "markdown",
   "metadata": {},
   "source": [
    "Можно сделать вывод, что наблюдается дисбаланс целевой переменной. (Наверное, в данном случае, это хорошо, ведь больше позитивных комментариев :) ). "
   ]
  },
  {
   "cell_type": "code",
   "execution_count": 32,
   "metadata": {},
   "outputs": [
    {
     "data": {
      "application/vnd.jupyter.widget-view+json": {
       "model_id": "84720ae9a34b45f28e44ad980e598a0c",
       "version_major": 2,
       "version_minor": 0
      },
      "text/plain": [
       "  0%|          | 0/159292 [00:00<?, ?it/s]"
      ]
     },
     "metadata": {},
     "output_type": "display_data"
    }
   ],
   "source": [
    "tqdm.pandas()\n",
    "df['lem_text'] = df['text'].progress_apply(lemmatize)"
   ]
  },
  {
   "cell_type": "markdown",
   "metadata": {},
   "source": [
    "На данном этапе провели лемматизацию датасета, а также очистили от регулярных выражений, результат сохранили в новый столбец. Выведем на экран 8 случайных записей датасета."
   ]
  },
  {
   "cell_type": "code",
   "execution_count": 33,
   "metadata": {},
   "outputs": [
    {
     "data": {
      "text/html": [
       "<div>\n",
       "<style scoped>\n",
       "    .dataframe tbody tr th:only-of-type {\n",
       "        vertical-align: middle;\n",
       "    }\n",
       "\n",
       "    .dataframe tbody tr th {\n",
       "        vertical-align: top;\n",
       "    }\n",
       "\n",
       "    .dataframe thead th {\n",
       "        text-align: right;\n",
       "    }\n",
       "</style>\n",
       "<table border=\"1\" class=\"dataframe\">\n",
       "  <thead>\n",
       "    <tr style=\"text-align: right;\">\n",
       "      <th></th>\n",
       "      <th>text</th>\n",
       "      <th>toxic</th>\n",
       "      <th>lem_text</th>\n",
       "    </tr>\n",
       "  </thead>\n",
       "  <tbody>\n",
       "    <tr>\n",
       "      <th>149127</th>\n",
       "      <td>\"\\n\\nArticle for deletion\\n\\nA tag has been pl...</td>\n",
       "      <td>0</td>\n",
       "      <td>article for deletion a tag have be place on jo...</td>\n",
       "    </tr>\n",
       "    <tr>\n",
       "      <th>136218</th>\n",
       "      <td>REDIRECT Talk:All You Need Is Luv'</td>\n",
       "      <td>0</td>\n",
       "      <td>redirect talk all you need be luv'</td>\n",
       "    </tr>\n",
       "    <tr>\n",
       "      <th>145578</th>\n",
       "      <td>Adeel Khan \\n\\nLooks like you forgot to put th...</td>\n",
       "      <td>0</td>\n",
       "      <td>adeel khan look like you forgot to put the mes...</td>\n",
       "    </tr>\n",
       "    <tr>\n",
       "      <th>84008</th>\n",
       "      <td>\"\\n\\nWhat ? Cross-reference please\\n\\n72.129.1...</td>\n",
       "      <td>0</td>\n",
       "      <td>what cross reference please insert this in 'da...</td>\n",
       "    </tr>\n",
       "    <tr>\n",
       "      <th>75803</th>\n",
       "      <td>I think you're getting ahead of yourself.  Tha...</td>\n",
       "      <td>0</td>\n",
       "      <td>i think you're get ahead of yourself that list...</td>\n",
       "    </tr>\n",
       "    <tr>\n",
       "      <th>9645</th>\n",
       "      <td>welcome.. I see your references, and I also se...</td>\n",
       "      <td>0</td>\n",
       "      <td>welcome i see your reference and i also see th...</td>\n",
       "    </tr>\n",
       "    <tr>\n",
       "      <th>42865</th>\n",
       "      <td>\"\\n File:IMGP4554.JPG listed for deletion \\nA ...</td>\n",
       "      <td>0</td>\n",
       "      <td>file imgp jpg list for deletion a file that yo...</td>\n",
       "    </tr>\n",
       "    <tr>\n",
       "      <th>89709</th>\n",
       "      <td>Parli and Mace Distinction \\n\\nThe article att...</td>\n",
       "      <td>0</td>\n",
       "      <td>parli and mace distinction the article attempt...</td>\n",
       "    </tr>\n",
       "  </tbody>\n",
       "</table>\n",
       "</div>"
      ],
      "text/plain": [
       "                                                     text  toxic  \\\n",
       "149127  \"\\n\\nArticle for deletion\\n\\nA tag has been pl...      0   \n",
       "136218                 REDIRECT Talk:All You Need Is Luv'      0   \n",
       "145578  Adeel Khan \\n\\nLooks like you forgot to put th...      0   \n",
       "84008   \"\\n\\nWhat ? Cross-reference please\\n\\n72.129.1...      0   \n",
       "75803   I think you're getting ahead of yourself.  Tha...      0   \n",
       "9645    welcome.. I see your references, and I also se...      0   \n",
       "42865   \"\\n File:IMGP4554.JPG listed for deletion \\nA ...      0   \n",
       "89709   Parli and Mace Distinction \\n\\nThe article att...      0   \n",
       "\n",
       "                                                 lem_text  \n",
       "149127  article for deletion a tag have be place on jo...  \n",
       "136218                 redirect talk all you need be luv'  \n",
       "145578  adeel khan look like you forgot to put the mes...  \n",
       "84008   what cross reference please insert this in 'da...  \n",
       "75803   i think you're get ahead of yourself that list...  \n",
       "9645    welcome i see your reference and i also see th...  \n",
       "42865   file imgp jpg list for deletion a file that yo...  \n",
       "89709   parli and mace distinction the article attempt...  "
      ]
     },
     "execution_count": 33,
     "metadata": {},
     "output_type": "execute_result"
    }
   ],
   "source": [
    "df.sample(8)"
   ]
  },
  {
   "cell_type": "markdown",
   "metadata": {},
   "source": [
    "**Вывод:**\n",
    "\n",
    "- была проведена загрузка, чтение датасета, который состоит из 159292 записей.\n",
    "\n",
    "- тип данных в столбцах корректный, наименования столбцов также соответствуют правилу хорошего стиля\n",
    "\n",
    "- пропуски, дубликаты отсутствуют\n",
    "\n",
    "- однако выявлен дисбаланс  целевой переменной (между негативными и позитивными комментариями), который может сказаться на дальнейшей работе модели (привести к переобучению, например)\n"
   ]
  },
  {
   "cell_type": "markdown",
   "metadata": {},
   "source": [
    "## Обучение"
   ]
  },
  {
   "cell_type": "code",
   "execution_count": 37,
   "metadata": {},
   "outputs": [
    {
     "data": {
      "text/plain": [
       "(159292, 3)"
      ]
     },
     "execution_count": 37,
     "metadata": {},
     "output_type": "execute_result"
    }
   ],
   "source": [
    "# Выделение целевого признака и разделение выборки:\n",
    "X = df.drop('toxic', axis = 1)\n",
    "y = df['toxic']\n",
    "\n",
    "# Разбиваем выборку на тренировочную и тестовую:\n",
    "X_train, X_test, y_train, y_test = train_test_split(\n",
    "    X,\n",
    "    y,\n",
    "    random_state = RANDOM_STATE\n",
    "    )\n",
    "\n",
    "df.shape #всё в порядке в процессе разделения"
   ]
  },
  {
   "cell_type": "code",
   "execution_count": 38,
   "metadata": {},
   "outputs": [],
   "source": [
    "#загружаем стоп-слоа и векторизируем текст\n",
    "stop_words = stopwords.words('english') \n",
    "tf_idf_pro = TfidfVectorizer(stop_words=stop_words)\n",
    "tf_idf = tf_idf_pro.fit_transform(X_train['lem_text'])\n"
   ]
  },
  {
   "cell_type": "code",
   "execution_count": 39,
   "metadata": {},
   "outputs": [],
   "source": [
    "tf_idf_test = tf_idf_pro.transform(X_test['lem_text'])"
   ]
  },
  {
   "cell_type": "code",
   "execution_count": 40,
   "metadata": {},
   "outputs": [
    {
     "data": {
      "text/html": [
       "<style>#sk-container-id-1 {\n",
       "  /* Definition of color scheme common for light and dark mode */\n",
       "  --sklearn-color-text: #000;\n",
       "  --sklearn-color-text-muted: #666;\n",
       "  --sklearn-color-line: gray;\n",
       "  /* Definition of color scheme for unfitted estimators */\n",
       "  --sklearn-color-unfitted-level-0: #fff5e6;\n",
       "  --sklearn-color-unfitted-level-1: #f6e4d2;\n",
       "  --sklearn-color-unfitted-level-2: #ffe0b3;\n",
       "  --sklearn-color-unfitted-level-3: chocolate;\n",
       "  /* Definition of color scheme for fitted estimators */\n",
       "  --sklearn-color-fitted-level-0: #f0f8ff;\n",
       "  --sklearn-color-fitted-level-1: #d4ebff;\n",
       "  --sklearn-color-fitted-level-2: #b3dbfd;\n",
       "  --sklearn-color-fitted-level-3: cornflowerblue;\n",
       "\n",
       "  /* Specific color for light theme */\n",
       "  --sklearn-color-text-on-default-background: var(--sg-text-color, var(--theme-code-foreground, var(--jp-content-font-color1, black)));\n",
       "  --sklearn-color-background: var(--sg-background-color, var(--theme-background, var(--jp-layout-color0, white)));\n",
       "  --sklearn-color-border-box: var(--sg-text-color, var(--theme-code-foreground, var(--jp-content-font-color1, black)));\n",
       "  --sklearn-color-icon: #696969;\n",
       "\n",
       "  @media (prefers-color-scheme: dark) {\n",
       "    /* Redefinition of color scheme for dark theme */\n",
       "    --sklearn-color-text-on-default-background: var(--sg-text-color, var(--theme-code-foreground, var(--jp-content-font-color1, white)));\n",
       "    --sklearn-color-background: var(--sg-background-color, var(--theme-background, var(--jp-layout-color0, #111)));\n",
       "    --sklearn-color-border-box: var(--sg-text-color, var(--theme-code-foreground, var(--jp-content-font-color1, white)));\n",
       "    --sklearn-color-icon: #878787;\n",
       "  }\n",
       "}\n",
       "\n",
       "#sk-container-id-1 {\n",
       "  color: var(--sklearn-color-text);\n",
       "}\n",
       "\n",
       "#sk-container-id-1 pre {\n",
       "  padding: 0;\n",
       "}\n",
       "\n",
       "#sk-container-id-1 input.sk-hidden--visually {\n",
       "  border: 0;\n",
       "  clip: rect(1px 1px 1px 1px);\n",
       "  clip: rect(1px, 1px, 1px, 1px);\n",
       "  height: 1px;\n",
       "  margin: -1px;\n",
       "  overflow: hidden;\n",
       "  padding: 0;\n",
       "  position: absolute;\n",
       "  width: 1px;\n",
       "}\n",
       "\n",
       "#sk-container-id-1 div.sk-dashed-wrapped {\n",
       "  border: 1px dashed var(--sklearn-color-line);\n",
       "  margin: 0 0.4em 0.5em 0.4em;\n",
       "  box-sizing: border-box;\n",
       "  padding-bottom: 0.4em;\n",
       "  background-color: var(--sklearn-color-background);\n",
       "}\n",
       "\n",
       "#sk-container-id-1 div.sk-container {\n",
       "  /* jupyter's `normalize.less` sets `[hidden] { display: none; }`\n",
       "     but bootstrap.min.css set `[hidden] { display: none !important; }`\n",
       "     so we also need the `!important` here to be able to override the\n",
       "     default hidden behavior on the sphinx rendered scikit-learn.org.\n",
       "     See: https://github.com/scikit-learn/scikit-learn/issues/21755 */\n",
       "  display: inline-block !important;\n",
       "  position: relative;\n",
       "}\n",
       "\n",
       "#sk-container-id-1 div.sk-text-repr-fallback {\n",
       "  display: none;\n",
       "}\n",
       "\n",
       "div.sk-parallel-item,\n",
       "div.sk-serial,\n",
       "div.sk-item {\n",
       "  /* draw centered vertical line to link estimators */\n",
       "  background-image: linear-gradient(var(--sklearn-color-text-on-default-background), var(--sklearn-color-text-on-default-background));\n",
       "  background-size: 2px 100%;\n",
       "  background-repeat: no-repeat;\n",
       "  background-position: center center;\n",
       "}\n",
       "\n",
       "/* Parallel-specific style estimator block */\n",
       "\n",
       "#sk-container-id-1 div.sk-parallel-item::after {\n",
       "  content: \"\";\n",
       "  width: 100%;\n",
       "  border-bottom: 2px solid var(--sklearn-color-text-on-default-background);\n",
       "  flex-grow: 1;\n",
       "}\n",
       "\n",
       "#sk-container-id-1 div.sk-parallel {\n",
       "  display: flex;\n",
       "  align-items: stretch;\n",
       "  justify-content: center;\n",
       "  background-color: var(--sklearn-color-background);\n",
       "  position: relative;\n",
       "}\n",
       "\n",
       "#sk-container-id-1 div.sk-parallel-item {\n",
       "  display: flex;\n",
       "  flex-direction: column;\n",
       "}\n",
       "\n",
       "#sk-container-id-1 div.sk-parallel-item:first-child::after {\n",
       "  align-self: flex-end;\n",
       "  width: 50%;\n",
       "}\n",
       "\n",
       "#sk-container-id-1 div.sk-parallel-item:last-child::after {\n",
       "  align-self: flex-start;\n",
       "  width: 50%;\n",
       "}\n",
       "\n",
       "#sk-container-id-1 div.sk-parallel-item:only-child::after {\n",
       "  width: 0;\n",
       "}\n",
       "\n",
       "/* Serial-specific style estimator block */\n",
       "\n",
       "#sk-container-id-1 div.sk-serial {\n",
       "  display: flex;\n",
       "  flex-direction: column;\n",
       "  align-items: center;\n",
       "  background-color: var(--sklearn-color-background);\n",
       "  padding-right: 1em;\n",
       "  padding-left: 1em;\n",
       "}\n",
       "\n",
       "\n",
       "/* Toggleable style: style used for estimator/Pipeline/ColumnTransformer box that is\n",
       "clickable and can be expanded/collapsed.\n",
       "- Pipeline and ColumnTransformer use this feature and define the default style\n",
       "- Estimators will overwrite some part of the style using the `sk-estimator` class\n",
       "*/\n",
       "\n",
       "/* Pipeline and ColumnTransformer style (default) */\n",
       "\n",
       "#sk-container-id-1 div.sk-toggleable {\n",
       "  /* Default theme specific background. It is overwritten whether we have a\n",
       "  specific estimator or a Pipeline/ColumnTransformer */\n",
       "  background-color: var(--sklearn-color-background);\n",
       "}\n",
       "\n",
       "/* Toggleable label */\n",
       "#sk-container-id-1 label.sk-toggleable__label {\n",
       "  cursor: pointer;\n",
       "  display: flex;\n",
       "  width: 100%;\n",
       "  margin-bottom: 0;\n",
       "  padding: 0.5em;\n",
       "  box-sizing: border-box;\n",
       "  text-align: center;\n",
       "  align-items: start;\n",
       "  justify-content: space-between;\n",
       "  gap: 0.5em;\n",
       "}\n",
       "\n",
       "#sk-container-id-1 label.sk-toggleable__label .caption {\n",
       "  font-size: 0.6rem;\n",
       "  font-weight: lighter;\n",
       "  color: var(--sklearn-color-text-muted);\n",
       "}\n",
       "\n",
       "#sk-container-id-1 label.sk-toggleable__label-arrow:before {\n",
       "  /* Arrow on the left of the label */\n",
       "  content: \"▸\";\n",
       "  float: left;\n",
       "  margin-right: 0.25em;\n",
       "  color: var(--sklearn-color-icon);\n",
       "}\n",
       "\n",
       "#sk-container-id-1 label.sk-toggleable__label-arrow:hover:before {\n",
       "  color: var(--sklearn-color-text);\n",
       "}\n",
       "\n",
       "/* Toggleable content - dropdown */\n",
       "\n",
       "#sk-container-id-1 div.sk-toggleable__content {\n",
       "  max-height: 0;\n",
       "  max-width: 0;\n",
       "  overflow: hidden;\n",
       "  text-align: left;\n",
       "  /* unfitted */\n",
       "  background-color: var(--sklearn-color-unfitted-level-0);\n",
       "}\n",
       "\n",
       "#sk-container-id-1 div.sk-toggleable__content.fitted {\n",
       "  /* fitted */\n",
       "  background-color: var(--sklearn-color-fitted-level-0);\n",
       "}\n",
       "\n",
       "#sk-container-id-1 div.sk-toggleable__content pre {\n",
       "  margin: 0.2em;\n",
       "  border-radius: 0.25em;\n",
       "  color: var(--sklearn-color-text);\n",
       "  /* unfitted */\n",
       "  background-color: var(--sklearn-color-unfitted-level-0);\n",
       "}\n",
       "\n",
       "#sk-container-id-1 div.sk-toggleable__content.fitted pre {\n",
       "  /* unfitted */\n",
       "  background-color: var(--sklearn-color-fitted-level-0);\n",
       "}\n",
       "\n",
       "#sk-container-id-1 input.sk-toggleable__control:checked~div.sk-toggleable__content {\n",
       "  /* Expand drop-down */\n",
       "  max-height: 200px;\n",
       "  max-width: 100%;\n",
       "  overflow: auto;\n",
       "}\n",
       "\n",
       "#sk-container-id-1 input.sk-toggleable__control:checked~label.sk-toggleable__label-arrow:before {\n",
       "  content: \"▾\";\n",
       "}\n",
       "\n",
       "/* Pipeline/ColumnTransformer-specific style */\n",
       "\n",
       "#sk-container-id-1 div.sk-label input.sk-toggleable__control:checked~label.sk-toggleable__label {\n",
       "  color: var(--sklearn-color-text);\n",
       "  background-color: var(--sklearn-color-unfitted-level-2);\n",
       "}\n",
       "\n",
       "#sk-container-id-1 div.sk-label.fitted input.sk-toggleable__control:checked~label.sk-toggleable__label {\n",
       "  background-color: var(--sklearn-color-fitted-level-2);\n",
       "}\n",
       "\n",
       "/* Estimator-specific style */\n",
       "\n",
       "/* Colorize estimator box */\n",
       "#sk-container-id-1 div.sk-estimator input.sk-toggleable__control:checked~label.sk-toggleable__label {\n",
       "  /* unfitted */\n",
       "  background-color: var(--sklearn-color-unfitted-level-2);\n",
       "}\n",
       "\n",
       "#sk-container-id-1 div.sk-estimator.fitted input.sk-toggleable__control:checked~label.sk-toggleable__label {\n",
       "  /* fitted */\n",
       "  background-color: var(--sklearn-color-fitted-level-2);\n",
       "}\n",
       "\n",
       "#sk-container-id-1 div.sk-label label.sk-toggleable__label,\n",
       "#sk-container-id-1 div.sk-label label {\n",
       "  /* The background is the default theme color */\n",
       "  color: var(--sklearn-color-text-on-default-background);\n",
       "}\n",
       "\n",
       "/* On hover, darken the color of the background */\n",
       "#sk-container-id-1 div.sk-label:hover label.sk-toggleable__label {\n",
       "  color: var(--sklearn-color-text);\n",
       "  background-color: var(--sklearn-color-unfitted-level-2);\n",
       "}\n",
       "\n",
       "/* Label box, darken color on hover, fitted */\n",
       "#sk-container-id-1 div.sk-label.fitted:hover label.sk-toggleable__label.fitted {\n",
       "  color: var(--sklearn-color-text);\n",
       "  background-color: var(--sklearn-color-fitted-level-2);\n",
       "}\n",
       "\n",
       "/* Estimator label */\n",
       "\n",
       "#sk-container-id-1 div.sk-label label {\n",
       "  font-family: monospace;\n",
       "  font-weight: bold;\n",
       "  display: inline-block;\n",
       "  line-height: 1.2em;\n",
       "}\n",
       "\n",
       "#sk-container-id-1 div.sk-label-container {\n",
       "  text-align: center;\n",
       "}\n",
       "\n",
       "/* Estimator-specific */\n",
       "#sk-container-id-1 div.sk-estimator {\n",
       "  font-family: monospace;\n",
       "  border: 1px dotted var(--sklearn-color-border-box);\n",
       "  border-radius: 0.25em;\n",
       "  box-sizing: border-box;\n",
       "  margin-bottom: 0.5em;\n",
       "  /* unfitted */\n",
       "  background-color: var(--sklearn-color-unfitted-level-0);\n",
       "}\n",
       "\n",
       "#sk-container-id-1 div.sk-estimator.fitted {\n",
       "  /* fitted */\n",
       "  background-color: var(--sklearn-color-fitted-level-0);\n",
       "}\n",
       "\n",
       "/* on hover */\n",
       "#sk-container-id-1 div.sk-estimator:hover {\n",
       "  /* unfitted */\n",
       "  background-color: var(--sklearn-color-unfitted-level-2);\n",
       "}\n",
       "\n",
       "#sk-container-id-1 div.sk-estimator.fitted:hover {\n",
       "  /* fitted */\n",
       "  background-color: var(--sklearn-color-fitted-level-2);\n",
       "}\n",
       "\n",
       "/* Specification for estimator info (e.g. \"i\" and \"?\") */\n",
       "\n",
       "/* Common style for \"i\" and \"?\" */\n",
       "\n",
       ".sk-estimator-doc-link,\n",
       "a:link.sk-estimator-doc-link,\n",
       "a:visited.sk-estimator-doc-link {\n",
       "  float: right;\n",
       "  font-size: smaller;\n",
       "  line-height: 1em;\n",
       "  font-family: monospace;\n",
       "  background-color: var(--sklearn-color-background);\n",
       "  border-radius: 1em;\n",
       "  height: 1em;\n",
       "  width: 1em;\n",
       "  text-decoration: none !important;\n",
       "  margin-left: 0.5em;\n",
       "  text-align: center;\n",
       "  /* unfitted */\n",
       "  border: var(--sklearn-color-unfitted-level-1) 1pt solid;\n",
       "  color: var(--sklearn-color-unfitted-level-1);\n",
       "}\n",
       "\n",
       ".sk-estimator-doc-link.fitted,\n",
       "a:link.sk-estimator-doc-link.fitted,\n",
       "a:visited.sk-estimator-doc-link.fitted {\n",
       "  /* fitted */\n",
       "  border: var(--sklearn-color-fitted-level-1) 1pt solid;\n",
       "  color: var(--sklearn-color-fitted-level-1);\n",
       "}\n",
       "\n",
       "/* On hover */\n",
       "div.sk-estimator:hover .sk-estimator-doc-link:hover,\n",
       ".sk-estimator-doc-link:hover,\n",
       "div.sk-label-container:hover .sk-estimator-doc-link:hover,\n",
       ".sk-estimator-doc-link:hover {\n",
       "  /* unfitted */\n",
       "  background-color: var(--sklearn-color-unfitted-level-3);\n",
       "  color: var(--sklearn-color-background);\n",
       "  text-decoration: none;\n",
       "}\n",
       "\n",
       "div.sk-estimator.fitted:hover .sk-estimator-doc-link.fitted:hover,\n",
       ".sk-estimator-doc-link.fitted:hover,\n",
       "div.sk-label-container:hover .sk-estimator-doc-link.fitted:hover,\n",
       ".sk-estimator-doc-link.fitted:hover {\n",
       "  /* fitted */\n",
       "  background-color: var(--sklearn-color-fitted-level-3);\n",
       "  color: var(--sklearn-color-background);\n",
       "  text-decoration: none;\n",
       "}\n",
       "\n",
       "/* Span, style for the box shown on hovering the info icon */\n",
       ".sk-estimator-doc-link span {\n",
       "  display: none;\n",
       "  z-index: 9999;\n",
       "  position: relative;\n",
       "  font-weight: normal;\n",
       "  right: .2ex;\n",
       "  padding: .5ex;\n",
       "  margin: .5ex;\n",
       "  width: min-content;\n",
       "  min-width: 20ex;\n",
       "  max-width: 50ex;\n",
       "  color: var(--sklearn-color-text);\n",
       "  box-shadow: 2pt 2pt 4pt #999;\n",
       "  /* unfitted */\n",
       "  background: var(--sklearn-color-unfitted-level-0);\n",
       "  border: .5pt solid var(--sklearn-color-unfitted-level-3);\n",
       "}\n",
       "\n",
       ".sk-estimator-doc-link.fitted span {\n",
       "  /* fitted */\n",
       "  background: var(--sklearn-color-fitted-level-0);\n",
       "  border: var(--sklearn-color-fitted-level-3);\n",
       "}\n",
       "\n",
       ".sk-estimator-doc-link:hover span {\n",
       "  display: block;\n",
       "}\n",
       "\n",
       "/* \"?\"-specific style due to the `<a>` HTML tag */\n",
       "\n",
       "#sk-container-id-1 a.estimator_doc_link {\n",
       "  float: right;\n",
       "  font-size: 1rem;\n",
       "  line-height: 1em;\n",
       "  font-family: monospace;\n",
       "  background-color: var(--sklearn-color-background);\n",
       "  border-radius: 1rem;\n",
       "  height: 1rem;\n",
       "  width: 1rem;\n",
       "  text-decoration: none;\n",
       "  /* unfitted */\n",
       "  color: var(--sklearn-color-unfitted-level-1);\n",
       "  border: var(--sklearn-color-unfitted-level-1) 1pt solid;\n",
       "}\n",
       "\n",
       "#sk-container-id-1 a.estimator_doc_link.fitted {\n",
       "  /* fitted */\n",
       "  border: var(--sklearn-color-fitted-level-1) 1pt solid;\n",
       "  color: var(--sklearn-color-fitted-level-1);\n",
       "}\n",
       "\n",
       "/* On hover */\n",
       "#sk-container-id-1 a.estimator_doc_link:hover {\n",
       "  /* unfitted */\n",
       "  background-color: var(--sklearn-color-unfitted-level-3);\n",
       "  color: var(--sklearn-color-background);\n",
       "  text-decoration: none;\n",
       "}\n",
       "\n",
       "#sk-container-id-1 a.estimator_doc_link.fitted:hover {\n",
       "  /* fitted */\n",
       "  background-color: var(--sklearn-color-fitted-level-3);\n",
       "}\n",
       "</style><div id=\"sk-container-id-1\" class=\"sk-top-container\"><div class=\"sk-text-repr-fallback\"><pre>GridSearchCV(cv=5, estimator=Pipeline(steps=[(&#x27;models&#x27;, LogisticRegression())]),\n",
       "             n_jobs=-1,\n",
       "             param_grid=[{&#x27;models&#x27;: [LogisticRegression()],\n",
       "                          &#x27;models__C&#x27;: [0.1, 1, 10, 100],\n",
       "                          &#x27;models__penalty&#x27;: [&#x27;l2&#x27;]},\n",
       "                         {&#x27;models&#x27;: [LogisticRegression()],\n",
       "                          &#x27;models__penalty&#x27;: [&#x27;none&#x27;]},\n",
       "                         {&#x27;models&#x27;: [&lt;catboost.core.CatBoostClassifier object at 0x7f86a67f8730&gt;],\n",
       "                          &#x27;models__iterations&#x27;: [range(100, 601, 100)]}],\n",
       "             scoring=&#x27;f1&#x27;)</pre><b>In a Jupyter environment, please rerun this cell to show the HTML representation or trust the notebook. <br />On GitHub, the HTML representation is unable to render, please try loading this page with nbviewer.org.</b></div><div class=\"sk-container\" hidden><div class=\"sk-item sk-dashed-wrapped\"><div class=\"sk-label-container\"><div class=\"sk-label fitted sk-toggleable\"><input class=\"sk-toggleable__control sk-hidden--visually\" id=\"sk-estimator-id-1\" type=\"checkbox\" ><label for=\"sk-estimator-id-1\" class=\"sk-toggleable__label fitted sk-toggleable__label-arrow\"><div><div>GridSearchCV</div></div><div><a class=\"sk-estimator-doc-link fitted\" rel=\"noreferrer\" target=\"_blank\" href=\"https://scikit-learn.org/1.6/modules/generated/sklearn.model_selection.GridSearchCV.html\">?<span>Documentation for GridSearchCV</span></a><span class=\"sk-estimator-doc-link fitted\">i<span>Fitted</span></span></div></label><div class=\"sk-toggleable__content fitted\"><pre>GridSearchCV(cv=5, estimator=Pipeline(steps=[(&#x27;models&#x27;, LogisticRegression())]),\n",
       "             n_jobs=-1,\n",
       "             param_grid=[{&#x27;models&#x27;: [LogisticRegression()],\n",
       "                          &#x27;models__C&#x27;: [0.1, 1, 10, 100],\n",
       "                          &#x27;models__penalty&#x27;: [&#x27;l2&#x27;]},\n",
       "                         {&#x27;models&#x27;: [LogisticRegression()],\n",
       "                          &#x27;models__penalty&#x27;: [&#x27;none&#x27;]},\n",
       "                         {&#x27;models&#x27;: [&lt;catboost.core.CatBoostClassifier object at 0x7f86a67f8730&gt;],\n",
       "                          &#x27;models__iterations&#x27;: [range(100, 601, 100)]}],\n",
       "             scoring=&#x27;f1&#x27;)</pre></div> </div></div><div class=\"sk-parallel\"><div class=\"sk-parallel-item\"><div class=\"sk-item\"><div class=\"sk-label-container\"><div class=\"sk-label fitted sk-toggleable\"><input class=\"sk-toggleable__control sk-hidden--visually\" id=\"sk-estimator-id-2\" type=\"checkbox\" ><label for=\"sk-estimator-id-2\" class=\"sk-toggleable__label fitted sk-toggleable__label-arrow\"><div><div>best_estimator_: Pipeline</div></div></label><div class=\"sk-toggleable__content fitted\"><pre>Pipeline(steps=[(&#x27;models&#x27;, LogisticRegression(C=10))])</pre></div> </div></div><div class=\"sk-serial\"><div class=\"sk-item\"><div class=\"sk-serial\"><div class=\"sk-item\"><div class=\"sk-estimator fitted sk-toggleable\"><input class=\"sk-toggleable__control sk-hidden--visually\" id=\"sk-estimator-id-3\" type=\"checkbox\" ><label for=\"sk-estimator-id-3\" class=\"sk-toggleable__label fitted sk-toggleable__label-arrow\"><div><div>LogisticRegression</div></div><div><a class=\"sk-estimator-doc-link fitted\" rel=\"noreferrer\" target=\"_blank\" href=\"https://scikit-learn.org/1.6/modules/generated/sklearn.linear_model.LogisticRegression.html\">?<span>Documentation for LogisticRegression</span></a></div></label><div class=\"sk-toggleable__content fitted\"><pre>LogisticRegression(C=10)</pre></div> </div></div></div></div></div></div></div></div></div></div></div>"
      ],
      "text/plain": [
       "GridSearchCV(cv=5, estimator=Pipeline(steps=[('models', LogisticRegression())]),\n",
       "             n_jobs=-1,\n",
       "             param_grid=[{'models': [LogisticRegression()],\n",
       "                          'models__C': [0.1, 1, 10, 100],\n",
       "                          'models__penalty': ['l2']},\n",
       "                         {'models': [LogisticRegression()],\n",
       "                          'models__penalty': ['none']},\n",
       "                         {'models': [<catboost.core.CatBoostClassifier object at 0x7f86a67f8730>],\n",
       "                          'models__iterations': [range(100, 601, 100)]}],\n",
       "             scoring='f1')"
      ]
     },
     "execution_count": 40,
     "metadata": {},
     "output_type": "execute_result"
    }
   ],
   "source": [
    "#Разработаем пайплайн для обучения модели логистической регрессии\n",
    "\n",
    "pipe_final= Pipeline([\n",
    "    ('models', LogisticRegression())\n",
    "])\n",
    "\n",
    "params = [\n",
    "    {\n",
    "        'models': [LogisticRegression()],\n",
    "        'models__penalty': ['l2'],\n",
    "        'models__C': [0.1, 1, 10, 100]\n",
    "    },\n",
    "    {\n",
    "        'models': [LogisticRegression()],\n",
    "        'models__penalty': ['none']\n",
    "    },\n",
    "    {\n",
    "        'models': [CatBoostClassifier(random_state = RANDOM_STATE)],\n",
    "        'models__iterations': [range(100, 601, 100)]\n",
    "    }\n",
    "] \n",
    "\n",
    "search = GridSearchCV(\n",
    "    pipe_final, \n",
    "    params, \n",
    "    cv = 5,\n",
    "    scoring='f1', \n",
    "    n_jobs=-1\n",
    ")\n",
    "search.fit(tf_idf, y_train)"
   ]
  },
  {
   "cell_type": "code",
   "execution_count": 41,
   "metadata": {},
   "outputs": [
    {
     "data": {
      "text/plain": [
       "0.7753572915221313"
      ]
     },
     "execution_count": 41,
     "metadata": {},
     "output_type": "execute_result"
    }
   ],
   "source": [
    "prediction = search.predict(tf_idf_test)\n",
    "f1_score(y_test, prediction)"
   ]
  },
  {
   "cell_type": "markdown",
   "metadata": {},
   "source": [
    "## Выводы"
   ]
  },
  {
   "cell_type": "markdown",
   "metadata": {},
   "source": [
    "Изученный датасет состоит из 159292 записей, пропуски отсутствуют. Типы данных соответствуют содержимому, а значит не требуют коррекции. Названия столбцов соответствуют змеиному регистру. Проверили наличие дубликатов в датасете и пропусков (т.к. нумерация не соответствует количеству записей в датасете): пропуски и дубликаты отсутствуют.\n",
    "\n",
    "В ходе анализа был выявлен дисбаланс  целевой переменной (между негативными и позитивными комментариями), этот факт нужно было так же учесть при работе.\n",
    "\n",
    "Далее была проведена лемматизация данных и очистка от регулярных выражений, после чего провели разделение выборки и обучение модели Логистической регрессии, которая показала результат f1: 0,77 - что соответствует требованиям задания (F1 должен быть не меньше 0,75)\n",
    "\n",
    "Обученная модель может быть использована для детекции токсичных комментариев.\n"
   ]
  }
 ],
 "metadata": {
  "ExecuteTimeLog": [
   {
    "duration": 2127,
    "start_time": "2025-02-05T22:27:45.428Z"
   },
   {
    "duration": 12,
    "start_time": "2025-02-05T22:28:30.524Z"
   },
   {
    "duration": 946,
    "start_time": "2025-02-05T22:29:19.923Z"
   },
   {
    "duration": 941,
    "start_time": "2025-02-05T22:29:34.004Z"
   },
   {
    "duration": 34,
    "start_time": "2025-02-05T22:31:24.361Z"
   },
   {
    "duration": 31,
    "start_time": "2025-02-05T22:36:55.224Z"
   },
   {
    "duration": 247,
    "start_time": "2025-02-05T22:37:31.963Z"
   },
   {
    "duration": 130,
    "start_time": "2025-02-05T22:42:53.545Z"
   },
   {
    "duration": 198,
    "start_time": "2025-02-05T22:47:10.429Z"
   },
   {
    "duration": 981,
    "start_time": "2025-02-05T22:47:13.892Z"
   },
   {
    "duration": 885,
    "start_time": "2025-02-05T22:47:18.901Z"
   },
   {
    "duration": 35,
    "start_time": "2025-02-05T22:47:24.644Z"
   },
   {
    "duration": 29,
    "start_time": "2025-02-05T22:47:27.653Z"
   },
   {
    "duration": 218,
    "start_time": "2025-02-05T22:47:28.461Z"
   },
   {
    "duration": 21,
    "start_time": "2025-02-05T22:47:30.293Z"
   },
   {
    "duration": 29,
    "start_time": "2025-02-05T22:47:50.971Z"
   },
   {
    "duration": 911,
    "start_time": "2025-02-05T22:47:52.118Z"
   },
   {
    "duration": 33,
    "start_time": "2025-02-05T22:47:53.324Z"
   },
   {
    "duration": 28,
    "start_time": "2025-02-05T22:47:54.417Z"
   },
   {
    "duration": 216,
    "start_time": "2025-02-05T22:47:54.965Z"
   },
   {
    "duration": 295,
    "start_time": "2025-02-05T22:47:56.036Z"
   },
   {
    "duration": 5,
    "start_time": "2025-02-05T22:48:42.652Z"
   },
   {
    "duration": 276,
    "start_time": "2025-02-05T22:49:18.455Z"
   },
   {
    "duration": 6,
    "start_time": "2025-02-05T22:49:49.659Z"
   },
   {
    "duration": 4,
    "start_time": "2025-02-05T22:56:32.130Z"
   },
   {
    "duration": 4,
    "start_time": "2025-02-05T22:56:32.921Z"
   },
   {
    "duration": 271,
    "start_time": "2025-02-05T22:56:47.393Z"
   },
   {
    "duration": 4,
    "start_time": "2025-02-05T22:57:13.908Z"
   },
   {
    "duration": 858,
    "start_time": "2025-02-05T22:57:14.473Z"
   },
   {
    "duration": 33,
    "start_time": "2025-02-05T22:57:15.842Z"
   },
   {
    "duration": 29,
    "start_time": "2025-02-05T22:57:16.961Z"
   },
   {
    "duration": 224,
    "start_time": "2025-02-05T22:57:17.546Z"
   },
   {
    "duration": 247,
    "start_time": "2025-02-05T22:57:18.713Z"
   },
   {
    "duration": 6,
    "start_time": "2025-02-05T22:57:19.568Z"
   },
   {
    "duration": 1086139,
    "start_time": "2025-02-05T22:57:21.298Z"
   },
   {
    "duration": 37,
    "start_time": "2025-02-05T23:17:29.439Z"
   },
   {
    "duration": 5,
    "start_time": "2025-02-05T23:22:26.994Z"
   },
   {
    "duration": 6,
    "start_time": "2025-02-05T23:22:38.602Z"
   },
   {
    "duration": 57,
    "start_time": "2025-02-05T23:28:29.714Z"
   },
   {
    "duration": 22,
    "start_time": "2025-02-05T23:28:52.529Z"
   },
   {
    "duration": 153,
    "start_time": "2025-02-05T23:28:59.561Z"
   },
   {
    "duration": 52,
    "start_time": "2025-02-05T23:29:06.499Z"
   },
   {
    "duration": 4,
    "start_time": "2025-02-05T23:31:10.297Z"
   },
   {
    "duration": 10,
    "start_time": "2025-02-05T23:35:34.049Z"
   },
   {
    "duration": 3,
    "start_time": "2025-02-05T23:35:53.660Z"
   },
   {
    "duration": 5008,
    "start_time": "2025-02-05T23:35:54.489Z"
   },
   {
    "duration": 1603,
    "start_time": "2025-02-05T23:38:28.016Z"
   },
   {
    "duration": 943696,
    "start_time": "2025-02-05T23:40:35.613Z"
   },
   {
    "duration": 21,
    "start_time": "2025-02-06T00:15:28.124Z"
   },
   {
    "duration": 5,
    "start_time": "2025-02-06T00:15:45.555Z"
   },
   {
    "duration": 17,
    "start_time": "2025-02-06T00:16:35.767Z"
   },
   {
    "duration": 2586,
    "start_time": "2025-02-06T07:39:43.839Z"
   },
   {
    "duration": 5,
    "start_time": "2025-02-06T07:39:46.427Z"
   },
   {
    "duration": 5,
    "start_time": "2025-02-06T07:39:46.434Z"
   },
   {
    "duration": 930,
    "start_time": "2025-02-06T07:39:46.441Z"
   },
   {
    "duration": 35,
    "start_time": "2025-02-06T07:39:47.373Z"
   },
   {
    "duration": 28,
    "start_time": "2025-02-06T07:39:47.410Z"
   },
   {
    "duration": 267,
    "start_time": "2025-02-06T07:39:47.462Z"
   },
   {
    "duration": 268,
    "start_time": "2025-02-06T07:39:47.730Z"
   },
   {
    "duration": 8,
    "start_time": "2025-02-06T07:39:48.000Z"
   },
   {
    "duration": 1487,
    "start_time": "2025-02-06T07:39:48.011Z"
   },
   {
    "duration": 0,
    "start_time": "2025-02-06T07:39:49.500Z"
   },
   {
    "duration": 0,
    "start_time": "2025-02-06T07:39:49.501Z"
   },
   {
    "duration": 0,
    "start_time": "2025-02-06T07:39:49.502Z"
   },
   {
    "duration": 0,
    "start_time": "2025-02-06T07:39:49.503Z"
   },
   {
    "duration": 0,
    "start_time": "2025-02-06T07:39:49.504Z"
   },
   {
    "duration": 0,
    "start_time": "2025-02-06T07:39:49.505Z"
   },
   {
    "duration": 0,
    "start_time": "2025-02-06T07:39:49.506Z"
   },
   {
    "duration": 2372,
    "start_time": "2025-02-06T07:55:09.431Z"
   },
   {
    "duration": 3,
    "start_time": "2025-02-06T07:55:11.805Z"
   },
   {
    "duration": 114,
    "start_time": "2025-02-06T07:55:11.810Z"
   },
   {
    "duration": 998,
    "start_time": "2025-02-06T07:55:11.927Z"
   },
   {
    "duration": 34,
    "start_time": "2025-02-06T07:55:12.927Z"
   },
   {
    "duration": 29,
    "start_time": "2025-02-06T07:55:12.962Z"
   },
   {
    "duration": 247,
    "start_time": "2025-02-06T07:55:12.993Z"
   },
   {
    "duration": 275,
    "start_time": "2025-02-06T07:55:13.242Z"
   },
   {
    "duration": 7,
    "start_time": "2025-02-06T07:55:13.520Z"
   },
   {
    "duration": 1401,
    "start_time": "2025-02-06T07:55:13.530Z"
   },
   {
    "duration": 0,
    "start_time": "2025-02-06T07:55:14.932Z"
   },
   {
    "duration": 0,
    "start_time": "2025-02-06T07:55:14.933Z"
   },
   {
    "duration": 0,
    "start_time": "2025-02-06T07:55:14.934Z"
   },
   {
    "duration": 0,
    "start_time": "2025-02-06T07:55:14.936Z"
   },
   {
    "duration": 0,
    "start_time": "2025-02-06T07:55:14.937Z"
   },
   {
    "duration": 0,
    "start_time": "2025-02-06T07:55:14.938Z"
   },
   {
    "duration": 0,
    "start_time": "2025-02-06T07:55:14.939Z"
   },
   {
    "duration": 1540,
    "start_time": "2025-02-06T07:56:35.904Z"
   },
   {
    "duration": 1392,
    "start_time": "2025-02-06T07:57:50.265Z"
   },
   {
    "duration": 13,
    "start_time": "2025-02-06T08:00:29.680Z"
   },
   {
    "duration": 4,
    "start_time": "2025-02-06T08:00:31.652Z"
   },
   {
    "duration": 3,
    "start_time": "2025-02-06T08:00:32.383Z"
   },
   {
    "duration": 983,
    "start_time": "2025-02-06T08:00:33.151Z"
   },
   {
    "duration": 32,
    "start_time": "2025-02-06T08:00:35.364Z"
   },
   {
    "duration": 28,
    "start_time": "2025-02-06T08:00:36.955Z"
   },
   {
    "duration": 239,
    "start_time": "2025-02-06T08:00:37.674Z"
   },
   {
    "duration": 244,
    "start_time": "2025-02-06T08:00:38.866Z"
   },
   {
    "duration": 6,
    "start_time": "2025-02-06T08:00:39.725Z"
   },
   {
    "duration": 1641,
    "start_time": "2025-02-06T08:00:41.804Z"
   },
   {
    "duration": 1207301,
    "start_time": "2025-02-06T08:01:10.274Z"
   },
   {
    "duration": 33,
    "start_time": "2025-02-06T08:23:24.336Z"
   },
   {
    "duration": 47,
    "start_time": "2025-02-06T08:23:28.793Z"
   },
   {
    "duration": 4,
    "start_time": "2025-02-06T08:23:29.230Z"
   },
   {
    "duration": 5667,
    "start_time": "2025-02-06T08:23:29.685Z"
   },
   {
    "duration": 1754,
    "start_time": "2025-02-06T08:23:35.356Z"
   },
   {
    "duration": 962547,
    "start_time": "2025-02-06T08:23:37.112Z"
   },
   {
    "duration": 111,
    "start_time": "2025-02-06T08:39:39.661Z"
   },
   {
    "duration": 2484,
    "start_time": "2025-02-07T08:33:58.346Z"
   },
   {
    "duration": 4,
    "start_time": "2025-02-07T08:34:00.832Z"
   },
   {
    "duration": 16,
    "start_time": "2025-02-07T08:34:00.837Z"
   },
   {
    "duration": 1303,
    "start_time": "2025-02-07T08:34:00.854Z"
   },
   {
    "duration": 35,
    "start_time": "2025-02-07T08:34:02.210Z"
   },
   {
    "duration": 90,
    "start_time": "2025-02-07T08:34:02.246Z"
   },
   {
    "duration": 464,
    "start_time": "2025-02-07T08:34:02.338Z"
   },
   {
    "duration": 355,
    "start_time": "2025-02-07T08:34:02.803Z"
   },
   {
    "duration": 7,
    "start_time": "2025-02-07T08:34:03.159Z"
   },
   {
    "duration": 1128188,
    "start_time": "2025-02-07T08:34:03.169Z"
   },
   {
    "duration": 32,
    "start_time": "2025-02-07T08:52:51.358Z"
   },
   {
    "duration": 55,
    "start_time": "2025-02-07T08:52:51.392Z"
   },
   {
    "duration": 3,
    "start_time": "2025-02-07T08:52:51.449Z"
   },
   {
    "duration": 4926,
    "start_time": "2025-02-07T08:52:51.453Z"
   },
   {
    "duration": 1545,
    "start_time": "2025-02-07T08:52:56.380Z"
   },
   {
    "duration": 962585,
    "start_time": "2025-02-07T08:52:57.927Z"
   },
   {
    "duration": 112,
    "start_time": "2025-02-07T09:09:00.514Z"
   },
   {
    "duration": 10868,
    "start_time": "2025-02-12T18:56:25.803Z"
   },
   {
    "duration": 77,
    "start_time": "2025-02-12T18:56:36.673Z"
   },
   {
    "duration": 195,
    "start_time": "2025-02-12T18:56:36.752Z"
   },
   {
    "duration": 2927,
    "start_time": "2025-02-12T18:56:36.950Z"
   },
   {
    "duration": 101,
    "start_time": "2025-02-12T18:56:39.947Z"
   },
   {
    "duration": 103,
    "start_time": "2025-02-12T18:56:40.050Z"
   },
   {
    "duration": 1206,
    "start_time": "2025-02-12T18:56:40.155Z"
   },
   {
    "duration": 2006,
    "start_time": "2025-02-12T18:56:41.363Z"
   },
   {
    "duration": 6,
    "start_time": "2025-02-12T18:56:43.370Z"
   },
   {
    "duration": 16994,
    "start_time": "2025-02-12T21:09:48.358Z"
   },
   {
    "duration": 1303,
    "start_time": "2025-02-12T21:10:05.354Z"
   },
   {
    "duration": 0,
    "start_time": "2025-02-12T21:10:06.750Z"
   },
   {
    "duration": 0,
    "start_time": "2025-02-12T21:10:06.751Z"
   },
   {
    "duration": 0,
    "start_time": "2025-02-12T21:10:06.751Z"
   },
   {
    "duration": 0,
    "start_time": "2025-02-12T21:10:06.752Z"
   },
   {
    "duration": 0,
    "start_time": "2025-02-12T21:10:06.754Z"
   },
   {
    "duration": 0,
    "start_time": "2025-02-12T21:10:06.755Z"
   },
   {
    "duration": 0,
    "start_time": "2025-02-12T21:10:06.848Z"
   },
   {
    "duration": 0,
    "start_time": "2025-02-12T21:10:06.850Z"
   },
   {
    "duration": 0,
    "start_time": "2025-02-12T21:10:06.851Z"
   },
   {
    "duration": 0,
    "start_time": "2025-02-12T21:10:06.853Z"
   },
   {
    "duration": 0,
    "start_time": "2025-02-12T21:10:06.855Z"
   },
   {
    "duration": 0,
    "start_time": "2025-02-12T21:10:06.856Z"
   },
   {
    "duration": 0,
    "start_time": "2025-02-12T21:10:06.858Z"
   },
   {
    "duration": 0,
    "start_time": "2025-02-12T21:10:06.860Z"
   },
   {
    "duration": 0,
    "start_time": "2025-02-12T21:10:06.861Z"
   },
   {
    "duration": 0,
    "start_time": "2025-02-12T21:10:06.862Z"
   },
   {
    "duration": 9,
    "start_time": "2025-02-12T21:11:11.649Z"
   },
   {
    "duration": 102,
    "start_time": "2025-02-12T21:11:13.049Z"
   },
   {
    "duration": 202,
    "start_time": "2025-02-12T21:12:16.349Z"
   },
   {
    "duration": 108,
    "start_time": "2025-02-12T21:12:18.050Z"
   },
   {
    "duration": 199,
    "start_time": "2025-02-12T21:12:45.949Z"
   },
   {
    "duration": 108,
    "start_time": "2025-02-12T21:12:47.748Z"
   },
   {
    "duration": 110,
    "start_time": "2025-02-12T21:13:02.149Z"
   },
   {
    "duration": 107,
    "start_time": "2025-02-12T21:13:08.749Z"
   },
   {
    "duration": 11,
    "start_time": "2025-02-12T21:14:15.948Z"
   },
   {
    "duration": 810,
    "start_time": "2025-02-12T21:14:58.349Z"
   },
   {
    "duration": 696,
    "start_time": "2025-02-12T21:15:11.457Z"
   },
   {
    "duration": 10,
    "start_time": "2025-02-12T21:15:49.549Z"
   },
   {
    "duration": 16207,
    "start_time": "2025-02-12T21:16:57.655Z"
   },
   {
    "duration": 5,
    "start_time": "2025-02-12T21:17:13.950Z"
   },
   {
    "duration": 92,
    "start_time": "2025-02-12T21:17:13.959Z"
   },
   {
    "duration": 9090,
    "start_time": "2025-02-12T21:17:14.059Z"
   },
   {
    "duration": 392,
    "start_time": "2025-02-12T21:17:23.159Z"
   },
   {
    "duration": 290,
    "start_time": "2025-02-12T21:17:23.557Z"
   },
   {
    "duration": 2011,
    "start_time": "2025-02-12T21:17:23.854Z"
   },
   {
    "duration": 4915,
    "start_time": "2025-02-12T21:17:25.947Z"
   },
   {
    "duration": 9,
    "start_time": "2025-02-12T21:17:30.949Z"
   },
   {
    "duration": 2313,
    "start_time": "2025-02-13T19:38:51.882Z"
   },
   {
    "duration": 3,
    "start_time": "2025-02-13T19:38:54.197Z"
   },
   {
    "duration": 8,
    "start_time": "2025-02-13T19:38:54.201Z"
   },
   {
    "duration": 938,
    "start_time": "2025-02-13T19:38:54.210Z"
   },
   {
    "duration": 31,
    "start_time": "2025-02-13T19:38:55.150Z"
   },
   {
    "duration": 42,
    "start_time": "2025-02-13T19:38:55.183Z"
   },
   {
    "duration": 239,
    "start_time": "2025-02-13T19:38:55.226Z"
   },
   {
    "duration": 273,
    "start_time": "2025-02-13T19:38:55.467Z"
   },
   {
    "duration": 6,
    "start_time": "2025-02-13T19:38:55.741Z"
   },
   {
    "duration": 1083680,
    "start_time": "2025-02-13T19:38:55.749Z"
   },
   {
    "duration": 34,
    "start_time": "2025-02-13T19:56:59.430Z"
   },
   {
    "duration": 62,
    "start_time": "2025-02-13T19:56:59.466Z"
   },
   {
    "duration": 3,
    "start_time": "2025-02-13T19:56:59.530Z"
   },
   {
    "duration": 136,
    "start_time": "2025-02-13T19:56:59.535Z"
   },
   {
    "duration": 1,
    "start_time": "2025-02-13T19:56:59.673Z"
   },
   {
    "duration": 0,
    "start_time": "2025-02-13T19:56:59.674Z"
   },
   {
    "duration": 0,
    "start_time": "2025-02-13T19:56:59.676Z"
   },
   {
    "duration": 52,
    "start_time": "2025-02-13T20:00:15.824Z"
   },
   {
    "duration": 2,
    "start_time": "2025-02-13T20:00:16.623Z"
   },
   {
    "duration": 13,
    "start_time": "2025-02-13T20:00:17.870Z"
   },
   {
    "duration": 10,
    "start_time": "2025-02-13T20:00:26.800Z"
   },
   {
    "duration": 52,
    "start_time": "2025-02-13T20:00:29.802Z"
   },
   {
    "duration": 3,
    "start_time": "2025-02-13T20:00:31.392Z"
   },
   {
    "duration": 13,
    "start_time": "2025-02-13T20:00:32.096Z"
   },
   {
    "duration": 12,
    "start_time": "2025-02-13T20:00:33.178Z"
   },
   {
    "duration": 11,
    "start_time": "2025-02-13T20:01:16.257Z"
   },
   {
    "duration": 4,
    "start_time": "2025-02-13T20:01:21.831Z"
   },
   {
    "duration": 3,
    "start_time": "2025-02-13T20:01:22.261Z"
   },
   {
    "duration": 886,
    "start_time": "2025-02-13T20:01:22.683Z"
   },
   {
    "duration": 32,
    "start_time": "2025-02-13T20:01:26.589Z"
   },
   {
    "duration": 28,
    "start_time": "2025-02-13T20:01:27.736Z"
   },
   {
    "duration": 234,
    "start_time": "2025-02-13T20:01:28.713Z"
   },
   {
    "duration": 291,
    "start_time": "2025-02-13T20:01:32.865Z"
   },
   {
    "duration": 6,
    "start_time": "2025-02-13T20:01:33.537Z"
   },
   {
    "duration": 1075887,
    "start_time": "2025-02-13T20:01:34.740Z"
   },
   {
    "duration": 38,
    "start_time": "2025-02-13T20:19:35.689Z"
   },
   {
    "duration": 88,
    "start_time": "2025-02-13T20:19:47.137Z"
   },
   {
    "duration": 3,
    "start_time": "2025-02-13T20:19:50.625Z"
   },
   {
    "duration": 12,
    "start_time": "2025-02-13T20:19:51.809Z"
   },
   {
    "duration": 53,
    "start_time": "2025-02-13T20:26:23.951Z"
   },
   {
    "duration": 4881,
    "start_time": "2025-02-13T20:26:24.648Z"
   },
   {
    "duration": 1602,
    "start_time": "2025-02-13T20:26:33.200Z"
   },
   {
    "duration": 410337,
    "start_time": "2025-02-13T20:26:42.279Z"
   },
   {
    "duration": 17,
    "start_time": "2025-02-13T20:33:37.720Z"
   }
  ],
  "kernelspec": {
   "display_name": "Python 3 (ipykernel)",
   "language": "python",
   "name": "python3"
  },
  "language_info": {
   "codemirror_mode": {
    "name": "ipython",
    "version": 3
   },
   "file_extension": ".py",
   "mimetype": "text/x-python",
   "name": "python",
   "nbconvert_exporter": "python",
   "pygments_lexer": "ipython3",
   "version": "3.9.5"
  },
  "toc": {
   "base_numbering": 1,
   "nav_menu": {},
   "number_sections": true,
   "sideBar": true,
   "skip_h1_title": true,
   "title_cell": "Содержание",
   "title_sidebar": "Contents",
   "toc_cell": true,
   "toc_position": {
    "height": "calc(100% - 180px)",
    "left": "10px",
    "top": "150px",
    "width": "302.391px"
   },
   "toc_section_display": true,
   "toc_window_display": true
  }
 },
 "nbformat": 4,
 "nbformat_minor": 2
}
